{
 "cells": [
  {
   "cell_type": "code",
   "execution_count": 21,
   "metadata": {
    "collapsed": true
   },
   "outputs": [],
   "source": [
    "import pandas as pd"
   ]
  },
  {
   "cell_type": "code",
   "execution_count": 22,
   "metadata": {
    "collapsed": true
   },
   "outputs": [],
   "source": [
    "import re\n",
    "contents=[]\n",
    "with open('am_players_scrape.txt','r',encoding='utf-8') as rf:\n",
    "    for line in rf:\n",
    "        cont = re.sub('\\s{2,5}',', ',line)\n",
    "        cont = cont.replace('\\n','')\n",
    "        cont = cont.split(', ')\n",
    "        contents.append(cont)"
   ]
  },
  {
   "cell_type": "code",
   "execution_count": 23,
   "metadata": {
    "collapsed": true
   },
   "outputs": [],
   "source": [
    "contents=contents[:-1]"
   ]
  },
  {
   "cell_type": "code",
   "execution_count": 24,
   "metadata": {
    "collapsed": true
   },
   "outputs": [],
   "source": [
    "df = pd.DataFrame(contents,columns=['Name','Location'])"
   ]
  },
  {
   "cell_type": "code",
   "execution_count": 25,
   "metadata": {
    "collapsed": true
   },
   "outputs": [],
   "source": [
    "df['Team']='America'"
   ]
  },
  {
   "cell_type": "code",
   "execution_count": 27,
   "metadata": {
    "collapsed": true
   },
   "outputs": [],
   "source": [
    "import re\n",
    "contents=[]\n",
    "with open('euro_players_scrape.txt','r',encoding='utf-8') as rf:\n",
    "    for line in rf:\n",
    "        cont = re.sub('\\s{2,5}',', ',line)\n",
    "        cont = cont.replace('\\n','')\n",
    "        cont = cont.split(', ')\n",
    "        contents.append(cont)"
   ]
  },
  {
   "cell_type": "code",
   "execution_count": 28,
   "metadata": {
    "collapsed": true
   },
   "outputs": [],
   "source": [
    "df2 = pd.DataFrame(contents,columns=['Name','Location'])"
   ]
  },
  {
   "cell_type": "code",
   "execution_count": 31,
   "metadata": {
    "collapsed": true
   },
   "outputs": [],
   "source": [
    "df2['Team']='Europe'"
   ]
  },
  {
   "cell_type": "code",
   "execution_count": 32,
   "metadata": {
    "collapsed": true
   },
   "outputs": [],
   "source": [
    "df = pd.concat([df,df2])"
   ]
  },
  {
   "cell_type": "code",
   "execution_count": 67,
   "metadata": {
    "collapsed": true,
    "scrolled": true
   },
   "outputs": [],
   "source": [
    "new=df.set_index('Name')"
   ]
  },
  {
   "cell_type": "code",
   "execution_count": 68,
   "metadata": {
    "collapsed": true
   },
   "outputs": [],
   "source": [
    "new.ix['Charlie Williams','Location']='South Korea'\n",
    "new.ix['Paul Gerni','Location']='New Jersey'"
   ]
  },
  {
   "cell_type": "code",
   "execution_count": 70,
   "metadata": {
    "collapsed": true
   },
   "outputs": [],
   "source": [
    "new=new.reset_index()"
   ]
  },
  {
   "cell_type": "code",
   "execution_count": 71,
   "metadata": {
    "collapsed": true
   },
   "outputs": [],
   "source": [
    "from sqlalchemy import create_engine\n",
    "engine = create_engine('sqlite:///players.db')\n",
    "connection = engine.connect()"
   ]
  },
  {
   "cell_type": "code",
   "execution_count": 72,
   "metadata": {
    "collapsed": true
   },
   "outputs": [],
   "source": [
    "new.to_sql('players',connection,index=False,if_exists='replace')"
   ]
  },
  {
   "cell_type": "code",
   "execution_count": 73,
   "metadata": {
    "collapsed": true
   },
   "outputs": [],
   "source": [
    "res=connection.execute('select * from players')"
   ]
  },
  {
   "cell_type": "code",
   "execution_count": 74,
   "metadata": {
    "scrolled": true
   },
   "outputs": [
    {
     "data": {
      "text/plain": [
       "[('Johnny Archer', 'Georgia', 'America'),\n",
       " ('Earl Strickland', 'North Carolina', 'America'),\n",
       " ('Rodney Morris', 'California', 'America'),\n",
       " ('Shane Van Boening', 'South Dakota', 'America'),\n",
       " ('Corey Deuel', 'California', 'America'),\n",
       " ('Jeremy Jones', 'Texas', 'America'),\n",
       " ('Charlie Williams', 'South Korea', 'America'),\n",
       " ('Nick Varner', 'Kentucky', 'America'),\n",
       " ('Mike Dechaine', 'Maine', 'America'),\n",
       " ('Dennis Hatch', 'Michigan', 'America'),\n",
       " ('Kim Davenport', 'Oklahoma', 'America'),\n",
       " ('Justin Bergman', 'Illinois', 'America'),\n",
       " ('James Rempe', 'Pennsylvania', 'America'),\n",
       " ('Mark Wilson', 'Missouri', 'America'),\n",
       " ('Lou Butera', 'Pennsylvania', 'America'),\n",
       " ('Michael Coltrain', 'North Carolina', 'America'),\n",
       " ('Shannon Daulton', 'Kentucky', 'America'),\n",
       " ('Mike Gulyassy', 'Ohio', 'America'),\n",
       " ('Robert Hunter', 'Michigan', 'America'),\n",
       " ('Mike Massey', 'Tennessee', 'America'),\n",
       " ('Reed Pierce', 'Mississippi', 'America'),\n",
       " ('Shawn Putnam', 'Pennsylvania', 'America'),\n",
       " ('Tony Robles', 'New York', 'America'),\n",
       " ('John Schmidt', 'California', 'America'),\n",
       " ('Dallas West', 'Illinois', 'America'),\n",
       " ('Skyler Woodward', 'Kentucky', 'America'),\n",
       " ('C.J. Wiley', 'Texas', 'America'),\n",
       " ('Mike Davis', 'North Carolina', 'America'),\n",
       " ('John DiToro', 'Florida', 'America'),\n",
       " ('Óscar Domínguez', 'California', 'America'),\n",
       " ('Paul Gerni', 'New Jersey', 'America'),\n",
       " ('Roger Griffis', 'Texas', 'America'),\n",
       " ('Justin Hall', 'Illinois', 'America'),\n",
       " ('Danny Harriman', 'Maryland', 'America'),\n",
       " ('Allen Hopkins', 'New Jersey', 'America'),\n",
       " ('Bobby Hunter', 'Michigan', 'America'),\n",
       " ('Jeanette Lee', 'New York', 'America'),\n",
       " ('Gabe Owen', 'Kansas', 'America'),\n",
       " ('Brandon Shuff', 'Virginia', 'America'),\n",
       " ('Vivian Villarreal', 'Texas', 'America'),\n",
       " ('Buddy Hall', 'Illinois', 'America'),\n",
       " ('Ralf Souquet', 'Germany', 'Europe'),\n",
       " ('Mika Immonen', 'Finland', 'Europe'),\n",
       " ('Niels Feijen', 'Netherlands', 'Europe'),\n",
       " ('Steve Davis', 'England', 'Europe'),\n",
       " ('Oliver Ortmann', 'Germany', 'Europe'),\n",
       " ('Darren Appleton', 'England', 'Europe'),\n",
       " ('Nick van den Berg', 'Netherlands', 'Europe'),\n",
       " ('Marcus Chamat', 'Sweden', 'Europe'),\n",
       " ('Karl Boyes', 'England', 'Europe'),\n",
       " ('Steve Knight', 'England', 'Europe'),\n",
       " ('Thomas Engert', 'Germany', 'Europe'),\n",
       " ('Mark Gray', 'England', 'Europe'),\n",
       " ('Thorsten Hohmann', 'Germany', 'Europe'),\n",
       " ('Alex Lely', 'Netherlands', 'Europe'),\n",
       " ('Albin Ouschan', 'Austria', 'Europe'),\n",
       " ('Tony Drago', 'Malta', 'Europe'),\n",
       " ('Nick Ekonomopoulos', 'Greece', 'Europe'),\n",
       " ('Chris Melling', 'England', 'Europe'),\n",
       " (\"Ronnie O'Sullivan\", 'England', 'Europe'),\n",
       " ('Daryl Peach', 'England', 'Europe'),\n",
       " ('Tom Storm', 'Sweden', 'Europe'),\n",
       " ('Jimmy White', 'England', 'Europe'),\n",
       " ('David Alcaide', 'Spain', 'Europe'),\n",
       " ('Tommy Donlon', 'Ireland', 'Europe'),\n",
       " ('Vincent Facquet', 'France', 'Europe'),\n",
       " ('Allison Fisher', 'England', 'Europe'),\n",
       " ('Alex Higgins', 'Northern Ireland', 'Europe'),\n",
       " ('Raj Hundal', 'England', 'Europe'),\n",
       " ('Lee Kendall', 'England', 'Europe'),\n",
       " ('Imran Majid', 'England', 'Europe'),\n",
       " ('Fabio Petroni', 'Italy', 'Europe'),\n",
       " ('Andy Richardson', 'England', 'Europe'),\n",
       " ('Jayson Shaw', 'Scotland', 'Europe'),\n",
       " ('Franziska Stark', 'Germany', 'Europe'),\n",
       " ('Konstantin Stepanov', 'Russia', 'Europe'),\n",
       " ('Lee Tucker', 'England', 'Europe'),\n",
       " ('Johan Ruijsink', 'Netherlands', 'Europe')]"
      ]
     },
     "execution_count": 74,
     "metadata": {},
     "output_type": "execute_result"
    }
   ],
   "source": [
    "res.fetchall()"
   ]
  },
  {
   "cell_type": "code",
   "execution_count": 75,
   "metadata": {
    "collapsed": true,
    "scrolled": true
   },
   "outputs": [],
   "source": [
    "# connection.execute('delete from players where Name is Null')"
   ]
  },
  {
   "cell_type": "code",
   "execution_count": 76,
   "metadata": {
    "collapsed": true
   },
   "outputs": [],
   "source": [
    "newp=pd.read_sql('players',connection)"
   ]
  },
  {
   "cell_type": "code",
   "execution_count": 83,
   "metadata": {
    "collapsed": true
   },
   "outputs": [],
   "source": [
    "connection.close()"
   ]
  }
 ],
 "metadata": {
  "kernelspec": {
   "display_name": "Python 3",
   "language": "python",
   "name": "python3"
  },
  "language_info": {
   "codemirror_mode": {
    "name": "ipython",
    "version": 3
   },
   "file_extension": ".py",
   "mimetype": "text/x-python",
   "name": "python",
   "nbconvert_exporter": "python",
   "pygments_lexer": "ipython3",
   "version": "3.5.2"
  }
 },
 "nbformat": 4,
 "nbformat_minor": 2
}
