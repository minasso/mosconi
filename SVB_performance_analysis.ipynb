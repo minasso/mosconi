{
 "cells": [
  {
   "cell_type": "markdown",
   "metadata": {},
   "source": [
    "### **Purpose: **America's best player, Shane Van Boening, has been known to play poorly in the Mosconi Cup. This analysis will dive deeper to see which factors are most important in predicting his success."
   ]
  },
  {
   "cell_type": "code",
   "execution_count": 243,
   "metadata": {
    "collapsed": true
   },
   "outputs": [],
   "source": [
    "import pickle\n",
    "import pandas as pd"
   ]
  },
  {
   "cell_type": "code",
   "execution_count": 244,
   "metadata": {
    "collapsed": true
   },
   "outputs": [],
   "source": [
    "df = pickle.load(open('pkl/allyears_clean_locs','rb'))"
   ]
  },
  {
   "cell_type": "code",
   "execution_count": 245,
   "metadata": {
    "collapsed": true
   },
   "outputs": [],
   "source": [
    "df = df[df['American_player'].str.contains('Shane Van Boening')]"
   ]
  },
  {
   "cell_type": "code",
   "execution_count": 246,
   "metadata": {
    "collapsed": true
   },
   "outputs": [],
   "source": [
    "df['Europe_lost']= ~df['Europe_won']\n",
    "df = df[['Format', 'European_player', 'European_score', 'American_score',\n",
    "       'American_player', 'Europe_lost','Europe_won']]\n",
    "df.columns=['Format', 'European_player', 'European_score', 'American_score',\n",
    "       'American_player', 'America_won', 'America_lost']"
   ]
  },
  {
   "cell_type": "code",
   "execution_count": 247,
   "metadata": {
    "collapsed": true
   },
   "outputs": [],
   "source": [
    "def stats(df):\n",
    "    loss,win = df['America_won'].value_counts(sort=False)\n",
    "    mp= win+loss\n",
    "    wl = 'Win-loss: {}-{}'.format(win,loss)\n",
    "    pct = win/(win+loss)*100\n",
    "    pc = round(pct,0)\n",
    "    return('Matches Played: {}'.format(mp),wl,'pct: {}'.format(pc))"
   ]
  },
  {
   "cell_type": "markdown",
   "metadata": {},
   "source": [
    "### Lets have a quick look at Shane's overall stats and check out his singles, doubles, and team stats."
   ]
  },
  {
   "cell_type": "code",
   "execution_count": 248,
   "metadata": {},
   "outputs": [
    {
     "data": {
      "text/plain": [
       "('Matches Played: 60', 'Win-loss: 25-35', 'pct: 42.0')"
      ]
     },
     "execution_count": 248,
     "metadata": {},
     "output_type": "execute_result"
    }
   ],
   "source": [
    "stats(df)"
   ]
  },
  {
   "cell_type": "code",
   "execution_count": 249,
   "metadata": {
    "collapsed": true
   },
   "outputs": [],
   "source": [
    "sing = df[df['Format']=='Singles']\n",
    "dub = df[df['Format']=='Doubles']\n",
    "team = df[df['Format']=='Teams']"
   ]
  },
  {
   "cell_type": "code",
   "execution_count": 250,
   "metadata": {},
   "outputs": [
    {
     "data": {
      "text/plain": [
       "('Matches Played: 25', 'Win-loss: 10-15', 'pct: 40.0')"
      ]
     },
     "execution_count": 250,
     "metadata": {},
     "output_type": "execute_result"
    }
   ],
   "source": [
    "stats(sing)"
   ]
  },
  {
   "cell_type": "code",
   "execution_count": 251,
   "metadata": {},
   "outputs": [
    {
     "data": {
      "text/plain": [
       "('Matches Played: 25', 'Win-loss: 11-14', 'pct: 44.0')"
      ]
     },
     "execution_count": 251,
     "metadata": {},
     "output_type": "execute_result"
    }
   ],
   "source": [
    "stats(dub)"
   ]
  },
  {
   "cell_type": "code",
   "execution_count": 252,
   "metadata": {},
   "outputs": [
    {
     "data": {
      "text/plain": [
       "('Matches Played: 10', 'Win-loss: 4-6', 'pct: 40.0')"
      ]
     },
     "execution_count": 252,
     "metadata": {},
     "output_type": "execute_result"
    }
   ],
   "source": [
    "stats(team)"
   ]
  },
  {
   "cell_type": "markdown",
   "metadata": {},
   "source": [
    "### So he plays slightly better in doubles matches. Let's see if he plays better with certain partners "
   ]
  },
  {
   "cell_type": "code",
   "execution_count": 253,
   "metadata": {
    "collapsed": true
   },
   "outputs": [],
   "source": [
    "dub = dub[['European_player','American_player','America_won','America_lost']]\n",
    "dub['Partner']=dub['American_player'].str.replace('Shane Van Boening','')\n",
    "dub['Partner']=dub['Partner'].str.replace('&','')\n",
    "dub['Partner']=dub['Partner'].str.strip()"
   ]
  },
  {
   "cell_type": "code",
   "execution_count": 254,
   "metadata": {
    "scrolled": true
   },
   "outputs": [
    {
     "data": {
      "text/html": [
       "<div>\n",
       "<table border=\"1\" class=\"dataframe\">\n",
       "  <thead>\n",
       "    <tr style=\"text-align: right;\">\n",
       "      <th></th>\n",
       "      <th></th>\n",
       "      <th></th>\n",
       "      <th>European_player</th>\n",
       "      <th>American_player</th>\n",
       "      <th>America_won</th>\n",
       "      <th>America_lost</th>\n",
       "      <th>Partner</th>\n",
       "    </tr>\n",
       "    <tr>\n",
       "      <th>Year</th>\n",
       "      <th>Location</th>\n",
       "      <th>Match</th>\n",
       "      <th></th>\n",
       "      <th></th>\n",
       "      <th></th>\n",
       "      <th></th>\n",
       "      <th></th>\n",
       "    </tr>\n",
       "  </thead>\n",
       "  <tbody>\n",
       "    <tr>\n",
       "      <th>2015</th>\n",
       "      <th>Las Vegas, Nevada, USA</th>\n",
       "      <th>7</th>\n",
       "      <td>Darren Appleton Karl Boyes</td>\n",
       "      <td>Shane Van Boening Corey Deuel</td>\n",
       "      <td>False</td>\n",
       "      <td>True</td>\n",
       "      <td>Corey Deuel</td>\n",
       "    </tr>\n",
       "    <tr>\n",
       "      <th>2014</th>\n",
       "      <th>Tower Circus, Blackpool, England</th>\n",
       "      <th>9</th>\n",
       "      <td>Darren Appleton &amp; Mark Gray</td>\n",
       "      <td>Shane Van Boening &amp; Corey Deuel</td>\n",
       "      <td>True</td>\n",
       "      <td>False</td>\n",
       "      <td>Corey Deuel</td>\n",
       "    </tr>\n",
       "    <tr>\n",
       "      <th>2010</th>\n",
       "      <th>Bethnal Green, London, England</th>\n",
       "      <th>13</th>\n",
       "      <td>Mika Immonen Nick van den Berg</td>\n",
       "      <td>Shane Van Boening Corey Deuel</td>\n",
       "      <td>False</td>\n",
       "      <td>True</td>\n",
       "      <td>Corey Deuel</td>\n",
       "    </tr>\n",
       "    <tr>\n",
       "      <th>2012</th>\n",
       "      <th>Bethnal Green, London, England</th>\n",
       "      <th>3</th>\n",
       "      <td>Darren Appleton Nick Ekonomopoulos</td>\n",
       "      <td>Dennis Hatch Shane Van Boening</td>\n",
       "      <td>True</td>\n",
       "      <td>False</td>\n",
       "      <td>Dennis Hatch</td>\n",
       "    </tr>\n",
       "    <tr>\n",
       "      <th>2010</th>\n",
       "      <th>Bethnal Green, London, England</th>\n",
       "      <th>10</th>\n",
       "      <td>Darren Appleton Nick van den Berg</td>\n",
       "      <td>Shane Van Boening Dennis Hatch</td>\n",
       "      <td>True</td>\n",
       "      <td>False</td>\n",
       "      <td>Dennis Hatch</td>\n",
       "    </tr>\n",
       "    <tr>\n",
       "      <th>2013</th>\n",
       "      <th>Las Vegas, Nevada, USA</th>\n",
       "      <th>7</th>\n",
       "      <td>Darren Appleton Mika Immonen</td>\n",
       "      <td>Earl Strickland Shane Van Boening</td>\n",
       "      <td>True</td>\n",
       "      <td>False</td>\n",
       "      <td>Earl Strickland</td>\n",
       "    </tr>\n",
       "    <tr>\n",
       "      <th>2007</th>\n",
       "      <th>Las Vegas, Nevada, USA</th>\n",
       "      <th>5</th>\n",
       "      <td>Daryl Peach Ralf Souquet</td>\n",
       "      <td>Earl Strickland Shane Van Boening</td>\n",
       "      <td>False</td>\n",
       "      <td>True</td>\n",
       "      <td>Earl Strickland</td>\n",
       "    </tr>\n",
       "    <tr>\n",
       "      <th>2014</th>\n",
       "      <th>Tower Circus, Blackpool, England</th>\n",
       "      <th>7</th>\n",
       "      <td>Darren Appleton &amp; Nikos Ekonomopoulos</td>\n",
       "      <td>Shane Van Boening &amp; John Schmidt</td>\n",
       "      <td>False</td>\n",
       "      <td>True</td>\n",
       "      <td>John Schmidt</td>\n",
       "    </tr>\n",
       "    <tr>\n",
       "      <th>2009</th>\n",
       "      <th>Las Vegas, Nevada, USA</th>\n",
       "      <th>5</th>\n",
       "      <td>Ralf Souquet Niels Feijen</td>\n",
       "      <td>Shane Van Boening Johnny Archer</td>\n",
       "      <td>True</td>\n",
       "      <td>False</td>\n",
       "      <td>Johnny Archer</td>\n",
       "    </tr>\n",
       "    <tr>\n",
       "      <th>2011</th>\n",
       "      <th>Las Vegas, Nevada, USA</th>\n",
       "      <th>5</th>\n",
       "      <td>Nick van den Berg Niels Feijen</td>\n",
       "      <td>Shane Van Boening Johnny Archer</td>\n",
       "      <td>True</td>\n",
       "      <td>False</td>\n",
       "      <td>Johnny Archer</td>\n",
       "    </tr>\n",
       "    <tr>\n",
       "      <th>2012</th>\n",
       "      <th>Bethnal Green, London, England</th>\n",
       "      <th>9</th>\n",
       "      <td>Darren Appleton Niels Feijen</td>\n",
       "      <td>Shane Van Boening Johnny Archer</td>\n",
       "      <td>True</td>\n",
       "      <td>False</td>\n",
       "      <td>Johnny Archer</td>\n",
       "    </tr>\n",
       "    <tr>\n",
       "      <th>2007</th>\n",
       "      <th>Las Vegas, Nevada, USA</th>\n",
       "      <th>12</th>\n",
       "      <td>Konstantin Stepanov Daryl Peach</td>\n",
       "      <td>Johnny Archer Shane Van Boening</td>\n",
       "      <td>True</td>\n",
       "      <td>False</td>\n",
       "      <td>Johnny Archer</td>\n",
       "    </tr>\n",
       "    <tr>\n",
       "      <th>2010</th>\n",
       "      <th>Bethnal Green, London, England</th>\n",
       "      <th>3</th>\n",
       "      <td>Darren Appleton Karl Boyes</td>\n",
       "      <td>Johnny Archer Shane Van Boening</td>\n",
       "      <td>False</td>\n",
       "      <td>True</td>\n",
       "      <td>Johnny Archer</td>\n",
       "    </tr>\n",
       "    <tr>\n",
       "      <th>2014</th>\n",
       "      <th>Tower Circus, Blackpool, England</th>\n",
       "      <th>3</th>\n",
       "      <td>Niels Feijen &amp; Nikos Ekonomopoulos</td>\n",
       "      <td>Shane Van Boening &amp; Justin Bergman</td>\n",
       "      <td>False</td>\n",
       "      <td>True</td>\n",
       "      <td>Justin Bergman</td>\n",
       "    </tr>\n",
       "    <tr>\n",
       "      <th>2016</th>\n",
       "      <th>Alexandra Palace, London, England</th>\n",
       "      <th>9</th>\n",
       "      <td>Darren Appleton Niels Feijen</td>\n",
       "      <td>Mike Dechaine Shane Van Boening</td>\n",
       "      <td>False</td>\n",
       "      <td>True</td>\n",
       "      <td>Mike Dechaine</td>\n",
       "    </tr>\n",
       "    <tr>\n",
       "      <th>2011</th>\n",
       "      <th>Las Vegas, Nevada, USA</th>\n",
       "      <th>3</th>\n",
       "      <td>Darren Appleton Ralf Souquet</td>\n",
       "      <td>Shane Van Boening Mike Dechaine</td>\n",
       "      <td>False</td>\n",
       "      <td>True</td>\n",
       "      <td>Mike Dechaine</td>\n",
       "    </tr>\n",
       "    <tr>\n",
       "      <th>2015</th>\n",
       "      <th>Las Vegas, Nevada, USA</th>\n",
       "      <th>9</th>\n",
       "      <td>Darren Appleton Nick van den Berg</td>\n",
       "      <td>Shane Van Boening Mike Dechaine</td>\n",
       "      <td>True</td>\n",
       "      <td>False</td>\n",
       "      <td>Mike Dechaine</td>\n",
       "    </tr>\n",
       "    <tr>\n",
       "      <th>2016</th>\n",
       "      <th>Alexandra Palace, London, England</th>\n",
       "      <th>1</th>\n",
       "      <td>Mark Gray Albin Ouschan</td>\n",
       "      <td>Shane Van Boening Rodney Morris</td>\n",
       "      <td>False</td>\n",
       "      <td>True</td>\n",
       "      <td>Rodney Morris</td>\n",
       "    </tr>\n",
       "    <tr>\n",
       "      <th>2013</th>\n",
       "      <th>Las Vegas, Nevada, USA</th>\n",
       "      <th>9</th>\n",
       "      <td>Mika Immonen Karl Boyes</td>\n",
       "      <td>Rodney Morris Shane Van Boening</td>\n",
       "      <td>True</td>\n",
       "      <td>False</td>\n",
       "      <td>Rodney Morris</td>\n",
       "    </tr>\n",
       "    <tr>\n",
       "      <th>2008</th>\n",
       "      <th>St. Julian's, Malta</th>\n",
       "      <th>4</th>\n",
       "      <td>Niels Feijen Ralf Souquet</td>\n",
       "      <td>Shane Van Boening Rodney Morris</td>\n",
       "      <td>False</td>\n",
       "      <td>True</td>\n",
       "      <td>Rodney Morris</td>\n",
       "    </tr>\n",
       "    <tr>\n",
       "      <th>2011</th>\n",
       "      <th>Las Vegas, Nevada, USA</th>\n",
       "      <th>9</th>\n",
       "      <td>Ralf Souquet Chris Melling</td>\n",
       "      <td>Shane Van Boening Rodney Morris</td>\n",
       "      <td>False</td>\n",
       "      <td>True</td>\n",
       "      <td>Rodney Morris</td>\n",
       "    </tr>\n",
       "    <tr>\n",
       "      <th>2008</th>\n",
       "      <th>St. Julian's, Malta</th>\n",
       "      <th>1</th>\n",
       "      <td>Niels Feijen Ralf Souquet</td>\n",
       "      <td>Shane Van Boening Rodney Morris</td>\n",
       "      <td>False</td>\n",
       "      <td>True</td>\n",
       "      <td>Rodney Morris</td>\n",
       "    </tr>\n",
       "    <tr>\n",
       "      <th>2015</th>\n",
       "      <th>Las Vegas, Nevada, USA</th>\n",
       "      <th>3</th>\n",
       "      <td>Darren Appleton Albin Ouschan</td>\n",
       "      <td>Shane Van Boening Skyler Woodward</td>\n",
       "      <td>True</td>\n",
       "      <td>False</td>\n",
       "      <td>Skyler Woodward</td>\n",
       "    </tr>\n",
       "    <tr>\n",
       "      <th>2016</th>\n",
       "      <th>Alexandra Palace, London, England</th>\n",
       "      <th>5</th>\n",
       "      <td>Niels Feijen Mark Gray</td>\n",
       "      <td>Shane Van Boening Skyler Woodward</td>\n",
       "      <td>False</td>\n",
       "      <td>True</td>\n",
       "      <td>Skyler Woodward</td>\n",
       "    </tr>\n",
       "    <tr>\n",
       "      <th>2009</th>\n",
       "      <th>Las Vegas, Nevada, USA</th>\n",
       "      <th>10</th>\n",
       "      <td>Ralf Souquet Mika Immonen</td>\n",
       "      <td>Shane Van Boening Óscar Domínguez</td>\n",
       "      <td>False</td>\n",
       "      <td>True</td>\n",
       "      <td>Óscar Domínguez</td>\n",
       "    </tr>\n",
       "  </tbody>\n",
       "</table>\n",
       "</div>"
      ],
      "text/plain": [
       "                                                                    European_player  \\\n",
       "Year Location                          Match                                          \n",
       "2015 Las Vegas, Nevada, USA            7                 Darren Appleton Karl Boyes   \n",
       "2014 Tower Circus, Blackpool, England  9                Darren Appleton & Mark Gray   \n",
       "2010 Bethnal Green, London, England    13            Mika Immonen Nick van den Berg   \n",
       "2012 Bethnal Green, London, England    3         Darren Appleton Nick Ekonomopoulos   \n",
       "2010 Bethnal Green, London, England    10         Darren Appleton Nick van den Berg   \n",
       "2013 Las Vegas, Nevada, USA            7               Darren Appleton Mika Immonen   \n",
       "2007 Las Vegas, Nevada, USA            5                   Daryl Peach Ralf Souquet   \n",
       "2014 Tower Circus, Blackpool, England  7      Darren Appleton & Nikos Ekonomopoulos   \n",
       "2009 Las Vegas, Nevada, USA            5                  Ralf Souquet Niels Feijen   \n",
       "2011 Las Vegas, Nevada, USA            5             Nick van den Berg Niels Feijen   \n",
       "2012 Bethnal Green, London, England    9               Darren Appleton Niels Feijen   \n",
       "2007 Las Vegas, Nevada, USA            12           Konstantin Stepanov Daryl Peach   \n",
       "2010 Bethnal Green, London, England    3                 Darren Appleton Karl Boyes   \n",
       "2014 Tower Circus, Blackpool, England  3         Niels Feijen & Nikos Ekonomopoulos   \n",
       "2016 Alexandra Palace, London, England 9               Darren Appleton Niels Feijen   \n",
       "2011 Las Vegas, Nevada, USA            3               Darren Appleton Ralf Souquet   \n",
       "2015 Las Vegas, Nevada, USA            9          Darren Appleton Nick van den Berg   \n",
       "2016 Alexandra Palace, London, England 1                    Mark Gray Albin Ouschan   \n",
       "2013 Las Vegas, Nevada, USA            9                    Mika Immonen Karl Boyes   \n",
       "2008 St. Julian's, Malta               4                  Niels Feijen Ralf Souquet   \n",
       "2011 Las Vegas, Nevada, USA            9                 Ralf Souquet Chris Melling   \n",
       "2008 St. Julian's, Malta               1                  Niels Feijen Ralf Souquet   \n",
       "2015 Las Vegas, Nevada, USA            3              Darren Appleton Albin Ouschan   \n",
       "2016 Alexandra Palace, London, England 5                     Niels Feijen Mark Gray   \n",
       "2009 Las Vegas, Nevada, USA            10                 Ralf Souquet Mika Immonen   \n",
       "\n",
       "                                                                 American_player  \\\n",
       "Year Location                          Match                                       \n",
       "2015 Las Vegas, Nevada, USA            7           Shane Van Boening Corey Deuel   \n",
       "2014 Tower Circus, Blackpool, England  9         Shane Van Boening & Corey Deuel   \n",
       "2010 Bethnal Green, London, England    13          Shane Van Boening Corey Deuel   \n",
       "2012 Bethnal Green, London, England    3          Dennis Hatch Shane Van Boening   \n",
       "2010 Bethnal Green, London, England    10         Shane Van Boening Dennis Hatch   \n",
       "2013 Las Vegas, Nevada, USA            7       Earl Strickland Shane Van Boening   \n",
       "2007 Las Vegas, Nevada, USA            5       Earl Strickland Shane Van Boening   \n",
       "2014 Tower Circus, Blackpool, England  7        Shane Van Boening & John Schmidt   \n",
       "2009 Las Vegas, Nevada, USA            5         Shane Van Boening Johnny Archer   \n",
       "2011 Las Vegas, Nevada, USA            5         Shane Van Boening Johnny Archer   \n",
       "2012 Bethnal Green, London, England    9         Shane Van Boening Johnny Archer   \n",
       "2007 Las Vegas, Nevada, USA            12        Johnny Archer Shane Van Boening   \n",
       "2010 Bethnal Green, London, England    3         Johnny Archer Shane Van Boening   \n",
       "2014 Tower Circus, Blackpool, England  3      Shane Van Boening & Justin Bergman   \n",
       "2016 Alexandra Palace, London, England 9         Mike Dechaine Shane Van Boening   \n",
       "2011 Las Vegas, Nevada, USA            3         Shane Van Boening Mike Dechaine   \n",
       "2015 Las Vegas, Nevada, USA            9         Shane Van Boening Mike Dechaine   \n",
       "2016 Alexandra Palace, London, England 1         Shane Van Boening Rodney Morris   \n",
       "2013 Las Vegas, Nevada, USA            9         Rodney Morris Shane Van Boening   \n",
       "2008 St. Julian's, Malta               4         Shane Van Boening Rodney Morris   \n",
       "2011 Las Vegas, Nevada, USA            9         Shane Van Boening Rodney Morris   \n",
       "2008 St. Julian's, Malta               1         Shane Van Boening Rodney Morris   \n",
       "2015 Las Vegas, Nevada, USA            3       Shane Van Boening Skyler Woodward   \n",
       "2016 Alexandra Palace, London, England 5       Shane Van Boening Skyler Woodward   \n",
       "2009 Las Vegas, Nevada, USA            10      Shane Van Boening Óscar Domínguez   \n",
       "\n",
       "                                             America_won America_lost  \\\n",
       "Year Location                          Match                            \n",
       "2015 Las Vegas, Nevada, USA            7           False         True   \n",
       "2014 Tower Circus, Blackpool, England  9            True        False   \n",
       "2010 Bethnal Green, London, England    13          False         True   \n",
       "2012 Bethnal Green, London, England    3            True        False   \n",
       "2010 Bethnal Green, London, England    10           True        False   \n",
       "2013 Las Vegas, Nevada, USA            7            True        False   \n",
       "2007 Las Vegas, Nevada, USA            5           False         True   \n",
       "2014 Tower Circus, Blackpool, England  7           False         True   \n",
       "2009 Las Vegas, Nevada, USA            5            True        False   \n",
       "2011 Las Vegas, Nevada, USA            5            True        False   \n",
       "2012 Bethnal Green, London, England    9            True        False   \n",
       "2007 Las Vegas, Nevada, USA            12           True        False   \n",
       "2010 Bethnal Green, London, England    3           False         True   \n",
       "2014 Tower Circus, Blackpool, England  3           False         True   \n",
       "2016 Alexandra Palace, London, England 9           False         True   \n",
       "2011 Las Vegas, Nevada, USA            3           False         True   \n",
       "2015 Las Vegas, Nevada, USA            9            True        False   \n",
       "2016 Alexandra Palace, London, England 1           False         True   \n",
       "2013 Las Vegas, Nevada, USA            9            True        False   \n",
       "2008 St. Julian's, Malta               4           False         True   \n",
       "2011 Las Vegas, Nevada, USA            9           False         True   \n",
       "2008 St. Julian's, Malta               1           False         True   \n",
       "2015 Las Vegas, Nevada, USA            3            True        False   \n",
       "2016 Alexandra Palace, London, England 5           False         True   \n",
       "2009 Las Vegas, Nevada, USA            10          False         True   \n",
       "\n",
       "                                                      Partner  \n",
       "Year Location                          Match                   \n",
       "2015 Las Vegas, Nevada, USA            7          Corey Deuel  \n",
       "2014 Tower Circus, Blackpool, England  9          Corey Deuel  \n",
       "2010 Bethnal Green, London, England    13         Corey Deuel  \n",
       "2012 Bethnal Green, London, England    3         Dennis Hatch  \n",
       "2010 Bethnal Green, London, England    10        Dennis Hatch  \n",
       "2013 Las Vegas, Nevada, USA            7      Earl Strickland  \n",
       "2007 Las Vegas, Nevada, USA            5      Earl Strickland  \n",
       "2014 Tower Circus, Blackpool, England  7         John Schmidt  \n",
       "2009 Las Vegas, Nevada, USA            5        Johnny Archer  \n",
       "2011 Las Vegas, Nevada, USA            5        Johnny Archer  \n",
       "2012 Bethnal Green, London, England    9        Johnny Archer  \n",
       "2007 Las Vegas, Nevada, USA            12       Johnny Archer  \n",
       "2010 Bethnal Green, London, England    3        Johnny Archer  \n",
       "2014 Tower Circus, Blackpool, England  3       Justin Bergman  \n",
       "2016 Alexandra Palace, London, England 9        Mike Dechaine  \n",
       "2011 Las Vegas, Nevada, USA            3        Mike Dechaine  \n",
       "2015 Las Vegas, Nevada, USA            9        Mike Dechaine  \n",
       "2016 Alexandra Palace, London, England 1        Rodney Morris  \n",
       "2013 Las Vegas, Nevada, USA            9        Rodney Morris  \n",
       "2008 St. Julian's, Malta               4        Rodney Morris  \n",
       "2011 Las Vegas, Nevada, USA            9        Rodney Morris  \n",
       "2008 St. Julian's, Malta               1        Rodney Morris  \n",
       "2015 Las Vegas, Nevada, USA            3      Skyler Woodward  \n",
       "2016 Alexandra Palace, London, England 5      Skyler Woodward  \n",
       "2009 Las Vegas, Nevada, USA            10     Óscar Domínguez  "
      ]
     },
     "execution_count": 254,
     "metadata": {},
     "output_type": "execute_result"
    }
   ],
   "source": [
    "dub.sort_values('Partner')"
   ]
  },
  {
   "cell_type": "code",
   "execution_count": 255,
   "metadata": {},
   "outputs": [
    {
     "data": {
      "text/html": [
       "<div>\n",
       "<table border=\"1\" class=\"dataframe\">\n",
       "  <thead>\n",
       "    <tr style=\"text-align: right;\">\n",
       "      <th></th>\n",
       "      <th>America_won</th>\n",
       "      <th>America_lost</th>\n",
       "    </tr>\n",
       "    <tr>\n",
       "      <th>Partner</th>\n",
       "      <th></th>\n",
       "      <th></th>\n",
       "    </tr>\n",
       "  </thead>\n",
       "  <tbody>\n",
       "    <tr>\n",
       "      <th>Corey Deuel</th>\n",
       "      <td>1.0</td>\n",
       "      <td>2.0</td>\n",
       "    </tr>\n",
       "    <tr>\n",
       "      <th>Dennis Hatch</th>\n",
       "      <td>2.0</td>\n",
       "      <td>0.0</td>\n",
       "    </tr>\n",
       "    <tr>\n",
       "      <th>Earl Strickland</th>\n",
       "      <td>1.0</td>\n",
       "      <td>1.0</td>\n",
       "    </tr>\n",
       "    <tr>\n",
       "      <th>John Schmidt</th>\n",
       "      <td>0.0</td>\n",
       "      <td>1.0</td>\n",
       "    </tr>\n",
       "    <tr>\n",
       "      <th>Johnny Archer</th>\n",
       "      <td>4.0</td>\n",
       "      <td>1.0</td>\n",
       "    </tr>\n",
       "    <tr>\n",
       "      <th>Justin Bergman</th>\n",
       "      <td>0.0</td>\n",
       "      <td>1.0</td>\n",
       "    </tr>\n",
       "    <tr>\n",
       "      <th>Mike Dechaine</th>\n",
       "      <td>1.0</td>\n",
       "      <td>2.0</td>\n",
       "    </tr>\n",
       "    <tr>\n",
       "      <th>Rodney Morris</th>\n",
       "      <td>1.0</td>\n",
       "      <td>4.0</td>\n",
       "    </tr>\n",
       "    <tr>\n",
       "      <th>Skyler Woodward</th>\n",
       "      <td>1.0</td>\n",
       "      <td>1.0</td>\n",
       "    </tr>\n",
       "    <tr>\n",
       "      <th>Óscar Domínguez</th>\n",
       "      <td>0.0</td>\n",
       "      <td>1.0</td>\n",
       "    </tr>\n",
       "  </tbody>\n",
       "</table>\n",
       "</div>"
      ],
      "text/plain": [
       "                 America_won  America_lost\n",
       "Partner                                   \n",
       "Corey Deuel              1.0           2.0\n",
       "Dennis Hatch             2.0           0.0\n",
       "Earl Strickland          1.0           1.0\n",
       "John Schmidt             0.0           1.0\n",
       "Johnny Archer            4.0           1.0\n",
       "Justin Bergman           0.0           1.0\n",
       "Mike Dechaine            1.0           2.0\n",
       "Rodney Morris            1.0           4.0\n",
       "Skyler Woodward          1.0           1.0\n",
       "Óscar Domínguez          0.0           1.0"
      ]
     },
     "execution_count": 255,
     "metadata": {},
     "output_type": "execute_result"
    }
   ],
   "source": [
    "dub.groupby('Partner').sum()"
   ]
  },
  {
   "cell_type": "markdown",
   "metadata": {},
   "source": [
    "### Looks like Shane plays best with Johnny (4-1) and Dennis (2-0) and plays poorly with Rodney (1-4)"
   ]
  },
  {
   "cell_type": "markdown",
   "metadata": {},
   "source": [
    "More questions to answer:\n",
    "1. Does shane play better or worse against certain opponents?\n",
    "2. Has shane's performance changed over the years?"
   ]
  },
  {
   "cell_type": "code",
   "execution_count": 256,
   "metadata": {},
   "outputs": [
    {
     "data": {
      "text/html": [
       "<div>\n",
       "<table border=\"1\" class=\"dataframe\">\n",
       "  <thead>\n",
       "    <tr style=\"text-align: right;\">\n",
       "      <th></th>\n",
       "      <th>America_won</th>\n",
       "      <th>America_lost</th>\n",
       "    </tr>\n",
       "    <tr>\n",
       "      <th>European_player</th>\n",
       "      <th></th>\n",
       "      <th></th>\n",
       "    </tr>\n",
       "  </thead>\n",
       "  <tbody>\n",
       "    <tr>\n",
       "      <th>Chris Melling</th>\n",
       "      <td>0.0</td>\n",
       "      <td>1.0</td>\n",
       "    </tr>\n",
       "    <tr>\n",
       "      <th>Darren Appleton</th>\n",
       "      <td>1.0</td>\n",
       "      <td>6.0</td>\n",
       "    </tr>\n",
       "    <tr>\n",
       "      <th>Daryl Peach</th>\n",
       "      <td>1.0</td>\n",
       "      <td>0.0</td>\n",
       "    </tr>\n",
       "    <tr>\n",
       "      <th>Karl Boyes</th>\n",
       "      <td>1.0</td>\n",
       "      <td>0.0</td>\n",
       "    </tr>\n",
       "    <tr>\n",
       "      <th>Konstantin Stepanov</th>\n",
       "      <td>1.0</td>\n",
       "      <td>0.0</td>\n",
       "    </tr>\n",
       "    <tr>\n",
       "      <th>Mika Immonen</th>\n",
       "      <td>1.0</td>\n",
       "      <td>2.0</td>\n",
       "    </tr>\n",
       "    <tr>\n",
       "      <th>Nick Ekonomopoulos</th>\n",
       "      <td>0.0</td>\n",
       "      <td>1.0</td>\n",
       "    </tr>\n",
       "    <tr>\n",
       "      <th>Nick van den Berg</th>\n",
       "      <td>3.0</td>\n",
       "      <td>0.0</td>\n",
       "    </tr>\n",
       "    <tr>\n",
       "      <th>Niels Feijen</th>\n",
       "      <td>0.0</td>\n",
       "      <td>1.0</td>\n",
       "    </tr>\n",
       "    <tr>\n",
       "      <th>Nikos Ekonomopoulos</th>\n",
       "      <td>0.0</td>\n",
       "      <td>1.0</td>\n",
       "    </tr>\n",
       "    <tr>\n",
       "      <th>Ralf Souquet</th>\n",
       "      <td>1.0</td>\n",
       "      <td>2.0</td>\n",
       "    </tr>\n",
       "    <tr>\n",
       "      <th>Tony Drago</th>\n",
       "      <td>1.0</td>\n",
       "      <td>1.0</td>\n",
       "    </tr>\n",
       "  </tbody>\n",
       "</table>\n",
       "</div>"
      ],
      "text/plain": [
       "                     America_won  America_lost\n",
       "European_player                               \n",
       "Chris Melling                0.0           1.0\n",
       "Darren Appleton              1.0           6.0\n",
       "Daryl Peach                  1.0           0.0\n",
       "Karl Boyes                   1.0           0.0\n",
       "Konstantin Stepanov          1.0           0.0\n",
       "Mika Immonen                 1.0           2.0\n",
       "Nick Ekonomopoulos           0.0           1.0\n",
       "Nick van den Berg            3.0           0.0\n",
       "Niels Feijen                 0.0           1.0\n",
       "Nikos Ekonomopoulos          0.0           1.0\n",
       "Ralf Souquet                 1.0           2.0\n",
       "Tony Drago                   1.0           1.0"
      ]
     },
     "execution_count": 256,
     "metadata": {},
     "output_type": "execute_result"
    }
   ],
   "source": [
    "sing.groupby('European_player').sum()"
   ]
  },
  {
   "cell_type": "markdown",
   "metadata": {},
   "source": [
    "## Apparently, Shane does really poorly against Darren Appleton (1-6) and does well against Nick Van Den Berg (3-0). \n",
    "## Lets see what Shane's record was for each year."
   ]
  },
  {
   "cell_type": "code",
   "execution_count": 257,
   "metadata": {
    "collapsed": true
   },
   "outputs": [],
   "source": [
    "years = [i for i in range(2007,2016)]\n",
    "yearly=[]\n",
    "for year in years:\n",
    "    loss, win = df.loc[year]['America_won'].value_counts(sort=False)\n",
    "    yearly.append((win,loss))"
   ]
  },
  {
   "cell_type": "code",
   "execution_count": 258,
   "metadata": {
    "collapsed": true
   },
   "outputs": [],
   "source": [
    "yr= {}\n",
    "for k,v in zip(years,yearly):\n",
    "    yr[k]=v\n",
    "#manually insert the year 2016 (since he had zero wins, value_counts could not unpack properly to a tuple)\n",
    "yr[2016]=(0,5)"
   ]
  },
  {
   "cell_type": "code",
   "execution_count": 259,
   "metadata": {},
   "outputs": [
    {
     "data": {
      "text/plain": [
       "{2007: (4, 2),\n",
       " 2008: (1, 5),\n",
       " 2009: (4, 2),\n",
       " 2010: (2, 4),\n",
       " 2011: (3, 4),\n",
       " 2012: (4, 2),\n",
       " 2013: (2, 2),\n",
       " 2014: (1, 6),\n",
       " 2015: (4, 3),\n",
       " 2016: (0, 5)}"
      ]
     },
     "execution_count": 259,
     "metadata": {},
     "output_type": "execute_result"
    }
   ],
   "source": [
    "yr"
   ]
  },
  {
   "cell_type": "code",
   "execution_count": 260,
   "metadata": {
    "scrolled": true
   },
   "outputs": [
    {
     "data": {
      "text/html": [
       "<div>\n",
       "<table border=\"1\" class=\"dataframe\">\n",
       "  <thead>\n",
       "    <tr style=\"text-align: right;\">\n",
       "      <th></th>\n",
       "      <th></th>\n",
       "      <th></th>\n",
       "      <th>Format</th>\n",
       "      <th>European_player</th>\n",
       "      <th>European_score</th>\n",
       "      <th>American_score</th>\n",
       "      <th>American_player</th>\n",
       "      <th>America_won</th>\n",
       "      <th>America_lost</th>\n",
       "    </tr>\n",
       "    <tr>\n",
       "      <th>Year</th>\n",
       "      <th>Location</th>\n",
       "      <th>Match</th>\n",
       "      <th></th>\n",
       "      <th></th>\n",
       "      <th></th>\n",
       "      <th></th>\n",
       "      <th></th>\n",
       "      <th></th>\n",
       "      <th></th>\n",
       "    </tr>\n",
       "  </thead>\n",
       "  <tbody>\n",
       "    <tr>\n",
       "      <th rowspan=\"6\" valign=\"top\">2008</th>\n",
       "      <th rowspan=\"6\" valign=\"top\">St. Julian's, Malta</th>\n",
       "      <th>0</th>\n",
       "      <td>Teams</td>\n",
       "      <td>Niels Feijen, Tony Drago, Mika Immonen, Ralf S...</td>\n",
       "      <td>5</td>\n",
       "      <td>3</td>\n",
       "      <td>Earl Strickland, Jeremy Jones, Rodney Morris, ...</td>\n",
       "      <td>False</td>\n",
       "      <td>True</td>\n",
       "    </tr>\n",
       "    <tr>\n",
       "      <th>1</th>\n",
       "      <td>Doubles</td>\n",
       "      <td>Niels Feijen Ralf Souquet</td>\n",
       "      <td>5</td>\n",
       "      <td>3</td>\n",
       "      <td>Shane Van Boening Rodney Morris</td>\n",
       "      <td>False</td>\n",
       "      <td>True</td>\n",
       "    </tr>\n",
       "    <tr>\n",
       "      <th>4</th>\n",
       "      <td>Doubles</td>\n",
       "      <td>Niels Feijen Ralf Souquet</td>\n",
       "      <td>5</td>\n",
       "      <td>3</td>\n",
       "      <td>Shane Van Boening Rodney Morris</td>\n",
       "      <td>False</td>\n",
       "      <td>True</td>\n",
       "    </tr>\n",
       "    <tr>\n",
       "      <th>9</th>\n",
       "      <td>Singles</td>\n",
       "      <td>Tony Drago</td>\n",
       "      <td>2</td>\n",
       "      <td>5</td>\n",
       "      <td>Shane Van Boening</td>\n",
       "      <td>True</td>\n",
       "      <td>False</td>\n",
       "    </tr>\n",
       "    <tr>\n",
       "      <th>12</th>\n",
       "      <td>Singles</td>\n",
       "      <td>Ralf Souquet</td>\n",
       "      <td>5</td>\n",
       "      <td>2</td>\n",
       "      <td>Shane Van Boening</td>\n",
       "      <td>False</td>\n",
       "      <td>True</td>\n",
       "    </tr>\n",
       "    <tr>\n",
       "      <th>15</th>\n",
       "      <td>Singles</td>\n",
       "      <td>Mika Immonen</td>\n",
       "      <td>5</td>\n",
       "      <td>3</td>\n",
       "      <td>Shane Van Boening</td>\n",
       "      <td>False</td>\n",
       "      <td>True</td>\n",
       "    </tr>\n",
       "    <tr>\n",
       "      <th rowspan=\"7\" valign=\"top\">2014</th>\n",
       "      <th rowspan=\"7\" valign=\"top\">Tower Circus, Blackpool, England</th>\n",
       "      <th>0</th>\n",
       "      <td>Teams</td>\n",
       "      <td>Karl Boyes, Niels Feijen, Nikos Ekonomopoulos,...</td>\n",
       "      <td>5</td>\n",
       "      <td>1</td>\n",
       "      <td>Corey Deuel, Shane Van Boening, Justin Bergman...</td>\n",
       "      <td>False</td>\n",
       "      <td>True</td>\n",
       "    </tr>\n",
       "    <tr>\n",
       "      <th>3</th>\n",
       "      <td>Doubles</td>\n",
       "      <td>Niels Feijen &amp; Nikos Ekonomopoulos</td>\n",
       "      <td>5</td>\n",
       "      <td>1</td>\n",
       "      <td>Shane Van Boening &amp; Justin Bergman</td>\n",
       "      <td>False</td>\n",
       "      <td>True</td>\n",
       "    </tr>\n",
       "    <tr>\n",
       "      <th>4</th>\n",
       "      <td>Singles</td>\n",
       "      <td>Darren Appleton</td>\n",
       "      <td>5</td>\n",
       "      <td>3</td>\n",
       "      <td>Shane Van Boening</td>\n",
       "      <td>False</td>\n",
       "      <td>True</td>\n",
       "    </tr>\n",
       "    <tr>\n",
       "      <th>7</th>\n",
       "      <td>Doubles</td>\n",
       "      <td>Darren Appleton &amp; Nikos Ekonomopoulos</td>\n",
       "      <td>5</td>\n",
       "      <td>2</td>\n",
       "      <td>Shane Van Boening &amp; John Schmidt</td>\n",
       "      <td>False</td>\n",
       "      <td>True</td>\n",
       "    </tr>\n",
       "    <tr>\n",
       "      <th>9</th>\n",
       "      <td>Doubles</td>\n",
       "      <td>Darren Appleton &amp; Mark Gray</td>\n",
       "      <td>4</td>\n",
       "      <td>5</td>\n",
       "      <td>Shane Van Boening &amp; Corey Deuel</td>\n",
       "      <td>True</td>\n",
       "      <td>False</td>\n",
       "    </tr>\n",
       "    <tr>\n",
       "      <th>14</th>\n",
       "      <td>Singles</td>\n",
       "      <td>Darren Appleton</td>\n",
       "      <td>5</td>\n",
       "      <td>2</td>\n",
       "      <td>Shane Van Boening</td>\n",
       "      <td>False</td>\n",
       "      <td>True</td>\n",
       "    </tr>\n",
       "    <tr>\n",
       "      <th>15</th>\n",
       "      <td>Singles</td>\n",
       "      <td>Nikos Ekonomopoulos</td>\n",
       "      <td>5</td>\n",
       "      <td>2</td>\n",
       "      <td>Shane Van Boening</td>\n",
       "      <td>False</td>\n",
       "      <td>True</td>\n",
       "    </tr>\n",
       "    <tr>\n",
       "      <th rowspan=\"5\" valign=\"top\">2016</th>\n",
       "      <th rowspan=\"5\" valign=\"top\">Alexandra Palace, London, England</th>\n",
       "      <th>0</th>\n",
       "      <td>Teams</td>\n",
       "      <td>Niels Feijen, Albin Ouschan, Jayson Shaw, Mark...</td>\n",
       "      <td>5</td>\n",
       "      <td>2</td>\n",
       "      <td>Mike Dechaine, Shane Van Boening, Rodney Morri...</td>\n",
       "      <td>False</td>\n",
       "      <td>True</td>\n",
       "    </tr>\n",
       "    <tr>\n",
       "      <th>1</th>\n",
       "      <td>Doubles</td>\n",
       "      <td>Mark Gray Albin Ouschan</td>\n",
       "      <td>5</td>\n",
       "      <td>2</td>\n",
       "      <td>Shane Van Boening Rodney Morris</td>\n",
       "      <td>False</td>\n",
       "      <td>True</td>\n",
       "    </tr>\n",
       "    <tr>\n",
       "      <th>4</th>\n",
       "      <td>Singles</td>\n",
       "      <td>Darren Appleton</td>\n",
       "      <td>5</td>\n",
       "      <td>3</td>\n",
       "      <td>Shane Van Boening</td>\n",
       "      <td>False</td>\n",
       "      <td>True</td>\n",
       "    </tr>\n",
       "    <tr>\n",
       "      <th>5</th>\n",
       "      <td>Doubles</td>\n",
       "      <td>Niels Feijen Mark Gray</td>\n",
       "      <td>5</td>\n",
       "      <td>2</td>\n",
       "      <td>Shane Van Boening Skyler Woodward</td>\n",
       "      <td>False</td>\n",
       "      <td>True</td>\n",
       "    </tr>\n",
       "    <tr>\n",
       "      <th>9</th>\n",
       "      <td>Doubles</td>\n",
       "      <td>Darren Appleton Niels Feijen</td>\n",
       "      <td>5</td>\n",
       "      <td>2</td>\n",
       "      <td>Mike Dechaine Shane Van Boening</td>\n",
       "      <td>False</td>\n",
       "      <td>True</td>\n",
       "    </tr>\n",
       "  </tbody>\n",
       "</table>\n",
       "</div>"
      ],
      "text/plain": [
       "                                               Format  \\\n",
       "Year Location                          Match            \n",
       "2008 St. Julian's, Malta               0        Teams   \n",
       "                                       1      Doubles   \n",
       "                                       4      Doubles   \n",
       "                                       9      Singles   \n",
       "                                       12     Singles   \n",
       "                                       15     Singles   \n",
       "2014 Tower Circus, Blackpool, England  0        Teams   \n",
       "                                       3      Doubles   \n",
       "                                       4      Singles   \n",
       "                                       7      Doubles   \n",
       "                                       9      Doubles   \n",
       "                                       14     Singles   \n",
       "                                       15     Singles   \n",
       "2016 Alexandra Palace, London, England 0        Teams   \n",
       "                                       1      Doubles   \n",
       "                                       4      Singles   \n",
       "                                       5      Doubles   \n",
       "                                       9      Doubles   \n",
       "\n",
       "                                                                                European_player  \\\n",
       "Year Location                          Match                                                      \n",
       "2008 St. Julian's, Malta               0      Niels Feijen, Tony Drago, Mika Immonen, Ralf S...   \n",
       "                                       1                              Niels Feijen Ralf Souquet   \n",
       "                                       4                              Niels Feijen Ralf Souquet   \n",
       "                                       9                                             Tony Drago   \n",
       "                                       12                                          Ralf Souquet   \n",
       "                                       15                                          Mika Immonen   \n",
       "2014 Tower Circus, Blackpool, England  0      Karl Boyes, Niels Feijen, Nikos Ekonomopoulos,...   \n",
       "                                       3                     Niels Feijen & Nikos Ekonomopoulos   \n",
       "                                       4                                        Darren Appleton   \n",
       "                                       7                  Darren Appleton & Nikos Ekonomopoulos   \n",
       "                                       9                            Darren Appleton & Mark Gray   \n",
       "                                       14                                       Darren Appleton   \n",
       "                                       15                                   Nikos Ekonomopoulos   \n",
       "2016 Alexandra Palace, London, England 0      Niels Feijen, Albin Ouschan, Jayson Shaw, Mark...   \n",
       "                                       1                                Mark Gray Albin Ouschan   \n",
       "                                       4                                        Darren Appleton   \n",
       "                                       5                                 Niels Feijen Mark Gray   \n",
       "                                       9                           Darren Appleton Niels Feijen   \n",
       "\n",
       "                                             European_score American_score  \\\n",
       "Year Location                          Match                                 \n",
       "2008 St. Julian's, Malta               0                  5              3   \n",
       "                                       1                  5              3   \n",
       "                                       4                  5              3   \n",
       "                                       9                  2              5   \n",
       "                                       12                 5              2   \n",
       "                                       15                 5              3   \n",
       "2014 Tower Circus, Blackpool, England  0                  5              1   \n",
       "                                       3                  5              1   \n",
       "                                       4                  5              3   \n",
       "                                       7                  5              2   \n",
       "                                       9                  4              5   \n",
       "                                       14                 5              2   \n",
       "                                       15                 5              2   \n",
       "2016 Alexandra Palace, London, England 0                  5              2   \n",
       "                                       1                  5              2   \n",
       "                                       4                  5              3   \n",
       "                                       5                  5              2   \n",
       "                                       9                  5              2   \n",
       "\n",
       "                                                                                American_player  \\\n",
       "Year Location                          Match                                                      \n",
       "2008 St. Julian's, Malta               0      Earl Strickland, Jeremy Jones, Rodney Morris, ...   \n",
       "                                       1                        Shane Van Boening Rodney Morris   \n",
       "                                       4                        Shane Van Boening Rodney Morris   \n",
       "                                       9                                      Shane Van Boening   \n",
       "                                       12                                     Shane Van Boening   \n",
       "                                       15                                     Shane Van Boening   \n",
       "2014 Tower Circus, Blackpool, England  0      Corey Deuel, Shane Van Boening, Justin Bergman...   \n",
       "                                       3                     Shane Van Boening & Justin Bergman   \n",
       "                                       4                                      Shane Van Boening   \n",
       "                                       7                       Shane Van Boening & John Schmidt   \n",
       "                                       9                        Shane Van Boening & Corey Deuel   \n",
       "                                       14                                     Shane Van Boening   \n",
       "                                       15                                     Shane Van Boening   \n",
       "2016 Alexandra Palace, London, England 0      Mike Dechaine, Shane Van Boening, Rodney Morri...   \n",
       "                                       1                        Shane Van Boening Rodney Morris   \n",
       "                                       4                                      Shane Van Boening   \n",
       "                                       5                      Shane Van Boening Skyler Woodward   \n",
       "                                       9                        Mike Dechaine Shane Van Boening   \n",
       "\n",
       "                                             America_won America_lost  \n",
       "Year Location                          Match                           \n",
       "2008 St. Julian's, Malta               0           False         True  \n",
       "                                       1           False         True  \n",
       "                                       4           False         True  \n",
       "                                       9            True        False  \n",
       "                                       12          False         True  \n",
       "                                       15          False         True  \n",
       "2014 Tower Circus, Blackpool, England  0           False         True  \n",
       "                                       3           False         True  \n",
       "                                       4           False         True  \n",
       "                                       7           False         True  \n",
       "                                       9            True        False  \n",
       "                                       14          False         True  \n",
       "                                       15          False         True  \n",
       "2016 Alexandra Palace, London, England 0           False         True  \n",
       "                                       1           False         True  \n",
       "                                       4           False         True  \n",
       "                                       5           False         True  \n",
       "                                       9           False         True  "
      ]
     },
     "execution_count": 260,
     "metadata": {},
     "output_type": "execute_result"
    }
   ],
   "source": [
    "df.loc[[2008,2014,2016]]"
   ]
  },
  {
   "cell_type": "markdown",
   "metadata": {},
   "source": [
    "### So his worst years were in 2008 (1-5), 2014 (1-6) and 2016 (0-5), all of which were 'away' games (malta in 08, england in 14&16). Let's dig a bit deeper to see how big of a factor location is for Shane's performance."
   ]
  },
  {
   "cell_type": "markdown",
   "metadata": {},
   "source": [
    "## Shane is regarded as a formidable player on US soil, but is also known for underperforming overseas. Let's see if the location is a major factor in the quality of his performance."
   ]
  },
  {
   "cell_type": "markdown",
   "metadata": {},
   "source": [
    "## Played 10 years total: 5 home (all vegas), 5 away (4 england, 1 malta)"
   ]
  },
  {
   "cell_type": "code",
   "execution_count": 261,
   "metadata": {
    "collapsed": true
   },
   "outputs": [],
   "source": [
    "home = df.loc[(slice(None),'Las Vegas, Nevada, USA'),:]"
   ]
  },
  {
   "cell_type": "code",
   "execution_count": 262,
   "metadata": {},
   "outputs": [
    {
     "data": {
      "text/plain": [
       "False    13\n",
       "True     17\n",
       "Name: America_won, dtype: int64"
      ]
     },
     "execution_count": 262,
     "metadata": {},
     "output_type": "execute_result"
    }
   ],
   "source": [
    "home['America_won'].value_counts(sort=False)"
   ]
  },
  {
   "cell_type": "code",
   "execution_count": 263,
   "metadata": {
    "collapsed": true
   },
   "outputs": [],
   "source": [
    "#even years are all away matches\n",
    "away = df.loc[[2008,2010,2012,2014,2016]]"
   ]
  },
  {
   "cell_type": "code",
   "execution_count": 264,
   "metadata": {},
   "outputs": [
    {
     "data": {
      "text/plain": [
       "False    22\n",
       "True      8\n",
       "Name: America_won, dtype: int64"
      ]
     },
     "execution_count": 264,
     "metadata": {},
     "output_type": "execute_result"
    }
   ],
   "source": [
    "away['America_won'].value_counts(sort=False)"
   ]
  },
  {
   "cell_type": "code",
   "execution_count": 265,
   "metadata": {},
   "outputs": [
    {
     "data": {
      "text/plain": [
       "('Matches Played: 30', 'Win-loss: 17-13', 'pct: 57.0')"
      ]
     },
     "execution_count": 265,
     "metadata": {},
     "output_type": "execute_result"
    }
   ],
   "source": [
    "stats(home)"
   ]
  },
  {
   "cell_type": "code",
   "execution_count": 266,
   "metadata": {},
   "outputs": [
    {
     "data": {
      "text/plain": [
       "('Matches Played: 30', 'Win-loss: 8-22', 'pct: 27.0')"
      ]
     },
     "execution_count": 266,
     "metadata": {},
     "output_type": "execute_result"
    }
   ],
   "source": [
    "stats(away)"
   ]
  },
  {
   "cell_type": "markdown",
   "metadata": {},
   "source": [
    "# 57% for home games vs 27% for away games is an *extremely* significant difference! "
   ]
  },
  {
   "cell_type": "markdown",
   "metadata": {},
   "source": [
    "### Let's drill down a bit further to parse out his singles and doubles matches for both home and away "
   ]
  },
  {
   "cell_type": "code",
   "execution_count": 267,
   "metadata": {
    "collapsed": true
   },
   "outputs": [],
   "source": [
    "hsing = stats(home[home['Format']=='Singles'])"
   ]
  },
  {
   "cell_type": "code",
   "execution_count": 268,
   "metadata": {
    "collapsed": true
   },
   "outputs": [],
   "source": [
    "hdub = stats(home[home['Format']=='Doubles'])"
   ]
  },
  {
   "cell_type": "code",
   "execution_count": 269,
   "metadata": {
    "collapsed": true
   },
   "outputs": [],
   "source": [
    "asing = stats(away[away['Format']=='Singles'])"
   ]
  },
  {
   "cell_type": "code",
   "execution_count": 270,
   "metadata": {
    "collapsed": true
   },
   "outputs": [],
   "source": [
    "adub = stats(away[away['Format']=='Doubles'])"
   ]
  },
  {
   "cell_type": "code",
   "execution_count": 271,
   "metadata": {},
   "outputs": [
    {
     "data": {
      "text/plain": [
       "\"Home Singles: ('Matches Played: 13', 'Win-loss: 7-6', 'pct: 54.0')\""
      ]
     },
     "execution_count": 271,
     "metadata": {},
     "output_type": "execute_result"
    },
    {
     "data": {
      "text/plain": [
       "\"Home Doubles: ('Matches Played: 12', 'Win-loss: 7-5', 'pct: 58.0')\""
      ]
     },
     "execution_count": 271,
     "metadata": {},
     "output_type": "execute_result"
    },
    {
     "data": {
      "text/plain": [
       "\"Away Singles: ('Matches Played: 12', 'Win-loss: 3-9', 'pct: 25.0')\""
      ]
     },
     "execution_count": 271,
     "metadata": {},
     "output_type": "execute_result"
    },
    {
     "data": {
      "text/plain": [
       "\"Away Doubles: ('Matches Played: 13', 'Win-loss: 4-9', 'pct: 31.0')\""
      ]
     },
     "execution_count": 271,
     "metadata": {},
     "output_type": "execute_result"
    }
   ],
   "source": [
    "'Home Singles: {}'.format(hsing)\n",
    "'Home Doubles: {}'.format(hdub)\n",
    "'Away Singles: {}'.format(asing)\n",
    "'Away Doubles: {}'.format(adub)"
   ]
  },
  {
   "cell_type": "markdown",
   "metadata": {},
   "source": [
    "## Not much variation, but he does better in doubles in both cases."
   ]
  }
 ],
 "metadata": {
  "kernelspec": {
   "display_name": "Python 3",
   "language": "python",
   "name": "python3"
  },
  "language_info": {
   "codemirror_mode": {
    "name": "ipython",
    "version": 3
   },
   "file_extension": ".py",
   "mimetype": "text/x-python",
   "name": "python",
   "nbconvert_exporter": "python",
   "pygments_lexer": "ipython3",
   "version": "3.5.2"
  }
 },
 "nbformat": 4,
 "nbformat_minor": 2
}
