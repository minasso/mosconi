{
 "cells": [
  {
   "cell_type": "code",
   "execution_count": 1,
   "metadata": {},
   "outputs": [
    {
     "data": {
      "text/plain": [
       "{'ACLOCAL_PATH': 'C:\\\\Program Files\\\\Git\\\\mingw64\\\\share\\\\aclocal;C:\\\\Program Files\\\\Git\\\\usr\\\\share\\\\aclocal',\n",
       " 'ALLUSERSPROFILE': 'C:\\\\ProgramData',\n",
       " 'APPDATA': 'C:\\\\Users\\\\andrew\\\\AppData\\\\Roaming',\n",
       " 'CLICOLOR': '1',\n",
       " 'COMMONPROGRAMFILES': 'C:\\\\Program Files\\\\Common Files',\n",
       " 'COMMONPROGRAMFILES(X86)': 'C:\\\\Program Files (x86)\\\\Common Files',\n",
       " 'COMMONPROGRAMW6432': 'C:\\\\Program Files\\\\Common Files',\n",
       " 'COMPUTERNAME': 'DREW',\n",
       " 'COMSPEC': 'C:\\\\windows\\\\system32\\\\cmd.exe',\n",
       " 'DISPLAY': 'needs-to-be-defined',\n",
       " 'EXEPATH': 'C:\\\\Program Files\\\\Git',\n",
       " 'FP_NO_HOST_CHECK': 'NO',\n",
       " 'GIT_PAGER': 'cat',\n",
       " 'HOME': 'C:\\\\Users\\\\andrew',\n",
       " 'HOMEDRIVE': 'C:',\n",
       " 'HOMEPATH': '\\\\Users\\\\andrew',\n",
       " 'HOSTNAME': 'Drew',\n",
       " 'INFOPATH': 'C:\\\\Program Files\\\\Git\\\\usr\\\\local\\\\info;C:\\\\Program Files\\\\Git\\\\usr\\\\share\\\\info;C:\\\\Program Files\\\\Git\\\\usr\\\\info;C:\\\\Program Files\\\\Git\\\\share\\\\info',\n",
       " 'IPY_INTERRUPT_EVENT': '552',\n",
       " 'JPY_INTERRUPT_EVENT': '552',\n",
       " 'JPY_PARENT_PID': '1300',\n",
       " 'LANG': 'en_US.UTF-8',\n",
       " 'LOCALAPPDATA': 'C:\\\\Users\\\\andrew\\\\AppData\\\\Local',\n",
       " 'LOGONSERVER': '\\\\\\\\MicrosoftAccount',\n",
       " 'MANPATH': 'C:\\\\Program Files\\\\Git\\\\mingw64\\\\share\\\\man;C:\\\\Program Files\\\\Git\\\\usr\\\\local\\\\man;C:\\\\Program Files\\\\Git\\\\usr\\\\share\\\\man;C:\\\\Program Files\\\\Git\\\\usr\\\\man;C:\\\\Program Files\\\\Git\\\\share\\\\man',\n",
       " 'MOZ_PLUGIN_PATH': 'C:\\\\PROGRAM FILES (X86)\\\\FOXIT SOFTWARE\\\\FOXIT READER\\\\plugins\\\\',\n",
       " 'MPLBACKEND': 'module://ipykernel.pylab.backend_inline',\n",
       " 'MSYSTEM': 'MINGW64',\n",
       " 'NUMBER_OF_PROCESSORS': '4',\n",
       " 'OS': 'Windows_NT',\n",
       " 'PAGER': 'cat',\n",
       " 'PATH': \"C:\\\\Users\\\\andrew\\\\bin;C:\\\\Program Files\\\\Git\\\\mingw64\\\\bin;C:\\\\Program Files\\\\Git\\\\usr\\\\local\\\\bin;C:\\\\Program Files\\\\Git\\\\usr\\\\bin;C:\\\\Program Files\\\\Git\\\\usr\\\\bin;C:\\\\Program Files\\\\Git\\\\mingw64\\\\bin;C:\\\\Program Files\\\\Git\\\\usr\\\\bin;C:\\\\Users\\\\andrew\\\\bin;C:\\\\ProgramData\\\\Oracle\\\\Java\\\\javapath;C:\\\\windows\\\\system32;C:\\\\windows;C:\\\\windows\\\\System32\\\\Wbem;C:\\\\windows\\\\System32\\\\WindowsPowerShell\\\\v1.0;C:\\\\Program Files (x86)\\\\Windows Live\\\\Shared;C:\\\\Program Files (x86)\\\\Google\\\\Google Apps Sync;C:\\\\Program Files (x86)\\\\Google\\\\Google Apps Migration;C:\\\\Program Files\\\\Git\\\\cmd;C:\\\\Program Files (x86)\\\\Notepad++;C:\\\\Program Files\\\\nodejs;C:\\\\Program Files (x86)\\\\Skype\\\\Phone;C:\\\\Program Files\\\\SourceGear\\\\Common\\\\DiffMerge;C:\\\\Program Files\\\\Sublime Text 3;C:\\\\Users\\\\andrew\\\\AppData\\\\Local\\\\Programs\\\\Python\\\\Python35\\\\Scripts;C:\\\\Users\\\\andrew\\\\AppData\\\\Local\\\\Programs\\\\Python\\\\Python35;C:\\\\Users\\\\andrew\\\\Anaconda3;C:\\\\Users\\\\andrew\\\\Anaconda3\\\\Scripts;C:\\\\Users\\\\andrew\\\\Anaconda3\\\\Library\\\\bin;C:\\\\Users\\\\andrew\\\\AppData\\\\Roaming\\\\npm;'C;C:\\\\Program Files\\\\Git\\\\Program Files\\\\Sublime Text 3';'C;C:\\\\Program Files\\\\Git\\\\Sqlite';C:\\\\Selenium Drivers;C:\\\\module;C:\\\\Program Files\\\\Git\\\\usr\\\\bin\\\\vendor_perl;C:\\\\Program Files\\\\Git\\\\usr\\\\bin\\\\core_perl\",\n",
       " 'PATHEXT': '.COM;.EXE;.BAT;.CMD;.VBS;.VBE;.JS;.JSE;.WSF;.WSH;.MSC',\n",
       " 'PKG_CONFIG_PATH': 'C:\\\\Program Files\\\\Git\\\\mingw64\\\\lib\\\\pkgconfig;C:\\\\Program Files\\\\Git\\\\mingw64\\\\share\\\\pkgconfig',\n",
       " 'PLINK_PROTOCOL': 'ssh',\n",
       " 'PRINTER': 'Send To OneNote 2016',\n",
       " 'PROCESSOR_ARCHITECTURE': 'AMD64',\n",
       " 'PROCESSOR_IDENTIFIER': 'Intel64 Family 6 Model 69 Stepping 1, GenuineIntel',\n",
       " 'PROCESSOR_LEVEL': '6',\n",
       " 'PROCESSOR_REVISION': '4501',\n",
       " 'PROGRAMDATA': 'C:\\\\ProgramData',\n",
       " 'PROGRAMFILES': 'C:\\\\Program Files',\n",
       " 'PROGRAMFILES(X86)': 'C:\\\\Program Files (x86)',\n",
       " 'PROGRAMW6432': 'C:\\\\Program Files',\n",
       " 'PS1': '\\\\[\\\\033]0;$TITLEPREFIX:${PWD//[^[:ascii:]]/?}\\\\007\\\\]\\\\n\\\\[\\\\033[32m\\\\]\\\\u@\\\\h \\\\[\\\\033[35m\\\\]$MSYSTEM \\\\[\\\\033[33m\\\\]\\\\w\\\\[\\\\033[36m\\\\]`__git_ps1`\\\\[\\\\033[0m\\\\]\\\\n$ ',\n",
       " 'PSMODULEPATH': 'C:\\\\windows\\\\system32\\\\WindowsPowerShell\\\\v1.0\\\\Modules\\\\',\n",
       " 'PUBLIC': 'C:\\\\Users\\\\Public',\n",
       " 'PWD': 'C:/Users/andrew/Desktop/mosconi',\n",
       " 'PYTHON': 'C:\\\\Users\\\\andrew\\\\Anaconda3',\n",
       " 'PYTHON2': 'C:/Users/andrew/Anaconda3/envs/ipykernel_py2/',\n",
       " 'PYTHON3': 'C:\\\\Users\\\\andrew\\\\AppData\\\\Local\\\\Programs\\\\Python\\\\Python35\\\\',\n",
       " 'PYTHONPATH': 'C:\\\\module;C:\\\\Users\\\\andrew\\\\Desktop\\\\code',\n",
       " 'SESSIONNAME': 'Console',\n",
       " 'SHELL': 'C:\\\\Program Files\\\\Git\\\\usr\\\\bin\\\\bash',\n",
       " 'SHLVL': '1',\n",
       " 'SSH_ASKPASS': 'C:/Program Files/Git/mingw64/libexec/git-core/git-gui--askpass',\n",
       " 'SUBLIME': 'C:\\\\Program Files\\\\Sublime Text 3',\n",
       " 'SYSTEMDRIVE': 'C:',\n",
       " 'SYSTEMROOT': 'C:\\\\windows',\n",
       " 'TEMP': 'C:\\\\Users\\\\andrew\\\\AppData\\\\Local\\\\Temp',\n",
       " 'TERM': 'xterm-color',\n",
       " 'TMP': 'C:\\\\Users\\\\andrew\\\\AppData\\\\Local\\\\Temp',\n",
       " 'TMPDIR': 'C:\\\\Users\\\\andrew\\\\AppData\\\\Local\\\\Temp',\n",
       " 'USERDOMAIN': 'DREW',\n",
       " 'USERDOMAIN_ROAMINGPROFILE': 'DREW',\n",
       " 'USERNAME': 'andrew',\n",
       " 'USERPROFILE': 'C:\\\\Users\\\\andrew',\n",
       " 'WINDIR': 'C:\\\\windows',\n",
       " '_': 'C:/Users/andrew/AppData/Local/Programs/Python/Python35/Scripts/jupyter'}"
      ]
     },
     "execution_count": 1,
     "metadata": {},
     "output_type": "execute_result"
    }
   ],
   "source": [
    "%env"
   ]
  },
  {
   "cell_type": "code",
   "execution_count": null,
   "metadata": {
    "collapsed": true
   },
   "outputs": [],
   "source": []
  }
 ],
 "metadata": {
  "kernelspec": {
   "display_name": "Python 3",
   "language": "python",
   "name": "python3"
  },
  "language_info": {
   "codemirror_mode": {
    "name": "ipython",
    "version": 3
   },
   "file_extension": ".py",
   "mimetype": "text/x-python",
   "name": "python",
   "nbconvert_exporter": "python",
   "pygments_lexer": "ipython3",
   "version": "3.5.2"
  }
 },
 "nbformat": 4,
 "nbformat_minor": 2
}
