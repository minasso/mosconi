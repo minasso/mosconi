{
 "cells": [
  {
   "cell_type": "markdown",
   "metadata": {},
   "source": [
    "## Goals: \n",
    "1. Clean 'allyears' data to add in the names of players on the team rather than eg. 'Team Europe' for the teams matches\n",
    "2. Reformat 'trebles' data to be of format 'triples'"
   ]
  },
  {
   "cell_type": "code",
   "execution_count": 32,
   "metadata": {
    "collapsed": true
   },
   "outputs": [],
   "source": [
    "import pickle\n",
    "import pandas as pd\n",
    "import os"
   ]
  },
  {
   "cell_type": "code",
   "execution_count": 33,
   "metadata": {
    "collapsed": true
   },
   "outputs": [],
   "source": [
    "cwd = os.getcwd()\n",
    "dr = '{}\\\\pkl'.format(cwd)\n",
    "filename = 'allyears'"
   ]
  },
  {
   "cell_type": "code",
   "execution_count": 34,
   "metadata": {
    "collapsed": true
   },
   "outputs": [],
   "source": [
    "path = os.path.join(dr,filename)"
   ]
  },
  {
   "cell_type": "code",
   "execution_count": 35,
   "metadata": {
    "collapsed": true
   },
   "outputs": [],
   "source": [
    "df = pickle.load(open(path,'rb'))"
   ]
  },
  {
   "cell_type": "code",
   "execution_count": 36,
   "metadata": {},
   "outputs": [
    {
     "data": {
      "text/html": [
       "<div>\n",
       "<table border=\"1\" class=\"dataframe\">\n",
       "  <thead>\n",
       "    <tr style=\"text-align: right;\">\n",
       "      <th></th>\n",
       "      <th></th>\n",
       "      <th>Format</th>\n",
       "      <th>European_player</th>\n",
       "      <th>European_score</th>\n",
       "      <th>American_score</th>\n",
       "      <th>American_player</th>\n",
       "      <th>Europe_won</th>\n",
       "    </tr>\n",
       "    <tr>\n",
       "      <th>Year</th>\n",
       "      <th>Match</th>\n",
       "      <th></th>\n",
       "      <th></th>\n",
       "      <th></th>\n",
       "      <th></th>\n",
       "      <th></th>\n",
       "      <th></th>\n",
       "    </tr>\n",
       "  </thead>\n",
       "  <tbody>\n",
       "    <tr>\n",
       "      <th rowspan=\"2\" valign=\"top\">2006</th>\n",
       "      <th>0</th>\n",
       "      <td>Teams</td>\n",
       "      <td>Team Europe</td>\n",
       "      <td>5</td>\n",
       "      <td>6</td>\n",
       "      <td>Team USA</td>\n",
       "      <td>False</td>\n",
       "    </tr>\n",
       "    <tr>\n",
       "      <th>15</th>\n",
       "      <td>Teams</td>\n",
       "      <td>Team Europe</td>\n",
       "      <td>3</td>\n",
       "      <td>6</td>\n",
       "      <td>Team USA</td>\n",
       "      <td>False</td>\n",
       "    </tr>\n",
       "    <tr>\n",
       "      <th>2007</th>\n",
       "      <th>0</th>\n",
       "      <td>Teams</td>\n",
       "      <td>Team Europe</td>\n",
       "      <td>4</td>\n",
       "      <td>6</td>\n",
       "      <td>Team USA</td>\n",
       "      <td>False</td>\n",
       "    </tr>\n",
       "    <tr>\n",
       "      <th>2008</th>\n",
       "      <th>0</th>\n",
       "      <td>Teams</td>\n",
       "      <td>Team Europe</td>\n",
       "      <td>5</td>\n",
       "      <td>3</td>\n",
       "      <td>Team USA</td>\n",
       "      <td>True</td>\n",
       "    </tr>\n",
       "    <tr>\n",
       "      <th>2009</th>\n",
       "      <th>0</th>\n",
       "      <td>Teams</td>\n",
       "      <td>Team Europe</td>\n",
       "      <td>4</td>\n",
       "      <td>6</td>\n",
       "      <td>Team USA</td>\n",
       "      <td>False</td>\n",
       "    </tr>\n",
       "    <tr>\n",
       "      <th>2010</th>\n",
       "      <th>0</th>\n",
       "      <td>Teams</td>\n",
       "      <td>Team Europe</td>\n",
       "      <td>6</td>\n",
       "      <td>5</td>\n",
       "      <td>Team USA</td>\n",
       "      <td>True</td>\n",
       "    </tr>\n",
       "    <tr>\n",
       "      <th>2011</th>\n",
       "      <th>0</th>\n",
       "      <td>Teams</td>\n",
       "      <td>Team Europe</td>\n",
       "      <td>6</td>\n",
       "      <td>3</td>\n",
       "      <td>Team USA</td>\n",
       "      <td>True</td>\n",
       "    </tr>\n",
       "    <tr>\n",
       "      <th>2012</th>\n",
       "      <th>0</th>\n",
       "      <td>Teams</td>\n",
       "      <td>Team Europe</td>\n",
       "      <td>3</td>\n",
       "      <td>5</td>\n",
       "      <td>Team USA</td>\n",
       "      <td>False</td>\n",
       "    </tr>\n",
       "    <tr>\n",
       "      <th>2013</th>\n",
       "      <th>0</th>\n",
       "      <td>Teams</td>\n",
       "      <td>Team Europe</td>\n",
       "      <td>6</td>\n",
       "      <td>3</td>\n",
       "      <td>Team USA</td>\n",
       "      <td>True</td>\n",
       "    </tr>\n",
       "    <tr>\n",
       "      <th>2014</th>\n",
       "      <th>0</th>\n",
       "      <td>Teams</td>\n",
       "      <td>Team Europe</td>\n",
       "      <td>5</td>\n",
       "      <td>1</td>\n",
       "      <td>Team USA</td>\n",
       "      <td>True</td>\n",
       "    </tr>\n",
       "    <tr>\n",
       "      <th>2015</th>\n",
       "      <th>0</th>\n",
       "      <td>Teams</td>\n",
       "      <td>Team Europe</td>\n",
       "      <td>4</td>\n",
       "      <td>5</td>\n",
       "      <td>Team USA</td>\n",
       "      <td>False</td>\n",
       "    </tr>\n",
       "    <tr>\n",
       "      <th>2016</th>\n",
       "      <th>0</th>\n",
       "      <td>Teams</td>\n",
       "      <td>Team Europe</td>\n",
       "      <td>5</td>\n",
       "      <td>2</td>\n",
       "      <td>Team USA</td>\n",
       "      <td>True</td>\n",
       "    </tr>\n",
       "  </tbody>\n",
       "</table>\n",
       "</div>"
      ],
      "text/plain": [
       "           Format European_player European_score American_score  \\\n",
       "Year Match                                                        \n",
       "2006 0      Teams     Team Europe              5              6   \n",
       "     15     Teams     Team Europe              3              6   \n",
       "2007 0      Teams     Team Europe              4              6   \n",
       "2008 0      Teams     Team Europe              5              3   \n",
       "2009 0      Teams     Team Europe              4              6   \n",
       "2010 0      Teams     Team Europe              6              5   \n",
       "2011 0      Teams     Team Europe              6              3   \n",
       "2012 0      Teams     Team Europe              3              5   \n",
       "2013 0      Teams     Team Europe              6              3   \n",
       "2014 0      Teams     Team Europe              5              1   \n",
       "2015 0      Teams     Team Europe              4              5   \n",
       "2016 0      Teams     Team Europe              5              2   \n",
       "\n",
       "           American_player Europe_won  \n",
       "Year Match                             \n",
       "2006 0            Team USA      False  \n",
       "     15           Team USA      False  \n",
       "2007 0            Team USA      False  \n",
       "2008 0            Team USA       True  \n",
       "2009 0            Team USA      False  \n",
       "2010 0            Team USA       True  \n",
       "2011 0            Team USA       True  \n",
       "2012 0            Team USA      False  \n",
       "2013 0            Team USA       True  \n",
       "2014 0            Team USA       True  \n",
       "2015 0            Team USA      False  \n",
       "2016 0            Team USA       True  "
      ]
     },
     "execution_count": 36,
     "metadata": {},
     "output_type": "execute_result"
    }
   ],
   "source": [
    "#see which years have teams matches\n",
    "df[df['Format']=='Teams']"
   ]
  },
  {
   "cell_type": "code",
   "execution_count": 37,
   "metadata": {
    "collapsed": true
   },
   "outputs": [],
   "source": [
    "#years that have teams matches\n",
    "yrs =[ i for i in range(2006,2017)]"
   ]
  },
  {
   "cell_type": "code",
   "execution_count": 38,
   "metadata": {},
   "outputs": [
    {
     "data": {
      "text/plain": [
       "Match\n",
       "0                            Team USA\n",
       "1     Shane Van Boening Rodney Morris\n",
       "2                        Jeremy Jones\n",
       "3       Earl Strickland Johnny Archer\n",
       "4     Shane Van Boening Rodney Morris\n",
       "5                     Earl Strickland\n",
       "6          Johnny Archer Jeremy Jones\n",
       "7                     Earl Strickland\n",
       "8       Earl Strickland Rodney Morris\n",
       "9                   Shane Van Boening\n",
       "10         Johnny Archer Jeremy Jones\n",
       "11                      Rodney Morris\n",
       "12                  Shane Van Boening\n",
       "13                       Jeremy Jones\n",
       "14         Rodney Morris Jeremy Jones\n",
       "15                  Shane Van Boening\n",
       "Name: American_player, dtype: object"
      ]
     },
     "execution_count": 38,
     "metadata": {},
     "output_type": "execute_result"
    }
   ],
   "source": [
    "df.loc[2008]['American_player']"
   ]
  },
  {
   "cell_type": "code",
   "execution_count": 39,
   "metadata": {
    "collapsed": true
   },
   "outputs": [],
   "source": [
    "#form method for particular year to change 'Team Europe' and 'Team America' to contain all the players' names\n",
    "for year in yrs:\n",
    "    dfnew = df.loc[year]\n",
    "    dfn = dfnew[dfnew.Format == 'Singles'] \n",
    "    #europe\n",
    "    lst = dfn.European_player[:].tolist()\n",
    "    s = set(lst)\n",
    "    team_europe = list(s)\n",
    "    euro = ', '.join(team_europe)\n",
    "    df.loc[(year,0),'European_player'] = euro\n",
    "    #america\n",
    "    lst = dfn.American_player[:].tolist()\n",
    "    s = set(lst)\n",
    "    team_usa = list(s)\n",
    "    us = ', '.join(team_usa)\n",
    "    df.loc[(year,0),'American_player'] = us"
   ]
  },
  {
   "cell_type": "code",
   "execution_count": 40,
   "metadata": {
    "collapsed": true
   },
   "outputs": [],
   "source": [
    "#override errors created by those players not having played any singles matches\n",
    "df.loc[(2008,0),'American_player'] = 'Earl Strickland, Jeremy Jones, Rodney Morris, Shane Van Boening, Johnny Archer'\n",
    "df.loc[(2008,0),'European_player'] = 'Niels Feijen, Tony Drago, Mika Immonen, Ralf Souquet, Mark Gray'\n",
    "df.loc[(2006,15),'American_player'] = df.loc[2006]['American_player'][0]\n",
    "df.loc[(2006,15),'European_player'] = df.loc[2006]['European_player'][0]"
   ]
  },
  {
   "cell_type": "code",
   "execution_count": 41,
   "metadata": {},
   "outputs": [
    {
     "data": {
      "text/plain": [
       "'Rodney Morris, Mike Davis, Earl Strickland, Johnny Archer, Corey Deuel, John Schmidt'"
      ]
     },
     "execution_count": 41,
     "metadata": {},
     "output_type": "execute_result"
    }
   ],
   "source": [
    "#there were two matches in 2006\n",
    "df.loc[2006]['American_player'][15]"
   ]
  },
  {
   "cell_type": "markdown",
   "metadata": {},
   "source": [
    "## Now to fix triples data"
   ]
  },
  {
   "cell_type": "code",
   "execution_count": 42,
   "metadata": {},
   "outputs": [
    {
     "data": {
      "text/html": [
       "<div>\n",
       "<table border=\"1\" class=\"dataframe\">\n",
       "  <thead>\n",
       "    <tr style=\"text-align: right;\">\n",
       "      <th></th>\n",
       "      <th></th>\n",
       "      <th>Format</th>\n",
       "      <th>European_player</th>\n",
       "      <th>European_score</th>\n",
       "      <th>American_score</th>\n",
       "      <th>American_player</th>\n",
       "      <th>Europe_won</th>\n",
       "    </tr>\n",
       "    <tr>\n",
       "      <th>Year</th>\n",
       "      <th>Match</th>\n",
       "      <th></th>\n",
       "      <th></th>\n",
       "      <th></th>\n",
       "      <th></th>\n",
       "      <th></th>\n",
       "      <th></th>\n",
       "    </tr>\n",
       "  </thead>\n",
       "  <tbody>\n",
       "    <tr>\n",
       "      <th rowspan=\"2\" valign=\"top\">2006</th>\n",
       "      <th>16</th>\n",
       "      <td>Triples</td>\n",
       "      <td>Imran Majid Thomas Engert Nick van den Berg</td>\n",
       "      <td>5</td>\n",
       "      <td>6</td>\n",
       "      <td>Corey Deuel Earl Strickland John Schmidt</td>\n",
       "      <td>False</td>\n",
       "    </tr>\n",
       "    <tr>\n",
       "      <th>17</th>\n",
       "      <td>Triples</td>\n",
       "      <td>Ralf Souquet Mika Immonen David Alcaide</td>\n",
       "      <td>1</td>\n",
       "      <td>6</td>\n",
       "      <td>Johnny Archer Rodney Morris Mike Davis</td>\n",
       "      <td>False</td>\n",
       "    </tr>\n",
       "  </tbody>\n",
       "</table>\n",
       "</div>"
      ],
      "text/plain": [
       "             Format                              European_player  \\\n",
       "Year Match                                                         \n",
       "2006 16     Triples  Imran Majid Thomas Engert Nick van den Berg   \n",
       "     17     Triples      Ralf Souquet Mika Immonen David Alcaide   \n",
       "\n",
       "           European_score American_score  \\\n",
       "Year Match                                 \n",
       "2006 16                 5              6   \n",
       "     17                 1              6   \n",
       "\n",
       "                                     American_player Europe_won  \n",
       "Year Match                                                       \n",
       "2006 16     Corey Deuel Earl Strickland John Schmidt      False  \n",
       "     17       Johnny Archer Rodney Morris Mike Davis      False  "
      ]
     },
     "execution_count": 42,
     "metadata": {},
     "output_type": "execute_result"
    }
   ],
   "source": [
    "df[df['Format']=='Triples']"
   ]
  },
  {
   "cell_type": "code",
   "execution_count": 43,
   "metadata": {},
   "outputs": [
    {
     "data": {
      "text/html": [
       "<div>\n",
       "<table border=\"1\" class=\"dataframe\">\n",
       "  <thead>\n",
       "    <tr style=\"text-align: right;\">\n",
       "      <th></th>\n",
       "      <th></th>\n",
       "      <th>Format</th>\n",
       "      <th>European_player</th>\n",
       "      <th>European_score</th>\n",
       "      <th>American_score</th>\n",
       "      <th>American_player</th>\n",
       "      <th>Europe_won</th>\n",
       "    </tr>\n",
       "    <tr>\n",
       "      <th>Year</th>\n",
       "      <th>Match</th>\n",
       "      <th></th>\n",
       "      <th></th>\n",
       "      <th></th>\n",
       "      <th></th>\n",
       "      <th></th>\n",
       "      <th></th>\n",
       "    </tr>\n",
       "  </thead>\n",
       "  <tbody>\n",
       "    <tr>\n",
       "      <th rowspan=\"2\" valign=\"top\">2006</th>\n",
       "      <th>1</th>\n",
       "      <td>Trebles</td>\n",
       "      <td>Mika Immonen David Alcaide Ralf Souquet</td>\n",
       "      <td>6</td>\n",
       "      <td>3</td>\n",
       "      <td>Johnny Archer John Schmidt Mike Davis</td>\n",
       "      <td>True</td>\n",
       "    </tr>\n",
       "    <tr>\n",
       "      <th>2</th>\n",
       "      <td>Trebles</td>\n",
       "      <td>Imran Majid Thomas Engert Nick van den Berg</td>\n",
       "      <td>2</td>\n",
       "      <td>6</td>\n",
       "      <td>Corey Deuel Earl Strickland Rodney Morris</td>\n",
       "      <td>False</td>\n",
       "    </tr>\n",
       "  </tbody>\n",
       "</table>\n",
       "</div>"
      ],
      "text/plain": [
       "             Format                              European_player  \\\n",
       "Year Match                                                         \n",
       "2006 1      Trebles      Mika Immonen David Alcaide Ralf Souquet   \n",
       "     2      Trebles  Imran Majid Thomas Engert Nick van den Berg   \n",
       "\n",
       "           European_score American_score  \\\n",
       "Year Match                                 \n",
       "2006 1                  6              3   \n",
       "     2                  2              6   \n",
       "\n",
       "                                      American_player Europe_won  \n",
       "Year Match                                                        \n",
       "2006 1          Johnny Archer John Schmidt Mike Davis       True  \n",
       "     2      Corey Deuel Earl Strickland Rodney Morris      False  "
      ]
     },
     "execution_count": 43,
     "metadata": {},
     "output_type": "execute_result"
    }
   ],
   "source": [
    "df[df['Format']=='Trebles']"
   ]
  },
  {
   "cell_type": "code",
   "execution_count": 44,
   "metadata": {
    "collapsed": true
   },
   "outputs": [],
   "source": [
    "#change trebles to triples\n",
    "df.loc[(2006,1),'Format']='Triples'\n",
    "df.loc[(2006,2),'Format']='Triples'"
   ]
  },
  {
   "cell_type": "code",
   "execution_count": 45,
   "metadata": {
    "collapsed": true
   },
   "outputs": [],
   "source": [
    "path = 'allyears_clean'\n",
    "df.to_pickle(path)"
   ]
  },
  {
   "cell_type": "markdown",
   "metadata": {},
   "source": [
    "## Now let's try to save the dataframe to a sql database"
   ]
  },
  {
   "cell_type": "code",
   "execution_count": 46,
   "metadata": {
    "collapsed": true
   },
   "outputs": [],
   "source": [
    "from sqlalchemy import create_engine\n",
    "engine = create_engine('sqlite:///allyears_clean.sqlite')\n",
    "connection = engine.connect()"
   ]
  },
  {
   "cell_type": "code",
   "execution_count": 57,
   "metadata": {
    "collapsed": true,
    "scrolled": true
   },
   "outputs": [],
   "source": [
    "df.to_sql('allyears_clean.sqlite', if_exists= 'replace', con = connection)"
   ]
  },
  {
   "cell_type": "code",
   "execution_count": 54,
   "metadata": {
    "collapsed": true
   },
   "outputs": [],
   "source": [
    "query = 'allyears_clean.sqlite'"
   ]
  },
  {
   "cell_type": "code",
   "execution_count": 55,
   "metadata": {
    "collapsed": true
   },
   "outputs": [],
   "source": [
    "dataf= pd.read_sql(query,connection)"
   ]
  },
  {
   "cell_type": "code",
   "execution_count": 60,
   "metadata": {
    "collapsed": true
   },
   "outputs": [],
   "source": [
    "connection.close()"
   ]
  }
 ],
 "metadata": {
  "kernelspec": {
   "display_name": "Python 3",
   "language": "python",
   "name": "python3"
  },
  "language_info": {
   "codemirror_mode": {
    "name": "ipython",
    "version": 3
   },
   "file_extension": ".py",
   "mimetype": "text/x-python",
   "name": "python",
   "nbconvert_exporter": "python",
   "pygments_lexer": "ipython3",
   "version": "3.5.2"
  }
 },
 "nbformat": 4,
 "nbformat_minor": 2
}
