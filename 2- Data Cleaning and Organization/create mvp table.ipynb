{
 "cells": [
  {
   "cell_type": "markdown",
   "metadata": {},
   "source": [
    "Goal: Create db table with mvp data"
   ]
  },
  {
   "cell_type": "code",
   "execution_count": 34,
   "metadata": {
    "collapsed": true
   },
   "outputs": [],
   "source": [
    "import pandas as pd\n",
    "import os"
   ]
  },
  {
   "cell_type": "code",
   "execution_count": 35,
   "metadata": {
    "collapsed": true
   },
   "outputs": [],
   "source": [
    "import sqlalchemy"
   ]
  },
  {
   "cell_type": "code",
   "execution_count": 36,
   "metadata": {
    "collapsed": true
   },
   "outputs": [],
   "source": [
    "parent=os.path.abspath('..')"
   ]
  },
  {
   "cell_type": "code",
   "execution_count": 37,
   "metadata": {
    "collapsed": true
   },
   "outputs": [],
   "source": [
    "path = os.path.join(parent,'players.db')\n",
    "engine = sqlalchemy.create_engine('sqlite:///{}'.format(path))\n",
    "conn = engine.connect()"
   ]
  },
  {
   "cell_type": "code",
   "execution_count": 38,
   "metadata": {
    "collapsed": true
   },
   "outputs": [],
   "source": [
    "df = pd.read_sql('yearly',conn,index_col='index')"
   ]
  },
  {
   "cell_type": "code",
   "execution_count": 39,
   "metadata": {
    "collapsed": true
   },
   "outputs": [],
   "source": [
    "df.set_index('Year',inplace=True)"
   ]
  },
  {
   "cell_type": "code",
   "execution_count": 40,
   "metadata": {},
   "outputs": [
    {
     "data": {
      "text/html": [
       "<div>\n",
       "<table border=\"1\" class=\"dataframe\">\n",
       "  <thead>\n",
       "    <tr style=\"text-align: right;\">\n",
       "      <th></th>\n",
       "      <th>Venue</th>\n",
       "      <th>Victors</th>\n",
       "      <th>Score</th>\n",
       "      <th>Losers</th>\n",
       "      <th>MVP</th>\n",
       "    </tr>\n",
       "    <tr>\n",
       "      <th>Year</th>\n",
       "      <th></th>\n",
       "      <th></th>\n",
       "      <th></th>\n",
       "      <th></th>\n",
       "      <th></th>\n",
       "    </tr>\n",
       "  </thead>\n",
       "  <tbody>\n",
       "    <tr>\n",
       "      <th>1994</th>\n",
       "      <td>Romford, London, England</td>\n",
       "      <td>USA</td>\n",
       "      <td>16–12</td>\n",
       "      <td>Europe</td>\n",
       "      <td>None</td>\n",
       "    </tr>\n",
       "    <tr>\n",
       "      <th>1995</th>\n",
       "      <td>Basildon, Essex, England</td>\n",
       "      <td>Europe</td>\n",
       "      <td>16–15</td>\n",
       "      <td>USA</td>\n",
       "      <td>None</td>\n",
       "    </tr>\n",
       "    <tr>\n",
       "      <th>1996</th>\n",
       "      <td>Dagenham, London, England</td>\n",
       "      <td>USA</td>\n",
       "      <td>15–13</td>\n",
       "      <td>Europe</td>\n",
       "      <td>None</td>\n",
       "    </tr>\n",
       "    <tr>\n",
       "      <th>1997</th>\n",
       "      <td>Bethnal Green, London, England</td>\n",
       "      <td>USA</td>\n",
       "      <td>13–8</td>\n",
       "      <td>Europe</td>\n",
       "      <td>None</td>\n",
       "    </tr>\n",
       "    <tr>\n",
       "      <th>1998</th>\n",
       "      <td>Bethnal Green, London, England</td>\n",
       "      <td>USA</td>\n",
       "      <td>13–9</td>\n",
       "      <td>Europe</td>\n",
       "      <td>None</td>\n",
       "    </tr>\n",
       "    <tr>\n",
       "      <th>1999</th>\n",
       "      <td>Bethnal Green, London, England</td>\n",
       "      <td>USA</td>\n",
       "      <td>12–7</td>\n",
       "      <td>Europe</td>\n",
       "      <td>None</td>\n",
       "    </tr>\n",
       "    <tr>\n",
       "      <th>2000</th>\n",
       "      <td>Bethnal Green, London, England</td>\n",
       "      <td>USA</td>\n",
       "      <td>12–9</td>\n",
       "      <td>Europe</td>\n",
       "      <td>None</td>\n",
       "    </tr>\n",
       "    <tr>\n",
       "      <th>2001</th>\n",
       "      <td>Bethnal Green, London, England</td>\n",
       "      <td>USA</td>\n",
       "      <td>12–1</td>\n",
       "      <td>Europe</td>\n",
       "      <td>None</td>\n",
       "    </tr>\n",
       "    <tr>\n",
       "      <th>2002</th>\n",
       "      <td>Bethnal Green, London, England</td>\n",
       "      <td>Europe</td>\n",
       "      <td>12–9</td>\n",
       "      <td>USA</td>\n",
       "      <td>None</td>\n",
       "    </tr>\n",
       "    <tr>\n",
       "      <th>2003</th>\n",
       "      <td>Las Vegas, Nevada, USA</td>\n",
       "      <td>USA</td>\n",
       "      <td>11–9</td>\n",
       "      <td>Europe</td>\n",
       "      <td>Mika Immonen</td>\n",
       "    </tr>\n",
       "    <tr>\n",
       "      <th>2004</th>\n",
       "      <td>Egmond aan Zee, Netherlands</td>\n",
       "      <td>USA</td>\n",
       "      <td>12–9</td>\n",
       "      <td>Europe</td>\n",
       "      <td>Rodney Morris</td>\n",
       "    </tr>\n",
       "    <tr>\n",
       "      <th>2005</th>\n",
       "      <td>Las Vegas, Nevada, USA</td>\n",
       "      <td>USA</td>\n",
       "      <td>11–6</td>\n",
       "      <td>Europe</td>\n",
       "      <td>Earl Strickland</td>\n",
       "    </tr>\n",
       "    <tr>\n",
       "      <th>2006</th>\n",
       "      <td>Rotterdam, Netherlands</td>\n",
       "      <td>Tied</td>\n",
       "      <td>12–12</td>\n",
       "      <td>Tied</td>\n",
       "      <td>Corey Deuel</td>\n",
       "    </tr>\n",
       "    <tr>\n",
       "      <th>2007</th>\n",
       "      <td>Las Vegas, Nevada, USA</td>\n",
       "      <td>Europe</td>\n",
       "      <td>11–8</td>\n",
       "      <td>USA</td>\n",
       "      <td>Tony Drago</td>\n",
       "    </tr>\n",
       "    <tr>\n",
       "      <th>2008</th>\n",
       "      <td>St. Julian's, Malta</td>\n",
       "      <td>Europe</td>\n",
       "      <td>11–5</td>\n",
       "      <td>USA</td>\n",
       "      <td>Mika Immonen</td>\n",
       "    </tr>\n",
       "    <tr>\n",
       "      <th>2009</th>\n",
       "      <td>Las Vegas, Nevada, USA</td>\n",
       "      <td>USA</td>\n",
       "      <td>11–7</td>\n",
       "      <td>Europe</td>\n",
       "      <td>Dennis Hatch</td>\n",
       "    </tr>\n",
       "    <tr>\n",
       "      <th>2010</th>\n",
       "      <td>Bethnal Green, London, England</td>\n",
       "      <td>Europe</td>\n",
       "      <td>11–8</td>\n",
       "      <td>USA</td>\n",
       "      <td>Darren Appleton</td>\n",
       "    </tr>\n",
       "    <tr>\n",
       "      <th>2011</th>\n",
       "      <td>Las Vegas, Nevada, USA</td>\n",
       "      <td>Europe</td>\n",
       "      <td>11–7</td>\n",
       "      <td>USA</td>\n",
       "      <td>Niels Feijen</td>\n",
       "    </tr>\n",
       "    <tr>\n",
       "      <th>2012</th>\n",
       "      <td>Bethnal Green, London, England</td>\n",
       "      <td>Europe</td>\n",
       "      <td>11–9</td>\n",
       "      <td>USA</td>\n",
       "      <td>Chris Melling</td>\n",
       "    </tr>\n",
       "    <tr>\n",
       "      <th>2013</th>\n",
       "      <td>Las Vegas, Nevada, USA</td>\n",
       "      <td>Europe</td>\n",
       "      <td>11–2</td>\n",
       "      <td>USA</td>\n",
       "      <td>Niels Feijen</td>\n",
       "    </tr>\n",
       "    <tr>\n",
       "      <th>2014</th>\n",
       "      <td>Tower Circus, Blackpool, England</td>\n",
       "      <td>Europe</td>\n",
       "      <td>11–5</td>\n",
       "      <td>USA</td>\n",
       "      <td>Niels Feijen</td>\n",
       "    </tr>\n",
       "    <tr>\n",
       "      <th>2015</th>\n",
       "      <td>Las Vegas, Nevada, USA</td>\n",
       "      <td>Europe</td>\n",
       "      <td>11–7</td>\n",
       "      <td>USA</td>\n",
       "      <td>Niels Feijen</td>\n",
       "    </tr>\n",
       "    <tr>\n",
       "      <th>2016</th>\n",
       "      <td>Alexandra Palace, London, England</td>\n",
       "      <td>Europe</td>\n",
       "      <td>11–3</td>\n",
       "      <td>USA</td>\n",
       "      <td>Albin Ouschan</td>\n",
       "    </tr>\n",
       "  </tbody>\n",
       "</table>\n",
       "</div>"
      ],
      "text/plain": [
       "                                  Venue  Victors  Score   Losers  \\\n",
       "Year                                                               \n",
       "1994           Romford, London, England      USA  16–12   Europe   \n",
       "1995           Basildon, Essex, England   Europe  16–15      USA   \n",
       "1996          Dagenham, London, England      USA  15–13   Europe   \n",
       "1997     Bethnal Green, London, England      USA   13–8   Europe   \n",
       "1998     Bethnal Green, London, England      USA   13–9   Europe   \n",
       "1999     Bethnal Green, London, England      USA   12–7   Europe   \n",
       "2000     Bethnal Green, London, England      USA   12–9   Europe   \n",
       "2001     Bethnal Green, London, England      USA   12–1   Europe   \n",
       "2002     Bethnal Green, London, England   Europe   12–9      USA   \n",
       "2003             Las Vegas, Nevada, USA      USA   11–9   Europe   \n",
       "2004        Egmond aan Zee, Netherlands      USA   12–9   Europe   \n",
       "2005             Las Vegas, Nevada, USA      USA   11–6   Europe   \n",
       "2006             Rotterdam, Netherlands     Tied  12–12     Tied   \n",
       "2007             Las Vegas, Nevada, USA   Europe   11–8      USA   \n",
       "2008                St. Julian's, Malta   Europe   11–5      USA   \n",
       "2009             Las Vegas, Nevada, USA      USA   11–7   Europe   \n",
       "2010     Bethnal Green, London, England   Europe   11–8      USA   \n",
       "2011             Las Vegas, Nevada, USA   Europe   11–7      USA   \n",
       "2012     Bethnal Green, London, England   Europe   11–9      USA   \n",
       "2013             Las Vegas, Nevada, USA   Europe   11–2      USA   \n",
       "2014   Tower Circus, Blackpool, England   Europe   11–5      USA   \n",
       "2015             Las Vegas, Nevada, USA   Europe   11–7      USA   \n",
       "2016  Alexandra Palace, London, England   Europe   11–3      USA   \n",
       "\n",
       "                  MVP  \n",
       "Year                   \n",
       "1994             None  \n",
       "1995             None  \n",
       "1996             None  \n",
       "1997             None  \n",
       "1998             None  \n",
       "1999             None  \n",
       "2000             None  \n",
       "2001             None  \n",
       "2002             None  \n",
       "2003     Mika Immonen  \n",
       "2004    Rodney Morris  \n",
       "2005  Earl Strickland  \n",
       "2006      Corey Deuel  \n",
       "2007       Tony Drago  \n",
       "2008     Mika Immonen  \n",
       "2009     Dennis Hatch  \n",
       "2010  Darren Appleton  \n",
       "2011     Niels Feijen  \n",
       "2012    Chris Melling  \n",
       "2013     Niels Feijen  \n",
       "2014     Niels Feijen  \n",
       "2015     Niels Feijen  \n",
       "2016    Albin Ouschan  "
      ]
     },
     "execution_count": 40,
     "metadata": {},
     "output_type": "execute_result"
    }
   ],
   "source": [
    "df"
   ]
  },
  {
   "cell_type": "code",
   "execution_count": 41,
   "metadata": {
    "collapsed": true
   },
   "outputs": [],
   "source": [
    "sql='select MVP,Victors as Team,count(*)as Count FROM yearly GROUP BY MVP HAVING not MVP Is null order by Count desc'\n",
    "# sql= 'select * from yearly where not MVP is null'"
   ]
  },
  {
   "cell_type": "code",
   "execution_count": 42,
   "metadata": {
    "collapsed": true
   },
   "outputs": [],
   "source": [
    "mvp= pd.read_sql(sql,conn)"
   ]
  },
  {
   "cell_type": "code",
   "execution_count": 43,
   "metadata": {},
   "outputs": [
    {
     "data": {
      "text/html": [
       "<div>\n",
       "<table border=\"1\" class=\"dataframe\">\n",
       "  <thead>\n",
       "    <tr style=\"text-align: right;\">\n",
       "      <th></th>\n",
       "      <th>MVP</th>\n",
       "      <th>Team</th>\n",
       "      <th>Count</th>\n",
       "    </tr>\n",
       "  </thead>\n",
       "  <tbody>\n",
       "    <tr>\n",
       "      <th>0</th>\n",
       "      <td>Niels Feijen</td>\n",
       "      <td>Europe</td>\n",
       "      <td>4</td>\n",
       "    </tr>\n",
       "    <tr>\n",
       "      <th>1</th>\n",
       "      <td>Mika Immonen</td>\n",
       "      <td>Europe</td>\n",
       "      <td>2</td>\n",
       "    </tr>\n",
       "    <tr>\n",
       "      <th>2</th>\n",
       "      <td>Albin Ouschan</td>\n",
       "      <td>Europe</td>\n",
       "      <td>1</td>\n",
       "    </tr>\n",
       "    <tr>\n",
       "      <th>3</th>\n",
       "      <td>Chris Melling</td>\n",
       "      <td>Europe</td>\n",
       "      <td>1</td>\n",
       "    </tr>\n",
       "    <tr>\n",
       "      <th>4</th>\n",
       "      <td>Corey Deuel</td>\n",
       "      <td>Tied</td>\n",
       "      <td>1</td>\n",
       "    </tr>\n",
       "    <tr>\n",
       "      <th>5</th>\n",
       "      <td>Darren Appleton</td>\n",
       "      <td>Europe</td>\n",
       "      <td>1</td>\n",
       "    </tr>\n",
       "    <tr>\n",
       "      <th>6</th>\n",
       "      <td>Dennis Hatch</td>\n",
       "      <td>USA</td>\n",
       "      <td>1</td>\n",
       "    </tr>\n",
       "    <tr>\n",
       "      <th>7</th>\n",
       "      <td>Earl Strickland</td>\n",
       "      <td>USA</td>\n",
       "      <td>1</td>\n",
       "    </tr>\n",
       "    <tr>\n",
       "      <th>8</th>\n",
       "      <td>Rodney Morris</td>\n",
       "      <td>USA</td>\n",
       "      <td>1</td>\n",
       "    </tr>\n",
       "    <tr>\n",
       "      <th>9</th>\n",
       "      <td>Tony Drago</td>\n",
       "      <td>Europe</td>\n",
       "      <td>1</td>\n",
       "    </tr>\n",
       "  </tbody>\n",
       "</table>\n",
       "</div>"
      ],
      "text/plain": [
       "               MVP     Team  Count\n",
       "0     Niels Feijen   Europe      4\n",
       "1     Mika Immonen   Europe      2\n",
       "2    Albin Ouschan   Europe      1\n",
       "3    Chris Melling   Europe      1\n",
       "4      Corey Deuel     Tied      1\n",
       "5  Darren Appleton   Europe      1\n",
       "6     Dennis Hatch      USA      1\n",
       "7  Earl Strickland      USA      1\n",
       "8    Rodney Morris      USA      1\n",
       "9       Tony Drago   Europe      1"
      ]
     },
     "execution_count": 43,
     "metadata": {},
     "output_type": "execute_result"
    }
   ],
   "source": [
    "mvp"
   ]
  },
  {
   "cell_type": "markdown",
   "metadata": {},
   "source": [
    "Fix unicode issues"
   ]
  },
  {
   "cell_type": "code",
   "execution_count": 44,
   "metadata": {
    "collapsed": true
   },
   "outputs": [],
   "source": [
    "import unicodedata"
   ]
  },
  {
   "cell_type": "code",
   "execution_count": 45,
   "metadata": {
    "collapsed": true
   },
   "outputs": [],
   "source": [
    "def fcn(x):\n",
    "    import unicodedata\n",
    "    str.strip(unicodedata.normalize(\"NFKD\", x))"
   ]
  },
  {
   "cell_type": "code",
   "execution_count": 46,
   "metadata": {
    "collapsed": true
   },
   "outputs": [],
   "source": [
    "mvp['Team']=mvp['Team'].apply(lambda x: str.strip(unicodedata.normalize(\"NFKD\",x)))"
   ]
  },
  {
   "cell_type": "code",
   "execution_count": 47,
   "metadata": {
    "scrolled": true
   },
   "outputs": [
    {
     "name": "stderr",
     "output_type": "stream",
     "text": [
      "c:\\users\\andrew\\appdata\\local\\programs\\python\\python35\\lib\\site-packages\\ipykernel\\__main__.py:1: SettingWithCopyWarning: \n",
      "A value is trying to be set on a copy of a slice from a DataFrame\n",
      "\n",
      "See the caveats in the documentation: http://pandas.pydata.org/pandas-docs/stable/indexing.html#indexing-view-versus-copy\n",
      "  if __name__ == '__main__':\n"
     ]
    }
   ],
   "source": [
    "mvp['Team'][4]='USA'"
   ]
  },
  {
   "cell_type": "code",
   "execution_count": 48,
   "metadata": {},
   "outputs": [
    {
     "data": {
      "text/plain": [
       "0    Europe\n",
       "1    Europe\n",
       "2    Europe\n",
       "3    Europe\n",
       "4       USA\n",
       "5    Europe\n",
       "6       USA\n",
       "7       USA\n",
       "8       USA\n",
       "9    Europe\n",
       "Name: Team, dtype: object"
      ]
     },
     "execution_count": 48,
     "metadata": {},
     "output_type": "execute_result"
    }
   ],
   "source": [
    "mvp['Team']"
   ]
  },
  {
   "cell_type": "markdown",
   "metadata": {},
   "source": [
    "SAVE changes to db"
   ]
  },
  {
   "cell_type": "code",
   "execution_count": 49,
   "metadata": {
    "collapsed": true
   },
   "outputs": [],
   "source": [
    "mvp.to_sql('mvp',conn,if_exists='replace')"
   ]
  },
  {
   "cell_type": "code",
   "execution_count": 50,
   "metadata": {},
   "outputs": [
    {
     "data": {
      "text/plain": [
       "[(0, 'Niels Feijen', 'Europe', 4),\n",
       " (1, 'Mika Immonen', 'Europe', 2),\n",
       " (2, 'Albin Ouschan', 'Europe', 1),\n",
       " (3, 'Chris Melling', 'Europe', 1),\n",
       " (4, 'Corey Deuel', 'USA', 1),\n",
       " (5, 'Darren Appleton', 'Europe', 1),\n",
       " (6, 'Dennis Hatch', 'USA', 1),\n",
       " (7, 'Earl Strickland', 'USA', 1),\n",
       " (8, 'Rodney Morris', 'USA', 1),\n",
       " (9, 'Tony Drago', 'Europe', 1)]"
      ]
     },
     "execution_count": 50,
     "metadata": {},
     "output_type": "execute_result"
    }
   ],
   "source": [
    "conn.execute('select * from mvp').fetchall()"
   ]
  },
  {
   "cell_type": "code",
   "execution_count": 51,
   "metadata": {
    "collapsed": true
   },
   "outputs": [],
   "source": [
    "conn.close()"
   ]
  }
 ],
 "metadata": {
  "kernelspec": {
   "display_name": "Python 3",
   "language": "python",
   "name": "python3"
  },
  "language_info": {
   "codemirror_mode": {
    "name": "ipython",
    "version": 3
   },
   "file_extension": ".py",
   "mimetype": "text/x-python",
   "name": "python",
   "nbconvert_exporter": "python",
   "pygments_lexer": "ipython3",
   "version": "3.5.2"
  }
 },
 "nbformat": 4,
 "nbformat_minor": 2
}
