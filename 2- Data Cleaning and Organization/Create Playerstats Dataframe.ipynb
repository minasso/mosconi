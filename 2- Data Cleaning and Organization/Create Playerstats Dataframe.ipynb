{
 "cells": [
  {
   "cell_type": "markdown",
   "metadata": {},
   "source": [
    "Goal: create functions to mine data for aggregate stats"
   ]
  },
  {
   "cell_type": "code",
   "execution_count": 1,
   "metadata": {},
   "outputs": [],
   "source": [
    "import pandas as pd"
   ]
  },
  {
   "cell_type": "code",
   "execution_count": 2,
   "metadata": {},
   "outputs": [],
   "source": [
    "import sqlite3"
   ]
  },
  {
   "cell_type": "code",
   "execution_count": 3,
   "metadata": {},
   "outputs": [],
   "source": [
    "con=sqlite3.connect('../players.db')"
   ]
  },
  {
   "cell_type": "code",
   "execution_count": 4,
   "metadata": {},
   "outputs": [],
   "source": [
    "players_df = pd.read_sql('select * from players',con)"
   ]
  },
  {
   "cell_type": "code",
   "execution_count": 6,
   "metadata": {},
   "outputs": [],
   "source": [
    "df = pd.read_sql('select * from results',con)"
   ]
  },
  {
   "cell_type": "code",
   "execution_count": 22,
   "metadata": {},
   "outputs": [],
   "source": [
    "am_players = list(players_df.query('Team == \"America\"')['Name'])\n",
    "euro_players = list(players_df.query('Team == \"Europe\"')['Name'])"
   ]
  },
  {
   "cell_type": "code",
   "execution_count": 23,
   "metadata": {},
   "outputs": [],
   "source": [
    "d={}\n",
    "for player in am_players:\n",
    "    d[player] = df['American_player'].str.contains(player)\n",
    "for player in euro_players:\n",
    "    d[player] = df['European_player'].str.contains(player)"
   ]
  },
  {
   "cell_type": "code",
   "execution_count": 24,
   "metadata": {},
   "outputs": [],
   "source": [
    "#Create shorthands for boolean indexing the dataframe\n",
    "singles = df['Format']=='Singles'\n",
    "doubles = df['Format']=='Doubles'\n",
    "teams = df['Format']=='Teams'\n",
    "triples = df['Format']=='Triples'\n",
    "europe_won = df['Europe_won'] == True\n",
    "america_won = df['Europe_won'] == False"
   ]
  },
  {
   "cell_type": "code",
   "execution_count": 25,
   "metadata": {},
   "outputs": [],
   "source": [
    "def winlosslist(player, country, df=df):\n",
    "    \n",
    "    #singles\n",
    "    if 'a' in country:\n",
    "        swin=df[america_won&singles&d[player]].shape[0]\n",
    "        sloss=df[d[player]&~america_won&singles].shape[0]\n",
    "        smp=swin+sloss\n",
    "    else:\n",
    "        sloss=df[d[player]&america_won&singles].shape[0]\n",
    "        swin=df[d[player]&~america_won&singles].shape[0]    \n",
    "        smp=swin+sloss\n",
    "    swl='{}-{}'.format(swin,sloss)\n",
    "    try:\n",
    "        spct=swin*100/(swin+sloss)\n",
    "    except:\n",
    "        spct=0\n",
    "    \n",
    "    #doubles\n",
    "    if 'a' in country:\n",
    "        dwin=df[d[player]&america_won&doubles].shape[0]\n",
    "        dloss=df[d[player]&~america_won&doubles].shape[0]\n",
    "        dmp=dwin+dloss\n",
    "    else:\n",
    "        dloss=df[d[player]&america_won&doubles].shape[0]\n",
    "        dwin=df[d[player]&~america_won&doubles].shape[0] \n",
    "        dmp=dwin+dloss\n",
    "    dwl='{}-{}'.format(dwin,dloss)\n",
    "    try:\n",
    "        dpct=dwin*100/(dwin+dloss)   \n",
    "    except:\n",
    "        dpct=0\n",
    "    \n",
    "        #teams\n",
    "    if 'a' in country:\n",
    "        twin=df[d[player]&america_won&teams].shape[0]\n",
    "        tloss=df[d[player]&~america_won&teams].shape[0]\n",
    "        tmp=twin+tloss\n",
    "    else:\n",
    "        tloss=df[d[player]&america_won&teams].shape[0]\n",
    "        twin=df[d[player]&~america_won&teams].shape[0] \n",
    "        tmp=twin+tloss\n",
    "    twl='{}-{}'.format(twin,tloss)\n",
    "    try:\n",
    "        tpct=twin*100/(twin+tloss)   \n",
    "    except:\n",
    "        tpct=0\n",
    "        \n",
    "        #triples\n",
    "    if 'a' in country:\n",
    "        trwin=df[d[player]&america_won&triples].shape[0]\n",
    "        trloss=df[d[player]&~america_won&triples].shape[0]\n",
    "        trmp=trwin+trloss\n",
    "    else:\n",
    "        trloss=df[d[player]&america_won&triples].shape[0]\n",
    "        trwin=df[d[player]&~america_won&triples].shape[0] \n",
    "        trmp=trwin+trloss\n",
    "    trwl='{}-{}'.format(trwin,trloss)\n",
    "    try:\n",
    "        trpct=round(trwin*100/(trwin+trloss),2)        \n",
    "    except:\n",
    "        trpct=0\n",
    "\n",
    "    #combined\n",
    "    cwin=dwin+swin+twin+trwin\n",
    "    closs=dloss+sloss+tloss+trloss\n",
    "    cmp=cwin+closs\n",
    "    cwl='{}-{}'.format(cwin,closs)\n",
    "    cpct=cwin*100/(cwin+closs)\n",
    "    l=[player,country,smp,swin,sloss,swl,round(spct,2),dmp,dwin,dloss,dwl,round(dpct,2), twl,trwl,cmp, cwin,closs,cwl,round(cpct,2)]\n",
    "    return(l)"
   ]
  },
  {
   "cell_type": "code",
   "execution_count": 26,
   "metadata": {},
   "outputs": [],
   "source": [
    "#prepare list of winlosslists for each player to create player stats dataframe\n",
    "L=[]\n",
    "for player in am_players:\n",
    "    try:\n",
    "        lst = winlosslist(player,'America')\n",
    "        L.append(lst)\n",
    "    except: #Zerodivision error:\n",
    "        print('failure- am: ', player)\n",
    "#         pass\n",
    "for player in euro_players:\n",
    "    try:\n",
    "        lst = winlosslist(player,'Europe')\n",
    "        L.append(lst)\n",
    "    except: #Zerodivision error:\n",
    "        print('failure -eu ', player)\n",
    "#         pass"
   ]
  },
  {
   "cell_type": "code",
   "execution_count": 27,
   "metadata": {},
   "outputs": [],
   "source": [
    "#create player_stats dataframe\n",
    "colz = 'Player,Team,Smp,Swin,Sloss,Swl,Spct,Dmp,Dwin,Dloss,Dwl,Dpct,Twl,Trwl,Cmp,Cwin,Closs,Cwl,Cpct'.split(',')\n",
    "player_stats = pd.DataFrame(L, columns = colz)"
   ]
  },
  {
   "cell_type": "code",
   "execution_count": 30,
   "metadata": {},
   "outputs": [
    {
     "data": {
      "text/html": [
       "<div>\n",
       "<style scoped>\n",
       "    .dataframe tbody tr th:only-of-type {\n",
       "        vertical-align: middle;\n",
       "    }\n",
       "\n",
       "    .dataframe tbody tr th {\n",
       "        vertical-align: top;\n",
       "    }\n",
       "\n",
       "    .dataframe thead th {\n",
       "        text-align: right;\n",
       "    }\n",
       "</style>\n",
       "<table border=\"1\" class=\"dataframe\">\n",
       "  <thead>\n",
       "    <tr style=\"text-align: right;\">\n",
       "      <th></th>\n",
       "      <th>Player</th>\n",
       "      <th>Team</th>\n",
       "      <th>Smp</th>\n",
       "      <th>Swin</th>\n",
       "      <th>Sloss</th>\n",
       "      <th>Swl</th>\n",
       "      <th>Spct</th>\n",
       "      <th>Dmp</th>\n",
       "      <th>Dwin</th>\n",
       "      <th>Dloss</th>\n",
       "      <th>Dwl</th>\n",
       "      <th>Dpct</th>\n",
       "      <th>Twl</th>\n",
       "      <th>Trwl</th>\n",
       "      <th>Cmp</th>\n",
       "      <th>Cwin</th>\n",
       "      <th>Closs</th>\n",
       "      <th>Cwl</th>\n",
       "      <th>Cpct</th>\n",
       "    </tr>\n",
       "  </thead>\n",
       "  <tbody>\n",
       "  </tbody>\n",
       "</table>\n",
       "</div>"
      ],
      "text/plain": [
       "Empty DataFrame\n",
       "Columns: [Player, Team, Smp, Swin, Sloss, Swl, Spct, Dmp, Dwin, Dloss, Dwl, Dpct, Twl, Trwl, Cmp, Cwin, Closs, Cwl, Cpct]\n",
       "Index: []"
      ]
     },
     "execution_count": 30,
     "metadata": {},
     "output_type": "execute_result"
    }
   ],
   "source": [
    "player_stats[player_stats.Player=='Billy Thorpe']"
   ]
  },
  {
   "cell_type": "code",
   "execution_count": 29,
   "metadata": {},
   "outputs": [],
   "source": [
    "# save df to pickle\n",
    "# import pickle\n",
    "# pd.to_pickle(player_stats,'pkl/player_stats')"
   ]
  }
 ],
 "metadata": {
  "hide_input": false,
  "kernelspec": {
   "display_name": "Python 3",
   "language": "python",
   "name": "python3"
  },
  "language_info": {
   "codemirror_mode": {
    "name": "ipython",
    "version": 3
   },
   "file_extension": ".py",
   "mimetype": "text/x-python",
   "name": "python",
   "nbconvert_exporter": "python",
   "pygments_lexer": "ipython3",
   "version": "3.6.5"
  }
 },
 "nbformat": 4,
 "nbformat_minor": 2
}
