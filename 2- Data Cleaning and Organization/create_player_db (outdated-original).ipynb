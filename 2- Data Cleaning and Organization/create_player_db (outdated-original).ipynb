{
 "cells": [
  {
   "cell_type": "markdown",
   "metadata": {},
   "source": [
    "Goal: Create db table with players data"
   ]
  },
  {
   "cell_type": "code",
   "execution_count": 6,
   "metadata": {
    "collapsed": true
   },
   "outputs": [],
   "source": [
    "import pandas as pd"
   ]
  },
  {
   "cell_type": "code",
   "execution_count": null,
   "metadata": {
    "collapsed": true
   },
   "outputs": [],
   "source": [
    "#Create lists of players on each team\n",
    "with open('../euro_players_scrape.txt'), 'r') as rf:\n",
    "    euro_players=[]\n",
    "    for line in rf:\n",
    "        n=line.split('  ')\n",
    "        euro_players.append(n[0])\n",
    "with open(os.path.join(parent,'am_players_scrape.txt'), 'r') as rf:\n",
    "    am_players=[]\n",
    "    for line in rf:\n",
    "        n=line.split('  ')\n",
    "        am_players.append(n[0])\n",
    "        \n",
    "#remove non-playing captains and fix oscar's name\n",
    "am_players.remove('Ã“scar DomÃ\\xadnguez')\n",
    "am_players.append('Óscar Domínguez')\n",
    "\n",
    "am_players.remove('Buddy Hall')\n",
    "am_players.remove('Don Wardell ')\n",
    "euro_players.remove('Johan Ruijsink')"
   ]
  },
  {
   "cell_type": "code",
   "execution_count": 2,
   "metadata": {},
   "outputs": [
    {
     "ename": "FileNotFoundError",
     "evalue": "[Errno 2] No such file or directory: 'am_players_scrape.txt'",
     "output_type": "error",
     "traceback": [
      "\u001b[1;31m---------------------------------------------------------------------------\u001b[0m",
      "\u001b[1;31mFileNotFoundError\u001b[0m                         Traceback (most recent call last)",
      "\u001b[1;32m<ipython-input-2-16073ed2cac0>\u001b[0m in \u001b[0;36m<module>\u001b[1;34m()\u001b[0m\n\u001b[0;32m      1\u001b[0m \u001b[1;32mimport\u001b[0m \u001b[0mre\u001b[0m\u001b[1;33m\u001b[0m\u001b[0m\n\u001b[0;32m      2\u001b[0m \u001b[0mcontents\u001b[0m\u001b[1;33m=\u001b[0m\u001b[1;33m[\u001b[0m\u001b[1;33m]\u001b[0m\u001b[1;33m\u001b[0m\u001b[0m\n\u001b[1;32m----> 3\u001b[1;33m \u001b[1;32mwith\u001b[0m \u001b[0mopen\u001b[0m\u001b[1;33m(\u001b[0m\u001b[1;34m'am_players_scrape.txt'\u001b[0m\u001b[1;33m,\u001b[0m\u001b[1;34m'r'\u001b[0m\u001b[1;33m,\u001b[0m\u001b[0mencoding\u001b[0m\u001b[1;33m=\u001b[0m\u001b[1;34m'utf-8'\u001b[0m\u001b[1;33m)\u001b[0m \u001b[1;32mas\u001b[0m \u001b[0mrf\u001b[0m\u001b[1;33m:\u001b[0m\u001b[1;33m\u001b[0m\u001b[0m\n\u001b[0m\u001b[0;32m      4\u001b[0m     \u001b[1;32mfor\u001b[0m \u001b[0mline\u001b[0m \u001b[1;32min\u001b[0m \u001b[0mrf\u001b[0m\u001b[1;33m:\u001b[0m\u001b[1;33m\u001b[0m\u001b[0m\n\u001b[0;32m      5\u001b[0m         \u001b[0mcont\u001b[0m \u001b[1;33m=\u001b[0m \u001b[0mre\u001b[0m\u001b[1;33m.\u001b[0m\u001b[0msub\u001b[0m\u001b[1;33m(\u001b[0m\u001b[1;34m'\\s{2,5}'\u001b[0m\u001b[1;33m,\u001b[0m\u001b[1;34m', '\u001b[0m\u001b[1;33m,\u001b[0m\u001b[0mline\u001b[0m\u001b[1;33m)\u001b[0m\u001b[1;33m\u001b[0m\u001b[0m\n",
      "\u001b[1;31mFileNotFoundError\u001b[0m: [Errno 2] No such file or directory: 'am_players_scrape.txt'"
     ]
    }
   ],
   "source": [
    "import re\n",
    "contents=[]\n",
    "with open(os.path.join(parent,'am_players_scrape.txt'),'r',encoding='utf-8') as rf:\n",
    "    for line in rf:\n",
    "        cont = re.sub('\\s{2,5}',', ',line)\n",
    "        cont = cont.replace('\\n','')\n",
    "        cont = cont.split(', ')\n",
    "        contents.append(cont)"
   ]
  },
  {
   "cell_type": "code",
   "execution_count": null,
   "metadata": {
    "collapsed": true
   },
   "outputs": [],
   "source": [
    "contents=contents[:-1]"
   ]
  },
  {
   "cell_type": "code",
   "execution_count": null,
   "metadata": {
    "collapsed": true
   },
   "outputs": [],
   "source": [
    "df = pd.DataFrame(contents,columns=['Name','Location'])"
   ]
  },
  {
   "cell_type": "code",
   "execution_count": null,
   "metadata": {
    "collapsed": true
   },
   "outputs": [],
   "source": [
    "df['Team']='America'"
   ]
  },
  {
   "cell_type": "code",
   "execution_count": null,
   "metadata": {
    "collapsed": true
   },
   "outputs": [],
   "source": [
    "import re\n",
    "contents=[]\n",
    "with open(os.path.join(parent,'euro_players_scrape.txt'),'r',encoding='utf-8') as rf:\n",
    "    for line in rf:\n",
    "        cont = re.sub('\\s{2,5}',', ',line)\n",
    "        cont = cont.replace('\\n','')\n",
    "        cont = cont.split(', ')\n",
    "        contents.append(cont)"
   ]
  },
  {
   "cell_type": "code",
   "execution_count": null,
   "metadata": {
    "collapsed": true
   },
   "outputs": [],
   "source": [
    "df2 = pd.DataFrame(contents,columns=['Name','Location'])"
   ]
  },
  {
   "cell_type": "code",
   "execution_count": null,
   "metadata": {
    "collapsed": true
   },
   "outputs": [],
   "source": [
    "df2['Team']='Europe'"
   ]
  },
  {
   "cell_type": "code",
   "execution_count": null,
   "metadata": {
    "collapsed": true
   },
   "outputs": [],
   "source": [
    "df = pd.concat([df,df2])"
   ]
  },
  {
   "cell_type": "code",
   "execution_count": null,
   "metadata": {
    "collapsed": true,
    "scrolled": true
   },
   "outputs": [],
   "source": [
    "new=df.set_index('Name')"
   ]
  },
  {
   "cell_type": "code",
   "execution_count": 68,
   "metadata": {
    "collapsed": true
   },
   "outputs": [],
   "source": [
    "# fix spelling errors in locations\n",
    "new.ix['Charlie Williams','Location']='South Korea'\n",
    "new.ix['Paul Gerni','Location']='New Jersey'"
   ]
  },
  {
   "cell_type": "code",
   "execution_count": 3,
   "metadata": {},
   "outputs": [
    {
     "ename": "NameError",
     "evalue": "name 'new' is not defined",
     "output_type": "error",
     "traceback": [
      "\u001b[1;31m---------------------------------------------------------------------------\u001b[0m",
      "\u001b[1;31mNameError\u001b[0m                                 Traceback (most recent call last)",
      "\u001b[1;32m<ipython-input-3-1c69ac30ec72>\u001b[0m in \u001b[0;36m<module>\u001b[1;34m()\u001b[0m\n\u001b[1;32m----> 1\u001b[1;33m \u001b[0mnew\u001b[0m\u001b[1;33m.\u001b[0m\u001b[0mloc\u001b[0m\u001b[1;33m[\u001b[0m\u001b[1;34m'Charlie Williams'\u001b[0m\u001b[1;33m,\u001b[0m\u001b[1;34m'Location'\u001b[0m\u001b[1;33m]\u001b[0m\u001b[1;33m\u001b[0m\u001b[0m\n\u001b[0m",
      "\u001b[1;31mNameError\u001b[0m: name 'new' is not defined"
     ]
    }
   ],
   "source": [
    "new.loc['Charlie Williams','Location']"
   ]
  },
  {
   "cell_type": "code",
   "execution_count": 70,
   "metadata": {
    "collapsed": true
   },
   "outputs": [],
   "source": [
    "new=new.reset_index()"
   ]
  },
  {
   "cell_type": "code",
   "execution_count": 71,
   "metadata": {
    "collapsed": true
   },
   "outputs": [],
   "source": [
    "from sqlalchemy import create_engine\n",
    "engine = create_engine('sqlite:///players.db')\n",
    "connection = engine.connect()"
   ]
  },
  {
   "cell_type": "code",
   "execution_count": 72,
   "metadata": {
    "collapsed": true
   },
   "outputs": [],
   "source": [
    "new.to_sql('players',connection,index=False,if_exists='replace')"
   ]
  },
  {
   "cell_type": "code",
   "execution_count": 73,
   "metadata": {
    "collapsed": true
   },
   "outputs": [],
   "source": [
    "res=connection.execute('select * from players')"
   ]
  },
  {
   "cell_type": "code",
   "execution_count": 74,
   "metadata": {
    "scrolled": true
   },
   "outputs": [
    {
     "data": {
      "text/plain": [
       "[('Johnny Archer', 'Georgia', 'America'),\n",
       " ('Earl Strickland', 'North Carolina', 'America'),\n",
       " ('Rodney Morris', 'California', 'America'),\n",
       " ('Shane Van Boening', 'South Dakota', 'America'),\n",
       " ('Corey Deuel', 'California', 'America'),\n",
       " ('Jeremy Jones', 'Texas', 'America'),\n",
       " ('Charlie Williams', 'South Korea', 'America'),\n",
       " ('Nick Varner', 'Kentucky', 'America'),\n",
       " ('Mike Dechaine', 'Maine', 'America'),\n",
       " ('Dennis Hatch', 'Michigan', 'America'),\n",
       " ('Kim Davenport', 'Oklahoma', 'America'),\n",
       " ('Justin Bergman', 'Illinois', 'America'),\n",
       " ('James Rempe', 'Pennsylvania', 'America'),\n",
       " ('Mark Wilson', 'Missouri', 'America'),\n",
       " ('Lou Butera', 'Pennsylvania', 'America'),\n",
       " ('Michael Coltrain', 'North Carolina', 'America'),\n",
       " ('Shannon Daulton', 'Kentucky', 'America'),\n",
       " ('Mike Gulyassy', 'Ohio', 'America'),\n",
       " ('Robert Hunter', 'Michigan', 'America'),\n",
       " ('Mike Massey', 'Tennessee', 'America'),\n",
       " ('Reed Pierce', 'Mississippi', 'America'),\n",
       " ('Shawn Putnam', 'Pennsylvania', 'America'),\n",
       " ('Tony Robles', 'New York', 'America'),\n",
       " ('John Schmidt', 'California', 'America'),\n",
       " ('Dallas West', 'Illinois', 'America'),\n",
       " ('Skyler Woodward', 'Kentucky', 'America'),\n",
       " ('C.J. Wiley', 'Texas', 'America'),\n",
       " ('Mike Davis', 'North Carolina', 'America'),\n",
       " ('John DiToro', 'Florida', 'America'),\n",
       " ('Óscar Domínguez', 'California', 'America'),\n",
       " ('Paul Gerni', 'New Jersey', 'America'),\n",
       " ('Roger Griffis', 'Texas', 'America'),\n",
       " ('Justin Hall', 'Illinois', 'America'),\n",
       " ('Danny Harriman', 'Maryland', 'America'),\n",
       " ('Allen Hopkins', 'New Jersey', 'America'),\n",
       " ('Bobby Hunter', 'Michigan', 'America'),\n",
       " ('Jeanette Lee', 'New York', 'America'),\n",
       " ('Gabe Owen', 'Kansas', 'America'),\n",
       " ('Brandon Shuff', 'Virginia', 'America'),\n",
       " ('Vivian Villarreal', 'Texas', 'America'),\n",
       " ('Buddy Hall', 'Illinois', 'America'),\n",
       " ('Ralf Souquet', 'Germany', 'Europe'),\n",
       " ('Mika Immonen', 'Finland', 'Europe'),\n",
       " ('Niels Feijen', 'Netherlands', 'Europe'),\n",
       " ('Steve Davis', 'England', 'Europe'),\n",
       " ('Oliver Ortmann', 'Germany', 'Europe'),\n",
       " ('Darren Appleton', 'England', 'Europe'),\n",
       " ('Nick van den Berg', 'Netherlands', 'Europe'),\n",
       " ('Marcus Chamat', 'Sweden', 'Europe'),\n",
       " ('Karl Boyes', 'England', 'Europe'),\n",
       " ('Steve Knight', 'England', 'Europe'),\n",
       " ('Thomas Engert', 'Germany', 'Europe'),\n",
       " ('Mark Gray', 'England', 'Europe'),\n",
       " ('Thorsten Hohmann', 'Germany', 'Europe'),\n",
       " ('Alex Lely', 'Netherlands', 'Europe'),\n",
       " ('Albin Ouschan', 'Austria', 'Europe'),\n",
       " ('Tony Drago', 'Malta', 'Europe'),\n",
       " ('Nick Ekonomopoulos', 'Greece', 'Europe'),\n",
       " ('Chris Melling', 'England', 'Europe'),\n",
       " (\"Ronnie O'Sullivan\", 'England', 'Europe'),\n",
       " ('Daryl Peach', 'England', 'Europe'),\n",
       " ('Tom Storm', 'Sweden', 'Europe'),\n",
       " ('Jimmy White', 'England', 'Europe'),\n",
       " ('David Alcaide', 'Spain', 'Europe'),\n",
       " ('Tommy Donlon', 'Ireland', 'Europe'),\n",
       " ('Vincent Facquet', 'France', 'Europe'),\n",
       " ('Allison Fisher', 'England', 'Europe'),\n",
       " ('Alex Higgins', 'Northern Ireland', 'Europe'),\n",
       " ('Raj Hundal', 'England', 'Europe'),\n",
       " ('Lee Kendall', 'England', 'Europe'),\n",
       " ('Imran Majid', 'England', 'Europe'),\n",
       " ('Fabio Petroni', 'Italy', 'Europe'),\n",
       " ('Andy Richardson', 'England', 'Europe'),\n",
       " ('Jayson Shaw', 'Scotland', 'Europe'),\n",
       " ('Franziska Stark', 'Germany', 'Europe'),\n",
       " ('Konstantin Stepanov', 'Russia', 'Europe'),\n",
       " ('Lee Tucker', 'England', 'Europe'),\n",
       " ('Johan Ruijsink', 'Netherlands', 'Europe')]"
      ]
     },
     "execution_count": 74,
     "metadata": {},
     "output_type": "execute_result"
    }
   ],
   "source": [
    "res.fetchall()"
   ]
  },
  {
   "cell_type": "code",
   "execution_count": 76,
   "metadata": {
    "collapsed": true
   },
   "outputs": [],
   "source": [
    "newp=pd.read_sql('players',connection)"
   ]
  },
  {
   "cell_type": "code",
   "execution_count": 83,
   "metadata": {
    "collapsed": true
   },
   "outputs": [],
   "source": [
    "connection.close()"
   ]
  }
 ],
 "metadata": {
  "hide_input": false,
  "kernelspec": {
   "display_name": "Python 3",
   "language": "python",
   "name": "python3"
  },
  "language_info": {
   "codemirror_mode": {
    "name": "ipython",
    "version": 3
   },
   "file_extension": ".py",
   "mimetype": "text/x-python",
   "name": "python",
   "nbconvert_exporter": "python",
   "pygments_lexer": "ipython3",
   "version": "3.7.1"
  }
 },
 "nbformat": 4,
 "nbformat_minor": 2
}
