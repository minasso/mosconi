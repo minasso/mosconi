{
 "cells": [
  {
   "cell_type": "markdown",
   "metadata": {},
   "source": [
    "### **Purpose: **Europe's Niels Fiejen is perhaps the most successful player in Mosconi Cup history, with a record 4 MVP awards. This analysis will dive deeper to see which factors are most important in predicting his success."
   ]
  },
  {
   "cell_type": "code",
   "execution_count": 1,
   "metadata": {
    "collapsed": true
   },
   "outputs": [],
   "source": [
    "import pickle\n",
    "import pandas as pd"
   ]
  },
  {
   "cell_type": "code",
   "execution_count": 8,
   "metadata": {
    "collapsed": true
   },
   "outputs": [],
   "source": [
    "df = pickle.load(open('pkl/allyears_clean_locs','rb'))"
   ]
  },
  {
   "cell_type": "code",
   "execution_count": 9,
   "metadata": {
    "collapsed": true
   },
   "outputs": [],
   "source": [
    "df = df[df['European_player'].str.contains('Niels Feijen')]"
   ]
  },
  {
   "cell_type": "code",
   "execution_count": 10,
   "metadata": {},
   "outputs": [],
   "source": [
    "df['Europe_lost']= ~df['Europe_won']\n",
    "df = df[['Format', 'European_player', 'European_score', 'American_score',\n",
    "       'American_player', 'Europe_won','Europe_lost']]"
   ]
  },
  {
   "cell_type": "code",
   "execution_count": 11,
   "metadata": {
    "collapsed": true
   },
   "outputs": [],
   "source": [
    "def stats(df):\n",
    "    loss,win = df['Europe_won'].value_counts(sort=False)\n",
    "    mp= win+loss\n",
    "    wl = 'Win-loss: {}-{}'.format(win,loss)\n",
    "    pct = win/(win+loss)*100\n",
    "    pc = round(pct,0)\n",
    "    return('Matches Played: {}'.format(mp),wl,'pct: {}'.format(pc))"
   ]
  },
  {
   "cell_type": "markdown",
   "metadata": {},
   "source": [
    "### Lets have a quick look at Niels' overall stats and check out his singles, doubles, and team stats."
   ]
  },
  {
   "cell_type": "code",
   "execution_count": 12,
   "metadata": {},
   "outputs": [
    {
     "data": {
      "text/plain": [
       "('Matches Played: 62', 'Win-loss: 41-21', 'pct: 66.0')"
      ]
     },
     "execution_count": 12,
     "metadata": {},
     "output_type": "execute_result"
    }
   ],
   "source": [
    "stats(df)"
   ]
  },
  {
   "cell_type": "markdown",
   "metadata": {},
   "source": [
    "### Now for a quick look at his results for each format."
   ]
  },
  {
   "cell_type": "code",
   "execution_count": 14,
   "metadata": {
    "collapsed": true
   },
   "outputs": [],
   "source": [
    "sing = df[df['Format']=='Singles']\n",
    "dub = df[df['Format']=='Doubles']\n",
    "team = df[df['Format']=='Teams']"
   ]
  },
  {
   "cell_type": "code",
   "execution_count": 15,
   "metadata": {},
   "outputs": [
    {
     "data": {
      "text/plain": [
       "('Matches Played: 20', 'Win-loss: 12-8', 'pct: 60.0')"
      ]
     },
     "execution_count": 15,
     "metadata": {},
     "output_type": "execute_result"
    }
   ],
   "source": [
    "stats(sing)"
   ]
  },
  {
   "cell_type": "code",
   "execution_count": 16,
   "metadata": {},
   "outputs": [
    {
     "data": {
      "text/plain": [
       "('Matches Played: 33', 'Win-loss: 24-9', 'pct: 73.0')"
      ]
     },
     "execution_count": 16,
     "metadata": {},
     "output_type": "execute_result"
    }
   ],
   "source": [
    "stats(dub)"
   ]
  },
  {
   "cell_type": "code",
   "execution_count": 17,
   "metadata": {},
   "outputs": [
    {
     "data": {
      "text/plain": [
       "('Matches Played: 9', 'Win-loss: 5-4', 'pct: 56.0')"
      ]
     },
     "execution_count": 17,
     "metadata": {},
     "output_type": "execute_result"
    }
   ],
   "source": [
    "stats(team)"
   ]
  },
  {
   "cell_type": "markdown",
   "metadata": {},
   "source": [
    "### So he plays *incredibly* well in doubles matches (73%). Let's see if he plays better with certain partners."
   ]
  },
  {
   "cell_type": "code",
   "execution_count": 22,
   "metadata": {
    "collapsed": true
   },
   "outputs": [],
   "source": [
    "dub = dub[['European_player','American_player','Europe_won','Europe_lost']]\n",
    "dub['Partner']=dub['European_player'].str.replace('Niels Feijen','')\n",
    "dub['Partner']=dub['Partner'].str.replace('&','')\n",
    "dub['Partner']=dub['Partner'].str.strip()"
   ]
  },
  {
   "cell_type": "code",
   "execution_count": 23,
   "metadata": {
    "scrolled": true
   },
   "outputs": [
    {
     "data": {
      "text/html": [
       "<div>\n",
       "<table border=\"1\" class=\"dataframe\">\n",
       "  <thead>\n",
       "    <tr style=\"text-align: right;\">\n",
       "      <th></th>\n",
       "      <th></th>\n",
       "      <th></th>\n",
       "      <th>European_player</th>\n",
       "      <th>American_player</th>\n",
       "      <th>Europe_won</th>\n",
       "      <th>Europe_lost</th>\n",
       "      <th>Partner</th>\n",
       "    </tr>\n",
       "    <tr>\n",
       "      <th>Year</th>\n",
       "      <th>Location</th>\n",
       "      <th>Match</th>\n",
       "      <th></th>\n",
       "      <th></th>\n",
       "      <th></th>\n",
       "      <th></th>\n",
       "      <th></th>\n",
       "    </tr>\n",
       "  </thead>\n",
       "  <tbody>\n",
       "    <tr>\n",
       "      <th>2015</th>\n",
       "      <th>Las Vegas, Nevada, USA</th>\n",
       "      <th>10</th>\n",
       "      <td>Niels Feijen Albin Ouschan</td>\n",
       "      <td>Justin Bergman Corey Deuel</td>\n",
       "      <td>True</td>\n",
       "      <td>False</td>\n",
       "      <td>Albin Ouschan</td>\n",
       "    </tr>\n",
       "    <tr>\n",
       "      <th>2005</th>\n",
       "      <th>Las Vegas, Nevada, USA</th>\n",
       "      <th>10</th>\n",
       "      <td>Niels Feijen Alex Lely</td>\n",
       "      <td>Charlie Williams Shaun Putnam</td>\n",
       "      <td>True</td>\n",
       "      <td>False</td>\n",
       "      <td>Alex Lely</td>\n",
       "    </tr>\n",
       "    <tr>\n",
       "      <th>2016</th>\n",
       "      <th>Alexandra Palace, London, England</th>\n",
       "      <th>9</th>\n",
       "      <td>Darren Appleton Niels Feijen</td>\n",
       "      <td>Mike Dechaine Shane Van Boening</td>\n",
       "      <td>True</td>\n",
       "      <td>False</td>\n",
       "      <td>Darren Appleton</td>\n",
       "    </tr>\n",
       "    <tr>\n",
       "      <th>2012</th>\n",
       "      <th>Bethnal Green, London, England</th>\n",
       "      <th>9</th>\n",
       "      <td>Darren Appleton Niels Feijen</td>\n",
       "      <td>Shane Van Boening Johnny Archer</td>\n",
       "      <td>False</td>\n",
       "      <td>True</td>\n",
       "      <td>Darren Appleton</td>\n",
       "    </tr>\n",
       "    <tr>\n",
       "      <th>2011</th>\n",
       "      <th>Las Vegas, Nevada, USA</th>\n",
       "      <th>10</th>\n",
       "      <td>Darren Appleton Niels Feijen</td>\n",
       "      <td>Shawn Putnam Mike Dechaine</td>\n",
       "      <td>True</td>\n",
       "      <td>False</td>\n",
       "      <td>Darren Appleton</td>\n",
       "    </tr>\n",
       "    <tr>\n",
       "      <th>2009</th>\n",
       "      <th>Las Vegas, Nevada, USA</th>\n",
       "      <th>1</th>\n",
       "      <td>Niels Feijen Darren Appleton</td>\n",
       "      <td>Johnny Archer Dennis Hatch</td>\n",
       "      <td>False</td>\n",
       "      <td>True</td>\n",
       "      <td>Darren Appleton</td>\n",
       "    </tr>\n",
       "    <tr>\n",
       "      <th>2013</th>\n",
       "      <th>Las Vegas, Nevada, USA</th>\n",
       "      <th>5</th>\n",
       "      <td>Karl Boyes Niels Feijen</td>\n",
       "      <td>Johnny Archer Rodney Morris</td>\n",
       "      <td>True</td>\n",
       "      <td>False</td>\n",
       "      <td>Karl Boyes</td>\n",
       "    </tr>\n",
       "    <tr>\n",
       "      <th rowspan=\"2\" valign=\"top\">2007</th>\n",
       "      <th rowspan=\"2\" valign=\"top\">Las Vegas, Nevada, USA</th>\n",
       "      <th>7</th>\n",
       "      <td>Konstantin Stepanov Niels Feijen</td>\n",
       "      <td>Corey Deuel Johnny Archer</td>\n",
       "      <td>True</td>\n",
       "      <td>False</td>\n",
       "      <td>Konstantin Stepanov</td>\n",
       "    </tr>\n",
       "    <tr>\n",
       "      <th>10</th>\n",
       "      <td>Konstantin Stepanov Niels Feijen</td>\n",
       "      <td>Corey Deuel Johnny Archer</td>\n",
       "      <td>True</td>\n",
       "      <td>False</td>\n",
       "      <td>Konstantin Stepanov</td>\n",
       "    </tr>\n",
       "    <tr>\n",
       "      <th>2014</th>\n",
       "      <th>Tower Circus, Blackpool, England</th>\n",
       "      <th>5</th>\n",
       "      <td>Niels Feijen &amp; Mark Gray</td>\n",
       "      <td>Justin Hall &amp; Justin Bergman</td>\n",
       "      <td>False</td>\n",
       "      <td>True</td>\n",
       "      <td>Mark Gray</td>\n",
       "    </tr>\n",
       "    <tr>\n",
       "      <th>2016</th>\n",
       "      <th>Alexandra Palace, London, England</th>\n",
       "      <th>5</th>\n",
       "      <td>Niels Feijen Mark Gray</td>\n",
       "      <td>Shane Van Boening Skyler Woodward</td>\n",
       "      <td>True</td>\n",
       "      <td>False</td>\n",
       "      <td>Mark Gray</td>\n",
       "    </tr>\n",
       "    <tr>\n",
       "      <th>2013</th>\n",
       "      <th>Las Vegas, Nevada, USA</th>\n",
       "      <th>12</th>\n",
       "      <td>Mika Immonen Niels Feijen</td>\n",
       "      <td>Dennis Hatch Rodney Morris</td>\n",
       "      <td>True</td>\n",
       "      <td>False</td>\n",
       "      <td>Mika Immonen</td>\n",
       "    </tr>\n",
       "    <tr>\n",
       "      <th rowspan=\"2\" valign=\"top\">2001</th>\n",
       "      <th rowspan=\"2\" valign=\"top\">Bethnal Green, London, England</th>\n",
       "      <th>0</th>\n",
       "      <td>Niels Feijen Mika Immonen</td>\n",
       "      <td>Nick Varner Johnny Archer</td>\n",
       "      <td>True</td>\n",
       "      <td>False</td>\n",
       "      <td>Mika Immonen</td>\n",
       "    </tr>\n",
       "    <tr>\n",
       "      <th>4</th>\n",
       "      <td>Niels Feijen Mika Immonen</td>\n",
       "      <td>Nick Varner Johnny Archer</td>\n",
       "      <td>False</td>\n",
       "      <td>True</td>\n",
       "      <td>Mika Immonen</td>\n",
       "    </tr>\n",
       "    <tr>\n",
       "      <th>2012</th>\n",
       "      <th>Bethnal Green, London, England</th>\n",
       "      <th>12</th>\n",
       "      <td>Nick Ekonomopoulos Niels Feijen</td>\n",
       "      <td>Dennis Hatch Mike Dechaine</td>\n",
       "      <td>True</td>\n",
       "      <td>False</td>\n",
       "      <td>Nick Ekonomopoulos</td>\n",
       "    </tr>\n",
       "    <tr>\n",
       "      <th>2015</th>\n",
       "      <th>Las Vegas, Nevada, USA</th>\n",
       "      <th>5</th>\n",
       "      <td>Niels Feijen Nick van den Berg</td>\n",
       "      <td>Justin Bergman Skyler Woodward</td>\n",
       "      <td>False</td>\n",
       "      <td>True</td>\n",
       "      <td>Nick van den Berg</td>\n",
       "    </tr>\n",
       "    <tr>\n",
       "      <th>2011</th>\n",
       "      <th>Las Vegas, Nevada, USA</th>\n",
       "      <th>5</th>\n",
       "      <td>Nick van den Berg Niels Feijen</td>\n",
       "      <td>Shane Van Boening Johnny Archer</td>\n",
       "      <td>False</td>\n",
       "      <td>True</td>\n",
       "      <td>Nick van den Berg</td>\n",
       "    </tr>\n",
       "    <tr>\n",
       "      <th>2012</th>\n",
       "      <th>Bethnal Green, London, England</th>\n",
       "      <th>7</th>\n",
       "      <td>Niels Feijen Nick van den Berg</td>\n",
       "      <td>Dennis Hatch Brandon Shuff</td>\n",
       "      <td>True</td>\n",
       "      <td>False</td>\n",
       "      <td>Nick van den Berg</td>\n",
       "    </tr>\n",
       "    <tr>\n",
       "      <th>2014</th>\n",
       "      <th>Tower Circus, Blackpool, England</th>\n",
       "      <th>3</th>\n",
       "      <td>Niels Feijen &amp; Nikos Ekonomopoulos</td>\n",
       "      <td>Shane Van Boening &amp; Justin Bergman</td>\n",
       "      <td>True</td>\n",
       "      <td>False</td>\n",
       "      <td>Nikos Ekonomopoulos</td>\n",
       "    </tr>\n",
       "    <tr>\n",
       "      <th>2008</th>\n",
       "      <th>St. Julian's, Malta</th>\n",
       "      <th>8</th>\n",
       "      <td>Niels Feijen Ralf Souquet</td>\n",
       "      <td>Earl Strickland Rodney Morris</td>\n",
       "      <td>True</td>\n",
       "      <td>False</td>\n",
       "      <td>Ralf Souquet</td>\n",
       "    </tr>\n",
       "    <tr>\n",
       "      <th>2013</th>\n",
       "      <th>Las Vegas, Nevada, USA</th>\n",
       "      <th>3</th>\n",
       "      <td>Niels Feijen Ralf Souquet</td>\n",
       "      <td>Johnny Archer Dennis Hatch</td>\n",
       "      <td>True</td>\n",
       "      <td>False</td>\n",
       "      <td>Ralf Souquet</td>\n",
       "    </tr>\n",
       "    <tr>\n",
       "      <th>2008</th>\n",
       "      <th>St. Julian's, Malta</th>\n",
       "      <th>4</th>\n",
       "      <td>Niels Feijen Ralf Souquet</td>\n",
       "      <td>Shane Van Boening Rodney Morris</td>\n",
       "      <td>True</td>\n",
       "      <td>False</td>\n",
       "      <td>Ralf Souquet</td>\n",
       "    </tr>\n",
       "    <tr>\n",
       "      <th>2009</th>\n",
       "      <th>Las Vegas, Nevada, USA</th>\n",
       "      <th>5</th>\n",
       "      <td>Ralf Souquet Niels Feijen</td>\n",
       "      <td>Shane Van Boening Johnny Archer</td>\n",
       "      <td>False</td>\n",
       "      <td>True</td>\n",
       "      <td>Ralf Souquet</td>\n",
       "    </tr>\n",
       "    <tr>\n",
       "      <th>2007</th>\n",
       "      <th>Las Vegas, Nevada, USA</th>\n",
       "      <th>1</th>\n",
       "      <td>Niels Feijen Ralf Souquet</td>\n",
       "      <td>Johnny Archer Rodney Morris</td>\n",
       "      <td>True</td>\n",
       "      <td>False</td>\n",
       "      <td>Ralf Souquet</td>\n",
       "    </tr>\n",
       "    <tr>\n",
       "      <th rowspan=\"2\" valign=\"top\">2008</th>\n",
       "      <th rowspan=\"2\" valign=\"top\">St. Julian's, Malta</th>\n",
       "      <th>1</th>\n",
       "      <td>Niels Feijen Ralf Souquet</td>\n",
       "      <td>Shane Van Boening Rodney Morris</td>\n",
       "      <td>True</td>\n",
       "      <td>False</td>\n",
       "      <td>Ralf Souquet</td>\n",
       "    </tr>\n",
       "    <tr>\n",
       "      <th>14</th>\n",
       "      <td>Niels Feijen Ralf Souquet</td>\n",
       "      <td>Rodney Morris Jeremy Jones</td>\n",
       "      <td>True</td>\n",
       "      <td>False</td>\n",
       "      <td>Ralf Souquet</td>\n",
       "    </tr>\n",
       "    <tr>\n",
       "      <th>2011</th>\n",
       "      <th>Las Vegas, Nevada, USA</th>\n",
       "      <th>12</th>\n",
       "      <td>Ralf Souquet Niels Feijen</td>\n",
       "      <td>Johnny Archer Rodney Morris</td>\n",
       "      <td>True</td>\n",
       "      <td>False</td>\n",
       "      <td>Ralf Souquet</td>\n",
       "    </tr>\n",
       "    <tr>\n",
       "      <th rowspan=\"3\" valign=\"top\">2004</th>\n",
       "      <th rowspan=\"3\" valign=\"top\">Egmond aan Zee, Netherlands</th>\n",
       "      <th>10</th>\n",
       "      <td>Steve Davis Niels Feijen</td>\n",
       "      <td>Charlie Williams Tony Robles</td>\n",
       "      <td>False</td>\n",
       "      <td>True</td>\n",
       "      <td>Steve Davis</td>\n",
       "    </tr>\n",
       "    <tr>\n",
       "      <th>4</th>\n",
       "      <td>Steve Davis Niels Feijen</td>\n",
       "      <td>Johnny Archer Gabe Owen</td>\n",
       "      <td>True</td>\n",
       "      <td>False</td>\n",
       "      <td>Steve Davis</td>\n",
       "    </tr>\n",
       "    <tr>\n",
       "      <th>0</th>\n",
       "      <td>Steve Davis Niels Feijen</td>\n",
       "      <td>Charlie Williams Tony Robles</td>\n",
       "      <td>True</td>\n",
       "      <td>False</td>\n",
       "      <td>Steve Davis</td>\n",
       "    </tr>\n",
       "    <tr>\n",
       "      <th>2005</th>\n",
       "      <th>Las Vegas, Nevada, USA</th>\n",
       "      <th>5</th>\n",
       "      <td>Thorsten Hohmann Niels Feijen</td>\n",
       "      <td>Charlie Williams Shaun Putnam</td>\n",
       "      <td>False</td>\n",
       "      <td>True</td>\n",
       "      <td>Thorsten Hohmann</td>\n",
       "    </tr>\n",
       "    <tr>\n",
       "      <th>2009</th>\n",
       "      <th>Las Vegas, Nevada, USA</th>\n",
       "      <th>9</th>\n",
       "      <td>Niels Feijen Thorsten Hohmann</td>\n",
       "      <td>Dennis Hatch Corey Deuel</td>\n",
       "      <td>True</td>\n",
       "      <td>False</td>\n",
       "      <td>Thorsten Hohmann</td>\n",
       "    </tr>\n",
       "    <tr>\n",
       "      <th>2005</th>\n",
       "      <th>Las Vegas, Nevada, USA</th>\n",
       "      <th>0</th>\n",
       "      <td>Thorsten Hohmann Niels Feijen</td>\n",
       "      <td>Johnny Archer Jeremy Jones</td>\n",
       "      <td>True</td>\n",
       "      <td>False</td>\n",
       "      <td>Thorsten Hohmann</td>\n",
       "    </tr>\n",
       "  </tbody>\n",
       "</table>\n",
       "</div>"
      ],
      "text/plain": [
       "                                                                 European_player  \\\n",
       "Year Location                          Match                                       \n",
       "2015 Las Vegas, Nevada, USA            10             Niels Feijen Albin Ouschan   \n",
       "2005 Las Vegas, Nevada, USA            10                 Niels Feijen Alex Lely   \n",
       "2016 Alexandra Palace, London, England 9            Darren Appleton Niels Feijen   \n",
       "2012 Bethnal Green, London, England    9            Darren Appleton Niels Feijen   \n",
       "2011 Las Vegas, Nevada, USA            10           Darren Appleton Niels Feijen   \n",
       "2009 Las Vegas, Nevada, USA            1            Niels Feijen Darren Appleton   \n",
       "2013 Las Vegas, Nevada, USA            5                 Karl Boyes Niels Feijen   \n",
       "2007 Las Vegas, Nevada, USA            7        Konstantin Stepanov Niels Feijen   \n",
       "                                       10       Konstantin Stepanov Niels Feijen   \n",
       "2014 Tower Circus, Blackpool, England  5                Niels Feijen & Mark Gray   \n",
       "2016 Alexandra Palace, London, England 5                  Niels Feijen Mark Gray   \n",
       "2013 Las Vegas, Nevada, USA            12              Mika Immonen Niels Feijen   \n",
       "2001 Bethnal Green, London, England    0               Niels Feijen Mika Immonen   \n",
       "                                       4               Niels Feijen Mika Immonen   \n",
       "2012 Bethnal Green, London, England    12        Nick Ekonomopoulos Niels Feijen   \n",
       "2015 Las Vegas, Nevada, USA            5          Niels Feijen Nick van den Berg   \n",
       "2011 Las Vegas, Nevada, USA            5          Nick van den Berg Niels Feijen   \n",
       "2012 Bethnal Green, London, England    7          Niels Feijen Nick van den Berg   \n",
       "2014 Tower Circus, Blackpool, England  3      Niels Feijen & Nikos Ekonomopoulos   \n",
       "2008 St. Julian's, Malta               8               Niels Feijen Ralf Souquet   \n",
       "2013 Las Vegas, Nevada, USA            3               Niels Feijen Ralf Souquet   \n",
       "2008 St. Julian's, Malta               4               Niels Feijen Ralf Souquet   \n",
       "2009 Las Vegas, Nevada, USA            5               Ralf Souquet Niels Feijen   \n",
       "2007 Las Vegas, Nevada, USA            1               Niels Feijen Ralf Souquet   \n",
       "2008 St. Julian's, Malta               1               Niels Feijen Ralf Souquet   \n",
       "                                       14              Niels Feijen Ralf Souquet   \n",
       "2011 Las Vegas, Nevada, USA            12              Ralf Souquet Niels Feijen   \n",
       "2004 Egmond aan Zee, Netherlands       10               Steve Davis Niels Feijen   \n",
       "                                       4                Steve Davis Niels Feijen   \n",
       "                                       0                Steve Davis Niels Feijen   \n",
       "2005 Las Vegas, Nevada, USA            5           Thorsten Hohmann Niels Feijen   \n",
       "2009 Las Vegas, Nevada, USA            9           Niels Feijen Thorsten Hohmann   \n",
       "2005 Las Vegas, Nevada, USA            0           Thorsten Hohmann Niels Feijen   \n",
       "\n",
       "                                                                 American_player  \\\n",
       "Year Location                          Match                                       \n",
       "2015 Las Vegas, Nevada, USA            10             Justin Bergman Corey Deuel   \n",
       "2005 Las Vegas, Nevada, USA            10          Charlie Williams Shaun Putnam   \n",
       "2016 Alexandra Palace, London, England 9         Mike Dechaine Shane Van Boening   \n",
       "2012 Bethnal Green, London, England    9         Shane Van Boening Johnny Archer   \n",
       "2011 Las Vegas, Nevada, USA            10             Shawn Putnam Mike Dechaine   \n",
       "2009 Las Vegas, Nevada, USA            1              Johnny Archer Dennis Hatch   \n",
       "2013 Las Vegas, Nevada, USA            5             Johnny Archer Rodney Morris   \n",
       "2007 Las Vegas, Nevada, USA            7               Corey Deuel Johnny Archer   \n",
       "                                       10              Corey Deuel Johnny Archer   \n",
       "2014 Tower Circus, Blackpool, England  5            Justin Hall & Justin Bergman   \n",
       "2016 Alexandra Palace, London, England 5       Shane Van Boening Skyler Woodward   \n",
       "2013 Las Vegas, Nevada, USA            12             Dennis Hatch Rodney Morris   \n",
       "2001 Bethnal Green, London, England    0               Nick Varner Johnny Archer   \n",
       "                                       4               Nick Varner Johnny Archer   \n",
       "2012 Bethnal Green, London, England    12             Dennis Hatch Mike Dechaine   \n",
       "2015 Las Vegas, Nevada, USA            5          Justin Bergman Skyler Woodward   \n",
       "2011 Las Vegas, Nevada, USA            5         Shane Van Boening Johnny Archer   \n",
       "2012 Bethnal Green, London, England    7              Dennis Hatch Brandon Shuff   \n",
       "2014 Tower Circus, Blackpool, England  3      Shane Van Boening & Justin Bergman   \n",
       "2008 St. Julian's, Malta               8           Earl Strickland Rodney Morris   \n",
       "2013 Las Vegas, Nevada, USA            3              Johnny Archer Dennis Hatch   \n",
       "2008 St. Julian's, Malta               4         Shane Van Boening Rodney Morris   \n",
       "2009 Las Vegas, Nevada, USA            5         Shane Van Boening Johnny Archer   \n",
       "2007 Las Vegas, Nevada, USA            1             Johnny Archer Rodney Morris   \n",
       "2008 St. Julian's, Malta               1         Shane Van Boening Rodney Morris   \n",
       "                                       14             Rodney Morris Jeremy Jones   \n",
       "2011 Las Vegas, Nevada, USA            12            Johnny Archer Rodney Morris   \n",
       "2004 Egmond aan Zee, Netherlands       10           Charlie Williams Tony Robles   \n",
       "                                       4                 Johnny Archer Gabe Owen   \n",
       "                                       0            Charlie Williams Tony Robles   \n",
       "2005 Las Vegas, Nevada, USA            5           Charlie Williams Shaun Putnam   \n",
       "2009 Las Vegas, Nevada, USA            9                Dennis Hatch Corey Deuel   \n",
       "2005 Las Vegas, Nevada, USA            0              Johnny Archer Jeremy Jones   \n",
       "\n",
       "                                             Europe_won Europe_lost  \\\n",
       "Year Location                          Match                          \n",
       "2015 Las Vegas, Nevada, USA            10          True       False   \n",
       "2005 Las Vegas, Nevada, USA            10          True       False   \n",
       "2016 Alexandra Palace, London, England 9           True       False   \n",
       "2012 Bethnal Green, London, England    9          False        True   \n",
       "2011 Las Vegas, Nevada, USA            10          True       False   \n",
       "2009 Las Vegas, Nevada, USA            1          False        True   \n",
       "2013 Las Vegas, Nevada, USA            5           True       False   \n",
       "2007 Las Vegas, Nevada, USA            7           True       False   \n",
       "                                       10          True       False   \n",
       "2014 Tower Circus, Blackpool, England  5          False        True   \n",
       "2016 Alexandra Palace, London, England 5           True       False   \n",
       "2013 Las Vegas, Nevada, USA            12          True       False   \n",
       "2001 Bethnal Green, London, England    0           True       False   \n",
       "                                       4          False        True   \n",
       "2012 Bethnal Green, London, England    12          True       False   \n",
       "2015 Las Vegas, Nevada, USA            5          False        True   \n",
       "2011 Las Vegas, Nevada, USA            5          False        True   \n",
       "2012 Bethnal Green, London, England    7           True       False   \n",
       "2014 Tower Circus, Blackpool, England  3           True       False   \n",
       "2008 St. Julian's, Malta               8           True       False   \n",
       "2013 Las Vegas, Nevada, USA            3           True       False   \n",
       "2008 St. Julian's, Malta               4           True       False   \n",
       "2009 Las Vegas, Nevada, USA            5          False        True   \n",
       "2007 Las Vegas, Nevada, USA            1           True       False   \n",
       "2008 St. Julian's, Malta               1           True       False   \n",
       "                                       14          True       False   \n",
       "2011 Las Vegas, Nevada, USA            12          True       False   \n",
       "2004 Egmond aan Zee, Netherlands       10         False        True   \n",
       "                                       4           True       False   \n",
       "                                       0           True       False   \n",
       "2005 Las Vegas, Nevada, USA            5          False        True   \n",
       "2009 Las Vegas, Nevada, USA            9           True       False   \n",
       "2005 Las Vegas, Nevada, USA            0           True       False   \n",
       "\n",
       "                                                          Partner  \n",
       "Year Location                          Match                       \n",
       "2015 Las Vegas, Nevada, USA            10           Albin Ouschan  \n",
       "2005 Las Vegas, Nevada, USA            10               Alex Lely  \n",
       "2016 Alexandra Palace, London, England 9          Darren Appleton  \n",
       "2012 Bethnal Green, London, England    9          Darren Appleton  \n",
       "2011 Las Vegas, Nevada, USA            10         Darren Appleton  \n",
       "2009 Las Vegas, Nevada, USA            1          Darren Appleton  \n",
       "2013 Las Vegas, Nevada, USA            5               Karl Boyes  \n",
       "2007 Las Vegas, Nevada, USA            7      Konstantin Stepanov  \n",
       "                                       10     Konstantin Stepanov  \n",
       "2014 Tower Circus, Blackpool, England  5                Mark Gray  \n",
       "2016 Alexandra Palace, London, England 5                Mark Gray  \n",
       "2013 Las Vegas, Nevada, USA            12            Mika Immonen  \n",
       "2001 Bethnal Green, London, England    0             Mika Immonen  \n",
       "                                       4             Mika Immonen  \n",
       "2012 Bethnal Green, London, England    12      Nick Ekonomopoulos  \n",
       "2015 Las Vegas, Nevada, USA            5        Nick van den Berg  \n",
       "2011 Las Vegas, Nevada, USA            5        Nick van den Berg  \n",
       "2012 Bethnal Green, London, England    7        Nick van den Berg  \n",
       "2014 Tower Circus, Blackpool, England  3      Nikos Ekonomopoulos  \n",
       "2008 St. Julian's, Malta               8             Ralf Souquet  \n",
       "2013 Las Vegas, Nevada, USA            3             Ralf Souquet  \n",
       "2008 St. Julian's, Malta               4             Ralf Souquet  \n",
       "2009 Las Vegas, Nevada, USA            5             Ralf Souquet  \n",
       "2007 Las Vegas, Nevada, USA            1             Ralf Souquet  \n",
       "2008 St. Julian's, Malta               1             Ralf Souquet  \n",
       "                                       14            Ralf Souquet  \n",
       "2011 Las Vegas, Nevada, USA            12            Ralf Souquet  \n",
       "2004 Egmond aan Zee, Netherlands       10             Steve Davis  \n",
       "                                       4              Steve Davis  \n",
       "                                       0              Steve Davis  \n",
       "2005 Las Vegas, Nevada, USA            5         Thorsten Hohmann  \n",
       "2009 Las Vegas, Nevada, USA            9         Thorsten Hohmann  \n",
       "2005 Las Vegas, Nevada, USA            0         Thorsten Hohmann  "
      ]
     },
     "execution_count": 23,
     "metadata": {},
     "output_type": "execute_result"
    }
   ],
   "source": [
    "dub.sort_values('Partner')"
   ]
  },
  {
   "cell_type": "code",
   "execution_count": 24,
   "metadata": {},
   "outputs": [
    {
     "data": {
      "text/html": [
       "<div>\n",
       "<table border=\"1\" class=\"dataframe\">\n",
       "  <thead>\n",
       "    <tr style=\"text-align: right;\">\n",
       "      <th></th>\n",
       "      <th>Europe_won</th>\n",
       "      <th>Europe_lost</th>\n",
       "    </tr>\n",
       "    <tr>\n",
       "      <th>Partner</th>\n",
       "      <th></th>\n",
       "      <th></th>\n",
       "    </tr>\n",
       "  </thead>\n",
       "  <tbody>\n",
       "    <tr>\n",
       "      <th>Albin Ouschan</th>\n",
       "      <td>1.0</td>\n",
       "      <td>0.0</td>\n",
       "    </tr>\n",
       "    <tr>\n",
       "      <th>Alex Lely</th>\n",
       "      <td>1.0</td>\n",
       "      <td>0.0</td>\n",
       "    </tr>\n",
       "    <tr>\n",
       "      <th>Karl Boyes</th>\n",
       "      <td>1.0</td>\n",
       "      <td>0.0</td>\n",
       "    </tr>\n",
       "    <tr>\n",
       "      <th>Mark Gray</th>\n",
       "      <td>1.0</td>\n",
       "      <td>1.0</td>\n",
       "    </tr>\n",
       "    <tr>\n",
       "      <th>Nick Ekonomopoulos</th>\n",
       "      <td>1.0</td>\n",
       "      <td>0.0</td>\n",
       "    </tr>\n",
       "    <tr>\n",
       "      <th>Nick van den Berg</th>\n",
       "      <td>1.0</td>\n",
       "      <td>2.0</td>\n",
       "    </tr>\n",
       "    <tr>\n",
       "      <th>Nikos Ekonomopoulos</th>\n",
       "      <td>1.0</td>\n",
       "      <td>0.0</td>\n",
       "    </tr>\n",
       "    <tr>\n",
       "      <th>Darren Appleton</th>\n",
       "      <td>2.0</td>\n",
       "      <td>2.0</td>\n",
       "    </tr>\n",
       "    <tr>\n",
       "      <th>Konstantin Stepanov</th>\n",
       "      <td>2.0</td>\n",
       "      <td>0.0</td>\n",
       "    </tr>\n",
       "    <tr>\n",
       "      <th>Mika Immonen</th>\n",
       "      <td>2.0</td>\n",
       "      <td>1.0</td>\n",
       "    </tr>\n",
       "    <tr>\n",
       "      <th>Steve Davis</th>\n",
       "      <td>2.0</td>\n",
       "      <td>1.0</td>\n",
       "    </tr>\n",
       "    <tr>\n",
       "      <th>Thorsten Hohmann</th>\n",
       "      <td>2.0</td>\n",
       "      <td>1.0</td>\n",
       "    </tr>\n",
       "    <tr>\n",
       "      <th>Ralf Souquet</th>\n",
       "      <td>7.0</td>\n",
       "      <td>1.0</td>\n",
       "    </tr>\n",
       "  </tbody>\n",
       "</table>\n",
       "</div>"
      ],
      "text/plain": [
       "                     Europe_won  Europe_lost\n",
       "Partner                                     \n",
       "Albin Ouschan               1.0          0.0\n",
       "Alex Lely                   1.0          0.0\n",
       "Karl Boyes                  1.0          0.0\n",
       "Mark Gray                   1.0          1.0\n",
       "Nick Ekonomopoulos          1.0          0.0\n",
       "Nick van den Berg           1.0          2.0\n",
       "Nikos Ekonomopoulos         1.0          0.0\n",
       "Darren Appleton             2.0          2.0\n",
       "Konstantin Stepanov         2.0          0.0\n",
       "Mika Immonen                2.0          1.0\n",
       "Steve Davis                 2.0          1.0\n",
       "Thorsten Hohmann            2.0          1.0\n",
       "Ralf Souquet                7.0          1.0"
      ]
     },
     "execution_count": 24,
     "metadata": {},
     "output_type": "execute_result"
    }
   ],
   "source": [
    "dub.groupby('Partner').sum().sort_values('Europe_won')"
   ]
  },
  {
   "cell_type": "markdown",
   "metadata": {},
   "source": [
    "### Looks like Niels plays best with Ralf Souquet (7-1) by a huge margin!"
   ]
  },
  {
   "cell_type": "markdown",
   "metadata": {},
   "source": [
    "More questions to answer:\n",
    "1. Does he play better or worse against certain opponents?\n",
    "2. Has his performance changed over the years?"
   ]
  },
  {
   "cell_type": "code",
   "execution_count": 26,
   "metadata": {},
   "outputs": [
    {
     "data": {
      "text/html": [
       "<div>\n",
       "<table border=\"1\" class=\"dataframe\">\n",
       "  <thead>\n",
       "    <tr style=\"text-align: right;\">\n",
       "      <th></th>\n",
       "      <th>Europe_won</th>\n",
       "      <th>Europe_lost</th>\n",
       "    </tr>\n",
       "    <tr>\n",
       "      <th>American_player</th>\n",
       "      <th></th>\n",
       "      <th></th>\n",
       "    </tr>\n",
       "  </thead>\n",
       "  <tbody>\n",
       "    <tr>\n",
       "      <th>Charlie Williams</th>\n",
       "      <td>0.0</td>\n",
       "      <td>2.0</td>\n",
       "    </tr>\n",
       "    <tr>\n",
       "      <th>Dennis Hatch</th>\n",
       "      <td>0.0</td>\n",
       "      <td>2.0</td>\n",
       "    </tr>\n",
       "    <tr>\n",
       "      <th>Earl Strickland</th>\n",
       "      <td>0.0</td>\n",
       "      <td>1.0</td>\n",
       "    </tr>\n",
       "    <tr>\n",
       "      <th>Shane Van Boening</th>\n",
       "      <td>1.0</td>\n",
       "      <td>0.0</td>\n",
       "    </tr>\n",
       "    <tr>\n",
       "      <th>Johnny Archer</th>\n",
       "      <td>2.0</td>\n",
       "      <td>1.0</td>\n",
       "    </tr>\n",
       "    <tr>\n",
       "      <th>Mike Dechaine</th>\n",
       "      <td>2.0</td>\n",
       "      <td>0.0</td>\n",
       "    </tr>\n",
       "    <tr>\n",
       "      <th>Rodney Morris</th>\n",
       "      <td>3.0</td>\n",
       "      <td>2.0</td>\n",
       "    </tr>\n",
       "    <tr>\n",
       "      <th>Justin Bergman</th>\n",
       "      <td>4.0</td>\n",
       "      <td>0.0</td>\n",
       "    </tr>\n",
       "  </tbody>\n",
       "</table>\n",
       "</div>"
      ],
      "text/plain": [
       "                   Europe_won  Europe_lost\n",
       "American_player                           \n",
       "Charlie Williams          0.0          2.0\n",
       "Dennis Hatch              0.0          2.0\n",
       "Earl Strickland           0.0          1.0\n",
       "Shane Van Boening         1.0          0.0\n",
       "Johnny Archer             2.0          1.0\n",
       "Mike Dechaine             2.0          0.0\n",
       "Rodney Morris             3.0          2.0\n",
       "Justin Bergman            4.0          0.0"
      ]
     },
     "execution_count": 26,
     "metadata": {},
     "output_type": "execute_result"
    }
   ],
   "source": [
    "sing.groupby('American_player').sum().sort_values('Europe_won')"
   ]
  },
  {
   "cell_type": "markdown",
   "metadata": {},
   "source": [
    "## Apparently, Niels does poorly against Hatch and Earl, and does very well against Bergman.\n",
    "## Lets see what Niels' record was for each year."
   ]
  },
  {
   "cell_type": "code",
   "execution_count": 83,
   "metadata": {},
   "outputs": [],
   "source": [
    "lst =df.index.values.tolist() \n",
    "years = set([])\n",
    "for item in lst:\n",
    "    years.add(item[0])\n",
    "years=sorted(list(years))"
   ]
  },
  {
   "cell_type": "code",
   "execution_count": 86,
   "metadata": {},
   "outputs": [
    {
     "name": "stdout",
     "output_type": "stream",
     "text": [
      "error in year 2013\n",
      "error in year 2016\n"
     ]
    }
   ],
   "source": [
    "yearly=[]\n",
    "err=[]\n",
    "for year in years:\n",
    "    try:\n",
    "        loss, win = df.loc[year]['Europe_won'].value_counts(sort=False)\n",
    "    except:\n",
    "        print('error in year {}'.format(year))\n",
    "        err.append(year)\n",
    "    yearly.append((win,loss))"
   ]
  },
  {
   "cell_type": "code",
   "execution_count": 88,
   "metadata": {},
   "outputs": [
    {
     "name": "stdout",
     "output_type": "stream",
     "text": [
      "2013\n"
     ]
    },
    {
     "data": {
      "text/html": [
       "<div>\n",
       "<table border=\"1\" class=\"dataframe\">\n",
       "  <thead>\n",
       "    <tr style=\"text-align: right;\">\n",
       "      <th></th>\n",
       "      <th></th>\n",
       "      <th>Format</th>\n",
       "      <th>European_player</th>\n",
       "      <th>European_score</th>\n",
       "      <th>American_score</th>\n",
       "      <th>American_player</th>\n",
       "      <th>Europe_won</th>\n",
       "      <th>Europe_lost</th>\n",
       "    </tr>\n",
       "    <tr>\n",
       "      <th>Location</th>\n",
       "      <th>Match</th>\n",
       "      <th></th>\n",
       "      <th></th>\n",
       "      <th></th>\n",
       "      <th></th>\n",
       "      <th></th>\n",
       "      <th></th>\n",
       "      <th></th>\n",
       "    </tr>\n",
       "  </thead>\n",
       "  <tbody>\n",
       "    <tr>\n",
       "      <th rowspan=\"5\" valign=\"top\">Las Vegas, Nevada, USA</th>\n",
       "      <th>0</th>\n",
       "      <td>Teams</td>\n",
       "      <td>Karl Boyes, Niels Feijen, Ralf Souquet, Mika I...</td>\n",
       "      <td>6</td>\n",
       "      <td>3</td>\n",
       "      <td>Dennis Hatch, Earl Strickland, Shane Van Boeni...</td>\n",
       "      <td>True</td>\n",
       "      <td>False</td>\n",
       "    </tr>\n",
       "    <tr>\n",
       "      <th>3</th>\n",
       "      <td>Doubles</td>\n",
       "      <td>Niels Feijen Ralf Souquet</td>\n",
       "      <td>6</td>\n",
       "      <td>3</td>\n",
       "      <td>Johnny Archer Dennis Hatch</td>\n",
       "      <td>True</td>\n",
       "      <td>False</td>\n",
       "    </tr>\n",
       "    <tr>\n",
       "      <th>5</th>\n",
       "      <td>Doubles</td>\n",
       "      <td>Karl Boyes Niels Feijen</td>\n",
       "      <td>6</td>\n",
       "      <td>4</td>\n",
       "      <td>Johnny Archer Rodney Morris</td>\n",
       "      <td>True</td>\n",
       "      <td>False</td>\n",
       "    </tr>\n",
       "    <tr>\n",
       "      <th>8</th>\n",
       "      <td>Singles</td>\n",
       "      <td>Niels Feijen</td>\n",
       "      <td>6</td>\n",
       "      <td>0</td>\n",
       "      <td>Johnny Archer</td>\n",
       "      <td>True</td>\n",
       "      <td>False</td>\n",
       "    </tr>\n",
       "    <tr>\n",
       "      <th>12</th>\n",
       "      <td>Doubles</td>\n",
       "      <td>Mika Immonen Niels Feijen</td>\n",
       "      <td>6</td>\n",
       "      <td>4</td>\n",
       "      <td>Dennis Hatch Rodney Morris</td>\n",
       "      <td>True</td>\n",
       "      <td>False</td>\n",
       "    </tr>\n",
       "  </tbody>\n",
       "</table>\n",
       "</div>"
      ],
      "text/plain": [
       "                               Format  \\\n",
       "Location               Match            \n",
       "Las Vegas, Nevada, USA 0        Teams   \n",
       "                       3      Doubles   \n",
       "                       5      Doubles   \n",
       "                       8      Singles   \n",
       "                       12     Doubles   \n",
       "\n",
       "                                                                European_player  \\\n",
       "Location               Match                                                      \n",
       "Las Vegas, Nevada, USA 0      Karl Boyes, Niels Feijen, Ralf Souquet, Mika I...   \n",
       "                       3                              Niels Feijen Ralf Souquet   \n",
       "                       5                                Karl Boyes Niels Feijen   \n",
       "                       8                                           Niels Feijen   \n",
       "                       12                             Mika Immonen Niels Feijen   \n",
       "\n",
       "                             European_score American_score  \\\n",
       "Location               Match                                 \n",
       "Las Vegas, Nevada, USA 0                  6              3   \n",
       "                       3                  6              3   \n",
       "                       5                  6              4   \n",
       "                       8                  6              0   \n",
       "                       12                 6              4   \n",
       "\n",
       "                                                                American_player  \\\n",
       "Location               Match                                                      \n",
       "Las Vegas, Nevada, USA 0      Dennis Hatch, Earl Strickland, Shane Van Boeni...   \n",
       "                       3                             Johnny Archer Dennis Hatch   \n",
       "                       5                            Johnny Archer Rodney Morris   \n",
       "                       8                                          Johnny Archer   \n",
       "                       12                            Dennis Hatch Rodney Morris   \n",
       "\n",
       "                             Europe_won Europe_lost  \n",
       "Location               Match                         \n",
       "Las Vegas, Nevada, USA 0           True       False  \n",
       "                       3           True       False  \n",
       "                       5           True       False  \n",
       "                       8           True       False  \n",
       "                       12          True       False  "
      ]
     },
     "execution_count": 88,
     "metadata": {},
     "output_type": "execute_result"
    },
    {
     "name": "stdout",
     "output_type": "stream",
     "text": [
      "2016\n"
     ]
    },
    {
     "data": {
      "text/html": [
       "<div>\n",
       "<table border=\"1\" class=\"dataframe\">\n",
       "  <thead>\n",
       "    <tr style=\"text-align: right;\">\n",
       "      <th></th>\n",
       "      <th></th>\n",
       "      <th>Format</th>\n",
       "      <th>European_player</th>\n",
       "      <th>European_score</th>\n",
       "      <th>American_score</th>\n",
       "      <th>American_player</th>\n",
       "      <th>Europe_won</th>\n",
       "      <th>Europe_lost</th>\n",
       "    </tr>\n",
       "    <tr>\n",
       "      <th>Location</th>\n",
       "      <th>Match</th>\n",
       "      <th></th>\n",
       "      <th></th>\n",
       "      <th></th>\n",
       "      <th></th>\n",
       "      <th></th>\n",
       "      <th></th>\n",
       "      <th></th>\n",
       "    </tr>\n",
       "  </thead>\n",
       "  <tbody>\n",
       "    <tr>\n",
       "      <th rowspan=\"4\" valign=\"top\">Alexandra Palace, London, England</th>\n",
       "      <th>0</th>\n",
       "      <td>Teams</td>\n",
       "      <td>Niels Feijen, Albin Ouschan, Jayson Shaw, Mark...</td>\n",
       "      <td>5</td>\n",
       "      <td>2</td>\n",
       "      <td>Mike Dechaine, Shane Van Boening, Rodney Morri...</td>\n",
       "      <td>True</td>\n",
       "      <td>False</td>\n",
       "    </tr>\n",
       "    <tr>\n",
       "      <th>2</th>\n",
       "      <td>Singles</td>\n",
       "      <td>Niels Feijen</td>\n",
       "      <td>5</td>\n",
       "      <td>2</td>\n",
       "      <td>Mike Dechaine</td>\n",
       "      <td>True</td>\n",
       "      <td>False</td>\n",
       "    </tr>\n",
       "    <tr>\n",
       "      <th>5</th>\n",
       "      <td>Doubles</td>\n",
       "      <td>Niels Feijen Mark Gray</td>\n",
       "      <td>5</td>\n",
       "      <td>2</td>\n",
       "      <td>Shane Van Boening Skyler Woodward</td>\n",
       "      <td>True</td>\n",
       "      <td>False</td>\n",
       "    </tr>\n",
       "    <tr>\n",
       "      <th>9</th>\n",
       "      <td>Doubles</td>\n",
       "      <td>Darren Appleton Niels Feijen</td>\n",
       "      <td>5</td>\n",
       "      <td>2</td>\n",
       "      <td>Mike Dechaine Shane Van Boening</td>\n",
       "      <td>True</td>\n",
       "      <td>False</td>\n",
       "    </tr>\n",
       "  </tbody>\n",
       "</table>\n",
       "</div>"
      ],
      "text/plain": [
       "                                          Format  \\\n",
       "Location                          Match            \n",
       "Alexandra Palace, London, England 0        Teams   \n",
       "                                  2      Singles   \n",
       "                                  5      Doubles   \n",
       "                                  9      Doubles   \n",
       "\n",
       "                                                                           European_player  \\\n",
       "Location                          Match                                                      \n",
       "Alexandra Palace, London, England 0      Niels Feijen, Albin Ouschan, Jayson Shaw, Mark...   \n",
       "                                  2                                           Niels Feijen   \n",
       "                                  5                                 Niels Feijen Mark Gray   \n",
       "                                  9                           Darren Appleton Niels Feijen   \n",
       "\n",
       "                                        European_score American_score  \\\n",
       "Location                          Match                                 \n",
       "Alexandra Palace, London, England 0                  5              2   \n",
       "                                  2                  5              2   \n",
       "                                  5                  5              2   \n",
       "                                  9                  5              2   \n",
       "\n",
       "                                                                           American_player  \\\n",
       "Location                          Match                                                      \n",
       "Alexandra Palace, London, England 0      Mike Dechaine, Shane Van Boening, Rodney Morri...   \n",
       "                                  2                                          Mike Dechaine   \n",
       "                                  5                      Shane Van Boening Skyler Woodward   \n",
       "                                  9                        Mike Dechaine Shane Van Boening   \n",
       "\n",
       "                                        Europe_won Europe_lost  \n",
       "Location                          Match                         \n",
       "Alexandra Palace, London, England 0           True       False  \n",
       "                                  2           True       False  \n",
       "                                  5           True       False  \n",
       "                                  9           True       False  "
      ]
     },
     "execution_count": 88,
     "metadata": {},
     "output_type": "execute_result"
    }
   ],
   "source": [
    "for year in err:\n",
    "    print(year)\n",
    "    df.loc[year]"
   ]
  },
  {
   "cell_type": "code",
   "execution_count": 106,
   "metadata": {
    "collapsed": true
   },
   "outputs": [],
   "source": [
    "yr= {}\n",
    "#manually insert the years 2013 & 2016 (since he had zero losses, value_counts could not unpack properly to a tuple)\n",
    "yr[2016]=(4,0)\n",
    "yr[2013]=(5,0)\n",
    "\n",
    "for k,v in zip(years,yearly):\n",
    "    yr[k]=v"
   ]
  },
  {
   "cell_type": "code",
   "execution_count": 107,
   "metadata": {},
   "outputs": [
    {
     "data": {
      "text/plain": [
       "{2001: (1, 2),\n",
       " 2004: (3, 2),\n",
       " 2005: (2, 2),\n",
       " 2007: (4, 2),\n",
       " 2008: (5, 1),\n",
       " 2009: (1, 5),\n",
       " 2011: (5, 1),\n",
       " 2012: (3, 3),\n",
       " 2013: (3, 3),\n",
       " 2014: (4, 1),\n",
       " 2015: (4, 2),\n",
       " 2016: (4, 2)}"
      ]
     },
     "execution_count": 107,
     "metadata": {},
     "output_type": "execute_result"
    }
   ],
   "source": [
    "yr"
   ]
  },
  {
   "cell_type": "markdown",
   "metadata": {},
   "source": [
    "### Worst years: 2001 (1-2), 2009 (1-5), one home, one away. \n",
    "### Best years: 2008 (5-1), 2011 (5-1) 2013 (5-0), 2014 (4-1), 2016: (4-0), 3/4 of which were 'home' games."
   ]
  },
  {
   "cell_type": "markdown",
   "metadata": {},
   "source": [
    "## Let's see if the location is a major factor in the quality of his performance."
   ]
  },
  {
   "cell_type": "code",
   "execution_count": 91,
   "metadata": {},
   "outputs": [
    {
     "data": {
      "text/plain": [
       "[2001, 2004, 2005, 2007, 2008, 2009, 2011, 2012, 2013, 2014, 2015, 2016]"
      ]
     },
     "execution_count": 91,
     "metadata": {},
     "output_type": "execute_result"
    }
   ],
   "source": [
    "years"
   ]
  },
  {
   "cell_type": "code",
   "execution_count": 60,
   "metadata": {},
   "outputs": [],
   "source": [
    "locs = pickle.load(open('pkl/dloc','rb'))"
   ]
  },
  {
   "cell_type": "code",
   "execution_count": 66,
   "metadata": {},
   "outputs": [],
   "source": [
    "hm=[]\n",
    "aw=[]\n",
    "for year in years:\n",
    "    if 'USA' in locs[year]:\n",
    "        aw.append(year)\n",
    "    else:\n",
    "        hm.append(year)"
   ]
  },
  {
   "cell_type": "code",
   "execution_count": 71,
   "metadata": {},
   "outputs": [],
   "source": [
    "away= df.loc[aw]"
   ]
  },
  {
   "cell_type": "code",
   "execution_count": 94,
   "metadata": {},
   "outputs": [],
   "source": [
    "home= df.loc[hm]"
   ]
  },
  {
   "cell_type": "code",
   "execution_count": 97,
   "metadata": {},
   "outputs": [
    {
     "data": {
      "text/plain": [
       "False     9\n",
       "True     20\n",
       "Name: Europe_won, dtype: int64"
      ]
     },
     "execution_count": 97,
     "metadata": {},
     "output_type": "execute_result"
    }
   ],
   "source": [
    "home['Europe_won'].value_counts(sort=False)"
   ]
  },
  {
   "cell_type": "code",
   "execution_count": 98,
   "metadata": {},
   "outputs": [
    {
     "data": {
      "text/plain": [
       "False    12\n",
       "True     21\n",
       "Name: Europe_won, dtype: int64"
      ]
     },
     "execution_count": 98,
     "metadata": {},
     "output_type": "execute_result"
    }
   ],
   "source": [
    "away['Europe_won'].value_counts(sort=False)"
   ]
  },
  {
   "cell_type": "code",
   "execution_count": 99,
   "metadata": {},
   "outputs": [
    {
     "data": {
      "text/plain": [
       "('Matches Played: 29', 'Win-loss: 20-9', 'pct: 69.0')"
      ]
     },
     "execution_count": 99,
     "metadata": {},
     "output_type": "execute_result"
    }
   ],
   "source": [
    "stats(home)"
   ]
  },
  {
   "cell_type": "code",
   "execution_count": 100,
   "metadata": {},
   "outputs": [
    {
     "data": {
      "text/plain": [
       "('Matches Played: 33', 'Win-loss: 21-12', 'pct: 64.0')"
      ]
     },
     "execution_count": 100,
     "metadata": {},
     "output_type": "execute_result"
    }
   ],
   "source": [
    "stats(away)"
   ]
  },
  {
   "cell_type": "markdown",
   "metadata": {},
   "source": [
    "### Let's drill down a bit further to parse out his singles and doubles matches for both home and away "
   ]
  },
  {
   "cell_type": "code",
   "execution_count": 101,
   "metadata": {
    "collapsed": true
   },
   "outputs": [],
   "source": [
    "hsing = stats(home[home['Format']=='Singles'])"
   ]
  },
  {
   "cell_type": "code",
   "execution_count": 102,
   "metadata": {
    "collapsed": true
   },
   "outputs": [],
   "source": [
    "hdub = stats(home[home['Format']=='Doubles'])"
   ]
  },
  {
   "cell_type": "code",
   "execution_count": 103,
   "metadata": {
    "collapsed": true
   },
   "outputs": [],
   "source": [
    "asing = stats(away[away['Format']=='Singles'])"
   ]
  },
  {
   "cell_type": "code",
   "execution_count": 104,
   "metadata": {
    "collapsed": true
   },
   "outputs": [],
   "source": [
    "adub = stats(away[away['Format']=='Doubles'])"
   ]
  },
  {
   "cell_type": "code",
   "execution_count": 105,
   "metadata": {},
   "outputs": [
    {
     "data": {
      "text/plain": [
       "\"Home Singles: ('Matches Played: 9', 'Win-loss: 5-4', 'pct: 56.0')\""
      ]
     },
     "execution_count": 105,
     "metadata": {},
     "output_type": "execute_result"
    },
    {
     "data": {
      "text/plain": [
       "\"Home Doubles: ('Matches Played: 16', 'Win-loss: 12-4', 'pct: 75.0')\""
      ]
     },
     "execution_count": 105,
     "metadata": {},
     "output_type": "execute_result"
    },
    {
     "data": {
      "text/plain": [
       "\"Away Singles: ('Matches Played: 11', 'Win-loss: 7-4', 'pct: 64.0')\""
      ]
     },
     "execution_count": 105,
     "metadata": {},
     "output_type": "execute_result"
    },
    {
     "data": {
      "text/plain": [
       "\"Away Doubles: ('Matches Played: 17', 'Win-loss: 12-5', 'pct: 71.0')\""
      ]
     },
     "execution_count": 105,
     "metadata": {},
     "output_type": "execute_result"
    }
   ],
   "source": [
    "'Home Singles: {}'.format(hsing)\n",
    "'Home Doubles: {}'.format(hdub)\n",
    "'Away Singles: {}'.format(asing)\n",
    "'Away Doubles: {}'.format(adub)"
   ]
  },
  {
   "cell_type": "markdown",
   "metadata": {},
   "source": [
    "## Not much variation, but he does better in doubles in both cases."
   ]
  }
 ],
 "metadata": {
  "kernelspec": {
   "display_name": "Python 3",
   "language": "python",
   "name": "python3"
  },
  "language_info": {
   "codemirror_mode": {
    "name": "ipython",
    "version": 3
   },
   "file_extension": ".py",
   "mimetype": "text/x-python",
   "name": "python",
   "nbconvert_exporter": "python",
   "pygments_lexer": "ipython3",
   "version": "3.5.2"
  }
 },
 "nbformat": 4,
 "nbformat_minor": 2
}
