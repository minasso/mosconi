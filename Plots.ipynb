{
 "cells": [
  {
   "cell_type": "code",
   "execution_count": 1,
   "metadata": {
    "collapsed": true
   },
   "outputs": [],
   "source": [
    "import pandas as pd"
   ]
  },
  {
   "cell_type": "code",
   "execution_count": 10,
   "metadata": {
    "collapsed": true
   },
   "outputs": [],
   "source": [
    "import matplotlib.pyplot as plt\n",
    "%matplotlib inline\n",
    "import seaborn as sns\n",
    "import numpy as np"
   ]
  },
  {
   "cell_type": "code",
   "execution_count": 3,
   "metadata": {
    "collapsed": true
   },
   "outputs": [],
   "source": [
    "import pickle"
   ]
  },
  {
   "cell_type": "code",
   "execution_count": 4,
   "metadata": {
    "collapsed": true
   },
   "outputs": [],
   "source": [
    "df = pickle.load(open('pkl/allyears_clean','rb'))"
   ]
  },
  {
   "cell_type": "code",
   "execution_count": 5,
   "metadata": {
    "collapsed": true
   },
   "outputs": [],
   "source": [
    "stats = pickle.load(open('pkl/player_stats','rb'))"
   ]
  },
  {
   "cell_type": "code",
   "execution_count": 6,
   "metadata": {},
   "outputs": [
    {
     "data": {
      "text/html": [
       "<div>\n",
       "<table border=\"1\" class=\"dataframe\">\n",
       "  <thead>\n",
       "    <tr style=\"text-align: right;\">\n",
       "      <th></th>\n",
       "      <th>Player</th>\n",
       "      <th>Team</th>\n",
       "      <th>Smp</th>\n",
       "      <th>Swin</th>\n",
       "      <th>Sloss</th>\n",
       "      <th>Swl</th>\n",
       "      <th>Spct</th>\n",
       "      <th>Dmp</th>\n",
       "      <th>Dwin</th>\n",
       "      <th>Dloss</th>\n",
       "      <th>Dwl</th>\n",
       "      <th>Dpct</th>\n",
       "      <th>Twl</th>\n",
       "      <th>Trwl</th>\n",
       "      <th>Cmp</th>\n",
       "      <th>Cwin</th>\n",
       "      <th>Closs</th>\n",
       "      <th>Cwl</th>\n",
       "      <th>Cpct</th>\n",
       "    </tr>\n",
       "  </thead>\n",
       "  <tbody>\n",
       "    <tr>\n",
       "      <th>0</th>\n",
       "      <td>Johnny Archer</td>\n",
       "      <td>America</td>\n",
       "      <td>30</td>\n",
       "      <td>17</td>\n",
       "      <td>13</td>\n",
       "      <td>17-13</td>\n",
       "      <td>56.67</td>\n",
       "      <td>50</td>\n",
       "      <td>27</td>\n",
       "      <td>23</td>\n",
       "      <td>27-23</td>\n",
       "      <td>54.00</td>\n",
       "      <td>5-4</td>\n",
       "      <td>1-1</td>\n",
       "      <td>91</td>\n",
       "      <td>50</td>\n",
       "      <td>41</td>\n",
       "      <td>50-41</td>\n",
       "      <td>54.95</td>\n",
       "    </tr>\n",
       "    <tr>\n",
       "      <th>1</th>\n",
       "      <td>Earl Strickland</td>\n",
       "      <td>America</td>\n",
       "      <td>26</td>\n",
       "      <td>14</td>\n",
       "      <td>12</td>\n",
       "      <td>14-12</td>\n",
       "      <td>53.85</td>\n",
       "      <td>36</td>\n",
       "      <td>24</td>\n",
       "      <td>12</td>\n",
       "      <td>24-12</td>\n",
       "      <td>66.67</td>\n",
       "      <td>3-2</td>\n",
       "      <td>2-0</td>\n",
       "      <td>69</td>\n",
       "      <td>43</td>\n",
       "      <td>26</td>\n",
       "      <td>43-26</td>\n",
       "      <td>62.32</td>\n",
       "    </tr>\n",
       "    <tr>\n",
       "      <th>2</th>\n",
       "      <td>Rodney Morris</td>\n",
       "      <td>America</td>\n",
       "      <td>18</td>\n",
       "      <td>10</td>\n",
       "      <td>8</td>\n",
       "      <td>10-8</td>\n",
       "      <td>55.56</td>\n",
       "      <td>29</td>\n",
       "      <td>12</td>\n",
       "      <td>17</td>\n",
       "      <td>12-17</td>\n",
       "      <td>41.38</td>\n",
       "      <td>3-5</td>\n",
       "      <td>2-0</td>\n",
       "      <td>57</td>\n",
       "      <td>27</td>\n",
       "      <td>30</td>\n",
       "      <td>27-30</td>\n",
       "      <td>47.37</td>\n",
       "    </tr>\n",
       "    <tr>\n",
       "      <th>3</th>\n",
       "      <td>Shane Van Boening</td>\n",
       "      <td>America</td>\n",
       "      <td>25</td>\n",
       "      <td>10</td>\n",
       "      <td>15</td>\n",
       "      <td>10-15</td>\n",
       "      <td>40.00</td>\n",
       "      <td>25</td>\n",
       "      <td>11</td>\n",
       "      <td>14</td>\n",
       "      <td>11-14</td>\n",
       "      <td>44.00</td>\n",
       "      <td>4-6</td>\n",
       "      <td>0-0</td>\n",
       "      <td>60</td>\n",
       "      <td>25</td>\n",
       "      <td>35</td>\n",
       "      <td>25-35</td>\n",
       "      <td>41.67</td>\n",
       "    </tr>\n",
       "    <tr>\n",
       "      <th>4</th>\n",
       "      <td>Corey Deuel</td>\n",
       "      <td>America</td>\n",
       "      <td>13</td>\n",
       "      <td>7</td>\n",
       "      <td>6</td>\n",
       "      <td>7-6</td>\n",
       "      <td>53.85</td>\n",
       "      <td>25</td>\n",
       "      <td>13</td>\n",
       "      <td>12</td>\n",
       "      <td>13-12</td>\n",
       "      <td>52.00</td>\n",
       "      <td>5-2</td>\n",
       "      <td>2-0</td>\n",
       "      <td>47</td>\n",
       "      <td>27</td>\n",
       "      <td>20</td>\n",
       "      <td>27-20</td>\n",
       "      <td>57.45</td>\n",
       "    </tr>\n",
       "  </tbody>\n",
       "</table>\n",
       "</div>"
      ],
      "text/plain": [
       "              Player     Team  Smp  Swin  Sloss    Swl   Spct  Dmp  Dwin  \\\n",
       "0      Johnny Archer  America   30    17     13  17-13  56.67   50    27   \n",
       "1    Earl Strickland  America   26    14     12  14-12  53.85   36    24   \n",
       "2      Rodney Morris  America   18    10      8   10-8  55.56   29    12   \n",
       "3  Shane Van Boening  America   25    10     15  10-15  40.00   25    11   \n",
       "4        Corey Deuel  America   13     7      6    7-6  53.85   25    13   \n",
       "\n",
       "   Dloss    Dwl   Dpct  Twl Trwl  Cmp  Cwin  Closs    Cwl   Cpct  \n",
       "0     23  27-23  54.00  5-4  1-1   91    50     41  50-41  54.95  \n",
       "1     12  24-12  66.67  3-2  2-0   69    43     26  43-26  62.32  \n",
       "2     17  12-17  41.38  3-5  2-0   57    27     30  27-30  47.37  \n",
       "3     14  11-14  44.00  4-6  0-0   60    25     35  25-35  41.67  \n",
       "4     12  13-12  52.00  5-2  2-0   47    27     20  27-20  57.45  "
      ]
     },
     "execution_count": 6,
     "metadata": {},
     "output_type": "execute_result"
    }
   ],
   "source": [
    "stats.head()"
   ]
  },
  {
   "cell_type": "code",
   "execution_count": 7,
   "metadata": {},
   "outputs": [
    {
     "data": {
      "text/html": [
       "<div>\n",
       "<table border=\"1\" class=\"dataframe\">\n",
       "  <thead>\n",
       "    <tr style=\"text-align: right;\">\n",
       "      <th></th>\n",
       "      <th>Player</th>\n",
       "      <th>Team</th>\n",
       "      <th>Smp</th>\n",
       "      <th>Swin</th>\n",
       "      <th>Sloss</th>\n",
       "      <th>Swl</th>\n",
       "      <th>Spct</th>\n",
       "      <th>Dmp</th>\n",
       "      <th>Dwin</th>\n",
       "      <th>Dloss</th>\n",
       "      <th>Dwl</th>\n",
       "      <th>Dpct</th>\n",
       "      <th>Twl</th>\n",
       "      <th>Trwl</th>\n",
       "      <th>Cmp</th>\n",
       "      <th>Cwin</th>\n",
       "      <th>Closs</th>\n",
       "      <th>Cwl</th>\n",
       "      <th>Cpct</th>\n",
       "    </tr>\n",
       "  </thead>\n",
       "  <tbody>\n",
       "    <tr>\n",
       "      <th>35</th>\n",
       "      <td>Jeanette Lee</td>\n",
       "      <td>America</td>\n",
       "      <td>2</td>\n",
       "      <td>2</td>\n",
       "      <td>0</td>\n",
       "      <td>2-0</td>\n",
       "      <td>100.0</td>\n",
       "      <td>3</td>\n",
       "      <td>3</td>\n",
       "      <td>0</td>\n",
       "      <td>3-0</td>\n",
       "      <td>100.00</td>\n",
       "      <td>0-0</td>\n",
       "      <td>0-0</td>\n",
       "      <td>5</td>\n",
       "      <td>5</td>\n",
       "      <td>0</td>\n",
       "      <td>5-0</td>\n",
       "      <td>100.00</td>\n",
       "    </tr>\n",
       "    <tr>\n",
       "      <th>38</th>\n",
       "      <td>Vivian Villarreal</td>\n",
       "      <td>America</td>\n",
       "      <td>3</td>\n",
       "      <td>3</td>\n",
       "      <td>0</td>\n",
       "      <td>3-0</td>\n",
       "      <td>100.0</td>\n",
       "      <td>2</td>\n",
       "      <td>2</td>\n",
       "      <td>0</td>\n",
       "      <td>2-0</td>\n",
       "      <td>100.00</td>\n",
       "      <td>0-0</td>\n",
       "      <td>0-0</td>\n",
       "      <td>5</td>\n",
       "      <td>5</td>\n",
       "      <td>0</td>\n",
       "      <td>5-0</td>\n",
       "      <td>100.00</td>\n",
       "    </tr>\n",
       "    <tr>\n",
       "      <th>54</th>\n",
       "      <td>Albin Ouschan</td>\n",
       "      <td>Europe</td>\n",
       "      <td>3</td>\n",
       "      <td>3</td>\n",
       "      <td>0</td>\n",
       "      <td>3-0</td>\n",
       "      <td>100.0</td>\n",
       "      <td>6</td>\n",
       "      <td>5</td>\n",
       "      <td>1</td>\n",
       "      <td>5-1</td>\n",
       "      <td>83.33</td>\n",
       "      <td>1-1</td>\n",
       "      <td>0-0</td>\n",
       "      <td>11</td>\n",
       "      <td>9</td>\n",
       "      <td>2</td>\n",
       "      <td>9-2</td>\n",
       "      <td>81.82</td>\n",
       "    </tr>\n",
       "    <tr>\n",
       "      <th>26</th>\n",
       "      <td>C.J. Wiley</td>\n",
       "      <td>America</td>\n",
       "      <td>4</td>\n",
       "      <td>3</td>\n",
       "      <td>1</td>\n",
       "      <td>3-1</td>\n",
       "      <td>75.0</td>\n",
       "      <td>1</td>\n",
       "      <td>1</td>\n",
       "      <td>0</td>\n",
       "      <td>1-0</td>\n",
       "      <td>100.00</td>\n",
       "      <td>0-0</td>\n",
       "      <td>0-0</td>\n",
       "      <td>5</td>\n",
       "      <td>4</td>\n",
       "      <td>1</td>\n",
       "      <td>4-1</td>\n",
       "      <td>80.00</td>\n",
       "    </tr>\n",
       "    <tr>\n",
       "      <th>36</th>\n",
       "      <td>Gabe Owen</td>\n",
       "      <td>America</td>\n",
       "      <td>2</td>\n",
       "      <td>2</td>\n",
       "      <td>0</td>\n",
       "      <td>2-0</td>\n",
       "      <td>100.0</td>\n",
       "      <td>3</td>\n",
       "      <td>2</td>\n",
       "      <td>1</td>\n",
       "      <td>2-1</td>\n",
       "      <td>66.67</td>\n",
       "      <td>0-0</td>\n",
       "      <td>0-0</td>\n",
       "      <td>5</td>\n",
       "      <td>4</td>\n",
       "      <td>1</td>\n",
       "      <td>4-1</td>\n",
       "      <td>80.00</td>\n",
       "    </tr>\n",
       "  </tbody>\n",
       "</table>\n",
       "</div>"
      ],
      "text/plain": [
       "               Player     Team  Smp  Swin  Sloss  Swl   Spct  Dmp  Dwin  \\\n",
       "35       Jeanette Lee  America    2     2      0  2-0  100.0    3     3   \n",
       "38  Vivian Villarreal  America    3     3      0  3-0  100.0    2     2   \n",
       "54      Albin Ouschan   Europe    3     3      0  3-0  100.0    6     5   \n",
       "26         C.J. Wiley  America    4     3      1  3-1   75.0    1     1   \n",
       "36          Gabe Owen  America    2     2      0  2-0  100.0    3     2   \n",
       "\n",
       "    Dloss  Dwl    Dpct  Twl Trwl  Cmp  Cwin  Closs  Cwl    Cpct  \n",
       "35      0  3-0  100.00  0-0  0-0    5     5      0  5-0  100.00  \n",
       "38      0  2-0  100.00  0-0  0-0    5     5      0  5-0  100.00  \n",
       "54      1  5-1   83.33  1-1  0-0   11     9      2  9-2   81.82  \n",
       "26      0  1-0  100.00  0-0  0-0    5     4      1  4-1   80.00  \n",
       "36      1  2-1   66.67  0-0  0-0    5     4      1  4-1   80.00  "
      ]
     },
     "execution_count": 7,
     "metadata": {},
     "output_type": "execute_result"
    }
   ],
   "source": [
    "stats.sort_values(by=['Cpct','Cwin'],ascending=False).head()"
   ]
  },
  {
   "cell_type": "code",
   "execution_count": 8,
   "metadata": {
    "collapsed": true
   },
   "outputs": [],
   "source": [
    "stats.index = pd.RangeIndex(start=1, stop=77, step=1)"
   ]
  },
  {
   "cell_type": "code",
   "execution_count": 17,
   "metadata": {},
   "outputs": [
    {
     "data": {
      "text/plain": [
       "[<matplotlib.lines.Line2D at 0xf41a91b550>]"
      ]
     },
     "execution_count": 17,
     "metadata": {},
     "output_type": "execute_result"
    },
    {
     "data": {
      "text/plain": [
       "<matplotlib.text.Text at 0xf41dda2978>"
      ]
     },
     "execution_count": 17,
     "metadata": {},
     "output_type": "execute_result"
    },
    {
     "data": {
      "text/plain": [
       "<matplotlib.text.Text at 0xf41a8e4438>"
      ]
     },
     "execution_count": 17,
     "metadata": {},
     "output_type": "execute_result"
    },
    {
     "data": {
      "text/plain": [
       "<matplotlib.text.Text at 0xf41a8f8c18>"
      ]
     },
     "execution_count": 17,
     "metadata": {},
     "output_type": "execute_result"
    },
    {
     "data": {
      "text/plain": [
       "([<matplotlib.axis.XTick at 0xf41dddd898>,\n",
       "  <matplotlib.axis.XTick at 0xf41daee320>,\n",
       "  <matplotlib.axis.XTick at 0xf41e240e10>,\n",
       "  <matplotlib.axis.XTick at 0xf41a928b38>,\n",
       "  <matplotlib.axis.XTick at 0xf41a926630>,\n",
       "  <matplotlib.axis.XTick at 0xf41a926fd0>,\n",
       "  <matplotlib.axis.XTick at 0xf41a924a90>,\n",
       "  <matplotlib.axis.XTick at 0xf41a92c588>,\n",
       "  <matplotlib.axis.XTick at 0xf41a931080>,\n",
       "  <matplotlib.axis.XTick at 0xf41a931b38>,\n",
       "  <matplotlib.axis.XTick at 0xf41a934630>,\n",
       "  <matplotlib.axis.XTick at 0xf41a93a128>],\n",
       " <a list of 12 Text xticklabel objects>)"
      ]
     },
     "execution_count": 17,
     "metadata": {},
     "output_type": "execute_result"
    },
    {
     "data": {
      "text/plain": [
       "([<matplotlib.axis.YTick at 0xf41dde6e10>,\n",
       "  <matplotlib.axis.YTick at 0xf41ddd46a0>,\n",
       "  <matplotlib.axis.YTick at 0xf41a8e1e10>,\n",
       "  <matplotlib.axis.YTick at 0xf41a924860>,\n",
       "  <matplotlib.axis.YTick at 0xf41a9012e8>,\n",
       "  <matplotlib.axis.YTick at 0xf41a93ae48>,\n",
       "  <matplotlib.axis.YTick at 0xf41a9407f0>],\n",
       " <a list of 7 Text yticklabel objects>)"
      ]
     },
     "execution_count": 17,
     "metadata": {},
     "output_type": "execute_result"
    },
    {
     "data": {
      "text/plain": [
       "<matplotlib.text.Annotation at 0xf41a93a7b8>"
      ]
     },
     "execution_count": 17,
     "metadata": {},
     "output_type": "execute_result"
    },
    {
     "data": {
      "text/plain": [
       "<matplotlib.text.Annotation at 0xf41a940898>"
      ]
     },
     "execution_count": 17,
     "metadata": {},
     "output_type": "execute_result"
    },
    {
     "data": {
      "text/plain": [
       "<matplotlib.text.Annotation at 0xf41a940d30>"
      ]
     },
     "execution_count": 17,
     "metadata": {},
     "output_type": "execute_result"
    },
    {
     "data": {
      "text/plain": [
       "<matplotlib.text.Annotation at 0xf41a93af98>"
      ]
     },
     "execution_count": 17,
     "metadata": {},
     "output_type": "execute_result"
    },
    {
     "data": {
      "text/plain": [
       "<matplotlib.text.Annotation at 0xf41a93acc0>"
      ]
     },
     "execution_count": 17,
     "metadata": {},
     "output_type": "execute_result"
    },
    {
     "data": {
      "text/plain": [
       "<matplotlib.text.Annotation at 0xf41a926e80>"
      ]
     },
     "execution_count": 17,
     "metadata": {},
     "output_type": "execute_result"
    },
    {
     "data": {
      "text/plain": [
       "<matplotlib.text.Annotation at 0xf41a93ac18>"
      ]
     },
     "execution_count": 17,
     "metadata": {},
     "output_type": "execute_result"
    },
    {
     "data": {
      "text/plain": [
       "<matplotlib.text.Annotation at 0xf41a9016a0>"
      ]
     },
     "execution_count": 17,
     "metadata": {},
     "output_type": "execute_result"
    },
    {
     "data": {
      "text/plain": [
       "<matplotlib.text.Annotation at 0xf41a9315f8>"
      ]
     },
     "execution_count": 17,
     "metadata": {},
     "output_type": "execute_result"
    },
    {
     "data": {
      "image/png": "[encoded data removed]",
      "text/plain": [
       "<matplotlib.figure.Figure at 0xf41a8b7278>"
      ]
     },
     "metadata": {},
     "output_type": "display_data"
    }
   ],
   "source": [
    "frame = stats.nlargest(7,'Cwin')\n",
    "frame.index= pd.RangeIndex(start=1, stop=10, step=1)\n",
    "\n",
    "from pylab import rcParams\n",
    "rcParams['figure.figsize']=(14,8)\n",
    "\n",
    "x=list(frame['Cmp'])\n",
    "y=list(frame['Cwin'])\n",
    "labels=list(frame['Player'])\n",
    "\n",
    "plt.plot(x,y,linestyle='none',marker='.',markersize=12)\n",
    "plt.xlabel('Combined Matches Played')\n",
    "plt.ylabel('Combined Wins')\n",
    "plt.title('Players with the Most Combined Wins')\n",
    "plt.xticks(np.arange(45,105,5))\n",
    "plt.yticks(np.arange(25,60,5))\n",
    "\n",
    "n= list(frame['Cpct'])\n",
    "for i, txt in enumerate(n):\n",
    "    plt.annotate('{}\\n    {}%'.format(labels[i],txt), (frame.ix[i+1,'Cmp']+1,frame.ix[i+1,'Cwin']-1))"
   ]
  },
  {
   "cell_type": "code",
   "execution_count": 32,
   "metadata": {},
   "outputs": [
    {
     "data": {
      "text/plain": [
       "[<matplotlib.lines.Line2D at 0xf420c996a0>]"
      ]
     },
     "execution_count": 32,
     "metadata": {},
     "output_type": "execute_result"
    },
    {
     "data": {
      "text/plain": [
       "<matplotlib.text.Text at 0xf420475240>"
      ]
     },
     "execution_count": 32,
     "metadata": {},
     "output_type": "execute_result"
    },
    {
     "data": {
      "text/plain": [
       "<matplotlib.text.Text at 0xf420c609b0>"
      ]
     },
     "execution_count": 32,
     "metadata": {},
     "output_type": "execute_result"
    },
    {
     "data": {
      "text/plain": [
       "<matplotlib.text.Text at 0xf420c740b8>"
      ]
     },
     "execution_count": 32,
     "metadata": {},
     "output_type": "execute_result"
    },
    {
     "data": {
      "text/plain": [
       "([<matplotlib.axis.XTick at 0xf420894ef0>,\n",
       "  <matplotlib.axis.XTick at 0xf420840f28>,\n",
       "  <matplotlib.axis.XTick at 0xf41feab748>,\n",
       "  <matplotlib.axis.XTick at 0xf420c9fc88>,\n",
       "  <matplotlib.axis.XTick at 0xf420e73630>],\n",
       " <a list of 5 Text xticklabel objects>)"
      ]
     },
     "execution_count": 32,
     "metadata": {},
     "output_type": "execute_result"
    },
    {
     "data": {
      "text/plain": [
       "([<matplotlib.axis.YTick at 0xf420c60080>,\n",
       "  <matplotlib.axis.YTick at 0xf42087d860>,\n",
       "  <matplotlib.axis.YTick at 0xf420c627b8>,\n",
       "  <matplotlib.axis.YTick at 0xf420c9ff28>,\n",
       "  <matplotlib.axis.YTick at 0xf420e77160>,\n",
       "  <matplotlib.axis.YTick at 0xf420e77be0>,\n",
       "  <matplotlib.axis.YTick at 0xf420e7a6d8>,\n",
       "  <matplotlib.axis.YTick at 0xf420e7f1d0>,\n",
       "  <matplotlib.axis.YTick at 0xf420e7fc88>,\n",
       "  <matplotlib.axis.YTick at 0xf420e85780>,\n",
       "  <matplotlib.axis.YTick at 0xf420e88278>,\n",
       "  <matplotlib.axis.YTick at 0xf420e88be0>,\n",
       "  <matplotlib.axis.YTick at 0xf420e8d6d8>],\n",
       " <a list of 13 Text yticklabel objects>)"
      ]
     },
     "execution_count": 32,
     "metadata": {},
     "output_type": "execute_result"
    },
    {
     "data": {
      "text/plain": [
       "<matplotlib.text.Annotation at 0xf420e8da20>"
      ]
     },
     "execution_count": 32,
     "metadata": {},
     "output_type": "execute_result"
    },
    {
     "data": {
      "text/plain": [
       "<matplotlib.text.Annotation at 0xf420e8d3c8>"
      ]
     },
     "execution_count": 32,
     "metadata": {},
     "output_type": "execute_result"
    },
    {
     "data": {
      "text/plain": [
       "<matplotlib.text.Annotation at 0xf420e8d128>"
      ]
     },
     "execution_count": 32,
     "metadata": {},
     "output_type": "execute_result"
    },
    {
     "data": {
      "text/plain": [
       "<matplotlib.text.Annotation at 0xf420e8d588>"
      ]
     },
     "execution_count": 32,
     "metadata": {},
     "output_type": "execute_result"
    },
    {
     "data": {
      "text/plain": [
       "<matplotlib.text.Annotation at 0xf420e8dd30>"
      ]
     },
     "execution_count": 32,
     "metadata": {},
     "output_type": "execute_result"
    },
    {
     "data": {
      "text/plain": [
       "<matplotlib.text.Annotation at 0xf420e8d0b8>"
      ]
     },
     "execution_count": 32,
     "metadata": {},
     "output_type": "execute_result"
    },
    {
     "data": {
      "text/plain": [
       "<matplotlib.text.Annotation at 0xf420e88c88>"
      ]
     },
     "execution_count": 32,
     "metadata": {},
     "output_type": "execute_result"
    },
    {
     "data": {
      "text/plain": [
       "<matplotlib.text.Annotation at 0xf420e88a90>"
      ]
     },
     "execution_count": 32,
     "metadata": {},
     "output_type": "execute_result"
    },
    {
     "data": {
      "text/plain": [
       "<matplotlib.text.Annotation at 0xf420e88da0>"
      ]
     },
     "execution_count": 32,
     "metadata": {},
     "output_type": "execute_result"
    },
    {
     "data": {
      "image/png": "[encoded data removed]",
      "text/plain": [
       "<matplotlib.figure.Figure at 0xf4208a1588>"
      ]
     },
     "metadata": {},
     "output_type": "display_data"
    }
   ],
   "source": [
    "frame = stats.nlargest(7,'Swin')\n",
    "frame.index= pd.RangeIndex(start=1, stop=10, step=1)\n",
    "\n",
    "from pylab import rcParams\n",
    "rcParams['figure.figsize']=(14,8)\n",
    "\n",
    "x=list(frame['Smp'])\n",
    "y=list(frame['Swin'])\n",
    "labels=list(frame['Player'])\n",
    "\n",
    "plt.plot(x,y,linestyle='none',marker='.',markersize=12)\n",
    "plt.xlabel('Singles Matches Played')\n",
    "plt.ylabel('Singles Wins')\n",
    "plt.title('Players with the Most Singles Wins')\n",
    "plt.xticks(np.arange(20,45,5))\n",
    "plt.yticks(np.arange(5,30,2))\n",
    "\n",
    "n= list(frame['Spct'])\n",
    "for i, txt in enumerate(n):\n",
    "    plt.annotate('{}\\n    {}%'.format(labels[i],txt), (frame.ix[i+1,'Smp']+1,frame.ix[i+1,'Swin']-1))"
   ]
  },
  {
   "cell_type": "code",
   "execution_count": 30,
   "metadata": {},
   "outputs": [
    {
     "data": {
      "text/html": [
       "<div>\n",
       "<table border=\"1\" class=\"dataframe\">\n",
       "  <thead>\n",
       "    <tr style=\"text-align: right;\">\n",
       "      <th></th>\n",
       "      <th>Player</th>\n",
       "      <th>Team</th>\n",
       "      <th>Smp</th>\n",
       "      <th>Swin</th>\n",
       "      <th>Sloss</th>\n",
       "      <th>Swl</th>\n",
       "      <th>Spct</th>\n",
       "      <th>Dmp</th>\n",
       "      <th>Dwin</th>\n",
       "      <th>Dloss</th>\n",
       "      <th>Dwl</th>\n",
       "      <th>Dpct</th>\n",
       "      <th>Twl</th>\n",
       "      <th>Trwl</th>\n",
       "      <th>Cmp</th>\n",
       "      <th>Cwin</th>\n",
       "      <th>Closs</th>\n",
       "      <th>Cwl</th>\n",
       "      <th>Cpct</th>\n",
       "    </tr>\n",
       "  </thead>\n",
       "  <tbody>\n",
       "    <tr>\n",
       "      <th>41</th>\n",
       "      <td>Ralf Souquet</td>\n",
       "      <td>Europe</td>\n",
       "      <td>33</td>\n",
       "      <td>20</td>\n",
       "      <td>13</td>\n",
       "      <td>20-13</td>\n",
       "      <td>60.61</td>\n",
       "      <td>44</td>\n",
       "      <td>27</td>\n",
       "      <td>17</td>\n",
       "      <td>27-17</td>\n",
       "      <td>61.36</td>\n",
       "      <td>4-4</td>\n",
       "      <td>1-1</td>\n",
       "      <td>87</td>\n",
       "      <td>52</td>\n",
       "      <td>35</td>\n",
       "      <td>52-35</td>\n",
       "      <td>59.77</td>\n",
       "    </tr>\n",
       "    <tr>\n",
       "      <th>1</th>\n",
       "      <td>Johnny Archer</td>\n",
       "      <td>America</td>\n",
       "      <td>30</td>\n",
       "      <td>17</td>\n",
       "      <td>13</td>\n",
       "      <td>17-13</td>\n",
       "      <td>56.67</td>\n",
       "      <td>50</td>\n",
       "      <td>27</td>\n",
       "      <td>23</td>\n",
       "      <td>27-23</td>\n",
       "      <td>54.00</td>\n",
       "      <td>5-4</td>\n",
       "      <td>1-1</td>\n",
       "      <td>91</td>\n",
       "      <td>50</td>\n",
       "      <td>41</td>\n",
       "      <td>50-41</td>\n",
       "      <td>54.95</td>\n",
       "    </tr>\n",
       "    <tr>\n",
       "      <th>42</th>\n",
       "      <td>Mika Immonen</td>\n",
       "      <td>Europe</td>\n",
       "      <td>33</td>\n",
       "      <td>16</td>\n",
       "      <td>17</td>\n",
       "      <td>16-17</td>\n",
       "      <td>48.48</td>\n",
       "      <td>39</td>\n",
       "      <td>22</td>\n",
       "      <td>17</td>\n",
       "      <td>22-17</td>\n",
       "      <td>56.41</td>\n",
       "      <td>3-3</td>\n",
       "      <td>1-1</td>\n",
       "      <td>80</td>\n",
       "      <td>42</td>\n",
       "      <td>38</td>\n",
       "      <td>42-38</td>\n",
       "      <td>52.50</td>\n",
       "    </tr>\n",
       "    <tr>\n",
       "      <th>2</th>\n",
       "      <td>Earl Strickland</td>\n",
       "      <td>America</td>\n",
       "      <td>26</td>\n",
       "      <td>14</td>\n",
       "      <td>12</td>\n",
       "      <td>14-12</td>\n",
       "      <td>53.85</td>\n",
       "      <td>36</td>\n",
       "      <td>24</td>\n",
       "      <td>12</td>\n",
       "      <td>24-12</td>\n",
       "      <td>66.67</td>\n",
       "      <td>3-2</td>\n",
       "      <td>2-0</td>\n",
       "      <td>69</td>\n",
       "      <td>43</td>\n",
       "      <td>26</td>\n",
       "      <td>43-26</td>\n",
       "      <td>62.32</td>\n",
       "    </tr>\n",
       "    <tr>\n",
       "      <th>44</th>\n",
       "      <td>Steve Davis</td>\n",
       "      <td>Europe</td>\n",
       "      <td>27</td>\n",
       "      <td>14</td>\n",
       "      <td>13</td>\n",
       "      <td>14-13</td>\n",
       "      <td>51.85</td>\n",
       "      <td>25</td>\n",
       "      <td>8</td>\n",
       "      <td>17</td>\n",
       "      <td>8-17</td>\n",
       "      <td>32.00</td>\n",
       "      <td>0-0</td>\n",
       "      <td>0-0</td>\n",
       "      <td>52</td>\n",
       "      <td>22</td>\n",
       "      <td>30</td>\n",
       "      <td>22-30</td>\n",
       "      <td>42.31</td>\n",
       "    </tr>\n",
       "    <tr>\n",
       "      <th>2</th>\n",
       "      <td>Earl Strickland</td>\n",
       "      <td>America</td>\n",
       "      <td>26</td>\n",
       "      <td>14</td>\n",
       "      <td>12</td>\n",
       "      <td>14-12</td>\n",
       "      <td>53.85</td>\n",
       "      <td>36</td>\n",
       "      <td>24</td>\n",
       "      <td>12</td>\n",
       "      <td>24-12</td>\n",
       "      <td>66.67</td>\n",
       "      <td>3-2</td>\n",
       "      <td>2-0</td>\n",
       "      <td>69</td>\n",
       "      <td>43</td>\n",
       "      <td>26</td>\n",
       "      <td>43-26</td>\n",
       "      <td>62.32</td>\n",
       "    </tr>\n",
       "    <tr>\n",
       "      <th>44</th>\n",
       "      <td>Steve Davis</td>\n",
       "      <td>Europe</td>\n",
       "      <td>27</td>\n",
       "      <td>14</td>\n",
       "      <td>13</td>\n",
       "      <td>14-13</td>\n",
       "      <td>51.85</td>\n",
       "      <td>25</td>\n",
       "      <td>8</td>\n",
       "      <td>17</td>\n",
       "      <td>8-17</td>\n",
       "      <td>32.00</td>\n",
       "      <td>0-0</td>\n",
       "      <td>0-0</td>\n",
       "      <td>52</td>\n",
       "      <td>22</td>\n",
       "      <td>30</td>\n",
       "      <td>22-30</td>\n",
       "      <td>42.31</td>\n",
       "    </tr>\n",
       "    <tr>\n",
       "      <th>43</th>\n",
       "      <td>Niels Feijen</td>\n",
       "      <td>Europe</td>\n",
       "      <td>20</td>\n",
       "      <td>12</td>\n",
       "      <td>8</td>\n",
       "      <td>12-8</td>\n",
       "      <td>60.00</td>\n",
       "      <td>33</td>\n",
       "      <td>24</td>\n",
       "      <td>9</td>\n",
       "      <td>24-9</td>\n",
       "      <td>72.73</td>\n",
       "      <td>5-4</td>\n",
       "      <td>0-0</td>\n",
       "      <td>62</td>\n",
       "      <td>41</td>\n",
       "      <td>21</td>\n",
       "      <td>41-21</td>\n",
       "      <td>66.13</td>\n",
       "    </tr>\n",
       "    <tr>\n",
       "      <th>45</th>\n",
       "      <td>Oliver Ortmann</td>\n",
       "      <td>Europe</td>\n",
       "      <td>21</td>\n",
       "      <td>11</td>\n",
       "      <td>10</td>\n",
       "      <td>11-10</td>\n",
       "      <td>52.38</td>\n",
       "      <td>19</td>\n",
       "      <td>7</td>\n",
       "      <td>12</td>\n",
       "      <td>7-12</td>\n",
       "      <td>36.84</td>\n",
       "      <td>0-0</td>\n",
       "      <td>0-0</td>\n",
       "      <td>40</td>\n",
       "      <td>18</td>\n",
       "      <td>22</td>\n",
       "      <td>18-22</td>\n",
       "      <td>45.00</td>\n",
       "    </tr>\n",
       "  </tbody>\n",
       "</table>\n",
       "</div>"
      ],
      "text/plain": [
       "             Player     Team  Smp  Swin  Sloss    Swl   Spct  Dmp  Dwin  \\\n",
       "41     Ralf Souquet   Europe   33    20     13  20-13  60.61   44    27   \n",
       "1     Johnny Archer  America   30    17     13  17-13  56.67   50    27   \n",
       "42     Mika Immonen   Europe   33    16     17  16-17  48.48   39    22   \n",
       "2   Earl Strickland  America   26    14     12  14-12  53.85   36    24   \n",
       "44      Steve Davis   Europe   27    14     13  14-13  51.85   25     8   \n",
       "2   Earl Strickland  America   26    14     12  14-12  53.85   36    24   \n",
       "44      Steve Davis   Europe   27    14     13  14-13  51.85   25     8   \n",
       "43     Niels Feijen   Europe   20    12      8   12-8  60.00   33    24   \n",
       "45   Oliver Ortmann   Europe   21    11     10  11-10  52.38   19     7   \n",
       "\n",
       "    Dloss    Dwl   Dpct  Twl Trwl  Cmp  Cwin  Closs    Cwl   Cpct  \n",
       "41     17  27-17  61.36  4-4  1-1   87    52     35  52-35  59.77  \n",
       "1      23  27-23  54.00  5-4  1-1   91    50     41  50-41  54.95  \n",
       "42     17  22-17  56.41  3-3  1-1   80    42     38  42-38  52.50  \n",
       "2      12  24-12  66.67  3-2  2-0   69    43     26  43-26  62.32  \n",
       "44     17   8-17  32.00  0-0  0-0   52    22     30  22-30  42.31  \n",
       "2      12  24-12  66.67  3-2  2-0   69    43     26  43-26  62.32  \n",
       "44     17   8-17  32.00  0-0  0-0   52    22     30  22-30  42.31  \n",
       "43      9   24-9  72.73  5-4  0-0   62    41     21  41-21  66.13  \n",
       "45     12   7-12  36.84  0-0  0-0   40    18     22  18-22  45.00  "
      ]
     },
     "execution_count": 30,
     "metadata": {},
     "output_type": "execute_result"
    }
   ],
   "source": [
    "frame = stats.nlargest(7,'Swin')\n",
    "frame"
   ]
  }
 ],
 "metadata": {
  "kernelspec": {
   "display_name": "Python 3",
   "language": "python",
   "name": "python3"
  },
  "language_info": {
   "codemirror_mode": {
    "name": "ipython",
    "version": 3
   },
   "file_extension": ".py",
   "mimetype": "text/x-python",
   "name": "python",
   "nbconvert_exporter": "python",
   "pygments_lexer": "ipython3",
   "version": "3.5.2"
  }
 },
 "nbformat": 4,
 "nbformat_minor": 2
}
