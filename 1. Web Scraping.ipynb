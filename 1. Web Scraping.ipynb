{
 "cells": [
  {
   "cell_type": "markdown",
   "metadata": {},
   "source": [
    "# Tutorial Brief"
   ]
  },
  {
   "cell_type": "markdown",
   "metadata": {},
   "source": [
    "Web scrpping a one of the most common method of collecting data. This tutorial covers the basics of web scraping.\n",
    "\n",
    "**Video Tutorial**:\n",
    "\n",
    "http://youtu.be/wT66i7jeyL8\n",
    "\n",
    "More About LXML:\n",
    "\n",
    "http://lxml.de/"
   ]
  },
  {
   "cell_type": "code",
   "execution_count": 10,
   "metadata": {},
   "outputs": [],
   "source": [
    "from datetime import datetime\n",
    "\n",
    "from lxml import html\n",
    "import requests\n",
    "\n",
    "import numpy as np\n",
    "import pandas as pd\n",
    "import matplotlib.pylab as plt\n",
    "\n",
    "pd.options.display.max_columns=50"
   ]
  },
  {
   "cell_type": "markdown",
   "metadata": {},
   "source": [
    "# Fetch page & build HTML tree"
   ]
  },
  {
   "cell_type": "code",
   "execution_count": 11,
   "metadata": {},
   "outputs": [],
   "source": [
    "def print_element(element):\n",
    "    print( \"<%s %s>%s ...\" % (element.tag, element.attrib, element.text_content()[:200].replace(\"\\n\", \" \")))"
   ]
  },
  {
   "cell_type": "code",
   "execution_count": 12,
   "metadata": {},
   "outputs": [
    {
     "name": "stdout",
     "output_type": "stream",
     "text": [
      "<html {'class': 'client-nojs', 'lang': 'en', 'dir': 'ltr'}>   List of Nobel laureates - Wikipedia document.documentElement.className = document.documentElement.className.replace( /(^|\\s)client-nojs(\\s|$)/, \"$1client-js$2\" ); (window.RLQ=window.RLQ||[]).push(f ...\n"
     ]
    }
   ],
   "source": [
    "page = requests.get('http://en.wikipedia.org/wiki/List_of_Nobel_laureates')\n",
    "tree = html.fromstring(page.text)\n",
    "print_element(tree)"
   ]
  },
  {
   "cell_type": "markdown",
   "metadata": {},
   "source": [
    "## Locate The table"
   ]
  },
  {
   "cell_type": "markdown",
   "metadata": {},
   "source": [
    "### First we find all tables"
   ]
  },
  {
   "cell_type": "code",
   "execution_count": 13,
   "metadata": {},
   "outputs": [
    {
     "name": "stdout",
     "output_type": "stream",
     "text": [
      "<table {'class': 'wikitable sortable'}>  Year Physics Chemistry Physiology or Medicine Literature Peace Economics   1901 Röntgen, WilhelmWilhelm Röntgen Hoff, Jacobus Henricus van 'tJacobus Henricus van 't Hoff von Behring, Emil AdolfEmil  ...\n",
      "<table {'style': 'background-color:#f9f9f9;border:1px solid #aaa;color:#000', 'role': 'presentation', 'class': 'mbox-small plainlinks sistersitebox'}>   Wikimedia Commons has media related to Nobel laureates.   ...\n",
      "<table {'style': 'border-spacing:0;background:transparent;color:inherit', 'class': 'nowraplinks hlist collapsible collapsed navbox-inner'}>     v t e   Nobel Prizes    Prizes    Chemistry Economics1 Literature Peace Physics Physiology or Medicine      Laureates     by subject    Chemistry Economics Literature Peace Physics Physiology or  ...\n",
      "<table {'style': 'border-spacing:0', 'class': 'nowraplinks navbox-subgroup navbox-spacing-temp'}>  by subject    Chemistry Economics Literature Peace Physics Physiology or Medicine      by criterion    African Arab Asian Black Female Latino and Hispanic Jewish      by country    Argentine Austral ...\n"
     ]
    }
   ],
   "source": [
    "tables = tree.xpath('//table')\n",
    "for table in tables:\n",
    "    print_element(table)"
   ]
  },
  {
   "cell_type": "markdown",
   "metadata": {},
   "source": [
    "**When locating the table watchout for client side javascript alteration to the HTML code**"
   ]
  },
  {
   "cell_type": "code",
   "execution_count": 14,
   "metadata": {},
   "outputs": [
    {
     "name": "stdout",
     "output_type": "stream",
     "text": [
      "<table {'class': 'wikitable sortable'}>  Year Physics Chemistry Physiology or Medicine Literature Peace Economics   1901 Röntgen, WilhelmWilhelm Röntgen Hoff, Jacobus Henricus van 'tJacobus Henricus van 't Hoff von Behring, Emil AdolfEmil  ...\n"
     ]
    }
   ],
   "source": [
    "table = tree.xpath('//table[@class=\"wikitable sortable\"]')[0]\n",
    "print_element(table)"
   ]
  },
  {
   "cell_type": "markdown",
   "metadata": {},
   "source": [
    "## Extract the Subjects & Years"
   ]
  },
  {
   "cell_type": "code",
   "execution_count": 15,
   "metadata": {},
   "outputs": [
    {
     "data": {
      "text/plain": [
       "['Physics',\n",
       " 'Chemistry',\n",
       " 'Physiology or Medicine',\n",
       " 'Literature',\n",
       " 'Peace',\n",
       " 'Economics']"
      ]
     },
     "execution_count": 15,
     "metadata": {},
     "output_type": "execute_result"
    }
   ],
   "source": [
    "subjects = [subject[0].text_content().replace(\"\\n\",\" \") for subject in table.xpath('tr')[0][1:]]\n",
    "subjects"
   ]
  },
  {
   "cell_type": "code",
   "execution_count": 16,
   "metadata": {},
   "outputs": [],
   "source": [
    "years = [item[0].text for item in table.xpath('tr')[1:-1]]"
   ]
  },
  {
   "cell_type": "markdown",
   "metadata": {},
   "source": [
    "## Extract Winners Data"
   ]
  },
  {
   "cell_type": "markdown",
   "metadata": {},
   "source": [
    "### Testing for a sigle years"
   ]
  },
  {
   "cell_type": "code",
   "execution_count": 17,
   "metadata": {},
   "outputs": [
    {
     "name": "stdout",
     "output_type": "stream",
     "text": [
      "Physics:\n",
      " - Wilhelm Röntgen\n",
      "Chemistry:\n",
      " - Jacobus Henricus van 't Hoff\n",
      "Physiology or Medicine:\n",
      " - Emil Adolf von Behring\n",
      "Literature:\n",
      " - Sully Prudhomme\n",
      "Peace:\n",
      " - Henry Dunant\n",
      " - Frédéric Passy\n",
      "Economics:\n"
     ]
    }
   ],
   "source": [
    "for index, item in enumerate(table.xpath('tr')[1][1:]):\n",
    "    subject = subjects[index]\n",
    "    print (\"%s:\" % subject)\n",
    "    for winner in item.xpath('span[@class=\"vcard\"]/span/a'):\n",
    "        winner_name = winner.attrib[\"title\"]\n",
    "        winner_url = winner.attrib[\"href\"]\n",
    "        print(\" - %s\" % winner_name)\n"
   ]
  },
  {
   "cell_type": "markdown",
   "metadata": {},
   "source": [
    "### Extract The complete table"
   ]
  },
  {
   "cell_type": "code",
   "execution_count": 18,
   "metadata": {},
   "outputs": [],
   "source": [
    "year_list = []\n",
    "subject_list = []\n",
    "name_list = []\n",
    "url_list = []\n",
    "for y_index, year in enumerate(years):\n",
    "    #print year\n",
    "    for index, item in enumerate(table.xpath('tr')[y_index + 1][1:]):\n",
    "        subject = subjects[index]\n",
    "        #print \"%s:\" % subject\n",
    "        for winner in item.xpath('span[@class=\"vcard\"]/span/a'):\n",
    "            winner_name = winner.attrib[\"title\"]\n",
    "            winner_url = winner.attrib[\"href\"]\n",
    "            #print \" - %s\" % winner_name\n",
    "            year_list.append(year)\n",
    "            subject_list.append(subject)\n",
    "            name_list.append(winner_name)\n",
    "            url_list.append(winner_url)"
   ]
  },
  {
   "cell_type": "markdown",
   "metadata": {},
   "source": [
    "# Post Processing in Pandas"
   ]
  },
  {
   "cell_type": "code",
   "execution_count": 19,
   "metadata": {},
   "outputs": [
    {
     "data": {
      "text/html": [
       "<div>\n",
       "<table border=\"1\" class=\"dataframe\">\n",
       "  <thead>\n",
       "    <tr style=\"text-align: right;\">\n",
       "      <th></th>\n",
       "      <th>winner_name</th>\n",
       "      <th>subject</th>\n",
       "      <th>year</th>\n",
       "      <th>url</th>\n",
       "    </tr>\n",
       "  </thead>\n",
       "  <tbody>\n",
       "    <tr>\n",
       "      <th>0</th>\n",
       "      <td>Wilhelm Röntgen</td>\n",
       "      <td>Physics</td>\n",
       "      <td>1901</td>\n",
       "      <td>/wiki/Wilhelm_R%C3%B6ntgen</td>\n",
       "    </tr>\n",
       "    <tr>\n",
       "      <th>1</th>\n",
       "      <td>Jacobus Henricus van 't Hoff</td>\n",
       "      <td>Chemistry</td>\n",
       "      <td>1901</td>\n",
       "      <td>/wiki/Jacobus_Henricus_van_%27t_Hoff</td>\n",
       "    </tr>\n",
       "    <tr>\n",
       "      <th>2</th>\n",
       "      <td>Emil Adolf von Behring</td>\n",
       "      <td>Physiology or Medicine</td>\n",
       "      <td>1901</td>\n",
       "      <td>/wiki/Emil_Adolf_von_Behring</td>\n",
       "    </tr>\n",
       "    <tr>\n",
       "      <th>3</th>\n",
       "      <td>Sully Prudhomme</td>\n",
       "      <td>Literature</td>\n",
       "      <td>1901</td>\n",
       "      <td>/wiki/Sully_Prudhomme</td>\n",
       "    </tr>\n",
       "    <tr>\n",
       "      <th>4</th>\n",
       "      <td>Henry Dunant</td>\n",
       "      <td>Peace</td>\n",
       "      <td>1901</td>\n",
       "      <td>/wiki/Henry_Dunant</td>\n",
       "    </tr>\n",
       "  </tbody>\n",
       "</table>\n",
       "</div>"
      ],
      "text/plain": [
       "                    winner_name                 subject  year  \\\n",
       "0               Wilhelm Röntgen                 Physics  1901   \n",
       "1  Jacobus Henricus van 't Hoff               Chemistry  1901   \n",
       "2        Emil Adolf von Behring  Physiology or Medicine  1901   \n",
       "3               Sully Prudhomme              Literature  1901   \n",
       "4                  Henry Dunant                   Peace  1901   \n",
       "\n",
       "                                    url  \n",
       "0            /wiki/Wilhelm_R%C3%B6ntgen  \n",
       "1  /wiki/Jacobus_Henricus_van_%27t_Hoff  \n",
       "2          /wiki/Emil_Adolf_von_Behring  \n",
       "3                 /wiki/Sully_Prudhomme  \n",
       "4                    /wiki/Henry_Dunant  "
      ]
     },
     "execution_count": 19,
     "metadata": {},
     "output_type": "execute_result"
    }
   ],
   "source": [
    "data_set = pd.DataFrame(name_list, columns=[\"winner_name\"])\n",
    "data_set[\"subject\"] = subject_list\n",
    "data_set[\"year\"] = year_list\n",
    "data_set[\"year\"] = data_set[\"year\"].astype(np.int32)\n",
    "data_set[\"url\"] = url_list\n",
    "data_set.head(5)"
   ]
  },
  {
   "cell_type": "markdown",
   "metadata": {},
   "source": [
    "## Looking at the data"
   ]
  },
  {
   "cell_type": "code",
   "execution_count": null,
   "metadata": {},
   "outputs": [],
   "source": [
    "years_df = data_set[\"year\"].value_counts().sort_index()\n",
    "years_df"
   ]
  },
  {
   "cell_type": "markdown",
   "metadata": {},
   "source": [
    "## Number of Prizes per Year"
   ]
  },
  {
   "cell_type": "code",
   "execution_count": null,
   "metadata": {},
   "outputs": [],
   "source": [
    "plt.figure(figsize=(15,5))\n",
    "plt.plot(years_df.index, years_df.values, linewidth=2, alpha=.6)\n",
    "plt.grid()\n",
    "plt.xlabel(\"Year\")\n",
    "plt.ylabel(\"Number of Prizes\")\n",
    "plt.show();\n",
    "print \"Total Prizes: %s\" % len(data_set)"
   ]
  },
  {
   "cell_type": "code",
   "execution_count": null,
   "metadata": {},
   "outputs": [],
   "source": [
    "years_df.value_counts()\n",
    "plt.bar(years_df.value_counts().index, years_df.value_counts())\n",
    "plt.box(on=\"off\")\n",
    "plt.grid()\n",
    "plt.xlabel(\"Number of Nober Prizes/Year\")\n",
    "plt.xlabel(\"\")\n",
    "plt.show();"
   ]
  },
  {
   "cell_type": "markdown",
   "metadata": {},
   "source": [
    "## By Subject"
   ]
  },
  {
   "cell_type": "code",
   "execution_count": null,
   "metadata": {},
   "outputs": [],
   "source": [
    "plt.figure(figsize=(13,5))\n",
    "\n",
    "for subject in subjects:\n",
    "    df = data_set[data_set[\"subject\"]==subject][\"year\"].value_counts().sort_index().cumsum()\n",
    "    plt.plot(df.index, df, label=subject, linewidth=2, alpha=.6)\n",
    "\n",
    "\n",
    "plt.grid()\n",
    "plt.legend(loc=\"best\")\n",
    "plt.xlabel(\"Year\")\n",
    "plt.ylabel(\"Cumulative Sum of Given Nobel Prizes\")\n",
    "plt.xticks(np.arange(1900, 2020, 10))\n",
    "\n",
    "plt.show();"
   ]
  },
  {
   "cell_type": "markdown",
   "metadata": {},
   "source": [
    "# The effects of WW I and WW II"
   ]
  },
  {
   "cell_type": "code",
   "execution_count": null,
   "metadata": {},
   "outputs": [],
   "source": [
    "plt.figure(figsize=(13,5))\n",
    "\n",
    "for subject in subjects:\n",
    "    df = data_set[(data_set[\"subject\"]==subject) &\n",
    "                  (data_set[\"year\"].astype(np.int32)<1950)][\"year\"].value_counts().sort_index().cumsum()\n",
    "    plt.plot(df.index, df, label=subject, linewidth=2, alpha=.6)\n",
    "\n",
    "plt.grid()\n",
    "plt.legend(loc=\"best\")\n",
    "plt.xlabel(\"Year\")\n",
    "plt.ylabel(\"Cumulative Sum of Given Nobel Prizes\")\n",
    "plt.xticks(np.arange(1900, 1950, 5))\n",
    "\n",
    "gca = plt.gca()\n",
    "\n",
    "gca.add_patch(plt.Rectangle((1914,0), 4, 60, alpha=.3, color=\"orange\"))\n",
    "gca.add_patch(plt.Rectangle((1939,0), (45-39), 60, alpha=.3, color=\"orange\"))\n",
    "\n",
    "plt.annotate(s=\"WW I\", xy=(1915,55))\n",
    "plt.annotate(s=\"WW II\", xy=(1941,55))\n",
    "plt.show();"
   ]
  }
 ],
 "metadata": {
  "kernelspec": {
   "display_name": "Python 3",
   "language": "python",
   "name": "python3"
  },
  "language_info": {
   "codemirror_mode": {
    "name": "ipython",
    "version": 3
   },
   "file_extension": ".py",
   "mimetype": "text/x-python",
   "name": "python",
   "nbconvert_exporter": "python",
   "pygments_lexer": "ipython3",
   "version": "3.5.2"
  }
 },
 "nbformat": 4,
 "nbformat_minor": 1
}
