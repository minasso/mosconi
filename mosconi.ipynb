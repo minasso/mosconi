{
 "cells": [
  {
   "cell_type": "code",
   "execution_count": 1,
   "metadata": {
    "collapsed": true
   },
   "outputs": [],
   "source": [
    "def createlinks(start,end):\n",
    "    base = 'https://en.wikipedia.org/wiki/'\n",
    "    tails=[]\n",
    "    for i in range(int(start),int(end)):\n",
    "        tails.append('{}_Mosconi_Cup'.format(i))\n",
    "    links=[base+tail for tail in tails]\n",
    "    return(links)"
   ]
  },
  {
   "cell_type": "code",
   "execution_count": 454,
   "metadata": {
    "collapsed": true
   },
   "outputs": [],
   "source": [
    "def createtables(url):\n",
    "    page = requests.get(url)\n",
    "    tree = html.fromstring(page.text)\n",
    "    tables = tree.xpath('//table')\n",
    "    tables=[table for table in tables if(table[0].text_content().replace('\\n','')=='Results')]\n",
    "    return(tables)"
   ]
  },
  {
   "cell_type": "code",
   "execution_count": null,
   "metadata": {
    "collapsed": true
   },
   "outputs": [],
   "source": [
    "url = links[10]\n",
    "tables = createtables(url)\n",
    "for table in tables:\n",
    "    nrows = table."
   ]
  },
  {
   "cell_type": "code",
   "execution_count": 487,
   "metadata": {
    "collapsed": true
   },
   "outputs": [],
   "source": [
    "def createdf(tables):\n",
    "    import re\n",
    "    l=[]\n",
    "    col=['Format','European_player','European_score','American_score','American_player']\n",
    "\n",
    "    for i in range(len(tables)+1):\n",
    "        for j in range(1,6):\n",
    "            try:\n",
    "                element=tables[i][j].text_content().replace(\"\\n\", \" \")\n",
    "                match = re.match(r\"\\s?(\\w+)\\s(.+)\\s([0-9])[–]([0-9])\\s?\\w+\\s?(.+)\\s\", element)\n",
    "                if match:\n",
    "                    l.append(list(match.groups()))\n",
    "            except:\n",
    "                pass\n",
    "    df=pd.DataFrame(l,columns=col)\n",
    "    return(df)"
   ]
  },
  {
   "cell_type": "code",
   "execution_count": 664,
   "metadata": {
    "collapsed": true
   },
   "outputs": [],
   "source": [
    "def main():\n",
    "    from lxml import html\n",
    "    import requests\n",
    "    import pandas as pd\n",
    "    df = pd.DataFrame()\n",
    "    links = createlinks('1998','2014')\n",
    "    for url in links:\n",
    "        tables = createtables(url)\n",
    "        newdf = createdf(tables) \n",
    "        df=df.append(newdf)\n",
    "    return(df)"
   ]
  },
  {
   "cell_type": "code",
   "execution_count": 710,
   "metadata": {
    "collapsed": true
   },
   "outputs": [],
   "source": [
    "pkl=r'C:\\Users\\andrew\\Desktop\\mosconi\\mosconi_1998_2015_pkls'\n",
    "df.to_pickle(pkl)"
   ]
  },
  {
   "cell_type": "markdown",
   "metadata": {},
   "source": [
    "Missing 2014 data. Can get it from: http://www.matchroompool.com/mosconi-cup/mosconi-cup-xxi/#fixtures\n",
    "compare stats here:\n",
    "http://forums.azbilliards.com/showthread.php?t=439775&page=4"
   ]
  },
  {
   "cell_type": "code",
   "execution_count": 569,
   "metadata": {
    "collapsed": true
   },
   "outputs": [],
   "source": [
    "import re\n",
    "l=[]\n",
    "with open('manual_scrape_cleaned_2014.txt','r') as rf:\n",
    "    for line in rf:\n",
    "        match = re.match(r\"(\\w+)\\s(.+)\\s([0-9])\\s?[-]\\s?([0-9])\\s?(.+)\", line)\n",
    "        if match:\n",
    "            l.append(list(match.groups()))"
   ]
  },
  {
   "cell_type": "code",
   "execution_count": 583,
   "metadata": {
    "collapsed": true
   },
   "outputs": [],
   "source": [
    "df=pd.read_pickle(pkl)"
   ]
  },
  {
   "cell_type": "code",
   "execution_count": 670,
   "metadata": {
    "collapsed": true
   },
   "outputs": [],
   "source": [
    "df2=pd.DataFrame(l,columns=col)"
   ]
  },
  {
   "cell_type": "code",
   "execution_count": 671,
   "metadata": {
    "collapsed": true
   },
   "outputs": [],
   "source": [
    "frames=[df,df2]\n",
    "df=pd.concat(frames)"
   ]
  },
  {
   "cell_type": "code",
   "execution_count": 672,
   "metadata": {
    "collapsed": true
   },
   "outputs": [],
   "source": [
    "df['Europe_won']=df.European_score>df.American_score"
   ]
  },
  {
   "cell_type": "code",
   "execution_count": 674,
   "metadata": {
    "collapsed": true
   },
   "outputs": [],
   "source": [
    "pkl=r'C:\\Users\\andrew\\Desktop\\mosconi\\mosconi_1998_2014_inc_pkls'\n",
    "df.to_pickle(pkl)"
   ]
  },
  {
   "cell_type": "code",
   "execution_count": 2,
   "metadata": {
    "collapsed": true
   },
   "outputs": [
    {
     "ename": "NameError",
     "evalue": "name 'df' is not defined",
     "output_type": "error",
     "traceback": [
      "\u001b[0;31m---------------------------------------------------------------------------\u001b[0m",
      "\u001b[0;31mNameError\u001b[0m                                 Traceback (most recent call last)",
      "\u001b[0;32m<ipython-input-2-89d3780ed943>\u001b[0m in \u001b[0;36m<module>\u001b[0;34m()\u001b[0m\n\u001b[1;32m      1\u001b[0m \u001b[0mcols\u001b[0m\u001b[1;33m=\u001b[0m \u001b[1;33m[\u001b[0m\u001b[1;34m'Format'\u001b[0m\u001b[1;33m,\u001b[0m\u001b[1;34m'European_player'\u001b[0m\u001b[1;33m,\u001b[0m\u001b[1;34m'European_score'\u001b[0m\u001b[1;33m,\u001b[0m\u001b[1;34m'American_score'\u001b[0m\u001b[1;33m,\u001b[0m\u001b[1;34m'American_player'\u001b[0m\u001b[1;33m,\u001b[0m\u001b[1;34m'Europe_won'\u001b[0m\u001b[1;33m]\u001b[0m\u001b[1;33m\u001b[0m\u001b[0m\n\u001b[0;32m----> 2\u001b[0;31m \u001b[0mdf\u001b[0m\u001b[1;33m=\u001b[0m\u001b[0mdf\u001b[0m\u001b[1;33m[\u001b[0m\u001b[0mcols\u001b[0m\u001b[1;33m]\u001b[0m\u001b[1;33m\u001b[0m\u001b[0m\n\u001b[0m",
      "\u001b[0;31mNameError\u001b[0m: name 'df' is not defined"
     ]
    }
   ],
   "source": [
    "cols= ['Format','European_player','European_score','American_score','American_player','Europe_won']\n",
    "df=df[cols]"
   ]
  },
  {
   "cell_type": "markdown",
   "metadata": {
    "collapsed": true
   },
   "source": [
    "2015 Data is backwards, need to fix the order (european player should be first)"
   ]
  },
  {
   "cell_type": "code",
   "execution_count": 705,
   "metadata": {
    "collapsed": true
   },
   "outputs": [],
   "source": [
    "def createdf_bw(tables):\n",
    "    import re\n",
    "    l=[]\n",
    "    col=['Format','European_player','European_score','American_score','American_player']\n",
    "\n",
    "    for i in range(len(tables)+1):\n",
    "        for j in range(1,6):\n",
    "            try:\n",
    "                element=tables[i][j].text_content().replace(\"\\n\", \" \")\n",
    "                match = re.match(r\"\\s?(\\w+)\\s(.+)\\s([0-9])[–]([0-9])\\s?\\w+\\s?(.+)\\s\", element)\n",
    "                if match:\n",
    "                    print('ok')\n",
    "                    lst=[match.group(1), match.group(5), match.group(4), match.group(3), match.group(2)]\n",
    "                    print(lst)\n",
    "                    l.append(lst)\n",
    "                else:\n",
    "                    print('fail')\n",
    "            except:\n",
    "                pass\n",
    "    print(l)\n",
    "    df=pd.DataFrame(l,columns=col)\n",
    "    return(df)"
   ]
  },
  {
   "cell_type": "code",
   "execution_count": 701,
   "metadata": {
    "collapsed": true
   },
   "outputs": [],
   "source": [
    "def main_bw():\n",
    "    from lxml import html\n",
    "    import requests\n",
    "    import pandas as pd\n",
    "    df = pd.DataFrame()\n",
    "    links = createlinks('2015','2016')\n",
    "    for url in links:\n",
    "        tables = createtables(url)\n",
    "        newdf = createdf_bw(tables) \n",
    "        df=df.append(newdf)\n",
    "    return(df)"
   ]
  },
  {
   "cell_type": "code",
   "execution_count": 706,
   "metadata": {
    "collapsed": true
   },
   "outputs": [
    {
     "name": "stdout",
     "output_type": "stream",
     "text": [
      "ok\n",
      "['Teams', 'Team Europe', '4', '5', 'Team USA']\n",
      "ok\n",
      "['Doubles', 'Karl Boyes Nick van den Berg', '5', '4', 'Corey Deuel Mike Dechaine']\n",
      "ok\n",
      "['Singles', 'Niels Feijen', '5', '2', 'Justin Bergman']\n",
      "ok\n",
      "['Doubles', 'Darren Appleton Albin Ouschan', '1', '5', 'Shane Van Boening Skyler Woodward']\n",
      "ok\n",
      "['Singles', 'Darren Appleton', '5', '1', 'Shane Van Boening']\n",
      "ok\n",
      "['Doubles', 'Niels Feijen Nick van den Berg', '3', '5', 'Justin Bergman Skyler Woodward']\n",
      "ok\n",
      "['Singles', 'Albin Ouschan', '5', '3', 'Mike Dechaine']\n",
      "ok\n",
      "['Doubles', 'Darren Appleton Karl Boyes', '5', '2', 'Shane Van Boening Corey Deuel']\n",
      "ok\n",
      "['Singles', 'Karl Boyes', '5', '3', 'Skyler Woodward']\n",
      "ok\n",
      "['Doubles', 'Darren Appleton Nick van den Berg', '4', '5', 'Shane Van Boening Mike Dechaine']\n",
      "ok\n",
      "['Doubles', 'Niels Feijen Albin Ouschan', '5', '1', 'Justin Bergman Corey Deuel']\n",
      "ok\n",
      "['Singles', 'Nick van den Berg', '4', '5', 'Corey Deuel']\n",
      "ok\n",
      "['Doubles', 'Karl Boyes Albin Ouschan', '5', '2', 'Mike Dechaine Skyler Woodward']\n",
      "ok\n",
      "['Singles', 'Niels Feijen', '5', '4', 'Shane Van Boening']\n",
      "ok\n",
      "['Singles', 'Darren Appleton', '2', '5', 'Justin Bergman']\n",
      "ok\n",
      "['Singles', 'Niels Feijen', '5', '4', 'Justin Bergman']\n",
      "ok\n",
      "['Singles', 'Karl Boyes', '4', '5', 'Shane Van Boening']\n",
      "ok\n",
      "['Singles', 'Albin Ouschan', '5', '4', 'Skyler Woodward']\n",
      "fail\n",
      "fail\n",
      "[['Teams', 'Team Europe', '4', '5', 'Team USA'], ['Doubles', 'Karl Boyes Nick van den Berg', '5', '4', 'Corey Deuel Mike Dechaine'], ['Singles', 'Niels Feijen', '5', '2', 'Justin Bergman'], ['Doubles', 'Darren Appleton Albin Ouschan', '1', '5', 'Shane Van Boening Skyler Woodward'], ['Singles', 'Darren Appleton', '5', '1', 'Shane Van Boening'], ['Doubles', 'Niels Feijen Nick van den Berg', '3', '5', 'Justin Bergman Skyler Woodward'], ['Singles', 'Albin Ouschan', '5', '3', 'Mike Dechaine'], ['Doubles', 'Darren Appleton Karl Boyes', '5', '2', 'Shane Van Boening Corey Deuel'], ['Singles', 'Karl Boyes', '5', '3', 'Skyler Woodward'], ['Doubles', 'Darren Appleton Nick van den Berg', '4', '5', 'Shane Van Boening Mike Dechaine'], ['Doubles', 'Niels Feijen Albin Ouschan', '5', '1', 'Justin Bergman Corey Deuel'], ['Singles', 'Nick van den Berg', '4', '5', 'Corey Deuel'], ['Doubles', 'Karl Boyes Albin Ouschan', '5', '2', 'Mike Dechaine Skyler Woodward'], ['Singles', 'Niels Feijen', '5', '4', 'Shane Van Boening'], ['Singles', 'Darren Appleton', '2', '5', 'Justin Bergman'], ['Singles', 'Niels Feijen', '5', '4', 'Justin Bergman'], ['Singles', 'Karl Boyes', '4', '5', 'Shane Van Boening'], ['Singles', 'Albin Ouschan', '5', '4', 'Skyler Woodward']]\n"
     ]
    }
   ],
   "source": [
    "df2015= main_bw()"
   ]
  },
  {
   "cell_type": "code",
   "execution_count": 708,
   "metadata": {
    "collapsed": true
   },
   "outputs": [],
   "source": [
    "frames=[df,df2015]\n",
    "df=pd.concat(frames)"
   ]
  },
  {
   "cell_type": "code",
   "execution_count": 665,
   "metadata": {
    "collapsed": true
   },
   "outputs": [],
   "source": [
    "df=main()"
   ]
  },
  {
   "cell_type": "markdown",
   "metadata": {},
   "source": [
    "Next steps: Rescrape the data. \n",
    "\n",
    "1. Need to include the year as a multiindex and concatenate the frames per year.\n",
    "1. Need to reconfigure the number of rows to possibly extend beyond 5. Have to dynamically learn the number of rows in the    given table and then use that number instead of hard coding it.\n",
    "3. Need to collect the 'team' data each year. I.e. what players are on each team so that I can do analysis on the 'team' matches and include that in the final presentations.\n",
    "4. Scrape location or just see if it changes every year"
   ]
  },
  {
   "cell_type": "markdown",
   "metadata": {},
   "source": [
    "1. Reconfigure number of rows dynamically."
   ]
  },
  {
   "cell_type": "code",
   "execution_count": 5,
   "metadata": {
    "collapsed": true
   },
   "outputs": [],
   "source": [
    "def createlinks(start,end):\n",
    "    base = 'https://en.wikipedia.org/wiki/'\n",
    "    tails=[]\n",
    "    for i in range(int(start),int(end)):\n",
    "        tails.append('{}_Mosconi_Cup'.format(i))\n",
    "    links=[base+tail for tail in tails]\n",
    "    return(links)"
   ]
  },
  {
   "cell_type": "code",
   "execution_count": 487,
   "metadata": {
    "collapsed": true
   },
   "outputs": [],
   "source": [
    "def createdf(tables):\n",
    "    import re\n",
    "    l=[]\n",
    "    col=['Format','European_player','European_score','American_score','American_player']\n",
    "\n",
    "#     for i in range(len(tables)+1):\n",
    "#         for j in range(1,6):\n",
    "#             try:\n",
    "#                 element=tables[i][j].text_content().replace(\"\\n\", \" \")\n",
    "#                 match = re.match(r\"\\s?(\\w+)\\s(.+)\\s([0-9])[–]([0-9])\\s?\\w+\\s?(.+)\\s\", element)\n",
    "#                 if match:\n",
    "#                     l.append(list(match.groups()))\n",
    "#             except:\n",
    "#                 pass\n",
    "#     df=pd.DataFrame(l,columns=col)\n",
    "#     return(df)"
   ]
  },
  {
   "cell_type": "code",
   "execution_count": 6,
   "metadata": {
    "collapsed": true
   },
   "outputs": [],
   "source": [
    "def makesoup(url):\n",
    "\timport requests, bs4, re\n",
    "\tres = requests.get(url)\n",
    "\tres.raise_for_status()\n",
    "\tsoup = bs4.BeautifulSoup(res.text, \"lxml\")\n",
    "\treturn(soup)"
   ]
  },
  {
   "cell_type": "code",
   "execution_count": 10,
   "metadata": {},
   "outputs": [],
   "source": [
    "links = createlinks(1998,2014)"
   ]
  },
  {
   "cell_type": "code",
   "execution_count": 13,
   "metadata": {},
   "outputs": [
    {
     "data": {
      "text/plain": [
       "'https://en.wikipedia.org/wiki/2008_Mosconi_Cup'"
      ]
     },
     "execution_count": 13,
     "metadata": {},
     "output_type": "execute_result"
    }
   ],
   "source": [
    "links[10]"
   ]
  },
  {
   "cell_type": "code",
   "execution_count": 14,
   "metadata": {},
   "outputs": [
    {
     "data": {
      "text/plain": [
       "4"
      ]
     },
     "execution_count": 14,
     "metadata": {},
     "output_type": "execute_result"
    }
   ],
   "source": [
    "from bs4 import BeautifulSoup as bs\n",
    "\n",
    "url = links[10]\n",
    "soup = makesoup(url)\n",
    "tables = soup.findAll('table')\n",
    "l = len(tables[3].findAll(\"tr\"))-3\n",
    "\n",
    "l\n"
   ]
  }
 ],
 "metadata": {
  "kernelspec": {
   "display_name": "Python 3",
   "language": "python",
   "name": "python3"
  },
  "language_info": {
   "codemirror_mode": {
    "name": "ipython",
    "version": 3
   },
   "file_extension": ".py",
   "mimetype": "text/x-python",
   "name": "python",
   "nbconvert_exporter": "python",
   "pygments_lexer": "ipython3",
   "version": "3.5.2"
  }
 },
 "nbformat": 4,
 "nbformat_minor": 2
}
