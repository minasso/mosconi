{
 "cells": [
  {
   "cell_type": "code",
   "execution_count": 451,
   "metadata": {
    "collapsed": true
   },
   "outputs": [],
   "source": [
    "def createlinks(start,end):\n",
    "    base = 'https://en.wikipedia.org/wiki/'\n",
    "    tails=[]\n",
    "    for i in range(int(start),int(end)):\n",
    "        tails.append('{}_Mosconi_Cup'.format(i))\n",
    "    links=[base+tail for tail in tails]\n",
    "    return(links)"
   ]
  },
  {
   "cell_type": "code",
   "execution_count": 454,
   "metadata": {},
   "outputs": [],
   "source": [
    "def createtables(url):\n",
    "    page = requests.get(url)\n",
    "    tree = html.fromstring(page.text)\n",
    "    tables = tree.xpath('//table')\n",
    "    tables=[table for table in tables if(table[0].text_content().replace('\\n','')=='Results')]\n",
    "    return(tables)"
   ]
  },
  {
   "cell_type": "code",
   "execution_count": 472,
   "metadata": {
    "collapsed": true
   },
   "outputs": [],
   "source": [
    "def createl(tables):\n",
    "    import re\n",
    "    l=[]\n",
    "    for i in range(len(tables)+1):\n",
    "        for j in range(1,6):\n",
    "            try:\n",
    "                element=tables[i][j].text_content().replace(\"\\n\", \" \")\n",
    "                match = re.match(r\"\\s?(\\w+)\\s(.+)\\s([0-9])[–]([0-9])\\s?\\w+\\s?(.+)\\s\", element)\n",
    "                if match:\n",
    "                    l.append(list(match.groups()))\n",
    "            except:\n",
    "                pass\n",
    "    return(l)"
   ]
  },
  {
   "cell_type": "code",
   "execution_count": 473,
   "metadata": {
    "collapsed": true
   },
   "outputs": [],
   "source": [
    "def createdf(l):\n",
    "    col=['Format','European_player','European_score','American_score','American_player']\n",
    "    df = pd.DataFrame()\n",
    "    newdf=pd.DataFrame(l,columns=col)\n",
    "    df=df.append(newdf)\n",
    "    return(df)"
   ]
  },
  {
   "cell_type": "code",
   "execution_count": 487,
   "metadata": {},
   "outputs": [],
   "source": [
    "def createdf(tables):\n",
    "    import re\n",
    "    l=[]\n",
    "    col=['Format','European_player','European_score','American_score','American_player']\n",
    "\n",
    "    for i in range(len(tables)+1):\n",
    "        for j in range(1,6):\n",
    "            try:\n",
    "                element=tables[i][j].text_content().replace(\"\\n\", \" \")\n",
    "                match = re.match(r\"\\s?(\\w+)\\s(.+)\\s([0-9])[–]([0-9])\\s?\\w+\\s?(.+)\\s\", element)\n",
    "                if match:\n",
    "                    l.append(list(match.groups()))\n",
    "            except:\n",
    "                pass\n",
    "    df=pd.DataFrame(l,columns=col)\n",
    "    return(df)"
   ]
  },
  {
   "cell_type": "code",
   "execution_count": 489,
   "metadata": {
    "collapsed": true
   },
   "outputs": [],
   "source": [
    "def main():\n",
    "    from lxml import html\n",
    "    import requests\n",
    "    import pandas as pd\n",
    "    df = pd.DataFrame()\n",
    "    links = createlinks('1998','2017')\n",
    "    for url in links:\n",
    "        tables = createtables(url)\n",
    "        newdf = createdf(tables) \n",
    "        df=df.append(newdf)\n",
    "    return(df)"
   ]
  },
  {
   "cell_type": "code",
   "execution_count": 501,
   "metadata": {},
   "outputs": [],
   "source": [
    "# df=main()"
   ]
  },
  {
   "cell_type": "code",
   "execution_count": 499,
   "metadata": {},
   "outputs": [],
   "source": [
    "pkl=r'C:\\Users\\andrew\\Desktop\\mosconi\\mosconi_pkls'\n",
    "df.to_pickle(pkl)"
   ]
  },
  {
   "cell_type": "code",
   "execution_count": null,
   "metadata": {},
   "outputs": [],
   "source": []
  },
  {
   "cell_type": "code",
   "execution_count": null,
   "metadata": {
    "collapsed": true
   },
   "outputs": [],
   "source": []
  },
  {
   "cell_type": "code",
   "execution_count": null,
   "metadata": {
    "collapsed": true
   },
   "outputs": [],
   "source": []
  },
  {
   "cell_type": "code",
   "execution_count": null,
   "metadata": {
    "collapsed": true
   },
   "outputs": [],
   "source": []
  },
  {
   "cell_type": "code",
   "execution_count": null,
   "metadata": {
    "collapsed": true
   },
   "outputs": [],
   "source": []
  },
  {
   "cell_type": "code",
   "execution_count": null,
   "metadata": {
    "collapsed": true
   },
   "outputs": [],
   "source": []
  },
  {
   "cell_type": "code",
   "execution_count": null,
   "metadata": {
    "collapsed": true
   },
   "outputs": [],
   "source": []
  },
  {
   "cell_type": "code",
   "execution_count": null,
   "metadata": {
    "collapsed": true
   },
   "outputs": [],
   "source": []
  },
  {
   "cell_type": "code",
   "execution_count": null,
   "metadata": {
    "collapsed": true
   },
   "outputs": [],
   "source": []
  },
  {
   "cell_type": "code",
   "execution_count": null,
   "metadata": {
    "collapsed": true
   },
   "outputs": [],
   "source": []
  },
  {
   "cell_type": "code",
   "execution_count": null,
   "metadata": {
    "collapsed": true
   },
   "outputs": [],
   "source": []
  },
  {
   "cell_type": "code",
   "execution_count": null,
   "metadata": {
    "collapsed": true
   },
   "outputs": [],
   "source": []
  },
  {
   "cell_type": "code",
   "execution_count": null,
   "metadata": {
    "collapsed": true
   },
   "outputs": [],
   "source": []
  },
  {
   "cell_type": "code",
   "execution_count": null,
   "metadata": {
    "collapsed": true
   },
   "outputs": [],
   "source": []
  },
  {
   "cell_type": "code",
   "execution_count": null,
   "metadata": {
    "collapsed": true
   },
   "outputs": [],
   "source": []
  },
  {
   "cell_type": "code",
   "execution_count": null,
   "metadata": {
    "collapsed": true
   },
   "outputs": [],
   "source": []
  },
  {
   "cell_type": "code",
   "execution_count": null,
   "metadata": {
    "collapsed": true
   },
   "outputs": [],
   "source": []
  },
  {
   "cell_type": "markdown",
   "metadata": {},
   "source": [
    "Try something different with bs4"
   ]
  },
  {
   "cell_type": "code",
   "execution_count": 300,
   "metadata": {
    "collapsed": true
   },
   "outputs": [],
   "source": [
    "def makesoup(url):\n",
    "\timport requests, bs4\n",
    "\tres = requests.get(url)\n",
    "\tres.raise_for_status()\n",
    "\tsoup = bs4.BeautifulSoup(res.text, \"lxml\")\n",
    "\treturn(soup)"
   ]
  },
  {
   "cell_type": "code",
   "execution_count": 302,
   "metadata": {
    "collapsed": true
   },
   "outputs": [],
   "source": [
    "url=links[0]\n",
    "soup = makesoup(url)"
   ]
  },
  {
   "cell_type": "code",
   "execution_count": 311,
   "metadata": {
    "collapsed": true
   },
   "outputs": [],
   "source": [
    "tables=soup.findAll(\"table\")"
   ]
  },
  {
   "cell_type": "code",
   "execution_count": 325,
   "metadata": {},
   "outputs": [
    {
     "name": "stdout",
     "output_type": "stream",
     "text": [
      "8\n",
      "8\n",
      "8\n",
      "6\n",
      "6\n",
      "7\n",
      "6\n"
     ]
    }
   ],
   "source": [
    "useful_tables=tables[3:-3]\n",
    "\n",
    "for tn in range(len(useful_tables)):\n",
    "    table=tables[tn]\n",
    "\n",
    "    # preinit list of lists\n",
    "    rows=table.findAll(\"tr\")\n",
    "    ncols=3\n",
    "    nrows=len(rows)\n",
    "    print(nrows)\n",
    "#     data=[]\n",
    "#     for i in range(nrows):\n",
    "#         rowD=[]\n",
    "#         for j in range(ncols):\n",
    "#             rowD.append('')\n",
    "#         data.append(rowD)\n",
    "#     print(data)\n",
    "    # process html\n",
    "#     for i in range(len(rows)):\n",
    "#         row=rows[i]\n",
    "#         rowD=[]\n",
    "#         cells = row.findAll([\"td\",\"th\"])\n",
    "#         for j in range(len(cells)):\n",
    "#             cell=cells[j]\n",
    "            \n",
    "#             #lots of cells span cols and rows so lets deal with that\n",
    "#             cspan=int(cell.get('colspan',1))\n",
    "#             rspan=int(cell.get('rowspan',1))\n",
    "#             for k in range(rspan):\n",
    "#                 for l in range(cspan):\n",
    "#                     data[i+k][j+l]+=cell.text\n",
    "    \n",
    "#         data.append(rowD)"
   ]
  },
  {
   "cell_type": "code",
   "execution_count": 331,
   "metadata": {},
   "outputs": [
    {
     "name": "stdout",
     "output_type": "stream",
     "text": [
      "<td align=\"center\">1</td>\n",
      "<td align=\"center\">Session</td>\n",
      "<td align=\"center\">2</td>\n"
     ]
    }
   ],
   "source": [
    "for row in table.findAll('tr'):\n",
    "    for i in row.findAll('td',text=True):\n",
    "        print(i)"
   ]
  },
  {
   "cell_type": "code",
   "execution_count": null,
   "metadata": {
    "collapsed": true
   },
   "outputs": [],
   "source": []
  },
  {
   "cell_type": "code",
   "execution_count": null,
   "metadata": {
    "collapsed": true
   },
   "outputs": [],
   "source": []
  },
  {
   "cell_type": "code",
   "execution_count": null,
   "metadata": {
    "collapsed": true
   },
   "outputs": [],
   "source": []
  },
  {
   "cell_type": "code",
   "execution_count": null,
   "metadata": {
    "collapsed": true
   },
   "outputs": [],
   "source": []
  },
  {
   "cell_type": "code",
   "execution_count": null,
   "metadata": {
    "collapsed": true
   },
   "outputs": [],
   "source": []
  },
  {
   "cell_type": "code",
   "execution_count": null,
   "metadata": {
    "collapsed": true
   },
   "outputs": [],
   "source": []
  },
  {
   "cell_type": "code",
   "execution_count": null,
   "metadata": {
    "collapsed": true
   },
   "outputs": [],
   "source": []
  },
  {
   "cell_type": "code",
   "execution_count": null,
   "metadata": {
    "collapsed": true
   },
   "outputs": [],
   "source": []
  }
 ],
 "metadata": {
  "kernelspec": {
   "display_name": "Python 3",
   "language": "python",
   "name": "python3"
  },
  "language_info": {
   "codemirror_mode": {
    "name": "ipython",
    "version": 3
   },
   "file_extension": ".py",
   "mimetype": "text/x-python",
   "name": "python",
   "nbconvert_exporter": "python",
   "pygments_lexer": "ipython3",
   "version": "3.5.2"
  }
 },
 "nbformat": 4,
 "nbformat_minor": 2
}
