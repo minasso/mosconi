{
 "cells": [
  {
   "cell_type": "code",
   "execution_count": 4,
   "metadata": {
    "collapsed": true
   },
   "outputs": [],
   "source": [
    "def createdic(start,end):\n",
    "    dic={}\n",
    "    for i in range(int(start),int(end)):\n",
    "        dic[i]='https://en.wikipedia.org/wiki/{}_Mosconi_Cup'.format(i)\n",
    "    return(dic)"
   ]
  },
  {
   "cell_type": "code",
   "execution_count": 49,
   "metadata": {
    "collapsed": true
   },
   "outputs": [],
   "source": [
    "def createtables(url):\n",
    "    import requests\n",
    "    from lxml import html\n",
    "    page = requests.get(url)\n",
    "    tree = html.fromstring(page.text)\n",
    "    tables = tree.xpath('//table')\n",
    "    tables=[table for table in tables if(table[0].text_content().replace('\\n','')=='Results')]\n",
    "    return(tables)"
   ]
  },
  {
   "cell_type": "code",
   "execution_count": 18,
   "metadata": {
    "collapsed": true
   },
   "outputs": [],
   "source": [
    "def cdf(year,tables,df):\n",
    "    import pandas as pd\n",
    "    import re\n",
    "    l=[]\n",
    "    col=['Format','European_player','European_score','American_score','American_player']\n",
    "    pattern = re.compile(r\"\\s?(\\w+)\\s(.+)\\s([0-9])[–]([0-9])\\s?\\w+\\s?(.+)\\s\")\n",
    "    for i,table in enumerate(tables):\n",
    "        for j in range(len(table)-2):\n",
    "            try:\n",
    "                element=tables[i][j].text_content().replace(\"\\n\", \" \")\n",
    "                match = re.match(pattern, element)\n",
    "                if match:\n",
    "                    l.append(list(match.groups()))\n",
    "            except:\n",
    "                pass\n",
    "    if df.empty:\n",
    "        df=pd.DataFrame(l,columns=col)\n",
    "        df['Year']=year\n",
    "        df.index.rename('Match',inplace=True)\n",
    "        df.reset_index(inplace=True)\n",
    "        df.set_index(['Year','Match'],inplace=True)\n",
    "    else:\n",
    "        new = pd.DataFrame(l, columns = col)\n",
    "        new['Year']=year\n",
    "        new.index.rename('Match',inplace=True)\n",
    "        new.reset_index(inplace=True)\n",
    "        new.set_index(['Year','Match'],inplace=True)\n",
    "        frames = (df,new)\n",
    "        df = pd.concat(frames)\n",
    "    return(df)"
   ]
  },
  {
   "cell_type": "code",
   "execution_count": 51,
   "metadata": {
    "collapsed": true
   },
   "outputs": [],
   "source": [
    "def singlemain():\n",
    "    import pandas as pd\n",
    "    dic = createdic(1998,2014)\n",
    "    year = 1998\n",
    "    link = dic[year]\n",
    "    df = pd.DataFrame()    \n",
    "    table = createtables(link)\n",
    "    df = cdf(year,table,df)\n",
    "    return(df)"
   ]
  },
  {
   "cell_type": "code",
   "execution_count": 35,
   "metadata": {
    "collapsed": true
   },
   "outputs": [],
   "source": [
    "def newmain():\n",
    "    import pandas as pd\n",
    "    dic = createdic(1998,2014)\n",
    "    df = pd.DataFrame()\n",
    "    for year,link in dic.items():\n",
    "        tables = createtables(link)\n",
    "        df = icdf(year,tables,df)\n",
    "    return(df)"
   ]
  },
  {
   "cell_type": "code",
   "execution_count": 170,
   "metadata": {
    "collapsed": true
   },
   "outputs": [],
   "source": [
    "df = newmain()"
   ]
  },
  {
   "cell_type": "markdown",
   "metadata": {},
   "source": [
    "Missing 2014 data. Can get it from: http://www.matchroompool.com/mosconi-cup/mosconi-cup-xxi/#fixtures\n",
    "compare stats here:\n",
    "http://forums.azbilliards.com/showthread.php?t=439775&page=4"
   ]
  },
  {
   "cell_type": "code",
   "execution_count": 176,
   "metadata": {},
   "outputs": [
    {
     "data": {
      "text/html": [
       "<div>\n",
       "<table border=\"1\" class=\"dataframe\">\n",
       "  <thead>\n",
       "    <tr style=\"text-align: right;\">\n",
       "      <th></th>\n",
       "      <th>Format</th>\n",
       "      <th>European_player</th>\n",
       "      <th>European_score</th>\n",
       "      <th>American_score</th>\n",
       "      <th>American_player</th>\n",
       "    </tr>\n",
       "  </thead>\n",
       "  <tbody>\n",
       "    <tr>\n",
       "      <th>0</th>\n",
       "      <td>Teams</td>\n",
       "      <td>Team Europe</td>\n",
       "      <td>5</td>\n",
       "      <td>1</td>\n",
       "      <td>Team USA</td>\n",
       "    </tr>\n",
       "    <tr>\n",
       "      <th>1</th>\n",
       "      <td>Doubles</td>\n",
       "      <td>Darren Appleton &amp; Karl Boyes</td>\n",
       "      <td>3</td>\n",
       "      <td>5</td>\n",
       "      <td>Corey Deuel &amp; Justin Hall</td>\n",
       "    </tr>\n",
       "    <tr>\n",
       "      <th>2</th>\n",
       "      <td>Singles</td>\n",
       "      <td>Mark Gray</td>\n",
       "      <td>3</td>\n",
       "      <td>5</td>\n",
       "      <td>John Schmidt</td>\n",
       "    </tr>\n",
       "    <tr>\n",
       "      <th>3</th>\n",
       "      <td>Doubles</td>\n",
       "      <td>Niels Feijen &amp; Nikos Ekonomopoulos</td>\n",
       "      <td>5</td>\n",
       "      <td>1</td>\n",
       "      <td>Shane Van Boening &amp; Justin Bergman</td>\n",
       "    </tr>\n",
       "    <tr>\n",
       "      <th>4</th>\n",
       "      <td>Singles</td>\n",
       "      <td>Darren Appleton</td>\n",
       "      <td>5</td>\n",
       "      <td>3</td>\n",
       "      <td>Shane Van Boening</td>\n",
       "    </tr>\n",
       "    <tr>\n",
       "      <th>5</th>\n",
       "      <td>Doubles</td>\n",
       "      <td>Niels Feijen &amp; Mark Gray</td>\n",
       "      <td>2</td>\n",
       "      <td>5</td>\n",
       "      <td>Justin Hall &amp; Justin Bergman</td>\n",
       "    </tr>\n",
       "    <tr>\n",
       "      <th>6</th>\n",
       "      <td>Singles</td>\n",
       "      <td>Karl Boyes</td>\n",
       "      <td>5</td>\n",
       "      <td>2</td>\n",
       "      <td>Corey Deuel</td>\n",
       "    </tr>\n",
       "    <tr>\n",
       "      <th>7</th>\n",
       "      <td>Doubles</td>\n",
       "      <td>Darren Appleton &amp; Nikos Ekonomopoulos</td>\n",
       "      <td>5</td>\n",
       "      <td>2</td>\n",
       "      <td>Shane Van Boening &amp; John Schmidt</td>\n",
       "    </tr>\n",
       "    <tr>\n",
       "      <th>8</th>\n",
       "      <td>Singles</td>\n",
       "      <td>Niels Feijen</td>\n",
       "      <td>5</td>\n",
       "      <td>3</td>\n",
       "      <td>Justin Bergman</td>\n",
       "    </tr>\n",
       "    <tr>\n",
       "      <th>9</th>\n",
       "      <td>Doubles</td>\n",
       "      <td>Darren Appleton &amp; Mark Gray</td>\n",
       "      <td>4</td>\n",
       "      <td>5</td>\n",
       "      <td>Shane Van Boening &amp; Corey Deuel</td>\n",
       "    </tr>\n",
       "    <tr>\n",
       "      <th>10</th>\n",
       "      <td>Doubles</td>\n",
       "      <td>Nikos Ekonomopoulos &amp; Karl Boyes</td>\n",
       "      <td>5</td>\n",
       "      <td>3</td>\n",
       "      <td>John Schmidt &amp; Justin Hall</td>\n",
       "    </tr>\n",
       "    <tr>\n",
       "      <th>11</th>\n",
       "      <td>Singles</td>\n",
       "      <td>Nikos Ekonomopoulos</td>\n",
       "      <td>3</td>\n",
       "      <td>5</td>\n",
       "      <td>Justin Hall</td>\n",
       "    </tr>\n",
       "    <tr>\n",
       "      <th>12</th>\n",
       "      <td>Doubles</td>\n",
       "      <td>Mark Gray &amp; Karl Boyes</td>\n",
       "      <td>5</td>\n",
       "      <td>3</td>\n",
       "      <td>Corey Deuel &amp; John Schmidt</td>\n",
       "    </tr>\n",
       "    <tr>\n",
       "      <th>13</th>\n",
       "      <td>Singles</td>\n",
       "      <td>Niels Feijen</td>\n",
       "      <td>5</td>\n",
       "      <td>2</td>\n",
       "      <td>Justin Bergman</td>\n",
       "    </tr>\n",
       "    <tr>\n",
       "      <th>14</th>\n",
       "      <td>Singles</td>\n",
       "      <td>Darren Appleton</td>\n",
       "      <td>5</td>\n",
       "      <td>2</td>\n",
       "      <td>Shane Van Boening</td>\n",
       "    </tr>\n",
       "    <tr>\n",
       "      <th>15</th>\n",
       "      <td>Singles</td>\n",
       "      <td>Nikos Ekonomopoulos</td>\n",
       "      <td>5</td>\n",
       "      <td>2</td>\n",
       "      <td>Shane Van Boening</td>\n",
       "    </tr>\n",
       "  </tbody>\n",
       "</table>\n",
       "</div>"
      ],
      "text/plain": [
       "     Format                        European_player European_score  \\\n",
       "0     Teams                            Team Europe              5   \n",
       "1   Doubles           Darren Appleton & Karl Boyes              3   \n",
       "2   Singles                              Mark Gray              3   \n",
       "3   Doubles     Niels Feijen & Nikos Ekonomopoulos              5   \n",
       "4   Singles                        Darren Appleton              5   \n",
       "5   Doubles               Niels Feijen & Mark Gray              2   \n",
       "6   Singles                             Karl Boyes              5   \n",
       "7   Doubles  Darren Appleton & Nikos Ekonomopoulos              5   \n",
       "8   Singles                           Niels Feijen              5   \n",
       "9   Doubles            Darren Appleton & Mark Gray              4   \n",
       "10  Doubles       Nikos Ekonomopoulos & Karl Boyes              5   \n",
       "11  Singles                    Nikos Ekonomopoulos              3   \n",
       "12  Doubles                 Mark Gray & Karl Boyes              5   \n",
       "13  Singles                           Niels Feijen              5   \n",
       "14  Singles                        Darren Appleton              5   \n",
       "15  Singles                    Nikos Ekonomopoulos              5   \n",
       "\n",
       "   American_score                     American_player  \n",
       "0               1                            Team USA  \n",
       "1               5           Corey Deuel & Justin Hall  \n",
       "2               5                        John Schmidt  \n",
       "3               1  Shane Van Boening & Justin Bergman  \n",
       "4               3                   Shane Van Boening  \n",
       "5               5        Justin Hall & Justin Bergman  \n",
       "6               2                         Corey Deuel  \n",
       "7               2    Shane Van Boening & John Schmidt  \n",
       "8               3                      Justin Bergman  \n",
       "9               5     Shane Van Boening & Corey Deuel  \n",
       "10              3          John Schmidt & Justin Hall  \n",
       "11              5                         Justin Hall  \n",
       "12              3          Corey Deuel & John Schmidt  \n",
       "13              2                      Justin Bergman  \n",
       "14              2                   Shane Van Boening  \n",
       "15              2                   Shane Van Boening  "
      ]
     },
     "execution_count": 176,
     "metadata": {},
     "output_type": "execute_result"
    }
   ],
   "source": [
    "import re\n",
    "import pandas as pd\n",
    "l=[]\n",
    "col=['Format','European_player','European_score','American_score','American_player']\n",
    "\n",
    "with open('manual_scrape_cleaned_2014.txt','r') as rf:\n",
    "    for line in rf:\n",
    "        match = re.match(r\"(\\w+)\\s(.+)\\s([0-9])\\s?[-]\\s?([0-9])\\s?(.+)\", line)\n",
    "        if match:\n",
    "            l.append(list(match.groups()))\n",
    "        else:\n",
    "            print('fail')\n",
    "df2014\n",
    "# df2014=pd.DataFrame(l,columns=col)\n",
    "# df2014['Europe_won']=df.European_score>df.American_score\n",
    "# df2014"
   ]
  },
  {
   "cell_type": "code",
   "execution_count": 177,
   "metadata": {
    "collapsed": true
   },
   "outputs": [],
   "source": [
    "frames=[df,df2014]\n",
    "df=pd.concat(frames)"
   ]
  },
  {
   "cell_type": "markdown",
   "metadata": {
    "collapsed": true
   },
   "source": [
    "2015 Data is backwards, need to fix the order (european player should be first)"
   ]
  },
  {
   "cell_type": "code",
   "execution_count": 191,
   "metadata": {
    "collapsed": true
   },
   "outputs": [],
   "source": [
    "def createdf_bw(tables):\n",
    "    import re\n",
    "    l=[]\n",
    "    col=['Format','European_player','European_score','American_score','American_player']\n",
    "\n",
    "    for i in range(len(tables)+1):\n",
    "        for j in range(1,6):\n",
    "            try:\n",
    "                element=tables[i][j].text_content().replace(\"\\n\", \" \")\n",
    "                match = re.match(r\"\\s?(\\w+)\\s(.+)\\s([0-9])[–]([0-9])\\s?\\w+\\s?(.+)\\s\", element)\n",
    "                if match:\n",
    "                    lst=[match.group(1), match.group(5), match.group(4), match.group(3), match.group(2)]\n",
    "                    l.append(lst)\n",
    "            except:\n",
    "                pass\n",
    "    print(l)\n",
    "    df=pd.DataFrame(l,columns=col)\n",
    "    return(df)"
   ]
  },
  {
   "cell_type": "code",
   "execution_count": 192,
   "metadata": {
    "collapsed": true
   },
   "outputs": [],
   "source": [
    "def main_bw():\n",
    "    from lxml import html\n",
    "    import requests\n",
    "    import pandas as pd\n",
    "    df = pd.DataFrame()\n",
    "    links = createlinks('2015','2016')\n",
    "    for url in links:\n",
    "        tables = createtables(url)\n",
    "        tl = tablelengths(tables)\n",
    "        newdf = createdf_bw(tables) \n",
    "        df=df.append(newdf)\n",
    "    return(df)"
   ]
  },
  {
   "cell_type": "code",
   "execution_count": 193,
   "metadata": {},
   "outputs": [
    {
     "name": "stdout",
     "output_type": "stream",
     "text": [
      "[['Teams', 'Team Europe', '4', '5', 'Team USA'], ['Doubles', 'Karl Boyes Nick van den Berg', '5', '4', 'Corey Deuel Mike Dechaine'], ['Singles', 'Niels Feijen', '5', '2', 'Justin Bergman'], ['Doubles', 'Darren Appleton Albin Ouschan', '1', '5', 'Shane Van Boening Skyler Woodward'], ['Singles', 'Darren Appleton', '5', '1', 'Shane Van Boening'], ['Doubles', 'Niels Feijen Nick van den Berg', '3', '5', 'Justin Bergman Skyler Woodward'], ['Singles', 'Albin Ouschan', '5', '3', 'Mike Dechaine'], ['Doubles', 'Darren Appleton Karl Boyes', '5', '2', 'Shane Van Boening Corey Deuel'], ['Singles', 'Karl Boyes', '5', '3', 'Skyler Woodward'], ['Doubles', 'Darren Appleton Nick van den Berg', '4', '5', 'Shane Van Boening Mike Dechaine'], ['Doubles', 'Niels Feijen Albin Ouschan', '5', '1', 'Justin Bergman Corey Deuel'], ['Singles', 'Nick van den Berg', '4', '5', 'Corey Deuel'], ['Doubles', 'Karl Boyes Albin Ouschan', '5', '2', 'Mike Dechaine Skyler Woodward'], ['Singles', 'Niels Feijen', '5', '4', 'Shane Van Boening'], ['Singles', 'Darren Appleton', '2', '5', 'Justin Bergman'], ['Singles', 'Niels Feijen', '5', '4', 'Justin Bergman'], ['Singles', 'Karl Boyes', '4', '5', 'Shane Van Boening'], ['Singles', 'Albin Ouschan', '5', '4', 'Skyler Woodward']]\n"
     ]
    }
   ],
   "source": [
    "df2015= main_bw()"
   ]
  },
  {
   "cell_type": "code",
   "execution_count": 182,
   "metadata": {
    "collapsed": true
   },
   "outputs": [],
   "source": [
    "frames=[df,df2015]\n",
    "df=pd.concat(frames)"
   ]
  },
  {
   "cell_type": "code",
   "execution_count": 185,
   "metadata": {
    "collapsed": true
   },
   "outputs": [],
   "source": [
    "pkl = 'new_inc_2015_fixed_again'\n",
    "pd.to_pickle(df,pkl)"
   ]
  },
  {
   "cell_type": "markdown",
   "metadata": {},
   "source": [
    "Next steps: Rescrape the data. \n",
    "\n",
    "1. Need to include the year as a multiindex and concatenate the frames per year.(done)\n",
    "1. Need to reconfigure the number of rows to possibly extend beyond 5. Have to dynamically learn the number of rows in the    given table and then use that number instead of hard coding it. (done)\n",
    "3. Need to collect the 'team' data each year. I.e. what players are on each team so that I can do analysis on the 'team' matches and include that in the final presentations.\n",
    "4. Scrape location each year and form dictionary b/w year and location"
   ]
  }
 ],
 "metadata": {
  "kernelspec": {
   "display_name": "Python 3",
   "language": "python",
   "name": "python3"
  },
  "language_info": {
   "codemirror_mode": {
    "name": "ipython",
    "version": 3
   },
   "file_extension": ".py",
   "mimetype": "text/x-python",
   "name": "python",
   "nbconvert_exporter": "python",
   "pygments_lexer": "ipython3",
   "version": "3.5.2"
  }
 },
 "nbformat": 4,
 "nbformat_minor": 2
}
