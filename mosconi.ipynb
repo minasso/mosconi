{
 "cells": [
  {
   "cell_type": "code",
   "execution_count": 451,
   "metadata": {
    "collapsed": true
   },
   "outputs": [],
   "source": [
    "def createlinks(start,end):\n",
    "    base = 'https://en.wikipedia.org/wiki/'\n",
    "    tails=[]\n",
    "    for i in range(int(start),int(end)):\n",
    "        tails.append('{}_Mosconi_Cup'.format(i))\n",
    "    links=[base+tail for tail in tails]\n",
    "    return(links)"
   ]
  },
  {
   "cell_type": "code",
   "execution_count": 454,
   "metadata": {
    "collapsed": true
   },
   "outputs": [],
   "source": [
    "def createtables(url):\n",
    "    page = requests.get(url)\n",
    "    tree = html.fromstring(page.text)\n",
    "    tables = tree.xpath('//table')\n",
    "    tables=[table for table in tables if(table[0].text_content().replace('\\n','')=='Results')]\n",
    "    return(tables)"
   ]
  },
  {
   "cell_type": "code",
   "execution_count": 487,
   "metadata": {
    "collapsed": true
   },
   "outputs": [],
   "source": [
    "def createdf(tables):\n",
    "    import re\n",
    "    l=[]\n",
    "    col=['Format','European_player','European_score','American_score','American_player']\n",
    "\n",
    "    for i in range(len(tables)+1):\n",
    "        for j in range(1,6):\n",
    "            try:\n",
    "                element=tables[i][j].text_content().replace(\"\\n\", \" \")\n",
    "                match = re.match(r\"\\s?(\\w+)\\s(.+)\\s([0-9])[–]([0-9])\\s?\\w+\\s?(.+)\\s\", element)\n",
    "                if match:\n",
    "                    l.append(list(match.groups()))\n",
    "            except:\n",
    "                pass\n",
    "    df=pd.DataFrame(l,columns=col)\n",
    "    return(df)"
   ]
  },
  {
   "cell_type": "code",
   "execution_count": 664,
   "metadata": {
    "collapsed": true
   },
   "outputs": [],
   "source": [
    "def main():\n",
    "    from lxml import html\n",
    "    import requests\n",
    "    import pandas as pd\n",
    "    df = pd.DataFrame()\n",
    "    links = createlinks('1998','2014')\n",
    "    for url in links:\n",
    "        tables = createtables(url)\n",
    "        newdf = createdf(tables) \n",
    "        df=df.append(newdf)\n",
    "    return(df)"
   ]
  },
  {
   "cell_type": "code",
   "execution_count": 710,
   "metadata": {
    "collapsed": true
   },
   "outputs": [],
   "source": [
    "pkl=r'C:\\Users\\andrew\\Desktop\\mosconi\\mosconi_1998_2015_pkls'\n",
    "df.to_pickle(pkl)"
   ]
  },
  {
   "cell_type": "markdown",
   "metadata": {},
   "source": [
    "Missing 2014 data. Can get it from: http://www.matchroompool.com/mosconi-cup/mosconi-cup-xxi/#fixtures\n",
    "compare stats here:\n",
    "http://forums.azbilliards.com/showthread.php?t=439775&page=4"
   ]
  },
  {
   "cell_type": "code",
   "execution_count": 569,
   "metadata": {
    "collapsed": true
   },
   "outputs": [],
   "source": [
    "import re\n",
    "l=[]\n",
    "with open('manual_scrape_cleaned_2014.txt','r') as rf:\n",
    "    for line in rf:\n",
    "        match = re.match(r\"(\\w+)\\s(.+)\\s([0-9])\\s?[-]\\s?([0-9])\\s?(.+)\", line)\n",
    "        if match:\n",
    "            l.append(list(match.groups()))"
   ]
  },
  {
   "cell_type": "code",
   "execution_count": 583,
   "metadata": {
    "collapsed": true
   },
   "outputs": [],
   "source": [
    "df=pd.read_pickle(pkl)"
   ]
  },
  {
   "cell_type": "code",
   "execution_count": 670,
   "metadata": {
    "collapsed": true
   },
   "outputs": [],
   "source": [
    "df2=pd.DataFrame(l,columns=col)"
   ]
  },
  {
   "cell_type": "code",
   "execution_count": 671,
   "metadata": {
    "collapsed": true
   },
   "outputs": [],
   "source": [
    "frames=[df,df2]\n",
    "df=pd.concat(frames)"
   ]
  },
  {
   "cell_type": "code",
   "execution_count": 672,
   "metadata": {
    "collapsed": true
   },
   "outputs": [],
   "source": [
    "df['Europe_won']=df.European_score>df.American_score"
   ]
  },
  {
   "cell_type": "code",
   "execution_count": 674,
   "metadata": {
    "collapsed": true
   },
   "outputs": [],
   "source": [
    "pkl=r'C:\\Users\\andrew\\Desktop\\mosconi\\mosconi_1998_2014_inc_pkls'\n",
    "df.to_pickle(pkl)"
   ]
  },
  {
   "cell_type": "code",
   "execution_count": 2,
   "metadata": {
    "collapsed": true
   },
   "outputs": [
    {
     "ename": "NameError",
     "evalue": "name 'df' is not defined",
     "output_type": "error",
     "traceback": [
      "\u001b[0;31m---------------------------------------------------------------------------\u001b[0m",
      "\u001b[0;31mNameError\u001b[0m                                 Traceback (most recent call last)",
      "\u001b[0;32m<ipython-input-2-89d3780ed943>\u001b[0m in \u001b[0;36m<module>\u001b[0;34m()\u001b[0m\n\u001b[1;32m      1\u001b[0m \u001b[0mcols\u001b[0m\u001b[1;33m=\u001b[0m \u001b[1;33m[\u001b[0m\u001b[1;34m'Format'\u001b[0m\u001b[1;33m,\u001b[0m\u001b[1;34m'European_player'\u001b[0m\u001b[1;33m,\u001b[0m\u001b[1;34m'European_score'\u001b[0m\u001b[1;33m,\u001b[0m\u001b[1;34m'American_score'\u001b[0m\u001b[1;33m,\u001b[0m\u001b[1;34m'American_player'\u001b[0m\u001b[1;33m,\u001b[0m\u001b[1;34m'Europe_won'\u001b[0m\u001b[1;33m]\u001b[0m\u001b[1;33m\u001b[0m\u001b[0m\n\u001b[0;32m----> 2\u001b[0;31m \u001b[0mdf\u001b[0m\u001b[1;33m=\u001b[0m\u001b[0mdf\u001b[0m\u001b[1;33m[\u001b[0m\u001b[0mcols\u001b[0m\u001b[1;33m]\u001b[0m\u001b[1;33m\u001b[0m\u001b[0m\n\u001b[0m",
      "\u001b[0;31mNameError\u001b[0m: name 'df' is not defined"
     ]
    }
   ],
   "source": [
    "cols= ['Format','European_player','European_score','American_score','American_player','Europe_won']\n",
    "df=df[cols]"
   ]
  },
  {
   "cell_type": "markdown",
   "metadata": {
    "collapsed": true
   },
   "source": [
    "2015 Data is backwards, need to fix the order (european player should be first)"
   ]
  },
  {
   "cell_type": "code",
   "execution_count": 705,
   "metadata": {
    "collapsed": true
   },
   "outputs": [],
   "source": [
    "def createdf_bw(tables):\n",
    "    import re\n",
    "    l=[]\n",
    "    col=['Format','European_player','European_score','American_score','American_player']\n",
    "\n",
    "    for i in range(len(tables)+1):\n",
    "        for j in range(1,6):\n",
    "            try:\n",
    "                element=tables[i][j].text_content().replace(\"\\n\", \" \")\n",
    "                match = re.match(r\"\\s?(\\w+)\\s(.+)\\s([0-9])[–]([0-9])\\s?\\w+\\s?(.+)\\s\", element)\n",
    "                if match:\n",
    "                    print('ok')\n",
    "                    lst=[match.group(1), match.group(5), match.group(4), match.group(3), match.group(2)]\n",
    "                    print(lst)\n",
    "                    l.append(lst)\n",
    "                else:\n",
    "                    print('fail')\n",
    "            except:\n",
    "                pass\n",
    "    print(l)\n",
    "    df=pd.DataFrame(l,columns=col)\n",
    "    return(df)"
   ]
  },
  {
   "cell_type": "code",
   "execution_count": 701,
   "metadata": {
    "collapsed": true
   },
   "outputs": [],
   "source": [
    "def main_bw():\n",
    "    from lxml import html\n",
    "    import requests\n",
    "    import pandas as pd\n",
    "    df = pd.DataFrame()\n",
    "    links = createlinks('2015','2016')\n",
    "    for url in links:\n",
    "        tables = createtables(url)\n",
    "        newdf = createdf_bw(tables) \n",
    "        df=df.append(newdf)\n",
    "    return(df)"
   ]
  },
  {
   "cell_type": "code",
   "execution_count": 706,
   "metadata": {
    "collapsed": true
   },
   "outputs": [
    {
     "name": "stdout",
     "output_type": "stream",
     "text": [
      "ok\n",
      "['Teams', 'Team Europe', '4', '5', 'Team USA']\n",
      "ok\n",
      "['Doubles', 'Karl Boyes Nick van den Berg', '5', '4', 'Corey Deuel Mike Dechaine']\n",
      "ok\n",
      "['Singles', 'Niels Feijen', '5', '2', 'Justin Bergman']\n",
      "ok\n",
      "['Doubles', 'Darren Appleton Albin Ouschan', '1', '5', 'Shane Van Boening Skyler Woodward']\n",
      "ok\n",
      "['Singles', 'Darren Appleton', '5', '1', 'Shane Van Boening']\n",
      "ok\n",
      "['Doubles', 'Niels Feijen Nick van den Berg', '3', '5', 'Justin Bergman Skyler Woodward']\n",
      "ok\n",
      "['Singles', 'Albin Ouschan', '5', '3', 'Mike Dechaine']\n",
      "ok\n",
      "['Doubles', 'Darren Appleton Karl Boyes', '5', '2', 'Shane Van Boening Corey Deuel']\n",
      "ok\n",
      "['Singles', 'Karl Boyes', '5', '3', 'Skyler Woodward']\n",
      "ok\n",
      "['Doubles', 'Darren Appleton Nick van den Berg', '4', '5', 'Shane Van Boening Mike Dechaine']\n",
      "ok\n",
      "['Doubles', 'Niels Feijen Albin Ouschan', '5', '1', 'Justin Bergman Corey Deuel']\n",
      "ok\n",
      "['Singles', 'Nick van den Berg', '4', '5', 'Corey Deuel']\n",
      "ok\n",
      "['Doubles', 'Karl Boyes Albin Ouschan', '5', '2', 'Mike Dechaine Skyler Woodward']\n",
      "ok\n",
      "['Singles', 'Niels Feijen', '5', '4', 'Shane Van Boening']\n",
      "ok\n",
      "['Singles', 'Darren Appleton', '2', '5', 'Justin Bergman']\n",
      "ok\n",
      "['Singles', 'Niels Feijen', '5', '4', 'Justin Bergman']\n",
      "ok\n",
      "['Singles', 'Karl Boyes', '4', '5', 'Shane Van Boening']\n",
      "ok\n",
      "['Singles', 'Albin Ouschan', '5', '4', 'Skyler Woodward']\n",
      "fail\n",
      "fail\n",
      "[['Teams', 'Team Europe', '4', '5', 'Team USA'], ['Doubles', 'Karl Boyes Nick van den Berg', '5', '4', 'Corey Deuel Mike Dechaine'], ['Singles', 'Niels Feijen', '5', '2', 'Justin Bergman'], ['Doubles', 'Darren Appleton Albin Ouschan', '1', '5', 'Shane Van Boening Skyler Woodward'], ['Singles', 'Darren Appleton', '5', '1', 'Shane Van Boening'], ['Doubles', 'Niels Feijen Nick van den Berg', '3', '5', 'Justin Bergman Skyler Woodward'], ['Singles', 'Albin Ouschan', '5', '3', 'Mike Dechaine'], ['Doubles', 'Darren Appleton Karl Boyes', '5', '2', 'Shane Van Boening Corey Deuel'], ['Singles', 'Karl Boyes', '5', '3', 'Skyler Woodward'], ['Doubles', 'Darren Appleton Nick van den Berg', '4', '5', 'Shane Van Boening Mike Dechaine'], ['Doubles', 'Niels Feijen Albin Ouschan', '5', '1', 'Justin Bergman Corey Deuel'], ['Singles', 'Nick van den Berg', '4', '5', 'Corey Deuel'], ['Doubles', 'Karl Boyes Albin Ouschan', '5', '2', 'Mike Dechaine Skyler Woodward'], ['Singles', 'Niels Feijen', '5', '4', 'Shane Van Boening'], ['Singles', 'Darren Appleton', '2', '5', 'Justin Bergman'], ['Singles', 'Niels Feijen', '5', '4', 'Justin Bergman'], ['Singles', 'Karl Boyes', '4', '5', 'Shane Van Boening'], ['Singles', 'Albin Ouschan', '5', '4', 'Skyler Woodward']]\n"
     ]
    }
   ],
   "source": [
    "df2015= main_bw()"
   ]
  },
  {
   "cell_type": "code",
   "execution_count": 708,
   "metadata": {
    "collapsed": true
   },
   "outputs": [],
   "source": [
    "frames=[df,df2015]\n",
    "df=pd.concat(frames)"
   ]
  },
  {
   "cell_type": "code",
   "execution_count": 665,
   "metadata": {
    "collapsed": true
   },
   "outputs": [],
   "source": [
    "df=main()"
   ]
  },
  {
   "cell_type": "markdown",
   "metadata": {},
   "source": [
    "Exploratory data analysis to follow..."
   ]
  },
  {
   "cell_type": "code",
   "execution_count": 719,
   "metadata": {
    "collapsed": true
   },
   "outputs": [],
   "source": [
    "svb = df['American_player'].str.contains('Shane Van Boening')"
   ]
  },
  {
   "cell_type": "code",
   "execution_count": 720,
   "metadata": {
    "collapsed": true
   },
   "outputs": [],
   "source": [
    "earl = df['American_player'].str.contains('Earl Strickland')"
   ]
  },
  {
   "cell_type": "code",
   "execution_count": 721,
   "metadata": {
    "collapsed": true
   },
   "outputs": [],
   "source": [
    "hatch = df['American_player'].str.contains('Dennis Hatch')"
   ]
  },
  {
   "cell_type": "code",
   "execution_count": 722,
   "metadata": {
    "collapsed": true
   },
   "outputs": [],
   "source": [
    "Ouschan = df['European_player'].str.contains('Albin Ouschan')"
   ]
  },
  {
   "cell_type": "code",
   "execution_count": 723,
   "metadata": {
    "collapsed": true
   },
   "outputs": [
    {
     "data": {
      "text/html": [
       "<div>\n",
       "<table border=\"1\" class=\"dataframe\">\n",
       "  <thead>\n",
       "    <tr style=\"text-align: right;\">\n",
       "      <th></th>\n",
       "      <th>Format</th>\n",
       "      <th>European_player</th>\n",
       "      <th>European_score</th>\n",
       "      <th>American_score</th>\n",
       "      <th>American_player</th>\n",
       "      <th>Europe_won</th>\n",
       "    </tr>\n",
       "  </thead>\n",
       "  <tbody>\n",
       "    <tr>\n",
       "      <th>3</th>\n",
       "      <td>Doubles</td>\n",
       "      <td>Darren Appleton Albin Ouschan</td>\n",
       "      <td>1</td>\n",
       "      <td>5</td>\n",
       "      <td>Shane Van Boening Skyler Woodward</td>\n",
       "      <td>False</td>\n",
       "    </tr>\n",
       "    <tr>\n",
       "      <th>6</th>\n",
       "      <td>Singles</td>\n",
       "      <td>Albin Ouschan</td>\n",
       "      <td>5</td>\n",
       "      <td>3</td>\n",
       "      <td>Mike Dechaine</td>\n",
       "      <td>True</td>\n",
       "    </tr>\n",
       "    <tr>\n",
       "      <th>10</th>\n",
       "      <td>Doubles</td>\n",
       "      <td>Niels Feijen Albin Ouschan</td>\n",
       "      <td>5</td>\n",
       "      <td>1</td>\n",
       "      <td>Justin Bergman Corey Deuel</td>\n",
       "      <td>True</td>\n",
       "    </tr>\n",
       "    <tr>\n",
       "      <th>12</th>\n",
       "      <td>Doubles</td>\n",
       "      <td>Karl Boyes Albin Ouschan</td>\n",
       "      <td>5</td>\n",
       "      <td>2</td>\n",
       "      <td>Mike Dechaine Skyler Woodward</td>\n",
       "      <td>True</td>\n",
       "    </tr>\n",
       "    <tr>\n",
       "      <th>17</th>\n",
       "      <td>Singles</td>\n",
       "      <td>Albin Ouschan</td>\n",
       "      <td>5</td>\n",
       "      <td>4</td>\n",
       "      <td>Skyler Woodward</td>\n",
       "      <td>True</td>\n",
       "    </tr>\n",
       "  </tbody>\n",
       "</table>\n",
       "</div>"
      ],
      "text/plain": [
       "     Format                European_player European_score American_score  \\\n",
       "3   Doubles  Darren Appleton Albin Ouschan              1              5   \n",
       "6   Singles                  Albin Ouschan              5              3   \n",
       "10  Doubles     Niels Feijen Albin Ouschan              5              1   \n",
       "12  Doubles       Karl Boyes Albin Ouschan              5              2   \n",
       "17  Singles                  Albin Ouschan              5              4   \n",
       "\n",
       "                      American_player Europe_won  \n",
       "3   Shane Van Boening Skyler Woodward      False  \n",
       "6                       Mike Dechaine       True  \n",
       "10         Justin Bergman Corey Deuel       True  \n",
       "12      Mike Dechaine Skyler Woodward       True  \n",
       "17                    Skyler Woodward       True  "
      ]
     },
     "execution_count": 723,
     "metadata": {},
     "output_type": "execute_result"
    }
   ],
   "source": [
    "df[Ouschan]"
   ]
  },
  {
   "cell_type": "code",
   "execution_count": 724,
   "metadata": {
    "collapsed": true
   },
   "outputs": [],
   "source": [
    "Woodward = df['American_player'].str.contains('Woodward')"
   ]
  },
  {
   "cell_type": "code",
   "execution_count": 725,
   "metadata": {
    "collapsed": true
   },
   "outputs": [],
   "source": [
    "singles = df['Format']=='Singles'\n",
    "doubles = df['Format']=='Doubles'\n",
    "teams = df['Format']=='Teams'"
   ]
  },
  {
   "cell_type": "code",
   "execution_count": 726,
   "metadata": {
    "collapsed": true
   },
   "outputs": [],
   "source": [
    "europe_won = df['Europe_won'] == True\n",
    "america_won = df['Europe_won'] == False"
   ]
  },
  {
   "cell_type": "code",
   "execution_count": 764,
   "metadata": {
    "collapsed": true
   },
   "outputs": [],
   "source": [
    "def singleswinloss(player,country):\n",
    "    if 'a' in country:\n",
    "        dfnew= df[df['American_player'].str.contains(player)]\n",
    "        win=dfnew[america_won&singles].shape[0]\n",
    "        loss=dfnew[player&~america_won&singles].shape[0]\n",
    "    else:\n",
    "        dfnew = df[df['European_player'].str.contains(player)]\n",
    "        loss=dfnew[player&america_won&singles].shape[0]\n",
    "        win=dfnew[player&~america_won&singles].shape[0]        \n",
    "    wl='{}-{}'.format(win,loss)\n",
    "    return(wl)\n",
    "def doubleswinloss(player,country):\n",
    "    if 'a' in country:\n",
    "        win=df[player&america_won&doubles].shape[0]\n",
    "        loss=df[player&~america_won&doubles].shape[0]\n",
    "    else:\n",
    "        loss=df[player&america_won&doubles].shape[0]\n",
    "        win=df[player&~america_won&doubles].shape[0] \n",
    "    wl='{}-{}'.format(win,loss)\n",
    "    return(wl)\n",
    "def combinedwinloss(player,country):\n",
    "    if 'a' in country:\n",
    "        dwin=df[player&america_won&doubles].shape[0]\n",
    "        dloss=df[player&~america_won&doubles].shape[0]\n",
    "        swin=df[player&america_won&singles].shape[0]\n",
    "        sloss=df[player&~america_won&singles].shape[0]\n",
    "    else:\n",
    "        dloss=df[player&america_won&doubles].shape[0]\n",
    "        dwin=df[player&~america_won&doubles].shape[0]\n",
    "        sloss=df[player&america_won&singles].shape[0]\n",
    "        swin=df[player&~america_won&singles].shape[0]\n",
    "    win=dwin+swin\n",
    "    loss=dloss+sloss\n",
    "    wl='{}-{}'.format(win,loss)\n",
    "    return(wl)"
   ]
  },
  {
   "cell_type": "code",
   "execution_count": 1,
   "metadata": {
    "collapsed": true
   },
   "outputs": [
    {
     "ename": "NameError",
     "evalue": "name 'singleswinloss' is not defined",
     "output_type": "error",
     "traceback": [
      "\u001b[0;31m---------------------------------------------------------------------------\u001b[0m",
      "\u001b[0;31mNameError\u001b[0m                                 Traceback (most recent call last)",
      "\u001b[0;32m<ipython-input-1-2451d37682d4>\u001b[0m in \u001b[0;36m<module>\u001b[0;34m()\u001b[0m\n\u001b[0;32m----> 1\u001b[0;31m \u001b[0msingleswinloss\u001b[0m\u001b[1;33m(\u001b[0m\u001b[1;34m'Earl'\u001b[0m\u001b[1;33m,\u001b[0m\u001b[1;34m'am'\u001b[0m\u001b[1;33m)\u001b[0m\u001b[1;33m\u001b[0m\u001b[0m\n\u001b[0m",
      "\u001b[0;31mNameError\u001b[0m: name 'singleswinloss' is not defined"
     ]
    }
   ],
   "source": [
    "singleswinloss('Earl','am')     \n"
   ]
  },
  {
   "cell_type": "code",
   "execution_count": 760,
   "metadata": {},
   "outputs": [
    {
     "name": "stdout",
     "output_type": "stream",
     "text": [
      "2-0 2-1 4-1\n"
     ]
    }
   ],
   "source": [
    "print(singleswinloss(Ouschan,'eu'),doubleswinloss(Ouschan,'eu'),combinedwinloss(Ouschan,'eu'))"
   ]
  },
  {
   "cell_type": "markdown",
   "metadata": {},
   "source": [
    "Need to get player list for both teams"
   ]
  },
  {
   "cell_type": "code",
   "execution_count": 618,
   "metadata": {
    "collapsed": true
   },
   "outputs": [],
   "source": [
    "with open('euro_players_scrape.txt', 'r') as rf:\n",
    "    euro_players=[]\n",
    "    for line in rf:\n",
    "        n=line.split('  ')\n",
    "        euro_players.append(n[0])\n",
    "with open('am_players_scrape.txt', 'r') as rf:\n",
    "    am_players=[]\n",
    "    for line in rf:\n",
    "        n=line.split('  ')\n",
    "        am_players.append(n[0])"
   ]
  },
  {
   "cell_type": "markdown",
   "metadata": {},
   "source": [
    "Year 2015 has the US players listed first. Must correct the entries into the df "
   ]
  }
 ],
 "metadata": {
  "kernelspec": {
   "display_name": "Python 3",
   "language": "python",
   "name": "python3"
  },
  "language_info": {
   "codemirror_mode": {
    "name": "ipython",
    "version": 3
   },
   "file_extension": ".py",
   "mimetype": "text/x-python",
   "name": "python",
   "nbconvert_exporter": "python",
   "pygments_lexer": "ipython3",
   "version": "3.5.2"
  }
 },
 "nbformat": 4,
 "nbformat_minor": 2
}
