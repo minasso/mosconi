{
 "cells": [
  {
   "cell_type": "markdown",
   "metadata": {},
   "source": [
    "### **Purpose: **America's best player, Earl Strickland, has been known to play poorly in the Mosconi Cup. This analysis will dive deeper to see which factors are most important in predicting his success."
   ]
  },
  {
   "cell_type": "code",
   "execution_count": 1,
   "metadata": {
    "collapsed": true
   },
   "outputs": [],
   "source": [
    "import pickle\n",
    "import pandas as pd"
   ]
  },
  {
   "cell_type": "code",
   "execution_count": 2,
   "metadata": {
    "collapsed": true
   },
   "outputs": [],
   "source": [
    "df = pickle.load(open('pkl/allyears_clean_locs','rb'))"
   ]
  },
  {
   "cell_type": "code",
   "execution_count": 3,
   "metadata": {
    "collapsed": true
   },
   "outputs": [],
   "source": [
    "df = df[df['American_player'].str.contains('Earl Strickland')]"
   ]
  },
  {
   "cell_type": "code",
   "execution_count": 4,
   "metadata": {
    "collapsed": true
   },
   "outputs": [],
   "source": [
    "df['Europe_lost']= ~df['Europe_won']\n",
    "df = df[['Format', 'European_player', 'European_score', 'American_score',\n",
    "       'American_player', 'Europe_lost','Europe_won']]\n",
    "df.columns=['Format', 'European_player', 'European_score', 'American_score',\n",
    "       'American_player', 'America_won', 'America_lost']"
   ]
  },
  {
   "cell_type": "code",
   "execution_count": 5,
   "metadata": {
    "collapsed": true
   },
   "outputs": [],
   "source": [
    "def stats(df):\n",
    "    loss,win = df['America_won'].value_counts(sort=False)\n",
    "    mp= win+loss\n",
    "    wl = 'Win-loss: {}-{}'.format(win,loss)\n",
    "    pct = win/(win+loss)*100\n",
    "    pc = round(pct,0)\n",
    "    return('Matches Played: {}'.format(mp),wl,'Pct: {}'.format(pc))"
   ]
  },
  {
   "cell_type": "markdown",
   "metadata": {},
   "source": [
    "### Lets have a quick look at Earl's overall stats and check out his singles, doubles, and team stats."
   ]
  },
  {
   "cell_type": "code",
   "execution_count": 6,
   "metadata": {},
   "outputs": [
    {
     "data": {
      "text/plain": [
       "('Matches Played: 69', 'Win-loss: 43-26', 'pct: 62.0')"
      ]
     },
     "execution_count": 6,
     "metadata": {},
     "output_type": "execute_result"
    }
   ],
   "source": [
    "stats(df)"
   ]
  },
  {
   "cell_type": "code",
   "execution_count": 41,
   "metadata": {
    "collapsed": true
   },
   "outputs": [],
   "source": [
    "sing = df[df['Format']=='Singles']\n",
    "dub = df[df['Format']=='Doubles']\n",
    "team = df[df['Format']=='Teams']\n",
    "triples = df[df['Format']=='Triples']"
   ]
  },
  {
   "cell_type": "code",
   "execution_count": 8,
   "metadata": {},
   "outputs": [
    {
     "data": {
      "text/plain": [
       "('Matches Played: 26', 'Win-loss: 14-12', 'pct: 54.0')"
      ]
     },
     "execution_count": 8,
     "metadata": {},
     "output_type": "execute_result"
    }
   ],
   "source": [
    "stats(sing)"
   ]
  },
  {
   "cell_type": "code",
   "execution_count": 9,
   "metadata": {},
   "outputs": [
    {
     "data": {
      "text/plain": [
       "('Matches Played: 36', 'Win-loss: 24-12', 'pct: 67.0')"
      ]
     },
     "execution_count": 9,
     "metadata": {},
     "output_type": "execute_result"
    }
   ],
   "source": [
    "stats(dub)"
   ]
  },
  {
   "cell_type": "code",
   "execution_count": 10,
   "metadata": {},
   "outputs": [
    {
     "data": {
      "text/plain": [
       "('Matches Played: 5', 'Win-loss: 3-2', 'pct: 60.0')"
      ]
     },
     "execution_count": 10,
     "metadata": {},
     "output_type": "execute_result"
    }
   ],
   "source": [
    "stats(team)"
   ]
  },
  {
   "cell_type": "code",
   "execution_count": 42,
   "metadata": {},
   "outputs": [
    {
     "ename": "ValueError",
     "evalue": "not enough values to unpack (expected 2, got 1)",
     "output_type": "error",
     "traceback": [
      "\u001b[1;31m---------------------------------------------------------------------------\u001b[0m",
      "\u001b[1;31mValueError\u001b[0m                                Traceback (most recent call last)",
      "\u001b[1;32m<ipython-input-42-1ac8712c0c84>\u001b[0m in \u001b[0;36m<module>\u001b[1;34m()\u001b[0m\n\u001b[1;32m----> 1\u001b[1;33m \u001b[0mstats\u001b[0m\u001b[1;33m(\u001b[0m\u001b[0mtriples\u001b[0m\u001b[1;33m)\u001b[0m\u001b[1;33m\u001b[0m\u001b[0m\n\u001b[0m",
      "\u001b[1;32m<ipython-input-5-11af6f83a293>\u001b[0m in \u001b[0;36mstats\u001b[1;34m(df)\u001b[0m\n\u001b[0;32m      1\u001b[0m \u001b[1;32mdef\u001b[0m \u001b[0mstats\u001b[0m\u001b[1;33m(\u001b[0m\u001b[0mdf\u001b[0m\u001b[1;33m)\u001b[0m\u001b[1;33m:\u001b[0m\u001b[1;33m\u001b[0m\u001b[0m\n\u001b[1;32m----> 2\u001b[1;33m     \u001b[0mloss\u001b[0m\u001b[1;33m,\u001b[0m\u001b[0mwin\u001b[0m \u001b[1;33m=\u001b[0m \u001b[0mdf\u001b[0m\u001b[1;33m[\u001b[0m\u001b[1;34m'America_won'\u001b[0m\u001b[1;33m]\u001b[0m\u001b[1;33m.\u001b[0m\u001b[0mvalue_counts\u001b[0m\u001b[1;33m(\u001b[0m\u001b[0msort\u001b[0m\u001b[1;33m=\u001b[0m\u001b[1;32mFalse\u001b[0m\u001b[1;33m)\u001b[0m\u001b[1;33m\u001b[0m\u001b[0m\n\u001b[0m\u001b[0;32m      3\u001b[0m     \u001b[0mmp\u001b[0m\u001b[1;33m=\u001b[0m \u001b[0mwin\u001b[0m\u001b[1;33m+\u001b[0m\u001b[0mloss\u001b[0m\u001b[1;33m\u001b[0m\u001b[0m\n\u001b[0;32m      4\u001b[0m     \u001b[0mwl\u001b[0m \u001b[1;33m=\u001b[0m \u001b[1;34m'Win-loss: {}-{}'\u001b[0m\u001b[1;33m.\u001b[0m\u001b[0mformat\u001b[0m\u001b[1;33m(\u001b[0m\u001b[0mwin\u001b[0m\u001b[1;33m,\u001b[0m\u001b[0mloss\u001b[0m\u001b[1;33m)\u001b[0m\u001b[1;33m\u001b[0m\u001b[0m\n\u001b[0;32m      5\u001b[0m     \u001b[0mpct\u001b[0m \u001b[1;33m=\u001b[0m \u001b[0mwin\u001b[0m\u001b[1;33m/\u001b[0m\u001b[1;33m(\u001b[0m\u001b[0mwin\u001b[0m\u001b[1;33m+\u001b[0m\u001b[0mloss\u001b[0m\u001b[1;33m)\u001b[0m\u001b[1;33m*\u001b[0m\u001b[1;36m100\u001b[0m\u001b[1;33m\u001b[0m\u001b[0m\n",
      "\u001b[1;31mValueError\u001b[0m: not enough values to unpack (expected 2, got 1)"
     ]
    }
   ],
   "source": [
    "stats(triples)"
   ]
  },
  {
   "cell_type": "markdown",
   "metadata": {},
   "source": [
    "### So he plays slightly better in doubles matches. Let's see if he plays better with certain partners "
   ]
  },
  {
   "cell_type": "code",
   "execution_count": 11,
   "metadata": {
    "collapsed": true
   },
   "outputs": [],
   "source": [
    "dub = dub[['European_player','American_player','America_won','America_lost']]\n",
    "dub['Partner']=dub['American_player'].str.replace('Earl Strickland','')\n",
    "dub['Partner']=dub['Partner'].str.replace('&','')\n",
    "dub['Partner']=dub['Partner'].str.strip()"
   ]
  },
  {
   "cell_type": "code",
   "execution_count": 26,
   "metadata": {
    "scrolled": true
   },
   "outputs": [
    {
     "data": {
      "text/html": [
       "<div>\n",
       "<table border=\"1\" class=\"dataframe\">\n",
       "  <thead>\n",
       "    <tr style=\"text-align: right;\">\n",
       "      <th></th>\n",
       "      <th></th>\n",
       "      <th></th>\n",
       "      <th>European_player</th>\n",
       "      <th>American_player</th>\n",
       "      <th>America_won</th>\n",
       "      <th>America_lost</th>\n",
       "      <th>Partner</th>\n",
       "    </tr>\n",
       "    <tr>\n",
       "      <th>Year</th>\n",
       "      <th>Location</th>\n",
       "      <th>Match</th>\n",
       "      <th></th>\n",
       "      <th></th>\n",
       "      <th></th>\n",
       "      <th></th>\n",
       "      <th></th>\n",
       "    </tr>\n",
       "  </thead>\n",
       "  <tbody>\n",
       "    <tr>\n",
       "      <th>1996</th>\n",
       "      <th>Dagenham, London, England</th>\n",
       "      <th>27</th>\n",
       "      <td>Steve Davis Ronnie O'Sullivan</td>\n",
       "      <td>Earl Strickland C.J. Wiley</td>\n",
       "      <td>True</td>\n",
       "      <td>False</td>\n",
       "      <td>C.J. Wiley</td>\n",
       "    </tr>\n",
       "    <tr>\n",
       "      <th>2007</th>\n",
       "      <th>Las Vegas, Nevada, USA</th>\n",
       "      <th>3</th>\n",
       "      <td>Tony Drago Konstantin Stepanov</td>\n",
       "      <td>Earl Strickland Corey Deuel</td>\n",
       "      <td>True</td>\n",
       "      <td>False</td>\n",
       "      <td>Corey Deuel</td>\n",
       "    </tr>\n",
       "    <tr>\n",
       "      <th rowspan=\"2\" valign=\"top\">2000</th>\n",
       "      <th rowspan=\"2\" valign=\"top\">Bethnal Green, London, England</th>\n",
       "      <th>4</th>\n",
       "      <td>Steve Davis Mika Immonen</td>\n",
       "      <td>Earl Strickland Corey Deuel</td>\n",
       "      <td>False</td>\n",
       "      <td>True</td>\n",
       "      <td>Corey Deuel</td>\n",
       "    </tr>\n",
       "    <tr>\n",
       "      <th>2</th>\n",
       "      <td>Steve Davis Steve Knight</td>\n",
       "      <td>Earl Strickland Corey Deuel</td>\n",
       "      <td>True</td>\n",
       "      <td>False</td>\n",
       "      <td>Corey Deuel</td>\n",
       "    </tr>\n",
       "    <tr>\n",
       "      <th>2013</th>\n",
       "      <th>Las Vegas, Nevada, USA</th>\n",
       "      <th>10</th>\n",
       "      <td>Darren Appleton Ralf Souquet</td>\n",
       "      <td>Earl Strickland Dennis Hatch</td>\n",
       "      <td>False</td>\n",
       "      <td>True</td>\n",
       "      <td>Dennis Hatch</td>\n",
       "    </tr>\n",
       "    <tr>\n",
       "      <th>1998</th>\n",
       "      <th>Bethnal Green, London, England</th>\n",
       "      <th>3</th>\n",
       "      <td>Mika Immonen Ralf Souquet</td>\n",
       "      <td>James Rempe Earl Strickland</td>\n",
       "      <td>False</td>\n",
       "      <td>True</td>\n",
       "      <td>James Rempe</td>\n",
       "    </tr>\n",
       "    <tr>\n",
       "      <th>1997</th>\n",
       "      <th>Bethnal Green, London, England</th>\n",
       "      <th>2</th>\n",
       "      <td>Oliver Ortmann Steve Davis</td>\n",
       "      <td>Earl Strickland James Rempe</td>\n",
       "      <td>True</td>\n",
       "      <td>False</td>\n",
       "      <td>James Rempe</td>\n",
       "    </tr>\n",
       "    <tr>\n",
       "      <th rowspan=\"2\" valign=\"top\">1999</th>\n",
       "      <th rowspan=\"2\" valign=\"top\">Bethnal Green, London, England</th>\n",
       "      <th>1</th>\n",
       "      <td>Oliver Ortmann Alex Lely</td>\n",
       "      <td>Earl Strickland James Rempe</td>\n",
       "      <td>True</td>\n",
       "      <td>False</td>\n",
       "      <td>James Rempe</td>\n",
       "    </tr>\n",
       "    <tr>\n",
       "      <th>4</th>\n",
       "      <td>Steve Knight Mika Immonen</td>\n",
       "      <td>Earl Strickland James Rempe</td>\n",
       "      <td>False</td>\n",
       "      <td>True</td>\n",
       "      <td>James Rempe</td>\n",
       "    </tr>\n",
       "    <tr>\n",
       "      <th>1998</th>\n",
       "      <th>Bethnal Green, London, England</th>\n",
       "      <th>1</th>\n",
       "      <td>Oliver Ortmann Steve Knight</td>\n",
       "      <td>James Rempe Earl Strickland</td>\n",
       "      <td>False</td>\n",
       "      <td>True</td>\n",
       "      <td>James Rempe</td>\n",
       "    </tr>\n",
       "    <tr>\n",
       "      <th rowspan=\"2\" valign=\"top\">1997</th>\n",
       "      <th rowspan=\"2\" valign=\"top\">Bethnal Green, London, England</th>\n",
       "      <th>9</th>\n",
       "      <td>Tommy Donlon Oliver Ortmann</td>\n",
       "      <td>Earl Strickland James Rempe</td>\n",
       "      <td>True</td>\n",
       "      <td>False</td>\n",
       "      <td>James Rempe</td>\n",
       "    </tr>\n",
       "    <tr>\n",
       "      <th>4</th>\n",
       "      <td>Steve Davis Ronnie O'Sullivan</td>\n",
       "      <td>Earl Strickland James Rempe</td>\n",
       "      <td>True</td>\n",
       "      <td>False</td>\n",
       "      <td>James Rempe</td>\n",
       "    </tr>\n",
       "    <tr>\n",
       "      <th>2003</th>\n",
       "      <th>Las Vegas, Nevada, USA</th>\n",
       "      <th>3</th>\n",
       "      <td>Steve Davis Nick van den Berg</td>\n",
       "      <td>Earl Strickland Jeremy Jones</td>\n",
       "      <td>True</td>\n",
       "      <td>False</td>\n",
       "      <td>Jeremy Jones</td>\n",
       "    </tr>\n",
       "    <tr>\n",
       "      <th rowspan=\"3\" valign=\"top\">2002</th>\n",
       "      <th rowspan=\"3\" valign=\"top\">Bethnal Green, London, England</th>\n",
       "      <th>5</th>\n",
       "      <td>Steve Davis Nick van den Berg</td>\n",
       "      <td>Earl Strickland Jeremy Jones</td>\n",
       "      <td>False</td>\n",
       "      <td>True</td>\n",
       "      <td>Jeremy Jones</td>\n",
       "    </tr>\n",
       "    <tr>\n",
       "      <th>2</th>\n",
       "      <td>Steve Davis Nick van den Berg</td>\n",
       "      <td>Earl Strickland Jeremy Jones</td>\n",
       "      <td>False</td>\n",
       "      <td>True</td>\n",
       "      <td>Jeremy Jones</td>\n",
       "    </tr>\n",
       "    <tr>\n",
       "      <th>10</th>\n",
       "      <td>Oliver Ortmann Ralf Souquet</td>\n",
       "      <td>Earl Strickland Jeremy Jones</td>\n",
       "      <td>True</td>\n",
       "      <td>False</td>\n",
       "      <td>Jeremy Jones</td>\n",
       "    </tr>\n",
       "    <tr>\n",
       "      <th>2001</th>\n",
       "      <th>Bethnal Green, London, England</th>\n",
       "      <th>2</th>\n",
       "      <td>Steve Davis Ralf Souquet</td>\n",
       "      <td>Earl Strickland Jeremy Jones</td>\n",
       "      <td>True</td>\n",
       "      <td>False</td>\n",
       "      <td>Jeremy Jones</td>\n",
       "    </tr>\n",
       "    <tr>\n",
       "      <th>2000</th>\n",
       "      <th>Bethnal Green, London, England</th>\n",
       "      <th>11</th>\n",
       "      <td>Steve Davis Mika Immonen</td>\n",
       "      <td>Earl Strickland Jeremy Jones</td>\n",
       "      <td>True</td>\n",
       "      <td>False</td>\n",
       "      <td>Jeremy Jones</td>\n",
       "    </tr>\n",
       "    <tr>\n",
       "      <th>2001</th>\n",
       "      <th>Bethnal Green, London, England</th>\n",
       "      <th>3</th>\n",
       "      <td>Steve Davis Ralf Souquet</td>\n",
       "      <td>Earl Strickland Jeremy Jones</td>\n",
       "      <td>True</td>\n",
       "      <td>False</td>\n",
       "      <td>Jeremy Jones</td>\n",
       "    </tr>\n",
       "    <tr>\n",
       "      <th>1999</th>\n",
       "      <th>Bethnal Green, London, England</th>\n",
       "      <th>11</th>\n",
       "      <td>Steve Davis Alex Lely</td>\n",
       "      <td>Earl Strickland Johnny Archer</td>\n",
       "      <td>True</td>\n",
       "      <td>False</td>\n",
       "      <td>Johnny Archer</td>\n",
       "    </tr>\n",
       "    <tr>\n",
       "      <th>2008</th>\n",
       "      <th>St. Julian's, Malta</th>\n",
       "      <th>3</th>\n",
       "      <td>Tony Drago Mark Gray</td>\n",
       "      <td>Earl Strickland Johnny Archer</td>\n",
       "      <td>True</td>\n",
       "      <td>False</td>\n",
       "      <td>Johnny Archer</td>\n",
       "    </tr>\n",
       "    <tr>\n",
       "      <th>1998</th>\n",
       "      <th>Bethnal Green, London, England</th>\n",
       "      <th>10</th>\n",
       "      <td>Steve Knight Oliver Ortmann</td>\n",
       "      <td>Earl Strickland Kim Davenport</td>\n",
       "      <td>True</td>\n",
       "      <td>False</td>\n",
       "      <td>Kim Davenport</td>\n",
       "    </tr>\n",
       "    <tr>\n",
       "      <th>2013</th>\n",
       "      <th>Las Vegas, Nevada, USA</th>\n",
       "      <th>1</th>\n",
       "      <td>Darren Appleton Karl Boyes</td>\n",
       "      <td>Rodney Morris Earl Strickland</td>\n",
       "      <td>False</td>\n",
       "      <td>True</td>\n",
       "      <td>Rodney Morris</td>\n",
       "    </tr>\n",
       "    <tr>\n",
       "      <th>2008</th>\n",
       "      <th>St. Julian's, Malta</th>\n",
       "      <th>8</th>\n",
       "      <td>Niels Feijen Ralf Souquet</td>\n",
       "      <td>Earl Strickland Rodney Morris</td>\n",
       "      <td>False</td>\n",
       "      <td>True</td>\n",
       "      <td>Rodney Morris</td>\n",
       "    </tr>\n",
       "    <tr>\n",
       "      <th>2007</th>\n",
       "      <th>Las Vegas, Nevada, USA</th>\n",
       "      <th>9</th>\n",
       "      <td>Daryl Peach Ralf Souquet</td>\n",
       "      <td>Rodney Morris Earl Strickland</td>\n",
       "      <td>True</td>\n",
       "      <td>False</td>\n",
       "      <td>Rodney Morris</td>\n",
       "    </tr>\n",
       "    <tr>\n",
       "      <th>2006</th>\n",
       "      <th>Rotterdam, Netherlands</th>\n",
       "      <th>10</th>\n",
       "      <td>Mika Immonen David Alcaide</td>\n",
       "      <td>Rodney Morris Earl Strickland</td>\n",
       "      <td>False</td>\n",
       "      <td>True</td>\n",
       "      <td>Rodney Morris</td>\n",
       "    </tr>\n",
       "    <tr>\n",
       "      <th rowspan=\"3\" valign=\"top\">2005</th>\n",
       "      <th rowspan=\"3\" valign=\"top\">Las Vegas, Nevada, USA</th>\n",
       "      <th>12</th>\n",
       "      <td>Marcus Chamat Mika Immonen</td>\n",
       "      <td>Rodney Morris Earl Strickland</td>\n",
       "      <td>True</td>\n",
       "      <td>False</td>\n",
       "      <td>Rodney Morris</td>\n",
       "    </tr>\n",
       "    <tr>\n",
       "      <th>9</th>\n",
       "      <td>Alex Lely Raj Hundal</td>\n",
       "      <td>Earl Strickland Rodney Morris</td>\n",
       "      <td>True</td>\n",
       "      <td>False</td>\n",
       "      <td>Rodney Morris</td>\n",
       "    </tr>\n",
       "    <tr>\n",
       "      <th>4</th>\n",
       "      <td>Mika Immonen Marcus Chamat</td>\n",
       "      <td>Earl Strickland Rodney Morris</td>\n",
       "      <td>True</td>\n",
       "      <td>False</td>\n",
       "      <td>Rodney Morris</td>\n",
       "    </tr>\n",
       "    <tr>\n",
       "      <th rowspan=\"2\" valign=\"top\">2004</th>\n",
       "      <th rowspan=\"2\" valign=\"top\">Egmond aan Zee, Netherlands</th>\n",
       "      <th>11</th>\n",
       "      <td>Mika Immonen Marcus Chamat</td>\n",
       "      <td>Earl Strickland Rodney Morris</td>\n",
       "      <td>True</td>\n",
       "      <td>False</td>\n",
       "      <td>Rodney Morris</td>\n",
       "    </tr>\n",
       "    <tr>\n",
       "      <th>5</th>\n",
       "      <td>Oliver Ortmann Thomas Engert</td>\n",
       "      <td>Earl Strickland Rodney Morris</td>\n",
       "      <td>True</td>\n",
       "      <td>False</td>\n",
       "      <td>Rodney Morris</td>\n",
       "    </tr>\n",
       "    <tr>\n",
       "      <th>2006</th>\n",
       "      <th>Rotterdam, Netherlands</th>\n",
       "      <th>5</th>\n",
       "      <td>Nick van den Berg Imran Majid</td>\n",
       "      <td>Earl Strickland Rodney Morris</td>\n",
       "      <td>False</td>\n",
       "      <td>True</td>\n",
       "      <td>Rodney Morris</td>\n",
       "    </tr>\n",
       "    <tr>\n",
       "      <th>2004</th>\n",
       "      <th>Egmond aan Zee, Netherlands</th>\n",
       "      <th>2</th>\n",
       "      <td>Mika Immonen Marcus Chamat</td>\n",
       "      <td>Earl Strickland Rodney Morris</td>\n",
       "      <td>True</td>\n",
       "      <td>False</td>\n",
       "      <td>Rodney Morris</td>\n",
       "    </tr>\n",
       "    <tr>\n",
       "      <th>2007</th>\n",
       "      <th>Las Vegas, Nevada, USA</th>\n",
       "      <th>5</th>\n",
       "      <td>Daryl Peach Ralf Souquet</td>\n",
       "      <td>Earl Strickland Shane Van Boening</td>\n",
       "      <td>False</td>\n",
       "      <td>True</td>\n",
       "      <td>Shane Van Boening</td>\n",
       "    </tr>\n",
       "    <tr>\n",
       "      <th>2013</th>\n",
       "      <th>Las Vegas, Nevada, USA</th>\n",
       "      <th>7</th>\n",
       "      <td>Darren Appleton Mika Immonen</td>\n",
       "      <td>Earl Strickland Shane Van Boening</td>\n",
       "      <td>True</td>\n",
       "      <td>False</td>\n",
       "      <td>Shane Van Boening</td>\n",
       "    </tr>\n",
       "    <tr>\n",
       "      <th>2003</th>\n",
       "      <th>Las Vegas, Nevada, USA</th>\n",
       "      <th>6</th>\n",
       "      <td>Steve Davis Nick van den Berg</td>\n",
       "      <td>Tony Robles Earl Strickland</td>\n",
       "      <td>True</td>\n",
       "      <td>False</td>\n",
       "      <td>Tony Robles</td>\n",
       "    </tr>\n",
       "  </tbody>\n",
       "</table>\n",
       "</div>"
      ],
      "text/plain": [
       "                                                          European_player  \\\n",
       "Year Location                       Match                                   \n",
       "1996 Dagenham, London, England      27     Steve Davis Ronnie O'Sullivan    \n",
       "2007 Las Vegas, Nevada, USA         3      Tony Drago Konstantin Stepanov   \n",
       "2000 Bethnal Green, London, England 4            Steve Davis Mika Immonen   \n",
       "                                    2            Steve Davis Steve Knight   \n",
       "2013 Las Vegas, Nevada, USA         10       Darren Appleton Ralf Souquet   \n",
       "1998 Bethnal Green, London, England 3           Mika Immonen Ralf Souquet   \n",
       "1997 Bethnal Green, London, England 2         Oliver Ortmann Steve Davis    \n",
       "1999 Bethnal Green, London, England 1            Oliver Ortmann Alex Lely   \n",
       "                                    4           Steve Knight Mika Immonen   \n",
       "1998 Bethnal Green, London, England 1         Oliver Ortmann Steve Knight   \n",
       "1997 Bethnal Green, London, England 9        Tommy Donlon Oliver Ortmann    \n",
       "                                    4      Steve Davis Ronnie O'Sullivan    \n",
       "2003 Las Vegas, Nevada, USA         3       Steve Davis Nick van den Berg   \n",
       "2002 Bethnal Green, London, England 5       Steve Davis Nick van den Berg   \n",
       "                                    2       Steve Davis Nick van den Berg   \n",
       "                                    10        Oliver Ortmann Ralf Souquet   \n",
       "2001 Bethnal Green, London, England 2            Steve Davis Ralf Souquet   \n",
       "2000 Bethnal Green, London, England 11           Steve Davis Mika Immonen   \n",
       "2001 Bethnal Green, London, England 3            Steve Davis Ralf Souquet   \n",
       "1999 Bethnal Green, London, England 11              Steve Davis Alex Lely   \n",
       "2008 St. Julian's, Malta            3                Tony Drago Mark Gray   \n",
       "1998 Bethnal Green, London, England 10        Steve Knight Oliver Ortmann   \n",
       "2013 Las Vegas, Nevada, USA         1          Darren Appleton Karl Boyes   \n",
       "2008 St. Julian's, Malta            8           Niels Feijen Ralf Souquet   \n",
       "2007 Las Vegas, Nevada, USA         9            Daryl Peach Ralf Souquet   \n",
       "2006 Rotterdam, Netherlands         10         Mika Immonen David Alcaide   \n",
       "2005 Las Vegas, Nevada, USA         12         Marcus Chamat Mika Immonen   \n",
       "                                    9                Alex Lely Raj Hundal   \n",
       "                                    4          Mika Immonen Marcus Chamat   \n",
       "2004 Egmond aan Zee, Netherlands    11         Mika Immonen Marcus Chamat   \n",
       "                                    5        Oliver Ortmann Thomas Engert   \n",
       "2006 Rotterdam, Netherlands         5       Nick van den Berg Imran Majid   \n",
       "2004 Egmond aan Zee, Netherlands    2          Mika Immonen Marcus Chamat   \n",
       "2007 Las Vegas, Nevada, USA         5            Daryl Peach Ralf Souquet   \n",
       "2013 Las Vegas, Nevada, USA         7        Darren Appleton Mika Immonen   \n",
       "2003 Las Vegas, Nevada, USA         6       Steve Davis Nick van den Berg   \n",
       "\n",
       "                                                             American_player  \\\n",
       "Year Location                       Match                                      \n",
       "1996 Dagenham, London, England      27           Earl Strickland C.J. Wiley    \n",
       "2007 Las Vegas, Nevada, USA         3            Earl Strickland Corey Deuel   \n",
       "2000 Bethnal Green, London, England 4            Earl Strickland Corey Deuel   \n",
       "                                    2            Earl Strickland Corey Deuel   \n",
       "2013 Las Vegas, Nevada, USA         10          Earl Strickland Dennis Hatch   \n",
       "1998 Bethnal Green, London, England 3            James Rempe Earl Strickland   \n",
       "1997 Bethnal Green, London, England 2           Earl Strickland James Rempe    \n",
       "1999 Bethnal Green, London, England 1            Earl Strickland James Rempe   \n",
       "                                    4            Earl Strickland James Rempe   \n",
       "1998 Bethnal Green, London, England 1            James Rempe Earl Strickland   \n",
       "1997 Bethnal Green, London, England 9           Earl Strickland James Rempe    \n",
       "                                    4           Earl Strickland James Rempe    \n",
       "2003 Las Vegas, Nevada, USA         3           Earl Strickland Jeremy Jones   \n",
       "2002 Bethnal Green, London, England 5           Earl Strickland Jeremy Jones   \n",
       "                                    2           Earl Strickland Jeremy Jones   \n",
       "                                    10          Earl Strickland Jeremy Jones   \n",
       "2001 Bethnal Green, London, England 2           Earl Strickland Jeremy Jones   \n",
       "2000 Bethnal Green, London, England 11          Earl Strickland Jeremy Jones   \n",
       "2001 Bethnal Green, London, England 3           Earl Strickland Jeremy Jones   \n",
       "1999 Bethnal Green, London, England 11         Earl Strickland Johnny Archer   \n",
       "2008 St. Julian's, Malta            3          Earl Strickland Johnny Archer   \n",
       "1998 Bethnal Green, London, England 10         Earl Strickland Kim Davenport   \n",
       "2013 Las Vegas, Nevada, USA         1          Rodney Morris Earl Strickland   \n",
       "2008 St. Julian's, Malta            8          Earl Strickland Rodney Morris   \n",
       "2007 Las Vegas, Nevada, USA         9          Rodney Morris Earl Strickland   \n",
       "2006 Rotterdam, Netherlands         10         Rodney Morris Earl Strickland   \n",
       "2005 Las Vegas, Nevada, USA         12         Rodney Morris Earl Strickland   \n",
       "                                    9          Earl Strickland Rodney Morris   \n",
       "                                    4          Earl Strickland Rodney Morris   \n",
       "2004 Egmond aan Zee, Netherlands    11         Earl Strickland Rodney Morris   \n",
       "                                    5          Earl Strickland Rodney Morris   \n",
       "2006 Rotterdam, Netherlands         5          Earl Strickland Rodney Morris   \n",
       "2004 Egmond aan Zee, Netherlands    2          Earl Strickland Rodney Morris   \n",
       "2007 Las Vegas, Nevada, USA         5      Earl Strickland Shane Van Boening   \n",
       "2013 Las Vegas, Nevada, USA         7      Earl Strickland Shane Van Boening   \n",
       "2003 Las Vegas, Nevada, USA         6            Tony Robles Earl Strickland   \n",
       "\n",
       "                                          America_won America_lost  \\\n",
       "Year Location                       Match                            \n",
       "1996 Dagenham, London, England      27           True        False   \n",
       "2007 Las Vegas, Nevada, USA         3            True        False   \n",
       "2000 Bethnal Green, London, England 4           False         True   \n",
       "                                    2            True        False   \n",
       "2013 Las Vegas, Nevada, USA         10          False         True   \n",
       "1998 Bethnal Green, London, England 3           False         True   \n",
       "1997 Bethnal Green, London, England 2            True        False   \n",
       "1999 Bethnal Green, London, England 1            True        False   \n",
       "                                    4           False         True   \n",
       "1998 Bethnal Green, London, England 1           False         True   \n",
       "1997 Bethnal Green, London, England 9            True        False   \n",
       "                                    4            True        False   \n",
       "2003 Las Vegas, Nevada, USA         3            True        False   \n",
       "2002 Bethnal Green, London, England 5           False         True   \n",
       "                                    2           False         True   \n",
       "                                    10           True        False   \n",
       "2001 Bethnal Green, London, England 2            True        False   \n",
       "2000 Bethnal Green, London, England 11           True        False   \n",
       "2001 Bethnal Green, London, England 3            True        False   \n",
       "1999 Bethnal Green, London, England 11           True        False   \n",
       "2008 St. Julian's, Malta            3            True        False   \n",
       "1998 Bethnal Green, London, England 10           True        False   \n",
       "2013 Las Vegas, Nevada, USA         1           False         True   \n",
       "2008 St. Julian's, Malta            8           False         True   \n",
       "2007 Las Vegas, Nevada, USA         9            True        False   \n",
       "2006 Rotterdam, Netherlands         10          False         True   \n",
       "2005 Las Vegas, Nevada, USA         12           True        False   \n",
       "                                    9            True        False   \n",
       "                                    4            True        False   \n",
       "2004 Egmond aan Zee, Netherlands    11           True        False   \n",
       "                                    5            True        False   \n",
       "2006 Rotterdam, Netherlands         5           False         True   \n",
       "2004 Egmond aan Zee, Netherlands    2            True        False   \n",
       "2007 Las Vegas, Nevada, USA         5           False         True   \n",
       "2013 Las Vegas, Nevada, USA         7            True        False   \n",
       "2003 Las Vegas, Nevada, USA         6            True        False   \n",
       "\n",
       "                                                     Partner  \n",
       "Year Location                       Match                     \n",
       "1996 Dagenham, London, England      27            C.J. Wiley  \n",
       "2007 Las Vegas, Nevada, USA         3            Corey Deuel  \n",
       "2000 Bethnal Green, London, England 4            Corey Deuel  \n",
       "                                    2            Corey Deuel  \n",
       "2013 Las Vegas, Nevada, USA         10          Dennis Hatch  \n",
       "1998 Bethnal Green, London, England 3            James Rempe  \n",
       "1997 Bethnal Green, London, England 2            James Rempe  \n",
       "1999 Bethnal Green, London, England 1            James Rempe  \n",
       "                                    4            James Rempe  \n",
       "1998 Bethnal Green, London, England 1            James Rempe  \n",
       "1997 Bethnal Green, London, England 9            James Rempe  \n",
       "                                    4            James Rempe  \n",
       "2003 Las Vegas, Nevada, USA         3           Jeremy Jones  \n",
       "2002 Bethnal Green, London, England 5           Jeremy Jones  \n",
       "                                    2           Jeremy Jones  \n",
       "                                    10          Jeremy Jones  \n",
       "2001 Bethnal Green, London, England 2           Jeremy Jones  \n",
       "2000 Bethnal Green, London, England 11          Jeremy Jones  \n",
       "2001 Bethnal Green, London, England 3           Jeremy Jones  \n",
       "1999 Bethnal Green, London, England 11         Johnny Archer  \n",
       "2008 St. Julian's, Malta            3          Johnny Archer  \n",
       "1998 Bethnal Green, London, England 10         Kim Davenport  \n",
       "2013 Las Vegas, Nevada, USA         1          Rodney Morris  \n",
       "2008 St. Julian's, Malta            8          Rodney Morris  \n",
       "2007 Las Vegas, Nevada, USA         9          Rodney Morris  \n",
       "2006 Rotterdam, Netherlands         10         Rodney Morris  \n",
       "2005 Las Vegas, Nevada, USA         12         Rodney Morris  \n",
       "                                    9          Rodney Morris  \n",
       "                                    4          Rodney Morris  \n",
       "2004 Egmond aan Zee, Netherlands    11         Rodney Morris  \n",
       "                                    5          Rodney Morris  \n",
       "2006 Rotterdam, Netherlands         5          Rodney Morris  \n",
       "2004 Egmond aan Zee, Netherlands    2          Rodney Morris  \n",
       "2007 Las Vegas, Nevada, USA         5      Shane Van Boening  \n",
       "2013 Las Vegas, Nevada, USA         7      Shane Van Boening  \n",
       "2003 Las Vegas, Nevada, USA         6            Tony Robles  "
      ]
     },
     "execution_count": 26,
     "metadata": {},
     "output_type": "execute_result"
    }
   ],
   "source": [
    "dub.sort_values('Partner')"
   ]
  },
  {
   "cell_type": "code",
   "execution_count": 27,
   "metadata": {},
   "outputs": [
    {
     "data": {
      "text/html": [
       "<div>\n",
       "<table border=\"1\" class=\"dataframe\">\n",
       "  <thead>\n",
       "    <tr style=\"text-align: right;\">\n",
       "      <th></th>\n",
       "      <th>America_won</th>\n",
       "      <th>America_lost</th>\n",
       "    </tr>\n",
       "    <tr>\n",
       "      <th>Partner</th>\n",
       "      <th></th>\n",
       "      <th></th>\n",
       "    </tr>\n",
       "  </thead>\n",
       "  <tbody>\n",
       "    <tr>\n",
       "      <th>C.J. Wiley</th>\n",
       "      <td>1.0</td>\n",
       "      <td>0.0</td>\n",
       "    </tr>\n",
       "    <tr>\n",
       "      <th>Corey Deuel</th>\n",
       "      <td>2.0</td>\n",
       "      <td>1.0</td>\n",
       "    </tr>\n",
       "    <tr>\n",
       "      <th>Dennis Hatch</th>\n",
       "      <td>0.0</td>\n",
       "      <td>1.0</td>\n",
       "    </tr>\n",
       "    <tr>\n",
       "      <th>James Rempe</th>\n",
       "      <td>4.0</td>\n",
       "      <td>3.0</td>\n",
       "    </tr>\n",
       "    <tr>\n",
       "      <th>Jeremy Jones</th>\n",
       "      <td>5.0</td>\n",
       "      <td>2.0</td>\n",
       "    </tr>\n",
       "    <tr>\n",
       "      <th>Johnny Archer</th>\n",
       "      <td>2.0</td>\n",
       "      <td>0.0</td>\n",
       "    </tr>\n",
       "    <tr>\n",
       "      <th>Kim Davenport</th>\n",
       "      <td>1.0</td>\n",
       "      <td>0.0</td>\n",
       "    </tr>\n",
       "    <tr>\n",
       "      <th>Rodney Morris</th>\n",
       "      <td>7.0</td>\n",
       "      <td>4.0</td>\n",
       "    </tr>\n",
       "    <tr>\n",
       "      <th>Shane Van Boening</th>\n",
       "      <td>1.0</td>\n",
       "      <td>1.0</td>\n",
       "    </tr>\n",
       "    <tr>\n",
       "      <th>Tony Robles</th>\n",
       "      <td>1.0</td>\n",
       "      <td>0.0</td>\n",
       "    </tr>\n",
       "  </tbody>\n",
       "</table>\n",
       "</div>"
      ],
      "text/plain": [
       "                   America_won  America_lost\n",
       "Partner                                     \n",
       "C.J. Wiley                 1.0           0.0\n",
       "Corey Deuel                2.0           1.0\n",
       "Dennis Hatch               0.0           1.0\n",
       "James Rempe                4.0           3.0\n",
       "Jeremy Jones               5.0           2.0\n",
       "Johnny Archer              2.0           0.0\n",
       "Kim Davenport              1.0           0.0\n",
       "Rodney Morris              7.0           4.0\n",
       "Shane Van Boening          1.0           1.0\n",
       "Tony Robles                1.0           0.0"
      ]
     },
     "execution_count": 27,
     "metadata": {},
     "output_type": "execute_result"
    }
   ],
   "source": [
    "dub.groupby('Partner').sum()"
   ]
  },
  {
   "cell_type": "markdown",
   "metadata": {},
   "source": [
    "### Looks like he plays best with Johnny (4-1) and Dennis (2-0) and plays poorly with Rodney (1-4)"
   ]
  },
  {
   "cell_type": "markdown",
   "metadata": {},
   "source": [
    "More questions to answer:\n",
    "1. Does shane play better or worse against certain opponents?\n",
    "2. Has shane's performance changed over the years?"
   ]
  },
  {
   "cell_type": "code",
   "execution_count": 22,
   "metadata": {},
   "outputs": [
    {
     "data": {
      "text/html": [
       "<div>\n",
       "<table border=\"1\" class=\"dataframe\">\n",
       "  <thead>\n",
       "    <tr style=\"text-align: right;\">\n",
       "      <th></th>\n",
       "      <th>America_won</th>\n",
       "      <th>America_lost</th>\n",
       "    </tr>\n",
       "    <tr>\n",
       "      <th>European_player</th>\n",
       "      <th></th>\n",
       "      <th></th>\n",
       "    </tr>\n",
       "  </thead>\n",
       "  <tbody>\n",
       "    <tr>\n",
       "      <th>Karl Boyes</th>\n",
       "      <td>0.0</td>\n",
       "      <td>1.0</td>\n",
       "    </tr>\n",
       "    <tr>\n",
       "      <th>Oliver Ortmann</th>\n",
       "      <td>0.0</td>\n",
       "      <td>1.0</td>\n",
       "    </tr>\n",
       "    <tr>\n",
       "      <th>Oliver Ortmann</th>\n",
       "      <td>0.0</td>\n",
       "      <td>1.0</td>\n",
       "    </tr>\n",
       "    <tr>\n",
       "      <th>Ronnie O'Sullivan</th>\n",
       "      <td>0.0</td>\n",
       "      <td>1.0</td>\n",
       "    </tr>\n",
       "    <tr>\n",
       "      <th>Steve Davis</th>\n",
       "      <td>0.0</td>\n",
       "      <td>2.0</td>\n",
       "    </tr>\n",
       "    <tr>\n",
       "      <th>Daryl Peach</th>\n",
       "      <td>1.0</td>\n",
       "      <td>0.0</td>\n",
       "    </tr>\n",
       "    <tr>\n",
       "      <th>Mika Immonen</th>\n",
       "      <td>1.0</td>\n",
       "      <td>1.0</td>\n",
       "    </tr>\n",
       "    <tr>\n",
       "      <th>Mika Immonen</th>\n",
       "      <td>1.0</td>\n",
       "      <td>0.0</td>\n",
       "    </tr>\n",
       "    <tr>\n",
       "      <th>Nick van den Berg</th>\n",
       "      <td>1.0</td>\n",
       "      <td>1.0</td>\n",
       "    </tr>\n",
       "    <tr>\n",
       "      <th>Niels Feijen</th>\n",
       "      <td>1.0</td>\n",
       "      <td>0.0</td>\n",
       "    </tr>\n",
       "    <tr>\n",
       "      <th>Ralf Souquet</th>\n",
       "      <td>1.0</td>\n",
       "      <td>2.0</td>\n",
       "    </tr>\n",
       "    <tr>\n",
       "      <th>Steve Knight</th>\n",
       "      <td>1.0</td>\n",
       "      <td>0.0</td>\n",
       "    </tr>\n",
       "    <tr>\n",
       "      <th>Tony Drago</th>\n",
       "      <td>1.0</td>\n",
       "      <td>0.0</td>\n",
       "    </tr>\n",
       "    <tr>\n",
       "      <th>Marcus Chamat</th>\n",
       "      <td>2.0</td>\n",
       "      <td>1.0</td>\n",
       "    </tr>\n",
       "    <tr>\n",
       "      <th>Ralf Souquet</th>\n",
       "      <td>2.0</td>\n",
       "      <td>1.0</td>\n",
       "    </tr>\n",
       "    <tr>\n",
       "      <th>Thomas Engert</th>\n",
       "      <td>2.0</td>\n",
       "      <td>0.0</td>\n",
       "    </tr>\n",
       "  </tbody>\n",
       "</table>\n",
       "</div>"
      ],
      "text/plain": [
       "                    America_won  America_lost\n",
       "European_player                              \n",
       "Karl Boyes                  0.0           1.0\n",
       "Oliver Ortmann              0.0           1.0\n",
       "Oliver Ortmann              0.0           1.0\n",
       "Ronnie O'Sullivan           0.0           1.0\n",
       "Steve Davis                 0.0           2.0\n",
       "Daryl Peach                 1.0           0.0\n",
       "Mika Immonen                1.0           1.0\n",
       "Mika Immonen                1.0           0.0\n",
       "Nick van den Berg           1.0           1.0\n",
       "Niels Feijen                1.0           0.0\n",
       "Ralf Souquet                1.0           2.0\n",
       "Steve Knight                1.0           0.0\n",
       "Tony Drago                  1.0           0.0\n",
       "Marcus Chamat               2.0           1.0\n",
       "Ralf Souquet                2.0           1.0\n",
       "Thomas Engert               2.0           0.0"
      ]
     },
     "execution_count": 22,
     "metadata": {},
     "output_type": "execute_result"
    }
   ],
   "source": [
    "sing.groupby('European_player').sum().sort_values('America_won')"
   ]
  },
  {
   "cell_type": "markdown",
   "metadata": {},
   "source": [
    "## Apparently, he does really poorly against Darren Appleton (1-6) and does well against Nick Van Den Berg (3-0). \n",
    "## Lets see what his record was for each year."
   ]
  },
  {
   "cell_type": "code",
   "execution_count": 16,
   "metadata": {
    "collapsed": true
   },
   "outputs": [],
   "source": [
    "lst =df.index.values.tolist() \n",
    "years = set([])\n",
    "for item in lst:\n",
    "#     print(item[0])\n",
    "    years.add(item[0])\n",
    "years=list(years)"
   ]
  },
  {
   "cell_type": "code",
   "execution_count": 19,
   "metadata": {},
   "outputs": [
    {
     "name": "stdout",
     "output_type": "stream",
     "text": [
      "error in year 1997\n",
      "error in year 2001\n",
      "error in year 2005\n"
     ]
    }
   ],
   "source": [
    "yearly=[]\n",
    "err=[]\n",
    "for year in years:\n",
    "    try:\n",
    "        loss, win = df.loc[year]['America_won'].value_counts(sort=False)\n",
    "    except:\n",
    "        print('error in year {}'.format(year))\n",
    "        err.append(year)\n",
    "    yearly.append((win,loss))"
   ]
  },
  {
   "cell_type": "code",
   "execution_count": 28,
   "metadata": {},
   "outputs": [
    {
     "data": {
      "text/html": [
       "<div>\n",
       "<table border=\"1\" class=\"dataframe\">\n",
       "  <thead>\n",
       "    <tr style=\"text-align: right;\">\n",
       "      <th></th>\n",
       "      <th></th>\n",
       "      <th>Format</th>\n",
       "      <th>European_player</th>\n",
       "      <th>European_score</th>\n",
       "      <th>American_score</th>\n",
       "      <th>American_player</th>\n",
       "      <th>America_won</th>\n",
       "      <th>America_lost</th>\n",
       "    </tr>\n",
       "    <tr>\n",
       "      <th>Location</th>\n",
       "      <th>Match</th>\n",
       "      <th></th>\n",
       "      <th></th>\n",
       "      <th></th>\n",
       "      <th></th>\n",
       "      <th></th>\n",
       "      <th></th>\n",
       "      <th></th>\n",
       "    </tr>\n",
       "  </thead>\n",
       "  <tbody>\n",
       "    <tr>\n",
       "      <th rowspan=\"5\" valign=\"top\">Bethnal Green, London, England</th>\n",
       "      <th>2</th>\n",
       "      <td>Doubles</td>\n",
       "      <td>Oliver Ortmann Steve Davis</td>\n",
       "      <td>1</td>\n",
       "      <td>2</td>\n",
       "      <td>Earl Strickland James Rempe</td>\n",
       "      <td>True</td>\n",
       "      <td>False</td>\n",
       "    </tr>\n",
       "    <tr>\n",
       "      <th>4</th>\n",
       "      <td>Doubles</td>\n",
       "      <td>Steve Davis Ronnie O'Sullivan</td>\n",
       "      <td>1</td>\n",
       "      <td>2</td>\n",
       "      <td>Earl Strickland James Rempe</td>\n",
       "      <td>True</td>\n",
       "      <td>False</td>\n",
       "    </tr>\n",
       "    <tr>\n",
       "      <th>8</th>\n",
       "      <td>Singles</td>\n",
       "      <td>Ralf Souquet</td>\n",
       "      <td>1</td>\n",
       "      <td>2</td>\n",
       "      <td>Earl Strickland</td>\n",
       "      <td>True</td>\n",
       "      <td>False</td>\n",
       "    </tr>\n",
       "    <tr>\n",
       "      <th>9</th>\n",
       "      <td>Doubles</td>\n",
       "      <td>Tommy Donlon Oliver Ortmann</td>\n",
       "      <td>1</td>\n",
       "      <td>2</td>\n",
       "      <td>Earl Strickland James Rempe</td>\n",
       "      <td>True</td>\n",
       "      <td>False</td>\n",
       "    </tr>\n",
       "    <tr>\n",
       "      <th>17</th>\n",
       "      <td>Singles</td>\n",
       "      <td>Ralf Souquet</td>\n",
       "      <td>0</td>\n",
       "      <td>2</td>\n",
       "      <td>Earl Strickland</td>\n",
       "      <td>True</td>\n",
       "      <td>False</td>\n",
       "    </tr>\n",
       "  </tbody>\n",
       "</table>\n",
       "</div>"
      ],
      "text/plain": [
       "                                       Format                 European_player  \\\n",
       "Location                       Match                                            \n",
       "Bethnal Green, London, England 2      Doubles     Oliver Ortmann Steve Davis    \n",
       "                               4      Doubles  Steve Davis Ronnie O'Sullivan    \n",
       "                               8      Singles                   Ralf Souquet    \n",
       "                               9      Doubles    Tommy Donlon Oliver Ortmann    \n",
       "                               17     Singles                   Ralf Souquet    \n",
       "\n",
       "                                     European_score American_score  \\\n",
       "Location                       Match                                 \n",
       "Bethnal Green, London, England 2                  1              2   \n",
       "                               4                  1              2   \n",
       "                               8                  1              2   \n",
       "                               9                  1              2   \n",
       "                               17                 0              2   \n",
       "\n",
       "                                                   American_player  \\\n",
       "Location                       Match                                 \n",
       "Bethnal Green, London, England 2      Earl Strickland James Rempe    \n",
       "                               4      Earl Strickland James Rempe    \n",
       "                               8                  Earl Strickland    \n",
       "                               9      Earl Strickland James Rempe    \n",
       "                               17                 Earl Strickland    \n",
       "\n",
       "                                     America_won America_lost  \n",
       "Location                       Match                           \n",
       "Bethnal Green, London, England 2            True        False  \n",
       "                               4            True        False  \n",
       "                               8            True        False  \n",
       "                               9            True        False  \n",
       "                               17           True        False  "
      ]
     },
     "execution_count": 28,
     "metadata": {},
     "output_type": "execute_result"
    },
    {
     "data": {
      "text/html": [
       "<div>\n",
       "<table border=\"1\" class=\"dataframe\">\n",
       "  <thead>\n",
       "    <tr style=\"text-align: right;\">\n",
       "      <th></th>\n",
       "      <th></th>\n",
       "      <th>Format</th>\n",
       "      <th>European_player</th>\n",
       "      <th>European_score</th>\n",
       "      <th>American_score</th>\n",
       "      <th>American_player</th>\n",
       "      <th>America_won</th>\n",
       "      <th>America_lost</th>\n",
       "    </tr>\n",
       "    <tr>\n",
       "      <th>Location</th>\n",
       "      <th>Match</th>\n",
       "      <th></th>\n",
       "      <th></th>\n",
       "      <th></th>\n",
       "      <th></th>\n",
       "      <th></th>\n",
       "      <th></th>\n",
       "      <th></th>\n",
       "    </tr>\n",
       "  </thead>\n",
       "  <tbody>\n",
       "    <tr>\n",
       "      <th rowspan=\"3\" valign=\"top\">Bethnal Green, London, England</th>\n",
       "      <th>2</th>\n",
       "      <td>Doubles</td>\n",
       "      <td>Steve Davis Ralf Souquet</td>\n",
       "      <td>2</td>\n",
       "      <td>5</td>\n",
       "      <td>Earl Strickland Jeremy Jones</td>\n",
       "      <td>True</td>\n",
       "      <td>False</td>\n",
       "    </tr>\n",
       "    <tr>\n",
       "      <th>3</th>\n",
       "      <td>Doubles</td>\n",
       "      <td>Steve Davis Ralf Souquet</td>\n",
       "      <td>2</td>\n",
       "      <td>5</td>\n",
       "      <td>Earl Strickland Jeremy Jones</td>\n",
       "      <td>True</td>\n",
       "      <td>False</td>\n",
       "    </tr>\n",
       "    <tr>\n",
       "      <th>10</th>\n",
       "      <td>Singles</td>\n",
       "      <td>Niels Feijen</td>\n",
       "      <td>2</td>\n",
       "      <td>5</td>\n",
       "      <td>Earl Strickland</td>\n",
       "      <td>True</td>\n",
       "      <td>False</td>\n",
       "    </tr>\n",
       "  </tbody>\n",
       "</table>\n",
       "</div>"
      ],
      "text/plain": [
       "                                       Format           European_player  \\\n",
       "Location                       Match                                      \n",
       "Bethnal Green, London, England 2      Doubles  Steve Davis Ralf Souquet   \n",
       "                               3      Doubles  Steve Davis Ralf Souquet   \n",
       "                               10     Singles              Niels Feijen   \n",
       "\n",
       "                                     European_score American_score  \\\n",
       "Location                       Match                                 \n",
       "Bethnal Green, London, England 2                  2              5   \n",
       "                               3                  2              5   \n",
       "                               10                 2              5   \n",
       "\n",
       "                                                   American_player  \\\n",
       "Location                       Match                                 \n",
       "Bethnal Green, London, England 2      Earl Strickland Jeremy Jones   \n",
       "                               3      Earl Strickland Jeremy Jones   \n",
       "                               10                  Earl Strickland   \n",
       "\n",
       "                                     America_won America_lost  \n",
       "Location                       Match                           \n",
       "Bethnal Green, London, England 2            True        False  \n",
       "                               3            True        False  \n",
       "                               10           True        False  "
      ]
     },
     "execution_count": 28,
     "metadata": {},
     "output_type": "execute_result"
    },
    {
     "data": {
      "text/html": [
       "<div>\n",
       "<table border=\"1\" class=\"dataframe\">\n",
       "  <thead>\n",
       "    <tr style=\"text-align: right;\">\n",
       "      <th></th>\n",
       "      <th></th>\n",
       "      <th>Format</th>\n",
       "      <th>European_player</th>\n",
       "      <th>European_score</th>\n",
       "      <th>American_score</th>\n",
       "      <th>American_player</th>\n",
       "      <th>America_won</th>\n",
       "      <th>America_lost</th>\n",
       "    </tr>\n",
       "    <tr>\n",
       "      <th>Location</th>\n",
       "      <th>Match</th>\n",
       "      <th></th>\n",
       "      <th></th>\n",
       "      <th></th>\n",
       "      <th></th>\n",
       "      <th></th>\n",
       "      <th></th>\n",
       "      <th></th>\n",
       "    </tr>\n",
       "  </thead>\n",
       "  <tbody>\n",
       "    <tr>\n",
       "      <th rowspan=\"4\" valign=\"top\">Las Vegas, Nevada, USA</th>\n",
       "      <th>4</th>\n",
       "      <td>Doubles</td>\n",
       "      <td>Mika Immonen Marcus Chamat</td>\n",
       "      <td>4</td>\n",
       "      <td>5</td>\n",
       "      <td>Earl Strickland Rodney Morris</td>\n",
       "      <td>True</td>\n",
       "      <td>False</td>\n",
       "    </tr>\n",
       "    <tr>\n",
       "      <th>9</th>\n",
       "      <td>Doubles</td>\n",
       "      <td>Alex Lely Raj Hundal</td>\n",
       "      <td>2</td>\n",
       "      <td>5</td>\n",
       "      <td>Earl Strickland Rodney Morris</td>\n",
       "      <td>True</td>\n",
       "      <td>False</td>\n",
       "    </tr>\n",
       "    <tr>\n",
       "      <th>12</th>\n",
       "      <td>Doubles</td>\n",
       "      <td>Marcus Chamat Mika Immonen</td>\n",
       "      <td>2</td>\n",
       "      <td>5</td>\n",
       "      <td>Rodney Morris Earl Strickland</td>\n",
       "      <td>True</td>\n",
       "      <td>False</td>\n",
       "    </tr>\n",
       "    <tr>\n",
       "      <th>13</th>\n",
       "      <td>Singles</td>\n",
       "      <td>Marcus Chamat</td>\n",
       "      <td>2</td>\n",
       "      <td>5</td>\n",
       "      <td>Earl Strickland</td>\n",
       "      <td>True</td>\n",
       "      <td>False</td>\n",
       "    </tr>\n",
       "  </tbody>\n",
       "</table>\n",
       "</div>"
      ],
      "text/plain": [
       "                               Format             European_player  \\\n",
       "Location               Match                                        \n",
       "Las Vegas, Nevada, USA 4      Doubles  Mika Immonen Marcus Chamat   \n",
       "                       9      Doubles        Alex Lely Raj Hundal   \n",
       "                       12     Doubles  Marcus Chamat Mika Immonen   \n",
       "                       13     Singles               Marcus Chamat   \n",
       "\n",
       "                             European_score American_score  \\\n",
       "Location               Match                                 \n",
       "Las Vegas, Nevada, USA 4                  4              5   \n",
       "                       9                  2              5   \n",
       "                       12                 2              5   \n",
       "                       13                 2              5   \n",
       "\n",
       "                                            American_player America_won  \\\n",
       "Location               Match                                              \n",
       "Las Vegas, Nevada, USA 4      Earl Strickland Rodney Morris        True   \n",
       "                       9      Earl Strickland Rodney Morris        True   \n",
       "                       12     Rodney Morris Earl Strickland        True   \n",
       "                       13                   Earl Strickland        True   \n",
       "\n",
       "                             America_lost  \n",
       "Location               Match               \n",
       "Las Vegas, Nevada, USA 4            False  \n",
       "                       9            False  \n",
       "                       12           False  \n",
       "                       13           False  "
      ]
     },
     "execution_count": 28,
     "metadata": {},
     "output_type": "execute_result"
    }
   ],
   "source": [
    "for year in err:\n",
    "    df.loc[year]"
   ]
  },
  {
   "cell_type": "code",
   "execution_count": 29,
   "metadata": {
    "collapsed": true
   },
   "outputs": [],
   "source": [
    "#manually insert the year 2016 (since he had zero wins, value_counts could not unpack properly to a tuple)\n",
    "yr[1997]=(5,0)\n",
    "yr[2001]=(3,0)\n",
    "yr[2005]=(4,0)"
   ]
  },
  {
   "cell_type": "code",
   "execution_count": 30,
   "metadata": {},
   "outputs": [],
   "source": [
    "yr= {}\n",
    "for k,v in zip(years,yearly):\n",
    "    yr[k]=v"
   ]
  },
  {
   "cell_type": "code",
   "execution_count": 32,
   "metadata": {},
   "outputs": [
    {
     "data": {
      "text/plain": [
       "{1996: (2, 3),\n",
       " 1997: (2, 3),\n",
       " 1998: (3, 2),\n",
       " 1999: (2, 2),\n",
       " 2000: (4, 1),\n",
       " 2001: (4, 1),\n",
       " 2002: (2, 3),\n",
       " 2003: (3, 1),\n",
       " 2004: (3, 2),\n",
       " 2005: (3, 2),\n",
       " 2006: (5, 3),\n",
       " 2007: (4, 2),\n",
       " 2008: (2, 3),\n",
       " 2013: (1, 4)}"
      ]
     },
     "execution_count": 32,
     "metadata": {},
     "output_type": "execute_result"
    }
   ],
   "source": [
    "yr"
   ]
  },
  {
   "cell_type": "markdown",
   "metadata": {},
   "source": [
    "### So his worst years were in 2008 (1-5), 2014 (1-6) and 2016 (0-5), all of which were 'away' games (malta in 08, england in 14&16). Let's dig a bit deeper to see how big of a factor location is for Shane's performance."
   ]
  },
  {
   "cell_type": "markdown",
   "metadata": {},
   "source": [
    "## Shane is regarded as a formidable player on US soil, but is also known for underperforming overseas. Let's see if the location is a major factor in the quality of his performance."
   ]
  },
  {
   "cell_type": "markdown",
   "metadata": {},
   "source": [
    "## Played 10 years total: 5 home (all vegas), 5 away (4 england, 1 malta)"
   ]
  },
  {
   "cell_type": "code",
   "execution_count": 33,
   "metadata": {
    "collapsed": true
   },
   "outputs": [],
   "source": [
    "home = df.loc[(slice(None),'Las Vegas, Nevada, USA'),:]"
   ]
  },
  {
   "cell_type": "code",
   "execution_count": 34,
   "metadata": {},
   "outputs": [
    {
     "data": {
      "text/plain": [
       "False     7\n",
       "True     12\n",
       "Name: America_won, dtype: int64"
      ]
     },
     "execution_count": 34,
     "metadata": {},
     "output_type": "execute_result"
    }
   ],
   "source": [
    "home['America_won'].value_counts(sort=False)"
   ]
  },
  {
   "cell_type": "code",
   "execution_count": 39,
   "metadata": {
    "collapsed": true
   },
   "outputs": [],
   "source": [
    "locs = pickle.load(open('pkl/dloc','rb'))"
   ]
  },
  {
   "cell_type": "code",
   "execution_count": 35,
   "metadata": {
    "collapsed": true
   },
   "outputs": [],
   "source": [
    "#even years are all away matches\n",
    "away = df.loc[[2008,2010,2012,2014,2016]]"
   ]
  },
  {
   "cell_type": "code",
   "execution_count": 36,
   "metadata": {},
   "outputs": [
    {
     "data": {
      "text/plain": [
       "False    3\n",
       "True     2\n",
       "Name: America_won, dtype: int64"
      ]
     },
     "execution_count": 36,
     "metadata": {},
     "output_type": "execute_result"
    }
   ],
   "source": [
    "away['America_won'].value_counts(sort=False)"
   ]
  },
  {
   "cell_type": "code",
   "execution_count": 37,
   "metadata": {},
   "outputs": [
    {
     "data": {
      "text/plain": [
       "('Matches Played: 19', 'Win-loss: 12-7', 'pct: 63.0')"
      ]
     },
     "execution_count": 37,
     "metadata": {},
     "output_type": "execute_result"
    }
   ],
   "source": [
    "stats(home)"
   ]
  },
  {
   "cell_type": "code",
   "execution_count": 38,
   "metadata": {},
   "outputs": [
    {
     "data": {
      "text/plain": [
       "('Matches Played: 5', 'Win-loss: 2-3', 'pct: 40.0')"
      ]
     },
     "execution_count": 38,
     "metadata": {},
     "output_type": "execute_result"
    }
   ],
   "source": [
    "stats(away)"
   ]
  },
  {
   "cell_type": "markdown",
   "metadata": {},
   "source": [
    "# 57% for home games vs 27% for away games is an *extremely* significant difference! "
   ]
  },
  {
   "cell_type": "markdown",
   "metadata": {},
   "source": [
    "### Let's drill down a bit further to parse out his singles and doubles matches for both home and away "
   ]
  },
  {
   "cell_type": "code",
   "execution_count": null,
   "metadata": {
    "collapsed": true
   },
   "outputs": [],
   "source": [
    "hsing = stats(home[home['Format']=='Singles'])"
   ]
  },
  {
   "cell_type": "code",
   "execution_count": null,
   "metadata": {
    "collapsed": true
   },
   "outputs": [],
   "source": [
    "hdub = stats(home[home['Format']=='Doubles'])"
   ]
  },
  {
   "cell_type": "code",
   "execution_count": null,
   "metadata": {
    "collapsed": true
   },
   "outputs": [],
   "source": [
    "asing = stats(away[away['Format']=='Singles'])"
   ]
  },
  {
   "cell_type": "code",
   "execution_count": null,
   "metadata": {
    "collapsed": true
   },
   "outputs": [],
   "source": [
    "adub = stats(away[away['Format']=='Doubles'])"
   ]
  },
  {
   "cell_type": "code",
   "execution_count": null,
   "metadata": {},
   "outputs": [],
   "source": [
    "'Home Singles: {}'.format(hsing)\n",
    "'Home Doubles: {}'.format(hdub)\n",
    "'Away Singles: {}'.format(asing)\n",
    "'Away Doubles: {}'.format(adub)"
   ]
  },
  {
   "cell_type": "markdown",
   "metadata": {},
   "source": [
    "## Not much variation, but he does better in doubles in both cases."
   ]
  }
 ],
 "metadata": {
  "kernelspec": {
   "display_name": "Python 3",
   "language": "python",
   "name": "python3"
  },
  "language_info": {
   "codemirror_mode": {
    "name": "ipython",
    "version": 3
   },
   "file_extension": ".py",
   "mimetype": "text/x-python",
   "name": "python",
   "nbconvert_exporter": "python",
   "pygments_lexer": "ipython3",
   "version": "3.5.2"
  }
 },
 "nbformat": 4,
 "nbformat_minor": 2
}
