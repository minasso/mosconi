{
 "cells": [
  {
   "cell_type": "code",
   "execution_count": 82,
   "metadata": {},
   "outputs": [],
   "source": [
    "import pandas as pd\n",
    "from bs4 import BeautifulSoup\n",
    "import requests"
   ]
  },
  {
   "cell_type": "code",
   "execution_count": 83,
   "metadata": {},
   "outputs": [],
   "source": [
    "url = 'https://en.wikipedia.org/wiki/2018_Mosconi_Cup'\n",
    "res = requests.get(url)\n",
    "soup = BeautifulSoup(res.text,'lxml')\n",
    "tables = soup.find_all('table')\n",
    "tables = tables[4:-1]"
   ]
  },
  {
   "cell_type": "code",
   "execution_count": 84,
   "metadata": {},
   "outputs": [],
   "source": [
    "table=tables[0]"
   ]
  },
  {
   "cell_type": "code",
   "execution_count": 134,
   "metadata": {},
   "outputs": [],
   "source": [
    "rows = table.find_all('tr')[1:-2]\n",
    "form=[]\n",
    "am_player=[]\n",
    "am_score=[]\n",
    "eu_score=[]\n",
    "eu_player=[]"
   ]
  },
  {
   "cell_type": "code",
   "execution_count": 140,
   "metadata": {},
   "outputs": [],
   "source": [
    "row=rows[1]"
   ]
  },
  {
   "cell_type": "code",
   "execution_count": 142,
   "metadata": {},
   "outputs": [
    {
     "data": {
      "text/plain": [
       "<tr>\n",
       "<td align=\"center\">Doubles<br/><a href=\"/wiki/Albin_Ouschan\" title=\"Albin Ouschan\">Albin Ouschan</a><br/>Jayson Shaw\n",
       "</td>\n",
       "<td align=\"center\"><b>5</b>–1\n",
       "</td>\n",
       "<td align=\"center\">Doubles<br/>Billy Thorpe<br/>Skyler Woodward\n",
       "</td></tr>"
      ]
     },
     "execution_count": 142,
     "metadata": {},
     "output_type": "execute_result"
    }
   ],
   "source": [
    "row"
   ]
  },
  {
   "cell_type": "code",
   "execution_count": 225,
   "metadata": {},
   "outputs": [
    {
     "name": "stdout",
     "output_type": "stream",
     "text": [
      "DoublesBilly ThorpeSkyler Woodward\n",
      "\n"
     ]
    }
   ],
   "source": [
    "i=0\n",
    "for td in tds:\n",
    "    i+=1\n",
    "    if i==3:\n",
    "        print(td.text)"
   ]
  },
  {
   "cell_type": "code",
   "execution_count": 189,
   "metadata": {},
   "outputs": [],
   "source": [
    "l=['a','b']"
   ]
  },
  {
   "cell_type": "code",
   "execution_count": 190,
   "metadata": {},
   "outputs": [
    {
     "data": {
      "text/plain": [
       "list"
      ]
     },
     "execution_count": 190,
     "metadata": {},
     "output_type": "execute_result"
    }
   ],
   "source": [
    "type(l)"
   ]
  },
  {
   "cell_type": "code",
   "execution_count": 141,
   "metadata": {},
   "outputs": [
    {
     "ename": "AttributeError",
     "evalue": "'NoneType' object has no attribute 'text'",
     "output_type": "error",
     "traceback": [
      "\u001b[1;31m---------------------------------------------------------------------------\u001b[0m",
      "\u001b[1;31mAttributeError\u001b[0m                            Traceback (most recent call last)",
      "\u001b[1;32m<ipython-input-141-24aebf34cadb>\u001b[0m in \u001b[0;36m<module>\u001b[1;34m\u001b[0m\n\u001b[0;32m     11\u001b[0m             \u001b[0mam_score\u001b[0m\u001b[1;33m.\u001b[0m\u001b[0mappend\u001b[0m\u001b[1;33m(\u001b[0m\u001b[0mb\u001b[0m\u001b[1;33m)\u001b[0m\u001b[1;33m\u001b[0m\u001b[1;33m\u001b[0m\u001b[0m\n\u001b[0;32m     12\u001b[0m         \u001b[1;32melif\u001b[0m \u001b[0mi\u001b[0m\u001b[1;33m==\u001b[0m\u001b[1;36m3\u001b[0m\u001b[1;33m:\u001b[0m\u001b[1;33m\u001b[0m\u001b[1;33m\u001b[0m\u001b[0m\n\u001b[1;32m---> 13\u001b[1;33m             \u001b[0mam_player\u001b[0m\u001b[1;33m.\u001b[0m\u001b[0mappend\u001b[0m\u001b[1;33m(\u001b[0m\u001b[0mtd\u001b[0m\u001b[1;33m.\u001b[0m\u001b[0ma\u001b[0m\u001b[1;33m.\u001b[0m\u001b[0mtext\u001b[0m\u001b[1;33m)\u001b[0m\u001b[1;33m\u001b[0m\u001b[1;33m\u001b[0m\u001b[0m\n\u001b[0m",
      "\u001b[1;31mAttributeError\u001b[0m: 'NoneType' object has no attribute 'text'"
     ]
    }
   ],
   "source": [
    "tds = row.find_all('td')\n",
    "i=0\n",
    "for td in tds:\n",
    "        i+=1\n",
    "        if i==1:\n",
    "            form.append(td.contents[0])\n",
    "            eu_player.append(td.a.text)\n",
    "        elif i==2:\n",
    "            eu,am = (td.text.replace('\\n','').split('–'))\n",
    "            eu_score.append(a)\n",
    "            am_score.append(b)\n",
    "        elif i==3:\n",
    "            am_player.append(td.a.text)"
   ]
  },
  {
   "cell_type": "code",
   "execution_count": 138,
   "metadata": {},
   "outputs": [],
   "source": [
    "df = pd.DataFrame({'Format':form,'American_player':am_player[:],\n",
    "           'American_score':am_score,'European_score':eu_score,\n",
    "           'European_player':eu_player[:]})"
   ]
  },
  {
   "cell_type": "code",
   "execution_count": 139,
   "metadata": {},
   "outputs": [
    {
     "data": {
      "text/html": [
       "<div>\n",
       "<style scoped>\n",
       "    .dataframe tbody tr th:only-of-type {\n",
       "        vertical-align: middle;\n",
       "    }\n",
       "\n",
       "    .dataframe tbody tr th {\n",
       "        vertical-align: top;\n",
       "    }\n",
       "\n",
       "    .dataframe thead th {\n",
       "        text-align: right;\n",
       "    }\n",
       "</style>\n",
       "<table border=\"1\" class=\"dataframe\">\n",
       "  <thead>\n",
       "    <tr style=\"text-align: right;\">\n",
       "      <th></th>\n",
       "      <th>Format</th>\n",
       "      <th>American_player</th>\n",
       "      <th>American_score</th>\n",
       "      <th>European_score</th>\n",
       "      <th>European_player</th>\n",
       "    </tr>\n",
       "  </thead>\n",
       "  <tbody>\n",
       "    <tr>\n",
       "      <th>0</th>\n",
       "      <td>Teams</td>\n",
       "      <td>Team USA</td>\n",
       "      <td>1</td>\n",
       "      <td>5</td>\n",
       "      <td>Team Europe</td>\n",
       "    </tr>\n",
       "  </tbody>\n",
       "</table>\n",
       "</div>"
      ],
      "text/plain": [
       "  Format American_player American_score European_score European_player\n",
       "0  Teams        Team USA              1              5     Team Europe"
      ]
     },
     "execution_count": 139,
     "metadata": {},
     "output_type": "execute_result"
    }
   ],
   "source": [
    "df"
   ]
  },
  {
   "cell_type": "code",
   "execution_count": null,
   "metadata": {},
   "outputs": [],
   "source": []
  },
  {
   "cell_type": "code",
   "execution_count": 133,
   "metadata": {},
   "outputs": [
    {
     "ename": "AttributeError",
     "evalue": "'NoneType' object has no attribute 'text'",
     "output_type": "error",
     "traceback": [
      "\u001b[1;31m---------------------------------------------------------------------------\u001b[0m",
      "\u001b[1;31mAttributeError\u001b[0m                            Traceback (most recent call last)",
      "\u001b[1;32m<ipython-input-133-25dfe1572f51>\u001b[0m in \u001b[0;36m<module>\u001b[1;34m\u001b[0m\n\u001b[0;32m     12\u001b[0m             \u001b[0mam_score\u001b[0m\u001b[1;33m.\u001b[0m\u001b[0mappend\u001b[0m\u001b[1;33m(\u001b[0m\u001b[0mb\u001b[0m\u001b[1;33m)\u001b[0m\u001b[1;33m\u001b[0m\u001b[1;33m\u001b[0m\u001b[0m\n\u001b[0;32m     13\u001b[0m         \u001b[1;32melif\u001b[0m \u001b[0mi\u001b[0m\u001b[1;33m==\u001b[0m\u001b[1;36m3\u001b[0m\u001b[1;33m:\u001b[0m\u001b[1;33m\u001b[0m\u001b[1;33m\u001b[0m\u001b[0m\n\u001b[1;32m---> 14\u001b[1;33m             \u001b[0mam_player\u001b[0m\u001b[1;33m.\u001b[0m\u001b[0mappend\u001b[0m\u001b[1;33m(\u001b[0m\u001b[0mtd\u001b[0m\u001b[1;33m.\u001b[0m\u001b[0ma\u001b[0m\u001b[1;33m.\u001b[0m\u001b[0mtext\u001b[0m\u001b[1;33m)\u001b[0m\u001b[1;33m\u001b[0m\u001b[1;33m\u001b[0m\u001b[0m\n\u001b[0m\u001b[0;32m     15\u001b[0m         \u001b[1;32melse\u001b[0m\u001b[1;33m:\u001b[0m\u001b[1;33m\u001b[0m\u001b[1;33m\u001b[0m\u001b[0m\n\u001b[0;32m     16\u001b[0m             \u001b[1;32mpass\u001b[0m\u001b[1;33m\u001b[0m\u001b[1;33m\u001b[0m\u001b[0m\n",
      "\u001b[1;31mAttributeError\u001b[0m: 'NoneType' object has no attribute 'text'"
     ]
    }
   ],
   "source": [
    "for row in rows:\n",
    "    tds = row.find_all('td')\n",
    "    i=0\n",
    "    for td in tds:\n",
    "        i+=1\n",
    "        if i==1:\n",
    "            form.append(td.contents[0])\n",
    "            eu_player.append(td.a.text)\n",
    "        elif i==2:\n",
    "            eu,am = (td.text.replace('\\n','').split('–'))\n",
    "            eu_score.append(a)\n",
    "            am_score.append(b)\n",
    "        elif i==3:\n",
    "            am_player.append(td.a.text)\n",
    "        else:\n",
    "            pass"
   ]
  },
  {
   "cell_type": "code",
   "execution_count": 73,
   "metadata": {},
   "outputs": [],
   "source": [
    "# I had already did a trial run to get the first table's info into an initial dataframe, now i'm looping the logic\n",
    "for table in tables[1:]:\n",
    "    rows = table.find_all('tr')[1:-2]\n",
    "    form=[]\n",
    "    am_player=[]\n",
    "    am_score=[]\n",
    "    eu_score=[]\n",
    "    eu_player=[]\n",
    "    for row in rows:\n",
    "        tds = row.find_all('td')\n",
    "        i=0\n",
    "        for td in tds:\n",
    "            x=td.text.split('\\n')\n",
    "            i+=1\n",
    "            if i==1:\n",
    "                form.append(x[0])\n",
    "                am_player.append(x[1:])\n",
    "            elif i==2:\n",
    "                a,b=x[0].split('–')\n",
    "                am_score.append(a)\n",
    "                eu_score.append(b)\n",
    "            elif i==3:\n",
    "                eu_player.append(x[1:])\n",
    "    df1 = pd.DataFrame({'Format':form,'American_player':am_player[:],\n",
    "               'American_score':am_score,'European_score':eu_score,\n",
    "               'European_player':eu_player[:]})\n",
    "    df=pd.concat([df,df1])"
   ]
  },
  {
   "cell_type": "code",
   "execution_count": 74,
   "metadata": {},
   "outputs": [
    {
     "data": {
      "text/html": [
       "<div>\n",
       "<style scoped>\n",
       "    .dataframe tbody tr th:only-of-type {\n",
       "        vertical-align: middle;\n",
       "    }\n",
       "\n",
       "    .dataframe tbody tr th {\n",
       "        vertical-align: top;\n",
       "    }\n",
       "\n",
       "    .dataframe thead th {\n",
       "        text-align: right;\n",
       "    }\n",
       "</style>\n",
       "<table border=\"1\" class=\"dataframe\">\n",
       "  <thead>\n",
       "    <tr style=\"text-align: right;\">\n",
       "      <th></th>\n",
       "      <th>Format</th>\n",
       "      <th>American_player</th>\n",
       "      <th>American_score</th>\n",
       "      <th>European_score</th>\n",
       "      <th>European_player</th>\n",
       "    </tr>\n",
       "  </thead>\n",
       "  <tbody>\n",
       "    <tr>\n",
       "      <th>0</th>\n",
       "      <td>TeamsTeam Europe</td>\n",
       "      <td>[]</td>\n",
       "      <td>5</td>\n",
       "      <td>4</td>\n",
       "      <td>[]</td>\n",
       "    </tr>\n",
       "    <tr>\n",
       "      <th>1</th>\n",
       "      <td>DoublesAlbin OuschanJayson Shaw</td>\n",
       "      <td>[]</td>\n",
       "      <td>5</td>\n",
       "      <td>1</td>\n",
       "      <td>[]</td>\n",
       "    </tr>\n",
       "    <tr>\n",
       "      <th>2</th>\n",
       "      <td>SinglesNiels Feijen</td>\n",
       "      <td>[]</td>\n",
       "      <td>3</td>\n",
       "      <td>5</td>\n",
       "      <td>[]</td>\n",
       "    </tr>\n",
       "    <tr>\n",
       "      <th>3</th>\n",
       "      <td>DoublesEklent KaciAlexander Kazakis</td>\n",
       "      <td>[]</td>\n",
       "      <td>1</td>\n",
       "      <td>5</td>\n",
       "      <td>[]</td>\n",
       "    </tr>\n",
       "    <tr>\n",
       "      <th>4</th>\n",
       "      <td>SinglesJayson Shaw</td>\n",
       "      <td>[]</td>\n",
       "      <td>0</td>\n",
       "      <td>5</td>\n",
       "      <td>[]</td>\n",
       "    </tr>\n",
       "    <tr>\n",
       "      <th>0</th>\n",
       "      <td>SinglesJayson Shaw</td>\n",
       "      <td>[]</td>\n",
       "      <td>5</td>\n",
       "      <td>2</td>\n",
       "      <td>[]</td>\n",
       "    </tr>\n",
       "    <tr>\n",
       "      <th>1</th>\n",
       "      <td>DoublesNiels FeijenAlexander Kazakis</td>\n",
       "      <td>[]</td>\n",
       "      <td>3</td>\n",
       "      <td>5</td>\n",
       "      <td>[]</td>\n",
       "    </tr>\n",
       "    <tr>\n",
       "      <th>2</th>\n",
       "      <td>SinglesAlbin Ouschan</td>\n",
       "      <td>[]</td>\n",
       "      <td>5</td>\n",
       "      <td>3</td>\n",
       "      <td>[]</td>\n",
       "    </tr>\n",
       "    <tr>\n",
       "      <th>3</th>\n",
       "      <td>DoublesEklent KaciJayson Shaw</td>\n",
       "      <td>[]</td>\n",
       "      <td>2</td>\n",
       "      <td>5</td>\n",
       "      <td>[]</td>\n",
       "    </tr>\n",
       "    <tr>\n",
       "      <th>4</th>\n",
       "      <td>SinglesEklent Kaci</td>\n",
       "      <td>[]</td>\n",
       "      <td>3</td>\n",
       "      <td>5</td>\n",
       "      <td>[]</td>\n",
       "    </tr>\n",
       "    <tr>\n",
       "      <th>0</th>\n",
       "      <td>DoublesNiels FeijenAlbin Ouschan</td>\n",
       "      <td>[]</td>\n",
       "      <td>4</td>\n",
       "      <td>5</td>\n",
       "      <td>[]</td>\n",
       "    </tr>\n",
       "    <tr>\n",
       "      <th>1</th>\n",
       "      <td>SinglesAlexander Kazakis</td>\n",
       "      <td>[]</td>\n",
       "      <td>3</td>\n",
       "      <td>5</td>\n",
       "      <td>[]</td>\n",
       "    </tr>\n",
       "    <tr>\n",
       "      <th>2</th>\n",
       "      <td>DoublesEklent KaciNiels Feijen</td>\n",
       "      <td>[]</td>\n",
       "      <td>5</td>\n",
       "      <td>4</td>\n",
       "      <td>[]</td>\n",
       "    </tr>\n",
       "    <tr>\n",
       "      <th>3</th>\n",
       "      <td>SinglesJayson Shaw</td>\n",
       "      <td>[]</td>\n",
       "      <td>4</td>\n",
       "      <td>5</td>\n",
       "      <td>[]</td>\n",
       "    </tr>\n",
       "    <tr>\n",
       "      <th>4</th>\n",
       "      <td>DoublesAlexander KazakisAlbin Ouschan</td>\n",
       "      <td>[]</td>\n",
       "      <td>5</td>\n",
       "      <td>1</td>\n",
       "      <td>[]</td>\n",
       "    </tr>\n",
       "    <tr>\n",
       "      <th>0</th>\n",
       "      <td>SinglesAlbin Ouschan</td>\n",
       "      <td>[]</td>\n",
       "      <td>4</td>\n",
       "      <td>5</td>\n",
       "      <td>[]</td>\n",
       "    </tr>\n",
       "    <tr>\n",
       "      <th>1</th>\n",
       "      <td>SinglesJayson Shaw</td>\n",
       "      <td>[]</td>\n",
       "      <td>5</td>\n",
       "      <td>3</td>\n",
       "      <td>[]</td>\n",
       "    </tr>\n",
       "    <tr>\n",
       "      <th>2</th>\n",
       "      <td>SinglesNiels Feijen</td>\n",
       "      <td>[]</td>\n",
       "      <td>5</td>\n",
       "      <td>1</td>\n",
       "      <td>[]</td>\n",
       "    </tr>\n",
       "    <tr>\n",
       "      <th>3</th>\n",
       "      <td>SinglesEklent Kaci</td>\n",
       "      <td>[]</td>\n",
       "      <td>5</td>\n",
       "      <td>2</td>\n",
       "      <td>[]</td>\n",
       "    </tr>\n",
       "    <tr>\n",
       "      <th>4</th>\n",
       "      <td>SinglesAlexander Kazakis</td>\n",
       "      <td>[]</td>\n",
       "      <td>3</td>\n",
       "      <td>5</td>\n",
       "      <td>[]</td>\n",
       "    </tr>\n",
       "  </tbody>\n",
       "</table>\n",
       "</div>"
      ],
      "text/plain": [
       "                                  Format American_player American_score  \\\n",
       "0                       TeamsTeam Europe              []              5   \n",
       "1        DoublesAlbin OuschanJayson Shaw              []              5   \n",
       "2                    SinglesNiels Feijen              []              3   \n",
       "3    DoublesEklent KaciAlexander Kazakis              []              1   \n",
       "4                     SinglesJayson Shaw              []              0   \n",
       "0                     SinglesJayson Shaw              []              5   \n",
       "1   DoublesNiels FeijenAlexander Kazakis              []              3   \n",
       "2                   SinglesAlbin Ouschan              []              5   \n",
       "3          DoublesEklent KaciJayson Shaw              []              2   \n",
       "4                     SinglesEklent Kaci              []              3   \n",
       "0       DoublesNiels FeijenAlbin Ouschan              []              4   \n",
       "1               SinglesAlexander Kazakis              []              3   \n",
       "2         DoublesEklent KaciNiels Feijen              []              5   \n",
       "3                     SinglesJayson Shaw              []              4   \n",
       "4  DoublesAlexander KazakisAlbin Ouschan              []              5   \n",
       "0                   SinglesAlbin Ouschan              []              4   \n",
       "1                     SinglesJayson Shaw              []              5   \n",
       "2                    SinglesNiels Feijen              []              5   \n",
       "3                     SinglesEklent Kaci              []              5   \n",
       "4               SinglesAlexander Kazakis              []              3   \n",
       "\n",
       "  European_score European_player  \n",
       "0              4              []  \n",
       "1              1              []  \n",
       "2              5              []  \n",
       "3              5              []  \n",
       "4              5              []  \n",
       "0              2              []  \n",
       "1              5              []  \n",
       "2              3              []  \n",
       "3              5              []  \n",
       "4              5              []  \n",
       "0              5              []  \n",
       "1              5              []  \n",
       "2              4              []  \n",
       "3              5              []  \n",
       "4              1              []  \n",
       "0              5              []  \n",
       "1              3              []  \n",
       "2              1              []  \n",
       "3              2              []  \n",
       "4              5              []  "
      ]
     },
     "execution_count": 74,
     "metadata": {},
     "output_type": "execute_result"
    }
   ],
   "source": [
    "df"
   ]
  },
  {
   "cell_type": "markdown",
   "metadata": {},
   "source": [
    "Now just need to clean up the [] and make a multiindex"
   ]
  },
  {
   "cell_type": "code",
   "execution_count": 8,
   "metadata": {},
   "outputs": [],
   "source": [
    "df['American_player'] = df['American_player'].apply(lambda x: ', '.join(x))\n",
    "df['European_player'] = df['European_player'].apply(lambda x: ', '.join(x))"
   ]
  },
  {
   "cell_type": "code",
   "execution_count": 9,
   "metadata": {},
   "outputs": [],
   "source": [
    "df.reset_index(inplace=True,drop=True)"
   ]
  },
  {
   "cell_type": "code",
   "execution_count": 10,
   "metadata": {},
   "outputs": [
    {
     "ename": "KeyError",
     "evalue": "\"['index'] not found in axis\"",
     "output_type": "error",
     "traceback": [
      "\u001b[1;31m---------------------------------------------------------------------------\u001b[0m",
      "\u001b[1;31mKeyError\u001b[0m                                  Traceback (most recent call last)",
      "\u001b[1;32m<ipython-input-10-6c947464a6bc>\u001b[0m in \u001b[0;36m<module>\u001b[1;34m\u001b[0m\n\u001b[1;32m----> 1\u001b[1;33m \u001b[0mdf\u001b[0m\u001b[1;33m.\u001b[0m\u001b[0mdrop\u001b[0m\u001b[1;33m(\u001b[0m\u001b[1;34m'index'\u001b[0m\u001b[1;33m,\u001b[0m\u001b[0maxis\u001b[0m\u001b[1;33m=\u001b[0m\u001b[1;36m1\u001b[0m\u001b[1;33m,\u001b[0m\u001b[0minplace\u001b[0m\u001b[1;33m=\u001b[0m\u001b[1;32mTrue\u001b[0m\u001b[1;33m)\u001b[0m\u001b[1;33m\u001b[0m\u001b[1;33m\u001b[0m\u001b[0m\n\u001b[0m",
      "\u001b[1;32m~\\Anaconda3\\lib\\site-packages\\pandas\\core\\frame.py\u001b[0m in \u001b[0;36mdrop\u001b[1;34m(self, labels, axis, index, columns, level, inplace, errors)\u001b[0m\n\u001b[0;32m   3695\u001b[0m                                            \u001b[0mindex\u001b[0m\u001b[1;33m=\u001b[0m\u001b[0mindex\u001b[0m\u001b[1;33m,\u001b[0m \u001b[0mcolumns\u001b[0m\u001b[1;33m=\u001b[0m\u001b[0mcolumns\u001b[0m\u001b[1;33m,\u001b[0m\u001b[1;33m\u001b[0m\u001b[1;33m\u001b[0m\u001b[0m\n\u001b[0;32m   3696\u001b[0m                                            \u001b[0mlevel\u001b[0m\u001b[1;33m=\u001b[0m\u001b[0mlevel\u001b[0m\u001b[1;33m,\u001b[0m \u001b[0minplace\u001b[0m\u001b[1;33m=\u001b[0m\u001b[0minplace\u001b[0m\u001b[1;33m,\u001b[0m\u001b[1;33m\u001b[0m\u001b[1;33m\u001b[0m\u001b[0m\n\u001b[1;32m-> 3697\u001b[1;33m                                            errors=errors)\n\u001b[0m\u001b[0;32m   3698\u001b[0m \u001b[1;33m\u001b[0m\u001b[0m\n\u001b[0;32m   3699\u001b[0m     @rewrite_axis_style_signature('mapper', [('copy', True),\n",
      "\u001b[1;32m~\\Anaconda3\\lib\\site-packages\\pandas\\core\\generic.py\u001b[0m in \u001b[0;36mdrop\u001b[1;34m(self, labels, axis, index, columns, level, inplace, errors)\u001b[0m\n\u001b[0;32m   3109\u001b[0m         \u001b[1;32mfor\u001b[0m \u001b[0maxis\u001b[0m\u001b[1;33m,\u001b[0m \u001b[0mlabels\u001b[0m \u001b[1;32min\u001b[0m \u001b[0maxes\u001b[0m\u001b[1;33m.\u001b[0m\u001b[0mitems\u001b[0m\u001b[1;33m(\u001b[0m\u001b[1;33m)\u001b[0m\u001b[1;33m:\u001b[0m\u001b[1;33m\u001b[0m\u001b[1;33m\u001b[0m\u001b[0m\n\u001b[0;32m   3110\u001b[0m             \u001b[1;32mif\u001b[0m \u001b[0mlabels\u001b[0m \u001b[1;32mis\u001b[0m \u001b[1;32mnot\u001b[0m \u001b[1;32mNone\u001b[0m\u001b[1;33m:\u001b[0m\u001b[1;33m\u001b[0m\u001b[1;33m\u001b[0m\u001b[0m\n\u001b[1;32m-> 3111\u001b[1;33m                 \u001b[0mobj\u001b[0m \u001b[1;33m=\u001b[0m \u001b[0mobj\u001b[0m\u001b[1;33m.\u001b[0m\u001b[0m_drop_axis\u001b[0m\u001b[1;33m(\u001b[0m\u001b[0mlabels\u001b[0m\u001b[1;33m,\u001b[0m \u001b[0maxis\u001b[0m\u001b[1;33m,\u001b[0m \u001b[0mlevel\u001b[0m\u001b[1;33m=\u001b[0m\u001b[0mlevel\u001b[0m\u001b[1;33m,\u001b[0m \u001b[0merrors\u001b[0m\u001b[1;33m=\u001b[0m\u001b[0merrors\u001b[0m\u001b[1;33m)\u001b[0m\u001b[1;33m\u001b[0m\u001b[1;33m\u001b[0m\u001b[0m\n\u001b[0m\u001b[0;32m   3112\u001b[0m \u001b[1;33m\u001b[0m\u001b[0m\n\u001b[0;32m   3113\u001b[0m         \u001b[1;32mif\u001b[0m \u001b[0minplace\u001b[0m\u001b[1;33m:\u001b[0m\u001b[1;33m\u001b[0m\u001b[1;33m\u001b[0m\u001b[0m\n",
      "\u001b[1;32m~\\Anaconda3\\lib\\site-packages\\pandas\\core\\generic.py\u001b[0m in \u001b[0;36m_drop_axis\u001b[1;34m(self, labels, axis, level, errors)\u001b[0m\n\u001b[0;32m   3141\u001b[0m                 \u001b[0mnew_axis\u001b[0m \u001b[1;33m=\u001b[0m \u001b[0maxis\u001b[0m\u001b[1;33m.\u001b[0m\u001b[0mdrop\u001b[0m\u001b[1;33m(\u001b[0m\u001b[0mlabels\u001b[0m\u001b[1;33m,\u001b[0m \u001b[0mlevel\u001b[0m\u001b[1;33m=\u001b[0m\u001b[0mlevel\u001b[0m\u001b[1;33m,\u001b[0m \u001b[0merrors\u001b[0m\u001b[1;33m=\u001b[0m\u001b[0merrors\u001b[0m\u001b[1;33m)\u001b[0m\u001b[1;33m\u001b[0m\u001b[1;33m\u001b[0m\u001b[0m\n\u001b[0;32m   3142\u001b[0m             \u001b[1;32melse\u001b[0m\u001b[1;33m:\u001b[0m\u001b[1;33m\u001b[0m\u001b[1;33m\u001b[0m\u001b[0m\n\u001b[1;32m-> 3143\u001b[1;33m                 \u001b[0mnew_axis\u001b[0m \u001b[1;33m=\u001b[0m \u001b[0maxis\u001b[0m\u001b[1;33m.\u001b[0m\u001b[0mdrop\u001b[0m\u001b[1;33m(\u001b[0m\u001b[0mlabels\u001b[0m\u001b[1;33m,\u001b[0m \u001b[0merrors\u001b[0m\u001b[1;33m=\u001b[0m\u001b[0merrors\u001b[0m\u001b[1;33m)\u001b[0m\u001b[1;33m\u001b[0m\u001b[1;33m\u001b[0m\u001b[0m\n\u001b[0m\u001b[0;32m   3144\u001b[0m             \u001b[0mresult\u001b[0m \u001b[1;33m=\u001b[0m \u001b[0mself\u001b[0m\u001b[1;33m.\u001b[0m\u001b[0mreindex\u001b[0m\u001b[1;33m(\u001b[0m\u001b[1;33m**\u001b[0m\u001b[1;33m{\u001b[0m\u001b[0maxis_name\u001b[0m\u001b[1;33m:\u001b[0m \u001b[0mnew_axis\u001b[0m\u001b[1;33m}\u001b[0m\u001b[1;33m)\u001b[0m\u001b[1;33m\u001b[0m\u001b[1;33m\u001b[0m\u001b[0m\n\u001b[0;32m   3145\u001b[0m \u001b[1;33m\u001b[0m\u001b[0m\n",
      "\u001b[1;32m~\\Anaconda3\\lib\\site-packages\\pandas\\core\\indexes\\base.py\u001b[0m in \u001b[0;36mdrop\u001b[1;34m(self, labels, errors)\u001b[0m\n\u001b[0;32m   4402\u001b[0m             \u001b[1;32mif\u001b[0m \u001b[0merrors\u001b[0m \u001b[1;33m!=\u001b[0m \u001b[1;34m'ignore'\u001b[0m\u001b[1;33m:\u001b[0m\u001b[1;33m\u001b[0m\u001b[1;33m\u001b[0m\u001b[0m\n\u001b[0;32m   4403\u001b[0m                 raise KeyError(\n\u001b[1;32m-> 4404\u001b[1;33m                     '{} not found in axis'.format(labels[mask]))\n\u001b[0m\u001b[0;32m   4405\u001b[0m             \u001b[0mindexer\u001b[0m \u001b[1;33m=\u001b[0m \u001b[0mindexer\u001b[0m\u001b[1;33m[\u001b[0m\u001b[1;33m~\u001b[0m\u001b[0mmask\u001b[0m\u001b[1;33m]\u001b[0m\u001b[1;33m\u001b[0m\u001b[1;33m\u001b[0m\u001b[0m\n\u001b[0;32m   4406\u001b[0m         \u001b[1;32mreturn\u001b[0m \u001b[0mself\u001b[0m\u001b[1;33m.\u001b[0m\u001b[0mdelete\u001b[0m\u001b[1;33m(\u001b[0m\u001b[0mindexer\u001b[0m\u001b[1;33m)\u001b[0m\u001b[1;33m\u001b[0m\u001b[1;33m\u001b[0m\u001b[0m\n",
      "\u001b[1;31mKeyError\u001b[0m: \"['index'] not found in axis\""
     ]
    }
   ],
   "source": [
    "df.drop('index',axis=1,inplace=True)"
   ]
  },
  {
   "cell_type": "code",
   "execution_count": null,
   "metadata": {},
   "outputs": [],
   "source": [
    "df['year']='2017'"
   ]
  },
  {
   "cell_type": "code",
   "execution_count": null,
   "metadata": {},
   "outputs": [],
   "source": [
    "df.index.rename('Match',inplace=True)"
   ]
  },
  {
   "cell_type": "code",
   "execution_count": null,
   "metadata": {},
   "outputs": [],
   "source": [
    "df.rename(columns={'year':'Year'},inplace=True)"
   ]
  },
  {
   "cell_type": "code",
   "execution_count": null,
   "metadata": {},
   "outputs": [],
   "source": [
    "df.reset_index(inplace=True)"
   ]
  },
  {
   "cell_type": "code",
   "execution_count": null,
   "metadata": {},
   "outputs": [],
   "source": [
    "df = df[['Year','Match', 'Format', 'European_player', 'European_score',\n",
    "       'American_score', 'American_player']]"
   ]
  },
  {
   "cell_type": "code",
   "execution_count": null,
   "metadata": {},
   "outputs": [],
   "source": [
    "df"
   ]
  },
  {
   "cell_type": "markdown",
   "metadata": {},
   "source": [
    "Make europe_won column"
   ]
  },
  {
   "cell_type": "code",
   "execution_count": null,
   "metadata": {},
   "outputs": [],
   "source": [
    "df['Europe_won']=df['European_score']>df['American_score']"
   ]
  },
  {
   "cell_type": "code",
   "execution_count": null,
   "metadata": {},
   "outputs": [],
   "source": [
    "df['Europe_won'] = df['Europe_won'].map({True:1,False:0})"
   ]
  },
  {
   "cell_type": "code",
   "execution_count": null,
   "metadata": {},
   "outputs": [],
   "source": [
    "df"
   ]
  },
  {
   "cell_type": "markdown",
   "metadata": {},
   "source": [
    "Instead of team usa put all team members"
   ]
  },
  {
   "cell_type": "code",
   "execution_count": null,
   "metadata": {
    "scrolled": true
   },
   "outputs": [],
   "source": [
    "euro = set(df[df.Format=='Singles']['European_player'])\n",
    "eu = ', '.join(euro)\n",
    "df.loc[0,'European_player']=eu"
   ]
  },
  {
   "cell_type": "code",
   "execution_count": null,
   "metadata": {},
   "outputs": [],
   "source": [
    "amer = set(df[df.Format=='Singles']['American_player'])\n",
    "am = ', '.join(amer)\n",
    "df.loc[0,'American_player']=am"
   ]
  },
  {
   "cell_type": "code",
   "execution_count": 175,
   "metadata": {
    "scrolled": false
   },
   "outputs": [
    {
     "data": {
      "text/html": [
       "<div>\n",
       "<style scoped>\n",
       "    .dataframe tbody tr th:only-of-type {\n",
       "        vertical-align: middle;\n",
       "    }\n",
       "\n",
       "    .dataframe tbody tr th {\n",
       "        vertical-align: top;\n",
       "    }\n",
       "\n",
       "    .dataframe thead th {\n",
       "        text-align: right;\n",
       "    }\n",
       "</style>\n",
       "<table border=\"1\" class=\"dataframe\">\n",
       "  <thead>\n",
       "    <tr style=\"text-align: right;\">\n",
       "      <th></th>\n",
       "      <th>Year</th>\n",
       "      <th>Match</th>\n",
       "      <th>Format</th>\n",
       "      <th>European_player</th>\n",
       "      <th>European_score</th>\n",
       "      <th>American_score</th>\n",
       "      <th>American_player</th>\n",
       "      <th>Europe_won</th>\n",
       "    </tr>\n",
       "  </thead>\n",
       "  <tbody>\n",
       "    <tr>\n",
       "      <th>0</th>\n",
       "      <td>2017</td>\n",
       "      <td>0</td>\n",
       "      <td>Teams</td>\n",
       "      <td>Nick van den Berg, Jayson Shaw, David Alcaide,...</td>\n",
       "      <td>5</td>\n",
       "      <td>3</td>\n",
       "      <td>Dennis Hatch, Billy Thorpe, Shane Van Boening,...</td>\n",
       "      <td>1</td>\n",
       "    </tr>\n",
       "    <tr>\n",
       "      <th>1</th>\n",
       "      <td>2017</td>\n",
       "      <td>1</td>\n",
       "      <td>Doubles</td>\n",
       "      <td>David Alcaide, Jayson Shaw</td>\n",
       "      <td>5</td>\n",
       "      <td>3</td>\n",
       "      <td>Billy Thorpe, Skyler Woodward</td>\n",
       "      <td>1</td>\n",
       "    </tr>\n",
       "    <tr>\n",
       "      <th>2</th>\n",
       "      <td>2017</td>\n",
       "      <td>2</td>\n",
       "      <td>Singles</td>\n",
       "      <td>Joshua Filler</td>\n",
       "      <td>5</td>\n",
       "      <td>4</td>\n",
       "      <td>Dennis Hatch</td>\n",
       "      <td>1</td>\n",
       "    </tr>\n",
       "    <tr>\n",
       "      <th>3</th>\n",
       "      <td>2017</td>\n",
       "      <td>3</td>\n",
       "      <td>Doubles</td>\n",
       "      <td>Ralf Souquet, Nick van den Berg</td>\n",
       "      <td>5</td>\n",
       "      <td>3</td>\n",
       "      <td>Shane Van Boening, Oscar Dominguez</td>\n",
       "      <td>1</td>\n",
       "    </tr>\n",
       "    <tr>\n",
       "      <th>4</th>\n",
       "      <td>2017</td>\n",
       "      <td>4</td>\n",
       "      <td>Singles</td>\n",
       "      <td>Jayson Shaw</td>\n",
       "      <td>1</td>\n",
       "      <td>5</td>\n",
       "      <td>Shane Van Boening</td>\n",
       "      <td>0</td>\n",
       "    </tr>\n",
       "    <tr>\n",
       "      <th>5</th>\n",
       "      <td>2017</td>\n",
       "      <td>5</td>\n",
       "      <td>Doubles</td>\n",
       "      <td>David Alcaide, Nick van den Berg</td>\n",
       "      <td>4</td>\n",
       "      <td>5</td>\n",
       "      <td>Dennis Hatch, Billy Thorpe</td>\n",
       "      <td>0</td>\n",
       "    </tr>\n",
       "    <tr>\n",
       "      <th>6</th>\n",
       "      <td>2017</td>\n",
       "      <td>6</td>\n",
       "      <td>Singles</td>\n",
       "      <td>Ralf Souquet</td>\n",
       "      <td>5</td>\n",
       "      <td>3</td>\n",
       "      <td>Oscar Dominguez</td>\n",
       "      <td>1</td>\n",
       "    </tr>\n",
       "    <tr>\n",
       "      <th>7</th>\n",
       "      <td>2017</td>\n",
       "      <td>7</td>\n",
       "      <td>Doubles</td>\n",
       "      <td>Joshua Filler, Jayson Shaw</td>\n",
       "      <td>5</td>\n",
       "      <td>1</td>\n",
       "      <td>Shane Van Boening, Skyler Woodward</td>\n",
       "      <td>1</td>\n",
       "    </tr>\n",
       "    <tr>\n",
       "      <th>8</th>\n",
       "      <td>2017</td>\n",
       "      <td>8</td>\n",
       "      <td>Singles</td>\n",
       "      <td>David Alcaide</td>\n",
       "      <td>5</td>\n",
       "      <td>1</td>\n",
       "      <td>Skyler Woodward</td>\n",
       "      <td>1</td>\n",
       "    </tr>\n",
       "    <tr>\n",
       "      <th>9</th>\n",
       "      <td>2017</td>\n",
       "      <td>9</td>\n",
       "      <td>Doubles</td>\n",
       "      <td>Joshua Filler, Nick van den Berg</td>\n",
       "      <td>5</td>\n",
       "      <td>0</td>\n",
       "      <td>Shane Van Boening, Billy Thorpe</td>\n",
       "      <td>1</td>\n",
       "    </tr>\n",
       "    <tr>\n",
       "      <th>10</th>\n",
       "      <td>2017</td>\n",
       "      <td>10</td>\n",
       "      <td>Doubles</td>\n",
       "      <td>Jayson Shaw, Ralf Souquet</td>\n",
       "      <td>4</td>\n",
       "      <td>5</td>\n",
       "      <td>Oscar Dominguez, Dennis Hatch</td>\n",
       "      <td>0</td>\n",
       "    </tr>\n",
       "    <tr>\n",
       "      <th>11</th>\n",
       "      <td>2017</td>\n",
       "      <td>11</td>\n",
       "      <td>Singles</td>\n",
       "      <td>Nick van den Berg</td>\n",
       "      <td>4</td>\n",
       "      <td>5</td>\n",
       "      <td>Billy Thorpe</td>\n",
       "      <td>0</td>\n",
       "    </tr>\n",
       "    <tr>\n",
       "      <th>12</th>\n",
       "      <td>2017</td>\n",
       "      <td>12</td>\n",
       "      <td>Doubles</td>\n",
       "      <td>David Alcaide, Ralf Souquet</td>\n",
       "      <td>5</td>\n",
       "      <td>2</td>\n",
       "      <td>Skyler Woodward, Oscar Dominguez</td>\n",
       "      <td>1</td>\n",
       "    </tr>\n",
       "    <tr>\n",
       "      <th>13</th>\n",
       "      <td>2017</td>\n",
       "      <td>13</td>\n",
       "      <td>Singles</td>\n",
       "      <td>Jayson Shaw</td>\n",
       "      <td>5</td>\n",
       "      <td>4</td>\n",
       "      <td>Shane Van Boening</td>\n",
       "      <td>1</td>\n",
       "    </tr>\n",
       "    <tr>\n",
       "      <th>14</th>\n",
       "      <td>2017</td>\n",
       "      <td>14</td>\n",
       "      <td>Singles</td>\n",
       "      <td>Joshua Filler</td>\n",
       "      <td>5</td>\n",
       "      <td>3</td>\n",
       "      <td>Dennis Hatch</td>\n",
       "      <td>1</td>\n",
       "    </tr>\n",
       "  </tbody>\n",
       "</table>\n",
       "</div>"
      ],
      "text/plain": [
       "    Year  Match   Format                                    European_player  \\\n",
       "0   2017      0    Teams  Nick van den Berg, Jayson Shaw, David Alcaide,...   \n",
       "1   2017      1  Doubles                         David Alcaide, Jayson Shaw   \n",
       "2   2017      2  Singles                                      Joshua Filler   \n",
       "3   2017      3  Doubles                    Ralf Souquet, Nick van den Berg   \n",
       "4   2017      4  Singles                                        Jayson Shaw   \n",
       "5   2017      5  Doubles                   David Alcaide, Nick van den Berg   \n",
       "6   2017      6  Singles                                       Ralf Souquet   \n",
       "7   2017      7  Doubles                         Joshua Filler, Jayson Shaw   \n",
       "8   2017      8  Singles                                      David Alcaide   \n",
       "9   2017      9  Doubles                   Joshua Filler, Nick van den Berg   \n",
       "10  2017     10  Doubles                          Jayson Shaw, Ralf Souquet   \n",
       "11  2017     11  Singles                                  Nick van den Berg   \n",
       "12  2017     12  Doubles                        David Alcaide, Ralf Souquet   \n",
       "13  2017     13  Singles                                        Jayson Shaw   \n",
       "14  2017     14  Singles                                      Joshua Filler   \n",
       "\n",
       "   European_score American_score  \\\n",
       "0               5              3   \n",
       "1               5              3   \n",
       "2               5              4   \n",
       "3               5              3   \n",
       "4               1              5   \n",
       "5               4              5   \n",
       "6               5              3   \n",
       "7               5              1   \n",
       "8               5              1   \n",
       "9               5              0   \n",
       "10              4              5   \n",
       "11              4              5   \n",
       "12              5              2   \n",
       "13              5              4   \n",
       "14              5              3   \n",
       "\n",
       "                                      American_player  Europe_won  \n",
       "0   Dennis Hatch, Billy Thorpe, Shane Van Boening,...           1  \n",
       "1                       Billy Thorpe, Skyler Woodward           1  \n",
       "2                                        Dennis Hatch           1  \n",
       "3                  Shane Van Boening, Oscar Dominguez           1  \n",
       "4                                   Shane Van Boening           0  \n",
       "5                          Dennis Hatch, Billy Thorpe           0  \n",
       "6                                     Oscar Dominguez           1  \n",
       "7                  Shane Van Boening, Skyler Woodward           1  \n",
       "8                                     Skyler Woodward           1  \n",
       "9                     Shane Van Boening, Billy Thorpe           1  \n",
       "10                      Oscar Dominguez, Dennis Hatch           0  \n",
       "11                                       Billy Thorpe           0  \n",
       "12                   Skyler Woodward, Oscar Dominguez           1  \n",
       "13                                  Shane Van Boening           1  \n",
       "14                                       Dennis Hatch           1  "
      ]
     },
     "execution_count": 175,
     "metadata": {},
     "output_type": "execute_result"
    }
   ],
   "source": [
    "df"
   ]
  },
  {
   "cell_type": "markdown",
   "metadata": {},
   "source": [
    "Ready to concatenate to other years"
   ]
  },
  {
   "cell_type": "code",
   "execution_count": 132,
   "metadata": {},
   "outputs": [],
   "source": [
    "import sqlite3"
   ]
  },
  {
   "cell_type": "code",
   "execution_count": 133,
   "metadata": {},
   "outputs": [],
   "source": [
    "con = sqlite3.connect('../players.db')"
   ]
  },
  {
   "cell_type": "code",
   "execution_count": 134,
   "metadata": {},
   "outputs": [],
   "source": [
    "sql='select * from results'"
   ]
  },
  {
   "cell_type": "code",
   "execution_count": 135,
   "metadata": {},
   "outputs": [],
   "source": [
    "frame = pd.read_sql(sql,con)"
   ]
  },
  {
   "cell_type": "markdown",
   "metadata": {},
   "source": [
    "f = pd.concat([frame,df])"
   ]
  },
  {
   "cell_type": "markdown",
   "metadata": {},
   "source": [
    "f.reset_index(drop=True,inplace=True)"
   ]
  },
  {
   "cell_type": "markdown",
   "metadata": {},
   "source": [
    "f.to_sql('results',con,if_exists='replace')"
   ]
  }
 ],
 "metadata": {
  "hide_input": false,
  "kernelspec": {
   "display_name": "Python 3",
   "language": "python",
   "name": "python3"
  },
  "language_info": {
   "codemirror_mode": {
    "name": "ipython",
    "version": 3
   },
   "file_extension": ".py",
   "mimetype": "text/x-python",
   "name": "python",
   "nbconvert_exporter": "python",
   "pygments_lexer": "ipython3",
   "version": "3.7.1"
  }
 },
 "nbformat": 4,
 "nbformat_minor": 2
}
