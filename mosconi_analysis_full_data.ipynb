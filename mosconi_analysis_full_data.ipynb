{
 "cells": [
  {
   "cell_type": "code",
   "execution_count": 1,
   "metadata": {
    "collapsed": true
   },
   "outputs": [],
   "source": [
    "import pandas as pd"
   ]
  },
  {
   "cell_type": "code",
   "execution_count": 2,
   "metadata": {
    "collapsed": true
   },
   "outputs": [],
   "source": [
    "pkl='allyears_with_teams'\n",
    "df= pd.read_pickle(pkl)"
   ]
  },
  {
   "cell_type": "markdown",
   "metadata": {},
   "source": [
    "Find a way to loop thru all players and make boolean queries to return their matches played"
   ]
  },
  {
   "cell_type": "code",
   "execution_count": 3,
   "metadata": {
    "collapsed": true
   },
   "outputs": [],
   "source": [
    "#Create lists of players on each team\n",
    "with open('euro_players_scrape.txt', 'r') as rf:\n",
    "    euro_players=[]\n",
    "    for line in rf:\n",
    "        n=line.split('  ')\n",
    "        euro_players.append(n[0])\n",
    "with open('am_players_scrape.txt', 'r') as rf:\n",
    "    am_players=[]\n",
    "    for line in rf:\n",
    "        n=line.split('  ')\n",
    "        am_players.append(n[0])"
   ]
  },
  {
   "cell_type": "code",
   "execution_count": 4,
   "metadata": {
    "collapsed": true
   },
   "outputs": [],
   "source": [
    "#remove non-playing captains and fix oscar's name\n",
    "am_players.remove('Ã“scar DomÃ\\xadnguez')\n",
    "am_players.append('Óscar Domínguez')\n",
    "am_players.remove('Buddy Hall')\n",
    "am_players.remove('Don Wardell ')\n",
    "euro_players.remove('Johan Ruijsink')"
   ]
  },
  {
   "cell_type": "code",
   "execution_count": 6,
   "metadata": {
    "collapsed": true
   },
   "outputs": [],
   "source": [
    "players = am_players + euro_players"
   ]
  },
  {
   "cell_type": "code",
   "execution_count": 121,
   "metadata": {
    "collapsed": true
   },
   "outputs": [],
   "source": [
    "#create player dictionary to boolean index df by player\n",
    "#*note: str.contains allows matches for when there are other characters as well, such as in doubles \n",
    "playerdict={}\n",
    "for player in am_players:\n",
    "    playerdict[player] = df['American_player'].str.contains(player)\n",
    "for player in euro_players:\n",
    "    playerdict[player] = df['European_player'].str.contains(player)"
   ]
  },
  {
   "cell_type": "code",
   "execution_count": 126,
   "metadata": {},
   "outputs": [],
   "source": [
    "#Create function for boolean indexing the dataframe\n",
    "def boolind(df = df, playerdict = playerdict,**kwargs):\n",
    "    if 'form' in kwargs.keys():\n",
    "        df = df[df['Format']==kwargs['form']]\n",
    "    if 'Europe_won' in kwargs.keys():\n",
    "        df = df [df['Europe_won']==kwargs['Europe_won']]\n",
    "    if 'player' in kwargs.keys():\n",
    "        df = df[d[kwargs['player']]]\n",
    "    return(df)"
   ]
  },
  {
   "cell_type": "code",
   "execution_count": 127,
   "metadata": {},
   "outputs": [
    {
     "name": "stderr",
     "output_type": "stream",
     "text": [
      "c:\\users\\andrew\\appdata\\local\\programs\\python\\python35\\lib\\site-packages\\ipykernel\\__main__.py:8: UserWarning: Boolean Series key will be reindexed to match DataFrame index.\n"
     ]
    },
    {
     "data": {
      "text/html": [
       "<div>\n",
       "<table border=\"1\" class=\"dataframe\">\n",
       "  <thead>\n",
       "    <tr style=\"text-align: right;\">\n",
       "      <th></th>\n",
       "      <th></th>\n",
       "      <th>Format</th>\n",
       "      <th>European_player</th>\n",
       "      <th>European_score</th>\n",
       "      <th>American_score</th>\n",
       "      <th>American_player</th>\n",
       "      <th>Europe_won</th>\n",
       "    </tr>\n",
       "    <tr>\n",
       "      <th>Year</th>\n",
       "      <th>Match</th>\n",
       "      <th></th>\n",
       "      <th></th>\n",
       "      <th></th>\n",
       "      <th></th>\n",
       "      <th></th>\n",
       "      <th></th>\n",
       "    </tr>\n",
       "  </thead>\n",
       "  <tbody>\n",
       "    <tr>\n",
       "      <th rowspan=\"2\" valign=\"top\">1996</th>\n",
       "      <th>2</th>\n",
       "      <td>Singles</td>\n",
       "      <td>Mika Immonen</td>\n",
       "      <td>2</td>\n",
       "      <td>0</td>\n",
       "      <td>Roger Griffis</td>\n",
       "      <td>True</td>\n",
       "    </tr>\n",
       "    <tr>\n",
       "      <th>17</th>\n",
       "      <td>Singles</td>\n",
       "      <td>Mika Immonen</td>\n",
       "      <td>2</td>\n",
       "      <td>1</td>\n",
       "      <td>Mike Massey</td>\n",
       "      <td>True</td>\n",
       "    </tr>\n",
       "    <tr>\n",
       "      <th>1999</th>\n",
       "      <th>12</th>\n",
       "      <td>Singles</td>\n",
       "      <td>Mika Immonen</td>\n",
       "      <td>5</td>\n",
       "      <td>3</td>\n",
       "      <td>James Rempe</td>\n",
       "      <td>True</td>\n",
       "    </tr>\n",
       "    <tr>\n",
       "      <th>2000</th>\n",
       "      <th>16</th>\n",
       "      <td>Singles</td>\n",
       "      <td>Mika Immonen</td>\n",
       "      <td>5</td>\n",
       "      <td>4</td>\n",
       "      <td>Johnny Archer</td>\n",
       "      <td>True</td>\n",
       "    </tr>\n",
       "    <tr>\n",
       "      <th rowspan=\"2\" valign=\"top\">2003</th>\n",
       "      <th>4</th>\n",
       "      <td>Singles</td>\n",
       "      <td>Mika Immonen</td>\n",
       "      <td>5</td>\n",
       "      <td>3</td>\n",
       "      <td>Johnny Archer</td>\n",
       "      <td>True</td>\n",
       "    </tr>\n",
       "    <tr>\n",
       "      <th>7</th>\n",
       "      <td>Singles</td>\n",
       "      <td>Mika Immonen</td>\n",
       "      <td>5</td>\n",
       "      <td>4</td>\n",
       "      <td>Charlie Williams</td>\n",
       "      <td>True</td>\n",
       "    </tr>\n",
       "    <tr>\n",
       "      <th>2004</th>\n",
       "      <th>6</th>\n",
       "      <td>Singles</td>\n",
       "      <td>Mika Immonen</td>\n",
       "      <td>5</td>\n",
       "      <td>3</td>\n",
       "      <td>Johnny Archer</td>\n",
       "      <td>True</td>\n",
       "    </tr>\n",
       "    <tr>\n",
       "      <th rowspan=\"2\" valign=\"top\">2005</th>\n",
       "      <th>1</th>\n",
       "      <td>Singles</td>\n",
       "      <td>Mika Immonen</td>\n",
       "      <td>5</td>\n",
       "      <td>2</td>\n",
       "      <td>Johnny Archer</td>\n",
       "      <td>True</td>\n",
       "    </tr>\n",
       "    <tr>\n",
       "      <th>15</th>\n",
       "      <td>Singles</td>\n",
       "      <td>Mika Immonen</td>\n",
       "      <td>5</td>\n",
       "      <td>4</td>\n",
       "      <td>Shaun Putnam</td>\n",
       "      <td>True</td>\n",
       "    </tr>\n",
       "    <tr>\n",
       "      <th rowspan=\"4\" valign=\"top\">2008</th>\n",
       "      <th>2</th>\n",
       "      <td>Singles</td>\n",
       "      <td>Mika Immonen</td>\n",
       "      <td>5</td>\n",
       "      <td>1</td>\n",
       "      <td>Jeremy Jones</td>\n",
       "      <td>True</td>\n",
       "    </tr>\n",
       "    <tr>\n",
       "      <th>7</th>\n",
       "      <td>Singles</td>\n",
       "      <td>Mika Immonen</td>\n",
       "      <td>5</td>\n",
       "      <td>0</td>\n",
       "      <td>Earl Strickland</td>\n",
       "      <td>True</td>\n",
       "    </tr>\n",
       "    <tr>\n",
       "      <th>13</th>\n",
       "      <td>Singles</td>\n",
       "      <td>Mika Immonen</td>\n",
       "      <td>5</td>\n",
       "      <td>3</td>\n",
       "      <td>Jeremy Jones</td>\n",
       "      <td>True</td>\n",
       "    </tr>\n",
       "    <tr>\n",
       "      <th>15</th>\n",
       "      <td>Singles</td>\n",
       "      <td>Mika Immonen</td>\n",
       "      <td>5</td>\n",
       "      <td>3</td>\n",
       "      <td>Shane Van Boening</td>\n",
       "      <td>True</td>\n",
       "    </tr>\n",
       "    <tr>\n",
       "      <th>2009</th>\n",
       "      <th>13</th>\n",
       "      <td>Singles</td>\n",
       "      <td>Mika Immonen</td>\n",
       "      <td>6</td>\n",
       "      <td>4</td>\n",
       "      <td>Óscar Domínguez</td>\n",
       "      <td>True</td>\n",
       "    </tr>\n",
       "    <tr>\n",
       "      <th>2010</th>\n",
       "      <th>14</th>\n",
       "      <td>Singles</td>\n",
       "      <td>Mika Immonen</td>\n",
       "      <td>6</td>\n",
       "      <td>1</td>\n",
       "      <td>Rodney Morris</td>\n",
       "      <td>True</td>\n",
       "    </tr>\n",
       "    <tr>\n",
       "      <th>2013</th>\n",
       "      <th>2</th>\n",
       "      <td>Singles</td>\n",
       "      <td>Mika Immonen</td>\n",
       "      <td>6</td>\n",
       "      <td>5</td>\n",
       "      <td>Shane Van Boening</td>\n",
       "      <td>True</td>\n",
       "    </tr>\n",
       "  </tbody>\n",
       "</table>\n",
       "</div>"
      ],
      "text/plain": [
       "             Format European_player European_score American_score  \\\n",
       "Year Match                                                          \n",
       "1996 2      Singles   Mika Immonen               2              0   \n",
       "     17     Singles   Mika Immonen               2              1   \n",
       "1999 12     Singles    Mika Immonen              5              3   \n",
       "2000 16     Singles    Mika Immonen              5              4   \n",
       "2003 4      Singles    Mika Immonen              5              3   \n",
       "     7      Singles    Mika Immonen              5              4   \n",
       "2004 6      Singles    Mika Immonen              5              3   \n",
       "2005 1      Singles    Mika Immonen              5              2   \n",
       "     15     Singles    Mika Immonen              5              4   \n",
       "2008 2      Singles    Mika Immonen              5              1   \n",
       "     7      Singles    Mika Immonen              5              0   \n",
       "     13     Singles    Mika Immonen              5              3   \n",
       "     15     Singles    Mika Immonen              5              3   \n",
       "2009 13     Singles    Mika Immonen              6              4   \n",
       "2010 14     Singles    Mika Immonen              6              1   \n",
       "2013 2      Singles    Mika Immonen              6              5   \n",
       "\n",
       "              American_player Europe_won  \n",
       "Year Match                                \n",
       "1996 2         Roger Griffis        True  \n",
       "     17          Mike Massey        True  \n",
       "1999 12           James Rempe       True  \n",
       "2000 16         Johnny Archer       True  \n",
       "2003 4          Johnny Archer       True  \n",
       "     7       Charlie Williams       True  \n",
       "2004 6          Johnny Archer       True  \n",
       "2005 1          Johnny Archer       True  \n",
       "     15          Shaun Putnam       True  \n",
       "2008 2           Jeremy Jones       True  \n",
       "     7        Earl Strickland       True  \n",
       "     13          Jeremy Jones       True  \n",
       "     15     Shane Van Boening       True  \n",
       "2009 13       Óscar Domínguez       True  \n",
       "2010 14         Rodney Morris       True  \n",
       "2013 2      Shane Van Boening       True  "
      ]
     },
     "execution_count": 127,
     "metadata": {},
     "output_type": "execute_result"
    }
   ],
   "source": [
    "boolind(form = 'Singles', player = 'Mika Immonen', Europe_won = True)"
   ]
  },
  {
   "cell_type": "code",
   "execution_count": 129,
   "metadata": {
    "collapsed": true
   },
   "outputs": [],
   "source": [
    "def wl(player,country,form):\n",
    "    \n",
    "    if 'a' in country:\n",
    "        win=df[america_won&form&d[player]].shape[0]\n",
    "        loss=df[d[player]&~america_won&singles].shape[0]\n",
    "    else:\n",
    "        loss=df[d[player]&america_won&singles].shape[0]\n",
    "        win=df[d[player]&~america_won&singles].shape[0]        \n",
    "    swl='{}-{}'.format(win,loss)\n",
    "    spct=round(win*100/(win+loss),2)\n",
    "    return(swl, spct)\n",
    "\n",
    "\n",
    "def swl(player,country):\n",
    "    #singles\n",
    "    if 'a' in country:\n",
    "        win=df[america_won&singles&d[player]].shape[0]\n",
    "        loss=df[d[player]&~america_won&singles].shape[0]\n",
    "    else:\n",
    "        loss=df[d[player]&america_won&singles].shape[0]\n",
    "        win=df[d[player]&~america_won&singles].shape[0]        \n",
    "    swl='{}-{}'.format(win,loss)\n",
    "    spct=round(win*100/(win+loss),2)\n",
    "    return(swl, spct)\n",
    "\n",
    "\n",
    "def dwl(player,country):\n",
    "    if 'a' in country:\n",
    "        win=df[d[player]&america_won&doubles].shape[0]\n",
    "        loss=df[d[player]&~america_won&doubles].shape[0]\n",
    "    else:\n",
    "        loss=df[d[player]&america_won&doubles].shape[0]\n",
    "        win=df[d[player]&~america_won&doubles].shape[0] \n",
    "    dwl='{}-{}'.format(win,loss)\n",
    "    return(dwl)\n",
    "\n",
    "\n",
    "def cwl(player,country):\n",
    "    if 'a' in country:\n",
    "        dwin=df[d[player]&america_won&doubles].shape[0]\n",
    "        dloss=df[d[player]&~america_won&doubles].shape[0]\n",
    "        swin=df[d[player]&america_won&singles].shape[0]\n",
    "        sloss=df[d[player]&~america_won&singles].shape[0]\n",
    "    else:\n",
    "        dloss=df[d[player]&america_won&doubles].shape[0]\n",
    "        dwin=df[d[player]&~america_won&doubles].shape[0]\n",
    "        sloss=df[d[player]&america_won&singles].shape[0]\n",
    "        swin=df[d[player]&~america_won&singles].shape[0]\n",
    "    win=dwin+swin\n",
    "    loss=dloss+sloss\n",
    "    cwl='{}-{}'.format(win,loss)\n",
    "    return(cwl)"
   ]
  },
  {
   "cell_type": "code",
   "execution_count": 130,
   "metadata": {},
   "outputs": [
    {
     "data": {
      "text/plain": [
       "('14-12', 53.85)"
      ]
     },
     "execution_count": 130,
     "metadata": {},
     "output_type": "execute_result"
    }
   ],
   "source": [
    "swl('Earl Strickland','am')"
   ]
  },
  {
   "cell_type": "code",
   "execution_count": null,
   "metadata": {
    "collapsed": true
   },
   "outputs": [],
   "source": [
    "def winloss(player, country):\n",
    "    \n",
    "    #singles\n",
    "    if 'a' in country:\n",
    "        win=df[america_won&singles&d[player]].shape[0]\n",
    "        loss=df[d[player]&~america_won&singles].shape[0]\n",
    "    else:\n",
    "        loss=df[d[player]&america_won&singles].shape[0]\n",
    "        win=df[d[player]&~america_won&singles].shape[0]        \n",
    "    swl='{}-{}'.format(win,loss)\n",
    "    spct=win*100/(win+loss)\n",
    "\n",
    "    #doubles\n",
    "    if 'a' in country:\n",
    "        win=df[d[player]&america_won&doubles].shape[0]\n",
    "        loss=df[d[player]&~america_won&doubles].shape[0]\n",
    "    else:\n",
    "        loss=df[d[player]&america_won&doubles].shape[0]\n",
    "        win=df[d[player]&~america_won&doubles].shape[0] \n",
    "    dwl='{}-{}'.format(win,loss)\n",
    "    dpct=win*100/(win+loss)\n",
    "\n",
    "    #combined\n",
    "    if 'a' in country:\n",
    "        dwin=df[d[player]&america_won&doubles].shape[0]\n",
    "        dloss=df[d[player]&~america_won&doubles].shape[0]\n",
    "        swin=df[d[player]&america_won&singles].shape[0]\n",
    "        sloss=df[d[player]&~america_won&singles].shape[0]\n",
    "    else:\n",
    "        dloss=df[d[player]&america_won&doubles].shape[0]\n",
    "        dwin=df[d[player]&~america_won&doubles].shape[0]\n",
    "        sloss=df[d[player]&america_won&singles].shape[0]\n",
    "        swin=df[d[player]&~america_won&singles].shape[0]\n",
    "    win=dwin+swin\n",
    "    loss=dloss+sloss\n",
    "    cwl='{}-{}'.format(win,loss)\n",
    "    cpct=win*100/(win+loss)\n",
    "    print(\"singles: {}   pct:{}   doubles: {}  pct:{}    combined: {}  pct:{}\".format(swl,spct,dwl,dpct,cwl,cpct))\n",
    "    return(swl,dwl,cwl)"
   ]
  },
  {
   "cell_type": "code",
   "execution_count": null,
   "metadata": {},
   "outputs": [],
   "source": [
    "def wrapper(form='singles'):\n",
    "    matchtype=form\n",
    "    print(form)\n",
    "wrapper(form='doubles')"
   ]
  },
  {
   "cell_type": "code",
   "execution_count": null,
   "metadata": {
    "collapsed": true
   },
   "outputs": [],
   "source": [
    "def wlfcn(player, country):\n",
    "    match = df['Format']==form\n",
    "    #singles\n",
    "    if 'a' in country:\n",
    "        win=df[america_won&match&d[player]].shape[0]\n",
    "        loss=df[d[player]&~america_won&singles].shape[0]\n",
    "    else:\n",
    "        loss=df[d[player]&america_won&singles].shape[0]\n",
    "        win=df[d[player]&~america_won&singles].shape[0]        \n",
    "    swl='{}-{}'.format(win,loss)\n",
    "    spct=win*100/(win+loss)\n",
    "\n",
    "    #doubles\n",
    "    if 'a' in country:\n",
    "        win=df[d[player]&america_won&doubles].shape[0]\n",
    "        loss=df[d[player]&~america_won&doubles].shape[0]\n",
    "    else:\n",
    "        loss=df[d[player]&america_won&doubles].shape[0]\n",
    "        win=df[d[player]&~america_won&doubles].shape[0] \n",
    "    dwl='{}-{}'.format(win,loss)\n",
    "    dpct=win*100/(win+loss)\n",
    "\n",
    "    #combined\n",
    "    if 'a' in country:\n",
    "        dwin=df[d[player]&america_won&doubles].shape[0]\n",
    "        dloss=df[d[player]&~america_won&doubles].shape[0]\n",
    "        swin=df[d[player]&america_won&singles].shape[0]\n",
    "        sloss=df[d[player]&~america_won&singles].shape[0]\n",
    "    else:\n",
    "        dloss=df[d[player]&america_won&doubles].shape[0]\n",
    "        dwin=df[d[player]&~america_won&doubles].shape[0]\n",
    "        sloss=df[d[player]&america_won&singles].shape[0]\n",
    "        swin=df[d[player]&~america_won&singles].shape[0]\n",
    "    win=dwin+swin\n",
    "    loss=dloss+sloss\n",
    "    cwl='{}-{}'.format(win,loss)\n",
    "    cpct=win*100/(win+loss)\n",
    "    print(\"singles: {}   pct:{}   doubles: {}  pct:{}    combined: {}  pct:{}\".format(swl,spct,dwl,dpct,cwl,cpct))\n",
    "    return(swl,dwl,cwl)"
   ]
  },
  {
   "cell_type": "code",
   "execution_count": null,
   "metadata": {},
   "outputs": [],
   "source": [
    "winloss('Johnny Archer','am')"
   ]
  },
  {
   "cell_type": "code",
   "execution_count": null,
   "metadata": {
    "collapsed": true
   },
   "outputs": [],
   "source": [
    "def winlosslist(player, country):\n",
    "    \n",
    "    #singles\n",
    "    if 'a' in country:\n",
    "        swin=df[america_won&singles&d[player]].shape[0]\n",
    "        sloss=df[d[player]&~america_won&singles].shape[0]\n",
    "    else:\n",
    "        sloss=df[d[player]&america_won&singles].shape[0]\n",
    "        swin=df[d[player]&~america_won&singles].shape[0]        \n",
    "    swl='{}-{}'.format(swin,sloss)\n",
    "    try:\n",
    "        spct=swin*100/(swin+sloss)\n",
    "    except:\n",
    "        pass\n",
    "    #doubles\n",
    "    if 'a' in country:\n",
    "        dwin=df[d[player]&america_won&doubles].shape[0]\n",
    "        dloss=df[d[player]&~america_won&doubles].shape[0]\n",
    "    else:\n",
    "        dloss=df[d[player]&america_won&doubles].shape[0]\n",
    "        dwin=df[d[player]&~america_won&doubles].shape[0] \n",
    "    dwl='{}-{}'.format(dwin,dloss)\n",
    "    try:\n",
    "        dpct=dwin*100/(dwin+dloss)   \n",
    "    except:\n",
    "        dpct=0\n",
    "    \n",
    "        #teams\n",
    "    if 'a' in country:\n",
    "        twin=df[d[player]&america_won&teams].shape[0]\n",
    "        tloss=df[d[player]&~america_won&teams].shape[0]\n",
    "    else:\n",
    "        tloss=df[d[player]&america_won&teams].shape[0]\n",
    "        twin=df[d[player]&~america_won&teams].shape[0] \n",
    "    twl='{}-{}'.format(twin,tloss)\n",
    "    try:\n",
    "        tpct=twin*100/(twin+tloss)   \n",
    "    except:\n",
    "        dpct=0\n",
    "\n",
    "    #combined\n",
    "    cwin=dwin+swin+twin\n",
    "    closs=dloss+sloss+tloss\n",
    "    cwl='{}-{}'.format(cwin,closs)\n",
    "    cpct=cwin*100/(cwin+closs)\n",
    "    l=[player,country,swin,sloss,swl,round(spct,2),dwin,dloss,dwl,round(dpct,2),cwin,closs,cwl,round(cpct,2)]\n",
    "    return(l)"
   ]
  },
  {
   "cell_type": "code",
   "execution_count": null,
   "metadata": {
    "collapsed": true
   },
   "outputs": [],
   "source": [
    "L=[]\n",
    "for player in am_players:\n",
    "    try:\n",
    "        lst = winlosslist(player,'America')\n",
    "        L.append(lst)\n",
    "    except: #Zerodivision error:\n",
    "        print('am', player)\n",
    "#         pass\n",
    "for player in euro_players:\n",
    "    try:\n",
    "        lst = winlosslist(player,'Europe')\n",
    "        L.append(lst)\n",
    "    except: #Zerodivision error:\n",
    "        print(player)\n",
    "#         pass"
   ]
  },
  {
   "cell_type": "code",
   "execution_count": null,
   "metadata": {},
   "outputs": [],
   "source": [
    "winlosslist('Paul Gerni','am')"
   ]
  },
  {
   "cell_type": "markdown",
   "metadata": {},
   "source": [
    "For player in players, append to l, create winlosslist, then turn into dataframe with stats of all players."
   ]
  },
  {
   "cell_type": "code",
   "execution_count": null,
   "metadata": {},
   "outputs": [],
   "source": [
    "len(players)"
   ]
  },
  {
   "cell_type": "code",
   "execution_count": null,
   "metadata": {},
   "outputs": [],
   "source": [
    "len(L)"
   ]
  },
  {
   "cell_type": "code",
   "execution_count": null,
   "metadata": {},
   "outputs": [],
   "source": [
    "import pandas as pd\n",
    "colz = 'Player,Team,Swin,Sloss,Swl,Spct,Dwin,Dloss,Dwl,Dpct,Cwin,Closs,Cwl,Cpct'.split(',')\n",
    "player_stats = pd.DataFrame(L, columns = colz)\n",
    "player_stats.sort_values('Cpct',axis=0)"
   ]
  },
  {
   "cell_type": "markdown",
   "metadata": {},
   "source": [
    "## Mosconi Cup Trivia Questions\n",
    "Most wins? (s,d,c)\n",
    "Highest win %? (s,d,c)\n",
    "Lowest win %? (s,d,c)\n"
   ]
  },
  {
   "cell_type": "code",
   "execution_count": null,
   "metadata": {
    "collapsed": true
   },
   "outputs": [],
   "source": [
    "def playerinfo(player,country):\n",
    "    '''get info about player stats in a list and output every match'''\n",
    "    wl=winlosslist(player,country)\n",
    "    frame=df[d[player]]\n",
    "    print((winlosslist(player,country)))\n",
    "    return(frame)"
   ]
  },
  {
   "cell_type": "code",
   "execution_count": null,
   "metadata": {},
   "outputs": [],
   "source": [
    "_=playerinfo('Niels Feijen','f')\n",
    "_[_['Format']=='Singles']"
   ]
  },
  {
   "cell_type": "code",
   "execution_count": null,
   "metadata": {},
   "outputs": [],
   "source": [
    "print(playerinfo.__doc__)"
   ]
  },
  {
   "cell_type": "code",
   "execution_count": null,
   "metadata": {
    "collapsed": true
   },
   "outputs": [],
   "source": [
    "stat_l = []\n",
    "for player in am_players:\n",
    "    try:\n",
    "        unit = winlosslist(player,'America')\n",
    "        stat_l.append(unit)\n",
    "    except:\n",
    "        pass\n",
    "for player in euro_players:\n",
    "    try:\n",
    "        unit = winlosslist(player,'Europe')\n",
    "        stat_l.append(unit)\n",
    "    except:\n",
    "        pass"
   ]
  },
  {
   "cell_type": "code",
   "execution_count": null,
   "metadata": {
    "collapsed": true
   },
   "outputs": [],
   "source": [
    "stat_cols = ['player','team','s_wins','s_loss', 's_winloss', 's_pct','d_wins','d_loss', 'd_winloss', 'd_pct','c_wins','c_loss', 'c_winloss', 'c_pct']"
   ]
  },
  {
   "cell_type": "code",
   "execution_count": null,
   "metadata": {},
   "outputs": [],
   "source": [
    "#Most combined wins\n",
    "stats_df = pd.DataFrame(data=stat_l, columns = stat_cols)\n",
    "stats_df[['player','c_winloss','c_pct','c_wins']].sort_values('c_wins',ascending=False).reset_index(drop=True)"
   ]
  },
  {
   "cell_type": "code",
   "execution_count": null,
   "metadata": {},
   "outputs": [],
   "source": [
    "#Best combined win percentage\n",
    "stats_df = pd.DataFrame(data=stat_l, columns = stat_cols)\n",
    "stats_df[['player','c_winloss','c_pct']].sort_values('c_pct',ascending=False).head(20).reset_index(drop=True)"
   ]
  },
  {
   "cell_type": "code",
   "execution_count": null,
   "metadata": {},
   "outputs": [],
   "source": [
    "#Most singles wins\n",
    "stats_df = pd.DataFrame(data=stat_l, columns = stat_cols)\n",
    "stats_df[['player','s_winloss','s_wins']].sort_values('s_wins',ascending=False).head(11).reset_index(drop=True)"
   ]
  },
  {
   "cell_type": "code",
   "execution_count": null,
   "metadata": {},
   "outputs": [],
   "source": [
    "playerinfo('Justin Hall','am')"
   ]
  },
  {
   "cell_type": "code",
   "execution_count": null,
   "metadata": {},
   "outputs": [],
   "source": [
    "playerinfo('Justin Bergman','am')"
   ]
  },
  {
   "cell_type": "code",
   "execution_count": null,
   "metadata": {},
   "outputs": [],
   "source": [
    "stats_df.head()"
   ]
  },
  {
   "cell_type": "code",
   "execution_count": null,
   "metadata": {
    "scrolled": false
   },
   "outputs": [],
   "source": [
    "#Best singles win percentage\n",
    "stats_df = pd.DataFrame(data=stat_l, columns = stat_cols)\n",
    "stats_df[['player','s_wins','s_winloss','s_pct']].sort_values(['s_pct','s_wins'],ascending=[False,False]).head(28).reset_index(drop=True)\n",
    "# df.sort_values(['a', 'b'], ascending=[True, False])"
   ]
  },
  {
   "cell_type": "code",
   "execution_count": null,
   "metadata": {
    "scrolled": true
   },
   "outputs": [],
   "source": [
    "#Most doubles wins\n",
    "stats_df = pd.DataFrame(data=stat_l, columns = stat_cols)\n",
    "stats_df[['player','d_winloss','d_wins']].sort_values('d_wins',ascending=False).reset_index(drop=True).head(10)"
   ]
  },
  {
   "cell_type": "code",
   "execution_count": null,
   "metadata": {
    "scrolled": false
   },
   "outputs": [],
   "source": [
    "#Best doubles win percentage\n",
    "stats_df = pd.DataFrame(data=stat_l, columns = stat_cols)\n",
    "stats_df[['player','d_winloss','d_pct']].sort_values('d_pct',ascending=False).head(20).reset_index(drop=True)"
   ]
  },
  {
   "cell_type": "markdown",
   "metadata": {},
   "source": [
    "#Info to verify from the AZ billiards forums:\n",
    "Team USA\n",
    "• Shane Van Boening (9 years -- 2007-2015) ..... 10-14 singles, 11-11 doubles, 4-5 teams, 25-30 total (winning percentage of 45%)\n",
    "\n",
    "• Rodney Morris (9 years -- 2003-2008, 2010, 2011, 2013) ..... 9-8 singles, 11-15 doubles, 2-0 trebles, 3-4 teams, 25-27 total (48%)\n",
    "\n",
    "• Mike Dechaine (3 years -- 2011, 2012, 2015) ..... 1-4 singles, 2-6 doubles, 2-1 teams, 5-11 total (31%)\n",
    "\n",
    "• Justin Bergman (2 years -- 2014-2015) ..... 1-4 singles, 2-2 doubles, 1-1 teams, 4-7 total (36%)\n",
    "\n",
    "• Skyler Woodward (1 year -- 2015) ..... 0-2 singles, 2-1 doubles, 1-0 teams, 3-3 total (50%)\n",
    "\n",
    "• Team USA Total ..... 21-32 singles, 28-35 doubles, 2-0 trebles, 11-11 teams, 62-78 total (44%)\n",
    "\n",
    "Team Europe\n",
    "• Niels Feijen (11 years -- 2001, 2004-2005, 2007-2009, 2011-2015) ..... 11-8 singles, 22-9 doubles, 4-4 teams, 37-21 total (64%)\n",
    "\n",
    "• Darren Appleton (7 years -- 2009-2015) ..... 9-4 singles, 8-13 doubles, 4-3 teams, 21-20 total (51%)\n",
    "\n",
    "• Mark Gray (2 years -- 2008, 2014) ..... 0-1 singles, 2-4 doubles, 2-0 teams, 4-5 total (44%)\n",
    "\n",
    "• Albin Ouschan (1 year -- 2015) ..... 2-0 singles, 2-1 doubles, 0-1 teams, 4-2 total (67%)\n",
    "\n",
    "• Jayson Shaw (0 years -- rookie)\n",
    "\n",
    "• Team Europe Total ..... 22-13 singles, 34-27 doubles, 10-8 teams, 66-48 total (58%)"
   ]
  },
  {
   "cell_type": "code",
   "execution_count": null,
   "metadata": {},
   "outputs": [],
   "source": [
    "usa = ['Shane Van Boening', 'Rodney Morris', 'Mike Dechaine', 'Justin Bergman', 'Skyler Woodward']\n",
    "for player in usa:\n",
    "    print(winlosslist(player, 'am'))"
   ]
  },
  {
   "cell_type": "code",
   "execution_count": null,
   "metadata": {},
   "outputs": [],
   "source": [
    "eu = ['Darren Appleton', 'Mark Gray', 'Albin Ouschan', 'Niels Feijen']\n",
    "for player in eu:\n",
    "    print(winlosslist(player, 'u'))"
   ]
  },
  {
   "cell_type": "markdown",
   "metadata": {},
   "source": [
    "#More info to verify:\n",
    "• Johnny Archer (17 years) ..... 18-13 singles, 26-23 doubles, 0-2 trebles, 5-4 teams, 49-42 total (winning percentage of 54%)\n",
    "• Earl Strickland (14 years) ..... 14-12 singles, 24-12 doubles, 1-1 trebles, 3-2 teams, 42-27 total (61%)\n",
    "• Corey Deuel (9 years) ..... 7-6 singles, 13-12 doubles, 2-0 trebles, 5-2 teams, 27-20 total (57%)\n",
    "And more:\n",
    "Dennis Hatch (4 years -- 2009, 2010, 2012, 2013) ..... 4-3 singles, 5-7 doubles, 2-2 teams, 11-12 total (winning percentage 48%)"
   ]
  },
  {
   "cell_type": "code",
   "execution_count": null,
   "metadata": {},
   "outputs": [],
   "source": [
    "pl=['Johnny Archer','Earl Strickland','Corey Deuel','Dennis Hatch']\n",
    "for player in pl:\n",
    "    print(winlosslist(player,'am'))"
   ]
  },
  {
   "cell_type": "markdown",
   "metadata": {},
   "source": [
    "Johnny's info is wrong: he has two singles wins in 1997, so still missing one singles win. Doubles wins says 27-20 but apparently should be 26-23. He was 0-3 doubles in 97. So total would be 27-23. I have too many wins(by one)! \n",
    "So I recorded one too many singles win and one too few doubles win...\n",
    "Could it be that a singles win was accidentally marked as a doubles win??\n",
    "\n",
    "For Earl, I am missing 3 singles wins, 3 singles losses, and 4 doubles wins. He played in 1996 and 1997. In 96 he was 1-3 singles, 1-0 doubles. In 97, he was 2-0 on singles and 3-0 doubles. So overall, he is missing 3-3 and 4-0. Thus his data adds up with the missing years. So Earl is good.\n",
    "\n",
    "Deuel is correct. Hatch is correct.\n",
    "\n",
    "Visually inspected all years and 2015 is the only year that is backwards."
   ]
  },
  {
   "cell_type": "code",
   "execution_count": null,
   "metadata": {},
   "outputs": [],
   "source": [
    "playerinfo('Skyler Woodward','am')"
   ]
  },
  {
   "cell_type": "code",
   "execution_count": null,
   "metadata": {
    "collapsed": true
   },
   "outputs": [],
   "source": []
  },
  {
   "cell_type": "code",
   "execution_count": null,
   "metadata": {
    "collapsed": true
   },
   "outputs": [],
   "source": []
  },
  {
   "cell_type": "code",
   "execution_count": null,
   "metadata": {
    "collapsed": true
   },
   "outputs": [],
   "source": []
  },
  {
   "cell_type": "code",
   "execution_count": null,
   "metadata": {
    "collapsed": true
   },
   "outputs": [],
   "source": []
  },
  {
   "cell_type": "code",
   "execution_count": null,
   "metadata": {
    "collapsed": true
   },
   "outputs": [],
   "source": []
  },
  {
   "cell_type": "code",
   "execution_count": null,
   "metadata": {
    "collapsed": true
   },
   "outputs": [],
   "source": []
  },
  {
   "cell_type": "code",
   "execution_count": null,
   "metadata": {
    "collapsed": true
   },
   "outputs": [],
   "source": []
  },
  {
   "cell_type": "code",
   "execution_count": null,
   "metadata": {
    "collapsed": true
   },
   "outputs": [],
   "source": []
  },
  {
   "cell_type": "code",
   "execution_count": null,
   "metadata": {
    "collapsed": true
   },
   "outputs": [],
   "source": []
  },
  {
   "cell_type": "code",
   "execution_count": null,
   "metadata": {
    "collapsed": true
   },
   "outputs": [],
   "source": []
  },
  {
   "cell_type": "code",
   "execution_count": null,
   "metadata": {
    "collapsed": true
   },
   "outputs": [],
   "source": []
  },
  {
   "cell_type": "code",
   "execution_count": null,
   "metadata": {
    "collapsed": true
   },
   "outputs": [],
   "source": []
  },
  {
   "cell_type": "markdown",
   "metadata": {},
   "source": [
    "Data including 2016\n",
    "\n",
    "Team USA\n",
    "• Shane Van Boening (10 years -- 2007-2016) ..... 10-15 singles, 11-14 doubles, 4-6 teams, 25-35 total (winning percentage of 42%)\n",
    "\n",
    "• Rodney Morris (10 years -- 2003-2008, 2010-2011, 2013, 2016) ..... 10-8 singles, 12-17 doubles, 2-0 trebles, 3-5 teams, 27-30 total (47%)\n",
    "\n",
    "• Mike Dechaine (4 years -- 2011-2012, 2015-2016) ..... 1-6 singles, 2-8 doubles, 2-2 teams, 5-16 total (24%)\n",
    "\n",
    "• Justin Bergman (3 years -- 2014-2016) ..... 1-5 singles, 4-3 doubles, 1-2 teams, 6-10 total (38%)\n",
    "\n",
    "• Skyler Woodward (2 years -- 2015-2016) ..... 0-3 singles, 3-3 doubles, 1-1 teams, 4-7 total (36%)\n",
    "\n",
    "• Team USA Total ..... 22-37 singles, 32-45 doubles, 2-0 trebles, 11-16 teams, 67-98 total (41%)\n",
    "\n",
    "Team Europe\n",
    "• Niels Feijen (12 years -- 2001, 2004-2005, 2007-2009, 2011-2016) ..... 12-8 singles, 24-9 doubles, 5-4 teams, 41-21 total (66%)\n",
    "\n",
    "• Darren Appleton (8 years -- 2009-2016) ..... 10-4 singles, 10-15 doubles, 5-3 teams, 25-22 total (53%)\n",
    "\n",
    "• Mark Gray (3 years -- 2008, 2014, 2016) ..... 1-1 singles, 4-5 doubles, 3-0 teams, 8-6 total (57%)\n",
    "\n",
    "• Albin Ouschan (2 years -- 2015-2016) ..... 3-0 singles, 5-1 doubles, 1-1 teams, 9-2 total (82%)\n",
    "\n",
    "• Jayson Shaw (1 year -- 2016) ..... 1-1 singles, 1-1 doubles, 1-0 teams, 3-2 total (60%)\n",
    "\n",
    "• Team Europe Total ..... 27-14 singles, 44-31 doubles, 15-8 teams, 86-53 total (62%)"
   ]
  }
 ],
 "metadata": {
  "kernelspec": {
   "display_name": "Python 3",
   "language": "python",
   "name": "python3"
  },
  "language_info": {
   "codemirror_mode": {
    "name": "ipython",
    "version": 3
   },
   "file_extension": ".py",
   "mimetype": "text/x-python",
   "name": "python",
   "nbconvert_exporter": "python",
   "pygments_lexer": "ipython3",
   "version": "3.5.2"
  }
 },
 "nbformat": 4,
 "nbformat_minor": 2
}
