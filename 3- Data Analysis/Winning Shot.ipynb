{
 "cells": [
  {
   "cell_type": "code",
   "execution_count": 1,
   "metadata": {
    "collapsed": true
   },
   "outputs": [],
   "source": [
    "import pandas as pd"
   ]
  },
  {
   "cell_type": "code",
   "execution_count": 2,
   "metadata": {
    "collapsed": true
   },
   "outputs": [],
   "source": [
    "import sqlalchemy"
   ]
  },
  {
   "cell_type": "code",
   "execution_count": 3,
   "metadata": {
    "collapsed": true
   },
   "outputs": [],
   "source": [
    "import os.path as pth"
   ]
  },
  {
   "cell_type": "code",
   "execution_count": 4,
   "metadata": {
    "collapsed": true
   },
   "outputs": [],
   "source": [
    "parent = pth.abspath('..')"
   ]
  },
  {
   "cell_type": "code",
   "execution_count": 5,
   "metadata": {
    "collapsed": true
   },
   "outputs": [],
   "source": [
    "path = pth.join(parent,'players.db')"
   ]
  },
  {
   "cell_type": "code",
   "execution_count": 9,
   "metadata": {},
   "outputs": [],
   "source": [
    "engine = sqlalchemy.create_engine('sqlite:///{}'.format(path))\n",
    "con = engine.connect()"
   ]
  },
  {
   "cell_type": "code",
   "execution_count": 12,
   "metadata": {
    "collapsed": true
   },
   "outputs": [],
   "source": [
    "df = pd.read_sql('select * from results',con,index_col=['Year','Match'])"
   ]
  },
  {
   "cell_type": "code",
   "execution_count": 84,
   "metadata": {},
   "outputs": [],
   "source": [
    "last=df.loc[1994].tail(1)\n",
    "for year in range(1995,2017):\n",
    "    last=last.append(df.loc[year].tail(1))"
   ]
  },
  {
   "cell_type": "code",
   "execution_count": 95,
   "metadata": {
    "collapsed": true
   },
   "outputs": [],
   "source": [
    "last['Year']=range(1994,2017)\n",
    "last.set_index('Year',inplace=True)"
   ]
  },
  {
   "cell_type": "code",
   "execution_count": 64,
   "metadata": {
    "collapsed": true
   },
   "outputs": [],
   "source": [
    "yearly=pd.read_sql('select * from yearly',con,index_col='index')"
   ]
  },
  {
   "cell_type": "code",
   "execution_count": 71,
   "metadata": {},
   "outputs": [],
   "source": [
    "cols=['Year','Victors']"
   ]
  },
  {
   "cell_type": "code",
   "execution_count": 88,
   "metadata": {},
   "outputs": [],
   "source": [
    "yearly=yearly[cols]"
   ]
  },
  {
   "cell_type": "code",
   "execution_count": 102,
   "metadata": {},
   "outputs": [],
   "source": [
    "yearly.set_index('Year',inplace=True)"
   ]
  },
  {
   "cell_type": "code",
   "execution_count": null,
   "metadata": {
    "collapsed": true
   },
   "outputs": [],
   "source": [
    "last['Victors']=yearly['Victors']"
   ]
  },
  {
   "cell_type": "code",
   "execution_count": 115,
   "metadata": {
    "scrolled": true
   },
   "outputs": [
    {
     "data": {
      "text/html": [
       "<div>\n",
       "<table border=\"1\" class=\"dataframe\">\n",
       "  <thead>\n",
       "    <tr style=\"text-align: right;\">\n",
       "      <th></th>\n",
       "      <th>Format</th>\n",
       "      <th>European_player</th>\n",
       "      <th>European_score</th>\n",
       "      <th>American_score</th>\n",
       "      <th>American_player</th>\n",
       "      <th>Europe_won</th>\n",
       "      <th>Victors</th>\n",
       "    </tr>\n",
       "    <tr>\n",
       "      <th>Year</th>\n",
       "      <th></th>\n",
       "      <th></th>\n",
       "      <th></th>\n",
       "      <th></th>\n",
       "      <th></th>\n",
       "      <th></th>\n",
       "      <th></th>\n",
       "    </tr>\n",
       "  </thead>\n",
       "  <tbody>\n",
       "    <tr>\n",
       "      <th>1994</th>\n",
       "      <td>Doubles</td>\n",
       "      <td>Jimmy White Steve Davis</td>\n",
       "      <td>0</td>\n",
       "      <td>2</td>\n",
       "      <td>Mark Wilson Lou Butera</td>\n",
       "      <td>0</td>\n",
       "      <td>USA</td>\n",
       "    </tr>\n",
       "    <tr>\n",
       "      <th>1995</th>\n",
       "      <td>Singles</td>\n",
       "      <td>Jimmy White</td>\n",
       "      <td>1</td>\n",
       "      <td>0</td>\n",
       "      <td>Lou Butera</td>\n",
       "      <td>1</td>\n",
       "      <td>Europe</td>\n",
       "    </tr>\n",
       "    <tr>\n",
       "      <th>1996</th>\n",
       "      <td>Doubles</td>\n",
       "      <td>Steve Davis Ronnie O'Sullivan</td>\n",
       "      <td>0</td>\n",
       "      <td>1</td>\n",
       "      <td>Earl Strickland C.J. Wiley</td>\n",
       "      <td>0</td>\n",
       "      <td>USA</td>\n",
       "    </tr>\n",
       "    <tr>\n",
       "      <th>1997</th>\n",
       "      <td>Singles</td>\n",
       "      <td>Tommy Donlon</td>\n",
       "      <td>0</td>\n",
       "      <td>2</td>\n",
       "      <td>Reed Pierce</td>\n",
       "      <td>0</td>\n",
       "      <td>USA</td>\n",
       "    </tr>\n",
       "    <tr>\n",
       "      <th>1998</th>\n",
       "      <td>Singles</td>\n",
       "      <td>Ralf Souquet</td>\n",
       "      <td>4</td>\n",
       "      <td>7</td>\n",
       "      <td>Johnny Archer</td>\n",
       "      <td>0</td>\n",
       "      <td>USA</td>\n",
       "    </tr>\n",
       "    <tr>\n",
       "      <th>1999</th>\n",
       "      <td>Singles</td>\n",
       "      <td>Steve Davis</td>\n",
       "      <td>2</td>\n",
       "      <td>5</td>\n",
       "      <td>Johnny Archer</td>\n",
       "      <td>0</td>\n",
       "      <td>USA</td>\n",
       "    </tr>\n",
       "    <tr>\n",
       "      <th>2000</th>\n",
       "      <td>Singles</td>\n",
       "      <td>Thomas Engert</td>\n",
       "      <td>2</td>\n",
       "      <td>5</td>\n",
       "      <td>Earl Strickland</td>\n",
       "      <td>0</td>\n",
       "      <td>USA</td>\n",
       "    </tr>\n",
       "    <tr>\n",
       "      <th>2001</th>\n",
       "      <td>Doubles</td>\n",
       "      <td>Ralf Souquet Mika Immonen</td>\n",
       "      <td>1</td>\n",
       "      <td>5</td>\n",
       "      <td>Nick Varner Johnny Archer</td>\n",
       "      <td>0</td>\n",
       "      <td>USA</td>\n",
       "    </tr>\n",
       "    <tr>\n",
       "      <th>2002</th>\n",
       "      <td>Singles</td>\n",
       "      <td>Steve Davis</td>\n",
       "      <td>5</td>\n",
       "      <td>4</td>\n",
       "      <td>Earl Strickland</td>\n",
       "      <td>1</td>\n",
       "      <td>Europe</td>\n",
       "    </tr>\n",
       "    <tr>\n",
       "      <th>2003</th>\n",
       "      <td>Singles</td>\n",
       "      <td>Marcus Chamat</td>\n",
       "      <td>2</td>\n",
       "      <td>5</td>\n",
       "      <td>Jeremy Jones</td>\n",
       "      <td>0</td>\n",
       "      <td>USA</td>\n",
       "    </tr>\n",
       "    <tr>\n",
       "      <th>2004</th>\n",
       "      <td>Singles</td>\n",
       "      <td>Steve Davis</td>\n",
       "      <td>2</td>\n",
       "      <td>5</td>\n",
       "      <td>Charlie Williams</td>\n",
       "      <td>0</td>\n",
       "      <td>USA</td>\n",
       "    </tr>\n",
       "    <tr>\n",
       "      <th>2005</th>\n",
       "      <td>Singles</td>\n",
       "      <td>Thorsten Hohmann</td>\n",
       "      <td>4</td>\n",
       "      <td>5</td>\n",
       "      <td>Jeremy Jones</td>\n",
       "      <td>0</td>\n",
       "      <td>USA</td>\n",
       "    </tr>\n",
       "    <tr>\n",
       "      <th>2006</th>\n",
       "      <td>Singles</td>\n",
       "      <td>David Alcaide</td>\n",
       "      <td>2</td>\n",
       "      <td>5</td>\n",
       "      <td>Corey Deuel</td>\n",
       "      <td>0</td>\n",
       "      <td>Tied</td>\n",
       "    </tr>\n",
       "    <tr>\n",
       "      <th>2007</th>\n",
       "      <td>Singles</td>\n",
       "      <td>Ralf Souquet</td>\n",
       "      <td>6</td>\n",
       "      <td>4</td>\n",
       "      <td>Rodney Morris</td>\n",
       "      <td>1</td>\n",
       "      <td>Europe</td>\n",
       "    </tr>\n",
       "    <tr>\n",
       "      <th>2008</th>\n",
       "      <td>Singles</td>\n",
       "      <td>Mika Immonen</td>\n",
       "      <td>5</td>\n",
       "      <td>3</td>\n",
       "      <td>Shane Van Boening</td>\n",
       "      <td>1</td>\n",
       "      <td>Europe</td>\n",
       "    </tr>\n",
       "    <tr>\n",
       "      <th>2009</th>\n",
       "      <td>Singles</td>\n",
       "      <td>Ralf Souquet</td>\n",
       "      <td>2</td>\n",
       "      <td>6</td>\n",
       "      <td>Shane Van Boening</td>\n",
       "      <td>0</td>\n",
       "      <td>USA</td>\n",
       "    </tr>\n",
       "    <tr>\n",
       "      <th>2010</th>\n",
       "      <td>Singles</td>\n",
       "      <td>Ralf Souquet</td>\n",
       "      <td>6</td>\n",
       "      <td>4</td>\n",
       "      <td>Corey Deuel</td>\n",
       "      <td>1</td>\n",
       "      <td>Europe</td>\n",
       "    </tr>\n",
       "    <tr>\n",
       "      <th>2011</th>\n",
       "      <td>Singles</td>\n",
       "      <td>Niels Feijen</td>\n",
       "      <td>6</td>\n",
       "      <td>4</td>\n",
       "      <td>Rodney Morris</td>\n",
       "      <td>1</td>\n",
       "      <td>Europe</td>\n",
       "    </tr>\n",
       "    <tr>\n",
       "      <th>2012</th>\n",
       "      <td>Singles</td>\n",
       "      <td>Nick van den Berg</td>\n",
       "      <td>5</td>\n",
       "      <td>2</td>\n",
       "      <td>Mike Dechaine</td>\n",
       "      <td>1</td>\n",
       "      <td>Europe</td>\n",
       "    </tr>\n",
       "    <tr>\n",
       "      <th>2013</th>\n",
       "      <td>Doubles</td>\n",
       "      <td>Mika Immonen Niels Feijen</td>\n",
       "      <td>6</td>\n",
       "      <td>4</td>\n",
       "      <td>Dennis Hatch Rodney Morris</td>\n",
       "      <td>1</td>\n",
       "      <td>Europe</td>\n",
       "    </tr>\n",
       "    <tr>\n",
       "      <th>2014</th>\n",
       "      <td>Singles</td>\n",
       "      <td>Nikos Ekonomopoulos</td>\n",
       "      <td>5</td>\n",
       "      <td>2</td>\n",
       "      <td>Shane Van Boening</td>\n",
       "      <td>1</td>\n",
       "      <td>Europe</td>\n",
       "    </tr>\n",
       "    <tr>\n",
       "      <th>2015</th>\n",
       "      <td>Singles</td>\n",
       "      <td>Albin Ouschan</td>\n",
       "      <td>5</td>\n",
       "      <td>4</td>\n",
       "      <td>Skyler Woodward</td>\n",
       "      <td>1</td>\n",
       "      <td>Europe</td>\n",
       "    </tr>\n",
       "    <tr>\n",
       "      <th>2016</th>\n",
       "      <td>Singles</td>\n",
       "      <td>Jayson Shaw</td>\n",
       "      <td>5</td>\n",
       "      <td>1</td>\n",
       "      <td>Mike Dechaine</td>\n",
       "      <td>1</td>\n",
       "      <td>Europe</td>\n",
       "    </tr>\n",
       "  </tbody>\n",
       "</table>\n",
       "</div>"
      ],
      "text/plain": [
       "       Format                 European_player European_score American_score  \\\n",
       "Year                                                                          \n",
       "1994  Doubles        Jimmy White Steve Davis               0              2   \n",
       "1995  Singles                    Jimmy White               1              0   \n",
       "1996  Doubles  Steve Davis Ronnie O'Sullivan               0              1   \n",
       "1997  Singles                   Tommy Donlon               0              2   \n",
       "1998  Singles                    Ralf Souquet              4              7   \n",
       "1999  Singles                     Steve Davis              2              5   \n",
       "2000  Singles                   Thomas Engert              2              5   \n",
       "2001  Doubles       Ralf Souquet Mika Immonen              1              5   \n",
       "2002  Singles                     Steve Davis              5              4   \n",
       "2003  Singles                   Marcus Chamat              2              5   \n",
       "2004  Singles                     Steve Davis              2              5   \n",
       "2005  Singles                Thorsten Hohmann              4              5   \n",
       "2006  Singles                   David Alcaide              2              5   \n",
       "2007  Singles                    Ralf Souquet              6              4   \n",
       "2008  Singles                    Mika Immonen              5              3   \n",
       "2009  Singles                    Ralf Souquet              2              6   \n",
       "2010  Singles                    Ralf Souquet              6              4   \n",
       "2011  Singles                    Niels Feijen              6              4   \n",
       "2012  Singles               Nick van den Berg              5              2   \n",
       "2013  Doubles       Mika Immonen Niels Feijen              6              4   \n",
       "2014  Singles             Nikos Ekonomopoulos              5              2   \n",
       "2015  Singles                   Albin Ouschan              5              4   \n",
       "2016  Singles                     Jayson Shaw              5              1   \n",
       "\n",
       "                  American_player  Europe_won  Victors  \n",
       "Year                                                    \n",
       "1994      Mark Wilson Lou Butera            0      USA  \n",
       "1995                  Lou Butera            1   Europe  \n",
       "1996  Earl Strickland C.J. Wiley            0      USA  \n",
       "1997                 Reed Pierce            0      USA  \n",
       "1998                Johnny Archer           0      USA  \n",
       "1999                Johnny Archer           0      USA  \n",
       "2000              Earl Strickland           0      USA  \n",
       "2001    Nick Varner Johnny Archer           0      USA  \n",
       "2002              Earl Strickland           1   Europe  \n",
       "2003                 Jeremy Jones           0      USA  \n",
       "2004             Charlie Williams           0      USA  \n",
       "2005                 Jeremy Jones           0      USA  \n",
       "2006                  Corey Deuel           0     Tied  \n",
       "2007                Rodney Morris           1   Europe  \n",
       "2008            Shane Van Boening           1   Europe  \n",
       "2009            Shane Van Boening           0      USA  \n",
       "2010                  Corey Deuel           1   Europe  \n",
       "2011                Rodney Morris           1   Europe  \n",
       "2012                Mike Dechaine           1   Europe  \n",
       "2013   Dennis Hatch Rodney Morris           1   Europe  \n",
       "2014            Shane Van Boening           1   Europe  \n",
       "2015              Skyler Woodward           1   Europe  \n",
       "2016                Mike Dechaine           1   Europe  "
      ]
     },
     "execution_count": 115,
     "metadata": {},
     "output_type": "execute_result"
    }
   ],
   "source": [
    "last['winner'].apply"
   ]
  }
 ],
 "metadata": {
  "kernelspec": {
   "display_name": "Python 3",
   "language": "python",
   "name": "python3"
  },
  "language_info": {
   "codemirror_mode": {
    "name": "ipython",
    "version": 3
   },
   "file_extension": ".py",
   "mimetype": "text/x-python",
   "name": "python",
   "nbconvert_exporter": "python",
   "pygments_lexer": "ipython3",
   "version": "3.5.2"
  }
 },
 "nbformat": 4,
 "nbformat_minor": 2
}
