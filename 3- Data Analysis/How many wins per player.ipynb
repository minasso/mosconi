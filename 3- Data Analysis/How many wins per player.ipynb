{
 "cells": [
  {
   "cell_type": "code",
   "execution_count": 142,
   "metadata": {
    "collapsed": true
   },
   "outputs": [],
   "source": [
    "import pandas as pd"
   ]
  },
  {
   "cell_type": "code",
   "execution_count": 143,
   "metadata": {
    "collapsed": true
   },
   "outputs": [],
   "source": [
    "import sqlite3"
   ]
  },
  {
   "cell_type": "code",
   "execution_count": 144,
   "metadata": {
    "collapsed": true
   },
   "outputs": [],
   "source": [
    "con = sqlite3.connect('../players.db')"
   ]
  },
  {
   "cell_type": "code",
   "execution_count": 145,
   "metadata": {
    "collapsed": true
   },
   "outputs": [],
   "source": [
    "sql = 'select * from results'\n",
    "df = pd.read_sql(sql,con,index_col=['Year'])"
   ]
  },
  {
   "cell_type": "code",
   "execution_count": 146,
   "metadata": {
    "collapsed": true
   },
   "outputs": [],
   "source": [
    "sql = 'select * from yearly'\n",
    "yearly = pd.read_sql(sql,con,index_col='Year')\n",
    "yearly.drop('index',axis=1,inplace=True)"
   ]
  },
  {
   "cell_type": "code",
   "execution_count": 147,
   "metadata": {
    "collapsed": true
   },
   "outputs": [],
   "source": [
    "sql = 'select * from players'\n",
    "players = pd.read_sql(sql,con)"
   ]
  },
  {
   "cell_type": "code",
   "execution_count": 148,
   "metadata": {
    "collapsed": true
   },
   "outputs": [],
   "source": [
    "am = list(players[players['Team']=='America']['Name'])"
   ]
  },
  {
   "cell_type": "code",
   "execution_count": 149,
   "metadata": {
    "collapsed": true
   },
   "outputs": [],
   "source": [
    "eu = list(players[players['Team']=='Europe']['Name'])"
   ]
  },
  {
   "cell_type": "code",
   "execution_count": 150,
   "metadata": {
    "scrolled": true
   },
   "outputs": [
    {
     "data": {
      "text/html": [
       "<div>\n",
       "<table border=\"1\" class=\"dataframe\">\n",
       "  <thead>\n",
       "    <tr style=\"text-align: right;\">\n",
       "      <th></th>\n",
       "      <th>Venue</th>\n",
       "      <th>Victors</th>\n",
       "      <th>Score</th>\n",
       "      <th>Losers</th>\n",
       "      <th>MVP</th>\n",
       "    </tr>\n",
       "    <tr>\n",
       "      <th>Year</th>\n",
       "      <th></th>\n",
       "      <th></th>\n",
       "      <th></th>\n",
       "      <th></th>\n",
       "      <th></th>\n",
       "    </tr>\n",
       "  </thead>\n",
       "  <tbody>\n",
       "    <tr>\n",
       "      <th>1994</th>\n",
       "      <td>Romford, London, England</td>\n",
       "      <td>USA</td>\n",
       "      <td>16–12</td>\n",
       "      <td>Europe</td>\n",
       "      <td>None</td>\n",
       "    </tr>\n",
       "    <tr>\n",
       "      <th>1995</th>\n",
       "      <td>Basildon, Essex, England</td>\n",
       "      <td>Europe</td>\n",
       "      <td>16–15</td>\n",
       "      <td>USA</td>\n",
       "      <td>None</td>\n",
       "    </tr>\n",
       "    <tr>\n",
       "      <th>1996</th>\n",
       "      <td>Dagenham, London, England</td>\n",
       "      <td>USA</td>\n",
       "      <td>15–13</td>\n",
       "      <td>Europe</td>\n",
       "      <td>None</td>\n",
       "    </tr>\n",
       "    <tr>\n",
       "      <th>1997</th>\n",
       "      <td>Bethnal Green, London, England</td>\n",
       "      <td>USA</td>\n",
       "      <td>13–8</td>\n",
       "      <td>Europe</td>\n",
       "      <td>None</td>\n",
       "    </tr>\n",
       "    <tr>\n",
       "      <th>1998</th>\n",
       "      <td>Bethnal Green, London, England</td>\n",
       "      <td>USA</td>\n",
       "      <td>13–9</td>\n",
       "      <td>Europe</td>\n",
       "      <td>None</td>\n",
       "    </tr>\n",
       "    <tr>\n",
       "      <th>1999</th>\n",
       "      <td>Bethnal Green, London, England</td>\n",
       "      <td>USA</td>\n",
       "      <td>12–7</td>\n",
       "      <td>Europe</td>\n",
       "      <td>None</td>\n",
       "    </tr>\n",
       "    <tr>\n",
       "      <th>2000</th>\n",
       "      <td>Bethnal Green, London, England</td>\n",
       "      <td>USA</td>\n",
       "      <td>12–9</td>\n",
       "      <td>Europe</td>\n",
       "      <td>None</td>\n",
       "    </tr>\n",
       "    <tr>\n",
       "      <th>2001</th>\n",
       "      <td>Bethnal Green, London, England</td>\n",
       "      <td>USA</td>\n",
       "      <td>12–1</td>\n",
       "      <td>Europe</td>\n",
       "      <td>None</td>\n",
       "    </tr>\n",
       "    <tr>\n",
       "      <th>2002</th>\n",
       "      <td>Bethnal Green, London, England</td>\n",
       "      <td>Europe</td>\n",
       "      <td>12–9</td>\n",
       "      <td>USA</td>\n",
       "      <td>None</td>\n",
       "    </tr>\n",
       "    <tr>\n",
       "      <th>2003</th>\n",
       "      <td>Las Vegas, Nevada, USA</td>\n",
       "      <td>USA</td>\n",
       "      <td>11–9</td>\n",
       "      <td>Europe</td>\n",
       "      <td>Mika Immonen</td>\n",
       "    </tr>\n",
       "    <tr>\n",
       "      <th>2004</th>\n",
       "      <td>Egmond aan Zee, Netherlands</td>\n",
       "      <td>USA</td>\n",
       "      <td>12–9</td>\n",
       "      <td>Europe</td>\n",
       "      <td>Rodney Morris</td>\n",
       "    </tr>\n",
       "    <tr>\n",
       "      <th>2005</th>\n",
       "      <td>Las Vegas, Nevada, USA</td>\n",
       "      <td>USA</td>\n",
       "      <td>11–6</td>\n",
       "      <td>Europe</td>\n",
       "      <td>Earl Strickland</td>\n",
       "    </tr>\n",
       "    <tr>\n",
       "      <th>2006</th>\n",
       "      <td>Rotterdam, Netherlands</td>\n",
       "      <td>Tied</td>\n",
       "      <td>12–12</td>\n",
       "      <td>Tied</td>\n",
       "      <td>Corey Deuel</td>\n",
       "    </tr>\n",
       "    <tr>\n",
       "      <th>2007</th>\n",
       "      <td>Las Vegas, Nevada, USA</td>\n",
       "      <td>Europe</td>\n",
       "      <td>11–8</td>\n",
       "      <td>USA</td>\n",
       "      <td>Tony Drago</td>\n",
       "    </tr>\n",
       "    <tr>\n",
       "      <th>2008</th>\n",
       "      <td>St. Julian's, Malta</td>\n",
       "      <td>Europe</td>\n",
       "      <td>11–5</td>\n",
       "      <td>USA</td>\n",
       "      <td>Mika Immonen</td>\n",
       "    </tr>\n",
       "    <tr>\n",
       "      <th>2009</th>\n",
       "      <td>Las Vegas, Nevada, USA</td>\n",
       "      <td>USA</td>\n",
       "      <td>11–7</td>\n",
       "      <td>Europe</td>\n",
       "      <td>Dennis Hatch</td>\n",
       "    </tr>\n",
       "    <tr>\n",
       "      <th>2010</th>\n",
       "      <td>Bethnal Green, London, England</td>\n",
       "      <td>Europe</td>\n",
       "      <td>11–8</td>\n",
       "      <td>USA</td>\n",
       "      <td>Darren Appleton</td>\n",
       "    </tr>\n",
       "    <tr>\n",
       "      <th>2011</th>\n",
       "      <td>Las Vegas, Nevada, USA</td>\n",
       "      <td>Europe</td>\n",
       "      <td>11–7</td>\n",
       "      <td>USA</td>\n",
       "      <td>Niels Feijen</td>\n",
       "    </tr>\n",
       "    <tr>\n",
       "      <th>2012</th>\n",
       "      <td>Bethnal Green, London, England</td>\n",
       "      <td>Europe</td>\n",
       "      <td>11–9</td>\n",
       "      <td>USA</td>\n",
       "      <td>Chris Melling</td>\n",
       "    </tr>\n",
       "    <tr>\n",
       "      <th>2013</th>\n",
       "      <td>Las Vegas, Nevada, USA</td>\n",
       "      <td>Europe</td>\n",
       "      <td>11–2</td>\n",
       "      <td>USA</td>\n",
       "      <td>Niels Feijen</td>\n",
       "    </tr>\n",
       "    <tr>\n",
       "      <th>2014</th>\n",
       "      <td>Tower Circus, Blackpool, England</td>\n",
       "      <td>Europe</td>\n",
       "      <td>11–5</td>\n",
       "      <td>USA</td>\n",
       "      <td>Niels Feijen</td>\n",
       "    </tr>\n",
       "    <tr>\n",
       "      <th>2015</th>\n",
       "      <td>Las Vegas, Nevada, USA</td>\n",
       "      <td>Europe</td>\n",
       "      <td>11–7</td>\n",
       "      <td>USA</td>\n",
       "      <td>Niels Feijen</td>\n",
       "    </tr>\n",
       "    <tr>\n",
       "      <th>2016</th>\n",
       "      <td>Alexandra Palace, London, England</td>\n",
       "      <td>Europe</td>\n",
       "      <td>11–3</td>\n",
       "      <td>USA</td>\n",
       "      <td>Albin Ouschan</td>\n",
       "    </tr>\n",
       "  </tbody>\n",
       "</table>\n",
       "</div>"
      ],
      "text/plain": [
       "                                  Venue  Victors  Score   Losers  \\\n",
       "Year                                                               \n",
       "1994           Romford, London, England      USA  16–12   Europe   \n",
       "1995           Basildon, Essex, England   Europe  16–15      USA   \n",
       "1996          Dagenham, London, England      USA  15–13   Europe   \n",
       "1997     Bethnal Green, London, England      USA   13–8   Europe   \n",
       "1998     Bethnal Green, London, England      USA   13–9   Europe   \n",
       "1999     Bethnal Green, London, England      USA   12–7   Europe   \n",
       "2000     Bethnal Green, London, England      USA   12–9   Europe   \n",
       "2001     Bethnal Green, London, England      USA   12–1   Europe   \n",
       "2002     Bethnal Green, London, England   Europe   12–9      USA   \n",
       "2003             Las Vegas, Nevada, USA      USA   11–9   Europe   \n",
       "2004        Egmond aan Zee, Netherlands      USA   12–9   Europe   \n",
       "2005             Las Vegas, Nevada, USA      USA   11–6   Europe   \n",
       "2006             Rotterdam, Netherlands     Tied  12–12     Tied   \n",
       "2007             Las Vegas, Nevada, USA   Europe   11–8      USA   \n",
       "2008                St. Julian's, Malta   Europe   11–5      USA   \n",
       "2009             Las Vegas, Nevada, USA      USA   11–7   Europe   \n",
       "2010     Bethnal Green, London, England   Europe   11–8      USA   \n",
       "2011             Las Vegas, Nevada, USA   Europe   11–7      USA   \n",
       "2012     Bethnal Green, London, England   Europe   11–9      USA   \n",
       "2013             Las Vegas, Nevada, USA   Europe   11–2      USA   \n",
       "2014   Tower Circus, Blackpool, England   Europe   11–5      USA   \n",
       "2015             Las Vegas, Nevada, USA   Europe   11–7      USA   \n",
       "2016  Alexandra Palace, London, England   Europe   11–3      USA   \n",
       "\n",
       "                  MVP  \n",
       "Year                   \n",
       "1994             None  \n",
       "1995             None  \n",
       "1996             None  \n",
       "1997             None  \n",
       "1998             None  \n",
       "1999             None  \n",
       "2000             None  \n",
       "2001             None  \n",
       "2002             None  \n",
       "2003     Mika Immonen  \n",
       "2004    Rodney Morris  \n",
       "2005  Earl Strickland  \n",
       "2006      Corey Deuel  \n",
       "2007       Tony Drago  \n",
       "2008     Mika Immonen  \n",
       "2009     Dennis Hatch  \n",
       "2010  Darren Appleton  \n",
       "2011     Niels Feijen  \n",
       "2012    Chris Melling  \n",
       "2013     Niels Feijen  \n",
       "2014     Niels Feijen  \n",
       "2015     Niels Feijen  \n",
       "2016    Albin Ouschan  "
      ]
     },
     "execution_count": 150,
     "metadata": {},
     "output_type": "execute_result"
    }
   ],
   "source": [
    "yearly"
   ]
  },
  {
   "cell_type": "code",
   "execution_count": 151,
   "metadata": {
    "collapsed": true
   },
   "outputs": [],
   "source": [
    "am_years = list(yearly[yearly['Victors'].str.contains('USA')].index)\n",
    "eu_years = list(yearly[yearly['Victors'].str.contains('Europe')].index)"
   ]
  },
  {
   "cell_type": "code",
   "execution_count": 152,
   "metadata": {},
   "outputs": [
    {
     "data": {
      "text/plain": [
       "[1994, 1996, 1997, 1998, 1999, 2000, 2001, 2003, 2004, 2005, 2009]"
      ]
     },
     "execution_count": 152,
     "metadata": {},
     "output_type": "execute_result"
    }
   ],
   "source": [
    "am_years"
   ]
  },
  {
   "cell_type": "code",
   "execution_count": 153,
   "metadata": {},
   "outputs": [
    {
     "data": {
      "text/plain": [
       "[1995, 2002, 2007, 2008, 2010, 2011, 2012, 2013, 2014, 2015, 2016]"
      ]
     },
     "execution_count": 153,
     "metadata": {},
     "output_type": "execute_result"
    }
   ],
   "source": [
    "eu_years"
   ]
  },
  {
   "cell_type": "markdown",
   "metadata": {},
   "source": [
    "For each player, loop through results to find out which years that they played.\n",
    "\n",
    "Should also find the american and european rosters for each year and add that to the yearly table"
   ]
  },
  {
   "cell_type": "code",
   "execution_count": 154,
   "metadata": {
    "collapsed": true
   },
   "outputs": [],
   "source": [
    "d={}"
   ]
  },
  {
   "cell_type": "code",
   "execution_count": 155,
   "metadata": {
    "collapsed": true
   },
   "outputs": [],
   "source": [
    "for player in am:\n",
    "    s = set(df[df['American_player'].str.contains(player)].index)\n",
    "    d[player]= s"
   ]
  },
  {
   "cell_type": "code",
   "execution_count": 156,
   "metadata": {
    "collapsed": true
   },
   "outputs": [],
   "source": [
    "for player in eu:\n",
    "    s = set(df[df['European_player'].str.contains(player)].index)\n",
    "    d[player]= s"
   ]
  },
  {
   "cell_type": "code",
   "execution_count": 158,
   "metadata": {
    "collapsed": true
   },
   "outputs": [],
   "source": [
    "players['Years']=players['Name'].apply(lambda x: d[x])"
   ]
  },
  {
   "cell_type": "code",
   "execution_count": 159,
   "metadata": {
    "collapsed": true
   },
   "outputs": [],
   "source": [
    "players['Appearances'] = players['Years'].apply(lambda x: len(x))"
   ]
  },
  {
   "cell_type": "code",
   "execution_count": 160,
   "metadata": {
    "scrolled": true
   },
   "outputs": [
    {
     "data": {
      "text/html": [
       "<div>\n",
       "<table border=\"1\" class=\"dataframe\">\n",
       "  <thead>\n",
       "    <tr style=\"text-align: right;\">\n",
       "      <th></th>\n",
       "      <th>Name</th>\n",
       "      <th>Location</th>\n",
       "      <th>Team</th>\n",
       "      <th>Years</th>\n",
       "      <th>Appearances</th>\n",
       "    </tr>\n",
       "  </thead>\n",
       "  <tbody>\n",
       "    <tr>\n",
       "      <th>0</th>\n",
       "      <td>Johnny Archer</td>\n",
       "      <td>Georgia</td>\n",
       "      <td>America</td>\n",
       "      <td>{1997, 1998, 1999, 2000, 2001, 2002, 2003, 200...</td>\n",
       "      <td>17</td>\n",
       "    </tr>\n",
       "    <tr>\n",
       "      <th>1</th>\n",
       "      <td>Earl Strickland</td>\n",
       "      <td>North Carolina</td>\n",
       "      <td>America</td>\n",
       "      <td>{1996, 1997, 1998, 1999, 2000, 2001, 2002, 200...</td>\n",
       "      <td>14</td>\n",
       "    </tr>\n",
       "    <tr>\n",
       "      <th>2</th>\n",
       "      <td>Rodney Morris</td>\n",
       "      <td>California</td>\n",
       "      <td>America</td>\n",
       "      <td>{2016, 2003, 2004, 2005, 2006, 2007, 2008, 201...</td>\n",
       "      <td>10</td>\n",
       "    </tr>\n",
       "    <tr>\n",
       "      <th>3</th>\n",
       "      <td>Shane Van Boening</td>\n",
       "      <td>South Dakota</td>\n",
       "      <td>America</td>\n",
       "      <td>{2016, 2007, 2008, 2009, 2010, 2011, 2012, 201...</td>\n",
       "      <td>10</td>\n",
       "    </tr>\n",
       "    <tr>\n",
       "      <th>4</th>\n",
       "      <td>Corey Deuel</td>\n",
       "      <td>California</td>\n",
       "      <td>America</td>\n",
       "      <td>{2000, 2001, 2002, 2006, 2007, 2009, 2010, 201...</td>\n",
       "      <td>9</td>\n",
       "    </tr>\n",
       "    <tr>\n",
       "      <th>5</th>\n",
       "      <td>Jeremy Jones</td>\n",
       "      <td>Texas</td>\n",
       "      <td>America</td>\n",
       "      <td>{1999, 2000, 2001, 2002, 2003, 2005, 2008}</td>\n",
       "      <td>7</td>\n",
       "    </tr>\n",
       "    <tr>\n",
       "      <th>6</th>\n",
       "      <td>Charlie Williams</td>\n",
       "      <td>South Korea</td>\n",
       "      <td>America</td>\n",
       "      <td>{2001, 2002, 2003, 2004, 2005}</td>\n",
       "      <td>5</td>\n",
       "    </tr>\n",
       "    <tr>\n",
       "      <th>7</th>\n",
       "      <td>Nick Varner</td>\n",
       "      <td>Kentucky</td>\n",
       "      <td>America</td>\n",
       "      <td>{2001, 2002, 1997, 1998}</td>\n",
       "      <td>4</td>\n",
       "    </tr>\n",
       "    <tr>\n",
       "      <th>8</th>\n",
       "      <td>Mike Dechaine</td>\n",
       "      <td>Maine</td>\n",
       "      <td>America</td>\n",
       "      <td>{2016, 2011, 2012, 2015}</td>\n",
       "      <td>4</td>\n",
       "    </tr>\n",
       "    <tr>\n",
       "      <th>9</th>\n",
       "      <td>Dennis Hatch</td>\n",
       "      <td>Michigan</td>\n",
       "      <td>America</td>\n",
       "      <td>{2009, 2010, 2012, 2013}</td>\n",
       "      <td>4</td>\n",
       "    </tr>\n",
       "    <tr>\n",
       "      <th>10</th>\n",
       "      <td>Kim Davenport</td>\n",
       "      <td>Oklahoma</td>\n",
       "      <td>America</td>\n",
       "      <td>{1997, 1998, 1999}</td>\n",
       "      <td>3</td>\n",
       "    </tr>\n",
       "    <tr>\n",
       "      <th>11</th>\n",
       "      <td>Justin Bergman</td>\n",
       "      <td>Illinois</td>\n",
       "      <td>America</td>\n",
       "      <td>{2016, 2014, 2015}</td>\n",
       "      <td>3</td>\n",
       "    </tr>\n",
       "    <tr>\n",
       "      <th>12</th>\n",
       "      <td>James Rempe</td>\n",
       "      <td>Pennsylvania</td>\n",
       "      <td>America</td>\n",
       "      <td>{1997, 1998, 1999}</td>\n",
       "      <td>3</td>\n",
       "    </tr>\n",
       "    <tr>\n",
       "      <th>13</th>\n",
       "      <td>Mark Wilson</td>\n",
       "      <td>Missouri</td>\n",
       "      <td>America</td>\n",
       "      <td>{1994, 1995}</td>\n",
       "      <td>2</td>\n",
       "    </tr>\n",
       "    <tr>\n",
       "      <th>14</th>\n",
       "      <td>Lou Butera</td>\n",
       "      <td>Pennsylvania</td>\n",
       "      <td>America</td>\n",
       "      <td>{1994, 1995}</td>\n",
       "      <td>2</td>\n",
       "    </tr>\n",
       "    <tr>\n",
       "      <th>15</th>\n",
       "      <td>Michael Coltrain</td>\n",
       "      <td>North Carolina</td>\n",
       "      <td>America</td>\n",
       "      <td>{2000, 1999}</td>\n",
       "      <td>2</td>\n",
       "    </tr>\n",
       "    <tr>\n",
       "      <th>16</th>\n",
       "      <td>Shannon Daulton</td>\n",
       "      <td>Kentucky</td>\n",
       "      <td>America</td>\n",
       "      <td>{2000, 1996}</td>\n",
       "      <td>2</td>\n",
       "    </tr>\n",
       "    <tr>\n",
       "      <th>17</th>\n",
       "      <td>Mike Gulyassy</td>\n",
       "      <td>Ohio</td>\n",
       "      <td>America</td>\n",
       "      <td>{1994, 1995}</td>\n",
       "      <td>2</td>\n",
       "    </tr>\n",
       "    <tr>\n",
       "      <th>18</th>\n",
       "      <td>Robert Hunter</td>\n",
       "      <td>Michigan</td>\n",
       "      <td>America</td>\n",
       "      <td>{1995}</td>\n",
       "      <td>1</td>\n",
       "    </tr>\n",
       "    <tr>\n",
       "      <th>19</th>\n",
       "      <td>Mike Massey</td>\n",
       "      <td>Tennessee</td>\n",
       "      <td>America</td>\n",
       "      <td>{1995, 1996}</td>\n",
       "      <td>2</td>\n",
       "    </tr>\n",
       "    <tr>\n",
       "      <th>20</th>\n",
       "      <td>Reed Pierce</td>\n",
       "      <td>Mississippi</td>\n",
       "      <td>America</td>\n",
       "      <td>{1997, 1998}</td>\n",
       "      <td>2</td>\n",
       "    </tr>\n",
       "    <tr>\n",
       "      <th>21</th>\n",
       "      <td>Shawn Putnam</td>\n",
       "      <td>Pennsylvania</td>\n",
       "      <td>America</td>\n",
       "      <td>{2011}</td>\n",
       "      <td>1</td>\n",
       "    </tr>\n",
       "    <tr>\n",
       "      <th>22</th>\n",
       "      <td>Tony Robles</td>\n",
       "      <td>New York</td>\n",
       "      <td>America</td>\n",
       "      <td>{2003, 2004}</td>\n",
       "      <td>2</td>\n",
       "    </tr>\n",
       "    <tr>\n",
       "      <th>23</th>\n",
       "      <td>John Schmidt</td>\n",
       "      <td>California</td>\n",
       "      <td>America</td>\n",
       "      <td>{2014, 2006}</td>\n",
       "      <td>2</td>\n",
       "    </tr>\n",
       "    <tr>\n",
       "      <th>24</th>\n",
       "      <td>Dallas West</td>\n",
       "      <td>Illinois</td>\n",
       "      <td>America</td>\n",
       "      <td>{1994, 1995}</td>\n",
       "      <td>2</td>\n",
       "    </tr>\n",
       "    <tr>\n",
       "      <th>25</th>\n",
       "      <td>Skyler Woodward</td>\n",
       "      <td>Kentucky</td>\n",
       "      <td>America</td>\n",
       "      <td>{2016, 2015}</td>\n",
       "      <td>2</td>\n",
       "    </tr>\n",
       "    <tr>\n",
       "      <th>26</th>\n",
       "      <td>C.J. Wiley</td>\n",
       "      <td>Texas</td>\n",
       "      <td>America</td>\n",
       "      <td>{1996}</td>\n",
       "      <td>1</td>\n",
       "    </tr>\n",
       "    <tr>\n",
       "      <th>27</th>\n",
       "      <td>Mike Davis</td>\n",
       "      <td>North Carolina</td>\n",
       "      <td>America</td>\n",
       "      <td>{2006}</td>\n",
       "      <td>1</td>\n",
       "    </tr>\n",
       "    <tr>\n",
       "      <th>28</th>\n",
       "      <td>John DiToro</td>\n",
       "      <td>Florida</td>\n",
       "      <td>America</td>\n",
       "      <td>{1995}</td>\n",
       "      <td>1</td>\n",
       "    </tr>\n",
       "    <tr>\n",
       "      <th>29</th>\n",
       "      <td>Oscar Dominguez</td>\n",
       "      <td>California</td>\n",
       "      <td>America</td>\n",
       "      <td>{2009}</td>\n",
       "      <td>1</td>\n",
       "    </tr>\n",
       "    <tr>\n",
       "      <th>...</th>\n",
       "      <td>...</td>\n",
       "      <td>...</td>\n",
       "      <td>...</td>\n",
       "      <td>...</td>\n",
       "      <td>...</td>\n",
       "    </tr>\n",
       "    <tr>\n",
       "      <th>48</th>\n",
       "      <td>Marcus Chamat</td>\n",
       "      <td>Sweden</td>\n",
       "      <td>Europe</td>\n",
       "      <td>{2000, 2001, 2002, 2003, 2004, 2005}</td>\n",
       "      <td>6</td>\n",
       "    </tr>\n",
       "    <tr>\n",
       "      <th>49</th>\n",
       "      <td>Karl Boyes</td>\n",
       "      <td>England</td>\n",
       "      <td>Europe</td>\n",
       "      <td>{2010, 2013, 2014, 2015}</td>\n",
       "      <td>4</td>\n",
       "    </tr>\n",
       "    <tr>\n",
       "      <th>50</th>\n",
       "      <td>Steve Knight</td>\n",
       "      <td>England</td>\n",
       "      <td>Europe</td>\n",
       "      <td>{2000, 2001, 1998, 1999}</td>\n",
       "      <td>4</td>\n",
       "    </tr>\n",
       "    <tr>\n",
       "      <th>51</th>\n",
       "      <td>Thomas Engert</td>\n",
       "      <td>Germany</td>\n",
       "      <td>Europe</td>\n",
       "      <td>{2000, 2004, 2006}</td>\n",
       "      <td>3</td>\n",
       "    </tr>\n",
       "    <tr>\n",
       "      <th>52</th>\n",
       "      <td>Mark Gray</td>\n",
       "      <td>England</td>\n",
       "      <td>Europe</td>\n",
       "      <td>{2008, 2016, 2014}</td>\n",
       "      <td>3</td>\n",
       "    </tr>\n",
       "    <tr>\n",
       "      <th>53</th>\n",
       "      <td>Thorsten Hohmann</td>\n",
       "      <td>Germany</td>\n",
       "      <td>Europe</td>\n",
       "      <td>{2009, 2003, 2005}</td>\n",
       "      <td>3</td>\n",
       "    </tr>\n",
       "    <tr>\n",
       "      <th>54</th>\n",
       "      <td>Alex Lely</td>\n",
       "      <td>Netherlands</td>\n",
       "      <td>Europe</td>\n",
       "      <td>{2005, 1999}</td>\n",
       "      <td>2</td>\n",
       "    </tr>\n",
       "    <tr>\n",
       "      <th>55</th>\n",
       "      <td>Albin Ouschan</td>\n",
       "      <td>Austria</td>\n",
       "      <td>Europe</td>\n",
       "      <td>{2016, 2015}</td>\n",
       "      <td>2</td>\n",
       "    </tr>\n",
       "    <tr>\n",
       "      <th>56</th>\n",
       "      <td>Tony Drago</td>\n",
       "      <td>Malta</td>\n",
       "      <td>Europe</td>\n",
       "      <td>{2008, 2007}</td>\n",
       "      <td>2</td>\n",
       "    </tr>\n",
       "    <tr>\n",
       "      <th>57</th>\n",
       "      <td>Nick Ekonomopoulos</td>\n",
       "      <td>Greece</td>\n",
       "      <td>Europe</td>\n",
       "      <td>{2012}</td>\n",
       "      <td>1</td>\n",
       "    </tr>\n",
       "    <tr>\n",
       "      <th>58</th>\n",
       "      <td>Chris Melling</td>\n",
       "      <td>England</td>\n",
       "      <td>Europe</td>\n",
       "      <td>{2011, 2012}</td>\n",
       "      <td>2</td>\n",
       "    </tr>\n",
       "    <tr>\n",
       "      <th>59</th>\n",
       "      <td>Ronnie O'Sullivan</td>\n",
       "      <td>England</td>\n",
       "      <td>Europe</td>\n",
       "      <td>{1996, 1997}</td>\n",
       "      <td>2</td>\n",
       "    </tr>\n",
       "    <tr>\n",
       "      <th>60</th>\n",
       "      <td>Daryl Peach</td>\n",
       "      <td>England</td>\n",
       "      <td>Europe</td>\n",
       "      <td>{1995, 2007}</td>\n",
       "      <td>2</td>\n",
       "    </tr>\n",
       "    <tr>\n",
       "      <th>61</th>\n",
       "      <td>Tom Storm</td>\n",
       "      <td>Sweden</td>\n",
       "      <td>Europe</td>\n",
       "      <td>{1994, 1995}</td>\n",
       "      <td>2</td>\n",
       "    </tr>\n",
       "    <tr>\n",
       "      <th>62</th>\n",
       "      <td>Jimmy White</td>\n",
       "      <td>England</td>\n",
       "      <td>Europe</td>\n",
       "      <td>{1994, 1995}</td>\n",
       "      <td>2</td>\n",
       "    </tr>\n",
       "    <tr>\n",
       "      <th>63</th>\n",
       "      <td>David Alcaide</td>\n",
       "      <td>Spain</td>\n",
       "      <td>Europe</td>\n",
       "      <td>{2006}</td>\n",
       "      <td>1</td>\n",
       "    </tr>\n",
       "    <tr>\n",
       "      <th>64</th>\n",
       "      <td>Tommy Donlon</td>\n",
       "      <td>Ireland</td>\n",
       "      <td>Europe</td>\n",
       "      <td>{1997}</td>\n",
       "      <td>1</td>\n",
       "    </tr>\n",
       "    <tr>\n",
       "      <th>65</th>\n",
       "      <td>Vincent Facquet</td>\n",
       "      <td>France</td>\n",
       "      <td>Europe</td>\n",
       "      <td>{1996}</td>\n",
       "      <td>1</td>\n",
       "    </tr>\n",
       "    <tr>\n",
       "      <th>66</th>\n",
       "      <td>Allison Fisher</td>\n",
       "      <td>England</td>\n",
       "      <td>Europe</td>\n",
       "      <td>{1994}</td>\n",
       "      <td>1</td>\n",
       "    </tr>\n",
       "    <tr>\n",
       "      <th>67</th>\n",
       "      <td>Alex Higgins</td>\n",
       "      <td>Northern Ireland</td>\n",
       "      <td>Europe</td>\n",
       "      <td>{1995}</td>\n",
       "      <td>1</td>\n",
       "    </tr>\n",
       "    <tr>\n",
       "      <th>68</th>\n",
       "      <td>Raj Hundal</td>\n",
       "      <td>England</td>\n",
       "      <td>Europe</td>\n",
       "      <td>{2005}</td>\n",
       "      <td>1</td>\n",
       "    </tr>\n",
       "    <tr>\n",
       "      <th>69</th>\n",
       "      <td>Lee Kendall</td>\n",
       "      <td>England</td>\n",
       "      <td>Europe</td>\n",
       "      <td>{1995}</td>\n",
       "      <td>1</td>\n",
       "    </tr>\n",
       "    <tr>\n",
       "      <th>70</th>\n",
       "      <td>Imran Majid</td>\n",
       "      <td>England</td>\n",
       "      <td>Europe</td>\n",
       "      <td>{2006}</td>\n",
       "      <td>1</td>\n",
       "    </tr>\n",
       "    <tr>\n",
       "      <th>71</th>\n",
       "      <td>Fabio Petroni</td>\n",
       "      <td>Italy</td>\n",
       "      <td>Europe</td>\n",
       "      <td>{1998}</td>\n",
       "      <td>1</td>\n",
       "    </tr>\n",
       "    <tr>\n",
       "      <th>72</th>\n",
       "      <td>Andy Richardson</td>\n",
       "      <td>England</td>\n",
       "      <td>Europe</td>\n",
       "      <td>{1996}</td>\n",
       "      <td>1</td>\n",
       "    </tr>\n",
       "    <tr>\n",
       "      <th>73</th>\n",
       "      <td>Jayson Shaw</td>\n",
       "      <td>Scotland</td>\n",
       "      <td>Europe</td>\n",
       "      <td>{2016}</td>\n",
       "      <td>1</td>\n",
       "    </tr>\n",
       "    <tr>\n",
       "      <th>74</th>\n",
       "      <td>Franziska Stark</td>\n",
       "      <td>Germany</td>\n",
       "      <td>Europe</td>\n",
       "      <td>{1994}</td>\n",
       "      <td>1</td>\n",
       "    </tr>\n",
       "    <tr>\n",
       "      <th>75</th>\n",
       "      <td>Konstantin Stepanov</td>\n",
       "      <td>Russia</td>\n",
       "      <td>Europe</td>\n",
       "      <td>{2007}</td>\n",
       "      <td>1</td>\n",
       "    </tr>\n",
       "    <tr>\n",
       "      <th>76</th>\n",
       "      <td>Lee Tucker</td>\n",
       "      <td>England</td>\n",
       "      <td>Europe</td>\n",
       "      <td>{1994}</td>\n",
       "      <td>1</td>\n",
       "    </tr>\n",
       "    <tr>\n",
       "      <th>77</th>\n",
       "      <td>Johan Ruijsink</td>\n",
       "      <td>Netherlands</td>\n",
       "      <td>Europe</td>\n",
       "      <td>{}</td>\n",
       "      <td>0</td>\n",
       "    </tr>\n",
       "  </tbody>\n",
       "</table>\n",
       "<p>78 rows × 5 columns</p>\n",
       "</div>"
      ],
      "text/plain": [
       "                   Name          Location     Team  \\\n",
       "0         Johnny Archer           Georgia  America   \n",
       "1       Earl Strickland    North Carolina  America   \n",
       "2         Rodney Morris        California  America   \n",
       "3     Shane Van Boening      South Dakota  America   \n",
       "4           Corey Deuel        California  America   \n",
       "5          Jeremy Jones             Texas  America   \n",
       "6      Charlie Williams       South Korea  America   \n",
       "7           Nick Varner          Kentucky  America   \n",
       "8         Mike Dechaine             Maine  America   \n",
       "9          Dennis Hatch          Michigan  America   \n",
       "10        Kim Davenport          Oklahoma  America   \n",
       "11       Justin Bergman          Illinois  America   \n",
       "12          James Rempe      Pennsylvania  America   \n",
       "13          Mark Wilson          Missouri  America   \n",
       "14           Lou Butera      Pennsylvania  America   \n",
       "15     Michael Coltrain    North Carolina  America   \n",
       "16      Shannon Daulton          Kentucky  America   \n",
       "17        Mike Gulyassy              Ohio  America   \n",
       "18        Robert Hunter          Michigan  America   \n",
       "19          Mike Massey         Tennessee  America   \n",
       "20          Reed Pierce       Mississippi  America   \n",
       "21         Shawn Putnam      Pennsylvania  America   \n",
       "22          Tony Robles          New York  America   \n",
       "23         John Schmidt        California  America   \n",
       "24          Dallas West          Illinois  America   \n",
       "25      Skyler Woodward          Kentucky  America   \n",
       "26           C.J. Wiley             Texas  America   \n",
       "27           Mike Davis    North Carolina  America   \n",
       "28          John DiToro           Florida  America   \n",
       "29      Oscar Dominguez        California  America   \n",
       "..                  ...               ...      ...   \n",
       "48        Marcus Chamat            Sweden   Europe   \n",
       "49           Karl Boyes           England   Europe   \n",
       "50         Steve Knight           England   Europe   \n",
       "51        Thomas Engert           Germany   Europe   \n",
       "52            Mark Gray           England   Europe   \n",
       "53     Thorsten Hohmann           Germany   Europe   \n",
       "54            Alex Lely       Netherlands   Europe   \n",
       "55        Albin Ouschan           Austria   Europe   \n",
       "56           Tony Drago             Malta   Europe   \n",
       "57   Nick Ekonomopoulos            Greece   Europe   \n",
       "58        Chris Melling           England   Europe   \n",
       "59    Ronnie O'Sullivan           England   Europe   \n",
       "60          Daryl Peach           England   Europe   \n",
       "61            Tom Storm            Sweden   Europe   \n",
       "62          Jimmy White           England   Europe   \n",
       "63        David Alcaide             Spain   Europe   \n",
       "64         Tommy Donlon           Ireland   Europe   \n",
       "65      Vincent Facquet            France   Europe   \n",
       "66       Allison Fisher           England   Europe   \n",
       "67         Alex Higgins  Northern Ireland   Europe   \n",
       "68           Raj Hundal           England   Europe   \n",
       "69          Lee Kendall           England   Europe   \n",
       "70          Imran Majid           England   Europe   \n",
       "71        Fabio Petroni             Italy   Europe   \n",
       "72      Andy Richardson           England   Europe   \n",
       "73          Jayson Shaw          Scotland   Europe   \n",
       "74      Franziska Stark           Germany   Europe   \n",
       "75  Konstantin Stepanov            Russia   Europe   \n",
       "76           Lee Tucker           England   Europe   \n",
       "77       Johan Ruijsink       Netherlands   Europe   \n",
       "\n",
       "                                                Years  Appearances  \n",
       "0   {1997, 1998, 1999, 2000, 2001, 2002, 2003, 200...           17  \n",
       "1   {1996, 1997, 1998, 1999, 2000, 2001, 2002, 200...           14  \n",
       "2   {2016, 2003, 2004, 2005, 2006, 2007, 2008, 201...           10  \n",
       "3   {2016, 2007, 2008, 2009, 2010, 2011, 2012, 201...           10  \n",
       "4   {2000, 2001, 2002, 2006, 2007, 2009, 2010, 201...            9  \n",
       "5          {1999, 2000, 2001, 2002, 2003, 2005, 2008}            7  \n",
       "6                      {2001, 2002, 2003, 2004, 2005}            5  \n",
       "7                            {2001, 2002, 1997, 1998}            4  \n",
       "8                            {2016, 2011, 2012, 2015}            4  \n",
       "9                            {2009, 2010, 2012, 2013}            4  \n",
       "10                                 {1997, 1998, 1999}            3  \n",
       "11                                 {2016, 2014, 2015}            3  \n",
       "12                                 {1997, 1998, 1999}            3  \n",
       "13                                       {1994, 1995}            2  \n",
       "14                                       {1994, 1995}            2  \n",
       "15                                       {2000, 1999}            2  \n",
       "16                                       {2000, 1996}            2  \n",
       "17                                       {1994, 1995}            2  \n",
       "18                                             {1995}            1  \n",
       "19                                       {1995, 1996}            2  \n",
       "20                                       {1997, 1998}            2  \n",
       "21                                             {2011}            1  \n",
       "22                                       {2003, 2004}            2  \n",
       "23                                       {2014, 2006}            2  \n",
       "24                                       {1994, 1995}            2  \n",
       "25                                       {2016, 2015}            2  \n",
       "26                                             {1996}            1  \n",
       "27                                             {2006}            1  \n",
       "28                                             {1995}            1  \n",
       "29                                             {2009}            1  \n",
       "..                                                ...          ...  \n",
       "48               {2000, 2001, 2002, 2003, 2004, 2005}            6  \n",
       "49                           {2010, 2013, 2014, 2015}            4  \n",
       "50                           {2000, 2001, 1998, 1999}            4  \n",
       "51                                 {2000, 2004, 2006}            3  \n",
       "52                                 {2008, 2016, 2014}            3  \n",
       "53                                 {2009, 2003, 2005}            3  \n",
       "54                                       {2005, 1999}            2  \n",
       "55                                       {2016, 2015}            2  \n",
       "56                                       {2008, 2007}            2  \n",
       "57                                             {2012}            1  \n",
       "58                                       {2011, 2012}            2  \n",
       "59                                       {1996, 1997}            2  \n",
       "60                                       {1995, 2007}            2  \n",
       "61                                       {1994, 1995}            2  \n",
       "62                                       {1994, 1995}            2  \n",
       "63                                             {2006}            1  \n",
       "64                                             {1997}            1  \n",
       "65                                             {1996}            1  \n",
       "66                                             {1994}            1  \n",
       "67                                             {1995}            1  \n",
       "68                                             {2005}            1  \n",
       "69                                             {1995}            1  \n",
       "70                                             {2006}            1  \n",
       "71                                             {1998}            1  \n",
       "72                                             {1996}            1  \n",
       "73                                             {2016}            1  \n",
       "74                                             {1994}            1  \n",
       "75                                             {2007}            1  \n",
       "76                                             {1994}            1  \n",
       "77                                                 {}            0  \n",
       "\n",
       "[78 rows x 5 columns]"
      ]
     },
     "execution_count": 160,
     "metadata": {},
     "output_type": "execute_result"
    }
   ],
   "source": [
    "players"
   ]
  },
  {
   "cell_type": "code",
   "execution_count": 177,
   "metadata": {},
   "outputs": [
    {
     "data": {
      "text/plain": [
       "'Corey Deuel'"
      ]
     },
     "execution_count": 177,
     "metadata": {},
     "output_type": "execute_result"
    },
    {
     "name": "stdout",
     "output_type": "stream",
     "text": [
      "2000 : win\n",
      "2001 : win\n",
      "2002 : loss\n",
      "2006 : tie\n",
      "2007 : loss\n",
      "2009 : win\n",
      "2010 : loss\n",
      "2014 : loss\n",
      "2015 : loss\n"
     ]
    },
    {
     "data": {
      "text/plain": [
       "'3-5-1'"
      ]
     },
     "execution_count": 177,
     "metadata": {},
     "output_type": "execute_result"
    },
    {
     "data": {
      "text/plain": [
       "'Nick Varner'"
      ]
     },
     "execution_count": 177,
     "metadata": {},
     "output_type": "execute_result"
    },
    {
     "name": "stdout",
     "output_type": "stream",
     "text": [
      "2001 : win\n",
      "2002 : loss\n",
      "1997 : win\n",
      "1998 : win\n"
     ]
    },
    {
     "data": {
      "text/plain": [
       "'3-1-0'"
      ]
     },
     "execution_count": 177,
     "metadata": {},
     "output_type": "execute_result"
    },
    {
     "data": {
      "text/plain": [
       "'Tony Robles'"
      ]
     },
     "execution_count": 177,
     "metadata": {},
     "output_type": "execute_result"
    },
    {
     "name": "stdout",
     "output_type": "stream",
     "text": [
      "2003 : win\n",
      "2004 : win\n"
     ]
    },
    {
     "data": {
      "text/plain": [
       "'2-0-0'"
      ]
     },
     "execution_count": 177,
     "metadata": {},
     "output_type": "execute_result"
    },
    {
     "data": {
      "text/plain": [
       "'Steve Davis'"
      ]
     },
     "execution_count": 177,
     "metadata": {},
     "output_type": "execute_result"
    },
    {
     "name": "stdout",
     "output_type": "stream",
     "text": [
      "1994 : loss\n",
      "1995 : win\n",
      "1996 : loss\n",
      "1997 : loss\n",
      "1998 : loss\n",
      "1999 : loss\n",
      "2000 : loss\n",
      "2001 : loss\n",
      "2002 : win\n",
      "2003 : loss\n",
      "2004 : loss\n"
     ]
    },
    {
     "data": {
      "text/plain": [
       "'2-9-0'"
      ]
     },
     "execution_count": 177,
     "metadata": {},
     "output_type": "execute_result"
    },
    {
     "data": {
      "text/plain": [
       "'Vincent Facquet'"
      ]
     },
     "execution_count": 177,
     "metadata": {},
     "output_type": "execute_result"
    },
    {
     "name": "stdout",
     "output_type": "stream",
     "text": [
      "1996 : loss\n"
     ]
    },
    {
     "data": {
      "text/plain": [
       "'0-1-0'"
      ]
     },
     "execution_count": 177,
     "metadata": {},
     "output_type": "execute_result"
    },
    {
     "data": {
      "text/plain": [
       "'Oscar Dominguez'"
      ]
     },
     "execution_count": 177,
     "metadata": {},
     "output_type": "execute_result"
    },
    {
     "name": "stdout",
     "output_type": "stream",
     "text": [
      "2009 : win\n"
     ]
    },
    {
     "data": {
      "text/plain": [
       "'1-0-0'"
      ]
     },
     "execution_count": 177,
     "metadata": {},
     "output_type": "execute_result"
    },
    {
     "data": {
      "text/plain": [
       "'Ralf Souquet'"
      ]
     },
     "execution_count": 177,
     "metadata": {},
     "output_type": "execute_result"
    },
    {
     "name": "stdout",
     "output_type": "stream",
     "text": [
      "1994 : loss\n",
      "1996 : loss\n",
      "1997 : loss\n",
      "1998 : loss\n",
      "1999 : loss\n",
      "2000 : loss\n",
      "2001 : loss\n",
      "2002 : win\n",
      "2003 : loss\n",
      "2006 : tie\n",
      "2007 : win\n",
      "2008 : win\n",
      "2009 : loss\n",
      "2010 : win\n",
      "2011 : win\n",
      "2013 : win\n"
     ]
    },
    {
     "data": {
      "text/plain": [
       "'6-9-1'"
      ]
     },
     "execution_count": 177,
     "metadata": {},
     "output_type": "execute_result"
    },
    {
     "data": {
      "text/plain": [
       "'Marcus Chamat'"
      ]
     },
     "execution_count": 177,
     "metadata": {},
     "output_type": "execute_result"
    },
    {
     "name": "stdout",
     "output_type": "stream",
     "text": [
      "2000 : loss\n",
      "2001 : loss\n",
      "2002 : win\n",
      "2003 : loss\n",
      "2004 : loss\n",
      "2005 : loss\n"
     ]
    },
    {
     "data": {
      "text/plain": [
       "'1-5-0'"
      ]
     },
     "execution_count": 177,
     "metadata": {},
     "output_type": "execute_result"
    },
    {
     "data": {
      "text/plain": [
       "'Reed Pierce'"
      ]
     },
     "execution_count": 177,
     "metadata": {},
     "output_type": "execute_result"
    },
    {
     "name": "stdout",
     "output_type": "stream",
     "text": [
      "1997 : win\n",
      "1998 : win\n"
     ]
    },
    {
     "data": {
      "text/plain": [
       "'2-0-0'"
      ]
     },
     "execution_count": 177,
     "metadata": {},
     "output_type": "execute_result"
    },
    {
     "data": {
      "text/plain": [
       "'Mark Wilson'"
      ]
     },
     "execution_count": 177,
     "metadata": {},
     "output_type": "execute_result"
    },
    {
     "name": "stdout",
     "output_type": "stream",
     "text": [
      "1994 : win\n",
      "1995 : loss\n"
     ]
    },
    {
     "data": {
      "text/plain": [
       "'1-1-0'"
      ]
     },
     "execution_count": 177,
     "metadata": {},
     "output_type": "execute_result"
    },
    {
     "data": {
      "text/plain": [
       "'Chris Melling'"
      ]
     },
     "execution_count": 177,
     "metadata": {},
     "output_type": "execute_result"
    },
    {
     "name": "stdout",
     "output_type": "stream",
     "text": [
      "2011 : win\n",
      "2012 : win\n"
     ]
    },
    {
     "data": {
      "text/plain": [
       "'2-0-0'"
      ]
     },
     "execution_count": 177,
     "metadata": {},
     "output_type": "execute_result"
    },
    {
     "data": {
      "text/plain": [
       "\"Ronnie O'Sullivan\""
      ]
     },
     "execution_count": 177,
     "metadata": {},
     "output_type": "execute_result"
    },
    {
     "name": "stdout",
     "output_type": "stream",
     "text": [
      "1996 : loss\n",
      "1997 : loss\n"
     ]
    },
    {
     "data": {
      "text/plain": [
       "'0-2-0'"
      ]
     },
     "execution_count": 177,
     "metadata": {},
     "output_type": "execute_result"
    },
    {
     "data": {
      "text/plain": [
       "'Rodney Morris'"
      ]
     },
     "execution_count": 177,
     "metadata": {},
     "output_type": "execute_result"
    },
    {
     "name": "stdout",
     "output_type": "stream",
     "text": [
      "2016 : loss\n",
      "2003 : win\n",
      "2004 : win\n",
      "2005 : win\n",
      "2006 : tie\n",
      "2007 : loss\n",
      "2008 : loss\n",
      "2010 : loss\n",
      "2011 : loss\n",
      "2013 : loss\n"
     ]
    },
    {
     "data": {
      "text/plain": [
       "'3-6-1'"
      ]
     },
     "execution_count": 177,
     "metadata": {},
     "output_type": "execute_result"
    },
    {
     "data": {
      "text/plain": [
       "'Jeremy Jones'"
      ]
     },
     "execution_count": 177,
     "metadata": {},
     "output_type": "execute_result"
    },
    {
     "name": "stdout",
     "output_type": "stream",
     "text": [
      "1999 : win\n",
      "2000 : win\n",
      "2001 : win\n",
      "2002 : loss\n",
      "2003 : win\n",
      "2005 : win\n",
      "2008 : loss\n"
     ]
    },
    {
     "data": {
      "text/plain": [
       "'5-2-0'"
      ]
     },
     "execution_count": 177,
     "metadata": {},
     "output_type": "execute_result"
    },
    {
     "data": {
      "text/plain": [
       "'James Rempe'"
      ]
     },
     "execution_count": 177,
     "metadata": {},
     "output_type": "execute_result"
    },
    {
     "name": "stdout",
     "output_type": "stream",
     "text": [
      "1997 : win\n",
      "1998 : win\n",
      "1999 : win\n"
     ]
    },
    {
     "data": {
      "text/plain": [
       "'3-0-0'"
      ]
     },
     "execution_count": 177,
     "metadata": {},
     "output_type": "execute_result"
    },
    {
     "data": {
      "text/plain": [
       "'Thorsten Hohmann'"
      ]
     },
     "execution_count": 177,
     "metadata": {},
     "output_type": "execute_result"
    },
    {
     "name": "stdout",
     "output_type": "stream",
     "text": [
      "2009 : loss\n",
      "2003 : loss\n",
      "2005 : loss\n"
     ]
    },
    {
     "data": {
      "text/plain": [
       "'0-3-0'"
      ]
     },
     "execution_count": 177,
     "metadata": {},
     "output_type": "execute_result"
    },
    {
     "data": {
      "text/plain": [
       "'Paul Gerni'"
      ]
     },
     "execution_count": 177,
     "metadata": {},
     "output_type": "execute_result"
    },
    {
     "name": "stdout",
     "output_type": "stream",
     "text": [
      "1994 : win\n"
     ]
    },
    {
     "data": {
      "text/plain": [
       "'1-0-0'"
      ]
     },
     "execution_count": 177,
     "metadata": {},
     "output_type": "execute_result"
    },
    {
     "data": {
      "text/plain": [
       "'Tom Storm'"
      ]
     },
     "execution_count": 177,
     "metadata": {},
     "output_type": "execute_result"
    },
    {
     "name": "stdout",
     "output_type": "stream",
     "text": [
      "1994 : loss\n",
      "1995 : win\n"
     ]
    },
    {
     "data": {
      "text/plain": [
       "'1-1-0'"
      ]
     },
     "execution_count": 177,
     "metadata": {},
     "output_type": "execute_result"
    },
    {
     "data": {
      "text/plain": [
       "'Bobby Hunter'"
      ]
     },
     "execution_count": 177,
     "metadata": {},
     "output_type": "execute_result"
    },
    {
     "name": "stdout",
     "output_type": "stream",
     "text": [
      "1994 : win\n",
      "1995 : loss\n"
     ]
    },
    {
     "data": {
      "text/plain": [
       "'1-1-0'"
      ]
     },
     "execution_count": 177,
     "metadata": {},
     "output_type": "execute_result"
    },
    {
     "data": {
      "text/plain": [
       "'Allison Fisher'"
      ]
     },
     "execution_count": 177,
     "metadata": {},
     "output_type": "execute_result"
    },
    {
     "name": "stdout",
     "output_type": "stream",
     "text": [
      "1994 : loss\n"
     ]
    },
    {
     "data": {
      "text/plain": [
       "'0-1-0'"
      ]
     },
     "execution_count": 177,
     "metadata": {},
     "output_type": "execute_result"
    },
    {
     "data": {
      "text/plain": [
       "'Skyler Woodward'"
      ]
     },
     "execution_count": 177,
     "metadata": {},
     "output_type": "execute_result"
    },
    {
     "name": "stdout",
     "output_type": "stream",
     "text": [
      "2016 : loss\n",
      "2015 : loss\n"
     ]
    },
    {
     "data": {
      "text/plain": [
       "'0-2-0'"
      ]
     },
     "execution_count": 177,
     "metadata": {},
     "output_type": "execute_result"
    },
    {
     "data": {
      "text/plain": [
       "'Mark Gray'"
      ]
     },
     "execution_count": 177,
     "metadata": {},
     "output_type": "execute_result"
    },
    {
     "name": "stdout",
     "output_type": "stream",
     "text": [
      "2008 : win\n",
      "2016 : win\n",
      "2014 : win\n"
     ]
    },
    {
     "data": {
      "text/plain": [
       "'3-0-0'"
      ]
     },
     "execution_count": 177,
     "metadata": {},
     "output_type": "execute_result"
    },
    {
     "data": {
      "text/plain": [
       "'Fabio Petroni'"
      ]
     },
     "execution_count": 177,
     "metadata": {},
     "output_type": "execute_result"
    },
    {
     "name": "stdout",
     "output_type": "stream",
     "text": [
      "1998 : loss\n"
     ]
    },
    {
     "data": {
      "text/plain": [
       "'0-1-0'"
      ]
     },
     "execution_count": 177,
     "metadata": {},
     "output_type": "execute_result"
    },
    {
     "data": {
      "text/plain": [
       "'Lee Kendall'"
      ]
     },
     "execution_count": 177,
     "metadata": {},
     "output_type": "execute_result"
    },
    {
     "name": "stdout",
     "output_type": "stream",
     "text": [
      "1995 : win\n"
     ]
    },
    {
     "data": {
      "text/plain": [
       "'1-0-0'"
      ]
     },
     "execution_count": 177,
     "metadata": {},
     "output_type": "execute_result"
    },
    {
     "data": {
      "text/plain": [
       "'John DiToro'"
      ]
     },
     "execution_count": 177,
     "metadata": {},
     "output_type": "execute_result"
    },
    {
     "name": "stdout",
     "output_type": "stream",
     "text": [
      "1995 : loss\n"
     ]
    },
    {
     "data": {
      "text/plain": [
       "'0-1-0'"
      ]
     },
     "execution_count": 177,
     "metadata": {},
     "output_type": "execute_result"
    },
    {
     "data": {
      "text/plain": [
       "'Albin Ouschan'"
      ]
     },
     "execution_count": 177,
     "metadata": {},
     "output_type": "execute_result"
    },
    {
     "name": "stdout",
     "output_type": "stream",
     "text": [
      "2016 : win\n",
      "2015 : win\n"
     ]
    },
    {
     "data": {
      "text/plain": [
       "'2-0-0'"
      ]
     },
     "execution_count": 177,
     "metadata": {},
     "output_type": "execute_result"
    },
    {
     "data": {
      "text/plain": [
       "'Buddy Hall'"
      ]
     },
     "execution_count": 177,
     "metadata": {},
     "output_type": "execute_result"
    },
    {
     "data": {
      "text/plain": [
       "'0-0-0'"
      ]
     },
     "execution_count": 177,
     "metadata": {},
     "output_type": "execute_result"
    },
    {
     "data": {
      "text/plain": [
       "'Gabe Owen'"
      ]
     },
     "execution_count": 177,
     "metadata": {},
     "output_type": "execute_result"
    },
    {
     "name": "stdout",
     "output_type": "stream",
     "text": [
      "2004 : win\n"
     ]
    },
    {
     "data": {
      "text/plain": [
       "'1-0-0'"
      ]
     },
     "execution_count": 177,
     "metadata": {},
     "output_type": "execute_result"
    },
    {
     "data": {
      "text/plain": [
       "'Tony Drago'"
      ]
     },
     "execution_count": 177,
     "metadata": {},
     "output_type": "execute_result"
    },
    {
     "name": "stdout",
     "output_type": "stream",
     "text": [
      "2008 : win\n",
      "2007 : win\n"
     ]
    },
    {
     "data": {
      "text/plain": [
       "'2-0-0'"
      ]
     },
     "execution_count": 177,
     "metadata": {},
     "output_type": "execute_result"
    },
    {
     "data": {
      "text/plain": [
       "'Darren Appleton'"
      ]
     },
     "execution_count": 177,
     "metadata": {},
     "output_type": "execute_result"
    },
    {
     "name": "stdout",
     "output_type": "stream",
     "text": [
      "2016 : win\n",
      "2009 : loss\n",
      "2010 : win\n",
      "2011 : win\n",
      "2012 : win\n",
      "2013 : win\n",
      "2014 : win\n",
      "2015 : win\n"
     ]
    },
    {
     "data": {
      "text/plain": [
       "'7-1-0'"
      ]
     },
     "execution_count": 177,
     "metadata": {},
     "output_type": "execute_result"
    },
    {
     "data": {
      "text/plain": [
       "'Konstantin Stepanov'"
      ]
     },
     "execution_count": 177,
     "metadata": {},
     "output_type": "execute_result"
    },
    {
     "name": "stdout",
     "output_type": "stream",
     "text": [
      "2007 : win\n"
     ]
    },
    {
     "data": {
      "text/plain": [
       "'1-0-0'"
      ]
     },
     "execution_count": 177,
     "metadata": {},
     "output_type": "execute_result"
    },
    {
     "data": {
      "text/plain": [
       "'Nick Ekonomopoulos'"
      ]
     },
     "execution_count": 177,
     "metadata": {},
     "output_type": "execute_result"
    },
    {
     "name": "stdout",
     "output_type": "stream",
     "text": [
      "2012 : win\n"
     ]
    },
    {
     "data": {
      "text/plain": [
       "'1-0-0'"
      ]
     },
     "execution_count": 177,
     "metadata": {},
     "output_type": "execute_result"
    },
    {
     "data": {
      "text/plain": [
       "'Mike Massey'"
      ]
     },
     "execution_count": 177,
     "metadata": {},
     "output_type": "execute_result"
    },
    {
     "name": "stdout",
     "output_type": "stream",
     "text": [
      "1995 : loss\n",
      "1996 : win\n"
     ]
    },
    {
     "data": {
      "text/plain": [
       "'1-1-0'"
      ]
     },
     "execution_count": 177,
     "metadata": {},
     "output_type": "execute_result"
    },
    {
     "data": {
      "text/plain": [
       "'Mika Immonen'"
      ]
     },
     "execution_count": 177,
     "metadata": {},
     "output_type": "execute_result"
    },
    {
     "name": "stdout",
     "output_type": "stream",
     "text": [
      "1996 : loss\n",
      "1997 : loss\n",
      "1998 : loss\n",
      "1999 : loss\n",
      "2000 : loss\n",
      "2001 : loss\n",
      "2002 : win\n",
      "2003 : loss\n",
      "2004 : loss\n",
      "2005 : loss\n",
      "2006 : tie\n",
      "2008 : win\n",
      "2009 : loss\n",
      "2010 : win\n",
      "2013 : win\n"
     ]
    },
    {
     "data": {
      "text/plain": [
       "'4-10-1'"
      ]
     },
     "execution_count": 177,
     "metadata": {},
     "output_type": "execute_result"
    },
    {
     "data": {
      "text/plain": [
       "'Vivian Villarreal'"
      ]
     },
     "execution_count": 177,
     "metadata": {},
     "output_type": "execute_result"
    },
    {
     "name": "stdout",
     "output_type": "stream",
     "text": [
      "1994 : win\n"
     ]
    },
    {
     "data": {
      "text/plain": [
       "'1-0-0'"
      ]
     },
     "execution_count": 177,
     "metadata": {},
     "output_type": "execute_result"
    },
    {
     "data": {
      "text/plain": [
       "'Brandon Shuff'"
      ]
     },
     "execution_count": 177,
     "metadata": {},
     "output_type": "execute_result"
    },
    {
     "name": "stdout",
     "output_type": "stream",
     "text": [
      "2012 : loss\n"
     ]
    },
    {
     "data": {
      "text/plain": [
       "'0-1-0'"
      ]
     },
     "execution_count": 177,
     "metadata": {},
     "output_type": "execute_result"
    },
    {
     "data": {
      "text/plain": [
       "'Roger Griffis'"
      ]
     },
     "execution_count": 177,
     "metadata": {},
     "output_type": "execute_result"
    },
    {
     "name": "stdout",
     "output_type": "stream",
     "text": [
      "1996 : win\n"
     ]
    },
    {
     "data": {
      "text/plain": [
       "'1-0-0'"
      ]
     },
     "execution_count": 177,
     "metadata": {},
     "output_type": "execute_result"
    },
    {
     "data": {
      "text/plain": [
       "'Imran Majid'"
      ]
     },
     "execution_count": 177,
     "metadata": {},
     "output_type": "execute_result"
    },
    {
     "name": "stdout",
     "output_type": "stream",
     "text": [
      "2006 : tie\n"
     ]
    },
    {
     "data": {
      "text/plain": [
       "'0-0-1'"
      ]
     },
     "execution_count": 177,
     "metadata": {},
     "output_type": "execute_result"
    },
    {
     "data": {
      "text/plain": [
       "'Michael Coltrain'"
      ]
     },
     "execution_count": 177,
     "metadata": {},
     "output_type": "execute_result"
    },
    {
     "name": "stdout",
     "output_type": "stream",
     "text": [
      "2000 : win\n",
      "1999 : win\n"
     ]
    },
    {
     "data": {
      "text/plain": [
       "'2-0-0'"
      ]
     },
     "execution_count": 177,
     "metadata": {},
     "output_type": "execute_result"
    },
    {
     "data": {
      "text/plain": [
       "'Niels Feijen'"
      ]
     },
     "execution_count": 177,
     "metadata": {},
     "output_type": "execute_result"
    },
    {
     "name": "stdout",
     "output_type": "stream",
     "text": [
      "2016 : win\n",
      "2001 : loss\n",
      "2004 : loss\n",
      "2005 : loss\n",
      "2007 : win\n",
      "2008 : win\n",
      "2009 : loss\n",
      "2011 : win\n",
      "2012 : win\n",
      "2013 : win\n",
      "2014 : win\n",
      "2015 : win\n"
     ]
    },
    {
     "data": {
      "text/plain": [
       "'8-4-0'"
      ]
     },
     "execution_count": 177,
     "metadata": {},
     "output_type": "execute_result"
    },
    {
     "data": {
      "text/plain": [
       "'David Alcaide'"
      ]
     },
     "execution_count": 177,
     "metadata": {},
     "output_type": "execute_result"
    },
    {
     "name": "stdout",
     "output_type": "stream",
     "text": [
      "2006 : tie\n"
     ]
    },
    {
     "data": {
      "text/plain": [
       "'0-0-1'"
      ]
     },
     "execution_count": 177,
     "metadata": {},
     "output_type": "execute_result"
    },
    {
     "data": {
      "text/plain": [
       "'C.J. Wiley'"
      ]
     },
     "execution_count": 177,
     "metadata": {},
     "output_type": "execute_result"
    },
    {
     "name": "stdout",
     "output_type": "stream",
     "text": [
      "1996 : win\n"
     ]
    },
    {
     "data": {
      "text/plain": [
       "'1-0-0'"
      ]
     },
     "execution_count": 177,
     "metadata": {},
     "output_type": "execute_result"
    },
    {
     "data": {
      "text/plain": [
       "'Shannon Daulton'"
      ]
     },
     "execution_count": 177,
     "metadata": {},
     "output_type": "execute_result"
    },
    {
     "name": "stdout",
     "output_type": "stream",
     "text": [
      "2000 : win\n",
      "1996 : win\n"
     ]
    },
    {
     "data": {
      "text/plain": [
       "'2-0-0'"
      ]
     },
     "execution_count": 177,
     "metadata": {},
     "output_type": "execute_result"
    },
    {
     "data": {
      "text/plain": [
       "'Johan Ruijsink'"
      ]
     },
     "execution_count": 177,
     "metadata": {},
     "output_type": "execute_result"
    },
    {
     "data": {
      "text/plain": [
       "'0-0-0'"
      ]
     },
     "execution_count": 177,
     "metadata": {},
     "output_type": "execute_result"
    },
    {
     "data": {
      "text/plain": [
       "'Allen Hopkins'"
      ]
     },
     "execution_count": 177,
     "metadata": {},
     "output_type": "execute_result"
    },
    {
     "name": "stdout",
     "output_type": "stream",
     "text": [
      "1996 : win\n"
     ]
    },
    {
     "data": {
      "text/plain": [
       "'1-0-0'"
      ]
     },
     "execution_count": 177,
     "metadata": {},
     "output_type": "execute_result"
    },
    {
     "data": {
      "text/plain": [
       "'Raj Hundal'"
      ]
     },
     "execution_count": 177,
     "metadata": {},
     "output_type": "execute_result"
    },
    {
     "name": "stdout",
     "output_type": "stream",
     "text": [
      "2005 : loss\n"
     ]
    },
    {
     "data": {
      "text/plain": [
       "'0-1-0'"
      ]
     },
     "execution_count": 177,
     "metadata": {},
     "output_type": "execute_result"
    },
    {
     "data": {
      "text/plain": [
       "'Mike Dechaine'"
      ]
     },
     "execution_count": 177,
     "metadata": {},
     "output_type": "execute_result"
    },
    {
     "name": "stdout",
     "output_type": "stream",
     "text": [
      "2016 : loss\n",
      "2011 : loss\n",
      "2012 : loss\n",
      "2015 : loss\n"
     ]
    },
    {
     "data": {
      "text/plain": [
       "'0-4-0'"
      ]
     },
     "execution_count": 177,
     "metadata": {},
     "output_type": "execute_result"
    },
    {
     "data": {
      "text/plain": [
       "'Jimmy White'"
      ]
     },
     "execution_count": 177,
     "metadata": {},
     "output_type": "execute_result"
    },
    {
     "name": "stdout",
     "output_type": "stream",
     "text": [
      "1994 : loss\n",
      "1995 : win\n"
     ]
    },
    {
     "data": {
      "text/plain": [
       "'1-1-0'"
      ]
     },
     "execution_count": 177,
     "metadata": {},
     "output_type": "execute_result"
    },
    {
     "data": {
      "text/plain": [
       "'Nick van den Berg'"
      ]
     },
     "execution_count": 177,
     "metadata": {},
     "output_type": "execute_result"
    },
    {
     "name": "stdout",
     "output_type": "stream",
     "text": [
      "2002 : win\n",
      "2003 : loss\n",
      "2006 : tie\n",
      "2010 : win\n",
      "2011 : win\n",
      "2012 : win\n",
      "2015 : win\n"
     ]
    },
    {
     "data": {
      "text/plain": [
       "'5-1-1'"
      ]
     },
     "execution_count": 177,
     "metadata": {},
     "output_type": "execute_result"
    },
    {
     "data": {
      "text/plain": [
       "'Alex Higgins'"
      ]
     },
     "execution_count": 177,
     "metadata": {},
     "output_type": "execute_result"
    },
    {
     "name": "stdout",
     "output_type": "stream",
     "text": [
      "1995 : win\n"
     ]
    },
    {
     "data": {
      "text/plain": [
       "'1-0-0'"
      ]
     },
     "execution_count": 177,
     "metadata": {},
     "output_type": "execute_result"
    },
    {
     "data": {
      "text/plain": [
       "'Oliver Ortmann'"
      ]
     },
     "execution_count": 177,
     "metadata": {},
     "output_type": "execute_result"
    },
    {
     "name": "stdout",
     "output_type": "stream",
     "text": [
      "1994 : loss\n",
      "1995 : win\n",
      "1996 : loss\n",
      "1997 : loss\n",
      "1998 : loss\n",
      "1999 : loss\n",
      "2002 : win\n",
      "2004 : loss\n"
     ]
    },
    {
     "data": {
      "text/plain": [
       "'2-6-0'"
      ]
     },
     "execution_count": 177,
     "metadata": {},
     "output_type": "execute_result"
    },
    {
     "data": {
      "text/plain": [
       "'Danny Harriman'"
      ]
     },
     "execution_count": 177,
     "metadata": {},
     "output_type": "execute_result"
    },
    {
     "name": "stdout",
     "output_type": "stream",
     "text": [
      "1996 : win\n"
     ]
    },
    {
     "data": {
      "text/plain": [
       "'1-0-0'"
      ]
     },
     "execution_count": 177,
     "metadata": {},
     "output_type": "execute_result"
    },
    {
     "data": {
      "text/plain": [
       "'Kim Davenport'"
      ]
     },
     "execution_count": 177,
     "metadata": {},
     "output_type": "execute_result"
    },
    {
     "name": "stdout",
     "output_type": "stream",
     "text": [
      "1997 : win\n",
      "1998 : win\n",
      "1999 : win\n"
     ]
    },
    {
     "data": {
      "text/plain": [
       "'3-0-0'"
      ]
     },
     "execution_count": 177,
     "metadata": {},
     "output_type": "execute_result"
    },
    {
     "data": {
      "text/plain": [
       "'Steve Knight'"
      ]
     },
     "execution_count": 177,
     "metadata": {},
     "output_type": "execute_result"
    },
    {
     "name": "stdout",
     "output_type": "stream",
     "text": [
      "2000 : loss\n",
      "2001 : loss\n",
      "1998 : loss\n",
      "1999 : loss\n"
     ]
    },
    {
     "data": {
      "text/plain": [
       "'0-4-0'"
      ]
     },
     "execution_count": 177,
     "metadata": {},
     "output_type": "execute_result"
    },
    {
     "data": {
      "text/plain": [
       "'Andy Richardson'"
      ]
     },
     "execution_count": 177,
     "metadata": {},
     "output_type": "execute_result"
    },
    {
     "name": "stdout",
     "output_type": "stream",
     "text": [
      "1996 : loss\n"
     ]
    },
    {
     "data": {
      "text/plain": [
       "'0-1-0'"
      ]
     },
     "execution_count": 177,
     "metadata": {},
     "output_type": "execute_result"
    },
    {
     "data": {
      "text/plain": [
       "'Johnny Archer'"
      ]
     },
     "execution_count": 177,
     "metadata": {},
     "output_type": "execute_result"
    },
    {
     "name": "stdout",
     "output_type": "stream",
     "text": [
      "1997 : win\n",
      "1998 : win\n",
      "1999 : win\n",
      "2000 : win\n",
      "2001 : win\n",
      "2002 : loss\n",
      "2003 : win\n",
      "2004 : win\n",
      "2005 : win\n",
      "2006 : tie\n",
      "2007 : loss\n",
      "2008 : loss\n",
      "2009 : win\n",
      "2010 : loss\n",
      "2011 : loss\n",
      "2012 : loss\n",
      "2013 : loss\n"
     ]
    },
    {
     "data": {
      "text/plain": [
       "'9-7-1'"
      ]
     },
     "execution_count": 177,
     "metadata": {},
     "output_type": "execute_result"
    },
    {
     "data": {
      "text/plain": [
       "'Franziska Stark'"
      ]
     },
     "execution_count": 177,
     "metadata": {},
     "output_type": "execute_result"
    },
    {
     "name": "stdout",
     "output_type": "stream",
     "text": [
      "1994 : loss\n"
     ]
    },
    {
     "data": {
      "text/plain": [
       "'0-1-0'"
      ]
     },
     "execution_count": 177,
     "metadata": {},
     "output_type": "execute_result"
    },
    {
     "data": {
      "text/plain": [
       "'Jeanette Lee'"
      ]
     },
     "execution_count": 177,
     "metadata": {},
     "output_type": "execute_result"
    },
    {
     "name": "stdout",
     "output_type": "stream",
     "text": [
      "1994 : win\n"
     ]
    },
    {
     "data": {
      "text/plain": [
       "'1-0-0'"
      ]
     },
     "execution_count": 177,
     "metadata": {},
     "output_type": "execute_result"
    },
    {
     "data": {
      "text/plain": [
       "'John Schmidt'"
      ]
     },
     "execution_count": 177,
     "metadata": {},
     "output_type": "execute_result"
    },
    {
     "name": "stdout",
     "output_type": "stream",
     "text": [
      "2014 : loss\n",
      "2006 : tie\n"
     ]
    },
    {
     "data": {
      "text/plain": [
       "'0-1-1'"
      ]
     },
     "execution_count": 177,
     "metadata": {},
     "output_type": "execute_result"
    },
    {
     "data": {
      "text/plain": [
       "'Earl Strickland'"
      ]
     },
     "execution_count": 177,
     "metadata": {},
     "output_type": "execute_result"
    },
    {
     "name": "stdout",
     "output_type": "stream",
     "text": [
      "1996 : win\n",
      "1997 : win\n",
      "1998 : win\n",
      "1999 : win\n",
      "2000 : win\n",
      "2001 : win\n",
      "2002 : loss\n",
      "2003 : win\n",
      "2004 : win\n",
      "2005 : win\n",
      "2006 : tie\n",
      "2007 : loss\n",
      "2008 : loss\n",
      "2013 : loss\n"
     ]
    },
    {
     "data": {
      "text/plain": [
       "'9-4-1'"
      ]
     },
     "execution_count": 177,
     "metadata": {},
     "output_type": "execute_result"
    },
    {
     "data": {
      "text/plain": [
       "'Dallas West'"
      ]
     },
     "execution_count": 177,
     "metadata": {},
     "output_type": "execute_result"
    },
    {
     "name": "stdout",
     "output_type": "stream",
     "text": [
      "1994 : win\n",
      "1995 : loss\n"
     ]
    },
    {
     "data": {
      "text/plain": [
       "'1-1-0'"
      ]
     },
     "execution_count": 177,
     "metadata": {},
     "output_type": "execute_result"
    },
    {
     "data": {
      "text/plain": [
       "'Justin Hall'"
      ]
     },
     "execution_count": 177,
     "metadata": {},
     "output_type": "execute_result"
    },
    {
     "name": "stdout",
     "output_type": "stream",
     "text": [
      "2014 : loss\n"
     ]
    },
    {
     "data": {
      "text/plain": [
       "'0-1-0'"
      ]
     },
     "execution_count": 177,
     "metadata": {},
     "output_type": "execute_result"
    },
    {
     "data": {
      "text/plain": [
       "'Lee Tucker'"
      ]
     },
     "execution_count": 177,
     "metadata": {},
     "output_type": "execute_result"
    },
    {
     "name": "stdout",
     "output_type": "stream",
     "text": [
      "1994 : loss\n"
     ]
    },
    {
     "data": {
      "text/plain": [
       "'0-1-0'"
      ]
     },
     "execution_count": 177,
     "metadata": {},
     "output_type": "execute_result"
    },
    {
     "data": {
      "text/plain": [
       "'Lou Butera'"
      ]
     },
     "execution_count": 177,
     "metadata": {},
     "output_type": "execute_result"
    },
    {
     "name": "stdout",
     "output_type": "stream",
     "text": [
      "1994 : win\n",
      "1995 : loss\n"
     ]
    },
    {
     "data": {
      "text/plain": [
       "'1-1-0'"
      ]
     },
     "execution_count": 177,
     "metadata": {},
     "output_type": "execute_result"
    },
    {
     "data": {
      "text/plain": [
       "'Jayson Shaw'"
      ]
     },
     "execution_count": 177,
     "metadata": {},
     "output_type": "execute_result"
    },
    {
     "name": "stdout",
     "output_type": "stream",
     "text": [
      "2016 : win\n"
     ]
    },
    {
     "data": {
      "text/plain": [
       "'1-0-0'"
      ]
     },
     "execution_count": 177,
     "metadata": {},
     "output_type": "execute_result"
    },
    {
     "data": {
      "text/plain": [
       "'Daryl Peach'"
      ]
     },
     "execution_count": 177,
     "metadata": {},
     "output_type": "execute_result"
    },
    {
     "name": "stdout",
     "output_type": "stream",
     "text": [
      "1995 : win\n",
      "2007 : win\n"
     ]
    },
    {
     "data": {
      "text/plain": [
       "'2-0-0'"
      ]
     },
     "execution_count": 177,
     "metadata": {},
     "output_type": "execute_result"
    },
    {
     "data": {
      "text/plain": [
       "'Charlie Williams'"
      ]
     },
     "execution_count": 177,
     "metadata": {},
     "output_type": "execute_result"
    },
    {
     "name": "stdout",
     "output_type": "stream",
     "text": [
      "2001 : win\n",
      "2002 : loss\n",
      "2003 : win\n",
      "2004 : win\n",
      "2005 : win\n"
     ]
    },
    {
     "data": {
      "text/plain": [
       "'4-1-0'"
      ]
     },
     "execution_count": 177,
     "metadata": {},
     "output_type": "execute_result"
    },
    {
     "data": {
      "text/plain": [
       "'Thomas Engert'"
      ]
     },
     "execution_count": 177,
     "metadata": {},
     "output_type": "execute_result"
    },
    {
     "name": "stdout",
     "output_type": "stream",
     "text": [
      "2000 : loss\n",
      "2004 : loss\n",
      "2006 : tie\n"
     ]
    },
    {
     "data": {
      "text/plain": [
       "'0-2-1'"
      ]
     },
     "execution_count": 177,
     "metadata": {},
     "output_type": "execute_result"
    },
    {
     "data": {
      "text/plain": [
       "'Shawn Putnam'"
      ]
     },
     "execution_count": 177,
     "metadata": {},
     "output_type": "execute_result"
    },
    {
     "name": "stdout",
     "output_type": "stream",
     "text": [
      "2011 : loss\n"
     ]
    },
    {
     "data": {
      "text/plain": [
       "'0-1-0'"
      ]
     },
     "execution_count": 177,
     "metadata": {},
     "output_type": "execute_result"
    },
    {
     "data": {
      "text/plain": [
       "'Mike Davis'"
      ]
     },
     "execution_count": 177,
     "metadata": {},
     "output_type": "execute_result"
    },
    {
     "name": "stdout",
     "output_type": "stream",
     "text": [
      "2006 : tie\n"
     ]
    },
    {
     "data": {
      "text/plain": [
       "'0-0-1'"
      ]
     },
     "execution_count": 177,
     "metadata": {},
     "output_type": "execute_result"
    },
    {
     "data": {
      "text/plain": [
       "'Robert Hunter'"
      ]
     },
     "execution_count": 177,
     "metadata": {},
     "output_type": "execute_result"
    },
    {
     "name": "stdout",
     "output_type": "stream",
     "text": [
      "1995 : loss\n"
     ]
    },
    {
     "data": {
      "text/plain": [
       "'0-1-0'"
      ]
     },
     "execution_count": 177,
     "metadata": {},
     "output_type": "execute_result"
    },
    {
     "data": {
      "text/plain": [
       "'Mike Gulyassy'"
      ]
     },
     "execution_count": 177,
     "metadata": {},
     "output_type": "execute_result"
    },
    {
     "name": "stdout",
     "output_type": "stream",
     "text": [
      "1994 : win\n",
      "1995 : loss\n"
     ]
    },
    {
     "data": {
      "text/plain": [
       "'1-1-0'"
      ]
     },
     "execution_count": 177,
     "metadata": {},
     "output_type": "execute_result"
    },
    {
     "data": {
      "text/plain": [
       "'Justin Bergman'"
      ]
     },
     "execution_count": 177,
     "metadata": {},
     "output_type": "execute_result"
    },
    {
     "name": "stdout",
     "output_type": "stream",
     "text": [
      "2016 : loss\n",
      "2014 : loss\n",
      "2015 : loss\n"
     ]
    },
    {
     "data": {
      "text/plain": [
       "'0-3-0'"
      ]
     },
     "execution_count": 177,
     "metadata": {},
     "output_type": "execute_result"
    },
    {
     "data": {
      "text/plain": [
       "'Dennis Hatch'"
      ]
     },
     "execution_count": 177,
     "metadata": {},
     "output_type": "execute_result"
    },
    {
     "name": "stdout",
     "output_type": "stream",
     "text": [
      "2009 : win\n",
      "2010 : loss\n",
      "2012 : loss\n",
      "2013 : loss\n"
     ]
    },
    {
     "data": {
      "text/plain": [
       "'1-3-0'"
      ]
     },
     "execution_count": 177,
     "metadata": {},
     "output_type": "execute_result"
    },
    {
     "data": {
      "text/plain": [
       "'Alex Lely'"
      ]
     },
     "execution_count": 177,
     "metadata": {},
     "output_type": "execute_result"
    },
    {
     "name": "stdout",
     "output_type": "stream",
     "text": [
      "2005 : loss\n",
      "1999 : loss\n"
     ]
    },
    {
     "data": {
      "text/plain": [
       "'0-2-0'"
      ]
     },
     "execution_count": 177,
     "metadata": {},
     "output_type": "execute_result"
    },
    {
     "data": {
      "text/plain": [
       "'Karl Boyes'"
      ]
     },
     "execution_count": 177,
     "metadata": {},
     "output_type": "execute_result"
    },
    {
     "name": "stdout",
     "output_type": "stream",
     "text": [
      "2010 : win\n",
      "2013 : win\n",
      "2014 : win\n",
      "2015 : win\n"
     ]
    },
    {
     "data": {
      "text/plain": [
       "'4-0-0'"
      ]
     },
     "execution_count": 177,
     "metadata": {},
     "output_type": "execute_result"
    },
    {
     "data": {
      "text/plain": [
       "'Shane Van Boening'"
      ]
     },
     "execution_count": 177,
     "metadata": {},
     "output_type": "execute_result"
    },
    {
     "name": "stdout",
     "output_type": "stream",
     "text": [
      "2016 : loss\n",
      "2007 : loss\n",
      "2008 : loss\n",
      "2009 : win\n",
      "2010 : loss\n",
      "2011 : loss\n",
      "2012 : loss\n",
      "2013 : loss\n",
      "2014 : loss\n",
      "2015 : loss\n"
     ]
    },
    {
     "data": {
      "text/plain": [
       "'1-9-0'"
      ]
     },
     "execution_count": 177,
     "metadata": {},
     "output_type": "execute_result"
    },
    {
     "data": {
      "text/plain": [
       "'Tommy Donlon'"
      ]
     },
     "execution_count": 177,
     "metadata": {},
     "output_type": "execute_result"
    },
    {
     "name": "stdout",
     "output_type": "stream",
     "text": [
      "1997 : loss\n"
     ]
    },
    {
     "data": {
      "text/plain": [
       "'0-1-0'"
      ]
     },
     "execution_count": 177,
     "metadata": {},
     "output_type": "execute_result"
    }
   ],
   "source": [
    "dic={}\n",
    "for item in d.items():\n",
    "    player = item[0]\n",
    "    player\n",
    "    if player in am:\n",
    "        wc,lc,tc = 0,0,0\n",
    "        for year in item[1]:\n",
    "            if year in am_years:\n",
    "                wc += 1\n",
    "                print(year,': win')\n",
    "            elif year in eu_years:\n",
    "                lc += 1\n",
    "                print(year,': loss')\n",
    "            else:\n",
    "                tc += 1\n",
    "                print(year,\": tie\")\n",
    "        out = '{}-{}-{}'.format(wc,lc,tc)\n",
    "        dic[player]= out\n",
    "        out\n",
    "    else:\n",
    "        wc,lc,tc = 0,0,0\n",
    "        for year in item[1]:\n",
    "            if year in eu_years:\n",
    "                wc += 1\n",
    "                print(year,': win')\n",
    "            elif year in am_years:\n",
    "                lc += 1\n",
    "                print(year,': loss')\n",
    "            else:\n",
    "                tc += 1\n",
    "                print(year,\": tie\")\n",
    "        out = '{}-{}-{}'.format(wc,lc,tc)\n",
    "        dic[player]= out\n",
    "        out"
   ]
  },
  {
   "cell_type": "code",
   "execution_count": 178,
   "metadata": {
    "scrolled": true
   },
   "outputs": [
    {
     "data": {
      "text/plain": [
       "{'Albin Ouschan': '2-0-0',\n",
       " 'Alex Higgins': '1-0-0',\n",
       " 'Alex Lely': '0-2-0',\n",
       " 'Allen Hopkins': '1-0-0',\n",
       " 'Allison Fisher': '0-1-0',\n",
       " 'Andy Richardson': '0-1-0',\n",
       " 'Bobby Hunter': '1-1-0',\n",
       " 'Brandon Shuff': '0-1-0',\n",
       " 'Buddy Hall': '0-0-0',\n",
       " 'C.J. Wiley': '1-0-0',\n",
       " 'Charlie Williams': '4-1-0',\n",
       " 'Chris Melling': '2-0-0',\n",
       " 'Corey Deuel': '3-5-1',\n",
       " 'Dallas West': '1-1-0',\n",
       " 'Danny Harriman': '1-0-0',\n",
       " 'Darren Appleton': '7-1-0',\n",
       " 'Daryl Peach': '2-0-0',\n",
       " 'David Alcaide': '0-0-1',\n",
       " 'Dennis Hatch': '1-3-0',\n",
       " 'Earl Strickland': '9-4-1',\n",
       " 'Fabio Petroni': '0-1-0',\n",
       " 'Franziska Stark': '0-1-0',\n",
       " 'Gabe Owen': '1-0-0',\n",
       " 'Imran Majid': '0-0-1',\n",
       " 'James Rempe': '3-0-0',\n",
       " 'Jayson Shaw': '1-0-0',\n",
       " 'Jeanette Lee': '1-0-0',\n",
       " 'Jeremy Jones': '5-2-0',\n",
       " 'Jimmy White': '1-1-0',\n",
       " 'Johan Ruijsink': '0-0-0',\n",
       " 'John DiToro': '0-1-0',\n",
       " 'John Schmidt': '0-1-1',\n",
       " 'Johnny Archer': '9-7-1',\n",
       " 'Justin Bergman': '0-3-0',\n",
       " 'Justin Hall': '0-1-0',\n",
       " 'Karl Boyes': '4-0-0',\n",
       " 'Kim Davenport': '3-0-0',\n",
       " 'Konstantin Stepanov': '1-0-0',\n",
       " 'Lee Kendall': '1-0-0',\n",
       " 'Lee Tucker': '0-1-0',\n",
       " 'Lou Butera': '1-1-0',\n",
       " 'Marcus Chamat': '1-5-0',\n",
       " 'Mark Gray': '3-0-0',\n",
       " 'Mark Wilson': '1-1-0',\n",
       " 'Michael Coltrain': '2-0-0',\n",
       " 'Mika Immonen': '4-10-1',\n",
       " 'Mike Davis': '0-0-1',\n",
       " 'Mike Dechaine': '0-4-0',\n",
       " 'Mike Gulyassy': '1-1-0',\n",
       " 'Mike Massey': '1-1-0',\n",
       " 'Nick Ekonomopoulos': '1-0-0',\n",
       " 'Nick Varner': '3-1-0',\n",
       " 'Nick van den Berg': '5-1-1',\n",
       " 'Niels Feijen': '8-4-0',\n",
       " 'Oliver Ortmann': '2-6-0',\n",
       " 'Oscar Dominguez': '1-0-0',\n",
       " 'Paul Gerni': '1-0-0',\n",
       " 'Raj Hundal': '0-1-0',\n",
       " 'Ralf Souquet': '6-9-1',\n",
       " 'Reed Pierce': '2-0-0',\n",
       " 'Robert Hunter': '0-1-0',\n",
       " 'Rodney Morris': '3-6-1',\n",
       " 'Roger Griffis': '1-0-0',\n",
       " \"Ronnie O'Sullivan\": '0-2-0',\n",
       " 'Shane Van Boening': '1-9-0',\n",
       " 'Shannon Daulton': '2-0-0',\n",
       " 'Shawn Putnam': '0-1-0',\n",
       " 'Skyler Woodward': '0-2-0',\n",
       " 'Steve Davis': '2-9-0',\n",
       " 'Steve Knight': '0-4-0',\n",
       " 'Thomas Engert': '0-2-1',\n",
       " 'Thorsten Hohmann': '0-3-0',\n",
       " 'Tom Storm': '1-1-0',\n",
       " 'Tommy Donlon': '0-1-0',\n",
       " 'Tony Drago': '2-0-0',\n",
       " 'Tony Robles': '2-0-0',\n",
       " 'Vincent Facquet': '0-1-0',\n",
       " 'Vivian Villarreal': '1-0-0'}"
      ]
     },
     "execution_count": 178,
     "metadata": {},
     "output_type": "execute_result"
    }
   ],
   "source": [
    "dic"
   ]
  },
  {
   "cell_type": "code",
   "execution_count": 180,
   "metadata": {},
   "outputs": [
    {
     "data": {
      "text/html": [
       "<div>\n",
       "<table border=\"1\" class=\"dataframe\">\n",
       "  <thead>\n",
       "    <tr style=\"text-align: right;\">\n",
       "      <th></th>\n",
       "      <th>Name</th>\n",
       "      <th>Location</th>\n",
       "      <th>Team</th>\n",
       "      <th>Years</th>\n",
       "      <th>Appearances</th>\n",
       "    </tr>\n",
       "  </thead>\n",
       "  <tbody>\n",
       "    <tr>\n",
       "      <th>0</th>\n",
       "      <td>Johnny Archer</td>\n",
       "      <td>Georgia</td>\n",
       "      <td>America</td>\n",
       "      <td>{1997, 1998, 1999, 2000, 2001, 2002, 2003, 200...</td>\n",
       "      <td>17</td>\n",
       "    </tr>\n",
       "    <tr>\n",
       "      <th>1</th>\n",
       "      <td>Earl Strickland</td>\n",
       "      <td>North Carolina</td>\n",
       "      <td>America</td>\n",
       "      <td>{1996, 1997, 1998, 1999, 2000, 2001, 2002, 200...</td>\n",
       "      <td>14</td>\n",
       "    </tr>\n",
       "  </tbody>\n",
       "</table>\n",
       "</div>"
      ],
      "text/plain": [
       "              Name        Location     Team  \\\n",
       "0    Johnny Archer         Georgia  America   \n",
       "1  Earl Strickland  North Carolina  America   \n",
       "\n",
       "                                               Years  Appearances  \n",
       "0  {1997, 1998, 1999, 2000, 2001, 2002, 2003, 200...           17  \n",
       "1  {1996, 1997, 1998, 1999, 2000, 2001, 2002, 200...           14  "
      ]
     },
     "execution_count": 180,
     "metadata": {},
     "output_type": "execute_result"
    }
   ],
   "source": [
    "players.head(2)"
   ]
  },
  {
   "cell_type": "code",
   "execution_count": 182,
   "metadata": {
    "collapsed": true
   },
   "outputs": [],
   "source": [
    "players['Win-loss-tie'] = players['Name'].apply(lambda x: dic[x])"
   ]
  },
  {
   "cell_type": "code",
   "execution_count": 186,
   "metadata": {
    "scrolled": true
   },
   "outputs": [
    {
     "data": {
      "text/html": [
       "<div>\n",
       "<table border=\"1\" class=\"dataframe\">\n",
       "  <thead>\n",
       "    <tr style=\"text-align: right;\">\n",
       "      <th></th>\n",
       "      <th>Name</th>\n",
       "      <th>Location</th>\n",
       "      <th>Team</th>\n",
       "      <th>Years</th>\n",
       "      <th>Appearances</th>\n",
       "      <th>Win-loss-tie</th>\n",
       "    </tr>\n",
       "  </thead>\n",
       "  <tbody>\n",
       "    <tr>\n",
       "      <th>40</th>\n",
       "      <td>Buddy Hall</td>\n",
       "      <td>Illinois</td>\n",
       "      <td>America</td>\n",
       "      <td>{}</td>\n",
       "      <td>0</td>\n",
       "      <td>0-0-0</td>\n",
       "    </tr>\n",
       "    <tr>\n",
       "      <th>77</th>\n",
       "      <td>Johan Ruijsink</td>\n",
       "      <td>Netherlands</td>\n",
       "      <td>Europe</td>\n",
       "      <td>{}</td>\n",
       "      <td>0</td>\n",
       "      <td>0-0-0</td>\n",
       "    </tr>\n",
       "  </tbody>\n",
       "</table>\n",
       "</div>"
      ],
      "text/plain": [
       "              Name     Location     Team Years  Appearances Win-loss-tie\n",
       "40      Buddy Hall     Illinois  America    {}            0        0-0-0\n",
       "77  Johan Ruijsink  Netherlands   Europe    {}            0        0-0-0"
      ]
     },
     "execution_count": 186,
     "metadata": {},
     "output_type": "execute_result"
    }
   ],
   "source": [
    "# drop players with no matches\n",
    "# players[players['Appearances']==0]\n",
    "# players.drop([40,77],inplace=True)"
   ]
  },
  {
   "cell_type": "code",
   "execution_count": 194,
   "metadata": {},
   "outputs": [
    {
     "data": {
      "text/html": [
       "<div>\n",
       "<table border=\"1\" class=\"dataframe\">\n",
       "  <thead>\n",
       "    <tr style=\"text-align: right;\">\n",
       "      <th></th>\n",
       "      <th>Name</th>\n",
       "      <th>Location</th>\n",
       "      <th>Team</th>\n",
       "      <th>Years</th>\n",
       "      <th>Appearances</th>\n",
       "      <th>Win-loss-tie</th>\n",
       "    </tr>\n",
       "  </thead>\n",
       "  <tbody>\n",
       "    <tr>\n",
       "      <th>0</th>\n",
       "      <td>Johnny Archer</td>\n",
       "      <td>Georgia</td>\n",
       "      <td>America</td>\n",
       "      <td>{1997, 1998, 1999, 2000, 2001, 2002, 2003, 200...</td>\n",
       "      <td>17</td>\n",
       "      <td>9-7-1</td>\n",
       "    </tr>\n",
       "    <tr>\n",
       "      <th>1</th>\n",
       "      <td>Earl Strickland</td>\n",
       "      <td>North Carolina</td>\n",
       "      <td>America</td>\n",
       "      <td>{1996, 1997, 1998, 1999, 2000, 2001, 2002, 200...</td>\n",
       "      <td>14</td>\n",
       "      <td>9-4-1</td>\n",
       "    </tr>\n",
       "  </tbody>\n",
       "</table>\n",
       "</div>"
      ],
      "text/plain": [
       "              Name        Location     Team  \\\n",
       "0    Johnny Archer         Georgia  America   \n",
       "1  Earl Strickland  North Carolina  America   \n",
       "\n",
       "                                               Years  Appearances Win-loss-tie  \n",
       "0  {1997, 1998, 1999, 2000, 2001, 2002, 2003, 200...           17        9-7-1  \n",
       "1  {1996, 1997, 1998, 1999, 2000, 2001, 2002, 200...           14        9-4-1  "
      ]
     },
     "execution_count": 194,
     "metadata": {},
     "output_type": "execute_result"
    }
   ],
   "source": [
    "players.head(2)"
   ]
  },
  {
   "cell_type": "code",
   "execution_count": 198,
   "metadata": {
    "collapsed": true
   },
   "outputs": [],
   "source": [
    "players['Wins'] = players['Win-loss-tie'].str.split('-').str.get(0)"
   ]
  },
  {
   "cell_type": "code",
   "execution_count": 200,
   "metadata": {
    "collapsed": true
   },
   "outputs": [],
   "source": [
    "players['Losses'] =  players['Win-loss-tie'].str.split('-').str.get(1)"
   ]
  },
  {
   "cell_type": "code",
   "execution_count": null,
   "metadata": {
    "collapsed": true
   },
   "outputs": [],
   "source": [
    "players['Wins'] = players['Wins'].astype(int)"
   ]
  },
  {
   "cell_type": "code",
   "execution_count": 206,
   "metadata": {
    "collapsed": true
   },
   "outputs": [],
   "source": [
    "players['Losses'] = players['Losses'].astype(int)"
   ]
  },
  {
   "cell_type": "code",
   "execution_count": 211,
   "metadata": {
    "collapsed": true
   },
   "outputs": [],
   "source": [
    "players['Pct'] = round(100* players['Wins'] / players['Appearances'],2)"
   ]
  },
  {
   "cell_type": "code",
   "execution_count": 214,
   "metadata": {
    "collapsed": true
   },
   "outputs": [],
   "source": [
    "player = players.drop('Years',axis=1)"
   ]
  },
  {
   "cell_type": "code",
   "execution_count": 216,
   "metadata": {
    "collapsed": true
   },
   "outputs": [],
   "source": [
    "player.to_sql('players',con,if_exists='replace',index=False)"
   ]
  }
 ],
 "metadata": {
  "kernelspec": {
   "display_name": "Python 3",
   "language": "python",
   "name": "python3"
  },
  "language_info": {
   "codemirror_mode": {
    "name": "ipython",
    "version": 3
   },
   "file_extension": ".py",
   "mimetype": "text/x-python",
   "name": "python",
   "nbconvert_exporter": "python",
   "pygments_lexer": "ipython3",
   "version": "3.5.2"
  }
 },
 "nbformat": 4,
 "nbformat_minor": 2
}
