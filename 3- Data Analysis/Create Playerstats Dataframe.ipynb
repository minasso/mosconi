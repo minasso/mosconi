{
 "cells": [
  {
   "cell_type": "markdown",
   "metadata": {},
   "source": [
    "Goal: create functions to mine data for aggregate stats"
   ]
  },
  {
   "cell_type": "code",
   "execution_count": 8,
   "metadata": {
    "collapsed": true
   },
   "outputs": [],
   "source": [
    "import pandas as pd"
   ]
  },
  {
   "cell_type": "code",
   "execution_count": null,
   "metadata": {
    "collapsed": true
   },
   "outputs": [],
   "source": [
    "import os\n",
    "parent = os.path.abspath('..')\n",
    "pkl='pkl/allyears_clean'\n",
    "path = os.path.join(parent,pkl)"
   ]
  },
  {
   "cell_type": "code",
   "execution_count": 3,
   "metadata": {
    "collapsed": true
   },
   "outputs": [],
   "source": [
    "df= pd.read_pickle(path)"
   ]
  },
  {
   "cell_type": "code",
   "execution_count": 5,
   "metadata": {
    "collapsed": true
   },
   "outputs": [],
   "source": [
    "import sqlite3"
   ]
  },
  {
   "cell_type": "code",
   "execution_count": 6,
   "metadata": {
    "collapsed": true
   },
   "outputs": [],
   "source": [
    "conn=sqlite3.connect(os.path.join(parent,'players.db'))"
   ]
  },
  {
   "cell_type": "code",
   "execution_count": 14,
   "metadata": {
    "collapsed": true
   },
   "outputs": [],
   "source": [
    "players_df = pd.read_sql('select * from players',conn)"
   ]
  },
  {
   "cell_type": "code",
   "execution_count": null,
   "metadata": {
    "collapsed": true
   },
   "outputs": [],
   "source": [
    "players_df"
   ]
  },
  {
   "cell_type": "code",
   "execution_count": 4,
   "metadata": {
    "collapsed": true
   },
   "outputs": [],
   "source": [
    "d={}\n",
    "for player in am_players:\n",
    "    d[player] = df['American_player'].str.contains(player)\n",
    "for player in euro_players:\n",
    "    d[player] = df['European_player'].str.contains(player)"
   ]
  },
  {
   "cell_type": "code",
   "execution_count": 5,
   "metadata": {
    "collapsed": true
   },
   "outputs": [],
   "source": [
    "import pickle\n",
    "pickle.dump(d,open('pkl/d','wb'))"
   ]
  },
  {
   "cell_type": "code",
   "execution_count": 7,
   "metadata": {
    "collapsed": true
   },
   "outputs": [],
   "source": [
    "#Create shorthands for boolean indexing the dataframe\n",
    "singles = df['Format']=='Singles'\n",
    "doubles = df['Format']=='Doubles'\n",
    "teams = df['Format']=='Teams'\n",
    "triples = df['Format']=='Triples'\n",
    "europe_won = df['Europe_won'] == True\n",
    "america_won = df['Europe_won'] == False"
   ]
  },
  {
   "cell_type": "code",
   "execution_count": 10,
   "metadata": {
    "collapsed": true
   },
   "outputs": [],
   "source": [
    "def winlosslist(player, country, df=df):\n",
    "    \n",
    "    #singles\n",
    "    if 'a' in country:\n",
    "        swin=df[america_won&singles&d[player]].shape[0]\n",
    "        sloss=df[d[player]&~america_won&singles].shape[0]\n",
    "        smp=swin+sloss\n",
    "    else:\n",
    "        sloss=df[d[player]&america_won&singles].shape[0]\n",
    "        swin=df[d[player]&~america_won&singles].shape[0]    \n",
    "        smp=swin+sloss\n",
    "    swl='{}-{}'.format(swin,sloss)\n",
    "    try:\n",
    "        spct=swin*100/(swin+sloss)\n",
    "    except:\n",
    "        spct=0\n",
    "    \n",
    "    #doubles\n",
    "    if 'a' in country:\n",
    "        dwin=df[d[player]&america_won&doubles].shape[0]\n",
    "        dloss=df[d[player]&~america_won&doubles].shape[0]\n",
    "        dmp=dwin+dloss\n",
    "    else:\n",
    "        dloss=df[d[player]&america_won&doubles].shape[0]\n",
    "        dwin=df[d[player]&~america_won&doubles].shape[0] \n",
    "        dmp=dwin+dloss\n",
    "    dwl='{}-{}'.format(dwin,dloss)\n",
    "    try:\n",
    "        dpct=dwin*100/(dwin+dloss)   \n",
    "    except:\n",
    "        dpct=0\n",
    "    \n",
    "        #teams\n",
    "    if 'a' in country:\n",
    "        twin=df[d[player]&america_won&teams].shape[0]\n",
    "        tloss=df[d[player]&~america_won&teams].shape[0]\n",
    "        tmp=twin+tloss\n",
    "    else:\n",
    "        tloss=df[d[player]&america_won&teams].shape[0]\n",
    "        twin=df[d[player]&~america_won&teams].shape[0] \n",
    "        tmp=twin+tloss\n",
    "    twl='{}-{}'.format(twin,tloss)\n",
    "    try:\n",
    "        tpct=twin*100/(twin+tloss)   \n",
    "    except:\n",
    "        tpct=0\n",
    "        \n",
    "        #triples\n",
    "    if 'a' in country:\n",
    "        trwin=df[d[player]&america_won&triples].shape[0]\n",
    "        trloss=df[d[player]&~america_won&triples].shape[0]\n",
    "        trmp=trwin+trloss\n",
    "    else:\n",
    "        trloss=df[d[player]&america_won&triples].shape[0]\n",
    "        trwin=df[d[player]&~america_won&triples].shape[0] \n",
    "        trmp=trwin+trloss\n",
    "    trwl='{}-{}'.format(trwin,trloss)\n",
    "    try:\n",
    "        trpct=round(trwin*100/(trwin+trloss),2)        \n",
    "    except:\n",
    "        trpct=0\n",
    "\n",
    "    #combined\n",
    "    cwin=dwin+swin+twin+trwin\n",
    "    closs=dloss+sloss+tloss+trloss\n",
    "    cmp=cwin+closs\n",
    "    cwl='{}-{}'.format(cwin,closs)\n",
    "    cpct=cwin*100/(cwin+closs)\n",
    "    l=[player,country,smp,swin,sloss,swl,round(spct,2),dmp,dwin,dloss,dwl,round(dpct,2), twl,trwl,cmp, cwin,closs,cwl,round(cpct,2)]\n",
    "    return(l)"
   ]
  },
  {
   "cell_type": "code",
   "execution_count": 11,
   "metadata": {
    "collapsed": true
   },
   "outputs": [],
   "source": [
    "#prepare list of winlosslists for each player to create player stats dataframe\n",
    "L=[]\n",
    "for player in am_players:\n",
    "    try:\n",
    "        lst = winlosslist(player,'America')\n",
    "        L.append(lst)\n",
    "    except: #Zerodivision error:\n",
    "        print('failure- am: ', player)\n",
    "#         pass\n",
    "for player in euro_players:\n",
    "    try:\n",
    "        lst = winlosslist(player,'Europe')\n",
    "        L.append(lst)\n",
    "    except: #Zerodivision error:\n",
    "        print('failure -eu ', player)\n",
    "#         pass"
   ]
  },
  {
   "cell_type": "code",
   "execution_count": null,
   "metadata": {
    "collapsed": true
   },
   "outputs": [],
   "source": [
    "#create player_stats dataframe\n",
    "import pandas as pd\n",
    "colz = 'Player,Team,Smp,Swin,Sloss,Swl,Spct,Dmp,Dwin,Dloss,Dwl,Dpct,Twl,Trwl,Cmp,Cwin,Closs,Cwl,Cpct'.split(',')\n",
    "player_stats = pd.DataFrame(L, columns = colz)"
   ]
  },
  {
   "cell_type": "code",
   "execution_count": 12,
   "metadata": {},
   "outputs": [
    {
     "data": {
      "text/html": [
       "<div>\n",
       "<table border=\"1\" class=\"dataframe\">\n",
       "  <thead>\n",
       "    <tr style=\"text-align: right;\">\n",
       "      <th></th>\n",
       "      <th>Player</th>\n",
       "      <th>Team</th>\n",
       "      <th>Smp</th>\n",
       "      <th>Swin</th>\n",
       "      <th>Sloss</th>\n",
       "      <th>Swl</th>\n",
       "      <th>Spct</th>\n",
       "      <th>Dmp</th>\n",
       "      <th>Dwin</th>\n",
       "      <th>Dloss</th>\n",
       "      <th>Dwl</th>\n",
       "      <th>Dpct</th>\n",
       "      <th>Twl</th>\n",
       "      <th>Trwl</th>\n",
       "      <th>Cmp</th>\n",
       "      <th>Cwin</th>\n",
       "      <th>Closs</th>\n",
       "      <th>Cwl</th>\n",
       "      <th>Cpct</th>\n",
       "    </tr>\n",
       "  </thead>\n",
       "  <tbody>\n",
       "    <tr>\n",
       "      <th>0</th>\n",
       "      <td>Johnny Archer</td>\n",
       "      <td>America</td>\n",
       "      <td>30</td>\n",
       "      <td>17</td>\n",
       "      <td>13</td>\n",
       "      <td>17-13</td>\n",
       "      <td>56.67</td>\n",
       "      <td>50</td>\n",
       "      <td>27</td>\n",
       "      <td>23</td>\n",
       "      <td>27-23</td>\n",
       "      <td>54.00</td>\n",
       "      <td>5-4</td>\n",
       "      <td>1-1</td>\n",
       "      <td>91</td>\n",
       "      <td>50</td>\n",
       "      <td>41</td>\n",
       "      <td>50-41</td>\n",
       "      <td>54.95</td>\n",
       "    </tr>\n",
       "    <tr>\n",
       "      <th>1</th>\n",
       "      <td>Earl Strickland</td>\n",
       "      <td>America</td>\n",
       "      <td>26</td>\n",
       "      <td>14</td>\n",
       "      <td>12</td>\n",
       "      <td>14-12</td>\n",
       "      <td>53.85</td>\n",
       "      <td>36</td>\n",
       "      <td>24</td>\n",
       "      <td>12</td>\n",
       "      <td>24-12</td>\n",
       "      <td>66.67</td>\n",
       "      <td>3-2</td>\n",
       "      <td>2-0</td>\n",
       "      <td>69</td>\n",
       "      <td>43</td>\n",
       "      <td>26</td>\n",
       "      <td>43-26</td>\n",
       "      <td>62.32</td>\n",
       "    </tr>\n",
       "    <tr>\n",
       "      <th>2</th>\n",
       "      <td>Rodney Morris</td>\n",
       "      <td>America</td>\n",
       "      <td>18</td>\n",
       "      <td>10</td>\n",
       "      <td>8</td>\n",
       "      <td>10-8</td>\n",
       "      <td>55.56</td>\n",
       "      <td>29</td>\n",
       "      <td>12</td>\n",
       "      <td>17</td>\n",
       "      <td>12-17</td>\n",
       "      <td>41.38</td>\n",
       "      <td>3-5</td>\n",
       "      <td>2-0</td>\n",
       "      <td>57</td>\n",
       "      <td>27</td>\n",
       "      <td>30</td>\n",
       "      <td>27-30</td>\n",
       "      <td>47.37</td>\n",
       "    </tr>\n",
       "    <tr>\n",
       "      <th>3</th>\n",
       "      <td>Shane Van Boening</td>\n",
       "      <td>America</td>\n",
       "      <td>25</td>\n",
       "      <td>10</td>\n",
       "      <td>15</td>\n",
       "      <td>10-15</td>\n",
       "      <td>40.00</td>\n",
       "      <td>25</td>\n",
       "      <td>11</td>\n",
       "      <td>14</td>\n",
       "      <td>11-14</td>\n",
       "      <td>44.00</td>\n",
       "      <td>4-6</td>\n",
       "      <td>0-0</td>\n",
       "      <td>60</td>\n",
       "      <td>25</td>\n",
       "      <td>35</td>\n",
       "      <td>25-35</td>\n",
       "      <td>41.67</td>\n",
       "    </tr>\n",
       "    <tr>\n",
       "      <th>4</th>\n",
       "      <td>Corey Deuel</td>\n",
       "      <td>America</td>\n",
       "      <td>13</td>\n",
       "      <td>7</td>\n",
       "      <td>6</td>\n",
       "      <td>7-6</td>\n",
       "      <td>53.85</td>\n",
       "      <td>25</td>\n",
       "      <td>13</td>\n",
       "      <td>12</td>\n",
       "      <td>13-12</td>\n",
       "      <td>52.00</td>\n",
       "      <td>5-2</td>\n",
       "      <td>2-0</td>\n",
       "      <td>47</td>\n",
       "      <td>27</td>\n",
       "      <td>20</td>\n",
       "      <td>27-20</td>\n",
       "      <td>57.45</td>\n",
       "    </tr>\n",
       "  </tbody>\n",
       "</table>\n",
       "</div>"
      ],
      "text/plain": [
       "              Player     Team  Smp  Swin  Sloss    Swl   Spct  Dmp  Dwin  \\\n",
       "0      Johnny Archer  America   30    17     13  17-13  56.67   50    27   \n",
       "1    Earl Strickland  America   26    14     12  14-12  53.85   36    24   \n",
       "2      Rodney Morris  America   18    10      8   10-8  55.56   29    12   \n",
       "3  Shane Van Boening  America   25    10     15  10-15  40.00   25    11   \n",
       "4        Corey Deuel  America   13     7      6    7-6  53.85   25    13   \n",
       "\n",
       "   Dloss    Dwl   Dpct  Twl Trwl  Cmp  Cwin  Closs    Cwl   Cpct  \n",
       "0     23  27-23  54.00  5-4  1-1   91    50     41  50-41  54.95  \n",
       "1     12  24-12  66.67  3-2  2-0   69    43     26  43-26  62.32  \n",
       "2     17  12-17  41.38  3-5  2-0   57    27     30  27-30  47.37  \n",
       "3     14  11-14  44.00  4-6  0-0   60    25     35  25-35  41.67  \n",
       "4     12  13-12  52.00  5-2  2-0   47    27     20  27-20  57.45  "
      ]
     },
     "execution_count": 12,
     "metadata": {},
     "output_type": "execute_result"
    }
   ],
   "source": [
    "player_stats.head()"
   ]
  },
  {
   "cell_type": "code",
   "execution_count": 13,
   "metadata": {
    "collapsed": true
   },
   "outputs": [],
   "source": [
    "# save df to pickle\n",
    "import pickle\n",
    "pd.to_pickle(player_stats,'pkl/player_stats')"
   ]
  }
 ],
 "metadata": {
  "kernelspec": {
   "display_name": "Python 3",
   "language": "python",
   "name": "python3"
  },
  "language_info": {
   "codemirror_mode": {
    "name": "ipython",
    "version": 3
   },
   "file_extension": ".py",
   "mimetype": "text/x-python",
   "name": "python",
   "nbconvert_exporter": "python",
   "pygments_lexer": "ipython3",
   "version": "3.5.2"
  }
 },
 "nbformat": 4,
 "nbformat_minor": 2
}
