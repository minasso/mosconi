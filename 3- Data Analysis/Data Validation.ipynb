{
 "cells": [
  {
   "cell_type": "markdown",
   "metadata": {},
   "source": [
    "Goal: Validate player stats data by comparing with 'actual' data obtained from credible sources\n",
    "Credible sources include: Matchroom Sports aggregate data and aggregate data from 'Atlarge', a user on AZbilliards forum"
   ]
  },
  {
   "cell_type": "markdown",
   "metadata": {},
   "source": [
    "(unfinished)"
   ]
  },
  {
   "cell_type": "code",
   "execution_count": 8,
   "metadata": {
    "collapsed": true
   },
   "outputs": [],
   "source": [
    "import pandas as pd"
   ]
  },
  {
   "cell_type": "code",
   "execution_count": 5,
   "metadata": {
    "collapsed": true
   },
   "outputs": [],
   "source": [
    "import pickle"
   ]
  },
  {
   "cell_type": "code",
   "execution_count": 3,
   "metadata": {
    "collapsed": true
   },
   "outputs": [],
   "source": [
    "df= pd.read_pickle(path)"
   ]
  },
  {
   "cell_type": "code",
   "execution_count": 15,
   "metadata": {
    "scrolled": true
   },
   "outputs": [
    {
     "name": "stdout",
     "output_type": "stream",
     "text": [
      "['Shane Van Boening', 'am', 25, 10, 15, '10-15', 40.0, 25, 11, 14, '11-14', 44.0, '4-6', '0-0', 60, 25, 35, '25-35', 41.67]\n",
      "['Rodney Morris', 'am', 18, 10, 8, '10-8', 55.56, 29, 12, 17, '12-17', 41.38, '3-5', '2-0', 57, 27, 30, '27-30', 47.37]\n",
      "['Mike Dechaine', 'am', 7, 1, 6, '1-6', 14.29, 10, 2, 8, '2-8', 20.0, '2-2', '0-0', 21, 5, 16, '5-16', 23.81]\n",
      "['Justin Bergman', 'am', 6, 1, 5, '1-5', 16.67, 7, 4, 3, '4-3', 57.14, '1-2', '0-0', 16, 6, 10, '6-10', 37.5]\n",
      "['Skyler Woodward', 'am', 3, 0, 3, '0-3', 0.0, 6, 3, 3, '3-3', 50.0, '1-1', '0-0', 11, 4, 7, '4-7', 36.36]\n"
     ]
    }
   ],
   "source": [
    "# Check data on 2016 American players\n",
    "usa = ['Shane Van Boening', 'Rodney Morris', 'Mike Dechaine', 'Justin Bergman', 'Skyler Woodward']"
   ]
  },
  {
   "cell_type": "markdown",
   "metadata": {},
   "source": [
    "### Data obtained from atlarge post on AZ billiards forum\n",
    "\n",
    "Team USA\n",
    "• Shane Van Boening 10-15 singles, 11-14 doubles, 4-6 teams, 25-35 total (42%)\n",
    "\n",
    "• Rodney Morris 10-8 singles, 12-17 doubles, 2-0 trebles, 3-5 teams, 27-30 total (47%)\n",
    "\n",
    "• Mike Dechaine 1-6 singles, 2-8 doubles, 2-2 teams, 5-16 total (24%)\n",
    "\n",
    "• Justin Bergman  1-5 singles, 4-3 doubles, 1-2 teams, 6-10 total (38%)\n",
    "\n",
    "• Skyler Woodward  0-3 singles, 3-3 doubles, 1-1 teams, 4-7 total (36%)"
   ]
  },
  {
   "cell_type": "code",
   "execution_count": 16,
   "metadata": {
    "scrolled": false
   },
   "outputs": [
    {
     "name": "stdout",
     "output_type": "stream",
     "text": [
      "['Darren Appleton', 'u', 14, 10, 4, '10-4', 71.43, 25, 10, 15, '10-15', 40.0, '5-3', '0-0', 47, 25, 22, '25-22', 53.19]\n",
      "['Mark Gray', 'u', 2, 1, 1, '1-1', 50.0, 9, 4, 5, '4-5', 44.44, '3-0', '0-0', 14, 8, 6, '8-6', 57.14]\n",
      "['Albin Ouschan', 'u', 3, 3, 0, '3-0', 100.0, 6, 5, 1, '5-1', 83.33, '1-1', '0-0', 11, 9, 2, '9-2', 81.82]\n",
      "['Niels Feijen', 'u', 20, 12, 8, '12-8', 60.0, 33, 24, 9, '24-9', 72.73, '5-4', '0-0', 62, 41, 21, '41-21', 66.13]\n"
     ]
    }
   ],
   "source": [
    "# Check stats for 2016 Eu players\n",
    "eu = ['Darren Appleton', 'Mark Gray', 'Albin Ouschan', 'Niels Feijen']"
   ]
  },
  {
   "cell_type": "markdown",
   "metadata": {},
   "source": [
    "### Data obtained from atlarge post on AZ billiards forum\n",
    "\n",
    "Team Europe\n",
    "• Niels Feijen 12-8 singles, 24-9 doubles, 5-4 teams, 41-21 total (66%)\n",
    "\n",
    "• Darren Appleton  10-4 singles, 10-15 doubles, 5-3 teams, 25-22 total (53%)\n",
    "\n",
    "• Mark Gray   1-1 singles, 4-5 doubles, 3-0 teams, 8-6 total (57%)\n",
    "\n",
    "• Albin Ouschan  3-0 singles, 5-1 doubles, 1-1 teams, 9-2 total (82%)\n",
    "\n",
    "• Jayson Shaw 1-1 singles, 1-1 doubles, 1-0 teams, 3-2 total (60%)"
   ]
  },
  {
   "cell_type": "markdown",
   "metadata": {},
   "source": [
    "Data obtained from atlarge post on AZ billiards forum\n",
    "\n",
    "### More info to verify:\n",
    "• Johnny Archer (17 years) ..... 18-13 singles, 26-23 doubles, 0-2 trebles, 5-4 teams, 49-42 total (winning percentage of 54%)\n",
    "• Earl Strickland (14 years) ..... 14-12 singles, 24-12 doubles, 1-1 trebles, 3-2 teams, 42-27 total (61%)\n",
    "• Corey Deuel (9 years) ..... 7-6 singles, 13-12 doubles, 2-0 trebles, 5-2 teams, 27-20 total (57%)\n",
    "And more:\n",
    "Dennis Hatch (4 years -- 2009, 2010, 2012, 2013) ..... 4-3 singles, 5-7 doubles, 2-2 teams, 11-12 total (winning percentage 48%)"
   ]
  },
  {
   "cell_type": "code",
   "execution_count": 17,
   "metadata": {},
   "outputs": [
    {
     "name": "stdout",
     "output_type": "stream",
     "text": [
      "['Johnny Archer', 'am', 30, 17, 13, '17-13', 56.67, 50, 27, 23, '27-23', 54.0, '5-4', '1-1', 91, 50, 41, '50-41', 54.95]\n",
      "['Earl Strickland', 'am', 26, 14, 12, '14-12', 53.85, 36, 24, 12, '24-12', 66.67, '3-2', '2-0', 69, 43, 26, '43-26', 62.32]\n",
      "['Corey Deuel', 'am', 13, 7, 6, '7-6', 53.85, 25, 13, 12, '13-12', 52.0, '5-2', '2-0', 47, 27, 20, '27-20', 57.45]\n",
      "['Dennis Hatch', 'am', 7, 4, 3, '4-3', 57.14, 12, 5, 7, '5-7', 41.67, '2-2', '0-0', 23, 11, 12, '11-12', 47.83]\n"
     ]
    }
   ],
   "source": [
    "pl=['Johnny Archer','Earl Strickland','Corey Deuel','Dennis Hatch']\n",
    "for player in pl:\n",
    "    print(winlosslist(player,'am'))"
   ]
  },
  {
   "cell_type": "markdown",
   "metadata": {},
   "source": [
    "# note: archer and strickland are off by one (too many wins) \n",
    "The source on AZ billiards has got the wrong triples info. Only triples matches occured in 2006 and johnny was 1-1 earl was 2-0 (source wikipedia)"
   ]
  },
  {
   "cell_type": "markdown",
   "metadata": {},
   "source": [
    "### Data obtained from atlarge post on AZ billiards forum\n",
    "\n",
    "Data including 2016\n",
    "\n",
    "Team USA\n",
    "• Shane Van Boening (10 years -- 2007-2016) ..... 10-15 singles, 11-14 doubles, 4-6 teams, 25-35 total (winning percentage of 42%)\n",
    "\n",
    "• Rodney Morris (10 years -- 2003-2008, 2010-2011, 2013, 2016) ..... 10-8 singles, 12-17 doubles, 2-0 trebles, 3-5 teams, 27-30 total (47%)\n",
    "\n",
    "• Mike Dechaine (4 years -- 2011-2012, 2015-2016) ..... 1-6 singles, 2-8 doubles, 2-2 teams, 5-16 total (24%)\n",
    "\n",
    "• Justin Bergman (3 years -- 2014-2016) ..... 1-5 singles, 4-3 doubles, 1-2 teams, 6-10 total (38%)\n",
    "\n",
    "• Skyler Woodward (2 years -- 2015-2016) ..... 0-3 singles, 3-3 doubles, 1-1 teams, 4-7 total (36%)\n",
    "\n",
    "• Team USA Total ..... 22-37 singles, 32-45 doubles, 2-0 trebles, 11-16 teams, 67-98 total (41%)\n",
    "\n",
    "Team Europe\n",
    "• Niels Feijen (12 years -- 2001, 2004-2005, 2007-2009, 2011-2016) ..... 12-8 singles, 24-9 doubles, 5-4 teams, 41-21 total (66%)\n",
    "\n",
    "• Darren Appleton (8 years -- 2009-2016) ..... 10-4 singles, 10-15 doubles, 5-3 teams, 25-22 total (53%)\n",
    "\n",
    "• Mark Gray (3 years -- 2008, 2014, 2016) ..... 1-1 singles, 4-5 doubles, 3-0 teams, 8-6 total (57%)\n",
    "\n",
    "• Albin Ouschan (2 years -- 2015-2016) ..... 3-0 singles, 5-1 doubles, 1-1 teams, 9-2 total (82%)\n",
    "\n",
    "• Jayson Shaw (1 year -- 2016) ..... 1-1 singles, 1-1 doubles, 1-0 teams, 3-2 total (60%)\n",
    "\n",
    "• Team Europe Total ..... 27-14 singles, 44-31 doubles, 15-8 teams, 86-53 total (62%)"
   ]
  }
 ],
 "metadata": {
  "kernelspec": {
   "display_name": "Python 3",
   "language": "python",
   "name": "python3"
  },
  "language_info": {
   "codemirror_mode": {
    "name": "ipython",
    "version": 3
   },
   "file_extension": ".py",
   "mimetype": "text/x-python",
   "name": "python",
   "nbconvert_exporter": "python",
   "pygments_lexer": "ipython3",
   "version": "3.5.2"
  }
 },
 "nbformat": 4,
 "nbformat_minor": 2
}
