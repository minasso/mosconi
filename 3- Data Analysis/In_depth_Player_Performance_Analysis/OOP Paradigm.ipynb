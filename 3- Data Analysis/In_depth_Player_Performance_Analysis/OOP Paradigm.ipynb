{
 "cells": [
  {
   "cell_type": "markdown",
   "metadata": {},
   "source": [
    "Goal: Use OOP to make in depth player analysis code reusable"
   ]
  },
  {
   "cell_type": "code",
   "execution_count": 28,
   "metadata": {
    "collapsed": true
   },
   "outputs": [],
   "source": [
    "class Player:\n",
    "    def __init__(self, player, team):\n",
    "        self.player = player\n",
    "        self.team = team\n",
    "#         self.df = setup_df()\n",
    "\n",
    "    def setup_df(self):\n",
    "        '''Set up the player's results dataframe'''\n",
    "        player=self.player\n",
    "        team=self.team\n",
    "        import pickle\n",
    "        import pandas as pd\n",
    "        path = '//DREW/Users/andrew/Desktop/mosconi/'\n",
    "        dframe = pickle.load(open(path+'pkl/allyears_clean_locs','rb'))\n",
    "        dframe['Europe_lost'] = ~ dframe['Europe_won']\n",
    "        if 'a' in team.lower():\n",
    "            df = dframe[dframe['American_player'].str.contains(player)]\n",
    "            df = df[['Format', 'European_player', 'European_score', 'American_score',\n",
    "               'American_player', 'Europe_lost','Europe_won']]\n",
    "            df.columns = ['Format', 'European_player', 'European_score', 'American_score',\n",
    "               'American_player', 'America_won', 'America_lost']\n",
    "        else:\n",
    "            df = dframe[dframe['European_player'].str.contains(player)]\n",
    "        return(df,dframe)\n",
    "    \n",
    "    def stats(self,df):\n",
    "        team=self.team\n",
    "        try:\n",
    "            if 'a' in team.lower():\n",
    "                win = df['America_won'].sum()\n",
    "                loss = df['America_lost'].sum()\n",
    "            else:\n",
    "                win = df['Europe_won'].sum()\n",
    "                loss = df['Europe_lost'].sum()\n",
    "            mp= win+loss\n",
    "            wl = 'Win-loss: {}-{}'.format(win,loss)\n",
    "            pct = round(win/(win+loss)*100,0)\n",
    "            return('Matches Played: {}'.format(mp),wl,'Pct: {}'.format(pct))\n",
    "        except:\n",
    "            return('No matches to display')\n",
    "\n",
    "    def overall_stats(self,df):\n",
    "        team=self.team\n",
    "        sing = df[df['Format']=='Singles']\n",
    "        dub = df[df['Format']=='Doubles']\n",
    "        teams = df[df['Format']=='Teams']\n",
    "        triples = df[df['Format']=='Triples'] \n",
    "        outstr='Overall: {}\\nSingles: {}\\nDoubles: {}\\nTeams:   {}\\nTriples: {}\\n'.format(self.stats(df), self.stats(sing), self.stats(dub), self.stats(teams), self.stats(triples))\n",
    "        print(outstr)\n",
    "        return(sing,dub,teams,triples)\n",
    "    \n",
    "    def partners(self,dub):\n",
    "        player=self.player\n",
    "        if 'America_won' in dub:\n",
    "            dub = dub[['European_player','American_player','America_won','America_lost']].copy()\n",
    "            dub['Partner']=dub['American_player'].str.replace(player,'')\n",
    "            dub['Partner']=dub['Partner'].str.replace('&','')\n",
    "            dub['Partner']=dub['Partner'].str.strip()\n",
    "            d = dub.groupby('Partner').sum().sort_values(['America_won','America_lost'],ascending=False)\n",
    "            return d    \n",
    "        else:\n",
    "            dub = dub[['European_player','American_player','Europe_won','Europe_lost']]\n",
    "            dub['Partner']=dub['European_player'].str.replace(player,'')\n",
    "            dub['Partner']=dub['Partner'].str.replace('&','')\n",
    "            dub['Partner']=dub['Partner'].str.strip()\n",
    "            return dub.groupby('Partner').sum().sort_values(['Europe_won','Europe_lost'],ascending=False)\n",
    "\n",
    "    def opponents(self,sing):\n",
    "        if 'America_won' in sing:\n",
    "            return sing.groupby('European_player').sum().sort_values('America_won',ascending = False)\n",
    "        else:\n",
    "            return sing.groupby('American_player').sum().sort_values('Europe_won',ascending = False)\n",
    "        \n",
    "    def yearly_plot(self,df):\n",
    "        import numpy as np\n",
    "        import matplotlib.pyplot as plt\n",
    "        \n",
    "        lst =df.index.values.tolist() \n",
    "        years = set([])\n",
    "        \n",
    "        for item in lst:\n",
    "            years.add(item[0])\n",
    "        years=list(years)\n",
    "\n",
    "        yearly=[]\n",
    "        for year in years:\n",
    "            if 'America_won' in df:\n",
    "                w = df.loc[year]['America_won'].sum()\n",
    "                l = df.loc[year]['America_lost'].sum()\n",
    "            else:\n",
    "                w = df.loc[year]['Europe_won'].sum()\n",
    "                l = df.loc[year]['Europe_lost'].sum()\n",
    "            yearly.append((w,l))\n",
    "\n",
    "        yr= {}\n",
    "        for k,v in zip(years,yearly):\n",
    "            yr[k]=v\n",
    "\n",
    "        win=[]\n",
    "        loss=[]\n",
    "        pct=[]\n",
    "        for w,l in yearly:\n",
    "            win.append(w)\n",
    "            loss.append(l)\n",
    "            p=round((w*100/(w+l)),0)\n",
    "            pct.append(p)\n",
    "\n",
    "        # from IPython.core.interactiveshell import InteractiveShell\n",
    "        # InteractiveShell.ast_node_interactivity = \"last_expr\"\n",
    "\n",
    "        fig = plt.figure(figsize=(14, 8))\n",
    "        ax = fig.add_subplot(111)\n",
    "\n",
    "        x= years\n",
    "        y= pct\n",
    "\n",
    "        ind = range(len(years))  \n",
    "\n",
    "        ax.plot(y,linestyle='-',marker='.',markersize=12)\n",
    "        ax.axhline(50, color='r',linestyle='--')\n",
    "\n",
    "        ax.set_ylabel('Percentage of Games Won');\n",
    "        ax.set_title('Yearly Performance Average');\n",
    "        ax.set_xticks(ind);\n",
    "        ax.set_xticklabels(x,rotation=30);\n",
    "\n",
    "        for i in range(len(years)):\n",
    "            plt.annotate( '{}-{}'.format(yearly[i][0],yearly[i][1]), (ind[i]+.2,y[i]) )\n",
    "        plt.show()\n",
    "        return years\n",
    "    \n",
    "    def wincount(self,dframe,years):\n",
    "        team=self.team\n",
    "        l=0\n",
    "        w=0\n",
    "        tie=0\n",
    "        print('Team win-loss record by year:\\n')\n",
    "        for year in years:\n",
    "            f,t = dframe.loc[year]['Europe_won'].value_counts(sort=False)\n",
    "            print('{}: {}-{}'.format(year,f,t))\n",
    "            if f>t:\n",
    "                l+=1\n",
    "            elif f<t:\n",
    "                w+=1 \n",
    "            else:\n",
    "                tie+=1\n",
    "        if 'a' in team:\n",
    "            l,w = w,l\n",
    "        print('\\n')\n",
    "        print( 'Total team win-loss-tie: {}-{}-{}\\n'.format(w,l,tie)  )\n",
    "        \n",
    "    def location(self,df,years):\n",
    "        team=self.team\n",
    "        import pickle\n",
    "        path = '//DREW/Users/andrew/Desktop/mosconi/'\n",
    "        locs = pickle.load(open(path+'pkl/dloc','rb'))\n",
    "\n",
    "        hm = []\n",
    "        aw = []\n",
    "\n",
    "        for year in years:\n",
    "            if 'USA' in locs[year]:\n",
    "                if 'a' in team.lower():\n",
    "                    hm.append(year)\n",
    "                else:\n",
    "                    aw.append(year)\n",
    "            else:\n",
    "                if 'a' in team.lower():\n",
    "                    aw.append(year)\n",
    "                else:\n",
    "                    hm.append(year)\n",
    "        away = df.loc[aw]\n",
    "        home = df.loc[hm]\n",
    "\n",
    "        print( '\\t Played home {} times, away {} times \\n Home Games: {} \\n Away Games: {}\\n'.format(len(hm),len(aw),self.stats(home),self.stats(away)))\n",
    "        return(home,away)\n",
    "\n",
    "    def location_split(self,home,away):\n",
    "        team = self.team\n",
    "        hsing = self.stats(home[home['Format']=='Singles'])\n",
    "        hdub = self.stats(home[home['Format']=='Doubles'])\n",
    "        asing = self.stats(away[away['Format']=='Singles'])\n",
    "        adub = self.stats(away[away['Format']=='Doubles'])\n",
    "\n",
    "        print(' Home Singles: {} \\n Home Doubles: {} \\n Away Singles: {} \\n Away Doubles: {}\\n'.format(hsing,hdub,asing,adub))\n",
    "\n",
    "    def call_em(self):\n",
    "        player=self.player\n",
    "        team=self.team\n",
    "        df,dframe = self.setup_df()\n",
    "        sing,dub,teams,triples = self.overall_stats(df)\n",
    "        print('-----Win-loss breakdown by partner----- \\n')\n",
    "        print(self.partners(dub))\n",
    "        print('\\n')\n",
    "        print('-----Win-loss breakdown by opponent (singles)----- \\n')\n",
    "        print(self.opponents(sing))\n",
    "        years = self.yearly_plot(df)\n",
    "        self.wincount(dframe,years)\n",
    "        home,away = self.location(df,years)\n",
    "        self.location_split(home,away)\n",
    "        return"
   ]
  },
  {
   "cell_type": "code",
   "execution_count": 29,
   "metadata": {
    "collapsed": true
   },
   "outputs": [],
   "source": [
    "svb=Player('Shane Van Boening','America')"
   ]
  },
  {
   "cell_type": "code",
   "execution_count": 30,
   "metadata": {},
   "outputs": [
    {
     "data": {
      "text/plain": [
       "'Shane Van Boening'"
      ]
     },
     "execution_count": 30,
     "metadata": {},
     "output_type": "execute_result"
    }
   ],
   "source": [
    "svb.player"
   ]
  },
  {
   "cell_type": "code",
   "execution_count": 31,
   "metadata": {},
   "outputs": [
    {
     "data": {
      "text/plain": [
       "'America'"
      ]
     },
     "execution_count": 31,
     "metadata": {},
     "output_type": "execute_result"
    }
   ],
   "source": [
    "svb.team"
   ]
  },
  {
   "cell_type": "code",
   "execution_count": 32,
   "metadata": {
    "collapsed": true
   },
   "outputs": [],
   "source": [
    "df,dframe=svb.setup_df()"
   ]
  },
  {
   "cell_type": "code",
   "execution_count": 33,
   "metadata": {
    "collapsed": true
   },
   "outputs": [],
   "source": [
    "import pandas as pd"
   ]
  },
  {
   "cell_type": "code",
   "execution_count": 34,
   "metadata": {},
   "outputs": [
    {
     "data": {
      "text/html": [
       "<div>\n",
       "<table border=\"1\" class=\"dataframe\">\n",
       "  <thead>\n",
       "    <tr style=\"text-align: right;\">\n",
       "      <th></th>\n",
       "    </tr>\n",
       "  </thead>\n",
       "  <tbody>\n",
       "  </tbody>\n",
       "</table>\n",
       "</div>"
      ],
      "text/plain": [
       "Empty DataFrame\n",
       "Columns: []\n",
       "Index: []"
      ]
     },
     "execution_count": 34,
     "metadata": {},
     "output_type": "execute_result"
    }
   ],
   "source": [
    "pd.DataFrame()"
   ]
  },
  {
   "cell_type": "code",
   "execution_count": 35,
   "metadata": {},
   "outputs": [
    {
     "data": {
      "text/html": [
       "<div>\n",
       "<table border=\"1\" class=\"dataframe\">\n",
       "  <thead>\n",
       "    <tr style=\"text-align: right;\">\n",
       "      <th></th>\n",
       "      <th></th>\n",
       "      <th></th>\n",
       "      <th>Format</th>\n",
       "      <th>European_player</th>\n",
       "      <th>European_score</th>\n",
       "      <th>American_score</th>\n",
       "      <th>American_player</th>\n",
       "      <th>America_won</th>\n",
       "      <th>America_lost</th>\n",
       "    </tr>\n",
       "    <tr>\n",
       "      <th>Year</th>\n",
       "      <th>Location</th>\n",
       "      <th>Match</th>\n",
       "      <th></th>\n",
       "      <th></th>\n",
       "      <th></th>\n",
       "      <th></th>\n",
       "      <th></th>\n",
       "      <th></th>\n",
       "      <th></th>\n",
       "    </tr>\n",
       "  </thead>\n",
       "  <tbody>\n",
       "    <tr>\n",
       "      <th rowspan=\"5\" valign=\"top\">2007</th>\n",
       "      <th rowspan=\"5\" valign=\"top\">Las Vegas, Nevada, USA</th>\n",
       "      <th>0</th>\n",
       "      <td>Teams</td>\n",
       "      <td>Daryl Peach, Tony Drago, Konstantin Stepanov, ...</td>\n",
       "      <td>4</td>\n",
       "      <td>6</td>\n",
       "      <td>Corey Deuel, Earl Strickland, Shane Van Boenin...</td>\n",
       "      <td>True</td>\n",
       "      <td>False</td>\n",
       "    </tr>\n",
       "    <tr>\n",
       "      <th>2</th>\n",
       "      <td>Singles</td>\n",
       "      <td>Daryl Peach</td>\n",
       "      <td>2</td>\n",
       "      <td>6</td>\n",
       "      <td>Shane Van Boening</td>\n",
       "      <td>True</td>\n",
       "      <td>False</td>\n",
       "    </tr>\n",
       "    <tr>\n",
       "      <th>5</th>\n",
       "      <td>Doubles</td>\n",
       "      <td>Daryl Peach Ralf Souquet</td>\n",
       "      <td>6</td>\n",
       "      <td>0</td>\n",
       "      <td>Earl Strickland Shane Van Boening</td>\n",
       "      <td>False</td>\n",
       "      <td>True</td>\n",
       "    </tr>\n",
       "    <tr>\n",
       "      <th>8</th>\n",
       "      <td>Singles</td>\n",
       "      <td>Tony Drago</td>\n",
       "      <td>6</td>\n",
       "      <td>2</td>\n",
       "      <td>Shane Van Boening</td>\n",
       "      <td>False</td>\n",
       "      <td>True</td>\n",
       "    </tr>\n",
       "    <tr>\n",
       "      <th>12</th>\n",
       "      <td>Doubles</td>\n",
       "      <td>Konstantin Stepanov Daryl Peach</td>\n",
       "      <td>3</td>\n",
       "      <td>6</td>\n",
       "      <td>Johnny Archer Shane Van Boening</td>\n",
       "      <td>True</td>\n",
       "      <td>False</td>\n",
       "    </tr>\n",
       "  </tbody>\n",
       "</table>\n",
       "</div>"
      ],
      "text/plain": [
       "                                    Format  \\\n",
       "Year Location               Match            \n",
       "2007 Las Vegas, Nevada, USA 0        Teams   \n",
       "                            2      Singles   \n",
       "                            5      Doubles   \n",
       "                            8      Singles   \n",
       "                            12     Doubles   \n",
       "\n",
       "                                                                     European_player  \\\n",
       "Year Location               Match                                                      \n",
       "2007 Las Vegas, Nevada, USA 0      Daryl Peach, Tony Drago, Konstantin Stepanov, ...   \n",
       "                            2                                            Daryl Peach   \n",
       "                            5                               Daryl Peach Ralf Souquet   \n",
       "                            8                                             Tony Drago   \n",
       "                            12                       Konstantin Stepanov Daryl Peach   \n",
       "\n",
       "                                  European_score American_score  \\\n",
       "Year Location               Match                                 \n",
       "2007 Las Vegas, Nevada, USA 0                  4              6   \n",
       "                            2                  2              6   \n",
       "                            5                  6              0   \n",
       "                            8                  6              2   \n",
       "                            12                 3              6   \n",
       "\n",
       "                                                                     American_player  \\\n",
       "Year Location               Match                                                      \n",
       "2007 Las Vegas, Nevada, USA 0      Corey Deuel, Earl Strickland, Shane Van Boenin...   \n",
       "                            2                                      Shane Van Boening   \n",
       "                            5                      Earl Strickland Shane Van Boening   \n",
       "                            8                                      Shane Van Boening   \n",
       "                            12                       Johnny Archer Shane Van Boening   \n",
       "\n",
       "                                  America_won America_lost  \n",
       "Year Location               Match                           \n",
       "2007 Las Vegas, Nevada, USA 0            True        False  \n",
       "                            2            True        False  \n",
       "                            5           False         True  \n",
       "                            8           False         True  \n",
       "                            12           True        False  "
      ]
     },
     "execution_count": 35,
     "metadata": {},
     "output_type": "execute_result"
    }
   ],
   "source": [
    "df.head()"
   ]
  },
  {
   "cell_type": "code",
   "execution_count": 36,
   "metadata": {},
   "outputs": [
    {
     "data": {
      "text/plain": [
       "('Matches Played: 60', 'Win-loss: 25-35', 'Pct: 42.0')"
      ]
     },
     "execution_count": 36,
     "metadata": {},
     "output_type": "execute_result"
    }
   ],
   "source": [
    "svb.stats(df)"
   ]
  },
  {
   "cell_type": "code",
   "execution_count": 37,
   "metadata": {},
   "outputs": [
    {
     "name": "stdout",
     "output_type": "stream",
     "text": [
      "Overall: ('Matches Played: 60', 'Win-loss: 25-35', 'Pct: 42.0')\n",
      "Singles: ('Matches Played: 25', 'Win-loss: 10-15', 'Pct: 40.0')\n",
      "Doubles: ('Matches Played: 25', 'Win-loss: 11-14', 'Pct: 44.0')\n",
      "Teams:   ('Matches Played: 10', 'Win-loss: 4-6', 'Pct: 40.0')\n",
      "Triples: No matches to display\n",
      "\n"
     ]
    }
   ],
   "source": [
    "sing,dub,teams,triples= svb.overall_stats(df)"
   ]
  },
  {
   "cell_type": "code",
   "execution_count": 38,
   "metadata": {},
   "outputs": [
    {
     "data": {
      "text/html": [
       "<div>\n",
       "<table border=\"1\" class=\"dataframe\">\n",
       "  <thead>\n",
       "    <tr style=\"text-align: right;\">\n",
       "      <th></th>\n",
       "      <th>America_won</th>\n",
       "      <th>America_lost</th>\n",
       "    </tr>\n",
       "    <tr>\n",
       "      <th>Partner</th>\n",
       "      <th></th>\n",
       "      <th></th>\n",
       "    </tr>\n",
       "  </thead>\n",
       "  <tbody>\n",
       "    <tr>\n",
       "      <th>Johnny Archer</th>\n",
       "      <td>4.0</td>\n",
       "      <td>1.0</td>\n",
       "    </tr>\n",
       "    <tr>\n",
       "      <th>Dennis Hatch</th>\n",
       "      <td>2.0</td>\n",
       "      <td>0.0</td>\n",
       "    </tr>\n",
       "    <tr>\n",
       "      <th>Rodney Morris</th>\n",
       "      <td>1.0</td>\n",
       "      <td>4.0</td>\n",
       "    </tr>\n",
       "    <tr>\n",
       "      <th>Corey Deuel</th>\n",
       "      <td>1.0</td>\n",
       "      <td>2.0</td>\n",
       "    </tr>\n",
       "    <tr>\n",
       "      <th>Mike Dechaine</th>\n",
       "      <td>1.0</td>\n",
       "      <td>2.0</td>\n",
       "    </tr>\n",
       "    <tr>\n",
       "      <th>Earl Strickland</th>\n",
       "      <td>1.0</td>\n",
       "      <td>1.0</td>\n",
       "    </tr>\n",
       "    <tr>\n",
       "      <th>Skyler Woodward</th>\n",
       "      <td>1.0</td>\n",
       "      <td>1.0</td>\n",
       "    </tr>\n",
       "    <tr>\n",
       "      <th>John Schmidt</th>\n",
       "      <td>0.0</td>\n",
       "      <td>1.0</td>\n",
       "    </tr>\n",
       "    <tr>\n",
       "      <th>Justin Bergman</th>\n",
       "      <td>0.0</td>\n",
       "      <td>1.0</td>\n",
       "    </tr>\n",
       "    <tr>\n",
       "      <th>Óscar Domínguez</th>\n",
       "      <td>0.0</td>\n",
       "      <td>1.0</td>\n",
       "    </tr>\n",
       "  </tbody>\n",
       "</table>\n",
       "</div>"
      ],
      "text/plain": [
       "                 America_won  America_lost\n",
       "Partner                                   \n",
       "Johnny Archer            4.0           1.0\n",
       "Dennis Hatch             2.0           0.0\n",
       "Rodney Morris            1.0           4.0\n",
       "Corey Deuel              1.0           2.0\n",
       "Mike Dechaine            1.0           2.0\n",
       "Earl Strickland          1.0           1.0\n",
       "Skyler Woodward          1.0           1.0\n",
       "John Schmidt             0.0           1.0\n",
       "Justin Bergman           0.0           1.0\n",
       "Óscar Domínguez          0.0           1.0"
      ]
     },
     "execution_count": 38,
     "metadata": {},
     "output_type": "execute_result"
    }
   ],
   "source": [
    "svb.partners(dub)"
   ]
  },
  {
   "cell_type": "code",
   "execution_count": 39,
   "metadata": {},
   "outputs": [
    {
     "data": {
      "text/html": [
       "<div>\n",
       "<table border=\"1\" class=\"dataframe\">\n",
       "  <thead>\n",
       "    <tr style=\"text-align: right;\">\n",
       "      <th></th>\n",
       "      <th>America_won</th>\n",
       "      <th>America_lost</th>\n",
       "    </tr>\n",
       "    <tr>\n",
       "      <th>European_player</th>\n",
       "      <th></th>\n",
       "      <th></th>\n",
       "    </tr>\n",
       "  </thead>\n",
       "  <tbody>\n",
       "    <tr>\n",
       "      <th>Nick van den Berg</th>\n",
       "      <td>3.0</td>\n",
       "      <td>0.0</td>\n",
       "    </tr>\n",
       "    <tr>\n",
       "      <th>Darren Appleton</th>\n",
       "      <td>1.0</td>\n",
       "      <td>6.0</td>\n",
       "    </tr>\n",
       "    <tr>\n",
       "      <th>Daryl Peach</th>\n",
       "      <td>1.0</td>\n",
       "      <td>0.0</td>\n",
       "    </tr>\n",
       "    <tr>\n",
       "      <th>Karl Boyes</th>\n",
       "      <td>1.0</td>\n",
       "      <td>0.0</td>\n",
       "    </tr>\n",
       "    <tr>\n",
       "      <th>Konstantin Stepanov</th>\n",
       "      <td>1.0</td>\n",
       "      <td>0.0</td>\n",
       "    </tr>\n",
       "    <tr>\n",
       "      <th>Mika Immonen</th>\n",
       "      <td>1.0</td>\n",
       "      <td>2.0</td>\n",
       "    </tr>\n",
       "    <tr>\n",
       "      <th>Ralf Souquet</th>\n",
       "      <td>1.0</td>\n",
       "      <td>2.0</td>\n",
       "    </tr>\n",
       "    <tr>\n",
       "      <th>Tony Drago</th>\n",
       "      <td>1.0</td>\n",
       "      <td>1.0</td>\n",
       "    </tr>\n",
       "    <tr>\n",
       "      <th>Chris Melling</th>\n",
       "      <td>0.0</td>\n",
       "      <td>1.0</td>\n",
       "    </tr>\n",
       "    <tr>\n",
       "      <th>Nick Ekonomopoulos</th>\n",
       "      <td>0.0</td>\n",
       "      <td>1.0</td>\n",
       "    </tr>\n",
       "    <tr>\n",
       "      <th>Niels Feijen</th>\n",
       "      <td>0.0</td>\n",
       "      <td>1.0</td>\n",
       "    </tr>\n",
       "    <tr>\n",
       "      <th>Nikos Ekonomopoulos</th>\n",
       "      <td>0.0</td>\n",
       "      <td>1.0</td>\n",
       "    </tr>\n",
       "  </tbody>\n",
       "</table>\n",
       "</div>"
      ],
      "text/plain": [
       "                     America_won  America_lost\n",
       "European_player                               \n",
       "Nick van den Berg            3.0           0.0\n",
       "Darren Appleton              1.0           6.0\n",
       "Daryl Peach                  1.0           0.0\n",
       "Karl Boyes                   1.0           0.0\n",
       "Konstantin Stepanov          1.0           0.0\n",
       "Mika Immonen                 1.0           2.0\n",
       "Ralf Souquet                 1.0           2.0\n",
       "Tony Drago                   1.0           1.0\n",
       "Chris Melling                0.0           1.0\n",
       "Nick Ekonomopoulos           0.0           1.0\n",
       "Niels Feijen                 0.0           1.0\n",
       "Nikos Ekonomopoulos          0.0           1.0"
      ]
     },
     "execution_count": 39,
     "metadata": {},
     "output_type": "execute_result"
    }
   ],
   "source": [
    "svb.opponents(sing)"
   ]
  },
  {
   "cell_type": "code",
   "execution_count": 40,
   "metadata": {},
   "outputs": [
    {
     "data": {
      "image/png": "[encoded data removed]",
      "text/plain": [
       "<matplotlib.figure.Figure at 0xaa010fa7b8>"
      ]
     },
     "metadata": {},
     "output_type": "display_data"
    }
   ],
   "source": [
    "years=svb.yearly_plot(df)"
   ]
  },
  {
   "cell_type": "code",
   "execution_count": 41,
   "metadata": {},
   "outputs": [
    {
     "name": "stdout",
     "output_type": "stream",
     "text": [
      "Team win-loss record by year:\n",
      "\n",
      "2016: 3-11\n",
      "2007: 8-11\n",
      "2008: 5-11\n",
      "2009: 11-7\n",
      "2010: 8-11\n",
      "2011: 7-11\n",
      "2012: 9-11\n",
      "2013: 2-11\n",
      "2014: 5-11\n",
      "2015: 7-11\n",
      "\n",
      "\n",
      "Total team win-loss-tie: 1-9-0\n",
      "\n"
     ]
    }
   ],
   "source": [
    "svb.wincount(dframe,years)"
   ]
  },
  {
   "cell_type": "code",
   "execution_count": 42,
   "metadata": {},
   "outputs": [
    {
     "name": "stdout",
     "output_type": "stream",
     "text": [
      "\t Played home 5 times, away 5 times \n",
      " Home Games: ('Matches Played: 30', 'Win-loss: 17-13', 'Pct: 57.0') \n",
      " Away Games: ('Matches Played: 30', 'Win-loss: 8-22', 'Pct: 27.0')\n",
      "\n"
     ]
    }
   ],
   "source": [
    "home,away = svb.location(df,years)"
   ]
  },
  {
   "cell_type": "code",
   "execution_count": 43,
   "metadata": {},
   "outputs": [
    {
     "name": "stdout",
     "output_type": "stream",
     "text": [
      " Home Singles: ('Matches Played: 13', 'Win-loss: 7-6', 'Pct: 54.0') \n",
      " Home Doubles: ('Matches Played: 12', 'Win-loss: 7-5', 'Pct: 58.0') \n",
      " Away Singles: ('Matches Played: 12', 'Win-loss: 3-9', 'Pct: 25.0') \n",
      " Away Doubles: ('Matches Played: 13', 'Win-loss: 4-9', 'Pct: 31.0')\n",
      "\n"
     ]
    }
   ],
   "source": [
    "svb.location_split(home,away)"
   ]
  },
  {
   "cell_type": "code",
   "execution_count": 44,
   "metadata": {},
   "outputs": [
    {
     "name": "stdout",
     "output_type": "stream",
     "text": [
      "Overall: ('Matches Played: 60', 'Win-loss: 25-35', 'Pct: 42.0')\n",
      "Singles: ('Matches Played: 25', 'Win-loss: 10-15', 'Pct: 40.0')\n",
      "Doubles: ('Matches Played: 25', 'Win-loss: 11-14', 'Pct: 44.0')\n",
      "Teams:   ('Matches Played: 10', 'Win-loss: 4-6', 'Pct: 40.0')\n",
      "Triples: No matches to display\n",
      "\n",
      "-----Win-loss breakdown by partner----- \n",
      "\n",
      "                 America_won  America_lost\n",
      "Partner                                   \n",
      "Johnny Archer            4.0           1.0\n",
      "Dennis Hatch             2.0           0.0\n",
      "Rodney Morris            1.0           4.0\n",
      "Corey Deuel              1.0           2.0\n",
      "Mike Dechaine            1.0           2.0\n",
      "Earl Strickland          1.0           1.0\n",
      "Skyler Woodward          1.0           1.0\n",
      "John Schmidt             0.0           1.0\n",
      "Justin Bergman           0.0           1.0\n",
      "Óscar Domínguez          0.0           1.0\n",
      "\n",
      "\n",
      "-----Win-loss breakdown by opponent (singles)----- \n",
      "\n",
      "                     America_won  America_lost\n",
      "European_player                               \n",
      "Nick van den Berg            3.0           0.0\n",
      "Darren Appleton              1.0           6.0\n",
      "Daryl Peach                  1.0           0.0\n",
      "Karl Boyes                   1.0           0.0\n",
      "Konstantin Stepanov          1.0           0.0\n",
      "Mika Immonen                 1.0           2.0\n",
      "Ralf Souquet                 1.0           2.0\n",
      "Tony Drago                   1.0           1.0\n",
      "Chris Melling                0.0           1.0\n",
      "Nick Ekonomopoulos           0.0           1.0\n",
      "Niels Feijen                 0.0           1.0\n",
      "Nikos Ekonomopoulos          0.0           1.0\n"
     ]
    },
    {
     "data": {
      "image/png": "[encoded data removed]",
      "text/plain": [
       "<matplotlib.figure.Figure at 0xaa011bccf8>"
      ]
     },
     "metadata": {},
     "output_type": "display_data"
    },
    {
     "name": "stdout",
     "output_type": "stream",
     "text": [
      "Team win-loss record by year:\n",
      "\n",
      "2016: 3-11\n",
      "2007: 8-11\n",
      "2008: 5-11\n",
      "2009: 11-7\n",
      "2010: 8-11\n",
      "2011: 7-11\n",
      "2012: 9-11\n",
      "2013: 2-11\n",
      "2014: 5-11\n",
      "2015: 7-11\n",
      "\n",
      "\n",
      "Total team win-loss-tie: 1-9-0\n",
      "\n",
      "\t Played home 5 times, away 5 times \n",
      " Home Games: ('Matches Played: 30', 'Win-loss: 17-13', 'Pct: 57.0') \n",
      " Away Games: ('Matches Played: 30', 'Win-loss: 8-22', 'Pct: 27.0')\n",
      "\n",
      " Home Singles: ('Matches Played: 13', 'Win-loss: 7-6', 'Pct: 54.0') \n",
      " Home Doubles: ('Matches Played: 12', 'Win-loss: 7-5', 'Pct: 58.0') \n",
      " Away Singles: ('Matches Played: 12', 'Win-loss: 3-9', 'Pct: 25.0') \n",
      " Away Doubles: ('Matches Played: 13', 'Win-loss: 4-9', 'Pct: 31.0')\n",
      "\n"
     ]
    }
   ],
   "source": [
    "svb.call_em()"
   ]
  },
  {
   "cell_type": "code",
   "execution_count": 45,
   "metadata": {
    "collapsed": true
   },
   "outputs": [],
   "source": [
    "earl=Player('Earl Strickland','America')"
   ]
  },
  {
   "cell_type": "code",
   "execution_count": 46,
   "metadata": {},
   "outputs": [
    {
     "name": "stdout",
     "output_type": "stream",
     "text": [
      "Overall: ('Matches Played: 69', 'Win-loss: 43-26', 'Pct: 62.0')\n",
      "Singles: ('Matches Played: 26', 'Win-loss: 14-12', 'Pct: 54.0')\n",
      "Doubles: ('Matches Played: 36', 'Win-loss: 24-12', 'Pct: 67.0')\n",
      "Teams:   ('Matches Played: 5', 'Win-loss: 3-2', 'Pct: 60.0')\n",
      "Triples: ('Matches Played: 1', 'Win-loss: 1-0', 'Pct: 100.0')\n",
      "\n",
      "-----Win-loss breakdown by partner----- \n",
      "\n",
      "                   America_won  America_lost\n",
      "Partner                                     \n",
      "Rodney Morris              7.0           4.0\n",
      "Jeremy Jones               5.0           2.0\n",
      "James Rempe                4.0           3.0\n",
      "Corey Deuel                2.0           1.0\n",
      "Johnny Archer              2.0           0.0\n",
      "Shane Van Boening          1.0           1.0\n",
      "C.J. Wiley                 1.0           0.0\n",
      "Kim Davenport              1.0           0.0\n",
      "Tony Robles                1.0           0.0\n",
      "Dennis Hatch               0.0           1.0\n",
      "\n",
      "\n",
      "-----Win-loss breakdown by opponent (singles)----- \n",
      "\n",
      "                    America_won  America_lost\n",
      "European_player                              \n",
      "Marcus Chamat               2.0           1.0\n",
      "Ralf Souquet                2.0           1.0\n",
      "Thomas Engert               2.0           0.0\n",
      "Daryl Peach                 1.0           0.0\n",
      "Mika Immonen                1.0           1.0\n",
      "Mika Immonen                1.0           0.0\n",
      "Nick van den Berg           1.0           1.0\n",
      "Niels Feijen                1.0           0.0\n",
      "Ralf Souquet                1.0           2.0\n",
      "Steve Knight                1.0           0.0\n",
      "Tony Drago                  1.0           0.0\n",
      "Karl Boyes                  0.0           1.0\n",
      "Oliver Ortmann              0.0           1.0\n",
      "Oliver Ortmann              0.0           1.0\n",
      "Ronnie O'Sullivan           0.0           1.0\n",
      "Steve Davis                 0.0           2.0\n"
     ]
    },
    {
     "data": {
      "image/png": "[encoded data removed]",
      "text/plain": [
       "<matplotlib.figure.Figure at 0xaa011bca90>"
      ]
     },
     "metadata": {},
     "output_type": "display_data"
    },
    {
     "name": "stdout",
     "output_type": "stream",
     "text": [
      "Team win-loss record by year:\n",
      "\n",
      "1996: 15-13\n",
      "1997: 13-8\n",
      "1998: 13-9\n",
      "1999: 12-7\n",
      "2000: 12-9\n",
      "2001: 12-1\n",
      "2002: 9-12\n",
      "2003: 11-9\n",
      "2004: 12-9\n",
      "2005: 11-6\n",
      "2006: 12-12\n",
      "2007: 8-11\n",
      "2008: 5-11\n",
      "2013: 2-11\n",
      "\n",
      "\n",
      "Total team win-loss-tie: 9-4-1\n",
      "\n",
      "\t Played home 4 times, away 10 times \n",
      " Home Games: ('Matches Played: 19', 'Win-loss: 12-7', 'Pct: 63.0') \n",
      " Away Games: ('Matches Played: 50', 'Win-loss: 31-19', 'Pct: 62.0')\n",
      "\n",
      " Home Singles: ('Matches Played: 6', 'Win-loss: 3-3', 'Pct: 50.0') \n",
      " Home Doubles: ('Matches Played: 11', 'Win-loss: 8-3', 'Pct: 73.0') \n",
      " Away Singles: ('Matches Played: 20', 'Win-loss: 11-9', 'Pct: 55.0') \n",
      " Away Doubles: ('Matches Played: 25', 'Win-loss: 16-9', 'Pct: 64.0')\n",
      "\n"
     ]
    }
   ],
   "source": [
    "earl.call_em()"
   ]
  }
 ],
 "metadata": {
  "kernelspec": {
   "display_name": "Python 3",
   "language": "python",
   "name": "python3"
  },
  "language_info": {
   "codemirror_mode": {
    "name": "ipython",
    "version": 3
   },
   "file_extension": ".py",
   "mimetype": "text/x-python",
   "name": "python",
   "nbconvert_exporter": "python",
   "pygments_lexer": "ipython3",
   "version": "3.5.2"
  }
 },
 "nbformat": 4,
 "nbformat_minor": 2
}
