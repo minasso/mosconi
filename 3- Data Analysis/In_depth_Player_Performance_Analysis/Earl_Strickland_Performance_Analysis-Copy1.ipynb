{
 "cells": [
  {
   "cell_type": "markdown",
   "metadata": {},
   "source": [
    "### **Purpose: ** "
   ]
  },
  {
   "cell_type": "code",
   "execution_count": 1,
   "metadata": {
    "collapsed": true
   },
   "outputs": [],
   "source": [
    "player = 'Earl Strickland'\n",
    "team = 'a'"
   ]
  },
  {
   "cell_type": "code",
   "execution_count": 2,
   "metadata": {
    "collapsed": true
   },
   "outputs": [],
   "source": [
    "from perf_mod import *"
   ]
  },
  {
   "cell_type": "code",
   "execution_count": 3,
   "metadata": {
    "collapsed": true
   },
   "outputs": [],
   "source": [
    "df,dframe = setup_df(player,team)"
   ]
  },
  {
   "cell_type": "markdown",
   "metadata": {},
   "source": [
    "### Lets have a quick look at his overall stats by checking out his singles, doubles, and team stats."
   ]
  },
  {
   "cell_type": "code",
   "execution_count": 4,
   "metadata": {},
   "outputs": [
    {
     "data": {
      "text/plain": [
       "('Matches Played: 69', 'Win-loss: 43-26', 'Pct: 62.0')"
      ]
     },
     "execution_count": 4,
     "metadata": {},
     "output_type": "execute_result"
    }
   ],
   "source": [
    "stats(df,'a')"
   ]
  },
  {
   "cell_type": "code",
   "execution_count": 5,
   "metadata": {},
   "outputs": [
    {
     "name": "stdout",
     "output_type": "stream",
     "text": [
      "Overall: ('Matches Played: 69', 'Win-loss: 43-26', 'Pct: 62.0')\n",
      "Singles: ('Matches Played: 26', 'Win-loss: 14-12', 'Pct: 54.0')\n",
      "Doubles: ('Matches Played: 36', 'Win-loss: 24-12', 'Pct: 67.0')\n",
      "Teams:   ('Matches Played: 5', 'Win-loss: 3-2', 'Pct: 60.0')\n",
      "Triples: ('Matches Played: 1', 'Win-loss: 1-0', 'Pct: 100.0')\n",
      "\n"
     ]
    }
   ],
   "source": [
    "sing,dub,teams,triples = overall_stats(df,team)"
   ]
  },
  {
   "cell_type": "markdown",
   "metadata": {},
   "source": [
    "## So he plays very well in doubles matches (67% vs. 54%) \n",
    "### Let's see if he plays better with certain partners. "
   ]
  },
  {
   "cell_type": "code",
   "execution_count": 6,
   "metadata": {},
   "outputs": [
    {
     "data": {
      "text/html": [
       "<div>\n",
       "<table border=\"1\" class=\"dataframe\">\n",
       "  <thead>\n",
       "    <tr style=\"text-align: right;\">\n",
       "      <th></th>\n",
       "      <th>America_won</th>\n",
       "      <th>America_lost</th>\n",
       "    </tr>\n",
       "    <tr>\n",
       "      <th>Partner</th>\n",
       "      <th></th>\n",
       "      <th></th>\n",
       "    </tr>\n",
       "  </thead>\n",
       "  <tbody>\n",
       "    <tr>\n",
       "      <th>Rodney Morris</th>\n",
       "      <td>7.0</td>\n",
       "      <td>4.0</td>\n",
       "    </tr>\n",
       "    <tr>\n",
       "      <th>Jeremy Jones</th>\n",
       "      <td>5.0</td>\n",
       "      <td>2.0</td>\n",
       "    </tr>\n",
       "    <tr>\n",
       "      <th>James Rempe</th>\n",
       "      <td>4.0</td>\n",
       "      <td>3.0</td>\n",
       "    </tr>\n",
       "    <tr>\n",
       "      <th>Corey Deuel</th>\n",
       "      <td>2.0</td>\n",
       "      <td>1.0</td>\n",
       "    </tr>\n",
       "    <tr>\n",
       "      <th>Johnny Archer</th>\n",
       "      <td>2.0</td>\n",
       "      <td>0.0</td>\n",
       "    </tr>\n",
       "    <tr>\n",
       "      <th>Shane Van Boening</th>\n",
       "      <td>1.0</td>\n",
       "      <td>1.0</td>\n",
       "    </tr>\n",
       "    <tr>\n",
       "      <th>C.J. Wiley</th>\n",
       "      <td>1.0</td>\n",
       "      <td>0.0</td>\n",
       "    </tr>\n",
       "    <tr>\n",
       "      <th>Kim Davenport</th>\n",
       "      <td>1.0</td>\n",
       "      <td>0.0</td>\n",
       "    </tr>\n",
       "    <tr>\n",
       "      <th>Tony Robles</th>\n",
       "      <td>1.0</td>\n",
       "      <td>0.0</td>\n",
       "    </tr>\n",
       "    <tr>\n",
       "      <th>Dennis Hatch</th>\n",
       "      <td>0.0</td>\n",
       "      <td>1.0</td>\n",
       "    </tr>\n",
       "  </tbody>\n",
       "</table>\n",
       "</div>"
      ],
      "text/plain": [
       "                   America_won  America_lost\n",
       "Partner                                     \n",
       "Rodney Morris              7.0           4.0\n",
       "Jeremy Jones               5.0           2.0\n",
       "James Rempe                4.0           3.0\n",
       "Corey Deuel                2.0           1.0\n",
       "Johnny Archer              2.0           0.0\n",
       "Shane Van Boening          1.0           1.0\n",
       "C.J. Wiley                 1.0           0.0\n",
       "Kim Davenport              1.0           0.0\n",
       "Tony Robles                1.0           0.0\n",
       "Dennis Hatch               0.0           1.0"
      ]
     },
     "execution_count": 6,
     "metadata": {},
     "output_type": "execute_result"
    }
   ],
   "source": [
    "partners(dub,player)"
   ]
  },
  {
   "cell_type": "markdown",
   "metadata": {},
   "source": [
    "### Nothing really jumps out. Looks like he plays rather well with Archer, Jones, Deuel, and Morris."
   ]
  },
  {
   "cell_type": "markdown",
   "metadata": {},
   "source": [
    "## Let's see if he performs better or worse against certain opponents in singles matches."
   ]
  },
  {
   "cell_type": "code",
   "execution_count": 7,
   "metadata": {},
   "outputs": [
    {
     "data": {
      "text/html": [
       "<div>\n",
       "<table border=\"1\" class=\"dataframe\">\n",
       "  <thead>\n",
       "    <tr style=\"text-align: right;\">\n",
       "      <th></th>\n",
       "      <th>America_won</th>\n",
       "      <th>America_lost</th>\n",
       "    </tr>\n",
       "    <tr>\n",
       "      <th>European_player</th>\n",
       "      <th></th>\n",
       "      <th></th>\n",
       "    </tr>\n",
       "  </thead>\n",
       "  <tbody>\n",
       "    <tr>\n",
       "      <th>Marcus Chamat</th>\n",
       "      <td>2.0</td>\n",
       "      <td>1.0</td>\n",
       "    </tr>\n",
       "    <tr>\n",
       "      <th>Ralf Souquet</th>\n",
       "      <td>2.0</td>\n",
       "      <td>1.0</td>\n",
       "    </tr>\n",
       "    <tr>\n",
       "      <th>Thomas Engert</th>\n",
       "      <td>2.0</td>\n",
       "      <td>0.0</td>\n",
       "    </tr>\n",
       "    <tr>\n",
       "      <th>Daryl Peach</th>\n",
       "      <td>1.0</td>\n",
       "      <td>0.0</td>\n",
       "    </tr>\n",
       "    <tr>\n",
       "      <th>Mika Immonen</th>\n",
       "      <td>1.0</td>\n",
       "      <td>1.0</td>\n",
       "    </tr>\n",
       "    <tr>\n",
       "      <th>Mika Immonen</th>\n",
       "      <td>1.0</td>\n",
       "      <td>0.0</td>\n",
       "    </tr>\n",
       "    <tr>\n",
       "      <th>Nick van den Berg</th>\n",
       "      <td>1.0</td>\n",
       "      <td>1.0</td>\n",
       "    </tr>\n",
       "    <tr>\n",
       "      <th>Niels Feijen</th>\n",
       "      <td>1.0</td>\n",
       "      <td>0.0</td>\n",
       "    </tr>\n",
       "    <tr>\n",
       "      <th>Ralf Souquet</th>\n",
       "      <td>1.0</td>\n",
       "      <td>2.0</td>\n",
       "    </tr>\n",
       "    <tr>\n",
       "      <th>Steve Knight</th>\n",
       "      <td>1.0</td>\n",
       "      <td>0.0</td>\n",
       "    </tr>\n",
       "    <tr>\n",
       "      <th>Tony Drago</th>\n",
       "      <td>1.0</td>\n",
       "      <td>0.0</td>\n",
       "    </tr>\n",
       "    <tr>\n",
       "      <th>Karl Boyes</th>\n",
       "      <td>0.0</td>\n",
       "      <td>1.0</td>\n",
       "    </tr>\n",
       "    <tr>\n",
       "      <th>Oliver Ortmann</th>\n",
       "      <td>0.0</td>\n",
       "      <td>1.0</td>\n",
       "    </tr>\n",
       "    <tr>\n",
       "      <th>Oliver Ortmann</th>\n",
       "      <td>0.0</td>\n",
       "      <td>1.0</td>\n",
       "    </tr>\n",
       "    <tr>\n",
       "      <th>Ronnie O'Sullivan</th>\n",
       "      <td>0.0</td>\n",
       "      <td>1.0</td>\n",
       "    </tr>\n",
       "    <tr>\n",
       "      <th>Steve Davis</th>\n",
       "      <td>0.0</td>\n",
       "      <td>2.0</td>\n",
       "    </tr>\n",
       "  </tbody>\n",
       "</table>\n",
       "</div>"
      ],
      "text/plain": [
       "                    America_won  America_lost\n",
       "European_player                              \n",
       "Marcus Chamat               2.0           1.0\n",
       "Ralf Souquet                2.0           1.0\n",
       "Thomas Engert               2.0           0.0\n",
       "Daryl Peach                 1.0           0.0\n",
       "Mika Immonen                1.0           1.0\n",
       "Mika Immonen                1.0           0.0\n",
       "Nick van den Berg           1.0           1.0\n",
       "Niels Feijen                1.0           0.0\n",
       "Ralf Souquet                1.0           2.0\n",
       "Steve Knight                1.0           0.0\n",
       "Tony Drago                  1.0           0.0\n",
       "Karl Boyes                  0.0           1.0\n",
       "Oliver Ortmann              0.0           1.0\n",
       "Oliver Ortmann              0.0           1.0\n",
       "Ronnie O'Sullivan           0.0           1.0\n",
       "Steve Davis                 0.0           2.0"
      ]
     },
     "execution_count": 7,
     "metadata": {},
     "output_type": "execute_result"
    }
   ],
   "source": [
    "opponents(sing)"
   ]
  },
  {
   "cell_type": "markdown",
   "metadata": {},
   "source": [
    "## Nothing too conclusive.\n",
    "## Let's see what his record was for each year."
   ]
  },
  {
   "cell_type": "code",
   "execution_count": 8,
   "metadata": {},
   "outputs": [
    {
     "data": {
      "image/png": "[encoded data removed]",
      "text/plain": [
       "<matplotlib.figure.Figure at 0x7ffd0e6f98>"
      ]
     },
     "metadata": {},
     "output_type": "display_data"
    }
   ],
   "source": [
    "years = yearly_plot(df)"
   ]
  },
  {
   "cell_type": "markdown",
   "metadata": {},
   "source": [
    "### So it appears his level of play has tracked downwards as of late (worst years are most recent: 2008, 2013).\n",
    "### Let's check how the team did each year he played."
   ]
  },
  {
   "cell_type": "code",
   "execution_count": 9,
   "metadata": {},
   "outputs": [
    {
     "name": "stdout",
     "output_type": "stream",
     "text": [
      "Team win-loss record by year:\n",
      "\n",
      "1996: 15-13\n",
      "1997: 13-8\n",
      "1998: 13-9\n",
      "1999: 12-7\n",
      "2000: 12-9\n",
      "2001: 12-1\n",
      "2002: 9-12\n",
      "2003: 11-9\n",
      "2004: 12-9\n",
      "2005: 11-6\n",
      "2006: 12-12\n",
      "2007: 8-11\n",
      "2008: 5-11\n",
      "2013: 2-11\n",
      "\n",
      "\n",
      "Total team win-loss-tie: 9-4-1\n",
      "\n"
     ]
    }
   ],
   "source": [
    "wincount(dframe,years,team)"
   ]
  },
  {
   "cell_type": "markdown",
   "metadata": {},
   "source": [
    "### So America went 9-4-1 with him on the team.\n",
    "### Let's dig a bit deeper to see how big of a factor location has been for his performance."
   ]
  },
  {
   "cell_type": "code",
   "execution_count": 10,
   "metadata": {},
   "outputs": [
    {
     "name": "stdout",
     "output_type": "stream",
     "text": [
      "\t Played home 4 times, away 10 times \n",
      " Home Games: ('Matches Played: 19', 'Win-loss: 12-7', 'Pct: 63.0') \n",
      " Away Games: ('Matches Played: 50', 'Win-loss: 31-19', 'Pct: 62.0')\n",
      "\n"
     ]
    }
   ],
   "source": [
    "home,away = location(df,years,team)"
   ]
  },
  {
   "cell_type": "markdown",
   "metadata": {},
   "source": [
    "### So he plays about equally well at home or away"
   ]
  },
  {
   "cell_type": "markdown",
   "metadata": {},
   "source": [
    "### Let's drill down a bit further to parse out his singles and doubles matches for both home and away "
   ]
  },
  {
   "cell_type": "code",
   "execution_count": 11,
   "metadata": {},
   "outputs": [
    {
     "name": "stdout",
     "output_type": "stream",
     "text": [
      " Home Singles: ('Matches Played: 6', 'Win-loss: 3-3', 'Pct: 50.0') \n",
      " Home Doubles: ('Matches Played: 11', 'Win-loss: 8-3', 'Pct: 73.0') \n",
      " Away Singles: ('Matches Played: 20', 'Win-loss: 11-9', 'Pct: 55.0') \n",
      " Away Doubles: ('Matches Played: 25', 'Win-loss: 16-9', 'Pct: 64.0')\n",
      "\n"
     ]
    }
   ],
   "source": [
    "location_split(home,away,team)"
   ]
  },
  {
   "cell_type": "markdown",
   "metadata": {},
   "source": [
    "### Home doubles is very high, as is away doubles."
   ]
  },
  {
   "cell_type": "markdown",
   "metadata": {},
   "source": [
    "# Summary\n",
    "- Overall win percentage of 62%\n",
    "- Plays slightly better in doubles than singles (67% vs 54%)\n",
    "- Plays equally well home or away\n",
    "- Home doubles record is very strong! (73%)\n",
    "- Played great up until 2007, then played poorly in his latest two appearances (2008:(2-3), 2013:(1-4))"
   ]
  }
 ],
 "metadata": {
  "kernelspec": {
   "display_name": "Python 3",
   "language": "python",
   "name": "python3"
  },
  "language_info": {
   "codemirror_mode": {
    "name": "ipython",
    "version": 3
   },
   "file_extension": ".py",
   "mimetype": "text/x-python",
   "name": "python",
   "nbconvert_exporter": "python",
   "pygments_lexer": "ipython3",
   "version": "3.5.2"
  }
 },
 "nbformat": 4,
 "nbformat_minor": 2
}
