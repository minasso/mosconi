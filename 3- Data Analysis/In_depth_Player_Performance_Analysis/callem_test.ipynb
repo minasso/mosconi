{
 "cells": [
  {
   "cell_type": "code",
   "execution_count": 1,
   "metadata": {
    "collapsed": true
   },
   "outputs": [],
   "source": [
    "# from IPython.core.interactiveshell import InteractiveShell\n",
    "# InteractiveShell.ast_node_interactivity = \"all\""
   ]
  },
  {
   "cell_type": "code",
   "execution_count": 2,
   "metadata": {
    "collapsed": true
   },
   "outputs": [],
   "source": [
    "from oop import Player"
   ]
  },
  {
   "cell_type": "code",
   "execution_count": 8,
   "metadata": {},
   "outputs": [
    {
     "data": {
      "text/plain": [
       "['Shane Van Boening', 'Dennis Hatch', 'Oscar Dominguez']"
      ]
     },
     "execution_count": 8,
     "metadata": {},
     "output_type": "execute_result"
    }
   ],
   "source": [
    "us= 'Shane Van Boening,Dennis Hatch,Oscar Dominguez'.split(',')\n",
    "us"
   ]
  },
  {
   "cell_type": "code",
   "execution_count": 9,
   "metadata": {
    "collapsed": true
   },
   "outputs": [],
   "source": [
    "svb = Player(us[0],'am')\n",
    "hatch = Player(us[1], 'am')\n",
    "oscar = Player(us[2], 'am')"
   ]
  },
  {
   "cell_type": "code",
   "execution_count": 10,
   "metadata": {},
   "outputs": [
    {
     "name": "stdout",
     "output_type": "stream",
     "text": [
      "------------------------------------------\n",
      "          Dennis Hatch        \n",
      "------------------------------------------ \n",
      "\n",
      "Overall: ('Matches Played: 23', 'Win-loss: 11-12', 'Pct: 48.0')\n",
      "Singles: ('Matches Played: 7', 'Win-loss: 4-3', 'Pct: 57.0')\n",
      "Doubles: ('Matches Played: 12', 'Win-loss: 5-7', 'Pct: 42.0')\n",
      "Teams:   ('Matches Played: 4', 'Win-loss: 2-2', 'Pct: 50.0')\n",
      "Triples: No matches to display\n",
      "\n",
      "-----Win-loss breakdown by partner----- \n",
      "\n",
      "                   America_won  America_lost\n",
      "Partner                                     \n",
      "Shane Van Boening          2.0           0.0\n",
      "Johnny Archer              1.0           2.0\n",
      "Rodney Morris              1.0           1.0\n",
      "Óscar Domínguez            1.0           0.0\n",
      "Brandon Shuff              0.0           1.0\n",
      "Corey Deuel                0.0           1.0\n",
      "Earl Strickland            0.0           1.0\n",
      "Mike Dechaine              0.0           1.0\n",
      "\n",
      "\n",
      "-----Win-loss breakdown by opponent (singles)----- \n",
      "\n",
      "                    America_won  America_lost\n",
      "European_player                              \n",
      "Niels Feijen                2.0           0.0\n",
      "Nick Ekonomopoulos          1.0           0.0\n",
      "Nick van den Berg           1.0           0.0\n",
      "Chris Melling               0.0           1.0\n",
      "Darren Appleton             0.0           1.0\n",
      "Ralf Souquet                0.0           1.0\n"
     ]
    },
    {
     "data": {
      "image/png": "[encoded data removed]",
      "text/plain": [
       "<matplotlib.figure.Figure at 0xf03bcdfe48>"
      ]
     },
     "metadata": {},
     "output_type": "display_data"
    },
    {
     "name": "stdout",
     "output_type": "stream",
     "text": [
      "Team win-loss record by year:\n",
      "\n",
      "2009: 11-7\n",
      "2010: 8-11\n",
      "2012: 9-11\n",
      "2013: 2-11\n",
      "\n",
      "\n",
      "Total team win-loss-tie: 1-3-0\n",
      "\n",
      "\t Played home 2 times, away 2 times \n",
      " Home Games: ('Matches Played: 11', 'Win-loss: 5-6', 'Pct: 45.0') \n",
      " Away Games: ('Matches Played: 12', 'Win-loss: 6-6', 'Pct: 50.0')\n",
      "\n",
      " Home Singles: ('Matches Played: 3', 'Win-loss: 2-1', 'Pct: 67.0') \n",
      " Home Doubles: ('Matches Played: 6', 'Win-loss: 2-4', 'Pct: 33.0') \n",
      " Away Singles: ('Matches Played: 4', 'Win-loss: 2-2', 'Pct: 50.0') \n",
      " Away Doubles: ('Matches Played: 6', 'Win-loss: 3-3', 'Pct: 50.0')\n",
      "\n"
     ]
    }
   ],
   "source": [
    "# svb.call_em()\n",
    "hatch.call_em()\n",
    "# oscar.call_em()"
   ]
  },
  {
   "cell_type": "code",
   "execution_count": null,
   "metadata": {
    "collapsed": true
   },
   "outputs": [],
   "source": []
  }
 ],
 "metadata": {
  "kernelspec": {
   "display_name": "Python 3",
   "language": "python",
   "name": "python3"
  },
  "language_info": {
   "codemirror_mode": {
    "name": "ipython",
    "version": 3
   },
   "file_extension": ".py",
   "mimetype": "text/x-python",
   "name": "python",
   "nbconvert_exporter": "python",
   "pygments_lexer": "ipython3",
   "version": "3.5.2"
  }
 },
 "nbformat": 4,
 "nbformat_minor": 2
}
