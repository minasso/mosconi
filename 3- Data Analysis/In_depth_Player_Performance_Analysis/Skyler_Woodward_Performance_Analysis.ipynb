{
 "cells": [
  {
   "cell_type": "markdown",
   "metadata": {},
   "source": [
    "### **Purpose: ** "
   ]
  },
  {
   "cell_type": "code",
   "execution_count": 1,
   "metadata": {
    "collapsed": true
   },
   "outputs": [],
   "source": [
    "player = 'Skyler Woodward'\n",
    "team = 'a'"
   ]
  },
  {
   "cell_type": "code",
   "execution_count": 2,
   "metadata": {
    "collapsed": true
   },
   "outputs": [],
   "source": [
    "import pickle\n",
    "import pandas as pd"
   ]
  },
  {
   "cell_type": "code",
   "execution_count": 4,
   "metadata": {},
   "outputs": [],
   "source": [
    "path = '//DREW/Users/andrew/Desktop/mosconi/'\n",
    "dframe = pickle.load(open(path+'pkl/allyears_clean_locs','rb'))\n",
    "if 'a' in team.lower():\n",
    "    df = dframe.copy().loc[dframe['American_player'].str.contains(player)]\n",
    "    df['Europe_lost'] = ~ df['Europe_won']\n",
    "    df = df[['Format', 'European_player', 'European_score', 'American_score',\n",
    "       'American_player', 'Europe_lost','Europe_won']]\n",
    "    df.columns = ['Format', 'European_player', 'European_score', 'American_score',\n",
    "       'American_player', 'America_won', 'America_lost']\n",
    "else:\n",
    "    df = dframe.loc[dframe['European_player'].str.contains(player)]\n",
    "    df['Europe_lost'] = ~ df['Europe_won']"
   ]
  },
  {
   "cell_type": "code",
   "execution_count": 5,
   "metadata": {
    "collapsed": true
   },
   "outputs": [],
   "source": [
    "def stats(df):\n",
    "    try:\n",
    "        if 'a' in team.lower():\n",
    "            win = df['America_won'].sum()\n",
    "            loss = df['America_lost'].sum()\n",
    "        else:\n",
    "            win = df['Europe_won'].sum()\n",
    "            loss = df['Europe_lost'].sum()\n",
    "        mp= win+loss\n",
    "        wl = 'Win-loss: {}-{}'.format(win,loss)\n",
    "        pct = round(win/(win+loss)*100,0)\n",
    "        return('Matches Played: {}'.format(mp),wl,'Pct: {}'.format(pct))\n",
    "    except:\n",
    "        return('No matches to display')"
   ]
  },
  {
   "cell_type": "markdown",
   "metadata": {},
   "source": [
    "### Lets have a quick look at his overall stats by checking out his singles, doubles, and team stats."
   ]
  },
  {
   "cell_type": "code",
   "execution_count": 6,
   "metadata": {
    "collapsed": true
   },
   "outputs": [],
   "source": [
    "sing = df[df['Format']=='Singles']\n",
    "dub = df[df['Format']=='Doubles']\n",
    "teams = df[df['Format']=='Teams']\n",
    "triples = df[df['Format']=='Triples'] "
   ]
  },
  {
   "cell_type": "code",
   "execution_count": 7,
   "metadata": {},
   "outputs": [
    {
     "data": {
      "text/plain": [
       "\"Overall: ('Matches Played: 11', 'Win-loss: 4-7', 'Pct: 36.0')\""
      ]
     },
     "execution_count": 7,
     "metadata": {},
     "output_type": "execute_result"
    },
    {
     "data": {
      "text/plain": [
       "\"Singles: ('Matches Played: 3', 'Win-loss: 0-3', 'Pct: 0.0')\""
      ]
     },
     "execution_count": 7,
     "metadata": {},
     "output_type": "execute_result"
    },
    {
     "data": {
      "text/plain": [
       "\"Doubles: ('Matches Played: 6', 'Win-loss: 3-3', 'Pct: 50.0')\""
      ]
     },
     "execution_count": 7,
     "metadata": {},
     "output_type": "execute_result"
    },
    {
     "data": {
      "text/plain": [
       "\"Teams:   ('Matches Played: 2', 'Win-loss: 1-1', 'Pct: 50.0')\""
      ]
     },
     "execution_count": 7,
     "metadata": {},
     "output_type": "execute_result"
    },
    {
     "data": {
      "text/plain": [
       "'Triples: No matches to display'"
      ]
     },
     "execution_count": 7,
     "metadata": {},
     "output_type": "execute_result"
    }
   ],
   "source": [
    "'Overall: {}'.format(stats(df))\n",
    "'Singles: {}'.format(stats(sing))\n",
    "'Doubles: {}'.format(stats(dub))\n",
    "'Teams:   {}'.format(stats(teams))\n",
    "'Triples: {}'.format(stats(triples))"
   ]
  },
  {
   "cell_type": "markdown",
   "metadata": {},
   "source": [
    "## So he plays better in doubles matches (50% vs. 36%) \n",
    "### Let's see if he plays better with certain partners. "
   ]
  },
  {
   "cell_type": "code",
   "execution_count": 7,
   "metadata": {},
   "outputs": [
    {
     "data": {
      "text/html": [
       "<div>\n",
       "<table border=\"1\" class=\"dataframe\">\n",
       "  <thead>\n",
       "    <tr style=\"text-align: right;\">\n",
       "      <th></th>\n",
       "      <th>America_won</th>\n",
       "      <th>America_lost</th>\n",
       "    </tr>\n",
       "    <tr>\n",
       "      <th>Partner</th>\n",
       "      <th></th>\n",
       "      <th></th>\n",
       "    </tr>\n",
       "  </thead>\n",
       "  <tbody>\n",
       "    <tr>\n",
       "      <th>Justin Bergman</th>\n",
       "      <td>2.0</td>\n",
       "      <td>0.0</td>\n",
       "    </tr>\n",
       "    <tr>\n",
       "      <th>Shane Van Boening</th>\n",
       "      <td>1.0</td>\n",
       "      <td>1.0</td>\n",
       "    </tr>\n",
       "    <tr>\n",
       "      <th>Mike Dechaine</th>\n",
       "      <td>0.0</td>\n",
       "      <td>1.0</td>\n",
       "    </tr>\n",
       "    <tr>\n",
       "      <th>Rodney Morris</th>\n",
       "      <td>0.0</td>\n",
       "      <td>1.0</td>\n",
       "    </tr>\n",
       "  </tbody>\n",
       "</table>\n",
       "</div>"
      ],
      "text/plain": [
       "                   America_won  America_lost\n",
       "Partner                                     \n",
       "Justin Bergman             2.0           0.0\n",
       "Shane Van Boening          1.0           1.0\n",
       "Mike Dechaine              0.0           1.0\n",
       "Rodney Morris              0.0           1.0"
      ]
     },
     "execution_count": 7,
     "metadata": {},
     "output_type": "execute_result"
    }
   ],
   "source": [
    "if 'a' in team.lower():\n",
    "    dub = dub[['European_player','American_player','America_won','America_lost']]\n",
    "    dub['Partner']=dub['American_player'].str.replace(player,'')\n",
    "    dub['Partner']=dub['Partner'].str.replace('&','')\n",
    "    dub['Partner']=dub['Partner'].str.strip()\n",
    "    dub.groupby('Partner').sum().sort_values(['America_won','America_lost'],ascending=False)    \n",
    "else:\n",
    "    dub = dub[['European_player','American_player','Europe_won','Europe_lost']]\n",
    "    dub['Partner']=dub['European_player'].str.replace(player,'')\n",
    "    dub['Partner']=dub['Partner'].str.replace('&','')\n",
    "    dub['Partner']=dub['Partner'].str.strip()\n",
    "    dub.groupby('Partner').sum().sort_values(['Europe_won','Europe_lost'],ascending=False)"
   ]
  },
  {
   "cell_type": "markdown",
   "metadata": {},
   "source": [
    "### He plays rather well with Bergman (2-0)."
   ]
  },
  {
   "cell_type": "markdown",
   "metadata": {},
   "source": [
    "## Let's see if he performs better or worse against certain opponents in singles matches."
   ]
  },
  {
   "cell_type": "code",
   "execution_count": 8,
   "metadata": {},
   "outputs": [
    {
     "data": {
      "text/html": [
       "<div>\n",
       "<table border=\"1\" class=\"dataframe\">\n",
       "  <thead>\n",
       "    <tr style=\"text-align: right;\">\n",
       "      <th></th>\n",
       "      <th>America_won</th>\n",
       "      <th>America_lost</th>\n",
       "    </tr>\n",
       "    <tr>\n",
       "      <th>European_player</th>\n",
       "      <th></th>\n",
       "      <th></th>\n",
       "    </tr>\n",
       "  </thead>\n",
       "  <tbody>\n",
       "    <tr>\n",
       "      <th>Albin Ouschan</th>\n",
       "      <td>0.0</td>\n",
       "      <td>2.0</td>\n",
       "    </tr>\n",
       "    <tr>\n",
       "      <th>Karl Boyes</th>\n",
       "      <td>0.0</td>\n",
       "      <td>1.0</td>\n",
       "    </tr>\n",
       "  </tbody>\n",
       "</table>\n",
       "</div>"
      ],
      "text/plain": [
       "                 America_won  America_lost\n",
       "European_player                           \n",
       "Albin Ouschan            0.0           2.0\n",
       "Karl Boyes               0.0           1.0"
      ]
     },
     "execution_count": 8,
     "metadata": {},
     "output_type": "execute_result"
    }
   ],
   "source": [
    "if 'a' in team.lower():\n",
    "    sing.groupby('European_player').sum().sort_values('America_won',ascending = False)\n",
    "else:\n",
    "    sing.groupby('American_player').sum().sort_values('Europe_won',ascending = False)"
   ]
  },
  {
   "cell_type": "markdown",
   "metadata": {},
   "source": [
    "## He plays bad against Albin.\n",
    "## Let's see what his record was for each year."
   ]
  },
  {
   "cell_type": "code",
   "execution_count": 25,
   "metadata": {
    "collapsed": true
   },
   "outputs": [],
   "source": [
    "lst =df.index.values.tolist() \n",
    "years = set([])\n",
    "for item in lst:\n",
    "    years.add(item[0])\n",
    "years=sorted(list(years))"
   ]
  },
  {
   "cell_type": "code",
   "execution_count": 26,
   "metadata": {
    "collapsed": true
   },
   "outputs": [],
   "source": [
    "yearly=[]\n",
    "for year in years:\n",
    "    if 'a' in team:\n",
    "        w = df.loc[year]['America_won'].sum()\n",
    "        l = df.loc[year]['America_lost'].sum()\n",
    "    else:\n",
    "        w = df.loc[year]['Europe_won'].sum()\n",
    "        l = df.loc[year]['Europe_lost'].sum()\n",
    "    yearly.append((w,l))"
   ]
  },
  {
   "cell_type": "code",
   "execution_count": 27,
   "metadata": {
    "collapsed": true
   },
   "outputs": [],
   "source": [
    "yr= {}\n",
    "for k,v in zip(years,yearly):\n",
    "    yr[k]=v"
   ]
  },
  {
   "cell_type": "code",
   "execution_count": 28,
   "metadata": {
    "collapsed": true
   },
   "outputs": [],
   "source": [
    "win=[]\n",
    "loss=[]\n",
    "pct=[]\n",
    "for w,l in yearly:\n",
    "    win.append(w)\n",
    "    loss.append(l)\n",
    "    p=round((w*100/(w+l)),0)\n",
    "    pct.append(p)"
   ]
  },
  {
   "cell_type": "code",
   "execution_count": 29,
   "metadata": {},
   "outputs": [
    {
     "data": {
      "text/plain": [
       "[(3, 3), (1, 4)]"
      ]
     },
     "execution_count": 29,
     "metadata": {},
     "output_type": "execute_result"
    }
   ],
   "source": [
    "yearly"
   ]
  },
  {
   "cell_type": "code",
   "execution_count": 30,
   "metadata": {},
   "outputs": [
    {
     "data": {
      "image/png": "[encoded data removed]",
      "text/plain": [
       "<matplotlib.figure.Figure at 0x4e6f40b860>"
      ]
     },
     "metadata": {},
     "output_type": "display_data"
    }
   ],
   "source": [
    "import numpy as np\n",
    "import matplotlib.pyplot as plt\n",
    "%matplotlib inline\n",
    "\n",
    "ind = np.arange(len(years))  # the x locations for the groups\n",
    "\n",
    "fig = plt.figure(figsize=(14, 8))\n",
    "ax = fig.add_subplot(111)\n",
    "\n",
    "ax.plot(pct,linestyle='-',marker='.',markersize=12)\n",
    "ax.axhline(50, color='r',linestyle='--')\n",
    "\n",
    "# add some;\n",
    "ax.set_ylabel('Percentage of Games Won');\n",
    "ax.set_title('Yearly Performance Average');\n",
    "ax.set_xticks(ind);\n",
    "ax.set_xticklabels( (years),rotation=30 );\n",
    "# ax.legend( (rects1[0], rects2[0]), ('Wins', 'Losses') );"
   ]
  },
  {
   "cell_type": "markdown",
   "metadata": {},
   "source": [
    "### So his worst year was also his most recent: 2016 (1-4)\n",
    "### Let's check how the team did each year he played."
   ]
  },
  {
   "cell_type": "code",
   "execution_count": 15,
   "metadata": {
    "collapsed": true
   },
   "outputs": [],
   "source": [
    "def wincount(dframe=dframe,years=years,team=team):\n",
    "    l=0\n",
    "    w=0\n",
    "    tie=0\n",
    "    for year in years:\n",
    "        f,t = dframe.loc[year]['Europe_won'].value_counts(sort=False)\n",
    "        print(f,t)\n",
    "        if f>t:\n",
    "            l+=1\n",
    "        elif f<t:\n",
    "            w+=1\n",
    "        else:\n",
    "            tie+=1\n",
    "    if 'a' in team:\n",
    "        l,w = w,l\n",
    "    return 'win-loss-tie: {}-{}-{}'.format(w,l,tie)"
   ]
  },
  {
   "cell_type": "code",
   "execution_count": 16,
   "metadata": {},
   "outputs": [
    {
     "name": "stdout",
     "output_type": "stream",
     "text": [
      "3 11\n",
      "7 11\n"
     ]
    },
    {
     "data": {
      "text/plain": [
       "'win-loss-tie: 0-2-0'"
      ]
     },
     "execution_count": 16,
     "metadata": {},
     "output_type": "execute_result"
    }
   ],
   "source": [
    "wincount()"
   ]
  },
  {
   "cell_type": "markdown",
   "metadata": {},
   "source": [
    "### So America went 0-2 with him on the team.\n",
    "### Let's dig a bit deeper to see how big of a factor location has been for his performance."
   ]
  },
  {
   "cell_type": "code",
   "execution_count": 17,
   "metadata": {
    "collapsed": true
   },
   "outputs": [],
   "source": [
    "locs = pickle.load(open(path+'pkl/dloc','rb'))"
   ]
  },
  {
   "cell_type": "code",
   "execution_count": 18,
   "metadata": {
    "collapsed": true
   },
   "outputs": [],
   "source": [
    "hm = []\n",
    "aw = []\n",
    "\n",
    "for year in years:\n",
    "    if 'USA' in locs[year]:\n",
    "        if 'a' in team.lower():\n",
    "            hm.append(year)\n",
    "        else:\n",
    "            aw.append(year)\n",
    "    else:\n",
    "        if 'a' in team.lower():\n",
    "            aw.append(year)\n",
    "        else:\n",
    "            hm.append(year)\n",
    "away = df.loc[aw]\n",
    "home = df.loc[hm]"
   ]
  },
  {
   "cell_type": "code",
   "execution_count": 19,
   "metadata": {},
   "outputs": [
    {
     "data": {
      "text/plain": [
       "'Played home 1 times, away 1 times'"
      ]
     },
     "execution_count": 19,
     "metadata": {},
     "output_type": "execute_result"
    },
    {
     "data": {
      "text/plain": [
       "\"Home Games: ('Matches Played: 6', 'Win-loss: 3-3', 'Pct: 50.0')\""
      ]
     },
     "execution_count": 19,
     "metadata": {},
     "output_type": "execute_result"
    },
    {
     "data": {
      "text/plain": [
       "\"Away Games: ('Matches Played: 5', 'Win-loss: 1-4', 'Pct: 20.0')\""
      ]
     },
     "execution_count": 19,
     "metadata": {},
     "output_type": "execute_result"
    }
   ],
   "source": [
    "'Played home {} times, away {} times'.format(len(hm),len(aw))\n",
    "\n",
    "'Home Games: {}'.format(stats(home))\n",
    "\n",
    "'Away Games: {}'.format(stats(away))"
   ]
  },
  {
   "cell_type": "markdown",
   "metadata": {},
   "source": [
    "### So he plays *far* better in home games (50% vs 20%)"
   ]
  },
  {
   "cell_type": "markdown",
   "metadata": {},
   "source": [
    "### Let's drill down a bit further to parse out his singles and doubles matches for both home and away "
   ]
  },
  {
   "cell_type": "code",
   "execution_count": 20,
   "metadata": {
    "collapsed": true
   },
   "outputs": [],
   "source": [
    "hsing = stats(home[home['Format']=='Singles'])"
   ]
  },
  {
   "cell_type": "code",
   "execution_count": 21,
   "metadata": {
    "collapsed": true
   },
   "outputs": [],
   "source": [
    "hdub = stats(home[home['Format']=='Doubles'])"
   ]
  },
  {
   "cell_type": "code",
   "execution_count": 22,
   "metadata": {
    "collapsed": true
   },
   "outputs": [],
   "source": [
    "asing = stats(away[away['Format']=='Singles'])"
   ]
  },
  {
   "cell_type": "code",
   "execution_count": 23,
   "metadata": {
    "collapsed": true
   },
   "outputs": [],
   "source": [
    "adub = stats(away[away['Format']=='Doubles'])"
   ]
  },
  {
   "cell_type": "code",
   "execution_count": 24,
   "metadata": {},
   "outputs": [
    {
     "data": {
      "text/plain": [
       "\"Home Singles: ('Matches Played: 2', 'Win-loss: 0-2', 'Pct: 0.0')\""
      ]
     },
     "execution_count": 24,
     "metadata": {},
     "output_type": "execute_result"
    },
    {
     "data": {
      "text/plain": [
       "\"Home Doubles: ('Matches Played: 3', 'Win-loss: 2-1', 'Pct: 67.0')\""
      ]
     },
     "execution_count": 24,
     "metadata": {},
     "output_type": "execute_result"
    },
    {
     "data": {
      "text/plain": [
       "\"Away Singles: ('Matches Played: 1', 'Win-loss: 0-1', 'Pct: 0.0')\""
      ]
     },
     "execution_count": 24,
     "metadata": {},
     "output_type": "execute_result"
    },
    {
     "data": {
      "text/plain": [
       "\"Away Doubles: ('Matches Played: 3', 'Win-loss: 1-2', 'Pct: 33.0')\""
      ]
     },
     "execution_count": 24,
     "metadata": {},
     "output_type": "execute_result"
    }
   ],
   "source": [
    "'Home Singles: {}'.format(hsing)\n",
    "'Home Doubles: {}'.format(hdub)\n",
    "'Away Singles: {}'.format(asing)\n",
    "'Away Doubles: {}'.format(adub)"
   ]
  },
  {
   "cell_type": "markdown",
   "metadata": {},
   "source": [
    "### Home doubles is strong (2-1), while home singles is weak (0-2)"
   ]
  },
  {
   "cell_type": "markdown",
   "metadata": {},
   "source": [
    "# SUMMARY\n",
    "- ### Home doubles is strong (2-1), while home singles is weak (0-2)\n",
    "- ### He plays better in doubles matches (50% vs. 36%) \n",
    "- ### He plays rather well with Bergman (2-0).\n",
    "- ### He plays *far* better in home games (50% vs 20%)\n",
    "- ### Home doubles is strong (2-1), while home singles is weak (0-2)\n",
    "- ### America went 0-2 with him on the team.\n",
    "- ### His worst year was also his most recent: 2016 (1-4)"
   ]
  }
 ],
 "metadata": {
  "kernelspec": {
   "display_name": "Python 3",
   "language": "python",
   "name": "python3"
  },
  "language_info": {
   "codemirror_mode": {
    "name": "ipython",
    "version": 3
   },
   "file_extension": ".py",
   "mimetype": "text/x-python",
   "name": "python",
   "nbconvert_exporter": "python",
   "pygments_lexer": "ipython3",
   "version": "3.7.1"
  }
 },
 "nbformat": 4,
 "nbformat_minor": 2
}
