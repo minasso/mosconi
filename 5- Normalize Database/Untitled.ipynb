{
 "cells": [
  {
   "cell_type": "code",
   "execution_count": 4,
   "metadata": {},
   "outputs": [],
   "source": [
    "import pandas as pd\n",
    "import sqlite3"
   ]
  },
  {
   "cell_type": "code",
   "execution_count": 2,
   "metadata": {},
   "outputs": [],
   "source": [
    "sql = 'select * from results'"
   ]
  },
  {
   "cell_type": "code",
   "execution_count": 5,
   "metadata": {},
   "outputs": [],
   "source": [
    "con = sqlite3.connect('../players.db')"
   ]
  },
  {
   "cell_type": "code",
   "execution_count": 8,
   "metadata": {},
   "outputs": [],
   "source": [
    "df = pd.read_sql(sql,con,index_col=['Year','Match'])"
   ]
  },
  {
   "cell_type": "code",
   "execution_count": 11,
   "metadata": {},
   "outputs": [],
   "source": [
    "df.drop('index',axis=1,inplace=True)"
   ]
  },
  {
   "cell_type": "code",
   "execution_count": 15,
   "metadata": {},
   "outputs": [],
   "source": [
    "singles = df[df['Format']=='Singles']"
   ]
  },
  {
   "cell_type": "code",
   "execution_count": 31,
   "metadata": {},
   "outputs": [],
   "source": [
    "players={}"
   ]
  },
  {
   "cell_type": "code",
   "execution_count": 32,
   "metadata": {},
   "outputs": [],
   "source": [
    "players.extend(list(singles['European_player'].unique()))"
   ]
  },
  {
   "cell_type": "code",
   "execution_count": 34,
   "metadata": {},
   "outputs": [],
   "source": [
    "players.extend(list(singles['American_player'].unique()))"
   ]
  },
  {
   "cell_type": "code",
   "execution_count": 35,
   "metadata": {
    "scrolled": true
   },
   "outputs": [
    {
     "data": {
      "text/plain": [
       "['Tom Storm',\n",
       " 'Oliver Ortmann',\n",
       " 'Lee Tucker',\n",
       " 'Allison Fisher',\n",
       " 'Steve Davis',\n",
       " 'Franziska Stark',\n",
       " 'Ralf Souquet',\n",
       " 'Jimmy White',\n",
       " 'Daryl Peach',\n",
       " 'Lee Kendall',\n",
       " 'Alex Higgins',\n",
       " 'Andy Richardson',\n",
       " 'Mika Immonen',\n",
       " 'Vincent Facquet',\n",
       " \"Ronnie O'Sullivan\",\n",
       " 'Tommy Donlon',\n",
       " 'Steve Knight',\n",
       " 'Fabio Petroni',\n",
       " 'Alex Lely',\n",
       " 'Marcus Chamat',\n",
       " 'Thomas Engert',\n",
       " 'Niels Feijen',\n",
       " 'Nick van den Berg',\n",
       " 'Thorsten Hohmann',\n",
       " 'Raj Hundal',\n",
       " 'David Alcaide',\n",
       " 'Imran Majid',\n",
       " 'Tony Drago',\n",
       " 'Konstantin Stepanov',\n",
       " 'Darren Appleton',\n",
       " 'Karl Boyes',\n",
       " 'Chris Melling',\n",
       " 'Nick Ekonomopoulos',\n",
       " 'Mark Gray',\n",
       " 'Nikos Ekonomopoulos',\n",
       " 'Albin Ouschan',\n",
       " 'Jayson Shaw',\n",
       " 'Joshua Filler',\n",
       " 'Eklent Kaci',\n",
       " 'Alexander Kazakis',\n",
       " 'Bobby Hunter',\n",
       " 'Mark Wilson',\n",
       " 'Lou Butera',\n",
       " 'Vivian Villarreal',\n",
       " 'Mike Gulyassy',\n",
       " 'Dallas West',\n",
       " 'Paul Gerni',\n",
       " 'Jeanette Lee',\n",
       " 'Mike Massey',\n",
       " 'John DiToro',\n",
       " 'Shannon Daulton',\n",
       " 'Allen Hopkins',\n",
       " 'Roger Griffis',\n",
       " 'Danny Harriman',\n",
       " 'C.J. Wiley',\n",
       " 'Earl Strickland',\n",
       " 'Johnny Archer',\n",
       " 'James Rempe',\n",
       " 'Nick Varner',\n",
       " 'Reed Pierce',\n",
       " 'Kim Davenport',\n",
       " 'Jeremy Jones',\n",
       " 'Michael Coltrain',\n",
       " 'Corey Deuel',\n",
       " 'Charlie Williams',\n",
       " 'Rodney Morris',\n",
       " 'Tony Robles',\n",
       " 'Gabe Owen',\n",
       " 'Shaun Putnam',\n",
       " 'John Schmidt',\n",
       " 'Mike Davis',\n",
       " 'Shane Van Boening',\n",
       " 'Oscar Dominguez',\n",
       " 'Dennis Hatch',\n",
       " 'Mike Dechaine',\n",
       " 'Shawn Putnam',\n",
       " 'Brandon Shuff',\n",
       " 'Justin Bergman',\n",
       " 'Justin Hall',\n",
       " 'Skyler Woodward',\n",
       " 'Billy Thorpe',\n",
       " 'Tyler Styer']"
      ]
     },
     "execution_count": 35,
     "metadata": {},
     "output_type": "execute_result"
    }
   ],
   "source": [
    "players"
   ]
  }
 ],
 "metadata": {
  "kernelspec": {
   "display_name": "Python 3",
   "language": "python",
   "name": "python3"
  },
  "language_info": {
   "codemirror_mode": {
    "name": "ipython",
    "version": 3
   },
   "file_extension": ".py",
   "mimetype": "text/x-python",
   "name": "python",
   "nbconvert_exporter": "python",
   "pygments_lexer": "ipython3",
   "version": "3.7.1"
  }
 },
 "nbformat": 4,
 "nbformat_minor": 4
}
