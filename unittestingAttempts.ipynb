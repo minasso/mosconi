{
 "cells": [
  {
   "cell_type": "code",
   "execution_count": 7,
   "metadata": {
    "collapsed": true
   },
   "outputs": [],
   "source": [
    "## Write the Map function.\n",
    "def _map(f,list1,*list2):\n",
    "  if len(list2) > 0:\n",
    "      zipper = zip(list1,*list2)\n",
    "      return (f(*a) for a in zipper)\n",
    "  else:\n",
    "      return (f(a) for a in list1)"
   ]
  },
  {
   "cell_type": "code",
   "execution_count": 8,
   "metadata": {},
   "outputs": [
    {
     "name": "stdout",
     "output_type": "stream",
     "text": [
      "[1, 2, 3, 4, 5]\n",
      "[6, 6, 6, 6, 6]\n",
      "[16, 26, 36, 46, 56]\n",
      "[1, 2, 3, 4, 5]\n",
      "[6, 6, 6, 6, 6]\n",
      "[16, 26, 36, 46, 56]\n"
     ]
    }
   ],
   "source": [
    "from operator import *\n",
    "from unittest import *\n",
    "\n",
    "a = [1,2,3,4,5]\n",
    "b = [5,4,3,2,1]\n",
    "c = [10,20,30,40,50]\n",
    "x = map(lambda x: x, a)\n",
    "y = map(lambda x,y: x+y ,a,b)\n",
    "z = map(lambda x,y,z: x+y+z ,a,b,c)\n",
    "\n",
    "print(list(x))\n",
    "print(list(y))\n",
    "print(list(z))\n",
    "\n",
    "w= _map(lambda x: x, a)\n",
    "ww = _map(lambda x,y: x+y ,a,b)\n",
    "www = _map(lambda x,y,z: x+y+z ,a,b,c)\n",
    "\n",
    "print(list(w))\n",
    "print(list(ww))\n",
    "print(list(www))"
   ]
  },
  {
   "cell_type": "code",
   "execution_count": 18,
   "metadata": {},
   "outputs": [
    {
     "name": "stderr",
     "output_type": "stream",
     "text": [
      "...\n",
      "----------------------------------------------------------------------\n",
      "Ran 3 tests in 0.006s\n",
      "\n",
      "OK\n"
     ]
    },
    {
     "data": {
      "text/plain": [
       "<unittest.runner.TextTestResult run=3 errors=0 failures=0>"
      ]
     },
     "execution_count": 18,
     "metadata": {},
     "output_type": "execute_result"
    }
   ],
   "source": [
    "from io import StringIO\n",
    "import unittest \n",
    "\n",
    "class TestMap (TestCase):\n",
    "    def test_map_1 (self):\n",
    "        a = [1,2,3,4,5]\n",
    "        b = [5,4,3,2,1]\n",
    "        w = map(lambda x,y: x+y ,a,b)\n",
    "        ww = _map(lambda x,y: x+y ,a,b)\n",
    "        self.assertEqual(list(w),list(ww))\n",
    "\n",
    "    def test_map_2 (self):\n",
    "        a = [4,5]\n",
    "        b = [3,1]\n",
    "        c = [3,2]\n",
    "        w = map(lambda x,y,z: x+y-z ,a,b,c)\n",
    "        ww = _map(lambda x,y,z: x+y+z ,a,b,c)\n",
    "        self.assertNotEqual(list(w),list(ww))\n",
    "\n",
    "    def test_map_3 (self):\n",
    "        a = [4,5,3,2,1]\n",
    "        b = [4,3,3,2,1]\n",
    "        w = map(lambda x,y: x+y ,a,b)\n",
    "        ww = _map(lambda x,y: x+y ,a,b)\n",
    "        self.assertEqual(list(w),list(ww))\n",
    "\n",
    "a = TestMap()\n",
    "\n",
    "suite = unittest.TestLoader().loadTestsFromModule(a)\n",
    "unittest.TextTestRunner().run(suite)"
   ]
  },
  {
   "cell_type": "code",
   "execution_count": null,
   "metadata": {
    "collapsed": true
   },
   "outputs": [],
   "source": []
  },
  {
   "cell_type": "code",
   "execution_count": 20,
   "metadata": {},
   "outputs": [
    {
     "name": "stderr",
     "output_type": "stream",
     "text": [
      "E\n",
      "======================================================================\n",
      "ERROR: C:\\Users\\andrew\\AppData\\Roaming\\jupyter\\runtime\\kernel-8a926eab-75f4-4625-9e4c-d5b4898ad082 (unittest.loader._FailedTest)\n",
      "----------------------------------------------------------------------\n",
      "AttributeError: module '__main__' has no attribute 'C:\\Users\\andrew\\AppData\\Roaming\\jupyter\\runtime\\kernel-8a926eab-75f4-4625-9e4c-d5b4898ad082'\n",
      "\n",
      "----------------------------------------------------------------------\n",
      "Ran 1 test in 0.005s\n",
      "\n",
      "FAILED (errors=1)\n"
     ]
    },
    {
     "ename": "SystemExit",
     "evalue": "True",
     "output_type": "error",
     "traceback": [
      "An exception has occurred, use %tb to see the full traceback.\n",
      "\u001b[1;31mSystemExit\u001b[0m\u001b[1;31m:\u001b[0m True\n"
     ]
    },
    {
     "name": "stderr",
     "output_type": "stream",
     "text": [
      "c:\\users\\andrew\\appdata\\local\\programs\\python\\python35\\lib\\site-packages\\IPython\\core\\interactiveshell.py:2870: UserWarning: To exit: use 'exit', 'quit', or Ctrl-D.\n",
      "  warn(\"To exit: use 'exit', 'quit', or Ctrl-D.\", stacklevel=1)\n"
     ]
    }
   ],
   "source": [
    "import unittest\n",
    "def is_prime(number):\n",
    "    \"\"\"Return True if *number* is prime.\"\"\"\n",
    "    for element in range(number):\n",
    "        if number % element == 0:\n",
    "            return False\n",
    "\n",
    "    return True\n",
    "\n",
    "\n",
    "class PrimesTestCase(unittest.TestCase):\n",
    "    \"\"\"Tests for `primes.py`.\"\"\"\n",
    "\n",
    "    def test_is_five_prime(self):\n",
    "        \"\"\"Is five successfully determined to be prime?\"\"\"\n",
    "        self.assertTrue(is_prime(5))\n",
    "\n",
    "if __name__ == '__main__':\n",
    "    unittest.main()"
   ]
  },
  {
   "cell_type": "code",
   "execution_count": 25,
   "metadata": {},
   "outputs": [
    {
     "ename": "SyntaxError",
     "evalue": "invalid syntax (<ipython-input-25-fc19d1abc632>, line 6)",
     "output_type": "error",
     "traceback": [
      "\u001b[1;36m  File \u001b[1;32m\"<ipython-input-25-fc19d1abc632>\"\u001b[1;36m, line \u001b[1;32m6\u001b[0m\n\u001b[1;33m    %%bash\u001b[0m\n\u001b[1;37m    ^\u001b[0m\n\u001b[1;31mSyntaxError\u001b[0m\u001b[1;31m:\u001b[0m invalid syntax\n"
     ]
    }
   ],
   "source": [
    "def func(x):\n",
    "    return x + 1\n",
    "\n",
    "def test_answer():\n",
    "    assert func(4) == 5\n"
   ]
  },
  {
   "cell_type": "code",
   "execution_count": 24,
   "metadata": {},
   "outputs": [
    {
     "name": "stdout",
     "output_type": "stream",
     "text": [
      "============================= test session starts =============================\r\n",
      "platform win32 -- Python 3.5.2, pytest-3.2.0, py-1.4.34, pluggy-0.4.0\r\n",
      "rootdir: C:\\Users\\andrew\\Desktop\\mosconi, inifile:\r\n",
      "collected 0 items\r\n",
      "\r\n",
      "======================== no tests ran in 0.02 seconds =========================\r\n"
     ]
    }
   ],
   "source": [
    "%%bash \n",
    "py.test"
   ]
  }
 ],
 "metadata": {
  "kernelspec": {
   "display_name": "Python 3",
   "language": "python",
   "name": "python3"
  },
  "language_info": {
   "codemirror_mode": {
    "name": "ipython",
    "version": 3
   },
   "file_extension": ".py",
   "mimetype": "text/x-python",
   "name": "python",
   "nbconvert_exporter": "python",
   "pygments_lexer": "ipython3",
   "version": "3.5.2"
  }
 },
 "nbformat": 4,
 "nbformat_minor": 2
}
