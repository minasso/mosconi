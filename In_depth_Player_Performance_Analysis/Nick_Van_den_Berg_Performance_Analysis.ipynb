{
 "cells": [
  {
   "cell_type": "markdown",
   "metadata": {},
   "source": [
    "### **Purpose: ** "
   ]
  },
  {
   "cell_type": "code",
   "execution_count": 32,
   "metadata": {
    "collapsed": true
   },
   "outputs": [],
   "source": [
    "player = 'Nick van den Berg'\n",
    "team = 'eu'"
   ]
  },
  {
   "cell_type": "code",
   "execution_count": 33,
   "metadata": {
    "collapsed": true
   },
   "outputs": [],
   "source": [
    "import pickle\n",
    "import pandas as pd"
   ]
  },
  {
   "cell_type": "code",
   "execution_count": 34,
   "metadata": {},
   "outputs": [],
   "source": [
    "# path = '//DREW/Users/andrew/Desktop/mosconi/'\n",
    "# dframe = pickle.load(open(path+'pkl/allyears_clean_locs','rb'))\n",
    "# if 'a' in team.lower():\n",
    "#     #could solve by changing dframe instead of df\n",
    "#     df = dframe[dframe['American_player'].str.contains(player)]\n",
    "#     df['Europe_lost'] = ~ df['Europe_won']\n",
    "#     df = df[['Format', 'European_player', 'European_score', 'American_score',\n",
    "#        'American_player', 'Europe_lost','Europe_won']]\n",
    "#     df.columns = ['Format', 'European_player', 'European_score', 'American_score',\n",
    "#        'American_player', 'America_won', 'America_lost']\n",
    "# else:\n",
    "#     df = dframe[dframe['European_player'].str.contains(player)]\n",
    "#     df['Europe_lost'] = ~ df['Europe_won']"
   ]
  },
  {
   "cell_type": "code",
   "execution_count": 35,
   "metadata": {},
   "outputs": [],
   "source": [
    "path = '//DREW/Users/andrew/Desktop/mosconi/'\n",
    "dframe = pickle.load(open(path+'pkl/allyears_clean_locs','rb'))\n",
    "dframe['Europe_lost'] = ~ dframe['Europe_won']\n",
    "if 'a' in team.lower():\n",
    "    df = dframe[dframe['American_player'].str.contains(player)]\n",
    "    df = df[['Format', 'European_player', 'European_score', 'American_score',\n",
    "       'American_player', 'Europe_lost','Europe_won']]\n",
    "    df.columns = ['Format', 'European_player', 'European_score', 'American_score',\n",
    "       'American_player', 'America_won', 'America_lost']\n",
    "else:\n",
    "    df = dframe[dframe['European_player'].str.contains(player)]"
   ]
  },
  {
   "cell_type": "code",
   "execution_count": 36,
   "metadata": {
    "collapsed": true
   },
   "outputs": [],
   "source": [
    "def stats(df):\n",
    "    try:\n",
    "        if 'a' in team.lower():\n",
    "            win = df['America_won'].sum()\n",
    "            loss = df['America_lost'].sum()\n",
    "        else:\n",
    "            win = df['Europe_won'].sum()\n",
    "            loss = df['Europe_lost'].sum()\n",
    "        mp= win+loss\n",
    "        wl = 'Win-loss: {}-{}'.format(win,loss)\n",
    "        pct = round(win/(win+loss)*100,0)\n",
    "        return('Matches Played: {}'.format(mp),wl,'Pct: {}'.format(pct))\n",
    "    except:\n",
    "        return('No matches to display')"
   ]
  },
  {
   "cell_type": "markdown",
   "metadata": {},
   "source": [
    "### Lets have a quick look at his overall stats by checking out his singles, doubles, and team stats."
   ]
  },
  {
   "cell_type": "code",
   "execution_count": 37,
   "metadata": {
    "collapsed": true
   },
   "outputs": [],
   "source": [
    "sing = df[df['Format']=='Singles']\n",
    "dub = df[df['Format']=='Doubles']\n",
    "teams = df[df['Format']=='Teams']\n",
    "triples = df[df['Format']=='Triples'] "
   ]
  },
  {
   "cell_type": "code",
   "execution_count": 38,
   "metadata": {},
   "outputs": [
    {
     "data": {
      "text/plain": [
       "\"Overall: ('Matches Played: 40', 'Win-loss: 15-25', 'Pct: 38.0')\""
      ]
     },
     "execution_count": 38,
     "metadata": {},
     "output_type": "execute_result"
    },
    {
     "data": {
      "text/plain": [
       "\"Singles: ('Matches Played: 14', 'Win-loss: 6-8', 'Pct: 43.0')\""
      ]
     },
     "execution_count": 38,
     "metadata": {},
     "output_type": "execute_result"
    },
    {
     "data": {
      "text/plain": [
       "\"Doubles: ('Matches Played: 18', 'Win-loss: 7-11', 'Pct: 39.0')\""
      ]
     },
     "execution_count": 38,
     "metadata": {},
     "output_type": "execute_result"
    },
    {
     "data": {
      "text/plain": [
       "\"Teams:   ('Matches Played: 6', 'Win-loss: 2-4', 'Pct: 33.0')\""
      ]
     },
     "execution_count": 38,
     "metadata": {},
     "output_type": "execute_result"
    },
    {
     "data": {
      "text/plain": [
       "\"Triples: ('Matches Played: 1', 'Win-loss: 0-1', 'Pct: 0.0')\""
      ]
     },
     "execution_count": 38,
     "metadata": {},
     "output_type": "execute_result"
    }
   ],
   "source": [
    "'Overall: {}'.format(stats(df))\n",
    "'Singles: {}'.format(stats(sing))\n",
    "'Doubles: {}'.format(stats(dub))\n",
    "'Teams:   {}'.format(stats(teams))\n",
    "'Triples: {}'.format(stats(triples))"
   ]
  },
  {
   "cell_type": "markdown",
   "metadata": {},
   "source": [
    "## So he plays better in singles matches. \n",
    "## Interestingly, he has done poorly in teams matches. May be worth looking to see if that had an effect on the team's overall win percentage. (whether team win---> tournament win)\n",
    "### Let's see if he plays better with certain partners. "
   ]
  },
  {
   "cell_type": "code",
   "execution_count": 57,
   "metadata": {},
   "outputs": [
    {
     "data": {
      "text/html": [
       "<div>\n",
       "<table border=\"1\" class=\"dataframe\">\n",
       "  <thead>\n",
       "    <tr style=\"text-align: right;\">\n",
       "      <th></th>\n",
       "      <th>Europe_won</th>\n",
       "      <th>Europe_lost</th>\n",
       "    </tr>\n",
       "    <tr>\n",
       "      <th>Partner</th>\n",
       "      <th></th>\n",
       "      <th></th>\n",
       "    </tr>\n",
       "  </thead>\n",
       "  <tbody>\n",
       "    <tr>\n",
       "      <th>Steve Davis</th>\n",
       "      <td>2.0</td>\n",
       "      <td>3.0</td>\n",
       "    </tr>\n",
       "    <tr>\n",
       "      <th>Niels Feijen</th>\n",
       "      <td>1.0</td>\n",
       "      <td>2.0</td>\n",
       "    </tr>\n",
       "    <tr>\n",
       "      <th>Imran Majid</th>\n",
       "      <td>1.0</td>\n",
       "      <td>1.0</td>\n",
       "    </tr>\n",
       "    <tr>\n",
       "      <th>Karl Boyes</th>\n",
       "      <td>1.0</td>\n",
       "      <td>0.0</td>\n",
       "    </tr>\n",
       "    <tr>\n",
       "      <th>Mika Immonen</th>\n",
       "      <td>1.0</td>\n",
       "      <td>0.0</td>\n",
       "    </tr>\n",
       "    <tr>\n",
       "      <th>Nick Ekonomopoulos</th>\n",
       "      <td>1.0</td>\n",
       "      <td>0.0</td>\n",
       "    </tr>\n",
       "    <tr>\n",
       "      <th>Chris Melling</th>\n",
       "      <td>0.0</td>\n",
       "      <td>2.0</td>\n",
       "    </tr>\n",
       "    <tr>\n",
       "      <th>Darren Appleton</th>\n",
       "      <td>0.0</td>\n",
       "      <td>2.0</td>\n",
       "    </tr>\n",
       "    <tr>\n",
       "      <th>Ralf Souquet</th>\n",
       "      <td>0.0</td>\n",
       "      <td>1.0</td>\n",
       "    </tr>\n",
       "  </tbody>\n",
       "</table>\n",
       "</div>"
      ],
      "text/plain": [
       "                    Europe_won  Europe_lost\n",
       "Partner                                    \n",
       "Steve Davis                2.0          3.0\n",
       "Niels Feijen               1.0          2.0\n",
       "Imran Majid                1.0          1.0\n",
       "Karl Boyes                 1.0          0.0\n",
       "Mika Immonen               1.0          0.0\n",
       "Nick Ekonomopoulos         1.0          0.0\n",
       "Chris Melling              0.0          2.0\n",
       "Darren Appleton            0.0          2.0\n",
       "Ralf Souquet               0.0          1.0"
      ]
     },
     "execution_count": 57,
     "metadata": {},
     "output_type": "execute_result"
    }
   ],
   "source": [
    "if 'a' in team.lower():\n",
    "    dub = dub[['European_player','American_player','America_won','America_lost']]\n",
    "    dub['Partner']=dub.loc[:,'American_player'].str.replace(player,'')\n",
    "    dub['Partner']=dub.loc[:,'Partner'].str.replace('&','')\n",
    "    dub['Partner']=dub.loc[:,'Partner'].str.strip()\n",
    "    dub.groupby('Partner').sum().sort_values(['America_won','America_lost'],ascending=False)    \n",
    "else:\n",
    "    dub = dub[['European_player','American_player','Europe_won','Europe_lost']]\n",
    "    dub['Partner']=dub.loc[:,'European_player'].str.replace(player,'')\n",
    "    dub['Partner']=dub.loc[:,'Partner'].str.replace('&','')\n",
    "    dub['Partner']=dub.loc[:,'Partner'].str.strip()\n",
    "    dub.groupby('Partner').sum().sort_values(['Europe_won','Europe_lost'],ascending=False)"
   ]
  },
  {
   "cell_type": "code",
   "execution_count": 56,
   "metadata": {},
   "outputs": [
    {
     "data": {
      "text/html": [
       "<div>\n",
       "<table border=\"1\" class=\"dataframe\">\n",
       "  <thead>\n",
       "    <tr style=\"text-align: right;\">\n",
       "      <th></th>\n",
       "      <th></th>\n",
       "      <th></th>\n",
       "      <th>European_player</th>\n",
       "      <th>American_player</th>\n",
       "      <th>Europe_won</th>\n",
       "      <th>Europe_lost</th>\n",
       "      <th>Partner</th>\n",
       "    </tr>\n",
       "    <tr>\n",
       "      <th>Year</th>\n",
       "      <th>Location</th>\n",
       "      <th>Match</th>\n",
       "      <th></th>\n",
       "      <th></th>\n",
       "      <th></th>\n",
       "      <th></th>\n",
       "      <th></th>\n",
       "    </tr>\n",
       "  </thead>\n",
       "  <tbody>\n",
       "    <tr>\n",
       "      <th rowspan=\"3\" valign=\"top\">2002</th>\n",
       "      <th rowspan=\"3\" valign=\"top\">Bethnal Green, London, England</th>\n",
       "      <th>2</th>\n",
       "      <td>Steve Davis Nick van den Berg</td>\n",
       "      <td>Earl Strickland Jeremy Jones</td>\n",
       "      <td>True</td>\n",
       "      <td>False</td>\n",
       "      <td>Steve Davis</td>\n",
       "    </tr>\n",
       "    <tr>\n",
       "      <th>5</th>\n",
       "      <td>Steve Davis Nick van den Berg</td>\n",
       "      <td>Earl Strickland Jeremy Jones</td>\n",
       "      <td>True</td>\n",
       "      <td>False</td>\n",
       "      <td>Steve Davis</td>\n",
       "    </tr>\n",
       "    <tr>\n",
       "      <th>11</th>\n",
       "      <td>Steve Davis Nick van den Berg</td>\n",
       "      <td>Johnny Archer Nick Varner</td>\n",
       "      <td>False</td>\n",
       "      <td>True</td>\n",
       "      <td>Steve Davis</td>\n",
       "    </tr>\n",
       "    <tr>\n",
       "      <th rowspan=\"2\" valign=\"top\">2003</th>\n",
       "      <th rowspan=\"2\" valign=\"top\">Las Vegas, Nevada, USA</th>\n",
       "      <th>3</th>\n",
       "      <td>Steve Davis Nick van den Berg</td>\n",
       "      <td>Earl Strickland Jeremy Jones</td>\n",
       "      <td>False</td>\n",
       "      <td>True</td>\n",
       "      <td>Steve Davis</td>\n",
       "    </tr>\n",
       "    <tr>\n",
       "      <th>6</th>\n",
       "      <td>Steve Davis Nick van den Berg</td>\n",
       "      <td>Tony Robles Earl Strickland</td>\n",
       "      <td>False</td>\n",
       "      <td>True</td>\n",
       "      <td>Steve Davis</td>\n",
       "    </tr>\n",
       "    <tr>\n",
       "      <th rowspan=\"2\" valign=\"top\">2006</th>\n",
       "      <th rowspan=\"2\" valign=\"top\">Rotterdam, Netherlands</th>\n",
       "      <th>5</th>\n",
       "      <td>Nick van den Berg Imran Majid</td>\n",
       "      <td>Earl Strickland Rodney Morris</td>\n",
       "      <td>True</td>\n",
       "      <td>False</td>\n",
       "      <td>Imran Majid</td>\n",
       "    </tr>\n",
       "    <tr>\n",
       "      <th>9</th>\n",
       "      <td>Nick van den Berg Imran Majid</td>\n",
       "      <td>Corey Deuel Mike Davis</td>\n",
       "      <td>False</td>\n",
       "      <td>True</td>\n",
       "      <td>Imran Majid</td>\n",
       "    </tr>\n",
       "    <tr>\n",
       "      <th rowspan=\"3\" valign=\"top\">2010</th>\n",
       "      <th rowspan=\"3\" valign=\"top\">Bethnal Green, London, England</th>\n",
       "      <th>1</th>\n",
       "      <td>Nick van den Berg Ralf Souquet</td>\n",
       "      <td>Dennis Hatch Rodney Morris</td>\n",
       "      <td>False</td>\n",
       "      <td>True</td>\n",
       "      <td>Ralf Souquet</td>\n",
       "    </tr>\n",
       "    <tr>\n",
       "      <th>10</th>\n",
       "      <td>Darren Appleton Nick van den Berg</td>\n",
       "      <td>Shane Van Boening Dennis Hatch</td>\n",
       "      <td>False</td>\n",
       "      <td>True</td>\n",
       "      <td>Darren Appleton</td>\n",
       "    </tr>\n",
       "    <tr>\n",
       "      <th>13</th>\n",
       "      <td>Mika Immonen Nick van den Berg</td>\n",
       "      <td>Shane Van Boening Corey Deuel</td>\n",
       "      <td>True</td>\n",
       "      <td>False</td>\n",
       "      <td>Mika Immonen</td>\n",
       "    </tr>\n",
       "    <tr>\n",
       "      <th rowspan=\"2\" valign=\"top\">2011</th>\n",
       "      <th rowspan=\"2\" valign=\"top\">Las Vegas, Nevada, USA</th>\n",
       "      <th>1</th>\n",
       "      <td>Chris Melling Nick van den Berg</td>\n",
       "      <td>Johnny Archer Shawn Putnam</td>\n",
       "      <td>False</td>\n",
       "      <td>True</td>\n",
       "      <td>Chris Melling</td>\n",
       "    </tr>\n",
       "    <tr>\n",
       "      <th>5</th>\n",
       "      <td>Nick van den Berg Niels Feijen</td>\n",
       "      <td>Shane Van Boening Johnny Archer</td>\n",
       "      <td>False</td>\n",
       "      <td>True</td>\n",
       "      <td>Niels Feijen</td>\n",
       "    </tr>\n",
       "    <tr>\n",
       "      <th rowspan=\"3\" valign=\"top\">2012</th>\n",
       "      <th rowspan=\"3\" valign=\"top\">Bethnal Green, London, England</th>\n",
       "      <th>1</th>\n",
       "      <td>Chris Melling Nick van den Berg</td>\n",
       "      <td>Johnny Archer Brandon Shuff</td>\n",
       "      <td>False</td>\n",
       "      <td>True</td>\n",
       "      <td>Chris Melling</td>\n",
       "    </tr>\n",
       "    <tr>\n",
       "      <th>7</th>\n",
       "      <td>Niels Feijen Nick van den Berg</td>\n",
       "      <td>Dennis Hatch Brandon Shuff</td>\n",
       "      <td>True</td>\n",
       "      <td>False</td>\n",
       "      <td>Niels Feijen</td>\n",
       "    </tr>\n",
       "    <tr>\n",
       "      <th>10</th>\n",
       "      <td>Nick van den Berg Nick Ekonomopoulos</td>\n",
       "      <td>Mike Dechaine Brandon Shuff</td>\n",
       "      <td>True</td>\n",
       "      <td>False</td>\n",
       "      <td>Nick Ekonomopoulos</td>\n",
       "    </tr>\n",
       "    <tr>\n",
       "      <th rowspan=\"3\" valign=\"top\">2015</th>\n",
       "      <th rowspan=\"3\" valign=\"top\">Las Vegas, Nevada, USA</th>\n",
       "      <th>1</th>\n",
       "      <td>Karl Boyes Nick van den Berg</td>\n",
       "      <td>Corey Deuel Mike Dechaine</td>\n",
       "      <td>True</td>\n",
       "      <td>False</td>\n",
       "      <td>Karl Boyes</td>\n",
       "    </tr>\n",
       "    <tr>\n",
       "      <th>5</th>\n",
       "      <td>Niels Feijen Nick van den Berg</td>\n",
       "      <td>Justin Bergman Skyler Woodward</td>\n",
       "      <td>False</td>\n",
       "      <td>True</td>\n",
       "      <td>Niels Feijen</td>\n",
       "    </tr>\n",
       "    <tr>\n",
       "      <th>9</th>\n",
       "      <td>Darren Appleton Nick van den Berg</td>\n",
       "      <td>Shane Van Boening Mike Dechaine</td>\n",
       "      <td>False</td>\n",
       "      <td>True</td>\n",
       "      <td>Darren Appleton</td>\n",
       "    </tr>\n",
       "  </tbody>\n",
       "</table>\n",
       "</div>"
      ],
      "text/plain": [
       "                                                                European_player  \\\n",
       "Year Location                       Match                                         \n",
       "2002 Bethnal Green, London, England 2             Steve Davis Nick van den Berg   \n",
       "                                    5             Steve Davis Nick van den Berg   \n",
       "                                    11            Steve Davis Nick van den Berg   \n",
       "2003 Las Vegas, Nevada, USA         3             Steve Davis Nick van den Berg   \n",
       "                                    6             Steve Davis Nick van den Berg   \n",
       "2006 Rotterdam, Netherlands         5             Nick van den Berg Imran Majid   \n",
       "                                    9             Nick van den Berg Imran Majid   \n",
       "2010 Bethnal Green, London, England 1            Nick van den Berg Ralf Souquet   \n",
       "                                    10        Darren Appleton Nick van den Berg   \n",
       "                                    13           Mika Immonen Nick van den Berg   \n",
       "2011 Las Vegas, Nevada, USA         1           Chris Melling Nick van den Berg   \n",
       "                                    5            Nick van den Berg Niels Feijen   \n",
       "2012 Bethnal Green, London, England 1           Chris Melling Nick van den Berg   \n",
       "                                    7            Niels Feijen Nick van den Berg   \n",
       "                                    10     Nick van den Berg Nick Ekonomopoulos   \n",
       "2015 Las Vegas, Nevada, USA         1              Karl Boyes Nick van den Berg   \n",
       "                                    5            Niels Feijen Nick van den Berg   \n",
       "                                    9         Darren Appleton Nick van den Berg   \n",
       "\n",
       "                                                           American_player  \\\n",
       "Year Location                       Match                                    \n",
       "2002 Bethnal Green, London, England 2         Earl Strickland Jeremy Jones   \n",
       "                                    5         Earl Strickland Jeremy Jones   \n",
       "                                    11           Johnny Archer Nick Varner   \n",
       "2003 Las Vegas, Nevada, USA         3         Earl Strickland Jeremy Jones   \n",
       "                                    6          Tony Robles Earl Strickland   \n",
       "2006 Rotterdam, Netherlands         5        Earl Strickland Rodney Morris   \n",
       "                                    9               Corey Deuel Mike Davis   \n",
       "2010 Bethnal Green, London, England 1           Dennis Hatch Rodney Morris   \n",
       "                                    10      Shane Van Boening Dennis Hatch   \n",
       "                                    13       Shane Van Boening Corey Deuel   \n",
       "2011 Las Vegas, Nevada, USA         1           Johnny Archer Shawn Putnam   \n",
       "                                    5      Shane Van Boening Johnny Archer   \n",
       "2012 Bethnal Green, London, England 1          Johnny Archer Brandon Shuff   \n",
       "                                    7           Dennis Hatch Brandon Shuff   \n",
       "                                    10         Mike Dechaine Brandon Shuff   \n",
       "2015 Las Vegas, Nevada, USA         1            Corey Deuel Mike Dechaine   \n",
       "                                    5       Justin Bergman Skyler Woodward   \n",
       "                                    9      Shane Van Boening Mike Dechaine   \n",
       "\n",
       "                                          Europe_won Europe_lost  \\\n",
       "Year Location                       Match                          \n",
       "2002 Bethnal Green, London, England 2           True       False   \n",
       "                                    5           True       False   \n",
       "                                    11         False        True   \n",
       "2003 Las Vegas, Nevada, USA         3          False        True   \n",
       "                                    6          False        True   \n",
       "2006 Rotterdam, Netherlands         5           True       False   \n",
       "                                    9          False        True   \n",
       "2010 Bethnal Green, London, England 1          False        True   \n",
       "                                    10         False        True   \n",
       "                                    13          True       False   \n",
       "2011 Las Vegas, Nevada, USA         1          False        True   \n",
       "                                    5          False        True   \n",
       "2012 Bethnal Green, London, England 1          False        True   \n",
       "                                    7           True       False   \n",
       "                                    10          True       False   \n",
       "2015 Las Vegas, Nevada, USA         1           True       False   \n",
       "                                    5          False        True   \n",
       "                                    9          False        True   \n",
       "\n",
       "                                                      Partner  \n",
       "Year Location                       Match                      \n",
       "2002 Bethnal Green, London, England 2             Steve Davis  \n",
       "                                    5             Steve Davis  \n",
       "                                    11            Steve Davis  \n",
       "2003 Las Vegas, Nevada, USA         3             Steve Davis  \n",
       "                                    6             Steve Davis  \n",
       "2006 Rotterdam, Netherlands         5             Imran Majid  \n",
       "                                    9             Imran Majid  \n",
       "2010 Bethnal Green, London, England 1            Ralf Souquet  \n",
       "                                    10        Darren Appleton  \n",
       "                                    13           Mika Immonen  \n",
       "2011 Las Vegas, Nevada, USA         1           Chris Melling  \n",
       "                                    5            Niels Feijen  \n",
       "2012 Bethnal Green, London, England 1           Chris Melling  \n",
       "                                    7            Niels Feijen  \n",
       "                                    10     Nick Ekonomopoulos  \n",
       "2015 Las Vegas, Nevada, USA         1              Karl Boyes  \n",
       "                                    5            Niels Feijen  \n",
       "                                    9         Darren Appleton  "
      ]
     },
     "execution_count": 56,
     "metadata": {},
     "output_type": "execute_result"
    }
   ],
   "source": [
    "dub"
   ]
  },
  {
   "cell_type": "markdown",
   "metadata": {},
   "source": [
    "### Nothing too significant. Looks like he does poorly when partnered with Melling or Appleton."
   ]
  },
  {
   "cell_type": "markdown",
   "metadata": {},
   "source": [
    "## Let's see if he performs better or worse against certain opponents in singles matches."
   ]
  },
  {
   "cell_type": "code",
   "execution_count": 40,
   "metadata": {},
   "outputs": [
    {
     "data": {
      "text/html": [
       "<div>\n",
       "<table border=\"1\" class=\"dataframe\">\n",
       "  <thead>\n",
       "    <tr style=\"text-align: right;\">\n",
       "      <th></th>\n",
       "      <th>Europe_won</th>\n",
       "      <th>Europe_lost</th>\n",
       "    </tr>\n",
       "    <tr>\n",
       "      <th>American_player</th>\n",
       "      <th></th>\n",
       "      <th></th>\n",
       "    </tr>\n",
       "  </thead>\n",
       "  <tbody>\n",
       "    <tr>\n",
       "      <th>Corey Deuel</th>\n",
       "      <td>1.0</td>\n",
       "      <td>2.0</td>\n",
       "    </tr>\n",
       "    <tr>\n",
       "      <th>Earl Strickland</th>\n",
       "      <td>1.0</td>\n",
       "      <td>1.0</td>\n",
       "    </tr>\n",
       "    <tr>\n",
       "      <th>Johnny Archer</th>\n",
       "      <td>1.0</td>\n",
       "      <td>1.0</td>\n",
       "    </tr>\n",
       "    <tr>\n",
       "      <th>Mike Davis</th>\n",
       "      <td>1.0</td>\n",
       "      <td>0.0</td>\n",
       "    </tr>\n",
       "    <tr>\n",
       "      <th>Mike Dechaine</th>\n",
       "      <td>1.0</td>\n",
       "      <td>0.0</td>\n",
       "    </tr>\n",
       "    <tr>\n",
       "      <th>Tony Robles</th>\n",
       "      <td>1.0</td>\n",
       "      <td>0.0</td>\n",
       "    </tr>\n",
       "    <tr>\n",
       "      <th>Dennis Hatch</th>\n",
       "      <td>0.0</td>\n",
       "      <td>1.0</td>\n",
       "    </tr>\n",
       "    <tr>\n",
       "      <th>Shane Van Boening</th>\n",
       "      <td>0.0</td>\n",
       "      <td>3.0</td>\n",
       "    </tr>\n",
       "  </tbody>\n",
       "</table>\n",
       "</div>"
      ],
      "text/plain": [
       "                   Europe_won  Europe_lost\n",
       "American_player                           \n",
       "Corey Deuel               1.0          2.0\n",
       "Earl Strickland           1.0          1.0\n",
       "Johnny Archer             1.0          1.0\n",
       "Mike Davis                1.0          0.0\n",
       "Mike Dechaine             1.0          0.0\n",
       "Tony Robles               1.0          0.0\n",
       "Dennis Hatch              0.0          1.0\n",
       "Shane Van Boening         0.0          3.0"
      ]
     },
     "execution_count": 40,
     "metadata": {},
     "output_type": "execute_result"
    }
   ],
   "source": [
    "if 'a' in team.lower():\n",
    "    sing.groupby('European_player').sum().sort_values('America_won',ascending = False)\n",
    "else:\n",
    "    sing.groupby('American_player').sum().sort_values('Europe_won',ascending = False)"
   ]
  },
  {
   "cell_type": "markdown",
   "metadata": {},
   "source": [
    "## Apparently, he does rather poorly against Shane Van Boening.\n",
    "## Let's see what his record was for each year."
   ]
  },
  {
   "cell_type": "code",
   "execution_count": 41,
   "metadata": {
    "collapsed": true
   },
   "outputs": [],
   "source": [
    "lst =df.index.values.tolist() \n",
    "years = set([])\n",
    "for item in lst:\n",
    "    years.add(item[0])\n",
    "years=list(years)"
   ]
  },
  {
   "cell_type": "code",
   "execution_count": 42,
   "metadata": {
    "collapsed": true
   },
   "outputs": [],
   "source": [
    "yearly=[]\n",
    "for year in years:\n",
    "    if 'a' in team:\n",
    "        win = df.loc[year]['America_won'].sum()\n",
    "        loss = df.loc[year]['America_lost'].sum()\n",
    "    else:\n",
    "        win = df.loc[year]['Europe_won'].sum()\n",
    "        loss = df.loc[year]['Europe_lost'].sum()\n",
    "    yearly.append((win,loss))"
   ]
  },
  {
   "cell_type": "code",
   "execution_count": 43,
   "metadata": {
    "collapsed": true
   },
   "outputs": [],
   "source": [
    "yr= {}\n",
    "for k,v in zip(years,yearly):\n",
    "    yr[k]=v"
   ]
  },
  {
   "cell_type": "code",
   "execution_count": 44,
   "metadata": {},
   "outputs": [
    {
     "data": {
      "text/plain": [
       "{2002: (3, 2),\n",
       " 2003: (1, 3),\n",
       " 2006: (3, 5),\n",
       " 2010: (2, 4),\n",
       " 2011: (2, 4),\n",
       " 2012: (3, 3),\n",
       " 2015: (1, 4)}"
      ]
     },
     "execution_count": 44,
     "metadata": {},
     "output_type": "execute_result"
    }
   ],
   "source": [
    "yr"
   ]
  },
  {
   "cell_type": "code",
   "execution_count": 45,
   "metadata": {
    "collapsed": true
   },
   "outputs": [],
   "source": [
    "win=[]\n",
    "loss=[]\n",
    "pct=[]\n",
    "for w,l in yearly:\n",
    "    win.append(w)\n",
    "    loss.append(l)\n",
    "    p=round((w*100/(w+l)),0)\n",
    "    pct.append(p)"
   ]
  },
  {
   "cell_type": "code",
   "execution_count": 46,
   "metadata": {},
   "outputs": [
    {
     "data": {
      "image/png": "[encoded data removed]",
      "text/plain": [
       "<matplotlib.figure.Figure at 0xd6b65f1f98>"
      ]
     },
     "metadata": {},
     "output_type": "display_data"
    }
   ],
   "source": [
    "import numpy as np\n",
    "import matplotlib.pyplot as plt\n",
    "%matplotlib inline\n",
    "\n",
    "ind = np.arange(len(years))  # the x locations for the groups\n",
    "\n",
    "fig = plt.figure(figsize=(14, 8))\n",
    "ax = fig.add_subplot(111)\n",
    "\n",
    "ax.plot(pct,linestyle='-',marker='.',markersize=12)\n",
    "ax.axhline(50, color='r',linestyle='--')\n",
    "\n",
    "# add some;\n",
    "ax.set_ylabel('Percentage of Games Won');\n",
    "ax.set_title('Yearly Performance Average');\n",
    "ax.set_xticks(ind);\n",
    "ax.set_xticklabels( (years),rotation=30 );"
   ]
  },
  {
   "cell_type": "markdown",
   "metadata": {},
   "source": [
    "### So his worst years were: 2003, 2015 and his best years were: 2002, 2012. \n",
    "### Let's check how the team did each year he played."
   ]
  },
  {
   "cell_type": "code",
   "execution_count": 47,
   "metadata": {},
   "outputs": [
    {
     "name": "stdout",
     "output_type": "stream",
     "text": [
      "9 12\n",
      "11 9\n",
      "12 12\n",
      "8 11\n",
      "7 11\n",
      "9 11\n",
      "7 11\n"
     ]
    },
    {
     "data": {
      "text/plain": [
       "'win-loss-tie: 5-1-1'"
      ]
     },
     "execution_count": 47,
     "metadata": {},
     "output_type": "execute_result"
    }
   ],
   "source": [
    "def wincount(dframe=dframe,years=years):\n",
    "    l=0\n",
    "    w=0\n",
    "    tie=0\n",
    "    for year in years:\n",
    "        f,t = dframe.loc[year]['Europe_won'].value_counts(sort=False)\n",
    "        print(f,t)\n",
    "        if f>t:\n",
    "            l+=1\n",
    "        elif f<t:\n",
    "            w+=1\n",
    "        else:\n",
    "            tie+=1\n",
    "    return 'win-loss-tie: {}-{}-{}'.format(w,l,tie)\n",
    "wincount()"
   ]
  },
  {
   "cell_type": "markdown",
   "metadata": {},
   "source": [
    "### So Europe went 5-1-1 with him on the team.\n",
    "### Let's dig a bit deeper to see how big of a factor location has been for his performance."
   ]
  },
  {
   "cell_type": "code",
   "execution_count": 48,
   "metadata": {
    "collapsed": true
   },
   "outputs": [],
   "source": [
    "locs = pickle.load(open(path+'pkl/dloc','rb'))"
   ]
  },
  {
   "cell_type": "code",
   "execution_count": 49,
   "metadata": {
    "collapsed": true
   },
   "outputs": [],
   "source": [
    "hm = []\n",
    "aw = []\n",
    "\n",
    "for year in years:\n",
    "    if 'USA' in locs[year]:\n",
    "        if 'a' in team.lower():\n",
    "            hm.append(year)\n",
    "        else:\n",
    "            aw.append(year)\n",
    "    else:\n",
    "        if 'a' in team.lower():\n",
    "            aw.append(year)\n",
    "        else:\n",
    "            hm.append(year)\n",
    "away = df.loc[aw]\n",
    "home = df.loc[hm]"
   ]
  },
  {
   "cell_type": "code",
   "execution_count": 50,
   "metadata": {},
   "outputs": [
    {
     "data": {
      "text/plain": [
       "'Played home 4 times, away 3 times'"
      ]
     },
     "execution_count": 50,
     "metadata": {},
     "output_type": "execute_result"
    },
    {
     "data": {
      "text/plain": [
       "\"Home Games: ('Matches Played: 25', 'Win-loss: 11-14', 'Pct: 44.0')\""
      ]
     },
     "execution_count": 50,
     "metadata": {},
     "output_type": "execute_result"
    },
    {
     "data": {
      "text/plain": [
       "\"Away Games: ('Matches Played: 15', 'Win-loss: 4-11', 'Pct: 27.0')\""
      ]
     },
     "execution_count": 50,
     "metadata": {},
     "output_type": "execute_result"
    }
   ],
   "source": [
    "'Played home {} times, away {} times'.format(len(hm),len(aw))\n",
    "\n",
    "'Home Games: {}'.format(stats(home))\n",
    "\n",
    "'Away Games: {}'.format(stats(away))"
   ]
  },
  {
   "cell_type": "markdown",
   "metadata": {},
   "source": [
    "### So he plays *significantly* better at home."
   ]
  },
  {
   "cell_type": "markdown",
   "metadata": {},
   "source": [
    "### Let's drill down a bit further to parse out his singles and doubles matches for both home and away "
   ]
  },
  {
   "cell_type": "code",
   "execution_count": 51,
   "metadata": {
    "collapsed": true
   },
   "outputs": [],
   "source": [
    "hsing = stats(home[home['Format']=='Singles'])"
   ]
  },
  {
   "cell_type": "code",
   "execution_count": 52,
   "metadata": {
    "collapsed": true
   },
   "outputs": [],
   "source": [
    "hdub = stats(home[home['Format']=='Doubles'])"
   ]
  },
  {
   "cell_type": "code",
   "execution_count": 53,
   "metadata": {
    "collapsed": true
   },
   "outputs": [],
   "source": [
    "asing = stats(away[away['Format']=='Singles'])"
   ]
  },
  {
   "cell_type": "code",
   "execution_count": 54,
   "metadata": {
    "collapsed": true
   },
   "outputs": [],
   "source": [
    "adub = stats(away[away['Format']=='Doubles'])"
   ]
  },
  {
   "cell_type": "code",
   "execution_count": 55,
   "metadata": {},
   "outputs": [
    {
     "data": {
      "text/plain": [
       "\"Home Singles: ('Matches Played: 8', 'Win-loss: 4-4', 'Pct: 50.0')\""
      ]
     },
     "execution_count": 55,
     "metadata": {},
     "output_type": "execute_result"
    },
    {
     "data": {
      "text/plain": [
       "\"Home Doubles: ('Matches Played: 11', 'Win-loss: 6-5', 'Pct: 55.0')\""
      ]
     },
     "execution_count": 55,
     "metadata": {},
     "output_type": "execute_result"
    },
    {
     "data": {
      "text/plain": [
       "\"Away Singles: ('Matches Played: 6', 'Win-loss: 2-4', 'Pct: 33.0')\""
      ]
     },
     "execution_count": 55,
     "metadata": {},
     "output_type": "execute_result"
    },
    {
     "data": {
      "text/plain": [
       "\"Away Doubles: ('Matches Played: 7', 'Win-loss: 1-6', 'Pct: 14.0')\""
      ]
     },
     "execution_count": 55,
     "metadata": {},
     "output_type": "execute_result"
    }
   ],
   "source": [
    "'Home Singles: {}'.format(hsing)\n",
    "'Home Doubles: {}'.format(hdub)\n",
    "'Away Singles: {}'.format(asing)\n",
    "'Away Doubles: {}'.format(adub)"
   ]
  },
  {
   "cell_type": "markdown",
   "metadata": {},
   "source": [
    "### Home singles and doubles is quite high, whereas away doubles is *extremely* low!"
   ]
  },
  {
   "cell_type": "markdown",
   "metadata": {},
   "source": [
    "# Summary\n",
    "- Nick plays *significantly* better at home.\n",
    "- He is weak against Shane Van Boening (0-3)\n",
    "- He has poor results in teams matches (33%) but the team has a winning record when he plays (5-1-1)\n",
    "- His away doubles is *extremely* low! (14%)"
   ]
  }
 ],
 "metadata": {
  "kernelspec": {
   "display_name": "Python 3",
   "language": "python",
   "name": "python3"
  },
  "language_info": {
   "codemirror_mode": {
    "name": "ipython",
    "version": 3
   },
   "file_extension": ".py",
   "mimetype": "text/x-python",
   "name": "python",
   "nbconvert_exporter": "python",
   "pygments_lexer": "ipython3",
   "version": "3.5.2"
  }
 },
 "nbformat": 4,
 "nbformat_minor": 2
}
