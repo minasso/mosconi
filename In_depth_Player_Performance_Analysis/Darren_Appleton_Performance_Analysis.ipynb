{
 "cells": [
  {
   "cell_type": "markdown",
   "metadata": {},
   "source": [
    "### **Purpose: ** "
   ]
  },
  {
   "cell_type": "code",
   "execution_count": 1,
   "metadata": {
    "collapsed": true
   },
   "outputs": [],
   "source": [
    "player = 'Darren Appleton'\n",
    "team = 'e'"
   ]
  },
  {
   "cell_type": "code",
   "execution_count": 2,
   "metadata": {
    "collapsed": true
   },
   "outputs": [],
   "source": [
    "import pickle\n",
    "import pandas as pd"
   ]
  },
  {
   "cell_type": "code",
   "execution_count": 3,
   "metadata": {},
   "outputs": [
    {
     "name": "stderr",
     "output_type": "stream",
     "text": [
      "c:\\users\\andrew\\appdata\\local\\programs\\python\\python35\\lib\\site-packages\\ipykernel\\__main__.py:12: SettingWithCopyWarning: \n",
      "A value is trying to be set on a copy of a slice from a DataFrame.\n",
      "Try using .loc[row_indexer,col_indexer] = value instead\n",
      "\n",
      "See the caveats in the documentation: http://pandas.pydata.org/pandas-docs/stable/indexing.html#indexing-view-versus-copy\n"
     ]
    }
   ],
   "source": [
    "path = '//DREW/Users/andrew/Desktop/mosconi/'\n",
    "dframe = pickle.load(open(path+'pkl/allyears_clean_locs','rb'))\n",
    "if 'a' in team.lower():\n",
    "    df = dframe[dframe['American_player'].str.contains(player)]\n",
    "    df['Europe_lost'] = ~ df['Europe_won']\n",
    "    df = df[['Format', 'European_player', 'European_score', 'American_score',\n",
    "       'American_player', 'Europe_lost','Europe_won']]\n",
    "    df.columns = ['Format', 'European_player', 'European_score', 'American_score',\n",
    "       'American_player', 'America_won', 'America_lost']\n",
    "else:\n",
    "    df = dframe[dframe['European_player'].str.contains(player)]\n",
    "    df['Europe_lost'] = ~ df['Europe_won']"
   ]
  },
  {
   "cell_type": "code",
   "execution_count": 4,
   "metadata": {
    "collapsed": true
   },
   "outputs": [],
   "source": [
    "def stats(df):\n",
    "    try:\n",
    "        if 'a' in team.lower():\n",
    "            win = df['America_won'].sum()\n",
    "            loss = df['America_lost'].sum()\n",
    "        else:\n",
    "            win = df['Europe_won'].sum()\n",
    "            loss = df['Europe_lost'].sum()\n",
    "        mp= win+loss\n",
    "        wl = 'Win-loss: {}-{}'.format(win,loss)\n",
    "        pct = round(win/(win+loss)*100,0)\n",
    "        return('Matches Played: {}'.format(mp),wl,'Pct: {}'.format(pct))\n",
    "    except:\n",
    "        return('No matches to display')"
   ]
  },
  {
   "cell_type": "markdown",
   "metadata": {},
   "source": [
    "### Lets have a quick look at his overall stats by checking out his singles, doubles, and team stats."
   ]
  },
  {
   "cell_type": "code",
   "execution_count": 5,
   "metadata": {
    "collapsed": true
   },
   "outputs": [],
   "source": [
    "sing = df[df['Format']=='Singles']\n",
    "dub = df[df['Format']=='Doubles']\n",
    "teams = df[df['Format']=='Teams']\n",
    "triples = df[df['Format']=='Triples'] "
   ]
  },
  {
   "cell_type": "code",
   "execution_count": 6,
   "metadata": {},
   "outputs": [
    {
     "data": {
      "text/plain": [
       "\"Overall: ('Matches Played: 47', 'Win-loss: 25-22', 'Pct: 53.0')\""
      ]
     },
     "execution_count": 6,
     "metadata": {},
     "output_type": "execute_result"
    },
    {
     "data": {
      "text/plain": [
       "\"Singles: ('Matches Played: 14', 'Win-loss: 10-4', 'Pct: 71.0')\""
      ]
     },
     "execution_count": 6,
     "metadata": {},
     "output_type": "execute_result"
    },
    {
     "data": {
      "text/plain": [
       "\"Doubles: ('Matches Played: 25', 'Win-loss: 10-15', 'Pct: 40.0')\""
      ]
     },
     "execution_count": 6,
     "metadata": {},
     "output_type": "execute_result"
    },
    {
     "data": {
      "text/plain": [
       "\"Teams:   ('Matches Played: 8', 'Win-loss: 5-3', 'Pct: 62.0')\""
      ]
     },
     "execution_count": 6,
     "metadata": {},
     "output_type": "execute_result"
    },
    {
     "data": {
      "text/plain": [
       "'Triples: No matches to display'"
      ]
     },
     "execution_count": 6,
     "metadata": {},
     "output_type": "execute_result"
    }
   ],
   "source": [
    "'Overall: {}'.format(stats(df))\n",
    "'Singles: {}'.format(stats(sing))\n",
    "'Doubles: {}'.format(stats(dub))\n",
    "'Teams:   {}'.format(stats(teams))\n",
    "'Triples: {}'.format(stats(triples))"
   ]
  },
  {
   "cell_type": "markdown",
   "metadata": {},
   "source": [
    "## So he plays *significantly* better in singles matches. \n",
    "### Let's see if he plays better with certain partners. "
   ]
  },
  {
   "cell_type": "code",
   "execution_count": 7,
   "metadata": {},
   "outputs": [
    {
     "data": {
      "text/html": [
       "<div>\n",
       "<table border=\"1\" class=\"dataframe\">\n",
       "  <thead>\n",
       "    <tr style=\"text-align: right;\">\n",
       "      <th></th>\n",
       "      <th>Europe_won</th>\n",
       "      <th>Europe_lost</th>\n",
       "    </tr>\n",
       "    <tr>\n",
       "      <th>Partner</th>\n",
       "      <th></th>\n",
       "      <th></th>\n",
       "    </tr>\n",
       "  </thead>\n",
       "  <tbody>\n",
       "    <tr>\n",
       "      <th>Karl Boyes</th>\n",
       "      <td>3.0</td>\n",
       "      <td>1.0</td>\n",
       "    </tr>\n",
       "    <tr>\n",
       "      <th>Ralf Souquet</th>\n",
       "      <td>3.0</td>\n",
       "      <td>0.0</td>\n",
       "    </tr>\n",
       "    <tr>\n",
       "      <th>Niels Feijen</th>\n",
       "      <td>2.0</td>\n",
       "      <td>2.0</td>\n",
       "    </tr>\n",
       "    <tr>\n",
       "      <th>Albin Ouschan</th>\n",
       "      <td>1.0</td>\n",
       "      <td>1.0</td>\n",
       "    </tr>\n",
       "    <tr>\n",
       "      <th>Nikos Ekonomopoulos</th>\n",
       "      <td>1.0</td>\n",
       "      <td>0.0</td>\n",
       "    </tr>\n",
       "    <tr>\n",
       "      <th>Chris Melling</th>\n",
       "      <td>0.0</td>\n",
       "      <td>2.0</td>\n",
       "    </tr>\n",
       "    <tr>\n",
       "      <th>Mark Gray</th>\n",
       "      <td>0.0</td>\n",
       "      <td>2.0</td>\n",
       "    </tr>\n",
       "    <tr>\n",
       "      <th>Mika Immonen</th>\n",
       "      <td>0.0</td>\n",
       "      <td>2.0</td>\n",
       "    </tr>\n",
       "    <tr>\n",
       "      <th>Nick van den Berg</th>\n",
       "      <td>0.0</td>\n",
       "      <td>2.0</td>\n",
       "    </tr>\n",
       "    <tr>\n",
       "      <th>Jayson Shaw</th>\n",
       "      <td>0.0</td>\n",
       "      <td>1.0</td>\n",
       "    </tr>\n",
       "    <tr>\n",
       "      <th>Nick Ekonomopoulos</th>\n",
       "      <td>0.0</td>\n",
       "      <td>1.0</td>\n",
       "    </tr>\n",
       "    <tr>\n",
       "      <th>Thorsten Hohmann</th>\n",
       "      <td>0.0</td>\n",
       "      <td>1.0</td>\n",
       "    </tr>\n",
       "  </tbody>\n",
       "</table>\n",
       "</div>"
      ],
      "text/plain": [
       "                     Europe_won  Europe_lost\n",
       "Partner                                     \n",
       "Karl Boyes                  3.0          1.0\n",
       "Ralf Souquet                3.0          0.0\n",
       "Niels Feijen                2.0          2.0\n",
       "Albin Ouschan               1.0          1.0\n",
       "Nikos Ekonomopoulos         1.0          0.0\n",
       "Chris Melling               0.0          2.0\n",
       "Mark Gray                   0.0          2.0\n",
       "Mika Immonen                0.0          2.0\n",
       "Nick van den Berg           0.0          2.0\n",
       "Jayson Shaw                 0.0          1.0\n",
       "Nick Ekonomopoulos          0.0          1.0\n",
       "Thorsten Hohmann            0.0          1.0"
      ]
     },
     "execution_count": 7,
     "metadata": {},
     "output_type": "execute_result"
    }
   ],
   "source": [
    "\n",
    "if 'a' in team.lower():\n",
    "    dub = dub[['European_player','American_player','America_won','America_lost']]\n",
    "    dub['Partner']=dub['American_player'].str.replace(player,'')\n",
    "    dub['Partner']=dub['Partner'].str.replace('&','')\n",
    "    dub['Partner']=dub['Partner'].str.strip()\n",
    "    dub.groupby('Partner').sum().sort_values(['America_won','America_lost'],ascending=False)    \n",
    "else:\n",
    "    dub = dub[['European_player','American_player','Europe_won','Europe_lost']]\n",
    "    dub['Partner']=dub['European_player'].str.replace(player,'')\n",
    "    dub['Partner']=dub['Partner'].str.replace('&','')\n",
    "    dub['Partner']=dub['Partner'].str.strip()\n",
    "    dub.groupby('Partner').sum().sort_values(['Europe_won','Europe_lost'],ascending=False)"
   ]
  },
  {
   "cell_type": "markdown",
   "metadata": {},
   "source": [
    "### Looks like he plays best when partnered with Boyes or Souquet and plays bad with most other players."
   ]
  },
  {
   "cell_type": "markdown",
   "metadata": {},
   "source": [
    "More questions to answer:\n",
    "1. Does he play better or worse against certain opponents?\n",
    "2. Has his performance changed over the years?\n",
    "3. Is performance affected by location (home vs away)?"
   ]
  },
  {
   "cell_type": "markdown",
   "metadata": {},
   "source": [
    "## Let's see if he performs better or worse against certain opponents in singles matches."
   ]
  },
  {
   "cell_type": "code",
   "execution_count": 8,
   "metadata": {},
   "outputs": [
    {
     "data": {
      "text/html": [
       "<div>\n",
       "<table border=\"1\" class=\"dataframe\">\n",
       "  <thead>\n",
       "    <tr style=\"text-align: right;\">\n",
       "      <th></th>\n",
       "      <th>Europe_won</th>\n",
       "      <th>Europe_lost</th>\n",
       "    </tr>\n",
       "    <tr>\n",
       "      <th>American_player</th>\n",
       "      <th></th>\n",
       "      <th></th>\n",
       "    </tr>\n",
       "  </thead>\n",
       "  <tbody>\n",
       "    <tr>\n",
       "      <th>Shane Van Boening</th>\n",
       "      <td>6.0</td>\n",
       "      <td>1.0</td>\n",
       "    </tr>\n",
       "    <tr>\n",
       "      <th>Brandon Shuff</th>\n",
       "      <td>1.0</td>\n",
       "      <td>0.0</td>\n",
       "    </tr>\n",
       "    <tr>\n",
       "      <th>Dennis Hatch</th>\n",
       "      <td>1.0</td>\n",
       "      <td>0.0</td>\n",
       "    </tr>\n",
       "    <tr>\n",
       "      <th>Rodney Morris</th>\n",
       "      <td>1.0</td>\n",
       "      <td>0.0</td>\n",
       "    </tr>\n",
       "    <tr>\n",
       "      <th>Shawn Putnam</th>\n",
       "      <td>1.0</td>\n",
       "      <td>0.0</td>\n",
       "    </tr>\n",
       "    <tr>\n",
       "      <th>Johnny Archer</th>\n",
       "      <td>0.0</td>\n",
       "      <td>2.0</td>\n",
       "    </tr>\n",
       "    <tr>\n",
       "      <th>Justin Bergman</th>\n",
       "      <td>0.0</td>\n",
       "      <td>1.0</td>\n",
       "    </tr>\n",
       "  </tbody>\n",
       "</table>\n",
       "</div>"
      ],
      "text/plain": [
       "                   Europe_won  Europe_lost\n",
       "American_player                           \n",
       "Shane Van Boening         6.0          1.0\n",
       "Brandon Shuff             1.0          0.0\n",
       "Dennis Hatch              1.0          0.0\n",
       "Rodney Morris             1.0          0.0\n",
       "Shawn Putnam              1.0          0.0\n",
       "Johnny Archer             0.0          2.0\n",
       "Justin Bergman            0.0          1.0"
      ]
     },
     "execution_count": 8,
     "metadata": {},
     "output_type": "execute_result"
    }
   ],
   "source": [
    "if 'a' in team.lower():\n",
    "    sing.groupby('European_player').sum().sort_values('America_won',ascending = False)\n",
    "else:\n",
    "    sing.groupby('American_player').sum().sort_values('Europe_won',ascending = False)\n"
   ]
  },
  {
   "cell_type": "markdown",
   "metadata": {},
   "source": [
    "## Apparently, he does *really* well against Shane, and does poorly against Archer. \n",
    "## Let's see what his record was for each year."
   ]
  },
  {
   "cell_type": "code",
   "execution_count": 9,
   "metadata": {
    "collapsed": true
   },
   "outputs": [],
   "source": [
    "lst =df.index.values.tolist() \n",
    "years = set([])\n",
    "for item in lst:\n",
    "    years.add(item[0])\n",
    "years=list(years)"
   ]
  },
  {
   "cell_type": "code",
   "execution_count": 10,
   "metadata": {
    "collapsed": true
   },
   "outputs": [],
   "source": [
    "yearly=[]\n",
    "for year in years:\n",
    "    if 'a' in team:\n",
    "        win = df.loc[year]['America_won'].sum()\n",
    "        loss = df.loc[year]['America_lost'].sum()\n",
    "    else:\n",
    "        win = df.loc[year]['Europe_won'].sum()\n",
    "        loss = df.loc[year]['Europe_lost'].sum()\n",
    "    yearly.append((win,loss))"
   ]
  },
  {
   "cell_type": "code",
   "execution_count": 11,
   "metadata": {
    "collapsed": true
   },
   "outputs": [],
   "source": [
    "yr= {}\n",
    "for k,v in zip(years,yearly):\n",
    "    yr[k]=v"
   ]
  },
  {
   "cell_type": "code",
   "execution_count": 12,
   "metadata": {},
   "outputs": [
    {
     "data": {
      "text/plain": [
       "{2009: (0, 5),\n",
       " 2010: (5, 1),\n",
       " 2011: (4, 2),\n",
       " 2012: (2, 5),\n",
       " 2013: (4, 1),\n",
       " 2014: (4, 2),\n",
       " 2015: (2, 4),\n",
       " 2016: (4, 2)}"
      ]
     },
     "execution_count": 12,
     "metadata": {},
     "output_type": "execute_result"
    }
   ],
   "source": [
    "yr"
   ]
  },
  {
   "cell_type": "markdown",
   "metadata": {},
   "source": [
    "### So his worst years were: 2009 and his best years were: 2010,2013. Let's dig a bit deeper to see how big of a factor location is for his performance."
   ]
  },
  {
   "cell_type": "code",
   "execution_count": 13,
   "metadata": {
    "collapsed": true
   },
   "outputs": [],
   "source": [
    "locs = pickle.load(open(path+'pkl/dloc','rb'))"
   ]
  },
  {
   "cell_type": "code",
   "execution_count": 14,
   "metadata": {
    "collapsed": true
   },
   "outputs": [],
   "source": [
    "hm = []\n",
    "aw = []\n",
    "\n",
    "for year in years:\n",
    "    if 'USA' in locs[year]:\n",
    "        if 'a' in team.lower():\n",
    "            hm.append(year)\n",
    "        else:\n",
    "            aw.append(year)\n",
    "    else:\n",
    "        if 'a' in team.lower():\n",
    "            aw.append(year)\n",
    "        else:\n",
    "            hm.append(year)\n",
    "away = df.loc[aw]\n",
    "home = df.loc[hm]"
   ]
  },
  {
   "cell_type": "code",
   "execution_count": 15,
   "metadata": {},
   "outputs": [
    {
     "data": {
      "text/plain": [
       "'Played home 4 times, away 4 times'"
      ]
     },
     "execution_count": 15,
     "metadata": {},
     "output_type": "execute_result"
    }
   ],
   "source": [
    "'Played home {} times, away {} times'.format(len(hm),len(aw))"
   ]
  },
  {
   "cell_type": "code",
   "execution_count": 16,
   "metadata": {},
   "outputs": [
    {
     "data": {
      "text/plain": [
       "\"Home Games: ('Matches Played: 25', 'Win-loss: 15-10', 'Pct: 60.0')\""
      ]
     },
     "execution_count": 16,
     "metadata": {},
     "output_type": "execute_result"
    }
   ],
   "source": [
    "'Home Games: {}'.format(stats(home))"
   ]
  },
  {
   "cell_type": "code",
   "execution_count": 17,
   "metadata": {},
   "outputs": [
    {
     "data": {
      "text/plain": [
       "\"Away Games: ('Matches Played: 22', 'Win-loss: 10-12', 'Pct: 45.0')\""
      ]
     },
     "execution_count": 17,
     "metadata": {},
     "output_type": "execute_result"
    }
   ],
   "source": [
    "'Away Games: {}'.format(stats(away))"
   ]
  },
  {
   "cell_type": "markdown",
   "metadata": {},
   "source": [
    "### So he plays better at home."
   ]
  },
  {
   "cell_type": "markdown",
   "metadata": {},
   "source": [
    "### Let's drill down a bit further to parse out his singles and doubles matches for both home and away "
   ]
  },
  {
   "cell_type": "code",
   "execution_count": 18,
   "metadata": {
    "collapsed": true
   },
   "outputs": [],
   "source": [
    "hsing = stats(home[home['Format']=='Singles'])"
   ]
  },
  {
   "cell_type": "code",
   "execution_count": 19,
   "metadata": {
    "collapsed": true
   },
   "outputs": [],
   "source": [
    "hdub = stats(home[home['Format']=='Doubles'])"
   ]
  },
  {
   "cell_type": "code",
   "execution_count": 20,
   "metadata": {
    "collapsed": true
   },
   "outputs": [],
   "source": [
    "asing = stats(away[away['Format']=='Singles'])"
   ]
  },
  {
   "cell_type": "code",
   "execution_count": 21,
   "metadata": {
    "collapsed": true
   },
   "outputs": [],
   "source": [
    "adub = stats(away[away['Format']=='Doubles'])"
   ]
  },
  {
   "cell_type": "code",
   "execution_count": 22,
   "metadata": {},
   "outputs": [
    {
     "data": {
      "text/plain": [
       "\"Home Singles: ('Matches Played: 8', 'Win-loss: 7-1', 'Pct: 88.0')\""
      ]
     },
     "execution_count": 22,
     "metadata": {},
     "output_type": "execute_result"
    },
    {
     "data": {
      "text/plain": [
       "\"Home Doubles: ('Matches Played: 13', 'Win-loss: 5-8', 'Pct: 38.0')\""
      ]
     },
     "execution_count": 22,
     "metadata": {},
     "output_type": "execute_result"
    },
    {
     "data": {
      "text/plain": [
       "\"Away Singles: ('Matches Played: 6', 'Win-loss: 3-3', 'Pct: 50.0')\""
      ]
     },
     "execution_count": 22,
     "metadata": {},
     "output_type": "execute_result"
    },
    {
     "data": {
      "text/plain": [
       "\"Away Doubles: ('Matches Played: 12', 'Win-loss: 5-7', 'Pct: 42.0')\""
      ]
     },
     "execution_count": 22,
     "metadata": {},
     "output_type": "execute_result"
    }
   ],
   "source": [
    "'Home Singles: {}'.format(hsing)\n",
    "'Home Doubles: {}'.format(hdub)\n",
    "'Away Singles: {}'.format(asing)\n",
    "'Away Doubles: {}'.format(adub)"
   ]
  },
  {
   "cell_type": "markdown",
   "metadata": {},
   "source": [
    "## Excellent singles record at home! (7-1)"
   ]
  }
 ],
 "metadata": {
  "kernelspec": {
   "display_name": "Python 3",
   "language": "python",
   "name": "python3"
  },
  "language_info": {
   "codemirror_mode": {
    "name": "ipython",
    "version": 3
   },
   "file_extension": ".py",
   "mimetype": "text/x-python",
   "name": "python",
   "nbconvert_exporter": "python",
   "pygments_lexer": "ipython3",
   "version": "3.5.2"
  }
 },
 "nbformat": 4,
 "nbformat_minor": 2
}
