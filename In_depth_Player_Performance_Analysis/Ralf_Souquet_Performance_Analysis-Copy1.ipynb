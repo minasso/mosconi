{
 "cells": [
  {
   "cell_type": "markdown",
   "metadata": {},
   "source": [
    "### **Purpose: ** "
   ]
  },
  {
   "cell_type": "code",
   "execution_count": 18,
   "metadata": {
    "collapsed": true
   },
   "outputs": [],
   "source": [
    "player = 'Earl Strickland'\n",
    "team = 'a'"
   ]
  },
  {
   "cell_type": "code",
   "execution_count": 19,
   "metadata": {
    "collapsed": true
   },
   "outputs": [],
   "source": [
    "import pickle\n",
    "import pandas as pd"
   ]
  },
  {
   "cell_type": "code",
   "execution_count": 20,
   "metadata": {},
   "outputs": [
    {
     "name": "stderr",
     "output_type": "stream",
     "text": [
      "c:\\users\\andrew\\appdata\\local\\programs\\python\\python35\\lib\\site-packages\\ipykernel\\__main__.py:5: SettingWithCopyWarning: \n",
      "A value is trying to be set on a copy of a slice from a DataFrame.\n",
      "Try using .loc[row_indexer,col_indexer] = value instead\n",
      "\n",
      "See the caveats in the documentation: http://pandas.pydata.org/pandas-docs/stable/indexing.html#indexing-view-versus-copy\n"
     ]
    }
   ],
   "source": [
    "path = '//DREW/Users/andrew/Desktop/mosconi/'\n",
    "dframe = pickle.load(open(path+'pkl/allyears_clean_locs','rb'))\n",
    "if 'a' in team.lower():\n",
    "    df = dframe[dframe['American_player'].str.contains(player)]\n",
    "    df['Europe_lost'] = ~ df['Europe_won']\n",
    "    df = df[['Format', 'European_player', 'European_score', 'American_score',\n",
    "       'American_player', 'Europe_lost','Europe_won']]\n",
    "    df.columns = ['Format', 'European_player', 'European_score', 'American_score',\n",
    "       'American_player', 'America_won', 'America_lost']\n",
    "else:\n",
    "    df = dframe[dframe['European_player'].str.contains(player)]\n",
    "    df['Europe_lost'] = ~ df['Europe_won']"
   ]
  },
  {
   "cell_type": "code",
   "execution_count": 21,
   "metadata": {
    "collapsed": true
   },
   "outputs": [],
   "source": [
    "def stats(df):\n",
    "    try:\n",
    "        if 'a' in team.lower():\n",
    "            win = df['America_won'].sum()\n",
    "            loss = df['America_lost'].sum()\n",
    "        else:\n",
    "            win = df['Europe_won'].sum()\n",
    "            loss = df['Europe_lost'].sum()\n",
    "        mp= win+loss\n",
    "        wl = 'Win-loss: {}-{}'.format(win,loss)\n",
    "        pct = round(win/(win+loss)*100,0)\n",
    "        return('Matches Played: {}'.format(mp),wl,'Pct: {}'.format(pct))\n",
    "    except:\n",
    "        return('No matches to display')"
   ]
  },
  {
   "cell_type": "markdown",
   "metadata": {},
   "source": [
    "### Lets have a quick look at his overall stats by checking out his singles, doubles, and team stats."
   ]
  },
  {
   "cell_type": "code",
   "execution_count": 22,
   "metadata": {
    "collapsed": true
   },
   "outputs": [],
   "source": [
    "sing = df[df['Format']=='Singles']\n",
    "dub = df[df['Format']=='Doubles']\n",
    "teams = df[df['Format']=='Teams']\n",
    "triples = df[df['Format']=='Triples'] "
   ]
  },
  {
   "cell_type": "code",
   "execution_count": 23,
   "metadata": {},
   "outputs": [
    {
     "data": {
      "text/plain": [
       "\"Overall: ('Matches Played: 69', 'Win-loss: 43-26', 'Pct: 62.0')\""
      ]
     },
     "execution_count": 23,
     "metadata": {},
     "output_type": "execute_result"
    },
    {
     "data": {
      "text/plain": [
       "\"Singles: ('Matches Played: 26', 'Win-loss: 14-12', 'Pct: 54.0')\""
      ]
     },
     "execution_count": 23,
     "metadata": {},
     "output_type": "execute_result"
    },
    {
     "data": {
      "text/plain": [
       "\"Doubles: ('Matches Played: 36', 'Win-loss: 24-12', 'Pct: 67.0')\""
      ]
     },
     "execution_count": 23,
     "metadata": {},
     "output_type": "execute_result"
    },
    {
     "data": {
      "text/plain": [
       "\"Teams:   ('Matches Played: 5', 'Win-loss: 3-2', 'Pct: 60.0')\""
      ]
     },
     "execution_count": 23,
     "metadata": {},
     "output_type": "execute_result"
    },
    {
     "data": {
      "text/plain": [
       "\"Triples: ('Matches Played: 1', 'Win-loss: 1-0', 'Pct: 100.0')\""
      ]
     },
     "execution_count": 23,
     "metadata": {},
     "output_type": "execute_result"
    }
   ],
   "source": [
    "'Overall: {}'.format(stats(df))\n",
    "'Singles: {}'.format(stats(sing))\n",
    "'Doubles: {}'.format(stats(dub))\n",
    "'Teams:   {}'.format(stats(teams))\n",
    "'Triples: {}'.format(stats(triples))"
   ]
  },
  {
   "cell_type": "markdown",
   "metadata": {},
   "source": [
    "## So he plays equally well in both singles and doubles matches. \n",
    "### Let's see if he plays better with certain partners. "
   ]
  },
  {
   "cell_type": "code",
   "execution_count": 24,
   "metadata": {},
   "outputs": [
    {
     "data": {
      "text/html": [
       "<div>\n",
       "<table border=\"1\" class=\"dataframe\">\n",
       "  <thead>\n",
       "    <tr style=\"text-align: right;\">\n",
       "      <th></th>\n",
       "      <th>America_won</th>\n",
       "      <th>America_lost</th>\n",
       "    </tr>\n",
       "    <tr>\n",
       "      <th>Partner</th>\n",
       "      <th></th>\n",
       "      <th></th>\n",
       "    </tr>\n",
       "  </thead>\n",
       "  <tbody>\n",
       "    <tr>\n",
       "      <th>Rodney Morris</th>\n",
       "      <td>7.0</td>\n",
       "      <td>4.0</td>\n",
       "    </tr>\n",
       "    <tr>\n",
       "      <th>Jeremy Jones</th>\n",
       "      <td>5.0</td>\n",
       "      <td>2.0</td>\n",
       "    </tr>\n",
       "    <tr>\n",
       "      <th>James Rempe</th>\n",
       "      <td>4.0</td>\n",
       "      <td>3.0</td>\n",
       "    </tr>\n",
       "    <tr>\n",
       "      <th>Corey Deuel</th>\n",
       "      <td>2.0</td>\n",
       "      <td>1.0</td>\n",
       "    </tr>\n",
       "    <tr>\n",
       "      <th>Johnny Archer</th>\n",
       "      <td>2.0</td>\n",
       "      <td>0.0</td>\n",
       "    </tr>\n",
       "    <tr>\n",
       "      <th>Shane Van Boening</th>\n",
       "      <td>1.0</td>\n",
       "      <td>1.0</td>\n",
       "    </tr>\n",
       "    <tr>\n",
       "      <th>C.J. Wiley</th>\n",
       "      <td>1.0</td>\n",
       "      <td>0.0</td>\n",
       "    </tr>\n",
       "    <tr>\n",
       "      <th>Kim Davenport</th>\n",
       "      <td>1.0</td>\n",
       "      <td>0.0</td>\n",
       "    </tr>\n",
       "    <tr>\n",
       "      <th>Tony Robles</th>\n",
       "      <td>1.0</td>\n",
       "      <td>0.0</td>\n",
       "    </tr>\n",
       "    <tr>\n",
       "      <th>Dennis Hatch</th>\n",
       "      <td>0.0</td>\n",
       "      <td>1.0</td>\n",
       "    </tr>\n",
       "  </tbody>\n",
       "</table>\n",
       "</div>"
      ],
      "text/plain": [
       "                   America_won  America_lost\n",
       "Partner                                     \n",
       "Rodney Morris              7.0           4.0\n",
       "Jeremy Jones               5.0           2.0\n",
       "James Rempe                4.0           3.0\n",
       "Corey Deuel                2.0           1.0\n",
       "Johnny Archer              2.0           0.0\n",
       "Shane Van Boening          1.0           1.0\n",
       "C.J. Wiley                 1.0           0.0\n",
       "Kim Davenport              1.0           0.0\n",
       "Tony Robles                1.0           0.0\n",
       "Dennis Hatch               0.0           1.0"
      ]
     },
     "execution_count": 24,
     "metadata": {},
     "output_type": "execute_result"
    }
   ],
   "source": [
    "\n",
    "if 'a' in team.lower():\n",
    "    dub = dub[['European_player','American_player','America_won','America_lost']]\n",
    "    dub['Partner']=dub['American_player'].str.replace(player,'')\n",
    "    dub['Partner']=dub['Partner'].str.replace('&','')\n",
    "    dub['Partner']=dub['Partner'].str.strip()\n",
    "    dub.groupby('Partner').sum().sort_values(['America_won','America_lost'],ascending=False)    \n",
    "else:\n",
    "    dub = dub[['European_player','American_player','Europe_won','Europe_lost']]\n",
    "    dub['Partner']=dub['European_player'].str.replace(player,'')\n",
    "    dub['Partner']=dub['Partner'].str.replace('&','')\n",
    "    dub['Partner']=dub['Partner'].str.strip()\n",
    "    dub.groupby('Partner').sum().sort_values(['Europe_won','Europe_lost'],ascending=False)"
   ]
  },
  {
   "cell_type": "markdown",
   "metadata": {},
   "source": [
    "### Looks like he does extremely well when partnered with Niels Feijen and Darren Appleton."
   ]
  },
  {
   "cell_type": "markdown",
   "metadata": {},
   "source": [
    "## Let's see if he performs better or worse against certain opponents in singles matches."
   ]
  },
  {
   "cell_type": "code",
   "execution_count": 25,
   "metadata": {},
   "outputs": [
    {
     "data": {
      "text/html": [
       "<div>\n",
       "<table border=\"1\" class=\"dataframe\">\n",
       "  <thead>\n",
       "    <tr style=\"text-align: right;\">\n",
       "      <th></th>\n",
       "      <th>America_won</th>\n",
       "      <th>America_lost</th>\n",
       "    </tr>\n",
       "    <tr>\n",
       "      <th>European_player</th>\n",
       "      <th></th>\n",
       "      <th></th>\n",
       "    </tr>\n",
       "  </thead>\n",
       "  <tbody>\n",
       "    <tr>\n",
       "      <th>Marcus Chamat</th>\n",
       "      <td>2.0</td>\n",
       "      <td>1.0</td>\n",
       "    </tr>\n",
       "    <tr>\n",
       "      <th>Ralf Souquet</th>\n",
       "      <td>2.0</td>\n",
       "      <td>1.0</td>\n",
       "    </tr>\n",
       "    <tr>\n",
       "      <th>Thomas Engert</th>\n",
       "      <td>2.0</td>\n",
       "      <td>0.0</td>\n",
       "    </tr>\n",
       "    <tr>\n",
       "      <th>Daryl Peach</th>\n",
       "      <td>1.0</td>\n",
       "      <td>0.0</td>\n",
       "    </tr>\n",
       "    <tr>\n",
       "      <th>Mika Immonen</th>\n",
       "      <td>1.0</td>\n",
       "      <td>1.0</td>\n",
       "    </tr>\n",
       "    <tr>\n",
       "      <th>Mika Immonen</th>\n",
       "      <td>1.0</td>\n",
       "      <td>0.0</td>\n",
       "    </tr>\n",
       "    <tr>\n",
       "      <th>Nick van den Berg</th>\n",
       "      <td>1.0</td>\n",
       "      <td>1.0</td>\n",
       "    </tr>\n",
       "    <tr>\n",
       "      <th>Niels Feijen</th>\n",
       "      <td>1.0</td>\n",
       "      <td>0.0</td>\n",
       "    </tr>\n",
       "    <tr>\n",
       "      <th>Ralf Souquet</th>\n",
       "      <td>1.0</td>\n",
       "      <td>2.0</td>\n",
       "    </tr>\n",
       "    <tr>\n",
       "      <th>Steve Knight</th>\n",
       "      <td>1.0</td>\n",
       "      <td>0.0</td>\n",
       "    </tr>\n",
       "    <tr>\n",
       "      <th>Tony Drago</th>\n",
       "      <td>1.0</td>\n",
       "      <td>0.0</td>\n",
       "    </tr>\n",
       "    <tr>\n",
       "      <th>Karl Boyes</th>\n",
       "      <td>0.0</td>\n",
       "      <td>1.0</td>\n",
       "    </tr>\n",
       "    <tr>\n",
       "      <th>Oliver Ortmann</th>\n",
       "      <td>0.0</td>\n",
       "      <td>1.0</td>\n",
       "    </tr>\n",
       "    <tr>\n",
       "      <th>Oliver Ortmann</th>\n",
       "      <td>0.0</td>\n",
       "      <td>1.0</td>\n",
       "    </tr>\n",
       "    <tr>\n",
       "      <th>Ronnie O'Sullivan</th>\n",
       "      <td>0.0</td>\n",
       "      <td>1.0</td>\n",
       "    </tr>\n",
       "    <tr>\n",
       "      <th>Steve Davis</th>\n",
       "      <td>0.0</td>\n",
       "      <td>2.0</td>\n",
       "    </tr>\n",
       "  </tbody>\n",
       "</table>\n",
       "</div>"
      ],
      "text/plain": [
       "                    America_won  America_lost\n",
       "European_player                              \n",
       "Marcus Chamat               2.0           1.0\n",
       "Ralf Souquet                2.0           1.0\n",
       "Thomas Engert               2.0           0.0\n",
       "Daryl Peach                 1.0           0.0\n",
       "Mika Immonen                1.0           1.0\n",
       "Mika Immonen                1.0           0.0\n",
       "Nick van den Berg           1.0           1.0\n",
       "Niels Feijen                1.0           0.0\n",
       "Ralf Souquet                1.0           2.0\n",
       "Steve Knight                1.0           0.0\n",
       "Tony Drago                  1.0           0.0\n",
       "Karl Boyes                  0.0           1.0\n",
       "Oliver Ortmann              0.0           1.0\n",
       "Oliver Ortmann              0.0           1.0\n",
       "Ronnie O'Sullivan           0.0           1.0\n",
       "Steve Davis                 0.0           2.0"
      ]
     },
     "execution_count": 25,
     "metadata": {},
     "output_type": "execute_result"
    }
   ],
   "source": [
    "if 'a' in team.lower():\n",
    "    sing.groupby('European_player').sum().sort_values('America_won',ascending = False)\n",
    "else:\n",
    "    sing.groupby('American_player').sum().sort_values('Europe_won',ascending = False)"
   ]
  },
  {
   "cell_type": "markdown",
   "metadata": {},
   "source": [
    "## Nothing too conclusive.\n",
    "## Let's see what his record was for each year."
   ]
  },
  {
   "cell_type": "code",
   "execution_count": 26,
   "metadata": {
    "collapsed": true
   },
   "outputs": [],
   "source": [
    "lst =df.index.values.tolist() \n",
    "years = set([])\n",
    "for item in lst:\n",
    "    years.add(item[0])\n",
    "years=list(years)"
   ]
  },
  {
   "cell_type": "code",
   "execution_count": 27,
   "metadata": {
    "collapsed": true
   },
   "outputs": [],
   "source": [
    "yearly=[]\n",
    "for year in years:\n",
    "    if 'a' in team:\n",
    "        w = df.loc[year]['America_won'].sum()\n",
    "        l = df.loc[year]['America_lost'].sum()\n",
    "    else:\n",
    "        w = df.loc[year]['Europe_won'].sum()\n",
    "        l = df.loc[year]['Europe_lost'].sum()\n",
    "    yearly.append((w,l))"
   ]
  },
  {
   "cell_type": "code",
   "execution_count": 28,
   "metadata": {
    "collapsed": true
   },
   "outputs": [],
   "source": [
    "yr= {}\n",
    "for k,v in zip(years,yearly):\n",
    "    yr[k]=v"
   ]
  },
  {
   "cell_type": "code",
   "execution_count": 29,
   "metadata": {
    "collapsed": true
   },
   "outputs": [],
   "source": [
    "win=[]\n",
    "loss=[]\n",
    "pct=[]\n",
    "for w,l in yearly:\n",
    "    win.append(w)\n",
    "    loss.append(l)\n",
    "    p=round((w*100/(w+l)),0)\n",
    "    pct.append(p)"
   ]
  },
  {
   "cell_type": "code",
   "execution_count": 30,
   "metadata": {},
   "outputs": [
    {
     "data": {
      "text/plain": [
       "[40.0,\n",
       " 100.0,\n",
       " 60.0,\n",
       " 50.0,\n",
       " 80.0,\n",
       " 100.0,\n",
       " 40.0,\n",
       " 75.0,\n",
       " 60.0,\n",
       " 100.0,\n",
       " 62.0,\n",
       " 67.0,\n",
       " 40.0,\n",
       " 20.0]"
      ]
     },
     "execution_count": 30,
     "metadata": {},
     "output_type": "execute_result"
    }
   ],
   "source": [
    "pct"
   ]
  },
  {
   "cell_type": "code",
   "execution_count": 31,
   "metadata": {},
   "outputs": [
    {
     "data": {
      "image/png": "[encoded data removed]",
      "text/plain": [
       "<matplotlib.figure.Figure at 0xb8f37adfd0>"
      ]
     },
     "metadata": {},
     "output_type": "display_data"
    }
   ],
   "source": [
    "import numpy as np\n",
    "import matplotlib.pyplot as plt\n",
    "%matplotlib inline\n",
    "\n",
    "ind = np.arange(len(years))  # the x locations for the groups\n",
    "\n",
    "fig = plt.figure(figsize=(14, 8))\n",
    "ax = fig.add_subplot(111)\n",
    "\n",
    "ax.plot(pct)\n",
    "# rects1 = ax.bar(ind, win, width, color='b')\n",
    "# rects2 = ax.bar(ind+width, loss, width, color='r')\n",
    "\n",
    "ax.axhline(50, color='r',linestyle='--')\n",
    "\n",
    "# add some;\n",
    "ax.set_ylabel('Percentage of Games Won');\n",
    "ax.set_title('Yearly Performance Average');\n",
    "ax.set_xticks(ind);\n",
    "ax.set_xticklabels( (years),rotation=30 );\n",
    "# ax.legend( (rects1[0], rects2[0]), ('Wins', 'Losses') );"
   ]
  },
  {
   "cell_type": "code",
   "execution_count": 32,
   "metadata": {},
   "outputs": [
    {
     "data": {
      "image/png": "[encoded data removed]",
      "text/plain": [
       "<matplotlib.figure.Figure at 0xb8f3894ac8>"
      ]
     },
     "metadata": {},
     "output_type": "display_data"
    }
   ],
   "source": [
    "import numpy as np\n",
    "import matplotlib.pyplot as plt\n",
    "\n",
    "N = len(years)\n",
    "\n",
    "ind = np.arange(N)  # the x locations for the groups\n",
    "width = 0.35       # the width of the bars\n",
    "\n",
    "fig = plt.figure(figsize=(14, 8))\n",
    "ax = fig.add_subplot(111)\n",
    "\n",
    "rects1 = ax.bar(ind, win, width, color='b')\n",
    "rects2 = ax.bar(ind+width, loss, width, color='r')\n",
    "\n",
    "# add some;\n",
    "ax.set_ylabel('Count');\n",
    "ax.set_title('Wins and losses each year');\n",
    "ax.set_xticks(ind+width/2);\n",
    "ax.set_xticklabels( (years),rotation=30 );\n",
    "ax.legend( (rects1[0], rects2[0]), ('Wins', 'Losses') );"
   ]
  },
  {
   "cell_type": "markdown",
   "metadata": {},
   "source": [
    "### So his worst years were: 2001, and his best years were: 1996, 2008, 2012, 2013. \n",
    "### Let's check how the team did each year he played."
   ]
  },
  {
   "cell_type": "code",
   "execution_count": 33,
   "metadata": {
    "collapsed": true
   },
   "outputs": [],
   "source": [
    "def wincount(dframe=dframe,years=years,team=team):\n",
    "    l=0\n",
    "    w=0\n",
    "    tie=0\n",
    "    for year in years:\n",
    "        f,t = dframe.loc[year]['Europe_won'].value_counts(sort=False)\n",
    "        print(f,t)\n",
    "        if f>t:\n",
    "            l+=1\n",
    "        elif f<t:\n",
    "            w+=1\n",
    "        else:\n",
    "            tie+=1\n",
    "    if 'a' in team:\n",
    "        l,w = w,l\n",
    "    return 'win-loss-tie: {}-{}-{}'.format(w,l,tie)"
   ]
  },
  {
   "cell_type": "code",
   "execution_count": 34,
   "metadata": {},
   "outputs": [
    {
     "name": "stdout",
     "output_type": "stream",
     "text": [
      "15 13\n",
      "13 8\n",
      "13 9\n",
      "12 7\n",
      "12 9\n",
      "12 1\n",
      "9 12\n",
      "11 9\n",
      "12 9\n",
      "11 6\n",
      "12 12\n",
      "8 11\n",
      "5 11\n",
      "2 11\n"
     ]
    },
    {
     "data": {
      "text/plain": [
       "'win-loss-tie: 9-4-1'"
      ]
     },
     "execution_count": 34,
     "metadata": {},
     "output_type": "execute_result"
    }
   ],
   "source": [
    "wincount()"
   ]
  },
  {
   "cell_type": "markdown",
   "metadata": {},
   "source": [
    "### So Europe went 6-9-1 with him on the team.\n",
    "### Let's dig a bit deeper to see how big of a factor location has been for his performance."
   ]
  },
  {
   "cell_type": "code",
   "execution_count": 35,
   "metadata": {
    "collapsed": true
   },
   "outputs": [],
   "source": [
    "locs = pickle.load(open(path+'pkl/dloc','rb'))"
   ]
  },
  {
   "cell_type": "code",
   "execution_count": 36,
   "metadata": {
    "collapsed": true
   },
   "outputs": [],
   "source": [
    "hm = []\n",
    "aw = []\n",
    "\n",
    "for year in years:\n",
    "    if 'USA' in locs[year]:\n",
    "        if 'a' in team.lower():\n",
    "            hm.append(year)\n",
    "        else:\n",
    "            aw.append(year)\n",
    "    else:\n",
    "        if 'a' in team.lower():\n",
    "            aw.append(year)\n",
    "        else:\n",
    "            hm.append(year)\n",
    "away = df.loc[aw]\n",
    "home = df.loc[hm]"
   ]
  },
  {
   "cell_type": "code",
   "execution_count": 37,
   "metadata": {},
   "outputs": [
    {
     "data": {
      "text/plain": [
       "'Played home 4 times, away 10 times'"
      ]
     },
     "execution_count": 37,
     "metadata": {},
     "output_type": "execute_result"
    },
    {
     "data": {
      "text/plain": [
       "\"Home Games: ('Matches Played: 19', 'Win-loss: 12-7', 'Pct: 63.0')\""
      ]
     },
     "execution_count": 37,
     "metadata": {},
     "output_type": "execute_result"
    },
    {
     "data": {
      "text/plain": [
       "\"Away Games: ('Matches Played: 50', 'Win-loss: 31-19', 'Pct: 62.0')\""
      ]
     },
     "execution_count": 37,
     "metadata": {},
     "output_type": "execute_result"
    }
   ],
   "source": [
    "'Played home {} times, away {} times'.format(len(hm),len(aw))\n",
    "\n",
    "'Home Games: {}'.format(stats(home))\n",
    "\n",
    "'Away Games: {}'.format(stats(away))"
   ]
  },
  {
   "cell_type": "markdown",
   "metadata": {},
   "source": [
    "### So he plays better in away games. Interesting!"
   ]
  },
  {
   "cell_type": "markdown",
   "metadata": {},
   "source": [
    "### Let's drill down a bit further to parse out his singles and doubles matches for both home and away "
   ]
  },
  {
   "cell_type": "code",
   "execution_count": 38,
   "metadata": {
    "collapsed": true
   },
   "outputs": [],
   "source": [
    "hsing = stats(home[home['Format']=='Singles'])"
   ]
  },
  {
   "cell_type": "code",
   "execution_count": 39,
   "metadata": {
    "collapsed": true
   },
   "outputs": [],
   "source": [
    "hdub = stats(home[home['Format']=='Doubles'])"
   ]
  },
  {
   "cell_type": "code",
   "execution_count": 40,
   "metadata": {
    "collapsed": true
   },
   "outputs": [],
   "source": [
    "asing = stats(away[away['Format']=='Singles'])"
   ]
  },
  {
   "cell_type": "code",
   "execution_count": 41,
   "metadata": {
    "collapsed": true
   },
   "outputs": [],
   "source": [
    "adub = stats(away[away['Format']=='Doubles'])"
   ]
  },
  {
   "cell_type": "code",
   "execution_count": 42,
   "metadata": {},
   "outputs": [
    {
     "data": {
      "text/plain": [
       "\"Home Singles: ('Matches Played: 6', 'Win-loss: 3-3', 'Pct: 50.0')\""
      ]
     },
     "execution_count": 42,
     "metadata": {},
     "output_type": "execute_result"
    },
    {
     "data": {
      "text/plain": [
       "\"Home Doubles: ('Matches Played: 11', 'Win-loss: 8-3', 'Pct: 73.0')\""
      ]
     },
     "execution_count": 42,
     "metadata": {},
     "output_type": "execute_result"
    },
    {
     "data": {
      "text/plain": [
       "\"Away Singles: ('Matches Played: 20', 'Win-loss: 11-9', 'Pct: 55.0')\""
      ]
     },
     "execution_count": 42,
     "metadata": {},
     "output_type": "execute_result"
    },
    {
     "data": {
      "text/plain": [
       "\"Away Doubles: ('Matches Played: 25', 'Win-loss: 16-9', 'Pct: 64.0')\""
      ]
     },
     "execution_count": 42,
     "metadata": {},
     "output_type": "execute_result"
    }
   ],
   "source": [
    "'Home Singles: {}'.format(hsing)\n",
    "'Home Doubles: {}'.format(hdub)\n",
    "'Away Singles: {}'.format(asing)\n",
    "'Away Doubles: {}'.format(adub)"
   ]
  },
  {
   "cell_type": "markdown",
   "metadata": {},
   "source": [
    "### Away Singles and Doubles are both *very* high!"
   ]
  }
 ],
 "metadata": {
  "kernelspec": {
   "display_name": "Python 3",
   "language": "python",
   "name": "python3"
  },
  "language_info": {
   "codemirror_mode": {
    "name": "ipython",
    "version": 3
   },
   "file_extension": ".py",
   "mimetype": "text/x-python",
   "name": "python",
   "nbconvert_exporter": "python",
   "pygments_lexer": "ipython3",
   "version": "3.5.2"
  }
 },
 "nbformat": 4,
 "nbformat_minor": 2
}
