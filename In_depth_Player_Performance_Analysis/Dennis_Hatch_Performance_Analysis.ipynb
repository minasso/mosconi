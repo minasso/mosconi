{
 "cells": [
  {
   "cell_type": "markdown",
   "metadata": {},
   "source": [
    "### **Purpose: ** "
   ]
  },
  {
   "cell_type": "code",
   "execution_count": 1,
   "metadata": {
    "collapsed": true
   },
   "outputs": [],
   "source": [
    "player = 'Dennis Hatch'\n",
    "team = 'a'"
   ]
  },
  {
   "cell_type": "code",
   "execution_count": 2,
   "metadata": {
    "collapsed": true
   },
   "outputs": [],
   "source": [
    "import pickle\n",
    "import pandas as pd"
   ]
  },
  {
   "cell_type": "code",
   "execution_count": 3,
   "metadata": {},
   "outputs": [
    {
     "name": "stderr",
     "output_type": "stream",
     "text": [
      "c:\\users\\andrew\\appdata\\local\\programs\\python\\python35\\lib\\site-packages\\ipykernel\\__main__.py:5: SettingWithCopyWarning: \n",
      "A value is trying to be set on a copy of a slice from a DataFrame.\n",
      "Try using .loc[row_indexer,col_indexer] = value instead\n",
      "\n",
      "See the caveats in the documentation: http://pandas.pydata.org/pandas-docs/stable/indexing.html#indexing-view-versus-copy\n"
     ]
    }
   ],
   "source": [
    "path = '//DREW/Users/andrew/Desktop/mosconi/'\n",
    "dframe = pickle.load(open(path+'pkl/allyears_clean_locs','rb'))\n",
    "if 'a' in team.lower():\n",
    "    df = dframe[dframe['American_player'].str.contains(player)]\n",
    "    df['Europe_lost'] = ~ df['Europe_won']\n",
    "    df = df[['Format', 'European_player', 'European_score', 'American_score',\n",
    "       'American_player', 'Europe_lost','Europe_won']]\n",
    "    df.columns = ['Format', 'European_player', 'European_score', 'American_score',\n",
    "       'American_player', 'America_won', 'America_lost']\n",
    "else:\n",
    "    df = dframe[dframe['European_player'].str.contains(player)]\n",
    "    df['Europe_lost'] = ~ df['Europe_won']"
   ]
  },
  {
   "cell_type": "code",
   "execution_count": 4,
   "metadata": {
    "collapsed": true
   },
   "outputs": [],
   "source": [
    "def stats(df):\n",
    "    try:\n",
    "        if 'a' in team.lower():\n",
    "            win = df['America_won'].sum()\n",
    "            loss = df['America_lost'].sum()\n",
    "        else:\n",
    "            win = df['Europe_won'].sum()\n",
    "            loss = df['Europe_lost'].sum()\n",
    "        mp= win+loss\n",
    "        wl = 'Win-loss: {}-{}'.format(win,loss)\n",
    "        pct = round(win/(win+loss)*100,0)\n",
    "        return('Matches Played: {}'.format(mp),wl,'Pct: {}'.format(pct))\n",
    "    except:\n",
    "        return('No matches to display')"
   ]
  },
  {
   "cell_type": "markdown",
   "metadata": {},
   "source": [
    "### Lets have a quick look at his overall stats by checking out his singles, doubles, and team stats."
   ]
  },
  {
   "cell_type": "code",
   "execution_count": 5,
   "metadata": {
    "collapsed": true
   },
   "outputs": [],
   "source": [
    "sing = df[df['Format']=='Singles']\n",
    "dub = df[df['Format']=='Doubles']\n",
    "teams = df[df['Format']=='Teams']\n",
    "triples = df[df['Format']=='Triples'] "
   ]
  },
  {
   "cell_type": "code",
   "execution_count": 6,
   "metadata": {},
   "outputs": [
    {
     "data": {
      "text/plain": [
       "\"Overall: ('Matches Played: 23', 'Win-loss: 11-12', 'Pct: 48.0')\""
      ]
     },
     "execution_count": 6,
     "metadata": {},
     "output_type": "execute_result"
    },
    {
     "data": {
      "text/plain": [
       "\"Singles: ('Matches Played: 7', 'Win-loss: 4-3', 'Pct: 57.0')\""
      ]
     },
     "execution_count": 6,
     "metadata": {},
     "output_type": "execute_result"
    },
    {
     "data": {
      "text/plain": [
       "\"Doubles: ('Matches Played: 12', 'Win-loss: 5-7', 'Pct: 42.0')\""
      ]
     },
     "execution_count": 6,
     "metadata": {},
     "output_type": "execute_result"
    },
    {
     "data": {
      "text/plain": [
       "\"Teams:   ('Matches Played: 4', 'Win-loss: 2-2', 'Pct: 50.0')\""
      ]
     },
     "execution_count": 6,
     "metadata": {},
     "output_type": "execute_result"
    },
    {
     "data": {
      "text/plain": [
       "'Triples: No matches to display'"
      ]
     },
     "execution_count": 6,
     "metadata": {},
     "output_type": "execute_result"
    }
   ],
   "source": [
    "'Overall: {}'.format(stats(df))\n",
    "'Singles: {}'.format(stats(sing))\n",
    "'Doubles: {}'.format(stats(dub))\n",
    "'Teams:   {}'.format(stats(teams))\n",
    "'Triples: {}'.format(stats(triples))"
   ]
  },
  {
   "cell_type": "markdown",
   "metadata": {},
   "source": [
    "## So he plays better in singles matches (57% vs. 42%) \n",
    "### Let's see if he plays better with certain partners. "
   ]
  },
  {
   "cell_type": "code",
   "execution_count": 7,
   "metadata": {},
   "outputs": [
    {
     "data": {
      "text/html": [
       "<div>\n",
       "<table border=\"1\" class=\"dataframe\">\n",
       "  <thead>\n",
       "    <tr style=\"text-align: right;\">\n",
       "      <th></th>\n",
       "      <th>America_won</th>\n",
       "      <th>America_lost</th>\n",
       "    </tr>\n",
       "    <tr>\n",
       "      <th>Partner</th>\n",
       "      <th></th>\n",
       "      <th></th>\n",
       "    </tr>\n",
       "  </thead>\n",
       "  <tbody>\n",
       "    <tr>\n",
       "      <th>Shane Van Boening</th>\n",
       "      <td>2.0</td>\n",
       "      <td>0.0</td>\n",
       "    </tr>\n",
       "    <tr>\n",
       "      <th>Johnny Archer</th>\n",
       "      <td>1.0</td>\n",
       "      <td>2.0</td>\n",
       "    </tr>\n",
       "    <tr>\n",
       "      <th>Rodney Morris</th>\n",
       "      <td>1.0</td>\n",
       "      <td>1.0</td>\n",
       "    </tr>\n",
       "    <tr>\n",
       "      <th>Óscar Domínguez</th>\n",
       "      <td>1.0</td>\n",
       "      <td>0.0</td>\n",
       "    </tr>\n",
       "    <tr>\n",
       "      <th>Brandon Shuff</th>\n",
       "      <td>0.0</td>\n",
       "      <td>1.0</td>\n",
       "    </tr>\n",
       "    <tr>\n",
       "      <th>Corey Deuel</th>\n",
       "      <td>0.0</td>\n",
       "      <td>1.0</td>\n",
       "    </tr>\n",
       "    <tr>\n",
       "      <th>Earl Strickland</th>\n",
       "      <td>0.0</td>\n",
       "      <td>1.0</td>\n",
       "    </tr>\n",
       "    <tr>\n",
       "      <th>Mike Dechaine</th>\n",
       "      <td>0.0</td>\n",
       "      <td>1.0</td>\n",
       "    </tr>\n",
       "  </tbody>\n",
       "</table>\n",
       "</div>"
      ],
      "text/plain": [
       "                   America_won  America_lost\n",
       "Partner                                     \n",
       "Shane Van Boening          2.0           0.0\n",
       "Johnny Archer              1.0           2.0\n",
       "Rodney Morris              1.0           1.0\n",
       "Óscar Domínguez            1.0           0.0\n",
       "Brandon Shuff              0.0           1.0\n",
       "Corey Deuel                0.0           1.0\n",
       "Earl Strickland            0.0           1.0\n",
       "Mike Dechaine              0.0           1.0"
      ]
     },
     "execution_count": 7,
     "metadata": {},
     "output_type": "execute_result"
    }
   ],
   "source": [
    "if 'a' in team.lower():\n",
    "    dub = dub[['European_player','American_player','America_won','America_lost']]\n",
    "    dub['Partner']=dub['American_player'].str.replace(player,'')\n",
    "    dub['Partner']=dub['Partner'].str.replace('&','')\n",
    "    dub['Partner']=dub['Partner'].str.strip()\n",
    "    dub.groupby('Partner').sum().sort_values(['America_won','America_lost'],ascending=False)    \n",
    "else:\n",
    "    dub = dub[['European_player','American_player','Europe_won','Europe_lost']]\n",
    "    dub['Partner']=dub['European_player'].str.replace(player,'')\n",
    "    dub['Partner']=dub['Partner'].str.replace('&','')\n",
    "    dub['Partner']=dub['Partner'].str.strip()\n",
    "    dub.groupby('Partner').sum().sort_values(['Europe_won','Europe_lost'],ascending=False)"
   ]
  },
  {
   "cell_type": "code",
   "execution_count": 25,
   "metadata": {
    "collapsed": true
   },
   "outputs": [],
   "source": [
    "import qgrid"
   ]
  },
  {
   "cell_type": "code",
   "execution_count": 27,
   "metadata": {},
   "outputs": [],
   "source": [
    "qgrid.nbinstall()"
   ]
  },
  {
   "cell_type": "code",
   "execution_count": null,
   "metadata": {
    "collapsed": true
   },
   "outputs": [],
   "source": [
    "%%bash jupyter nbextension enable --py --sys-prefix widgetsnbextension"
   ]
  },
  {
   "cell_type": "code",
   "execution_count": 34,
   "metadata": {},
   "outputs": [
    {
     "name": "stderr",
     "output_type": "stream",
     "text": [
      "Widget Javascript not detected.  It may not be installed or enabled properly.\n"
     ]
    },
    {
     "data": {
      "application/vnd.jupyter.widget-view+json": {
       "model_id": "bb3d21c087b647f8a5cf16acdef5426b"
      }
     },
     "metadata": {},
     "output_type": "display_data"
    }
   ],
   "source": [
    "qgrid.show_grid(dframe)"
   ]
  },
  {
   "cell_type": "markdown",
   "metadata": {},
   "source": [
    "### He plays rather well with Shane."
   ]
  },
  {
   "cell_type": "markdown",
   "metadata": {},
   "source": [
    "## Let's see if he performs better or worse against certain opponents in singles matches."
   ]
  },
  {
   "cell_type": "code",
   "execution_count": 8,
   "metadata": {},
   "outputs": [
    {
     "data": {
      "text/html": [
       "<div>\n",
       "<table border=\"1\" class=\"dataframe\">\n",
       "  <thead>\n",
       "    <tr style=\"text-align: right;\">\n",
       "      <th></th>\n",
       "      <th>America_won</th>\n",
       "      <th>America_lost</th>\n",
       "    </tr>\n",
       "    <tr>\n",
       "      <th>European_player</th>\n",
       "      <th></th>\n",
       "      <th></th>\n",
       "    </tr>\n",
       "  </thead>\n",
       "  <tbody>\n",
       "    <tr>\n",
       "      <th>Niels Feijen</th>\n",
       "      <td>2.0</td>\n",
       "      <td>0.0</td>\n",
       "    </tr>\n",
       "    <tr>\n",
       "      <th>Nick Ekonomopoulos</th>\n",
       "      <td>1.0</td>\n",
       "      <td>0.0</td>\n",
       "    </tr>\n",
       "    <tr>\n",
       "      <th>Nick van den Berg</th>\n",
       "      <td>1.0</td>\n",
       "      <td>0.0</td>\n",
       "    </tr>\n",
       "    <tr>\n",
       "      <th>Chris Melling</th>\n",
       "      <td>0.0</td>\n",
       "      <td>1.0</td>\n",
       "    </tr>\n",
       "    <tr>\n",
       "      <th>Darren Appleton</th>\n",
       "      <td>0.0</td>\n",
       "      <td>1.0</td>\n",
       "    </tr>\n",
       "    <tr>\n",
       "      <th>Ralf Souquet</th>\n",
       "      <td>0.0</td>\n",
       "      <td>1.0</td>\n",
       "    </tr>\n",
       "  </tbody>\n",
       "</table>\n",
       "</div>"
      ],
      "text/plain": [
       "                    America_won  America_lost\n",
       "European_player                              \n",
       "Niels Feijen                2.0           0.0\n",
       "Nick Ekonomopoulos          1.0           0.0\n",
       "Nick van den Berg           1.0           0.0\n",
       "Chris Melling               0.0           1.0\n",
       "Darren Appleton             0.0           1.0\n",
       "Ralf Souquet                0.0           1.0"
      ]
     },
     "execution_count": 8,
     "metadata": {},
     "output_type": "execute_result"
    }
   ],
   "source": [
    "if 'a' in team.lower():\n",
    "    sing.groupby('European_player').sum().sort_values('America_won',ascending = False)\n",
    "else:\n",
    "    sing.groupby('American_player').sum().sort_values('Europe_won',ascending = False)"
   ]
  },
  {
   "cell_type": "markdown",
   "metadata": {},
   "source": [
    "## He plays well against Niels Feijen.\n",
    "## Let's see what his record was for each year."
   ]
  },
  {
   "cell_type": "code",
   "execution_count": 9,
   "metadata": {
    "collapsed": true
   },
   "outputs": [],
   "source": [
    "lst =df.index.values.tolist() \n",
    "years = set([])\n",
    "for item in lst:\n",
    "    years.add(item[0])\n",
    "years=list(years)"
   ]
  },
  {
   "cell_type": "code",
   "execution_count": 10,
   "metadata": {
    "collapsed": true
   },
   "outputs": [],
   "source": [
    "yearly=[]\n",
    "for year in years:\n",
    "    if 'a' in team:\n",
    "        w = df.loc[year]['America_won'].sum()\n",
    "        l = df.loc[year]['America_lost'].sum()\n",
    "    else:\n",
    "        w = df.loc[year]['Europe_won'].sum()\n",
    "        l = df.loc[year]['Europe_lost'].sum()\n",
    "    yearly.append((w,l))"
   ]
  },
  {
   "cell_type": "code",
   "execution_count": 11,
   "metadata": {
    "collapsed": true
   },
   "outputs": [],
   "source": [
    "yr= {}\n",
    "for k,v in zip(years,yearly):\n",
    "    yr[k]=v"
   ]
  },
  {
   "cell_type": "code",
   "execution_count": 12,
   "metadata": {
    "collapsed": true
   },
   "outputs": [],
   "source": [
    "win=[]\n",
    "loss=[]\n",
    "pct=[]\n",
    "for w,l in yearly:\n",
    "    win.append(w)\n",
    "    loss.append(l)\n",
    "    p=round((w*100/(w+l)),0)\n",
    "    pct.append(p)"
   ]
  },
  {
   "cell_type": "code",
   "execution_count": 13,
   "metadata": {},
   "outputs": [
    {
     "data": {
      "text/plain": [
       "[(5, 1), (3, 3), (3, 3), (0, 5)]"
      ]
     },
     "execution_count": 13,
     "metadata": {},
     "output_type": "execute_result"
    }
   ],
   "source": [
    "yearly"
   ]
  },
  {
   "cell_type": "code",
   "execution_count": 14,
   "metadata": {},
   "outputs": [
    {
     "data": {
      "image/png": "[encoded data removed]",
      "text/plain": [
       "<matplotlib.figure.Figure at 0xc85c27aa20>"
      ]
     },
     "metadata": {},
     "output_type": "display_data"
    }
   ],
   "source": [
    "import numpy as np\n",
    "import matplotlib.pyplot as plt\n",
    "%matplotlib inline\n",
    "\n",
    "ind = np.arange(len(years))  # the x locations for the groups\n",
    "\n",
    "fig = plt.figure(figsize=(14, 8))\n",
    "ax = fig.add_subplot(111)\n",
    "\n",
    "ax.plot(pct,linestyle='-',marker='.',markersize=12)\n",
    "ax.axhline(50, color='r',linestyle='--')\n",
    "\n",
    "# add some;\n",
    "ax.set_ylabel('Percentage of Games Won');\n",
    "ax.set_title('Yearly Performance Average');\n",
    "ax.set_xticks(ind);\n",
    "ax.set_xticklabels( (years),rotation=30 );\n",
    "# ax.legend( (rects1[0], rects2[0]), ('Wins', 'Losses') );"
   ]
  },
  {
   "cell_type": "markdown",
   "metadata": {},
   "source": [
    "### So his only bad year was also his most recent: 2013 (0-4)\n",
    "### Let's check how the team did each year he played."
   ]
  },
  {
   "cell_type": "code",
   "execution_count": 15,
   "metadata": {
    "collapsed": true
   },
   "outputs": [],
   "source": [
    "def wincount(dframe=dframe,years=years,team=team):\n",
    "    l=0\n",
    "    w=0\n",
    "    tie=0\n",
    "    for year in years:\n",
    "        f,t = dframe.loc[year]['Europe_won'].value_counts(sort=False)\n",
    "        print(f,t)\n",
    "        if f>t:\n",
    "            l+=1\n",
    "        elif f<t:\n",
    "            w+=1\n",
    "        else:\n",
    "            tie+=1\n",
    "    if 'a' in team:\n",
    "        l,w = w,l\n",
    "    return 'win-loss-tie: {}-{}-{}'.format(w,l,tie)"
   ]
  },
  {
   "cell_type": "code",
   "execution_count": 16,
   "metadata": {},
   "outputs": [
    {
     "name": "stdout",
     "output_type": "stream",
     "text": [
      "11 7\n",
      "8 11\n",
      "9 11\n",
      "2 11\n"
     ]
    },
    {
     "data": {
      "text/plain": [
       "'win-loss-tie: 1-3-0'"
      ]
     },
     "execution_count": 16,
     "metadata": {},
     "output_type": "execute_result"
    }
   ],
   "source": [
    "wincount()"
   ]
  },
  {
   "cell_type": "markdown",
   "metadata": {},
   "source": [
    "### So America went 1-3 with him on the team.\n",
    "### Let's dig a bit deeper to see how big of a factor location has been for his performance."
   ]
  },
  {
   "cell_type": "code",
   "execution_count": 17,
   "metadata": {
    "collapsed": true
   },
   "outputs": [],
   "source": [
    "locs = pickle.load(open(path+'pkl/dloc','rb'))"
   ]
  },
  {
   "cell_type": "code",
   "execution_count": 18,
   "metadata": {
    "collapsed": true
   },
   "outputs": [],
   "source": [
    "hm = []\n",
    "aw = []\n",
    "\n",
    "for year in years:\n",
    "    if 'USA' in locs[year]:\n",
    "        if 'a' in team.lower():\n",
    "            hm.append(year)\n",
    "        else:\n",
    "            aw.append(year)\n",
    "    else:\n",
    "        if 'a' in team.lower():\n",
    "            aw.append(year)\n",
    "        else:\n",
    "            hm.append(year)\n",
    "away = df.loc[aw]\n",
    "home = df.loc[hm]"
   ]
  },
  {
   "cell_type": "code",
   "execution_count": 19,
   "metadata": {},
   "outputs": [
    {
     "data": {
      "text/plain": [
       "'Played home 2 times, away 2 times'"
      ]
     },
     "execution_count": 19,
     "metadata": {},
     "output_type": "execute_result"
    },
    {
     "data": {
      "text/plain": [
       "\"Home Games: ('Matches Played: 11', 'Win-loss: 5-6', 'Pct: 45.0')\""
      ]
     },
     "execution_count": 19,
     "metadata": {},
     "output_type": "execute_result"
    },
    {
     "data": {
      "text/plain": [
       "\"Away Games: ('Matches Played: 12', 'Win-loss: 6-6', 'Pct: 50.0')\""
      ]
     },
     "execution_count": 19,
     "metadata": {},
     "output_type": "execute_result"
    }
   ],
   "source": [
    "'Played home {} times, away {} times'.format(len(hm),len(aw))\n",
    "\n",
    "'Home Games: {}'.format(stats(home))\n",
    "\n",
    "'Away Games: {}'.format(stats(away))"
   ]
  },
  {
   "cell_type": "markdown",
   "metadata": {},
   "source": [
    "### So he plays slightly better in away games (50% vs 45%)"
   ]
  },
  {
   "cell_type": "markdown",
   "metadata": {},
   "source": [
    "### Let's drill down a bit further to parse out his singles and doubles matches for both home and away "
   ]
  },
  {
   "cell_type": "code",
   "execution_count": 20,
   "metadata": {
    "collapsed": true
   },
   "outputs": [],
   "source": [
    "hsing = stats(home[home['Format']=='Singles'])"
   ]
  },
  {
   "cell_type": "code",
   "execution_count": 21,
   "metadata": {
    "collapsed": true
   },
   "outputs": [],
   "source": [
    "hdub = stats(home[home['Format']=='Doubles'])"
   ]
  },
  {
   "cell_type": "code",
   "execution_count": 22,
   "metadata": {
    "collapsed": true
   },
   "outputs": [],
   "source": [
    "asing = stats(away[away['Format']=='Singles'])"
   ]
  },
  {
   "cell_type": "code",
   "execution_count": 23,
   "metadata": {
    "collapsed": true
   },
   "outputs": [],
   "source": [
    "adub = stats(away[away['Format']=='Doubles'])"
   ]
  },
  {
   "cell_type": "code",
   "execution_count": 24,
   "metadata": {},
   "outputs": [
    {
     "data": {
      "text/plain": [
       "\"Home Singles: ('Matches Played: 3', 'Win-loss: 2-1', 'Pct: 67.0')\""
      ]
     },
     "execution_count": 24,
     "metadata": {},
     "output_type": "execute_result"
    },
    {
     "data": {
      "text/plain": [
       "\"Home Doubles: ('Matches Played: 6', 'Win-loss: 2-4', 'Pct: 33.0')\""
      ]
     },
     "execution_count": 24,
     "metadata": {},
     "output_type": "execute_result"
    },
    {
     "data": {
      "text/plain": [
       "\"Away Singles: ('Matches Played: 4', 'Win-loss: 2-2', 'Pct: 50.0')\""
      ]
     },
     "execution_count": 24,
     "metadata": {},
     "output_type": "execute_result"
    },
    {
     "data": {
      "text/plain": [
       "\"Away Doubles: ('Matches Played: 6', 'Win-loss: 3-3', 'Pct: 50.0')\""
      ]
     },
     "execution_count": 24,
     "metadata": {},
     "output_type": "execute_result"
    }
   ],
   "source": [
    "'Home Singles: {}'.format(hsing)\n",
    "'Home Doubles: {}'.format(hdub)\n",
    "'Away Singles: {}'.format(asing)\n",
    "'Away Doubles: {}'.format(adub)"
   ]
  },
  {
   "cell_type": "markdown",
   "metadata": {},
   "source": [
    "### Home singles is strong (2-1), while home doubles is weak (2-4)"
   ]
  },
  {
   "cell_type": "markdown",
   "metadata": {},
   "source": [
    "# Summary\n",
    "- Overall win percentage of 48%\n",
    "- Plays slightly better in doubles than singles (57% vs 42%)\n",
    "- Plays well with Shane (2-0) and against Neils (2-0)\n",
    "- America is 1-3 with him on the team\n",
    "- Home singles is strong (2-1), home doubles is weak (2-4)\n",
    "- Mvp performance in his first appearance (2009: (5-1))\n",
    "- His most recent performance was also his worst (2013: (0-4))"
   ]
  }
 ],
 "metadata": {
  "kernelspec": {
   "display_name": "Python 3",
   "language": "python",
   "name": "python3"
  },
  "language_info": {
   "codemirror_mode": {
    "name": "ipython",
    "version": 3
   },
   "file_extension": ".py",
   "mimetype": "text/x-python",
   "name": "python",
   "nbconvert_exporter": "python",
   "pygments_lexer": "ipython3",
   "version": "3.5.2"
  }
 },
 "nbformat": 4,
 "nbformat_minor": 2
}
