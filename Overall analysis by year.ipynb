{
 "cells": [
  {
   "cell_type": "code",
   "execution_count": 3,
   "metadata": {
    "collapsed": true
   },
   "outputs": [],
   "source": [
    "import pandas as pd\n",
    "import pickle"
   ]
  },
  {
   "cell_type": "code",
   "execution_count": 4,
   "metadata": {
    "collapsed": true
   },
   "outputs": [],
   "source": [
    "df = pickle.load(open('pkl/allyears_clean','rb'))"
   ]
  },
  {
   "cell_type": "markdown",
   "metadata": {},
   "source": [
    "Let see how the teams matches went each year according to who was home and who was away"
   ]
  },
  {
   "cell_type": "code",
   "execution_count": 30,
   "metadata": {},
   "outputs": [
    {
     "name": "stderr",
     "output_type": "stream",
     "text": [
      "c:\\users\\andrew\\appdata\\local\\programs\\python\\python35\\lib\\site-packages\\ipykernel\\__main__.py:1: ParserWarning: Falling back to the 'python' engine because the 'c' engine does not support regex separators (separators > 1 char and different from '\\s+' are interpreted as regex); you can avoid this warning by specifying engine='python'.\n",
      "  if __name__ == '__main__':\n"
     ]
    }
   ],
   "source": [
    "yearly = pd.read_csv('yearly.csv','rb')"
   ]
  },
  {
   "cell_type": "code",
   "execution_count": 31,
   "metadata": {},
   "outputs": [
    {
     "data": {
      "text/html": [
       "<div>\n",
       "<table border=\"1\" class=\"dataframe\">\n",
       "  <thead>\n",
       "    <tr style=\"text-align: right;\">\n",
       "      <th></th>\n",
       "      <th>Year,Venue,Victors,Score,Losers,MVP</th>\n",
       "    </tr>\n",
       "  </thead>\n",
       "  <tbody>\n",
       "    <tr>\n",
       "      <th>0</th>\n",
       "      <td>1994,\"Romford, London, England\", USA,16–12, Eu...</td>\n",
       "    </tr>\n",
       "    <tr>\n",
       "      <th>1</th>\n",
       "      <td>1995,\"Basildon, Essex, England\", Europe,16–15,...</td>\n",
       "    </tr>\n",
       "    <tr>\n",
       "      <th>2</th>\n",
       "      <td>1996,\"Dagenham, London, England\", USA,15–13, E...</td>\n",
       "    </tr>\n",
       "    <tr>\n",
       "      <th>3</th>\n",
       "      <td>1997,\"Bethnal Green, London, England\", USA,13–...</td>\n",
       "    </tr>\n",
       "    <tr>\n",
       "      <th>4</th>\n",
       "      <td>1998,\"Bethnal Green, London, England\", USA,13–...</td>\n",
       "    </tr>\n",
       "    <tr>\n",
       "      <th>5</th>\n",
       "      <td>1999,\"Bethnal Green, London, England\", USA,12–...</td>\n",
       "    </tr>\n",
       "    <tr>\n",
       "      <th>6</th>\n",
       "      <td>2000,\"Bethnal Green, London, England\", USA,12–...</td>\n",
       "    </tr>\n",
       "    <tr>\n",
       "      <th>7</th>\n",
       "      <td>2001,\"Bethnal Green, London, England\", USA,12–...</td>\n",
       "    </tr>\n",
       "    <tr>\n",
       "      <th>8</th>\n",
       "      <td>2002,\"Bethnal Green, London, England\", Europe,...</td>\n",
       "    </tr>\n",
       "    <tr>\n",
       "      <th>9</th>\n",
       "      <td>2003,\"Las Vegas, Nevada, USA\", USA,11–9, Europ...</td>\n",
       "    </tr>\n",
       "    <tr>\n",
       "      <th>10</th>\n",
       "      <td>2004,\"Egmond aan Zee, Netherlands\", USA,12–9, ...</td>\n",
       "    </tr>\n",
       "    <tr>\n",
       "      <th>11</th>\n",
       "      <td>2005,\"Las Vegas, Nevada, USA\", USA,11–6, Europ...</td>\n",
       "    </tr>\n",
       "    <tr>\n",
       "      <th>12</th>\n",
       "      <td>2006,\"Rotterdam, Netherlands\", Tied,12–12, Tie...</td>\n",
       "    </tr>\n",
       "    <tr>\n",
       "      <th>13</th>\n",
       "      <td>2007,\"Las Vegas, Nevada, USA\", Europe,11–8, US...</td>\n",
       "    </tr>\n",
       "    <tr>\n",
       "      <th>14</th>\n",
       "      <td>2008,\"St. Julian's, Malta\", Europe,11–5, USA,F...</td>\n",
       "    </tr>\n",
       "    <tr>\n",
       "      <th>15</th>\n",
       "      <td>2009,\"Las Vegas, Nevada, USA\", USA,11–7, Europ...</td>\n",
       "    </tr>\n",
       "    <tr>\n",
       "      <th>16</th>\n",
       "      <td>2010,\"Bethnal Green, London, England\", Europe,...</td>\n",
       "    </tr>\n",
       "    <tr>\n",
       "      <th>17</th>\n",
       "      <td>2011,\"Las Vegas, Nevada, USA\", Europe,11–7, US...</td>\n",
       "    </tr>\n",
       "    <tr>\n",
       "      <th>18</th>\n",
       "      <td>2012,\"Bethnal Green, London, England\", Europe,...</td>\n",
       "    </tr>\n",
       "    <tr>\n",
       "      <th>19</th>\n",
       "      <td>2013,\"Las Vegas, Nevada, USA\", Europe,11–2, US...</td>\n",
       "    </tr>\n",
       "    <tr>\n",
       "      <th>20</th>\n",
       "      <td>2014,\"Tower Circus, Blackpool, England\", Europ...</td>\n",
       "    </tr>\n",
       "    <tr>\n",
       "      <th>21</th>\n",
       "      <td>2015,\"Las Vegas, Nevada, USA\", Europe,11–7, US...</td>\n",
       "    </tr>\n",
       "    <tr>\n",
       "      <th>22</th>\n",
       "      <td>2016,\"Alexandra Palace, London, England\", Euro...</td>\n",
       "    </tr>\n",
       "  </tbody>\n",
       "</table>\n",
       "</div>"
      ],
      "text/plain": [
       "                  Year,Venue,Victors,Score,Losers,MVP\n",
       "0   1994,\"Romford, London, England\", USA,16–12, Eu...\n",
       "1   1995,\"Basildon, Essex, England\", Europe,16–15,...\n",
       "2   1996,\"Dagenham, London, England\", USA,15–13, E...\n",
       "3   1997,\"Bethnal Green, London, England\", USA,13–...\n",
       "4   1998,\"Bethnal Green, London, England\", USA,13–...\n",
       "5   1999,\"Bethnal Green, London, England\", USA,12–...\n",
       "6   2000,\"Bethnal Green, London, England\", USA,12–...\n",
       "7   2001,\"Bethnal Green, London, England\", USA,12–...\n",
       "8   2002,\"Bethnal Green, London, England\", Europe,...\n",
       "9   2003,\"Las Vegas, Nevada, USA\", USA,11–9, Europ...\n",
       "10  2004,\"Egmond aan Zee, Netherlands\", USA,12–9, ...\n",
       "11  2005,\"Las Vegas, Nevada, USA\", USA,11–6, Europ...\n",
       "12  2006,\"Rotterdam, Netherlands\", Tied,12–12, Tie...\n",
       "13  2007,\"Las Vegas, Nevada, USA\", Europe,11–8, US...\n",
       "14  2008,\"St. Julian's, Malta\", Europe,11–5, USA,F...\n",
       "15  2009,\"Las Vegas, Nevada, USA\", USA,11–7, Europ...\n",
       "16  2010,\"Bethnal Green, London, England\", Europe,...\n",
       "17  2011,\"Las Vegas, Nevada, USA\", Europe,11–7, US...\n",
       "18  2012,\"Bethnal Green, London, England\", Europe,...\n",
       "19  2013,\"Las Vegas, Nevada, USA\", Europe,11–2, US...\n",
       "20  2014,\"Tower Circus, Blackpool, England\", Europ...\n",
       "21  2015,\"Las Vegas, Nevada, USA\", Europe,11–7, US...\n",
       "22  2016,\"Alexandra Palace, London, England\", Euro..."
      ]
     },
     "execution_count": 31,
     "metadata": {},
     "output_type": "execute_result"
    }
   ],
   "source": [
    "yearly"
   ]
  }
 ],
 "metadata": {
  "kernelspec": {
   "display_name": "Python 3",
   "language": "python",
   "name": "python3"
  },
  "language_info": {
   "codemirror_mode": {
    "name": "ipython",
    "version": 3
   },
   "file_extension": ".py",
   "mimetype": "text/x-python",
   "name": "python",
   "nbconvert_exporter": "python",
   "pygments_lexer": "ipython3",
   "version": "3.5.2"
  }
 },
 "nbformat": 4,
 "nbformat_minor": 2
}
