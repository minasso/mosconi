{
 "cells": [
  {
   "cell_type": "markdown",
   "metadata": {},
   "source": [
    "Copy and pasted locations from https://en.wikipedia.org/wiki/Mosconi_Cup and saved in 'locations.csv'"
   ]
  },
  {
   "cell_type": "code",
   "execution_count": 1,
   "metadata": {
    "collapsed": true
   },
   "outputs": [],
   "source": [
    "import pandas as pd"
   ]
  },
  {
   "cell_type": "code",
   "execution_count": 4,
   "metadata": {
    "collapsed": true
   },
   "outputs": [],
   "source": [
    "path = 'locations.csv'\n",
    "locs = pd.read_csv(path)"
   ]
  },
  {
   "cell_type": "code",
   "execution_count": 9,
   "metadata": {
    "collapsed": true
   },
   "outputs": [],
   "source": [
    "locs.set_index('Year',inplace=True)"
   ]
  },
  {
   "cell_type": "code",
   "execution_count": 16,
   "metadata": {
    "collapsed": true
   },
   "outputs": [],
   "source": [
    "d = pd.DataFrame.to_dict(locs)"
   ]
  },
  {
   "cell_type": "code",
   "execution_count": 17,
   "metadata": {},
   "outputs": [
    {
     "data": {
      "text/plain": [
       "{'Venue': {1994: 'Romford,\\xa0London,\\xa0England',\n",
       "  1995: 'Basildon,\\xa0Essex,\\xa0England',\n",
       "  1996: 'Dagenham,\\xa0London,\\xa0England',\n",
       "  1997: 'Bethnal Green,\\xa0London,\\xa0England',\n",
       "  1998: 'Bethnal Green,\\xa0London,\\xa0England',\n",
       "  1999: 'Bethnal Green,\\xa0London,\\xa0England',\n",
       "  2000: 'Bethnal Green,\\xa0London,\\xa0England',\n",
       "  2001: 'Bethnal Green,\\xa0London,\\xa0England',\n",
       "  2002: 'Bethnal Green,\\xa0London,\\xa0England',\n",
       "  2003: 'Las Vegas,\\xa0Nevada,\\xa0USA',\n",
       "  2004: 'Egmond aan Zee,\\xa0Netherlands',\n",
       "  2005: 'Las Vegas,\\xa0Nevada,\\xa0USA',\n",
       "  2006: 'Rotterdam,\\xa0Netherlands',\n",
       "  2007: 'Las Vegas,\\xa0Nevada,\\xa0USA',\n",
       "  2008: \"St. Julian's,\\xa0Malta\",\n",
       "  2009: 'Las Vegas,\\xa0Nevada,\\xa0USA',\n",
       "  2010: 'Bethnal Green,\\xa0London,\\xa0England',\n",
       "  2011: 'Las Vegas,\\xa0Nevada,\\xa0USA',\n",
       "  2012: 'Bethnal Green,\\xa0London,\\xa0England',\n",
       "  2013: 'Las Vegas,\\xa0Nevada,\\xa0USA',\n",
       "  2014: 'Tower Circus,\\xa0Blackpool,\\xa0England',\n",
       "  2015: 'Las Vegas,\\xa0Nevada,\\xa0USA',\n",
       "  2016: 'Alexandra Palace,\\xa0London,\\xa0England'}}"
      ]
     },
     "execution_count": 17,
     "metadata": {},
     "output_type": "execute_result"
    }
   ],
   "source": [
    "d"
   ]
  },
  {
   "cell_type": "code",
   "execution_count": 27,
   "metadata": {},
   "outputs": [
    {
     "data": {
      "text/plain": [
       "{1994: 'Romford,\\xa0London,\\xa0England',\n",
       " 1995: 'Basildon,\\xa0Essex,\\xa0England',\n",
       " 1996: 'Dagenham,\\xa0London,\\xa0England',\n",
       " 1997: 'Bethnal Green,\\xa0London,\\xa0England',\n",
       " 1998: 'Bethnal Green,\\xa0London,\\xa0England',\n",
       " 1999: 'Bethnal Green,\\xa0London,\\xa0England',\n",
       " 2000: 'Bethnal Green,\\xa0London,\\xa0England',\n",
       " 2001: 'Bethnal Green,\\xa0London,\\xa0England',\n",
       " 2002: 'Bethnal Green,\\xa0London,\\xa0England',\n",
       " 2003: 'Las Vegas,\\xa0Nevada,\\xa0USA',\n",
       " 2004: 'Egmond aan Zee,\\xa0Netherlands',\n",
       " 2005: 'Las Vegas,\\xa0Nevada,\\xa0USA',\n",
       " 2006: 'Rotterdam,\\xa0Netherlands',\n",
       " 2007: 'Las Vegas,\\xa0Nevada,\\xa0USA',\n",
       " 2008: \"St. Julian's,\\xa0Malta\",\n",
       " 2009: 'Las Vegas,\\xa0Nevada,\\xa0USA',\n",
       " 2010: 'Bethnal Green,\\xa0London,\\xa0England',\n",
       " 2011: 'Las Vegas,\\xa0Nevada,\\xa0USA',\n",
       " 2012: 'Bethnal Green,\\xa0London,\\xa0England',\n",
       " 2013: 'Las Vegas,\\xa0Nevada,\\xa0USA',\n",
       " 2014: 'Tower Circus,\\xa0Blackpool,\\xa0England',\n",
       " 2015: 'Las Vegas,\\xa0Nevada,\\xa0USA',\n",
       " 2016: 'Alexandra Palace,\\xa0London,\\xa0England'}"
      ]
     },
     "execution_count": 27,
     "metadata": {},
     "output_type": "execute_result"
    }
   ],
   "source": [
    "#get rid of outer dictionary\n",
    "dic={}\n",
    "for i in range(1994,2017):\n",
    "#     print(d['Venue'][i])\n",
    "    dic[i]=d['Venue'][i]\n",
    "dic"
   ]
  },
  {
   "cell_type": "code",
   "execution_count": 32,
   "metadata": {},
   "outputs": [
    {
     "data": {
      "text/plain": [
       "{1994: 'Romford, London, England',\n",
       " 1995: 'Basildon, Essex, England',\n",
       " 1996: 'Dagenham, London, England',\n",
       " 1997: 'Bethnal Green, London, England',\n",
       " 1998: 'Bethnal Green, London, England',\n",
       " 1999: 'Bethnal Green, London, England',\n",
       " 2000: 'Bethnal Green, London, England',\n",
       " 2001: 'Bethnal Green, London, England',\n",
       " 2002: 'Bethnal Green, London, England',\n",
       " 2003: 'Las Vegas, Nevada, USA',\n",
       " 2004: 'Egmond aan Zee, Netherlands',\n",
       " 2005: 'Las Vegas, Nevada, USA',\n",
       " 2006: 'Rotterdam, Netherlands',\n",
       " 2007: 'Las Vegas, Nevada, USA',\n",
       " 2008: \"St. Julian's, Malta\",\n",
       " 2009: 'Las Vegas, Nevada, USA',\n",
       " 2010: 'Bethnal Green, London, England',\n",
       " 2011: 'Las Vegas, Nevada, USA',\n",
       " 2012: 'Bethnal Green, London, England',\n",
       " 2013: 'Las Vegas, Nevada, USA',\n",
       " 2014: 'Tower Circus, Blackpool, England',\n",
       " 2015: 'Las Vegas, Nevada, USA',\n",
       " 2016: 'Alexandra Palace, London, England'}"
      ]
     },
     "execution_count": 32,
     "metadata": {},
     "output_type": "execute_result"
    }
   ],
   "source": [
    "#string replace to get rid of \\xa0\n",
    "dloc={}\n",
    "for key,val in dic.items():\n",
    "    val = val.replace(u'\\xa0', u' ')\n",
    "    dloc[key]=val\n",
    "dloc"
   ]
  },
  {
   "cell_type": "code",
   "execution_count": 33,
   "metadata": {
    "collapsed": true
   },
   "outputs": [],
   "source": [
    "path = 'dloc'\n",
    "pickle.dump( dloc, open( \"dloc\", \"wb\" ) )"
   ]
  }
 ],
 "metadata": {
  "kernelspec": {
   "display_name": "Python 3",
   "language": "python",
   "name": "python3"
  },
  "language_info": {
   "codemirror_mode": {
    "name": "ipython",
    "version": 3
   },
   "file_extension": ".py",
   "mimetype": "text/x-python",
   "name": "python",
   "nbconvert_exporter": "python",
   "pygments_lexer": "ipython3",
   "version": "3.5.2"
  }
 },
 "nbformat": 4,
 "nbformat_minor": 2
}
