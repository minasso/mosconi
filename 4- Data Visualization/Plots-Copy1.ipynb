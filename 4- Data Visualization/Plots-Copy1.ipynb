{
 "cells": [
  {
   "cell_type": "code",
   "execution_count": 1,
   "metadata": {},
   "outputs": [],
   "source": [
    "import pandas as pd"
   ]
  },
  {
   "cell_type": "code",
   "execution_count": 2,
   "metadata": {},
   "outputs": [],
   "source": [
    "import matplotlib.pyplot as plt\n",
    "%matplotlib inline\n",
    "import seaborn as sns\n",
    "sns.set()\n",
    "import numpy as np"
   ]
  },
  {
   "cell_type": "code",
   "execution_count": 3,
   "metadata": {},
   "outputs": [],
   "source": [
    "from IPython.core.interactiveshell import InteractiveShell\n",
    "InteractiveShell.ast_node_interactivity = \"last_expr\""
   ]
  },
  {
   "cell_type": "code",
   "execution_count": 4,
   "metadata": {},
   "outputs": [
    {
     "ename": "FileNotFoundError",
     "evalue": "[Errno 2] No such file or directory: 'pkl/allyears_clean'",
     "output_type": "error",
     "traceback": [
      "\u001b[1;31m---------------------------------------------------------------------------\u001b[0m",
      "\u001b[1;31mFileNotFoundError\u001b[0m                         Traceback (most recent call last)",
      "\u001b[1;32m<ipython-input-4-7c5ae4908cab>\u001b[0m in \u001b[0;36m<module>\u001b[1;34m\u001b[0m\n\u001b[0;32m      1\u001b[0m \u001b[1;32mimport\u001b[0m \u001b[0mpickle\u001b[0m\u001b[1;33m\u001b[0m\u001b[1;33m\u001b[0m\u001b[0m\n\u001b[0;32m      2\u001b[0m \u001b[1;33m\u001b[0m\u001b[0m\n\u001b[1;32m----> 3\u001b[1;33m \u001b[0mdf\u001b[0m \u001b[1;33m=\u001b[0m \u001b[0mpickle\u001b[0m\u001b[1;33m.\u001b[0m\u001b[0mload\u001b[0m\u001b[1;33m(\u001b[0m\u001b[0mopen\u001b[0m\u001b[1;33m(\u001b[0m\u001b[1;34m'pkl/allyears_clean'\u001b[0m\u001b[1;33m,\u001b[0m\u001b[1;34m'rb'\u001b[0m\u001b[1;33m)\u001b[0m\u001b[1;33m)\u001b[0m\u001b[1;33m\u001b[0m\u001b[1;33m\u001b[0m\u001b[0m\n\u001b[0m\u001b[0;32m      4\u001b[0m \u001b[1;33m\u001b[0m\u001b[0m\n\u001b[0;32m      5\u001b[0m \u001b[0mstats\u001b[0m \u001b[1;33m=\u001b[0m \u001b[0mpickle\u001b[0m\u001b[1;33m.\u001b[0m\u001b[0mload\u001b[0m\u001b[1;33m(\u001b[0m\u001b[0mopen\u001b[0m\u001b[1;33m(\u001b[0m\u001b[1;34m'pkl/player_stats'\u001b[0m\u001b[1;33m,\u001b[0m\u001b[1;34m'rb'\u001b[0m\u001b[1;33m)\u001b[0m\u001b[1;33m)\u001b[0m\u001b[1;33m\u001b[0m\u001b[1;33m\u001b[0m\u001b[0m\n",
      "\u001b[1;31mFileNotFoundError\u001b[0m: [Errno 2] No such file or directory: 'pkl/allyears_clean'"
     ]
    }
   ],
   "source": [
    "import pickle\n",
    "\n",
    "df = pickle.load(open('pkl/allyears_clean','rb'))\n",
    "\n",
    "stats = pickle.load(open('pkl/player_stats','rb'))\n",
    "\n",
    "stats.index = pd.RangeIndex(start=1, stop=77, step=1)"
   ]
  },
  {
   "cell_type": "code",
   "execution_count": null,
   "metadata": {},
   "outputs": [],
   "source": [
    "fr=pd.DataFrame([[1,2,3],[2,4,6]])"
   ]
  },
  {
   "cell_type": "code",
   "execution_count": null,
   "metadata": {},
   "outputs": [],
   "source": [
    "fr"
   ]
  },
  {
   "cell_type": "code",
   "execution_count": null,
   "metadata": {},
   "outputs": [],
   "source": [
    "plt.plot(data=fr)"
   ]
  },
  {
   "cell_type": "code",
   "execution_count": null,
   "metadata": {},
   "outputs": [],
   "source": [
    "frame = stats.nlargest(7,'Cwin')\n",
    "frame.index= pd.RangeIndex(start=1, stop=10, step=1)\n",
    "\n",
    "from pylab import rcParams\n",
    "rcParams['figure.figsize']=(14,8)\n",
    "\n",
    "x=list(frame['Cmp'])\n",
    "y=list(frame['Cwin'])\n",
    "labels=list(frame['Player'])\n",
    "\n",
    "plt.plot(x,y,linestyle='none',marker='.',markersize=12)\n",
    "plt.xlabel('Combined Matches Played')\n",
    "plt.ylabel('Combined Wins')\n",
    "plt.title('Players with the Most Combined Wins')\n",
    "plt.xticks(np.arange(45,105,5))\n",
    "plt.yticks(np.arange(25,60,5))\n",
    "\n",
    "n= list(frame['Cpct'])\n",
    "for i, txt in enumerate(n):\n",
    "    plt.annotate('{}\\n    {}%'.format(labels[i],txt),   (frame.ix[i+1,'Cmp']+1,frame.ix[i+1,'Cwin']-1)  )"
   ]
  },
  {
   "cell_type": "code",
   "execution_count": null,
   "metadata": {},
   "outputs": [],
   "source": [
    "frame = stats.nlargest(7,'Swin')\n",
    "frame.index= pd.RangeIndex(start=1, stop=10, step=1)\n",
    "\n",
    "from pylab import rcParams\n",
    "rcParams['figure.figsize']=(14,8)\n",
    "\n",
    "x=list(frame['Smp'])\n",
    "y=list(frame['Swin'])\n",
    "labels=list(frame['Player'])\n",
    "\n",
    "plt.plot(x,y,linestyle='none',marker='.',markersize=12)\n",
    "plt.xlabel('Singles Matches Played')\n",
    "plt.ylabel('Singles Wins')\n",
    "plt.title('Players with the Most Singles Wins')\n",
    "plt.xticks(np.arange(15,40,5))\n",
    "plt.yticks(np.arange(10,30,5))\n",
    "\n",
    "n= list(frame['Spct'])\n",
    "for i, txt in enumerate(n):\n",
    "    plt.annotate('{}\\n    {}%'.format(labels[i],txt), (frame.ix[i+1,'Smp']-.7,frame.ix[i+1,'Swin']+1.5),rotation=45)"
   ]
  },
  {
   "cell_type": "code",
   "execution_count": null,
   "metadata": {},
   "outputs": [],
   "source": [
    "frame = stats.nlargest(7,'Dwin')\n",
    "frame.index= pd.RangeIndex(start=1, stop=12, step=1)\n",
    "\n",
    "from pylab import rcParams\n",
    "rcParams['figure.figsize']=(14,8)\n",
    "\n",
    "x=list(frame['Dmp'])\n",
    "y=list(frame['Dwin'])\n",
    "labels=list(frame['Player'])\n",
    "\n",
    "plt.plot(x,y,linestyle='none',marker='.',markersize=12)\n",
    "plt.xlabel('Doubles Matches Played')\n",
    "plt.ylabel('Doubles Wins')\n",
    "plt.title('Players with the Most Doubles Wins')\n",
    "plt.xticks(np.arange(20,65,5))\n",
    "plt.yticks(np.arange(10,30,5))\n",
    "\n",
    "n= list(frame['Dpct'])\n",
    "for i, txt in enumerate(n):\n",
    "    plt.annotate('{}\\n    {}%'.format(labels[i],txt), (frame.ix[i+1,'Dmp']-1.3,frame.ix[i+1,'Dwin']-.6),rotation=15)"
   ]
  },
  {
   "cell_type": "code",
   "execution_count": null,
   "metadata": {},
   "outputs": [],
   "source": [
    "frame = stats[stats['Cmp']>=10].nlargest(10,'Cpct')\n",
    "\n",
    "frame.index= pd.RangeIndex(start=1, stop=11, step=1)\n",
    "\n",
    "# from pylab import rcParams\n",
    "# rcParams['figure.figsize']=(14,8)\n",
    "\n",
    "x=list(frame['Cmp'])\n",
    "y=list(frame['Cpct'])\n",
    "labels=list(frame['Player'])\n",
    "\n",
    "plt.plot(x,y,linestyle='none',marker='.',markersize=12)\n",
    "plt.xlabel('Combined Matches Played')\n",
    "plt.ylabel('Combined Win Percentage')\n",
    "plt.title('Players with the Highest Combined Win Percentage \\n (must have at least 10 matches)')\n",
    "plt.xticks(np.arange(10,105,5))\n",
    "plt.yticks(np.arange(50,85,5))\n",
    "\n",
    "n= list(frame['Cpct'])\n",
    "for i, txt in enumerate(n):\n",
    "    plt.annotate('{}\\n    {}%'.format(labels[i],txt), (frame.ix[i+1,'Cmp']+1,frame.ix[i+1,'Cpct']-1))"
   ]
  },
  {
   "cell_type": "code",
   "execution_count": null,
   "metadata": {},
   "outputs": [],
   "source": [
    "frame = stats[stats['Smp']>=10].nlargest(10,'Spct')\n",
    "\n",
    "frame.index= pd.RangeIndex(start=1, stop=13, step=1)\n",
    "\n",
    "# from pylab import rcParams\n",
    "# rcParams['figure.figsize']=(14,8)\n",
    "\n",
    "x=list(frame['Smp'])\n",
    "y=list(frame['Spct'])\n",
    "labels=list(frame['Player'])\n",
    "\n",
    "plt.plot(x,y,linestyle='none',marker='.',markersize=12)\n",
    "plt.xlabel('Singles Matches Played')\n",
    "plt.ylabel('Singles Win Percentage')\n",
    "plt.title('Players with the Highest Singles Win Percentage \\n (must have at least 10 matches)')\n",
    "plt.xticks(np.arange(10,45,5))\n",
    "plt.yticks(np.arange(50,75,5))\n",
    "\n",
    "n= list(frame['Spct'])\n",
    "for i, txt in enumerate(n):\n",
    "    plt.annotate('{}\\n    {}%'.format(labels[i],txt), (frame.ix[i+1,'Smp']+1,frame.ix[i+1,'Spct']-1))"
   ]
  },
  {
   "cell_type": "code",
   "execution_count": null,
   "metadata": {},
   "outputs": [],
   "source": [
    "frame = stats[stats['Dmp']>=10].nlargest(8,'Dpct')\n",
    "\n",
    "frame.index= pd.RangeIndex(start=1, stop=9, step=1)\n",
    "\n",
    "# from pylab import rcParams\n",
    "# rcParams['figure.figsize']=(14,8)\n",
    "\n",
    "x=list(frame['Dmp'])\n",
    "y=list(frame['Dpct'])\n",
    "labels=list(frame['Player'])\n",
    "\n",
    "plt.plot(x,y,linestyle='none',marker='.',markersize=12)\n",
    "plt.xlabel('Doubles Matches Played')\n",
    "plt.ylabel('Doubles Win Percentage')\n",
    "plt.title('Players with the Highest Doubles Win Percentage \\n (must have at least 10 matches)')\n",
    "plt.xticks(np.arange(10,65,5))\n",
    "plt.yticks(np.arange(50,85,5))\n",
    "\n",
    "n= list(frame['Dpct'])\n",
    "for i, txt in enumerate(n):\n",
    "    plt.annotate('{}\\n    {}%'.format(labels[i],txt), (frame.ix[i+1,'Dmp']+1,frame.ix[i+1,'Dpct']-1))"
   ]
  },
  {
   "cell_type": "code",
   "execution_count": null,
   "metadata": {},
   "outputs": [],
   "source": [
    "frame = stats[stats['Dmp']>=10].nlargest(8,'Dpct')\n",
    "\n",
    "frame.index= pd.RangeIndex(start=1, stop=9, step=1)\n",
    "\n",
    "# from pylab import rcParams\n",
    "# rcParams['figure.figsize']=(14,8)\n",
    "\n",
    "x=list(frame['Dmp'])\n",
    "y=list(frame['Dpct'])\n",
    "labels=list(frame['Player'])\n",
    "\n",
    "plt.plot(x,y,linestyle='none',marker='.',markersize=12)\n",
    "plt.xlabel('Doubles Matches Played')\n",
    "plt.ylabel('Doubles Win Percentage')\n",
    "plt.title('Players with the Highest Doubles Win Percentage \\n (must have at least 10 matches)')\n",
    "plt.xticks(np.arange(10,65,5))\n",
    "plt.yticks(np.arange(50,85,5))\n",
    "\n",
    "n= list(frame['Dpct'])\n",
    "for i, txt in enumerate(n):\n",
    "    plt.annotate('{}\\n  ({} wins, {}%)\\n  {}%'.format(labels[i],x[i],round(y[i],0),txt), (frame.ix[i+1,'Dmp']+1,frame.ix[i+1,'Dpct']-1))"
   ]
  },
  {
   "cell_type": "code",
   "execution_count": null,
   "metadata": {},
   "outputs": [],
   "source": [
    "# sample code\n",
    "rng = np.random.RandomState(0)\n",
    "x = rng.randn(100)\n",
    "y = rng.randn(100)\n",
    "colors = rng.rand(100)\n",
    "sizes = 1000 * rng.rand(100)\n",
    "\n",
    "plt.scatter(x, y, c=colors, s=sizes, alpha=0.3,\n",
    "            cmap='viridis')\n",
    "plt.colorbar();  # show color scale"
   ]
  },
  {
   "cell_type": "code",
   "execution_count": null,
   "metadata": {},
   "outputs": [],
   "source": [
    "frame = stats[stats['Cmp']>=10].nlargest(10,'Cpct')\n",
    "\n",
    "frame.index= pd.RangeIndex(start=1, stop=11, step=1)\n",
    "\n",
    "# from pylab import rcParams\n",
    "# rcParams['figure.figsize']=(14,8)\n",
    "\n",
    "x=list(frame['Cmp'])\n",
    "y=list(frame['Cpct'])\n",
    "labels=list(frame['Player'])\n",
    "\n",
    "colors = frame['Spct']\n",
    "sizes = frame['Dpct']\n",
    "\n",
    "plt.scatter(x, y, c=colors, s=sizes,cmap='viridis')\n",
    "plt.colorbar();  # show color scale\n",
    "# plt.plot(x,y,linestyle='none',marker='.',markersize=12)\n",
    "plt.xlabel('Combined Matches Played')\n",
    "plt.ylabel('Combined Win Percentage')\n",
    "plt.title('Players with the Highest Combined Win Percentage \\n (must have at least 10 matches)')\n",
    "plt.xticks(np.arange(10,105,5))\n",
    "plt.yticks(np.arange(50,85,5))\n",
    "\n",
    "n= list(frame['Cpct'])\n",
    "for i, txt in enumerate(n):\n",
    "    plt.annotate('{}\\n    {}%'.format(labels[i],txt), (frame.ix[i+1,'Cmp']+1,frame.ix[i+1,'Cpct']-1))"
   ]
  }
 ],
 "metadata": {
  "hide_input": false,
  "kernelspec": {
   "display_name": "Python 3",
   "language": "python",
   "name": "python3"
  },
  "language_info": {
   "codemirror_mode": {
    "name": "ipython",
    "version": 3
   },
   "file_extension": ".py",
   "mimetype": "text/x-python",
   "name": "python",
   "nbconvert_exporter": "python",
   "pygments_lexer": "ipython3",
   "version": "3.8.5"
  }
 },
 "nbformat": 4,
 "nbformat_minor": 2
}
