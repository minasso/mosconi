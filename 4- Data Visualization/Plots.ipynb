{
 "cells": [
  {
   "cell_type": "code",
   "execution_count": 1,
   "metadata": {},
   "outputs": [],
   "source": [
    "import pandas as pd"
   ]
  },
  {
   "cell_type": "code",
   "execution_count": 2,
   "metadata": {},
   "outputs": [],
   "source": [
    "import matplotlib.pyplot as plt\n",
    "%matplotlib inline\n",
    "import seaborn as sns\n",
    "sns.set()\n",
    "import numpy as np"
   ]
  },
  {
   "cell_type": "code",
   "execution_count": 90,
   "metadata": {},
   "outputs": [],
   "source": [
    "from IPython.core.interactiveshell import InteractiveShell\n",
    "InteractiveShell.ast_node_interactivity = \"all\""
   ]
  },
  {
   "cell_type": "code",
   "execution_count": null,
   "metadata": {},
   "outputs": [],
   "source": [
    "from pylab import rcParams\n",
    "rcParams['figure.figsize']=(14,8)"
   ]
  },
  {
   "cell_type": "code",
   "execution_count": null,
   "metadata": {},
   "outputs": [],
   "source": [
    "import sqlite3\n",
    "sql='select * from playerstats'\n",
    "con = sqlite3.connect('../players.db')\n",
    "stats = pd.read_sql(sql,con)"
   ]
  },
  {
   "cell_type": "code",
   "execution_count": 8,
   "metadata": {},
   "outputs": [],
   "source": [
    "stats.index = pd.RangeIndex(start=1, stop=77, step=1)"
   ]
  },
  {
   "cell_type": "code",
   "execution_count": 10,
   "metadata": {
    "scrolled": true
   },
   "outputs": [
    {
     "data": {
      "text/html": [
       "<div>\n",
       "<style scoped>\n",
       "    .dataframe tbody tr th:only-of-type {\n",
       "        vertical-align: middle;\n",
       "    }\n",
       "\n",
       "    .dataframe tbody tr th {\n",
       "        vertical-align: top;\n",
       "    }\n",
       "\n",
       "    .dataframe thead th {\n",
       "        text-align: right;\n",
       "    }\n",
       "</style>\n",
       "<table border=\"1\" class=\"dataframe\">\n",
       "  <thead>\n",
       "    <tr style=\"text-align: right;\">\n",
       "      <th></th>\n",
       "      <th>Player</th>\n",
       "      <th>Team</th>\n",
       "      <th>Smp</th>\n",
       "      <th>Swin</th>\n",
       "      <th>Sloss</th>\n",
       "      <th>Swl</th>\n",
       "      <th>Spct</th>\n",
       "      <th>Dmp</th>\n",
       "      <th>Dwin</th>\n",
       "      <th>Dloss</th>\n",
       "      <th>Dwl</th>\n",
       "      <th>Dpct</th>\n",
       "      <th>Twl</th>\n",
       "      <th>Trwl</th>\n",
       "      <th>Cmp</th>\n",
       "      <th>Cwin</th>\n",
       "      <th>Closs</th>\n",
       "      <th>Cwl</th>\n",
       "      <th>Cpct</th>\n",
       "    </tr>\n",
       "  </thead>\n",
       "  <tbody>\n",
       "    <tr>\n",
       "      <th>1</th>\n",
       "      <td>Johnny Archer</td>\n",
       "      <td>America</td>\n",
       "      <td>30</td>\n",
       "      <td>17</td>\n",
       "      <td>13</td>\n",
       "      <td>17-13</td>\n",
       "      <td>56.67</td>\n",
       "      <td>50</td>\n",
       "      <td>27</td>\n",
       "      <td>23</td>\n",
       "      <td>27-23</td>\n",
       "      <td>54.00</td>\n",
       "      <td>5-4</td>\n",
       "      <td>1-1</td>\n",
       "      <td>91</td>\n",
       "      <td>50</td>\n",
       "      <td>41</td>\n",
       "      <td>50-41</td>\n",
       "      <td>54.95</td>\n",
       "    </tr>\n",
       "    <tr>\n",
       "      <th>2</th>\n",
       "      <td>Earl Strickland</td>\n",
       "      <td>America</td>\n",
       "      <td>26</td>\n",
       "      <td>14</td>\n",
       "      <td>12</td>\n",
       "      <td>14-12</td>\n",
       "      <td>53.85</td>\n",
       "      <td>36</td>\n",
       "      <td>24</td>\n",
       "      <td>12</td>\n",
       "      <td>24-12</td>\n",
       "      <td>66.67</td>\n",
       "      <td>3-2</td>\n",
       "      <td>2-0</td>\n",
       "      <td>69</td>\n",
       "      <td>43</td>\n",
       "      <td>26</td>\n",
       "      <td>43-26</td>\n",
       "      <td>62.32</td>\n",
       "    </tr>\n",
       "    <tr>\n",
       "      <th>3</th>\n",
       "      <td>Rodney Morris</td>\n",
       "      <td>America</td>\n",
       "      <td>18</td>\n",
       "      <td>10</td>\n",
       "      <td>8</td>\n",
       "      <td>10-8</td>\n",
       "      <td>55.56</td>\n",
       "      <td>29</td>\n",
       "      <td>12</td>\n",
       "      <td>17</td>\n",
       "      <td>12-17</td>\n",
       "      <td>41.38</td>\n",
       "      <td>3-5</td>\n",
       "      <td>2-0</td>\n",
       "      <td>57</td>\n",
       "      <td>27</td>\n",
       "      <td>30</td>\n",
       "      <td>27-30</td>\n",
       "      <td>47.37</td>\n",
       "    </tr>\n",
       "    <tr>\n",
       "      <th>4</th>\n",
       "      <td>Shane Van Boening</td>\n",
       "      <td>America</td>\n",
       "      <td>25</td>\n",
       "      <td>10</td>\n",
       "      <td>15</td>\n",
       "      <td>10-15</td>\n",
       "      <td>40.00</td>\n",
       "      <td>25</td>\n",
       "      <td>11</td>\n",
       "      <td>14</td>\n",
       "      <td>11-14</td>\n",
       "      <td>44.00</td>\n",
       "      <td>4-6</td>\n",
       "      <td>0-0</td>\n",
       "      <td>60</td>\n",
       "      <td>25</td>\n",
       "      <td>35</td>\n",
       "      <td>25-35</td>\n",
       "      <td>41.67</td>\n",
       "    </tr>\n",
       "    <tr>\n",
       "      <th>5</th>\n",
       "      <td>Corey Deuel</td>\n",
       "      <td>America</td>\n",
       "      <td>13</td>\n",
       "      <td>7</td>\n",
       "      <td>6</td>\n",
       "      <td>7-6</td>\n",
       "      <td>53.85</td>\n",
       "      <td>25</td>\n",
       "      <td>13</td>\n",
       "      <td>12</td>\n",
       "      <td>13-12</td>\n",
       "      <td>52.00</td>\n",
       "      <td>5-2</td>\n",
       "      <td>2-0</td>\n",
       "      <td>47</td>\n",
       "      <td>27</td>\n",
       "      <td>20</td>\n",
       "      <td>27-20</td>\n",
       "      <td>57.45</td>\n",
       "    </tr>\n",
       "    <tr>\n",
       "      <th>6</th>\n",
       "      <td>Jeremy Jones</td>\n",
       "      <td>America</td>\n",
       "      <td>14</td>\n",
       "      <td>7</td>\n",
       "      <td>7</td>\n",
       "      <td>7-7</td>\n",
       "      <td>50.00</td>\n",
       "      <td>19</td>\n",
       "      <td>10</td>\n",
       "      <td>9</td>\n",
       "      <td>10-9</td>\n",
       "      <td>52.63</td>\n",
       "      <td>0-1</td>\n",
       "      <td>0-0</td>\n",
       "      <td>34</td>\n",
       "      <td>17</td>\n",
       "      <td>17</td>\n",
       "      <td>17-17</td>\n",
       "      <td>50.00</td>\n",
       "    </tr>\n",
       "    <tr>\n",
       "      <th>7</th>\n",
       "      <td>Charlie Williams</td>\n",
       "      <td>America</td>\n",
       "      <td>8</td>\n",
       "      <td>6</td>\n",
       "      <td>2</td>\n",
       "      <td>6-2</td>\n",
       "      <td>75.00</td>\n",
       "      <td>13</td>\n",
       "      <td>6</td>\n",
       "      <td>7</td>\n",
       "      <td>6-7</td>\n",
       "      <td>46.15</td>\n",
       "      <td>0-0</td>\n",
       "      <td>0-0</td>\n",
       "      <td>21</td>\n",
       "      <td>12</td>\n",
       "      <td>9</td>\n",
       "      <td>12-9</td>\n",
       "      <td>57.14</td>\n",
       "    </tr>\n",
       "    <tr>\n",
       "      <th>8</th>\n",
       "      <td>Nick Varner</td>\n",
       "      <td>America</td>\n",
       "      <td>7</td>\n",
       "      <td>3</td>\n",
       "      <td>4</td>\n",
       "      <td>3-4</td>\n",
       "      <td>42.86</td>\n",
       "      <td>12</td>\n",
       "      <td>5</td>\n",
       "      <td>7</td>\n",
       "      <td>5-7</td>\n",
       "      <td>41.67</td>\n",
       "      <td>0-0</td>\n",
       "      <td>0-0</td>\n",
       "      <td>19</td>\n",
       "      <td>8</td>\n",
       "      <td>11</td>\n",
       "      <td>8-11</td>\n",
       "      <td>42.11</td>\n",
       "    </tr>\n",
       "    <tr>\n",
       "      <th>9</th>\n",
       "      <td>Mike Dechaine</td>\n",
       "      <td>America</td>\n",
       "      <td>7</td>\n",
       "      <td>1</td>\n",
       "      <td>6</td>\n",
       "      <td>1-6</td>\n",
       "      <td>14.29</td>\n",
       "      <td>10</td>\n",
       "      <td>2</td>\n",
       "      <td>8</td>\n",
       "      <td>2-8</td>\n",
       "      <td>20.00</td>\n",
       "      <td>2-2</td>\n",
       "      <td>0-0</td>\n",
       "      <td>21</td>\n",
       "      <td>5</td>\n",
       "      <td>16</td>\n",
       "      <td>5-16</td>\n",
       "      <td>23.81</td>\n",
       "    </tr>\n",
       "    <tr>\n",
       "      <th>10</th>\n",
       "      <td>Dennis Hatch</td>\n",
       "      <td>America</td>\n",
       "      <td>7</td>\n",
       "      <td>4</td>\n",
       "      <td>3</td>\n",
       "      <td>4-3</td>\n",
       "      <td>57.14</td>\n",
       "      <td>12</td>\n",
       "      <td>5</td>\n",
       "      <td>7</td>\n",
       "      <td>5-7</td>\n",
       "      <td>41.67</td>\n",
       "      <td>2-2</td>\n",
       "      <td>0-0</td>\n",
       "      <td>23</td>\n",
       "      <td>11</td>\n",
       "      <td>12</td>\n",
       "      <td>11-12</td>\n",
       "      <td>47.83</td>\n",
       "    </tr>\n",
       "    <tr>\n",
       "      <th>11</th>\n",
       "      <td>Kim Davenport</td>\n",
       "      <td>America</td>\n",
       "      <td>6</td>\n",
       "      <td>5</td>\n",
       "      <td>1</td>\n",
       "      <td>5-1</td>\n",
       "      <td>83.33</td>\n",
       "      <td>9</td>\n",
       "      <td>4</td>\n",
       "      <td>5</td>\n",
       "      <td>4-5</td>\n",
       "      <td>44.44</td>\n",
       "      <td>0-0</td>\n",
       "      <td>0-0</td>\n",
       "      <td>15</td>\n",
       "      <td>9</td>\n",
       "      <td>6</td>\n",
       "      <td>9-6</td>\n",
       "      <td>60.00</td>\n",
       "    </tr>\n",
       "    <tr>\n",
       "      <th>12</th>\n",
       "      <td>Justin Bergman</td>\n",
       "      <td>America</td>\n",
       "      <td>6</td>\n",
       "      <td>1</td>\n",
       "      <td>5</td>\n",
       "      <td>1-5</td>\n",
       "      <td>16.67</td>\n",
       "      <td>7</td>\n",
       "      <td>4</td>\n",
       "      <td>3</td>\n",
       "      <td>4-3</td>\n",
       "      <td>57.14</td>\n",
       "      <td>1-2</td>\n",
       "      <td>0-0</td>\n",
       "      <td>16</td>\n",
       "      <td>6</td>\n",
       "      <td>10</td>\n",
       "      <td>6-10</td>\n",
       "      <td>37.50</td>\n",
       "    </tr>\n",
       "    <tr>\n",
       "      <th>13</th>\n",
       "      <td>James Rempe</td>\n",
       "      <td>America</td>\n",
       "      <td>5</td>\n",
       "      <td>2</td>\n",
       "      <td>3</td>\n",
       "      <td>2-3</td>\n",
       "      <td>40.00</td>\n",
       "      <td>9</td>\n",
       "      <td>5</td>\n",
       "      <td>4</td>\n",
       "      <td>5-4</td>\n",
       "      <td>55.56</td>\n",
       "      <td>0-0</td>\n",
       "      <td>0-0</td>\n",
       "      <td>14</td>\n",
       "      <td>7</td>\n",
       "      <td>7</td>\n",
       "      <td>7-7</td>\n",
       "      <td>50.00</td>\n",
       "    </tr>\n",
       "    <tr>\n",
       "      <th>14</th>\n",
       "      <td>Mark Wilson</td>\n",
       "      <td>America</td>\n",
       "      <td>7</td>\n",
       "      <td>2</td>\n",
       "      <td>5</td>\n",
       "      <td>2-5</td>\n",
       "      <td>28.57</td>\n",
       "      <td>2</td>\n",
       "      <td>2</td>\n",
       "      <td>0</td>\n",
       "      <td>2-0</td>\n",
       "      <td>100.00</td>\n",
       "      <td>0-0</td>\n",
       "      <td>0-0</td>\n",
       "      <td>9</td>\n",
       "      <td>4</td>\n",
       "      <td>5</td>\n",
       "      <td>4-5</td>\n",
       "      <td>44.44</td>\n",
       "    </tr>\n",
       "    <tr>\n",
       "      <th>15</th>\n",
       "      <td>Lou Butera</td>\n",
       "      <td>America</td>\n",
       "      <td>9</td>\n",
       "      <td>4</td>\n",
       "      <td>5</td>\n",
       "      <td>4-5</td>\n",
       "      <td>44.44</td>\n",
       "      <td>2</td>\n",
       "      <td>2</td>\n",
       "      <td>0</td>\n",
       "      <td>2-0</td>\n",
       "      <td>100.00</td>\n",
       "      <td>0-0</td>\n",
       "      <td>0-0</td>\n",
       "      <td>11</td>\n",
       "      <td>6</td>\n",
       "      <td>5</td>\n",
       "      <td>6-5</td>\n",
       "      <td>54.55</td>\n",
       "    </tr>\n",
       "    <tr>\n",
       "      <th>16</th>\n",
       "      <td>Michael Coltrain</td>\n",
       "      <td>America</td>\n",
       "      <td>4</td>\n",
       "      <td>1</td>\n",
       "      <td>3</td>\n",
       "      <td>1-3</td>\n",
       "      <td>25.00</td>\n",
       "      <td>6</td>\n",
       "      <td>3</td>\n",
       "      <td>3</td>\n",
       "      <td>3-3</td>\n",
       "      <td>50.00</td>\n",
       "      <td>0-0</td>\n",
       "      <td>0-0</td>\n",
       "      <td>10</td>\n",
       "      <td>4</td>\n",
       "      <td>6</td>\n",
       "      <td>4-6</td>\n",
       "      <td>40.00</td>\n",
       "    </tr>\n",
       "    <tr>\n",
       "      <th>17</th>\n",
       "      <td>Shannon Daulton</td>\n",
       "      <td>America</td>\n",
       "      <td>6</td>\n",
       "      <td>5</td>\n",
       "      <td>1</td>\n",
       "      <td>5-1</td>\n",
       "      <td>83.33</td>\n",
       "      <td>4</td>\n",
       "      <td>2</td>\n",
       "      <td>2</td>\n",
       "      <td>2-2</td>\n",
       "      <td>50.00</td>\n",
       "      <td>0-0</td>\n",
       "      <td>0-0</td>\n",
       "      <td>10</td>\n",
       "      <td>7</td>\n",
       "      <td>3</td>\n",
       "      <td>7-3</td>\n",
       "      <td>70.00</td>\n",
       "    </tr>\n",
       "    <tr>\n",
       "      <th>18</th>\n",
       "      <td>Mike Gulyassy</td>\n",
       "      <td>America</td>\n",
       "      <td>4</td>\n",
       "      <td>3</td>\n",
       "      <td>1</td>\n",
       "      <td>3-1</td>\n",
       "      <td>75.00</td>\n",
       "      <td>3</td>\n",
       "      <td>1</td>\n",
       "      <td>2</td>\n",
       "      <td>1-2</td>\n",
       "      <td>33.33</td>\n",
       "      <td>0-0</td>\n",
       "      <td>0-0</td>\n",
       "      <td>7</td>\n",
       "      <td>4</td>\n",
       "      <td>3</td>\n",
       "      <td>4-3</td>\n",
       "      <td>57.14</td>\n",
       "    </tr>\n",
       "    <tr>\n",
       "      <th>19</th>\n",
       "      <td>Robert Hunter</td>\n",
       "      <td>America</td>\n",
       "      <td>1</td>\n",
       "      <td>1</td>\n",
       "      <td>0</td>\n",
       "      <td>1-0</td>\n",
       "      <td>100.00</td>\n",
       "      <td>1</td>\n",
       "      <td>0</td>\n",
       "      <td>1</td>\n",
       "      <td>0-1</td>\n",
       "      <td>0.00</td>\n",
       "      <td>0-0</td>\n",
       "      <td>0-0</td>\n",
       "      <td>2</td>\n",
       "      <td>1</td>\n",
       "      <td>1</td>\n",
       "      <td>1-1</td>\n",
       "      <td>50.00</td>\n",
       "    </tr>\n",
       "    <tr>\n",
       "      <th>20</th>\n",
       "      <td>Mike Massey</td>\n",
       "      <td>America</td>\n",
       "      <td>6</td>\n",
       "      <td>2</td>\n",
       "      <td>4</td>\n",
       "      <td>2-4</td>\n",
       "      <td>33.33</td>\n",
       "      <td>4</td>\n",
       "      <td>1</td>\n",
       "      <td>3</td>\n",
       "      <td>1-3</td>\n",
       "      <td>25.00</td>\n",
       "      <td>0-0</td>\n",
       "      <td>0-0</td>\n",
       "      <td>10</td>\n",
       "      <td>3</td>\n",
       "      <td>7</td>\n",
       "      <td>3-7</td>\n",
       "      <td>30.00</td>\n",
       "    </tr>\n",
       "    <tr>\n",
       "      <th>21</th>\n",
       "      <td>Reed Pierce</td>\n",
       "      <td>America</td>\n",
       "      <td>4</td>\n",
       "      <td>4</td>\n",
       "      <td>0</td>\n",
       "      <td>4-0</td>\n",
       "      <td>100.00</td>\n",
       "      <td>6</td>\n",
       "      <td>1</td>\n",
       "      <td>5</td>\n",
       "      <td>1-5</td>\n",
       "      <td>16.67</td>\n",
       "      <td>0-0</td>\n",
       "      <td>0-0</td>\n",
       "      <td>10</td>\n",
       "      <td>5</td>\n",
       "      <td>5</td>\n",
       "      <td>5-5</td>\n",
       "      <td>50.00</td>\n",
       "    </tr>\n",
       "    <tr>\n",
       "      <th>22</th>\n",
       "      <td>Shawn Putnam</td>\n",
       "      <td>America</td>\n",
       "      <td>1</td>\n",
       "      <td>0</td>\n",
       "      <td>1</td>\n",
       "      <td>0-1</td>\n",
       "      <td>0.00</td>\n",
       "      <td>3</td>\n",
       "      <td>2</td>\n",
       "      <td>1</td>\n",
       "      <td>2-1</td>\n",
       "      <td>66.67</td>\n",
       "      <td>0-1</td>\n",
       "      <td>0-0</td>\n",
       "      <td>5</td>\n",
       "      <td>2</td>\n",
       "      <td>3</td>\n",
       "      <td>2-3</td>\n",
       "      <td>40.00</td>\n",
       "    </tr>\n",
       "    <tr>\n",
       "      <th>23</th>\n",
       "      <td>Tony Robles</td>\n",
       "      <td>America</td>\n",
       "      <td>4</td>\n",
       "      <td>1</td>\n",
       "      <td>3</td>\n",
       "      <td>1-3</td>\n",
       "      <td>25.00</td>\n",
       "      <td>5</td>\n",
       "      <td>2</td>\n",
       "      <td>3</td>\n",
       "      <td>2-3</td>\n",
       "      <td>40.00</td>\n",
       "      <td>0-0</td>\n",
       "      <td>0-0</td>\n",
       "      <td>9</td>\n",
       "      <td>3</td>\n",
       "      <td>6</td>\n",
       "      <td>3-6</td>\n",
       "      <td>33.33</td>\n",
       "    </tr>\n",
       "    <tr>\n",
       "      <th>24</th>\n",
       "      <td>John Schmidt</td>\n",
       "      <td>America</td>\n",
       "      <td>3</td>\n",
       "      <td>1</td>\n",
       "      <td>2</td>\n",
       "      <td>1-2</td>\n",
       "      <td>33.33</td>\n",
       "      <td>5</td>\n",
       "      <td>0</td>\n",
       "      <td>5</td>\n",
       "      <td>0-5</td>\n",
       "      <td>0.00</td>\n",
       "      <td>2-1</td>\n",
       "      <td>1-1</td>\n",
       "      <td>13</td>\n",
       "      <td>4</td>\n",
       "      <td>9</td>\n",
       "      <td>4-9</td>\n",
       "      <td>30.77</td>\n",
       "    </tr>\n",
       "    <tr>\n",
       "      <th>25</th>\n",
       "      <td>Dallas West</td>\n",
       "      <td>America</td>\n",
       "      <td>6</td>\n",
       "      <td>2</td>\n",
       "      <td>4</td>\n",
       "      <td>2-4</td>\n",
       "      <td>33.33</td>\n",
       "      <td>3</td>\n",
       "      <td>3</td>\n",
       "      <td>0</td>\n",
       "      <td>3-0</td>\n",
       "      <td>100.00</td>\n",
       "      <td>0-0</td>\n",
       "      <td>0-0</td>\n",
       "      <td>9</td>\n",
       "      <td>5</td>\n",
       "      <td>4</td>\n",
       "      <td>5-4</td>\n",
       "      <td>55.56</td>\n",
       "    </tr>\n",
       "    <tr>\n",
       "      <th>26</th>\n",
       "      <td>Skyler Woodward</td>\n",
       "      <td>America</td>\n",
       "      <td>3</td>\n",
       "      <td>0</td>\n",
       "      <td>3</td>\n",
       "      <td>0-3</td>\n",
       "      <td>0.00</td>\n",
       "      <td>6</td>\n",
       "      <td>3</td>\n",
       "      <td>3</td>\n",
       "      <td>3-3</td>\n",
       "      <td>50.00</td>\n",
       "      <td>1-1</td>\n",
       "      <td>0-0</td>\n",
       "      <td>11</td>\n",
       "      <td>4</td>\n",
       "      <td>7</td>\n",
       "      <td>4-7</td>\n",
       "      <td>36.36</td>\n",
       "    </tr>\n",
       "    <tr>\n",
       "      <th>27</th>\n",
       "      <td>C.J. Wiley</td>\n",
       "      <td>America</td>\n",
       "      <td>4</td>\n",
       "      <td>3</td>\n",
       "      <td>1</td>\n",
       "      <td>3-1</td>\n",
       "      <td>75.00</td>\n",
       "      <td>1</td>\n",
       "      <td>1</td>\n",
       "      <td>0</td>\n",
       "      <td>1-0</td>\n",
       "      <td>100.00</td>\n",
       "      <td>0-0</td>\n",
       "      <td>0-0</td>\n",
       "      <td>5</td>\n",
       "      <td>4</td>\n",
       "      <td>1</td>\n",
       "      <td>4-1</td>\n",
       "      <td>80.00</td>\n",
       "    </tr>\n",
       "    <tr>\n",
       "      <th>28</th>\n",
       "      <td>Mike Davis</td>\n",
       "      <td>America</td>\n",
       "      <td>2</td>\n",
       "      <td>1</td>\n",
       "      <td>1</td>\n",
       "      <td>1-1</td>\n",
       "      <td>50.00</td>\n",
       "      <td>2</td>\n",
       "      <td>1</td>\n",
       "      <td>1</td>\n",
       "      <td>1-1</td>\n",
       "      <td>50.00</td>\n",
       "      <td>2-0</td>\n",
       "      <td>1-1</td>\n",
       "      <td>8</td>\n",
       "      <td>5</td>\n",
       "      <td>3</td>\n",
       "      <td>5-3</td>\n",
       "      <td>62.50</td>\n",
       "    </tr>\n",
       "    <tr>\n",
       "      <th>29</th>\n",
       "      <td>John DiToro</td>\n",
       "      <td>America</td>\n",
       "      <td>3</td>\n",
       "      <td>2</td>\n",
       "      <td>1</td>\n",
       "      <td>2-1</td>\n",
       "      <td>66.67</td>\n",
       "      <td>2</td>\n",
       "      <td>1</td>\n",
       "      <td>1</td>\n",
       "      <td>1-1</td>\n",
       "      <td>50.00</td>\n",
       "      <td>0-0</td>\n",
       "      <td>0-0</td>\n",
       "      <td>5</td>\n",
       "      <td>3</td>\n",
       "      <td>2</td>\n",
       "      <td>3-2</td>\n",
       "      <td>60.00</td>\n",
       "    </tr>\n",
       "    <tr>\n",
       "      <th>30</th>\n",
       "      <td>Paul Gerni</td>\n",
       "      <td>America</td>\n",
       "      <td>3</td>\n",
       "      <td>0</td>\n",
       "      <td>3</td>\n",
       "      <td>0-3</td>\n",
       "      <td>0.00</td>\n",
       "      <td>0</td>\n",
       "      <td>0</td>\n",
       "      <td>0</td>\n",
       "      <td>0-0</td>\n",
       "      <td>0.00</td>\n",
       "      <td>0-0</td>\n",
       "      <td>0-0</td>\n",
       "      <td>3</td>\n",
       "      <td>0</td>\n",
       "      <td>3</td>\n",
       "      <td>0-3</td>\n",
       "      <td>0.00</td>\n",
       "    </tr>\n",
       "    <tr>\n",
       "      <th>...</th>\n",
       "      <td>...</td>\n",
       "      <td>...</td>\n",
       "      <td>...</td>\n",
       "      <td>...</td>\n",
       "      <td>...</td>\n",
       "      <td>...</td>\n",
       "      <td>...</td>\n",
       "      <td>...</td>\n",
       "      <td>...</td>\n",
       "      <td>...</td>\n",
       "      <td>...</td>\n",
       "      <td>...</td>\n",
       "      <td>...</td>\n",
       "      <td>...</td>\n",
       "      <td>...</td>\n",
       "      <td>...</td>\n",
       "      <td>...</td>\n",
       "      <td>...</td>\n",
       "      <td>...</td>\n",
       "    </tr>\n",
       "    <tr>\n",
       "      <th>47</th>\n",
       "      <td>Nick van den Berg</td>\n",
       "      <td>Europe</td>\n",
       "      <td>14</td>\n",
       "      <td>6</td>\n",
       "      <td>8</td>\n",
       "      <td>6-8</td>\n",
       "      <td>42.86</td>\n",
       "      <td>18</td>\n",
       "      <td>7</td>\n",
       "      <td>11</td>\n",
       "      <td>7-11</td>\n",
       "      <td>38.89</td>\n",
       "      <td>2-4</td>\n",
       "      <td>0-2</td>\n",
       "      <td>40</td>\n",
       "      <td>15</td>\n",
       "      <td>25</td>\n",
       "      <td>15-25</td>\n",
       "      <td>37.50</td>\n",
       "    </tr>\n",
       "    <tr>\n",
       "      <th>48</th>\n",
       "      <td>Marcus Chamat</td>\n",
       "      <td>Europe</td>\n",
       "      <td>10</td>\n",
       "      <td>4</td>\n",
       "      <td>6</td>\n",
       "      <td>4-6</td>\n",
       "      <td>40.00</td>\n",
       "      <td>16</td>\n",
       "      <td>7</td>\n",
       "      <td>9</td>\n",
       "      <td>7-9</td>\n",
       "      <td>43.75</td>\n",
       "      <td>0-0</td>\n",
       "      <td>0-0</td>\n",
       "      <td>26</td>\n",
       "      <td>11</td>\n",
       "      <td>15</td>\n",
       "      <td>11-15</td>\n",
       "      <td>42.31</td>\n",
       "    </tr>\n",
       "    <tr>\n",
       "      <th>49</th>\n",
       "      <td>Karl Boyes</td>\n",
       "      <td>Europe</td>\n",
       "      <td>6</td>\n",
       "      <td>4</td>\n",
       "      <td>2</td>\n",
       "      <td>4-2</td>\n",
       "      <td>66.67</td>\n",
       "      <td>12</td>\n",
       "      <td>10</td>\n",
       "      <td>2</td>\n",
       "      <td>10-2</td>\n",
       "      <td>83.33</td>\n",
       "      <td>3-1</td>\n",
       "      <td>0-0</td>\n",
       "      <td>22</td>\n",
       "      <td>17</td>\n",
       "      <td>5</td>\n",
       "      <td>17-5</td>\n",
       "      <td>77.27</td>\n",
       "    </tr>\n",
       "    <tr>\n",
       "      <th>50</th>\n",
       "      <td>Steve Knight</td>\n",
       "      <td>Europe</td>\n",
       "      <td>7</td>\n",
       "      <td>4</td>\n",
       "      <td>3</td>\n",
       "      <td>4-3</td>\n",
       "      <td>57.14</td>\n",
       "      <td>11</td>\n",
       "      <td>4</td>\n",
       "      <td>7</td>\n",
       "      <td>4-7</td>\n",
       "      <td>36.36</td>\n",
       "      <td>0-0</td>\n",
       "      <td>0-0</td>\n",
       "      <td>18</td>\n",
       "      <td>8</td>\n",
       "      <td>10</td>\n",
       "      <td>8-10</td>\n",
       "      <td>44.44</td>\n",
       "    </tr>\n",
       "    <tr>\n",
       "      <th>51</th>\n",
       "      <td>Thomas Engert</td>\n",
       "      <td>Europe</td>\n",
       "      <td>6</td>\n",
       "      <td>1</td>\n",
       "      <td>5</td>\n",
       "      <td>1-5</td>\n",
       "      <td>16.67</td>\n",
       "      <td>8</td>\n",
       "      <td>3</td>\n",
       "      <td>5</td>\n",
       "      <td>3-5</td>\n",
       "      <td>37.50</td>\n",
       "      <td>0-2</td>\n",
       "      <td>0-2</td>\n",
       "      <td>18</td>\n",
       "      <td>4</td>\n",
       "      <td>14</td>\n",
       "      <td>4-14</td>\n",
       "      <td>22.22</td>\n",
       "    </tr>\n",
       "    <tr>\n",
       "      <th>52</th>\n",
       "      <td>Mark Gray</td>\n",
       "      <td>Europe</td>\n",
       "      <td>2</td>\n",
       "      <td>1</td>\n",
       "      <td>1</td>\n",
       "      <td>1-1</td>\n",
       "      <td>50.00</td>\n",
       "      <td>9</td>\n",
       "      <td>4</td>\n",
       "      <td>5</td>\n",
       "      <td>4-5</td>\n",
       "      <td>44.44</td>\n",
       "      <td>3-0</td>\n",
       "      <td>0-0</td>\n",
       "      <td>14</td>\n",
       "      <td>8</td>\n",
       "      <td>6</td>\n",
       "      <td>8-6</td>\n",
       "      <td>57.14</td>\n",
       "    </tr>\n",
       "    <tr>\n",
       "      <th>53</th>\n",
       "      <td>Thorsten Hohmann</td>\n",
       "      <td>Europe</td>\n",
       "      <td>6</td>\n",
       "      <td>3</td>\n",
       "      <td>3</td>\n",
       "      <td>3-3</td>\n",
       "      <td>50.00</td>\n",
       "      <td>8</td>\n",
       "      <td>3</td>\n",
       "      <td>5</td>\n",
       "      <td>3-5</td>\n",
       "      <td>37.50</td>\n",
       "      <td>0-1</td>\n",
       "      <td>0-0</td>\n",
       "      <td>15</td>\n",
       "      <td>6</td>\n",
       "      <td>9</td>\n",
       "      <td>6-9</td>\n",
       "      <td>40.00</td>\n",
       "    </tr>\n",
       "    <tr>\n",
       "      <th>54</th>\n",
       "      <td>Alex Lely</td>\n",
       "      <td>Europe</td>\n",
       "      <td>2</td>\n",
       "      <td>0</td>\n",
       "      <td>2</td>\n",
       "      <td>0-2</td>\n",
       "      <td>0.00</td>\n",
       "      <td>6</td>\n",
       "      <td>2</td>\n",
       "      <td>4</td>\n",
       "      <td>2-4</td>\n",
       "      <td>33.33</td>\n",
       "      <td>0-0</td>\n",
       "      <td>0-0</td>\n",
       "      <td>8</td>\n",
       "      <td>2</td>\n",
       "      <td>6</td>\n",
       "      <td>2-6</td>\n",
       "      <td>25.00</td>\n",
       "    </tr>\n",
       "    <tr>\n",
       "      <th>55</th>\n",
       "      <td>Albin Ouschan</td>\n",
       "      <td>Europe</td>\n",
       "      <td>3</td>\n",
       "      <td>3</td>\n",
       "      <td>0</td>\n",
       "      <td>3-0</td>\n",
       "      <td>100.00</td>\n",
       "      <td>6</td>\n",
       "      <td>5</td>\n",
       "      <td>1</td>\n",
       "      <td>5-1</td>\n",
       "      <td>83.33</td>\n",
       "      <td>1-1</td>\n",
       "      <td>0-0</td>\n",
       "      <td>11</td>\n",
       "      <td>9</td>\n",
       "      <td>2</td>\n",
       "      <td>9-2</td>\n",
       "      <td>81.82</td>\n",
       "    </tr>\n",
       "    <tr>\n",
       "      <th>56</th>\n",
       "      <td>Tony Drago</td>\n",
       "      <td>Europe</td>\n",
       "      <td>6</td>\n",
       "      <td>4</td>\n",
       "      <td>2</td>\n",
       "      <td>4-2</td>\n",
       "      <td>66.67</td>\n",
       "      <td>2</td>\n",
       "      <td>0</td>\n",
       "      <td>2</td>\n",
       "      <td>0-2</td>\n",
       "      <td>0.00</td>\n",
       "      <td>1-1</td>\n",
       "      <td>0-0</td>\n",
       "      <td>10</td>\n",
       "      <td>5</td>\n",
       "      <td>5</td>\n",
       "      <td>5-5</td>\n",
       "      <td>50.00</td>\n",
       "    </tr>\n",
       "    <tr>\n",
       "      <th>57</th>\n",
       "      <td>Nick Ekonomopoulos</td>\n",
       "      <td>Europe</td>\n",
       "      <td>2</td>\n",
       "      <td>1</td>\n",
       "      <td>1</td>\n",
       "      <td>1-1</td>\n",
       "      <td>50.00</td>\n",
       "      <td>3</td>\n",
       "      <td>2</td>\n",
       "      <td>1</td>\n",
       "      <td>2-1</td>\n",
       "      <td>66.67</td>\n",
       "      <td>0-1</td>\n",
       "      <td>0-0</td>\n",
       "      <td>6</td>\n",
       "      <td>3</td>\n",
       "      <td>3</td>\n",
       "      <td>3-3</td>\n",
       "      <td>50.00</td>\n",
       "    </tr>\n",
       "    <tr>\n",
       "      <th>58</th>\n",
       "      <td>Chris Melling</td>\n",
       "      <td>Europe</td>\n",
       "      <td>5</td>\n",
       "      <td>5</td>\n",
       "      <td>0</td>\n",
       "      <td>5-0</td>\n",
       "      <td>100.00</td>\n",
       "      <td>5</td>\n",
       "      <td>1</td>\n",
       "      <td>4</td>\n",
       "      <td>1-4</td>\n",
       "      <td>20.00</td>\n",
       "      <td>1-1</td>\n",
       "      <td>0-0</td>\n",
       "      <td>12</td>\n",
       "      <td>7</td>\n",
       "      <td>5</td>\n",
       "      <td>7-5</td>\n",
       "      <td>58.33</td>\n",
       "    </tr>\n",
       "    <tr>\n",
       "      <th>59</th>\n",
       "      <td>Ronnie O'Sullivan</td>\n",
       "      <td>Europe</td>\n",
       "      <td>5</td>\n",
       "      <td>2</td>\n",
       "      <td>3</td>\n",
       "      <td>2-3</td>\n",
       "      <td>40.00</td>\n",
       "      <td>4</td>\n",
       "      <td>2</td>\n",
       "      <td>2</td>\n",
       "      <td>2-2</td>\n",
       "      <td>50.00</td>\n",
       "      <td>0-0</td>\n",
       "      <td>0-0</td>\n",
       "      <td>9</td>\n",
       "      <td>4</td>\n",
       "      <td>5</td>\n",
       "      <td>4-5</td>\n",
       "      <td>44.44</td>\n",
       "    </tr>\n",
       "    <tr>\n",
       "      <th>60</th>\n",
       "      <td>Daryl Peach</td>\n",
       "      <td>Europe</td>\n",
       "      <td>7</td>\n",
       "      <td>2</td>\n",
       "      <td>5</td>\n",
       "      <td>2-5</td>\n",
       "      <td>28.57</td>\n",
       "      <td>4</td>\n",
       "      <td>1</td>\n",
       "      <td>3</td>\n",
       "      <td>1-3</td>\n",
       "      <td>25.00</td>\n",
       "      <td>0-1</td>\n",
       "      <td>0-0</td>\n",
       "      <td>12</td>\n",
       "      <td>3</td>\n",
       "      <td>9</td>\n",
       "      <td>3-9</td>\n",
       "      <td>25.00</td>\n",
       "    </tr>\n",
       "    <tr>\n",
       "      <th>61</th>\n",
       "      <td>Tom Storm</td>\n",
       "      <td>Europe</td>\n",
       "      <td>8</td>\n",
       "      <td>5</td>\n",
       "      <td>3</td>\n",
       "      <td>5-3</td>\n",
       "      <td>62.50</td>\n",
       "      <td>3</td>\n",
       "      <td>2</td>\n",
       "      <td>1</td>\n",
       "      <td>2-1</td>\n",
       "      <td>66.67</td>\n",
       "      <td>0-0</td>\n",
       "      <td>0-0</td>\n",
       "      <td>11</td>\n",
       "      <td>7</td>\n",
       "      <td>4</td>\n",
       "      <td>7-4</td>\n",
       "      <td>63.64</td>\n",
       "    </tr>\n",
       "    <tr>\n",
       "      <th>62</th>\n",
       "      <td>Jimmy White</td>\n",
       "      <td>Europe</td>\n",
       "      <td>5</td>\n",
       "      <td>2</td>\n",
       "      <td>3</td>\n",
       "      <td>2-3</td>\n",
       "      <td>40.00</td>\n",
       "      <td>3</td>\n",
       "      <td>1</td>\n",
       "      <td>2</td>\n",
       "      <td>1-2</td>\n",
       "      <td>33.33</td>\n",
       "      <td>0-0</td>\n",
       "      <td>0-0</td>\n",
       "      <td>8</td>\n",
       "      <td>3</td>\n",
       "      <td>5</td>\n",
       "      <td>3-5</td>\n",
       "      <td>37.50</td>\n",
       "    </tr>\n",
       "    <tr>\n",
       "      <th>63</th>\n",
       "      <td>David Alcaide</td>\n",
       "      <td>Europe</td>\n",
       "      <td>2</td>\n",
       "      <td>1</td>\n",
       "      <td>1</td>\n",
       "      <td>1-1</td>\n",
       "      <td>50.00</td>\n",
       "      <td>2</td>\n",
       "      <td>1</td>\n",
       "      <td>1</td>\n",
       "      <td>1-1</td>\n",
       "      <td>50.00</td>\n",
       "      <td>0-2</td>\n",
       "      <td>1-1</td>\n",
       "      <td>8</td>\n",
       "      <td>3</td>\n",
       "      <td>5</td>\n",
       "      <td>3-5</td>\n",
       "      <td>37.50</td>\n",
       "    </tr>\n",
       "    <tr>\n",
       "      <th>64</th>\n",
       "      <td>Tommy Donlon</td>\n",
       "      <td>Europe</td>\n",
       "      <td>2</td>\n",
       "      <td>0</td>\n",
       "      <td>2</td>\n",
       "      <td>0-2</td>\n",
       "      <td>0.00</td>\n",
       "      <td>3</td>\n",
       "      <td>2</td>\n",
       "      <td>1</td>\n",
       "      <td>2-1</td>\n",
       "      <td>66.67</td>\n",
       "      <td>0-0</td>\n",
       "      <td>0-0</td>\n",
       "      <td>5</td>\n",
       "      <td>2</td>\n",
       "      <td>3</td>\n",
       "      <td>2-3</td>\n",
       "      <td>40.00</td>\n",
       "    </tr>\n",
       "    <tr>\n",
       "      <th>65</th>\n",
       "      <td>Vincent Facquet</td>\n",
       "      <td>Europe</td>\n",
       "      <td>2</td>\n",
       "      <td>0</td>\n",
       "      <td>2</td>\n",
       "      <td>0-2</td>\n",
       "      <td>0.00</td>\n",
       "      <td>1</td>\n",
       "      <td>1</td>\n",
       "      <td>0</td>\n",
       "      <td>1-0</td>\n",
       "      <td>100.00</td>\n",
       "      <td>0-0</td>\n",
       "      <td>0-0</td>\n",
       "      <td>3</td>\n",
       "      <td>1</td>\n",
       "      <td>2</td>\n",
       "      <td>1-2</td>\n",
       "      <td>33.33</td>\n",
       "    </tr>\n",
       "    <tr>\n",
       "      <th>66</th>\n",
       "      <td>Allison Fisher</td>\n",
       "      <td>Europe</td>\n",
       "      <td>1</td>\n",
       "      <td>0</td>\n",
       "      <td>1</td>\n",
       "      <td>0-1</td>\n",
       "      <td>0.00</td>\n",
       "      <td>2</td>\n",
       "      <td>0</td>\n",
       "      <td>2</td>\n",
       "      <td>0-2</td>\n",
       "      <td>0.00</td>\n",
       "      <td>0-0</td>\n",
       "      <td>0-0</td>\n",
       "      <td>3</td>\n",
       "      <td>0</td>\n",
       "      <td>3</td>\n",
       "      <td>0-3</td>\n",
       "      <td>0.00</td>\n",
       "    </tr>\n",
       "    <tr>\n",
       "      <th>67</th>\n",
       "      <td>Alex Higgins</td>\n",
       "      <td>Europe</td>\n",
       "      <td>1</td>\n",
       "      <td>0</td>\n",
       "      <td>1</td>\n",
       "      <td>0-1</td>\n",
       "      <td>0.00</td>\n",
       "      <td>3</td>\n",
       "      <td>1</td>\n",
       "      <td>2</td>\n",
       "      <td>1-2</td>\n",
       "      <td>33.33</td>\n",
       "      <td>0-0</td>\n",
       "      <td>0-0</td>\n",
       "      <td>4</td>\n",
       "      <td>1</td>\n",
       "      <td>3</td>\n",
       "      <td>1-3</td>\n",
       "      <td>25.00</td>\n",
       "    </tr>\n",
       "    <tr>\n",
       "      <th>68</th>\n",
       "      <td>Raj Hundal</td>\n",
       "      <td>Europe</td>\n",
       "      <td>1</td>\n",
       "      <td>1</td>\n",
       "      <td>0</td>\n",
       "      <td>1-0</td>\n",
       "      <td>100.00</td>\n",
       "      <td>3</td>\n",
       "      <td>0</td>\n",
       "      <td>3</td>\n",
       "      <td>0-3</td>\n",
       "      <td>0.00</td>\n",
       "      <td>0-0</td>\n",
       "      <td>0-0</td>\n",
       "      <td>4</td>\n",
       "      <td>1</td>\n",
       "      <td>3</td>\n",
       "      <td>1-3</td>\n",
       "      <td>25.00</td>\n",
       "    </tr>\n",
       "    <tr>\n",
       "      <th>69</th>\n",
       "      <td>Lee Kendall</td>\n",
       "      <td>Europe</td>\n",
       "      <td>3</td>\n",
       "      <td>1</td>\n",
       "      <td>2</td>\n",
       "      <td>1-2</td>\n",
       "      <td>33.33</td>\n",
       "      <td>2</td>\n",
       "      <td>1</td>\n",
       "      <td>1</td>\n",
       "      <td>1-1</td>\n",
       "      <td>50.00</td>\n",
       "      <td>0-0</td>\n",
       "      <td>0-0</td>\n",
       "      <td>5</td>\n",
       "      <td>2</td>\n",
       "      <td>3</td>\n",
       "      <td>2-3</td>\n",
       "      <td>40.00</td>\n",
       "    </tr>\n",
       "    <tr>\n",
       "      <th>70</th>\n",
       "      <td>Imran Majid</td>\n",
       "      <td>Europe</td>\n",
       "      <td>2</td>\n",
       "      <td>1</td>\n",
       "      <td>1</td>\n",
       "      <td>1-1</td>\n",
       "      <td>50.00</td>\n",
       "      <td>2</td>\n",
       "      <td>1</td>\n",
       "      <td>1</td>\n",
       "      <td>1-1</td>\n",
       "      <td>50.00</td>\n",
       "      <td>0-2</td>\n",
       "      <td>0-2</td>\n",
       "      <td>8</td>\n",
       "      <td>2</td>\n",
       "      <td>6</td>\n",
       "      <td>2-6</td>\n",
       "      <td>25.00</td>\n",
       "    </tr>\n",
       "    <tr>\n",
       "      <th>71</th>\n",
       "      <td>Fabio Petroni</td>\n",
       "      <td>Europe</td>\n",
       "      <td>2</td>\n",
       "      <td>0</td>\n",
       "      <td>2</td>\n",
       "      <td>0-2</td>\n",
       "      <td>0.00</td>\n",
       "      <td>3</td>\n",
       "      <td>1</td>\n",
       "      <td>2</td>\n",
       "      <td>1-2</td>\n",
       "      <td>33.33</td>\n",
       "      <td>0-0</td>\n",
       "      <td>0-0</td>\n",
       "      <td>5</td>\n",
       "      <td>1</td>\n",
       "      <td>4</td>\n",
       "      <td>1-4</td>\n",
       "      <td>20.00</td>\n",
       "    </tr>\n",
       "    <tr>\n",
       "      <th>72</th>\n",
       "      <td>Andy Richardson</td>\n",
       "      <td>Europe</td>\n",
       "      <td>4</td>\n",
       "      <td>1</td>\n",
       "      <td>3</td>\n",
       "      <td>1-3</td>\n",
       "      <td>25.00</td>\n",
       "      <td>0</td>\n",
       "      <td>0</td>\n",
       "      <td>0</td>\n",
       "      <td>0-0</td>\n",
       "      <td>0.00</td>\n",
       "      <td>0-0</td>\n",
       "      <td>0-0</td>\n",
       "      <td>4</td>\n",
       "      <td>1</td>\n",
       "      <td>3</td>\n",
       "      <td>1-3</td>\n",
       "      <td>25.00</td>\n",
       "    </tr>\n",
       "    <tr>\n",
       "      <th>73</th>\n",
       "      <td>Jayson Shaw</td>\n",
       "      <td>Europe</td>\n",
       "      <td>2</td>\n",
       "      <td>1</td>\n",
       "      <td>1</td>\n",
       "      <td>1-1</td>\n",
       "      <td>50.00</td>\n",
       "      <td>2</td>\n",
       "      <td>1</td>\n",
       "      <td>1</td>\n",
       "      <td>1-1</td>\n",
       "      <td>50.00</td>\n",
       "      <td>1-0</td>\n",
       "      <td>0-0</td>\n",
       "      <td>5</td>\n",
       "      <td>3</td>\n",
       "      <td>2</td>\n",
       "      <td>3-2</td>\n",
       "      <td>60.00</td>\n",
       "    </tr>\n",
       "    <tr>\n",
       "      <th>74</th>\n",
       "      <td>Franziska Stark</td>\n",
       "      <td>Europe</td>\n",
       "      <td>2</td>\n",
       "      <td>0</td>\n",
       "      <td>2</td>\n",
       "      <td>0-2</td>\n",
       "      <td>0.00</td>\n",
       "      <td>3</td>\n",
       "      <td>0</td>\n",
       "      <td>3</td>\n",
       "      <td>0-3</td>\n",
       "      <td>0.00</td>\n",
       "      <td>0-0</td>\n",
       "      <td>0-0</td>\n",
       "      <td>5</td>\n",
       "      <td>0</td>\n",
       "      <td>5</td>\n",
       "      <td>0-5</td>\n",
       "      <td>0.00</td>\n",
       "    </tr>\n",
       "    <tr>\n",
       "      <th>75</th>\n",
       "      <td>Konstantin Stepanov</td>\n",
       "      <td>Europe</td>\n",
       "      <td>1</td>\n",
       "      <td>0</td>\n",
       "      <td>1</td>\n",
       "      <td>0-1</td>\n",
       "      <td>0.00</td>\n",
       "      <td>4</td>\n",
       "      <td>2</td>\n",
       "      <td>2</td>\n",
       "      <td>2-2</td>\n",
       "      <td>50.00</td>\n",
       "      <td>0-1</td>\n",
       "      <td>0-0</td>\n",
       "      <td>6</td>\n",
       "      <td>2</td>\n",
       "      <td>4</td>\n",
       "      <td>2-4</td>\n",
       "      <td>33.33</td>\n",
       "    </tr>\n",
       "    <tr>\n",
       "      <th>76</th>\n",
       "      <td>Lee Tucker</td>\n",
       "      <td>Europe</td>\n",
       "      <td>4</td>\n",
       "      <td>2</td>\n",
       "      <td>2</td>\n",
       "      <td>2-2</td>\n",
       "      <td>50.00</td>\n",
       "      <td>0</td>\n",
       "      <td>0</td>\n",
       "      <td>0</td>\n",
       "      <td>0-0</td>\n",
       "      <td>0.00</td>\n",
       "      <td>0-0</td>\n",
       "      <td>0-0</td>\n",
       "      <td>4</td>\n",
       "      <td>2</td>\n",
       "      <td>2</td>\n",
       "      <td>2-2</td>\n",
       "      <td>50.00</td>\n",
       "    </tr>\n",
       "  </tbody>\n",
       "</table>\n",
       "<p>76 rows × 19 columns</p>\n",
       "</div>"
      ],
      "text/plain": [
       "                 Player     Team  Smp  Swin  Sloss    Swl    Spct  Dmp  Dwin  \\\n",
       "1         Johnny Archer  America   30    17     13  17-13   56.67   50    27   \n",
       "2       Earl Strickland  America   26    14     12  14-12   53.85   36    24   \n",
       "3         Rodney Morris  America   18    10      8   10-8   55.56   29    12   \n",
       "4     Shane Van Boening  America   25    10     15  10-15   40.00   25    11   \n",
       "5           Corey Deuel  America   13     7      6    7-6   53.85   25    13   \n",
       "6          Jeremy Jones  America   14     7      7    7-7   50.00   19    10   \n",
       "7      Charlie Williams  America    8     6      2    6-2   75.00   13     6   \n",
       "8           Nick Varner  America    7     3      4    3-4   42.86   12     5   \n",
       "9         Mike Dechaine  America    7     1      6    1-6   14.29   10     2   \n",
       "10         Dennis Hatch  America    7     4      3    4-3   57.14   12     5   \n",
       "11        Kim Davenport  America    6     5      1    5-1   83.33    9     4   \n",
       "12       Justin Bergman  America    6     1      5    1-5   16.67    7     4   \n",
       "13          James Rempe  America    5     2      3    2-3   40.00    9     5   \n",
       "14          Mark Wilson  America    7     2      5    2-5   28.57    2     2   \n",
       "15           Lou Butera  America    9     4      5    4-5   44.44    2     2   \n",
       "16     Michael Coltrain  America    4     1      3    1-3   25.00    6     3   \n",
       "17      Shannon Daulton  America    6     5      1    5-1   83.33    4     2   \n",
       "18        Mike Gulyassy  America    4     3      1    3-1   75.00    3     1   \n",
       "19        Robert Hunter  America    1     1      0    1-0  100.00    1     0   \n",
       "20          Mike Massey  America    6     2      4    2-4   33.33    4     1   \n",
       "21          Reed Pierce  America    4     4      0    4-0  100.00    6     1   \n",
       "22         Shawn Putnam  America    1     0      1    0-1    0.00    3     2   \n",
       "23          Tony Robles  America    4     1      3    1-3   25.00    5     2   \n",
       "24         John Schmidt  America    3     1      2    1-2   33.33    5     0   \n",
       "25          Dallas West  America    6     2      4    2-4   33.33    3     3   \n",
       "26      Skyler Woodward  America    3     0      3    0-3    0.00    6     3   \n",
       "27           C.J. Wiley  America    4     3      1    3-1   75.00    1     1   \n",
       "28           Mike Davis  America    2     1      1    1-1   50.00    2     1   \n",
       "29          John DiToro  America    3     2      1    2-1   66.67    2     1   \n",
       "30           Paul Gerni  America    3     0      3    0-3    0.00    0     0   \n",
       "..                  ...      ...  ...   ...    ...    ...     ...  ...   ...   \n",
       "47    Nick van den Berg   Europe   14     6      8    6-8   42.86   18     7   \n",
       "48        Marcus Chamat   Europe   10     4      6    4-6   40.00   16     7   \n",
       "49           Karl Boyes   Europe    6     4      2    4-2   66.67   12    10   \n",
       "50         Steve Knight   Europe    7     4      3    4-3   57.14   11     4   \n",
       "51        Thomas Engert   Europe    6     1      5    1-5   16.67    8     3   \n",
       "52            Mark Gray   Europe    2     1      1    1-1   50.00    9     4   \n",
       "53     Thorsten Hohmann   Europe    6     3      3    3-3   50.00    8     3   \n",
       "54            Alex Lely   Europe    2     0      2    0-2    0.00    6     2   \n",
       "55        Albin Ouschan   Europe    3     3      0    3-0  100.00    6     5   \n",
       "56           Tony Drago   Europe    6     4      2    4-2   66.67    2     0   \n",
       "57   Nick Ekonomopoulos   Europe    2     1      1    1-1   50.00    3     2   \n",
       "58        Chris Melling   Europe    5     5      0    5-0  100.00    5     1   \n",
       "59    Ronnie O'Sullivan   Europe    5     2      3    2-3   40.00    4     2   \n",
       "60          Daryl Peach   Europe    7     2      5    2-5   28.57    4     1   \n",
       "61            Tom Storm   Europe    8     5      3    5-3   62.50    3     2   \n",
       "62          Jimmy White   Europe    5     2      3    2-3   40.00    3     1   \n",
       "63        David Alcaide   Europe    2     1      1    1-1   50.00    2     1   \n",
       "64         Tommy Donlon   Europe    2     0      2    0-2    0.00    3     2   \n",
       "65      Vincent Facquet   Europe    2     0      2    0-2    0.00    1     1   \n",
       "66       Allison Fisher   Europe    1     0      1    0-1    0.00    2     0   \n",
       "67         Alex Higgins   Europe    1     0      1    0-1    0.00    3     1   \n",
       "68           Raj Hundal   Europe    1     1      0    1-0  100.00    3     0   \n",
       "69          Lee Kendall   Europe    3     1      2    1-2   33.33    2     1   \n",
       "70          Imran Majid   Europe    2     1      1    1-1   50.00    2     1   \n",
       "71        Fabio Petroni   Europe    2     0      2    0-2    0.00    3     1   \n",
       "72      Andy Richardson   Europe    4     1      3    1-3   25.00    0     0   \n",
       "73          Jayson Shaw   Europe    2     1      1    1-1   50.00    2     1   \n",
       "74      Franziska Stark   Europe    2     0      2    0-2    0.00    3     0   \n",
       "75  Konstantin Stepanov   Europe    1     0      1    0-1    0.00    4     2   \n",
       "76           Lee Tucker   Europe    4     2      2    2-2   50.00    0     0   \n",
       "\n",
       "    Dloss    Dwl    Dpct  Twl Trwl  Cmp  Cwin  Closs    Cwl   Cpct  \n",
       "1      23  27-23   54.00  5-4  1-1   91    50     41  50-41  54.95  \n",
       "2      12  24-12   66.67  3-2  2-0   69    43     26  43-26  62.32  \n",
       "3      17  12-17   41.38  3-5  2-0   57    27     30  27-30  47.37  \n",
       "4      14  11-14   44.00  4-6  0-0   60    25     35  25-35  41.67  \n",
       "5      12  13-12   52.00  5-2  2-0   47    27     20  27-20  57.45  \n",
       "6       9   10-9   52.63  0-1  0-0   34    17     17  17-17  50.00  \n",
       "7       7    6-7   46.15  0-0  0-0   21    12      9   12-9  57.14  \n",
       "8       7    5-7   41.67  0-0  0-0   19     8     11   8-11  42.11  \n",
       "9       8    2-8   20.00  2-2  0-0   21     5     16   5-16  23.81  \n",
       "10      7    5-7   41.67  2-2  0-0   23    11     12  11-12  47.83  \n",
       "11      5    4-5   44.44  0-0  0-0   15     9      6    9-6  60.00  \n",
       "12      3    4-3   57.14  1-2  0-0   16     6     10   6-10  37.50  \n",
       "13      4    5-4   55.56  0-0  0-0   14     7      7    7-7  50.00  \n",
       "14      0    2-0  100.00  0-0  0-0    9     4      5    4-5  44.44  \n",
       "15      0    2-0  100.00  0-0  0-0   11     6      5    6-5  54.55  \n",
       "16      3    3-3   50.00  0-0  0-0   10     4      6    4-6  40.00  \n",
       "17      2    2-2   50.00  0-0  0-0   10     7      3    7-3  70.00  \n",
       "18      2    1-2   33.33  0-0  0-0    7     4      3    4-3  57.14  \n",
       "19      1    0-1    0.00  0-0  0-0    2     1      1    1-1  50.00  \n",
       "20      3    1-3   25.00  0-0  0-0   10     3      7    3-7  30.00  \n",
       "21      5    1-5   16.67  0-0  0-0   10     5      5    5-5  50.00  \n",
       "22      1    2-1   66.67  0-1  0-0    5     2      3    2-3  40.00  \n",
       "23      3    2-3   40.00  0-0  0-0    9     3      6    3-6  33.33  \n",
       "24      5    0-5    0.00  2-1  1-1   13     4      9    4-9  30.77  \n",
       "25      0    3-0  100.00  0-0  0-0    9     5      4    5-4  55.56  \n",
       "26      3    3-3   50.00  1-1  0-0   11     4      7    4-7  36.36  \n",
       "27      0    1-0  100.00  0-0  0-0    5     4      1    4-1  80.00  \n",
       "28      1    1-1   50.00  2-0  1-1    8     5      3    5-3  62.50  \n",
       "29      1    1-1   50.00  0-0  0-0    5     3      2    3-2  60.00  \n",
       "30      0    0-0    0.00  0-0  0-0    3     0      3    0-3   0.00  \n",
       "..    ...    ...     ...  ...  ...  ...   ...    ...    ...    ...  \n",
       "47     11   7-11   38.89  2-4  0-2   40    15     25  15-25  37.50  \n",
       "48      9    7-9   43.75  0-0  0-0   26    11     15  11-15  42.31  \n",
       "49      2   10-2   83.33  3-1  0-0   22    17      5   17-5  77.27  \n",
       "50      7    4-7   36.36  0-0  0-0   18     8     10   8-10  44.44  \n",
       "51      5    3-5   37.50  0-2  0-2   18     4     14   4-14  22.22  \n",
       "52      5    4-5   44.44  3-0  0-0   14     8      6    8-6  57.14  \n",
       "53      5    3-5   37.50  0-1  0-0   15     6      9    6-9  40.00  \n",
       "54      4    2-4   33.33  0-0  0-0    8     2      6    2-6  25.00  \n",
       "55      1    5-1   83.33  1-1  0-0   11     9      2    9-2  81.82  \n",
       "56      2    0-2    0.00  1-1  0-0   10     5      5    5-5  50.00  \n",
       "57      1    2-1   66.67  0-1  0-0    6     3      3    3-3  50.00  \n",
       "58      4    1-4   20.00  1-1  0-0   12     7      5    7-5  58.33  \n",
       "59      2    2-2   50.00  0-0  0-0    9     4      5    4-5  44.44  \n",
       "60      3    1-3   25.00  0-1  0-0   12     3      9    3-9  25.00  \n",
       "61      1    2-1   66.67  0-0  0-0   11     7      4    7-4  63.64  \n",
       "62      2    1-2   33.33  0-0  0-0    8     3      5    3-5  37.50  \n",
       "63      1    1-1   50.00  0-2  1-1    8     3      5    3-5  37.50  \n",
       "64      1    2-1   66.67  0-0  0-0    5     2      3    2-3  40.00  \n",
       "65      0    1-0  100.00  0-0  0-0    3     1      2    1-2  33.33  \n",
       "66      2    0-2    0.00  0-0  0-0    3     0      3    0-3   0.00  \n",
       "67      2    1-2   33.33  0-0  0-0    4     1      3    1-3  25.00  \n",
       "68      3    0-3    0.00  0-0  0-0    4     1      3    1-3  25.00  \n",
       "69      1    1-1   50.00  0-0  0-0    5     2      3    2-3  40.00  \n",
       "70      1    1-1   50.00  0-2  0-2    8     2      6    2-6  25.00  \n",
       "71      2    1-2   33.33  0-0  0-0    5     1      4    1-4  20.00  \n",
       "72      0    0-0    0.00  0-0  0-0    4     1      3    1-3  25.00  \n",
       "73      1    1-1   50.00  1-0  0-0    5     3      2    3-2  60.00  \n",
       "74      3    0-3    0.00  0-0  0-0    5     0      5    0-5   0.00  \n",
       "75      2    2-2   50.00  0-1  0-0    6     2      4    2-4  33.33  \n",
       "76      0    0-0    0.00  0-0  0-0    4     2      2    2-2  50.00  \n",
       "\n",
       "[76 rows x 19 columns]"
      ]
     },
     "execution_count": 10,
     "metadata": {},
     "output_type": "execute_result"
    }
   ],
   "source": [
    "stats"
   ]
  },
  {
   "cell_type": "code",
   "execution_count": 60,
   "metadata": {},
   "outputs": [],
   "source": [
    "def rank(n,cat,df=stats,team=None,limit=None):\n",
    "    if team:\n",
    "        df = df[df.Team.str.contains(team.title())]\n",
    "    if limit:\n",
    "        df = df[df[cat[0]+'win']>=limit]\n",
    "    df = df.nlargest(n,cat)\n",
    "#     if viz == True:\n",
    "#         viz()\n",
    "    return df"
   ]
  },
  {
   "cell_type": "code",
   "execution_count": 61,
   "metadata": {
    "collapsed": true
   },
   "outputs": [
    {
     "data": {
      "text/html": [
       "<div>\n",
       "<style scoped>\n",
       "    .dataframe tbody tr th:only-of-type {\n",
       "        vertical-align: middle;\n",
       "    }\n",
       "\n",
       "    .dataframe tbody tr th {\n",
       "        vertical-align: top;\n",
       "    }\n",
       "\n",
       "    .dataframe thead th {\n",
       "        text-align: right;\n",
       "    }\n",
       "</style>\n",
       "<table border=\"1\" class=\"dataframe\">\n",
       "  <thead>\n",
       "    <tr style=\"text-align: right;\">\n",
       "      <th></th>\n",
       "      <th>Player</th>\n",
       "      <th>Team</th>\n",
       "      <th>Smp</th>\n",
       "      <th>Swin</th>\n",
       "      <th>Sloss</th>\n",
       "      <th>Swl</th>\n",
       "      <th>Spct</th>\n",
       "      <th>Dmp</th>\n",
       "      <th>Dwin</th>\n",
       "      <th>Dloss</th>\n",
       "      <th>Dwl</th>\n",
       "      <th>Dpct</th>\n",
       "      <th>Twl</th>\n",
       "      <th>Trwl</th>\n",
       "      <th>Cmp</th>\n",
       "      <th>Cwin</th>\n",
       "      <th>Closs</th>\n",
       "      <th>Cwl</th>\n",
       "      <th>Cpct</th>\n",
       "    </tr>\n",
       "  </thead>\n",
       "  <tbody>\n",
       "    <tr>\n",
       "      <th>49</th>\n",
       "      <td>Karl Boyes</td>\n",
       "      <td>Europe</td>\n",
       "      <td>6</td>\n",
       "      <td>4</td>\n",
       "      <td>2</td>\n",
       "      <td>4-2</td>\n",
       "      <td>66.67</td>\n",
       "      <td>12</td>\n",
       "      <td>10</td>\n",
       "      <td>2</td>\n",
       "      <td>10-2</td>\n",
       "      <td>83.33</td>\n",
       "      <td>3-1</td>\n",
       "      <td>0-0</td>\n",
       "      <td>22</td>\n",
       "      <td>17</td>\n",
       "      <td>5</td>\n",
       "      <td>17-5</td>\n",
       "      <td>77.27</td>\n",
       "    </tr>\n",
       "    <tr>\n",
       "      <th>43</th>\n",
       "      <td>Niels Feijen</td>\n",
       "      <td>Europe</td>\n",
       "      <td>20</td>\n",
       "      <td>12</td>\n",
       "      <td>8</td>\n",
       "      <td>12-8</td>\n",
       "      <td>60.00</td>\n",
       "      <td>33</td>\n",
       "      <td>24</td>\n",
       "      <td>9</td>\n",
       "      <td>24-9</td>\n",
       "      <td>72.73</td>\n",
       "      <td>5-4</td>\n",
       "      <td>0-0</td>\n",
       "      <td>62</td>\n",
       "      <td>41</td>\n",
       "      <td>21</td>\n",
       "      <td>41-21</td>\n",
       "      <td>66.13</td>\n",
       "    </tr>\n",
       "    <tr>\n",
       "      <th>2</th>\n",
       "      <td>Earl Strickland</td>\n",
       "      <td>America</td>\n",
       "      <td>26</td>\n",
       "      <td>14</td>\n",
       "      <td>12</td>\n",
       "      <td>14-12</td>\n",
       "      <td>53.85</td>\n",
       "      <td>36</td>\n",
       "      <td>24</td>\n",
       "      <td>12</td>\n",
       "      <td>24-12</td>\n",
       "      <td>66.67</td>\n",
       "      <td>3-2</td>\n",
       "      <td>2-0</td>\n",
       "      <td>69</td>\n",
       "      <td>43</td>\n",
       "      <td>26</td>\n",
       "      <td>43-26</td>\n",
       "      <td>62.32</td>\n",
       "    </tr>\n",
       "    <tr>\n",
       "      <th>41</th>\n",
       "      <td>Ralf Souquet</td>\n",
       "      <td>Europe</td>\n",
       "      <td>33</td>\n",
       "      <td>20</td>\n",
       "      <td>13</td>\n",
       "      <td>20-13</td>\n",
       "      <td>60.61</td>\n",
       "      <td>44</td>\n",
       "      <td>27</td>\n",
       "      <td>17</td>\n",
       "      <td>27-17</td>\n",
       "      <td>61.36</td>\n",
       "      <td>4-4</td>\n",
       "      <td>1-1</td>\n",
       "      <td>87</td>\n",
       "      <td>52</td>\n",
       "      <td>35</td>\n",
       "      <td>52-35</td>\n",
       "      <td>59.77</td>\n",
       "    </tr>\n",
       "    <tr>\n",
       "      <th>5</th>\n",
       "      <td>Corey Deuel</td>\n",
       "      <td>America</td>\n",
       "      <td>13</td>\n",
       "      <td>7</td>\n",
       "      <td>6</td>\n",
       "      <td>7-6</td>\n",
       "      <td>53.85</td>\n",
       "      <td>25</td>\n",
       "      <td>13</td>\n",
       "      <td>12</td>\n",
       "      <td>13-12</td>\n",
       "      <td>52.00</td>\n",
       "      <td>5-2</td>\n",
       "      <td>2-0</td>\n",
       "      <td>47</td>\n",
       "      <td>27</td>\n",
       "      <td>20</td>\n",
       "      <td>27-20</td>\n",
       "      <td>57.45</td>\n",
       "    </tr>\n",
       "    <tr>\n",
       "      <th>7</th>\n",
       "      <td>Charlie Williams</td>\n",
       "      <td>America</td>\n",
       "      <td>8</td>\n",
       "      <td>6</td>\n",
       "      <td>2</td>\n",
       "      <td>6-2</td>\n",
       "      <td>75.00</td>\n",
       "      <td>13</td>\n",
       "      <td>6</td>\n",
       "      <td>7</td>\n",
       "      <td>6-7</td>\n",
       "      <td>46.15</td>\n",
       "      <td>0-0</td>\n",
       "      <td>0-0</td>\n",
       "      <td>21</td>\n",
       "      <td>12</td>\n",
       "      <td>9</td>\n",
       "      <td>12-9</td>\n",
       "      <td>57.14</td>\n",
       "    </tr>\n",
       "    <tr>\n",
       "      <th>1</th>\n",
       "      <td>Johnny Archer</td>\n",
       "      <td>America</td>\n",
       "      <td>30</td>\n",
       "      <td>17</td>\n",
       "      <td>13</td>\n",
       "      <td>17-13</td>\n",
       "      <td>56.67</td>\n",
       "      <td>50</td>\n",
       "      <td>27</td>\n",
       "      <td>23</td>\n",
       "      <td>27-23</td>\n",
       "      <td>54.00</td>\n",
       "      <td>5-4</td>\n",
       "      <td>1-1</td>\n",
       "      <td>91</td>\n",
       "      <td>50</td>\n",
       "      <td>41</td>\n",
       "      <td>50-41</td>\n",
       "      <td>54.95</td>\n",
       "    </tr>\n",
       "    <tr>\n",
       "      <th>46</th>\n",
       "      <td>Darren Appleton</td>\n",
       "      <td>Europe</td>\n",
       "      <td>14</td>\n",
       "      <td>10</td>\n",
       "      <td>4</td>\n",
       "      <td>10-4</td>\n",
       "      <td>71.43</td>\n",
       "      <td>25</td>\n",
       "      <td>10</td>\n",
       "      <td>15</td>\n",
       "      <td>10-15</td>\n",
       "      <td>40.00</td>\n",
       "      <td>5-3</td>\n",
       "      <td>0-0</td>\n",
       "      <td>47</td>\n",
       "      <td>25</td>\n",
       "      <td>22</td>\n",
       "      <td>25-22</td>\n",
       "      <td>53.19</td>\n",
       "    </tr>\n",
       "    <tr>\n",
       "      <th>42</th>\n",
       "      <td>Mika Immonen</td>\n",
       "      <td>Europe</td>\n",
       "      <td>33</td>\n",
       "      <td>16</td>\n",
       "      <td>17</td>\n",
       "      <td>16-17</td>\n",
       "      <td>48.48</td>\n",
       "      <td>39</td>\n",
       "      <td>22</td>\n",
       "      <td>17</td>\n",
       "      <td>22-17</td>\n",
       "      <td>56.41</td>\n",
       "      <td>3-3</td>\n",
       "      <td>1-1</td>\n",
       "      <td>80</td>\n",
       "      <td>42</td>\n",
       "      <td>38</td>\n",
       "      <td>42-38</td>\n",
       "      <td>52.50</td>\n",
       "    </tr>\n",
       "    <tr>\n",
       "      <th>6</th>\n",
       "      <td>Jeremy Jones</td>\n",
       "      <td>America</td>\n",
       "      <td>14</td>\n",
       "      <td>7</td>\n",
       "      <td>7</td>\n",
       "      <td>7-7</td>\n",
       "      <td>50.00</td>\n",
       "      <td>19</td>\n",
       "      <td>10</td>\n",
       "      <td>9</td>\n",
       "      <td>10-9</td>\n",
       "      <td>52.63</td>\n",
       "      <td>0-1</td>\n",
       "      <td>0-0</td>\n",
       "      <td>34</td>\n",
       "      <td>17</td>\n",
       "      <td>17</td>\n",
       "      <td>17-17</td>\n",
       "      <td>50.00</td>\n",
       "    </tr>\n",
       "    <tr>\n",
       "      <th>10</th>\n",
       "      <td>Dennis Hatch</td>\n",
       "      <td>America</td>\n",
       "      <td>7</td>\n",
       "      <td>4</td>\n",
       "      <td>3</td>\n",
       "      <td>4-3</td>\n",
       "      <td>57.14</td>\n",
       "      <td>12</td>\n",
       "      <td>5</td>\n",
       "      <td>7</td>\n",
       "      <td>5-7</td>\n",
       "      <td>41.67</td>\n",
       "      <td>2-2</td>\n",
       "      <td>0-0</td>\n",
       "      <td>23</td>\n",
       "      <td>11</td>\n",
       "      <td>12</td>\n",
       "      <td>11-12</td>\n",
       "      <td>47.83</td>\n",
       "    </tr>\n",
       "    <tr>\n",
       "      <th>3</th>\n",
       "      <td>Rodney Morris</td>\n",
       "      <td>America</td>\n",
       "      <td>18</td>\n",
       "      <td>10</td>\n",
       "      <td>8</td>\n",
       "      <td>10-8</td>\n",
       "      <td>55.56</td>\n",
       "      <td>29</td>\n",
       "      <td>12</td>\n",
       "      <td>17</td>\n",
       "      <td>12-17</td>\n",
       "      <td>41.38</td>\n",
       "      <td>3-5</td>\n",
       "      <td>2-0</td>\n",
       "      <td>57</td>\n",
       "      <td>27</td>\n",
       "      <td>30</td>\n",
       "      <td>27-30</td>\n",
       "      <td>47.37</td>\n",
       "    </tr>\n",
       "    <tr>\n",
       "      <th>45</th>\n",
       "      <td>Oliver Ortmann</td>\n",
       "      <td>Europe</td>\n",
       "      <td>21</td>\n",
       "      <td>11</td>\n",
       "      <td>10</td>\n",
       "      <td>11-10</td>\n",
       "      <td>52.38</td>\n",
       "      <td>19</td>\n",
       "      <td>7</td>\n",
       "      <td>12</td>\n",
       "      <td>7-12</td>\n",
       "      <td>36.84</td>\n",
       "      <td>0-0</td>\n",
       "      <td>0-0</td>\n",
       "      <td>40</td>\n",
       "      <td>18</td>\n",
       "      <td>22</td>\n",
       "      <td>18-22</td>\n",
       "      <td>45.00</td>\n",
       "    </tr>\n",
       "    <tr>\n",
       "      <th>44</th>\n",
       "      <td>Steve Davis</td>\n",
       "      <td>Europe</td>\n",
       "      <td>27</td>\n",
       "      <td>14</td>\n",
       "      <td>13</td>\n",
       "      <td>14-13</td>\n",
       "      <td>51.85</td>\n",
       "      <td>25</td>\n",
       "      <td>8</td>\n",
       "      <td>17</td>\n",
       "      <td>8-17</td>\n",
       "      <td>32.00</td>\n",
       "      <td>0-0</td>\n",
       "      <td>0-0</td>\n",
       "      <td>52</td>\n",
       "      <td>22</td>\n",
       "      <td>30</td>\n",
       "      <td>22-30</td>\n",
       "      <td>42.31</td>\n",
       "    </tr>\n",
       "    <tr>\n",
       "      <th>48</th>\n",
       "      <td>Marcus Chamat</td>\n",
       "      <td>Europe</td>\n",
       "      <td>10</td>\n",
       "      <td>4</td>\n",
       "      <td>6</td>\n",
       "      <td>4-6</td>\n",
       "      <td>40.00</td>\n",
       "      <td>16</td>\n",
       "      <td>7</td>\n",
       "      <td>9</td>\n",
       "      <td>7-9</td>\n",
       "      <td>43.75</td>\n",
       "      <td>0-0</td>\n",
       "      <td>0-0</td>\n",
       "      <td>26</td>\n",
       "      <td>11</td>\n",
       "      <td>15</td>\n",
       "      <td>11-15</td>\n",
       "      <td>42.31</td>\n",
       "    </tr>\n",
       "    <tr>\n",
       "      <th>4</th>\n",
       "      <td>Shane Van Boening</td>\n",
       "      <td>America</td>\n",
       "      <td>25</td>\n",
       "      <td>10</td>\n",
       "      <td>15</td>\n",
       "      <td>10-15</td>\n",
       "      <td>40.00</td>\n",
       "      <td>25</td>\n",
       "      <td>11</td>\n",
       "      <td>14</td>\n",
       "      <td>11-14</td>\n",
       "      <td>44.00</td>\n",
       "      <td>4-6</td>\n",
       "      <td>0-0</td>\n",
       "      <td>60</td>\n",
       "      <td>25</td>\n",
       "      <td>35</td>\n",
       "      <td>25-35</td>\n",
       "      <td>41.67</td>\n",
       "    </tr>\n",
       "    <tr>\n",
       "      <th>47</th>\n",
       "      <td>Nick van den Berg</td>\n",
       "      <td>Europe</td>\n",
       "      <td>14</td>\n",
       "      <td>6</td>\n",
       "      <td>8</td>\n",
       "      <td>6-8</td>\n",
       "      <td>42.86</td>\n",
       "      <td>18</td>\n",
       "      <td>7</td>\n",
       "      <td>11</td>\n",
       "      <td>7-11</td>\n",
       "      <td>38.89</td>\n",
       "      <td>2-4</td>\n",
       "      <td>0-2</td>\n",
       "      <td>40</td>\n",
       "      <td>15</td>\n",
       "      <td>25</td>\n",
       "      <td>15-25</td>\n",
       "      <td>37.50</td>\n",
       "    </tr>\n",
       "  </tbody>\n",
       "</table>\n",
       "</div>"
      ],
      "text/plain": [
       "               Player     Team  Smp  Swin  Sloss    Swl   Spct  Dmp  Dwin  \\\n",
       "49         Karl Boyes   Europe    6     4      2    4-2  66.67   12    10   \n",
       "43       Niels Feijen   Europe   20    12      8   12-8  60.00   33    24   \n",
       "2     Earl Strickland  America   26    14     12  14-12  53.85   36    24   \n",
       "41       Ralf Souquet   Europe   33    20     13  20-13  60.61   44    27   \n",
       "5         Corey Deuel  America   13     7      6    7-6  53.85   25    13   \n",
       "7    Charlie Williams  America    8     6      2    6-2  75.00   13     6   \n",
       "1       Johnny Archer  America   30    17     13  17-13  56.67   50    27   \n",
       "46    Darren Appleton   Europe   14    10      4   10-4  71.43   25    10   \n",
       "42       Mika Immonen   Europe   33    16     17  16-17  48.48   39    22   \n",
       "6        Jeremy Jones  America   14     7      7    7-7  50.00   19    10   \n",
       "10       Dennis Hatch  America    7     4      3    4-3  57.14   12     5   \n",
       "3       Rodney Morris  America   18    10      8   10-8  55.56   29    12   \n",
       "45     Oliver Ortmann   Europe   21    11     10  11-10  52.38   19     7   \n",
       "44        Steve Davis   Europe   27    14     13  14-13  51.85   25     8   \n",
       "48      Marcus Chamat   Europe   10     4      6    4-6  40.00   16     7   \n",
       "4   Shane Van Boening  America   25    10     15  10-15  40.00   25    11   \n",
       "47  Nick van den Berg   Europe   14     6      8    6-8  42.86   18     7   \n",
       "\n",
       "    Dloss    Dwl   Dpct  Twl Trwl  Cmp  Cwin  Closs    Cwl   Cpct  \n",
       "49      2   10-2  83.33  3-1  0-0   22    17      5   17-5  77.27  \n",
       "43      9   24-9  72.73  5-4  0-0   62    41     21  41-21  66.13  \n",
       "2      12  24-12  66.67  3-2  2-0   69    43     26  43-26  62.32  \n",
       "41     17  27-17  61.36  4-4  1-1   87    52     35  52-35  59.77  \n",
       "5      12  13-12  52.00  5-2  2-0   47    27     20  27-20  57.45  \n",
       "7       7    6-7  46.15  0-0  0-0   21    12      9   12-9  57.14  \n",
       "1      23  27-23  54.00  5-4  1-1   91    50     41  50-41  54.95  \n",
       "46     15  10-15  40.00  5-3  0-0   47    25     22  25-22  53.19  \n",
       "42     17  22-17  56.41  3-3  1-1   80    42     38  42-38  52.50  \n",
       "6       9   10-9  52.63  0-1  0-0   34    17     17  17-17  50.00  \n",
       "10      7    5-7  41.67  2-2  0-0   23    11     12  11-12  47.83  \n",
       "3      17  12-17  41.38  3-5  2-0   57    27     30  27-30  47.37  \n",
       "45     12   7-12  36.84  0-0  0-0   40    18     22  18-22  45.00  \n",
       "44     17   8-17  32.00  0-0  0-0   52    22     30  22-30  42.31  \n",
       "48      9    7-9  43.75  0-0  0-0   26    11     15  11-15  42.31  \n",
       "4      14  11-14  44.00  4-6  0-0   60    25     35  25-35  41.67  \n",
       "47     11   7-11  38.89  2-4  0-2   40    15     25  15-25  37.50  "
      ]
     },
     "execution_count": 61,
     "metadata": {},
     "output_type": "execute_result"
    }
   ],
   "source": [
    "rank(100,'Cpct',team=None,limit=10)"
   ]
  },
  {
   "cell_type": "code",
   "execution_count": null,
   "metadata": {},
   "outputs": [],
   "source": [
    "def viz():\n",
    "    "
   ]
  },
  {
   "cell_type": "markdown",
   "metadata": {},
   "source": [
    "Start Plotting"
   ]
  },
  {
   "cell_type": "code",
   "execution_count": 13,
   "metadata": {},
   "outputs": [],
   "source": [
    "frame = stats.nlargest(7,'Cwin')\n",
    "\n",
    "frame.index= pd.RangeIndex(start=1, stop=len(frame), step=1)\n",
    "\n",
    "from pylab import rcParams\n",
    "rcParams['figure.figsize']=(14,8)\n",
    "\n",
    "x=list(frame['Cmp'])\n",
    "y=list(frame['Cwin'])\n",
    "labels=list(frame['Player'])\n",
    "\n",
    "plt.plot(x,y,linestyle='none',marker='.',markersize=12)\n",
    "plt.xlabel('Combined Matches Played')\n",
    "plt.title('Players with the Most Combined Wins')\n",
    "plt.xticks(np.arange(45,105,5))\n",
    "plt.yticks(np.arange(25,60,5))\n",
    "\n",
    "n= list(frame['Cpct'])\n",
    "for i, txt in enumerate(n):\n",
    "    plt.annotate('{}\\n    {}%'.format(labels[i],txt),   (frame.ix[i+1,'Cmp']+1,frame.ix[i+1,'Cwin']-1)  )"
   ]
  },
  {
   "cell_type": "code",
   "execution_count": 137,
   "metadata": {},
   "outputs": [],
   "source": [
    "def viz(n=7,df=frame,x='Cmp',cat='Cwin',kind='scatter',rot=0,limit=0):\n",
    "    frame = stats[stats[x]>=limit].nlargest(n,cat)\n",
    "    frame.index= pd.RangeIndex(start=1, stop=len(frame)+1, step=1)\n",
    "\n",
    "    frame.plot(x,cat,kind)\n",
    "    minx = min(frame[x]-10)//5*5+5\n",
    "    maxx = max(frame[x]+10)//5*5+5\n",
    "    miny = min(frame[cat]-10)//5*5+5\n",
    "    maxy = max(frame[cat]+10)//5*5+5\n",
    "    plt.xticks(np.arange(minx,maxx,5))\n",
    "    plt.yticks(np.arange(miny,maxy,5))\n",
    "\n",
    "    plt.xlabel(x)\n",
    "    plt.title('Players with the Most {}'.format(cat))\n",
    "\n",
    "    labels=list(frame['Player'])\n",
    "    n= list(frame[cat])\n",
    "    for i, txt in enumerate(n):\n",
    "        plt.annotate('{}\\n    {}%'.format(labels[i],txt),   (frame.loc[i+1,x]+1,frame.loc[i+1,cat]-1),rotation=rot  )"
   ]
  },
  {
   "cell_type": "code",
   "execution_count": 138,
   "metadata": {},
   "outputs": [
    {
     "data": {
      "image/png": "[encoded data removed]",
      "text/plain": [
       "<Figure size 1008x576 with 1 Axes>"
      ]
     },
     "metadata": {},
     "output_type": "display_data"
    }
   ],
   "source": [
    "viz(x='Dmp',cat='Dwin',limit=30)"
   ]
  },
  {
   "cell_type": "code",
   "execution_count": null,
   "metadata": {},
   "outputs": [],
   "source": []
  },
  {
   "cell_type": "code",
   "execution_count": null,
   "metadata": {},
   "outputs": [],
   "source": []
  },
  {
   "cell_type": "code",
   "execution_count": null,
   "metadata": {},
   "outputs": [],
   "source": []
  },
  {
   "cell_type": "code",
   "execution_count": null,
   "metadata": {},
   "outputs": [],
   "source": []
  },
  {
   "cell_type": "code",
   "execution_count": null,
   "metadata": {},
   "outputs": [],
   "source": []
  },
  {
   "cell_type": "code",
   "execution_count": null,
   "metadata": {},
   "outputs": [],
   "source": []
  },
  {
   "cell_type": "code",
   "execution_count": null,
   "metadata": {},
   "outputs": [],
   "source": []
  },
  {
   "cell_type": "code",
   "execution_count": null,
   "metadata": {},
   "outputs": [],
   "source": []
  },
  {
   "cell_type": "code",
   "execution_count": null,
   "metadata": {},
   "outputs": [],
   "source": []
  },
  {
   "cell_type": "code",
   "execution_count": null,
   "metadata": {},
   "outputs": [],
   "source": []
  },
  {
   "cell_type": "code",
   "execution_count": null,
   "metadata": {},
   "outputs": [],
   "source": []
  },
  {
   "cell_type": "code",
   "execution_count": 111,
   "metadata": {},
   "outputs": [
    {
     "data": {
      "text/plain": [
       "[<matplotlib.lines.Line2D at 0x1addcbf7f0>]"
      ]
     },
     "execution_count": 111,
     "metadata": {},
     "output_type": "execute_result"
    },
    {
     "data": {
      "text/plain": [
       "Text(0.5,0,'Doubles Matches Played')"
      ]
     },
     "execution_count": 111,
     "metadata": {},
     "output_type": "execute_result"
    },
    {
     "data": {
      "text/plain": [
       "Text(0,0.5,'Doubles Wins')"
      ]
     },
     "execution_count": 111,
     "metadata": {},
     "output_type": "execute_result"
    },
    {
     "data": {
      "text/plain": [
       "Text(0.5,1,'Players with the Most Doubles Wins')"
      ]
     },
     "execution_count": 111,
     "metadata": {},
     "output_type": "execute_result"
    },
    {
     "data": {
      "text/plain": [
       "([<matplotlib.axis.XTick at 0x1addc9e898>,\n",
       "  <matplotlib.axis.XTick at 0x1addc98fd0>,\n",
       "  <matplotlib.axis.XTick at 0x1addc98da0>,\n",
       "  <matplotlib.axis.XTick at 0x1addccf400>,\n",
       "  <matplotlib.axis.XTick at 0x1addccf908>,\n",
       "  <matplotlib.axis.XTick at 0x1addccfdd8>,\n",
       "  <matplotlib.axis.XTick at 0x1addcd0358>,\n",
       "  <matplotlib.axis.XTick at 0x1addcd0898>,\n",
       "  <matplotlib.axis.XTick at 0x1addccfd68>],\n",
       " <a list of 9 Text xticklabel objects>)"
      ]
     },
     "execution_count": 111,
     "metadata": {},
     "output_type": "execute_result"
    },
    {
     "data": {
      "text/plain": [
       "([<matplotlib.axis.YTick at 0x1addcaa780>,\n",
       "  <matplotlib.axis.YTick at 0x1addc9efd0>,\n",
       "  <matplotlib.axis.YTick at 0x1addc98dd8>,\n",
       "  <matplotlib.axis.YTick at 0x1addcd8240>],\n",
       " <a list of 4 Text yticklabel objects>)"
      ]
     },
     "execution_count": 111,
     "metadata": {},
     "output_type": "execute_result"
    },
    {
     "data": {
      "text/plain": [
       "Text(48.7,26.4,'Johnny Archer\\n    54.0%')"
      ]
     },
     "execution_count": 111,
     "metadata": {},
     "output_type": "execute_result"
    },
    {
     "data": {
      "text/plain": [
       "Text(42.7,26.4,'Ralf Souquet\\n    61.36%')"
      ]
     },
     "execution_count": 111,
     "metadata": {},
     "output_type": "execute_result"
    },
    {
     "data": {
      "text/plain": [
       "Text(34.7,23.4,'Earl Strickland\\n    66.67%')"
      ]
     },
     "execution_count": 111,
     "metadata": {},
     "output_type": "execute_result"
    },
    {
     "data": {
      "text/plain": [
       "Text(31.7,23.4,'Niels Feijen\\n    72.73%')"
      ]
     },
     "execution_count": 111,
     "metadata": {},
     "output_type": "execute_result"
    },
    {
     "data": {
      "text/plain": [
       "Text(37.7,21.4,'Mika Immonen\\n    56.41%')"
      ]
     },
     "execution_count": 111,
     "metadata": {},
     "output_type": "execute_result"
    },
    {
     "data": {
      "text/plain": [
       "Text(23.7,12.4,'Corey Deuel\\n    52.0%')"
      ]
     },
     "execution_count": 111,
     "metadata": {},
     "output_type": "execute_result"
    },
    {
     "data": {
      "text/plain": [
       "Text(27.7,11.4,'Rodney Morris\\n    41.38%')"
      ]
     },
     "execution_count": 111,
     "metadata": {},
     "output_type": "execute_result"
    },
    {
     "data": {
      "image/png": "[encoded data removed]",
      "text/plain": [
       "<Figure size 1008x576 with 1 Axes>"
      ]
     },
     "metadata": {},
     "output_type": "display_data"
    }
   ],
   "source": [
    "frame = stats.nlargest(7,'Dwin')\n",
    "frame.index= pd.RangeIndex(start=1, stop=len(frame)+1, step=1)\n",
    "\n",
    "x=list(frame['Dmp'])\n",
    "y=list(frame['Dwin'])\n",
    "labels=list(frame['Player'])\n",
    "\n",
    "plt.plot(x,y,linestyle='none',marker='.',markersize=12)\n",
    "plt.xlabel('Doubles Matches Played')\n",
    "plt.ylabel('Doubles Wins')\n",
    "plt.title('Players with the Most Doubles Wins')\n",
    "plt.xticks(np.arange(20,65,5))\n",
    "plt.yticks(np.arange(10,30,5))\n",
    "\n",
    "n= list(frame['Dpct'])\n",
    "for i, txt in enumerate(n):\n",
    "    plt.annotate('{}\\n    {}%'.format(labels[i],txt), (frame.loc[i+1,'Dmp']-1.3,frame.loc[i+1,'Dwin']-.6),rotation=15)"
   ]
  },
  {
   "cell_type": "code",
   "execution_count": 120,
   "metadata": {
    "scrolled": true
   },
   "outputs": [
    {
     "data": {
      "text/plain": [
       "[<matplotlib.lines.Line2D at 0x1add1e3ef0>]"
      ]
     },
     "execution_count": 120,
     "metadata": {},
     "output_type": "execute_result"
    },
    {
     "data": {
      "text/plain": [
       "Text(0.5,0,'Combined Matches Played')"
      ]
     },
     "execution_count": 120,
     "metadata": {},
     "output_type": "execute_result"
    },
    {
     "data": {
      "text/plain": [
       "Text(0,0.5,'Combined Win Percentage')"
      ]
     },
     "execution_count": 120,
     "metadata": {},
     "output_type": "execute_result"
    },
    {
     "data": {
      "text/plain": [
       "Text(0.5,1,'Players with the Highest Combined Win Percentage \\n (must have at least 10 matches)')"
      ]
     },
     "execution_count": 120,
     "metadata": {},
     "output_type": "execute_result"
    },
    {
     "data": {
      "text/plain": [
       "([<matplotlib.axis.XTick at 0x1adda81fd0>,\n",
       "  <matplotlib.axis.XTick at 0x1adda81898>,\n",
       "  <matplotlib.axis.XTick at 0x1adda815f8>,\n",
       "  <matplotlib.axis.XTick at 0x1add1f5b38>,\n",
       "  <matplotlib.axis.XTick at 0x1add1f5cf8>,\n",
       "  <matplotlib.axis.XTick at 0x1add1e1518>,\n",
       "  <matplotlib.axis.XTick at 0x1add1e1a58>,\n",
       "  <matplotlib.axis.XTick at 0x1add1e1f60>,\n",
       "  <matplotlib.axis.XTick at 0x1add1df518>,\n",
       "  <matplotlib.axis.XTick at 0x1add1dfa58>,\n",
       "  <matplotlib.axis.XTick at 0x1add1e1c88>,\n",
       "  <matplotlib.axis.XTick at 0x1add1f5f98>,\n",
       "  <matplotlib.axis.XTick at 0x1add1df080>,\n",
       "  <matplotlib.axis.XTick at 0x1add1d5550>,\n",
       "  <matplotlib.axis.XTick at 0x1add1d5a90>,\n",
       "  <matplotlib.axis.XTick at 0x1add1d5e80>,\n",
       "  <matplotlib.axis.XTick at 0x1add1fc550>,\n",
       "  <matplotlib.axis.XTick at 0x1add1fca90>,\n",
       "  <matplotlib.axis.XTick at 0x1add1fce80>],\n",
       " <a list of 19 Text xticklabel objects>)"
      ]
     },
     "execution_count": 120,
     "metadata": {},
     "output_type": "execute_result"
    },
    {
     "data": {
      "text/plain": [
       "([<matplotlib.axis.YTick at 0x1adda87eb8>,\n",
       "  <matplotlib.axis.YTick at 0x1adda87710>,\n",
       "  <matplotlib.axis.YTick at 0x1adda81630>,\n",
       "  <matplotlib.axis.YTick at 0x1add1d5ef0>,\n",
       "  <matplotlib.axis.YTick at 0x1add01b160>,\n",
       "  <matplotlib.axis.YTick at 0x1add01b2e8>,\n",
       "  <matplotlib.axis.YTick at 0x1add01b470>],\n",
       " <a list of 7 Text yticklabel objects>)"
      ]
     },
     "execution_count": 120,
     "metadata": {},
     "output_type": "execute_result"
    },
    {
     "name": "stderr",
     "output_type": "stream",
     "text": [
      "C:\\Anaconda3\\lib\\site-packages\\ipykernel_launcher.py:21: DeprecationWarning: \n",
      ".ix is deprecated. Please use\n",
      ".loc for label based indexing or\n",
      ".iloc for positional indexing\n",
      "\n",
      "See the documentation here:\n",
      "http://pandas.pydata.org/pandas-docs/stable/indexing.html#ix-indexer-is-deprecated\n"
     ]
    },
    {
     "data": {
      "text/plain": [
       "Text(12,80.82,'Albin Ouschan\\n    81.82%')"
      ]
     },
     "execution_count": 120,
     "metadata": {},
     "output_type": "execute_result"
    },
    {
     "data": {
      "text/plain": [
       "Text(23,76.27,'Karl Boyes\\n    77.27%')"
      ]
     },
     "execution_count": 120,
     "metadata": {},
     "output_type": "execute_result"
    },
    {
     "data": {
      "text/plain": [
       "Text(11,69,'Shannon Daulton\\n    70.0%')"
      ]
     },
     "execution_count": 120,
     "metadata": {},
     "output_type": "execute_result"
    },
    {
     "data": {
      "text/plain": [
       "Text(63,65.13,'Niels Feijen\\n    66.13%')"
      ]
     },
     "execution_count": 120,
     "metadata": {},
     "output_type": "execute_result"
    },
    {
     "data": {
      "text/plain": [
       "Text(12,62.64,'Tom Storm\\n    63.64%')"
      ]
     },
     "execution_count": 120,
     "metadata": {},
     "output_type": "execute_result"
    },
    {
     "data": {
      "text/plain": [
       "Text(70,61.32,'Earl Strickland\\n    62.32%')"
      ]
     },
     "execution_count": 120,
     "metadata": {},
     "output_type": "execute_result"
    },
    {
     "data": {
      "text/plain": [
       "Text(16,59,'Kim Davenport\\n    60.0%')"
      ]
     },
     "execution_count": 120,
     "metadata": {},
     "output_type": "execute_result"
    },
    {
     "data": {
      "text/plain": [
       "Text(88,58.77,'Ralf Souquet\\n    59.77%')"
      ]
     },
     "execution_count": 120,
     "metadata": {},
     "output_type": "execute_result"
    },
    {
     "data": {
      "text/plain": [
       "Text(13,57.33,'Chris Melling\\n    58.33%')"
      ]
     },
     "execution_count": 120,
     "metadata": {},
     "output_type": "execute_result"
    },
    {
     "data": {
      "text/plain": [
       "Text(48,56.45,'Corey Deuel\\n    57.45%')"
      ]
     },
     "execution_count": 120,
     "metadata": {},
     "output_type": "execute_result"
    },
    {
     "data": {
      "image/png": "[encoded data removed]",
      "text/plain": [
       "<Figure size 1008x576 with 1 Axes>"
      ]
     },
     "metadata": {},
     "output_type": "display_data"
    }
   ],
   "source": [
    "frame = stats[stats['Cmp']>=10].nlargest(10,'Cpct')\n",
    "\n",
    "frame.index= pd.RangeIndex(start=1, stop=11, step=1)\n",
    "\n",
    "# from pylab import rcParams\n",
    "# rcParams['figure.figsize']=(14,8)\n",
    "\n",
    "x=list(frame['Cmp'])\n",
    "y=list(frame['Cpct'])\n",
    "labels=list(frame['Player'])\n",
    "\n",
    "plt.plot(x,y,linestyle='none',marker='.',markersize=12)\n",
    "plt.xlabel('Combined Matches Played')\n",
    "plt.ylabel('Combined Win Percentage')\n",
    "plt.title('Players with the Highest Combined Win Percentage \\n (must have at least 10 matches)')\n",
    "plt.xticks(np.arange(10,105,5))\n",
    "plt.yticks(np.arange(50,85,5))\n",
    "\n",
    "n= list(frame['Cpct'])\n",
    "for i, txt in enumerate(n):\n",
    "    plt.annotate('{}\\n    {}%'.format(labels[i],txt), (frame.ix[i+1,'Cmp']+1,frame.ix[i+1,'Cpct']-1))"
   ]
  },
  {
   "cell_type": "code",
   "execution_count": 129,
   "metadata": {},
   "outputs": [
    {
     "data": {
      "image/png": "[encoded data removed]",
      "text/plain": [
       "<Figure size 1008x576 with 1 Axes>"
      ]
     },
     "metadata": {},
     "output_type": "display_data"
    }
   ],
   "source": [
    "viz(n=10,x='Cmp',cat='Cpct',limit=10)"
   ]
  },
  {
   "cell_type": "code",
   "execution_count": 133,
   "metadata": {},
   "outputs": [
    {
     "data": {
      "text/plain": [
       "[<matplotlib.lines.Line2D at 0x1ae0006f98>]"
      ]
     },
     "execution_count": 133,
     "metadata": {},
     "output_type": "execute_result"
    },
    {
     "data": {
      "text/plain": [
       "Text(0.5,0,'Singles Matches Played')"
      ]
     },
     "execution_count": 133,
     "metadata": {},
     "output_type": "execute_result"
    },
    {
     "data": {
      "text/plain": [
       "Text(0,0.5,'Singles Win Percentage')"
      ]
     },
     "execution_count": 133,
     "metadata": {},
     "output_type": "execute_result"
    },
    {
     "data": {
      "text/plain": [
       "Text(0.5,1,'Players with the Highest Singles Win Percentage \\n (must have at least 10 matches)')"
      ]
     },
     "execution_count": 133,
     "metadata": {},
     "output_type": "execute_result"
    },
    {
     "data": {
      "text/plain": [
       "([<matplotlib.axis.XTick at 0x1adffe9198>,\n",
       "  <matplotlib.axis.XTick at 0x1adffe49b0>,\n",
       "  <matplotlib.axis.XTick at 0x1adffe4710>,\n",
       "  <matplotlib.axis.XTick at 0x1ae000fc18>,\n",
       "  <matplotlib.axis.XTick at 0x1ae000f8d0>,\n",
       "  <matplotlib.axis.XTick at 0x1ae00195f8>,\n",
       "  <matplotlib.axis.XTick at 0x1ae0019b38>],\n",
       " <a list of 7 Text xticklabel objects>)"
      ]
     },
     "execution_count": 133,
     "metadata": {},
     "output_type": "execute_result"
    },
    {
     "data": {
      "text/plain": [
       "([<matplotlib.axis.YTick at 0x1adffe9fd0>,\n",
       "  <matplotlib.axis.YTick at 0x1adffe9898>,\n",
       "  <matplotlib.axis.YTick at 0x1adffe4748>,\n",
       "  <matplotlib.axis.YTick at 0x1ae000fcc0>,\n",
       "  <matplotlib.axis.YTick at 0x1ae001c588>],\n",
       " <a list of 5 Text yticklabel objects>)"
      ]
     },
     "execution_count": 133,
     "metadata": {},
     "output_type": "execute_result"
    },
    {
     "name": "stderr",
     "output_type": "stream",
     "text": [
      "C:\\Anaconda3\\lib\\site-packages\\ipykernel_launcher.py:21: DeprecationWarning: \n",
      ".ix is deprecated. Please use\n",
      ".loc for label based indexing or\n",
      ".iloc for positional indexing\n",
      "\n",
      "See the documentation here:\n",
      "http://pandas.pydata.org/pandas-docs/stable/indexing.html#ix-indexer-is-deprecated\n"
     ]
    },
    {
     "data": {
      "text/plain": [
       "Text(15,70.43,'Darren Appleton\\n    71.43%')"
      ]
     },
     "execution_count": 133,
     "metadata": {},
     "output_type": "execute_result"
    },
    {
     "data": {
      "text/plain": [
       "Text(34,59.61,'Ralf Souquet\\n    60.61%')"
      ]
     },
     "execution_count": 133,
     "metadata": {},
     "output_type": "execute_result"
    },
    {
     "data": {
      "text/plain": [
       "Text(21,59,'Niels Feijen\\n    60.0%')"
      ]
     },
     "execution_count": 133,
     "metadata": {},
     "output_type": "execute_result"
    },
    {
     "data": {
      "text/plain": [
       "Text(31,55.67,'Johnny Archer\\n    56.67%')"
      ]
     },
     "execution_count": 133,
     "metadata": {},
     "output_type": "execute_result"
    },
    {
     "data": {
      "text/plain": [
       "Text(19,54.56,'Rodney Morris\\n    55.56%')"
      ]
     },
     "execution_count": 133,
     "metadata": {},
     "output_type": "execute_result"
    },
    {
     "data": {
      "text/plain": [
       "Text(27,52.85,'Earl Strickland\\n    53.85%')"
      ]
     },
     "execution_count": 133,
     "metadata": {},
     "output_type": "execute_result"
    },
    {
     "data": {
      "text/plain": [
       "Text(14,52.85,'Corey Deuel\\n    53.85%')"
      ]
     },
     "execution_count": 133,
     "metadata": {},
     "output_type": "execute_result"
    },
    {
     "data": {
      "text/plain": [
       "Text(22,51.38,'Oliver Ortmann\\n    52.38%')"
      ]
     },
     "execution_count": 133,
     "metadata": {},
     "output_type": "execute_result"
    },
    {
     "data": {
      "text/plain": [
       "Text(28,50.85,'Steve Davis\\n    51.85%')"
      ]
     },
     "execution_count": 133,
     "metadata": {},
     "output_type": "execute_result"
    },
    {
     "data": {
      "text/plain": [
       "Text(15,49,'Jeremy Jones\\n    50.0%')"
      ]
     },
     "execution_count": 133,
     "metadata": {},
     "output_type": "execute_result"
    },
    {
     "data": {
      "image/png": "[encoded data removed]",
      "text/plain": [
       "<Figure size 1008x576 with 1 Axes>"
      ]
     },
     "metadata": {},
     "output_type": "display_data"
    }
   ],
   "source": [
    "frame = stats[stats['Smp']>=10].nlargest(10,'Spct')\n",
    "\n",
    "frame.index= pd.RangeIndex(start=1, stop=11, step=1)\n",
    "\n",
    "# from pylab import rcParams\n",
    "# rcParams['figure.figsize']=(14,8)\n",
    "\n",
    "x=list(frame['Smp'])\n",
    "y=list(frame['Spct'])\n",
    "labels=list(frame['Player'])\n",
    "\n",
    "plt.plot(x,y,linestyle='none',marker='.',markersize=12)\n",
    "plt.xlabel('Singles Matches Played')\n",
    "plt.ylabel('Singles Win Percentage')\n",
    "plt.title('Players with the Highest Singles Win Percentage \\n (must have at least 10 matches)')\n",
    "plt.xticks(np.arange(10,45,5))\n",
    "plt.yticks(np.arange(50,75,5))\n",
    "\n",
    "n= list(frame['Spct'])\n",
    "for i, txt in enumerate(n):\n",
    "    plt.annotate('{}\\n    {}%'.format(labels[i],txt), (frame.ix[i+1,'Smp']+1,frame.ix[i+1,'Spct']-1))"
   ]
  },
  {
   "cell_type": "code",
   "execution_count": 139,
   "metadata": {},
   "outputs": [
    {
     "data": {
      "image/png": "[encoded data removed]",
      "text/plain": [
       "<Figure size 1008x576 with 1 Axes>"
      ]
     },
     "metadata": {},
     "output_type": "display_data"
    }
   ],
   "source": [
    "viz(x='Smp',cat='Spct',limit=10)"
   ]
  },
  {
   "cell_type": "code",
   "execution_count": 140,
   "metadata": {
    "scrolled": true
   },
   "outputs": [
    {
     "data": {
      "text/plain": [
       "[<matplotlib.lines.Line2D at 0x1ae05a6438>]"
      ]
     },
     "execution_count": 140,
     "metadata": {},
     "output_type": "execute_result"
    },
    {
     "data": {
      "text/plain": [
       "Text(0.5,0,'Doubles Matches Played')"
      ]
     },
     "execution_count": 140,
     "metadata": {},
     "output_type": "execute_result"
    },
    {
     "data": {
      "text/plain": [
       "Text(0,0.5,'Doubles Win Percentage')"
      ]
     },
     "execution_count": 140,
     "metadata": {},
     "output_type": "execute_result"
    },
    {
     "data": {
      "text/plain": [
       "Text(0.5,1,'Players with the Highest Doubles Win Percentage \\n (must have at least 10 matches)')"
      ]
     },
     "execution_count": 140,
     "metadata": {},
     "output_type": "execute_result"
    },
    {
     "data": {
      "text/plain": [
       "([<matplotlib.axis.XTick at 0x1ae02255c0>,\n",
       "  <matplotlib.axis.XTick at 0x1ae022de48>,\n",
       "  <matplotlib.axis.XTick at 0x1ae022dc18>,\n",
       "  <matplotlib.axis.XTick at 0x1ae05a6e48>,\n",
       "  <matplotlib.axis.XTick at 0x1ae05b3518>,\n",
       "  <matplotlib.axis.XTick at 0x1ae05b39e8>,\n",
       "  <matplotlib.axis.XTick at 0x1ae05b3eb8>,\n",
       "  <matplotlib.axis.XTick at 0x1ae05b3908>,\n",
       "  <matplotlib.axis.XTick at 0x1ae05b35f8>,\n",
       "  <matplotlib.axis.XTick at 0x1ae05b7908>,\n",
       "  <matplotlib.axis.XTick at 0x1ae05b7e48>],\n",
       " <a list of 11 Text xticklabel objects>)"
      ]
     },
     "execution_count": 140,
     "metadata": {},
     "output_type": "execute_result"
    },
    {
     "data": {
      "text/plain": [
       "([<matplotlib.axis.YTick at 0x1ae022e470>,\n",
       "  <matplotlib.axis.YTick at 0x1ae0225cc0>,\n",
       "  <matplotlib.axis.YTick at 0x1ae0230780>,\n",
       "  <matplotlib.axis.YTick at 0x1ae05bea90>,\n",
       "  <matplotlib.axis.YTick at 0x1ae05bef60>,\n",
       "  <matplotlib.axis.YTick at 0x1ae05c6470>,\n",
       "  <matplotlib.axis.YTick at 0x1ae05c6940>],\n",
       " <a list of 7 Text yticklabel objects>)"
      ]
     },
     "execution_count": 140,
     "metadata": {},
     "output_type": "execute_result"
    },
    {
     "name": "stderr",
     "output_type": "stream",
     "text": [
      "C:\\Anaconda3\\lib\\site-packages\\ipykernel_launcher.py:21: DeprecationWarning: \n",
      ".ix is deprecated. Please use\n",
      ".loc for label based indexing or\n",
      ".iloc for positional indexing\n",
      "\n",
      "See the documentation here:\n",
      "http://pandas.pydata.org/pandas-docs/stable/indexing.html#ix-indexer-is-deprecated\n"
     ]
    },
    {
     "data": {
      "text/plain": [
       "Text(13,82.33,'Karl Boyes\\n    83.33%')"
      ]
     },
     "execution_count": 140,
     "metadata": {},
     "output_type": "execute_result"
    },
    {
     "data": {
      "text/plain": [
       "Text(34,71.73,'Niels Feijen\\n    72.73%')"
      ]
     },
     "execution_count": 140,
     "metadata": {},
     "output_type": "execute_result"
    },
    {
     "data": {
      "text/plain": [
       "Text(37,65.67,'Earl Strickland\\n    66.67%')"
      ]
     },
     "execution_count": 140,
     "metadata": {},
     "output_type": "execute_result"
    },
    {
     "data": {
      "text/plain": [
       "Text(45,60.36,'Ralf Souquet\\n    61.36%')"
      ]
     },
     "execution_count": 140,
     "metadata": {},
     "output_type": "execute_result"
    },
    {
     "data": {
      "text/plain": [
       "Text(40,55.41,'Mika Immonen\\n    56.41%')"
      ]
     },
     "execution_count": 140,
     "metadata": {},
     "output_type": "execute_result"
    },
    {
     "data": {
      "text/plain": [
       "Text(51,53,'Johnny Archer\\n    54.0%')"
      ]
     },
     "execution_count": 140,
     "metadata": {},
     "output_type": "execute_result"
    },
    {
     "data": {
      "text/plain": [
       "Text(20,51.63,'Jeremy Jones\\n    52.63%')"
      ]
     },
     "execution_count": 140,
     "metadata": {},
     "output_type": "execute_result"
    },
    {
     "data": {
      "text/plain": [
       "Text(26,51,'Corey Deuel\\n    52.0%')"
      ]
     },
     "execution_count": 140,
     "metadata": {},
     "output_type": "execute_result"
    },
    {
     "data": {
      "image/png": "[encoded data removed]",
      "text/plain": [
       "<Figure size 1008x576 with 1 Axes>"
      ]
     },
     "metadata": {},
     "output_type": "display_data"
    }
   ],
   "source": [
    "frame = stats[stats['Dmp']>=10].nlargest(8,'Dpct')\n",
    "\n",
    "frame.index= pd.RangeIndex(start=1, stop=9, step=1)\n",
    "\n",
    "# from pylab import rcParams\n",
    "# rcParams['figure.figsize']=(14,8)\n",
    "\n",
    "x=list(frame['Dmp'])\n",
    "y=list(frame['Dpct'])\n",
    "labels=list(frame['Player'])\n",
    "\n",
    "plt.plot(x,y,linestyle='none',marker='.',markersize=12)\n",
    "plt.xlabel('Doubles Matches Played')\n",
    "plt.ylabel('Doubles Win Percentage')\n",
    "plt.title('Players with the Highest Doubles Win Percentage \\n (must have at least 10 matches)')\n",
    "plt.xticks(np.arange(10,65,5))\n",
    "plt.yticks(np.arange(50,85,5))\n",
    "\n",
    "n= list(frame['Dpct'])\n",
    "for i, txt in enumerate(n):\n",
    "    plt.annotate('{}\\n    {}%'.format(labels[i],txt), (frame.ix[i+1,'Dmp']+1,frame.ix[i+1,'Dpct']-1))"
   ]
  },
  {
   "cell_type": "code",
   "execution_count": 141,
   "metadata": {
    "scrolled": true
   },
   "outputs": [
    {
     "data": {
      "text/plain": [
       "[<matplotlib.lines.Line2D at 0x1ae02059e8>]"
      ]
     },
     "execution_count": 141,
     "metadata": {},
     "output_type": "execute_result"
    },
    {
     "data": {
      "text/plain": [
       "Text(0.5,0,'Doubles Matches Played')"
      ]
     },
     "execution_count": 141,
     "metadata": {},
     "output_type": "execute_result"
    },
    {
     "data": {
      "text/plain": [
       "Text(0,0.5,'Doubles Win Percentage')"
      ]
     },
     "execution_count": 141,
     "metadata": {},
     "output_type": "execute_result"
    },
    {
     "data": {
      "text/plain": [
       "Text(0.5,1,'Players with the Highest Doubles Win Percentage \\n (must have at least 10 matches)')"
      ]
     },
     "execution_count": 141,
     "metadata": {},
     "output_type": "execute_result"
    },
    {
     "data": {
      "text/plain": [
       "([<matplotlib.axis.XTick at 0x1ae01e5748>,\n",
       "  <matplotlib.axis.XTick at 0x1ae08414e0>,\n",
       "  <matplotlib.axis.XTick at 0x1ae01fed30>,\n",
       "  <matplotlib.axis.XTick at 0x1ae01fea90>,\n",
       "  <matplotlib.axis.XTick at 0x1ae01feb70>,\n",
       "  <matplotlib.axis.XTick at 0x1ae02103c8>,\n",
       "  <matplotlib.axis.XTick at 0x1ae0210160>,\n",
       "  <matplotlib.axis.XTick at 0x1adff935f8>,\n",
       "  <matplotlib.axis.XTick at 0x1adff93780>,\n",
       "  <matplotlib.axis.XTick at 0x1ae02100f0>,\n",
       "  <matplotlib.axis.XTick at 0x1adff936a0>],\n",
       " <a list of 11 Text xticklabel objects>)"
      ]
     },
     "execution_count": 141,
     "metadata": {},
     "output_type": "execute_result"
    },
    {
     "data": {
      "text/plain": [
       "([<matplotlib.axis.YTick at 0x1ae01ec438>,\n",
       "  <matplotlib.axis.YTick at 0x1ae01e5cf8>,\n",
       "  <matplotlib.axis.YTick at 0x1ae083fc18>,\n",
       "  <matplotlib.axis.YTick at 0x1adff86fd0>,\n",
       "  <matplotlib.axis.YTick at 0x1adff86cf8>,\n",
       "  <matplotlib.axis.YTick at 0x1adff8cbe0>,\n",
       "  <matplotlib.axis.YTick at 0x1adff8c9e8>],\n",
       " <a list of 7 Text yticklabel objects>)"
      ]
     },
     "execution_count": 141,
     "metadata": {},
     "output_type": "execute_result"
    },
    {
     "name": "stderr",
     "output_type": "stream",
     "text": [
      "C:\\Anaconda3\\lib\\site-packages\\ipykernel_launcher.py:21: DeprecationWarning: \n",
      ".ix is deprecated. Please use\n",
      ".loc for label based indexing or\n",
      ".iloc for positional indexing\n",
      "\n",
      "See the documentation here:\n",
      "http://pandas.pydata.org/pandas-docs/stable/indexing.html#ix-indexer-is-deprecated\n"
     ]
    },
    {
     "data": {
      "text/plain": [
       "Text(13,82.33,'Karl Boyes\\n  (12 wins, 83.0%)\\n  83.33%')"
      ]
     },
     "execution_count": 141,
     "metadata": {},
     "output_type": "execute_result"
    },
    {
     "data": {
      "text/plain": [
       "Text(34,71.73,'Niels Feijen\\n  (33 wins, 73.0%)\\n  72.73%')"
      ]
     },
     "execution_count": 141,
     "metadata": {},
     "output_type": "execute_result"
    },
    {
     "data": {
      "text/plain": [
       "Text(37,65.67,'Earl Strickland\\n  (36 wins, 67.0%)\\n  66.67%')"
      ]
     },
     "execution_count": 141,
     "metadata": {},
     "output_type": "execute_result"
    },
    {
     "data": {
      "text/plain": [
       "Text(45,60.36,'Ralf Souquet\\n  (44 wins, 61.0%)\\n  61.36%')"
      ]
     },
     "execution_count": 141,
     "metadata": {},
     "output_type": "execute_result"
    },
    {
     "data": {
      "text/plain": [
       "Text(40,55.41,'Mika Immonen\\n  (39 wins, 56.0%)\\n  56.41%')"
      ]
     },
     "execution_count": 141,
     "metadata": {},
     "output_type": "execute_result"
    },
    {
     "data": {
      "text/plain": [
       "Text(51,53,'Johnny Archer\\n  (50 wins, 54.0%)\\n  54.0%')"
      ]
     },
     "execution_count": 141,
     "metadata": {},
     "output_type": "execute_result"
    },
    {
     "data": {
      "text/plain": [
       "Text(20,51.63,'Jeremy Jones\\n  (19 wins, 53.0%)\\n  52.63%')"
      ]
     },
     "execution_count": 141,
     "metadata": {},
     "output_type": "execute_result"
    },
    {
     "data": {
      "text/plain": [
       "Text(26,51,'Corey Deuel\\n  (25 wins, 52.0%)\\n  52.0%')"
      ]
     },
     "execution_count": 141,
     "metadata": {},
     "output_type": "execute_result"
    },
    {
     "data": {
      "image/png": "[encoded data removed]",
      "text/plain": [
       "<Figure size 1008x576 with 1 Axes>"
      ]
     },
     "metadata": {},
     "output_type": "display_data"
    }
   ],
   "source": [
    "frame = stats[stats['Dmp']>=10].nlargest(8,'Dpct')\n",
    "\n",
    "frame.index= pd.RangeIndex(start=1, stop=9, step=1)\n",
    "\n",
    "# from pylab import rcParams\n",
    "# rcParams['figure.figsize']=(14,8)\n",
    "\n",
    "x=list(frame['Dmp'])\n",
    "y=list(frame['Dpct'])\n",
    "labels=list(frame['Player'])\n",
    "\n",
    "plt.plot(x,y,linestyle='none',marker='.',markersize=12)\n",
    "plt.xlabel('Doubles Matches Played')\n",
    "plt.ylabel('Doubles Win Percentage')\n",
    "plt.title('Players with the Highest Doubles Win Percentage \\n (must have at least 10 matches)')\n",
    "plt.xticks(np.arange(10,65,5))\n",
    "plt.yticks(np.arange(50,85,5))\n",
    "\n",
    "n= list(frame['Dpct'])\n",
    "for i, txt in enumerate(n):\n",
    "    plt.annotate('{}\\n  ({} wins, {}%)\\n  {}%'.format(labels[i],x[i],round(y[i],0),txt), (frame.ix[i+1,'Dmp']+1,frame.ix[i+1,'Dpct']-1))"
   ]
  },
  {
   "cell_type": "code",
   "execution_count": 142,
   "metadata": {
    "scrolled": true
   },
   "outputs": [
    {
     "data": {
      "text/plain": [
       "<matplotlib.collections.PathCollection at 0x1adfd681d0>"
      ]
     },
     "execution_count": 142,
     "metadata": {},
     "output_type": "execute_result"
    },
    {
     "data": {
      "text/plain": [
       "<matplotlib.colorbar.Colorbar at 0x1adf923208>"
      ]
     },
     "execution_count": 142,
     "metadata": {},
     "output_type": "execute_result"
    },
    {
     "data": {
      "text/plain": [
       "Text(0.5,0,'Combined Matches Played')"
      ]
     },
     "execution_count": 142,
     "metadata": {},
     "output_type": "execute_result"
    },
    {
     "data": {
      "text/plain": [
       "Text(0,0.5,'Combined Win Percentage')"
      ]
     },
     "execution_count": 142,
     "metadata": {},
     "output_type": "execute_result"
    },
    {
     "data": {
      "text/plain": [
       "Text(0.5,1,'Players with the Highest Combined Win Percentage \\n (must have at least 10 matches)')"
      ]
     },
     "execution_count": 142,
     "metadata": {},
     "output_type": "execute_result"
    },
    {
     "data": {
      "text/plain": [
       "([<matplotlib.axis.XTick at 0x1adfd6fd30>,\n",
       "  <matplotlib.axis.XTick at 0x1adfd6f128>,\n",
       "  <matplotlib.axis.XTick at 0x1adfd6f588>,\n",
       "  <matplotlib.axis.XTick at 0x1adf95ab38>,\n",
       "  <matplotlib.axis.XTick at 0x1adf95aeb8>,\n",
       "  <matplotlib.axis.XTick at 0x1adf95a8d0>,\n",
       "  <matplotlib.axis.XTick at 0x1adf90b4e0>,\n",
       "  <matplotlib.axis.XTick at 0x1adf90b828>,\n",
       "  <matplotlib.axis.XTick at 0x1adf90b630>,\n",
       "  <matplotlib.axis.XTick at 0x1adf944358>,\n",
       "  <matplotlib.axis.XTick at 0x1adf944b00>,\n",
       "  <matplotlib.axis.XTick at 0x1adf944208>,\n",
       "  <matplotlib.axis.XTick at 0x1adf9444a8>,\n",
       "  <matplotlib.axis.XTick at 0x1adf961588>,\n",
       "  <matplotlib.axis.XTick at 0x1adf961048>,\n",
       "  <matplotlib.axis.XTick at 0x1ade56e898>,\n",
       "  <matplotlib.axis.XTick at 0x1ade56e5f8>,\n",
       "  <matplotlib.axis.XTick at 0x1ade56e9e8>,\n",
       "  <matplotlib.axis.XTick at 0x1ade567eb8>],\n",
       " <a list of 19 Text xticklabel objects>)"
      ]
     },
     "execution_count": 142,
     "metadata": {},
     "output_type": "execute_result"
    },
    {
     "data": {
      "text/plain": [
       "([<matplotlib.axis.YTick at 0x1adfd7e080>,\n",
       "  <matplotlib.axis.YTick at 0x1adfd7ec18>,\n",
       "  <matplotlib.axis.YTick at 0x1adfd6f0f0>,\n",
       "  <matplotlib.axis.YTick at 0x1ade56e550>,\n",
       "  <matplotlib.axis.YTick at 0x1ade567048>,\n",
       "  <matplotlib.axis.YTick at 0x1ade567940>,\n",
       "  <matplotlib.axis.YTick at 0x1ade577f28>],\n",
       " <a list of 7 Text yticklabel objects>)"
      ]
     },
     "execution_count": 142,
     "metadata": {},
     "output_type": "execute_result"
    },
    {
     "name": "stderr",
     "output_type": "stream",
     "text": [
      "C:\\Anaconda3\\lib\\site-packages\\ipykernel_launcher.py:26: DeprecationWarning: \n",
      ".ix is deprecated. Please use\n",
      ".loc for label based indexing or\n",
      ".iloc for positional indexing\n",
      "\n",
      "See the documentation here:\n",
      "http://pandas.pydata.org/pandas-docs/stable/indexing.html#ix-indexer-is-deprecated\n"
     ]
    },
    {
     "data": {
      "text/plain": [
       "Text(12,80.82,'Albin Ouschan\\n    81.82%')"
      ]
     },
     "execution_count": 142,
     "metadata": {},
     "output_type": "execute_result"
    },
    {
     "data": {
      "text/plain": [
       "Text(23,76.27,'Karl Boyes\\n    77.27%')"
      ]
     },
     "execution_count": 142,
     "metadata": {},
     "output_type": "execute_result"
    },
    {
     "data": {
      "text/plain": [
       "Text(11,69,'Shannon Daulton\\n    70.0%')"
      ]
     },
     "execution_count": 142,
     "metadata": {},
     "output_type": "execute_result"
    },
    {
     "data": {
      "text/plain": [
       "Text(63,65.13,'Niels Feijen\\n    66.13%')"
      ]
     },
     "execution_count": 142,
     "metadata": {},
     "output_type": "execute_result"
    },
    {
     "data": {
      "text/plain": [
       "Text(12,62.64,'Tom Storm\\n    63.64%')"
      ]
     },
     "execution_count": 142,
     "metadata": {},
     "output_type": "execute_result"
    },
    {
     "data": {
      "text/plain": [
       "Text(70,61.32,'Earl Strickland\\n    62.32%')"
      ]
     },
     "execution_count": 142,
     "metadata": {},
     "output_type": "execute_result"
    },
    {
     "data": {
      "text/plain": [
       "Text(16,59,'Kim Davenport\\n    60.0%')"
      ]
     },
     "execution_count": 142,
     "metadata": {},
     "output_type": "execute_result"
    },
    {
     "data": {
      "text/plain": [
       "Text(88,58.77,'Ralf Souquet\\n    59.77%')"
      ]
     },
     "execution_count": 142,
     "metadata": {},
     "output_type": "execute_result"
    },
    {
     "data": {
      "text/plain": [
       "Text(13,57.33,'Chris Melling\\n    58.33%')"
      ]
     },
     "execution_count": 142,
     "metadata": {},
     "output_type": "execute_result"
    },
    {
     "data": {
      "text/plain": [
       "Text(48,56.45,'Corey Deuel\\n    57.45%')"
      ]
     },
     "execution_count": 142,
     "metadata": {},
     "output_type": "execute_result"
    },
    {
     "data": {
      "image/png": "[encoded data removed]",
      "text/plain": [
       "<Figure size 1008x576 with 2 Axes>"
      ]
     },
     "metadata": {},
     "output_type": "display_data"
    }
   ],
   "source": [
    "frame = stats[stats['Cmp']>=10].nlargest(10,'Cpct')\n",
    "\n",
    "frame.index= pd.RangeIndex(start=1, stop=11, step=1)\n",
    "\n",
    "# from pylab import rcParams\n",
    "# rcParams['figure.figsize']=(14,8)\n",
    "\n",
    "x=list(frame['Cmp'])\n",
    "y=list(frame['Cpct'])\n",
    "labels=list(frame['Player'])\n",
    "\n",
    "colors = frame['Spct']\n",
    "sizes = frame['Dpct']\n",
    "\n",
    "plt.scatter(x, y, c=colors, s=sizes,cmap='viridis')\n",
    "plt.colorbar();  # show color scale\n",
    "# plt.plot(x,y,linestyle='none',marker='.',markersize=12)\n",
    "plt.xlabel('Combined Matches Played')\n",
    "plt.ylabel('Combined Win Percentage')\n",
    "plt.title('Players with the Highest Combined Win Percentage \\n (must have at least 10 matches)')\n",
    "plt.xticks(np.arange(10,105,5))\n",
    "plt.yticks(np.arange(50,85,5))\n",
    "\n",
    "n= list(frame['Cpct'])\n",
    "for i, txt in enumerate(n):\n",
    "    plt.annotate('{}\\n    {}%'.format(labels[i],txt), (frame.ix[i+1,'Cmp']+1,frame.ix[i+1,'Cpct']-1))"
   ]
  }
 ],
 "metadata": {
  "hide_input": false,
  "kernelspec": {
   "display_name": "Python 3",
   "language": "python",
   "name": "python3"
  },
  "language_info": {
   "codemirror_mode": {
    "name": "ipython",
    "version": 3
   },
   "file_extension": ".py",
   "mimetype": "text/x-python",
   "name": "python",
   "nbconvert_exporter": "python",
   "pygments_lexer": "ipython3",
   "version": "3.6.5"
  }
 },
 "nbformat": 4,
 "nbformat_minor": 2
}
